{
 "cells": [
  {
   "cell_type": "markdown",
   "metadata": {},
   "source": [
    "# Visualizing with plotly"
   ]
  },
  {
   "cell_type": "markdown",
   "metadata": {},
   "source": [
    "In this section we will use Plotly to make interactive plots. Please let us know if you have suggestions for new figures that could be made with Plotly."
   ]
  },
  {
   "cell_type": "code",
   "execution_count": null,
   "metadata": {
    "ExecuteTime": {
     "end_time": "2020-10-12T23:52:54.028080Z",
     "start_time": "2020-10-12T23:52:53.755443Z"
    },
    "execution": {
     "iopub.execute_input": "2020-11-26T01:56:36.078215Z",
     "iopub.status.busy": "2020-11-26T01:56:36.077884Z",
     "iopub.status.idle": "2020-11-26T01:56:38.782357Z",
     "shell.execute_reply": "2020-11-26T01:56:38.781596Z",
     "shell.execute_reply.started": "2020-11-26T01:56:36.078193Z"
    }
   },
   "outputs": [],
   "source": [
    "import numpy as np\n",
    "import pandas as pd\n",
    "\n",
    "try:\n",
    "    import mutagenesis_visualization as mut\n",
    "except ModuleNotFoundError:  # This step is only for when I run the notebooks locally\n",
    "    import sys\n",
    "    sys.path.append('../../')\n",
    "    import mutagenesis_visualization as mut"
   ]
  },
  {
   "cell_type": "markdown",
   "metadata": {},
   "source": [
    "Create objects."
   ]
  },
  {
   "cell_type": "code",
   "execution_count": null,
   "metadata": {
    "ExecuteTime": {
     "end_time": "2020-10-12T23:54:12.870572Z",
     "start_time": "2020-10-12T23:54:12.493985Z"
    },
    "execution": {
     "iopub.execute_input": "2020-11-26T01:56:38.785298Z",
     "iopub.status.busy": "2020-11-26T01:56:38.784612Z",
     "iopub.status.idle": "2020-11-26T01:56:39.271597Z",
     "shell.execute_reply": "2020-11-26T01:56:39.270888Z",
     "shell.execute_reply.started": "2020-11-26T01:56:38.785256Z"
    }
   },
   "outputs": [],
   "source": [
    "# Load enrichment scores. This is how you would load them from a local file.\n",
    "hras_enrichment_GAPGEF = np.genfromtxt(\n",
    "    '../data/HRas166_GAPGEF.csv', delimiter=','\n",
    ")\n",
    "\n",
    "hras_enrichment_RBD = np.genfromtxt('../data/HRas166_RBD.csv', delimiter=',')\n",
    "\n",
    "# Define protein sequence\n",
    "hras_sequence = 'MTEYKLVVVGAGGVGKSALTIQLIQNHFVDEYDPTIEDSYRKQVVIDGETCLLDILDTAGQEEY'\\\n",
    "                + 'SAMRDQYMRTGEGFLCVFAINNTKSFEDIHQYREQIKRVKDSDDVPMVLVGNKCDLAARTVES'\\\n",
    "                + 'RQAQDLARSYGIPYIETSAKTRQGVEDAFYTLVREIRQHKLRKLNPPDESGPG'\n",
    "\n",
    "# Order of amino acid substitutions in the hras_enrichment dataset\n",
    "aminoacids = list('ACDEFGHIKLMNPQRSTVWY*')\n",
    "\n",
    "# First residue of the hras_enrichment dataset. Because 1-Met was not mutated, the dataset starts at residue 2\n",
    "start_position = 2\n",
    "\n",
    "# Define secondary structure\n",
    "secondary = [['L0'], ['β1'] * (9 - 1), ['L1'] * (15 - 9), ['α1'] * (25 - 15),\n",
    "             ['L2'] * (36 - 25), ['β2'] * (46 - 36), ['L3'] * (48 - 46),\n",
    "             ['β3'] * (58 - 48), ['L4'] * (64 - 58), ['α2'] * (74 - 64),\n",
    "             ['L5'] * (76 - 74), ['β4'] * (83 - 76), ['L6'] * (86 - 83),\n",
    "             ['α3'] * (103 - 86), ['L7'] * (110 - 103), ['β5'] * (116 - 110),\n",
    "             ['L8'] * (126 - 116), ['α4'] * (137 - 126), ['L9'] * (140 - 137),\n",
    "             ['β6'] * (143 - 140), ['L10'] * (151 - 143), ['α5'] * (172 - 151),\n",
    "             ['L11'] * (190 - 172)]\n",
    "\n",
    "# Substitute Nan values with 0\n",
    "fillna = 0\n",
    "\n",
    "# Create objects\n",
    "hras_GAPGEF = mut.Screen(\n",
    "    hras_enrichment_GAPGEF, hras_sequence, aminoacids, start_position, fillna,\n",
    "    secondary\n",
    ")\n",
    "hras_RBD = mut.Screen(\n",
    "    hras_enrichment_RBD, hras_sequence, aminoacids, start_position, fillna,\n",
    "    secondary\n",
    ")"
   ]
  },
  {
   "cell_type": "markdown",
   "metadata": {},
   "source": [
    "## Rank"
   ]
  },
  {
   "cell_type": "markdown",
   "metadata": {},
   "source": [
    "Create an interactive rank figure that displays each mutant. You can export to an html file by giving a path to the variable ``output_html``."
   ]
  },
  {
   "cell_type": "code",
   "execution_count": null,
   "metadata": {
    "ExecuteTime": {
     "end_time": "2020-10-12T23:59:39.537099Z",
     "start_time": "2020-10-12T23:59:39.426512Z"
    },
    "execution": {
     "iopub.execute_input": "2020-11-26T01:58:43.436112Z",
     "iopub.status.busy": "2020-11-26T01:58:43.435741Z",
     "iopub.status.idle": "2020-11-26T01:58:43.611704Z",
     "shell.execute_reply": "2020-11-26T01:58:43.611013Z",
     "shell.execute_reply.started": "2020-11-26T01:58:43.436076Z"
    }
   },
   "outputs": [],
   "source": [
    "hras_RBD.rank_plotly(\n",
    "    title='Rank of pointmutants',\n",
    "    output_html='../../docs/html/hras_rankpointmutants.html'\n",
    ")"
   ]
  },
  {
   "cell_type": "raw",
   "metadata": {},
   "source": [
    ".. raw:: html\n",
    "    :file: html/hras_rankpointmutants.html"
   ]
  },
  {
   "cell_type": "markdown",
   "metadata": {},
   "source": [
    "Now display the rank of the positional mean."
   ]
  },
  {
   "cell_type": "code",
   "execution_count": null,
   "metadata": {
    "ExecuteTime": {
     "end_time": "2020-10-12T23:59:28.600801Z",
     "start_time": "2020-10-12T23:59:28.536616Z"
    },
    "execution": {
     "iopub.execute_input": "2020-11-26T01:58:40.314726Z",
     "iopub.status.busy": "2020-11-26T01:58:40.312768Z",
     "iopub.status.idle": "2020-11-26T01:58:40.451476Z",
     "shell.execute_reply": "2020-11-26T01:58:40.450801Z",
     "shell.execute_reply.started": "2020-11-26T01:58:40.314688Z"
    }
   },
   "outputs": [],
   "source": [
    "hras_RBD.rank_plotly(\n",
    "    mode='mean',\n",
    "    title='Rank of positions',\n",
    "    output_html='../../docs/html/hras_rankposition.html',\n",
    ")"
   ]
  },
  {
   "cell_type": "raw",
   "metadata": {},
   "source": [
    ".. raw:: html\n",
    "    :file: html/hras_rankposition.html"
   ]
  },
  {
   "cell_type": "markdown",
   "metadata": {},
   "source": [
    "The following property is applicable to any of the plotly figures. If you set ``return_plotly_object=True``, you will be able to get the plotly object and edit it."
   ]
  },
  {
   "cell_type": "code",
   "execution_count": null,
   "metadata": {},
   "outputs": [],
   "source": [
    "# Obtain the object\n",
    "rank_plotly = hras_RBD.rank_plotly(\n",
    "    mode='mean', \n",
    "    title='Rank of positions', \n",
    "    return_plotly_object=True,\n",
    ")\n",
    "\n",
    "# Then edit rank_plotly"
   ]
  },
  {
   "cell_type": "markdown",
   "metadata": {},
   "source": [
    "## Scatter"
   ]
  },
  {
   "cell_type": "markdown",
   "metadata": {},
   "source": [
    "If you have two datasets, you can create a scatter plot. The advantage of using plotly over matplotlib is that you can visually check each data point by putting the mouse pointer on top."
   ]
  },
  {
   "cell_type": "code",
   "execution_count": null,
   "metadata": {
    "execution": {
     "iopub.execute_input": "2020-11-26T01:58:28.840901Z",
     "iopub.status.busy": "2020-11-26T01:58:28.838383Z",
     "iopub.status.idle": "2020-11-26T01:58:29.255463Z",
     "shell.execute_reply": "2020-11-26T01:58:29.254498Z",
     "shell.execute_reply.started": "2020-11-26T01:58:28.840861Z"
    }
   },
   "outputs": [],
   "source": [
    "hras_RBD.scatter_plotly(\n",
    "    hras_GAPGEF,\n",
    "    show_results=False,\n",
    "    title='Scatter Point Mutants',\n",
    "    x_label='hras_RBD',\n",
    "    y_label='hras_GAPGEF',\n",
    "    output_html='../../docs/html/hras_scatterpointmutants.html',\n",
    ")"
   ]
  },
  {
   "cell_type": "raw",
   "metadata": {},
   "source": [
    ".. raw:: html\n",
    "    :file: html/hras_scatterpointmutants.html"
   ]
  },
  {
   "cell_type": "markdown",
   "metadata": {},
   "source": [
    "Now we just look at the positional average."
   ]
  },
  {
   "cell_type": "code",
   "execution_count": null,
   "metadata": {
    "execution": {
     "iopub.execute_input": "2020-11-26T01:58:37.069740Z",
     "iopub.status.busy": "2020-11-26T01:58:37.069511Z",
     "iopub.status.idle": "2020-11-26T01:58:37.188118Z",
     "shell.execute_reply": "2020-11-26T01:58:37.187125Z",
     "shell.execute_reply.started": "2020-11-26T01:58:37.069717Z"
    }
   },
   "outputs": [],
   "source": [
    "hras_RBD.scatter_plotly(\n",
    "    hras_GAPGEF,\n",
    "    mode='mean',\n",
    "    title='Scatter Positional Average',\n",
    "    x_label='hras_RBD',\n",
    "    y_label='hras_GAPGEF',\n",
    "    output_html='../../docs/html/hras_scatterposition.html',\n",
    ")"
   ]
  },
  {
   "cell_type": "raw",
   "metadata": {},
   "source": [
    ".. raw:: html\n",
    "    :file: html/hras_scatterposition.html"
   ]
  },
  {
   "cell_type": "markdown",
   "metadata": {},
   "source": [
    "## 3D scatter plot "
   ]
  },
  {
   "cell_type": "markdown",
   "metadata": {},
   "source": [
    "If there is an available PDB structure, you can input it and the software will plot a 3d plot of the c-alpha atoms, colored by their enrichment score."
   ]
  },
  {
   "cell_type": "code",
   "execution_count": null,
   "metadata": {
    "execution": {
     "iopub.execute_input": "2020-11-26T01:57:54.485183Z",
     "iopub.status.busy": "2020-11-26T01:57:54.484935Z",
     "iopub.status.idle": "2020-11-26T01:57:54.659275Z",
     "shell.execute_reply": "2020-11-26T01:57:54.658535Z",
     "shell.execute_reply.started": "2020-11-26T01:57:54.485157Z"
    }
   },
   "outputs": [],
   "source": [
    "hras_RBD.scatter_3D_plotly(\n",
    "    mode='mean',\n",
    "    pdb_path='../data/5p21.pdb',\n",
    "    title='Scatter 3D',\n",
    "    squared=False,\n",
    "    x_label='x',\n",
    "    y_label='y',\n",
    "    z_label='z',\n",
    "    output_html='../../docs/html/hras_3dscatter.html',\n",
    ")"
   ]
  },
  {
   "cell_type": "raw",
   "metadata": {},
   "source": [
    ".. raw:: html\n",
    "    :file: html/hras_3dscatter.html"
   ]
  },
  {
   "cell_type": "markdown",
   "metadata": {},
   "source": [
    "By setting up mode='V', we can evaluate the impact of valine substitutions. Mode can be set up to any residue. In this example, residues in the core are tolerant to valine substitutions."
   ]
  },
  {
   "cell_type": "code",
   "execution_count": null,
   "metadata": {
    "execution": {
     "iopub.execute_input": "2020-11-26T01:57:56.673138Z",
     "iopub.status.busy": "2020-11-26T01:57:56.672811Z",
     "iopub.status.idle": "2020-11-26T01:57:56.817912Z",
     "shell.execute_reply": "2020-11-26T01:57:56.817000Z",
     "shell.execute_reply.started": "2020-11-26T01:57:56.673104Z"
    }
   },
   "outputs": [],
   "source": [
    "hras_RBD.scatter_3D_plotly(\n",
    "    mode='V',\n",
    "    pdb_path='../data/5p21.pdb',\n",
    "    title='Scatter 3D - Valine substitution',\n",
    "    squared=False,\n",
    "    x_label='x',\n",
    "    y_label='y',\n",
    "    z_label='z',\n",
    "    output_html='../../docs/html/hras_3dvalsubstitution.html',\n",
    ")"
   ]
  },
  {
   "cell_type": "raw",
   "metadata": {},
   "source": [
    ".. raw:: html\n",
    "    :file: html/hras_3dvalsubstitution.html"
   ]
  },
  {
   "cell_type": "markdown",
   "metadata": {},
   "source": [
    "When we set mode='D', the core of the protein turns completely blue."
   ]
  },
  {
   "cell_type": "code",
   "execution_count": null,
   "metadata": {
    "execution": {
     "iopub.execute_input": "2020-11-26T01:57:57.681779Z",
     "iopub.status.busy": "2020-11-26T01:57:57.681528Z",
     "iopub.status.idle": "2020-11-26T01:57:57.820218Z",
     "shell.execute_reply": "2020-11-26T01:57:57.819017Z",
     "shell.execute_reply.started": "2020-11-26T01:57:57.681752Z"
    }
   },
   "outputs": [],
   "source": [
    "hras_RBD.scatter_3D_plotly(\n",
    "    mode='D',\n",
    "    pdb_path='../data/5p21.pdb',\n",
    "    title='Scatter 3D - Aspartate substitution',\n",
    "    squared=False,\n",
    "    x_label='x',\n",
    "    y_label='y',\n",
    "    z_label='z',\n",
    "    output_html='../../docs/html/hras_3daspsubstitution.html',\n",
    ")"
   ]
  },
  {
   "cell_type": "raw",
   "metadata": {},
   "source": [
    ".. raw:: html\n",
    "    :file: html/hras_3daspsubstitution.html"
   ]
  },
  {
   "cell_type": "markdown",
   "metadata": {},
   "source": [
    "By setting squared = True, we plot the distance to the center of the protein of each residue. In this example, we see that residues in the core of the protein are blue, indicating a sensitivity to mutations."
   ]
  },
  {
   "cell_type": "code",
   "execution_count": null,
   "metadata": {
    "execution": {
     "iopub.execute_input": "2020-11-26T01:57:59.219900Z",
     "iopub.status.busy": "2020-11-26T01:57:59.219588Z",
     "iopub.status.idle": "2020-11-26T01:57:59.489169Z",
     "shell.execute_reply": "2020-11-26T01:57:59.488319Z",
     "shell.execute_reply.started": "2020-11-26T01:57:59.219867Z"
    }
   },
   "outputs": [],
   "source": [
    "hras_RBD.scatter_3D_plotly(\n",
    "    mode='mean',\n",
    "    pdb_path='../data/5p21.pdb',\n",
    "    title='Scatter 3D - Distance to center',\n",
    "    squared=True,\n",
    "    x_label='x',\n",
    "    y_label='y',\n",
    "    z_label='z',\n",
    "    output_html='../../docs/html/hras_3ddistcenter.html',\n",
    ")"
   ]
  },
  {
   "cell_type": "raw",
   "metadata": {},
   "source": [
    ".. raw:: html\n",
    "    :file: html/hras_3ddistcenter.html"
   ]
  }
 ],
 "metadata": {
  "kernelspec": {
   "display_name": "Python 3",
   "language": "python",
   "name": "python3"
  },
  "language_info": {
   "codemirror_mode": {
    "name": "ipython",
    "version": 3
   },
   "file_extension": ".py",
   "mimetype": "text/x-python",
   "name": "python",
   "nbconvert_exporter": "python",
   "pygments_lexer": "ipython3",
   "version": "3.8.3"
  },
  "toc": {
   "base_numbering": 1,
   "nav_menu": {},
   "number_sections": true,
   "sideBar": true,
   "skip_h1_title": false,
   "title_cell": "Table of Contents",
   "title_sidebar": "Contents",
   "toc_cell": false,
   "toc_position": {},
   "toc_section_display": true,
   "toc_window_display": false
  }
 },
 "nbformat": 4,
 "nbformat_minor": 4
}
