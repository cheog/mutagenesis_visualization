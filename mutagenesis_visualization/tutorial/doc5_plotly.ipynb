{
 "cells": [
  {
   "cell_type": "markdown",
   "metadata": {},
   "source": [
    "# Visualizing with plotly"
   ]
  },
  {
   "cell_type": "markdown",
   "metadata": {},
   "source": [
    "In this section we will use Plotly to make interactive plots. Please let us know if you have suggestions for new figures that could be made with Plotly."
   ]
  },
  {
   "cell_type": "code",
   "execution_count": null,
   "metadata": {
    "ExecuteTime": {
     "end_time": "2020-10-12T23:52:54.028080Z",
     "start_time": "2020-10-12T23:52:53.755443Z"
    },
    "execution": {
     "iopub.execute_input": "2020-11-25T01:53:21.333949Z",
     "iopub.status.busy": "2020-11-25T01:53:21.333727Z",
     "iopub.status.idle": "2020-11-25T01:53:23.519047Z",
     "shell.execute_reply": "2020-11-25T01:53:23.518125Z",
     "shell.execute_reply.started": "2020-11-25T01:53:21.333927Z"
    }
   },
   "outputs": [],
   "source": [
    "import numpy as np\n",
    "import pandas as pd\n",
    "\n",
    "try:\n",
    "    import mutagenesis_visualization as mut\n",
    "except ModuleNotFoundError:  # This step is only for when I run the notebooks locally\n",
    "    import sys\n",
    "    sys.path.append('../../')\n",
    "    import mutagenesis_visualization as mut"
   ]
  },
  {
   "cell_type": "markdown",
   "metadata": {},
   "source": [
    "Load sample datasets."
   ]
  },
  {
   "cell_type": "code",
   "execution_count": null,
   "metadata": {
    "ExecuteTime": {
     "end_time": "2020-10-12T23:54:12.179094Z",
     "start_time": "2020-10-12T23:54:11.958766Z"
    },
    "execution": {
     "iopub.execute_input": "2020-11-25T01:53:23.521606Z",
     "iopub.status.busy": "2020-11-25T01:53:23.520807Z",
     "iopub.status.idle": "2020-11-25T01:53:23.823294Z",
     "shell.execute_reply": "2020-11-25T01:53:23.822643Z",
     "shell.execute_reply.started": "2020-11-25T01:53:23.521350Z"
    }
   },
   "outputs": [],
   "source": [
    "data_dict = mut.demo_datasets()  # load example datasets\n",
    "hras_enrichment_GAPGEF = data_dict['array_hras_GAPGEF']\n",
    "hras_enrichment_RBD = data_dict['array_hras_RBD']"
   ]
  },
  {
   "cell_type": "markdown",
   "metadata": {},
   "source": [
    "Create objects."
   ]
  },
  {
   "cell_type": "code",
   "execution_count": null,
   "metadata": {
    "ExecuteTime": {
     "end_time": "2020-10-12T23:54:12.870572Z",
     "start_time": "2020-10-12T23:54:12.493985Z"
    },
    "execution": {
     "iopub.execute_input": "2020-11-25T01:53:36.708977Z",
     "iopub.status.busy": "2020-11-25T01:53:36.708743Z",
     "iopub.status.idle": "2020-11-25T01:53:37.158414Z",
     "shell.execute_reply": "2020-11-25T01:53:37.157694Z",
     "shell.execute_reply.started": "2020-11-25T01:53:36.708954Z"
    }
   },
   "outputs": [],
   "source": [
    "# Load enrichment scores. This is how you would load them from a local file.\n",
    "hras_enrichment_GAPGEF = np.genfromtxt(\n",
    "    '../data/HRas166_GAPGEF.csv', delimiter=','\n",
    ")\n",
    "\n",
    "hras_enrichment_RBD = np.genfromtxt('../data/HRas166_RBD.csv', delimiter=',')\n",
    "\n",
    "# Define protein sequence\n",
    "hras_sequence = 'MTEYKLVVVGAGGVGKSALTIQLIQNHFVDEYDPTIEDSYRKQVVIDGETCLLDILDTAGQEEY'\\\n",
    "                + 'SAMRDQYMRTGEGFLCVFAINNTKSFEDIHQYREQIKRVKDSDDVPMVLVGNKCDLAARTVES'\\\n",
    "                + 'RQAQDLARSYGIPYIETSAKTRQGVEDAFYTLVREIRQHKLRKLNPPDESGPG'\n",
    "\n",
    "# Order of amino acid substitutions in the hras_enrichment dataset\n",
    "aminoacids = list('ACDEFGHIKLMNPQRSTVWY*')\n",
    "\n",
    "# First residue of the hras_enrichment dataset. Because 1-Met was not mutated, the dataset starts at residue 2\n",
    "start_position = 2\n",
    "\n",
    "# Define secondary structure\n",
    "secondary = [['L0'], ['β1'] * (9 - 1), ['L1'] * (15 - 9), ['α1'] * (25 - 15),\n",
    "             ['L2'] * (36 - 25), ['β2'] * (46 - 36), ['L3'] * (48 - 46),\n",
    "             ['β3'] * (58 - 48), ['L4'] * (64 - 58), ['α2'] * (74 - 64),\n",
    "             ['L5'] * (76 - 74), ['β4'] * (83 - 76), ['L6'] * (86 - 83),\n",
    "             ['α3'] * (103 - 86), ['L7'] * (110 - 103), ['β5'] * (116 - 110),\n",
    "             ['L8'] * (126 - 116), ['α4'] * (137 - 126), ['L9'] * (140 - 137),\n",
    "             ['β6'] * (143 - 140), ['L10'] * (151 - 143), ['α5'] * (172 - 151),\n",
    "             ['L11'] * (190 - 172)]\n",
    "\n",
    "# Substitute Nan values with 0\n",
    "fillna = 0\n",
    "\n",
    "# Create objects\n",
    "hras_GAPGEF = mut.Screen(\n",
    "    hras_enrichment_GAPGEF, hras_sequence, aminoacids, start_position, fillna,\n",
    "    secondary\n",
    ")\n",
    "hras_RBD = mut.Screen(\n",
    "    hras_enrichment_RBD, hras_sequence, aminoacids, start_position, fillna,\n",
    "    secondary\n",
    ")"
   ]
  },
  {
   "cell_type": "markdown",
   "metadata": {},
   "source": [
    "## Rank"
   ]
  },
  {
   "cell_type": "markdown",
   "metadata": {},
   "source": [
    "Create an interactive rank figure that displays each mutant."
   ]
  },
  {
   "cell_type": "code",
   "execution_count": null,
   "metadata": {
    "ExecuteTime": {
     "end_time": "2020-10-12T23:59:39.537099Z",
     "start_time": "2020-10-12T23:59:39.426512Z"
    },
    "execution": {
     "iopub.status.busy": "2020-11-24T04:26:44.380636Z",
     "iopub.status.idle": "2020-11-24T04:26:44.388549Z"
    }
   },
   "outputs": [],
   "source": [
    "hras_RBD.rank_plotly(title='Rank of pointmutants')"
   ]
  },
  {
   "cell_type": "raw",
   "metadata": {},
   "source": [
    ".. image:: images/plotly_images/hras_rankpointmutants.png\n",
    "   :width: 300px\n",
    "   :align: center"
   ]
  },
  {
   "cell_type": "markdown",
   "metadata": {},
   "source": [
    "Now display the rank of the positional mean."
   ]
  },
  {
   "cell_type": "code",
   "execution_count": null,
   "metadata": {
    "ExecuteTime": {
     "end_time": "2020-10-12T23:59:28.600801Z",
     "start_time": "2020-10-12T23:59:28.536616Z"
    },
    "execution": {
     "iopub.status.busy": "2020-11-24T04:26:44.425756Z",
     "iopub.status.idle": "2020-11-24T04:26:44.426676Z"
    }
   },
   "outputs": [],
   "source": [
    "hras_RBD.rank_plotly(mode='mean', title='Rank of positions')"
   ]
  },
  {
   "cell_type": "raw",
   "metadata": {},
   "source": [
    ".. image:: images/plotly_images/hras_rankposition.png\n",
    "   :width: 300px\n",
    "   :align: center"
   ]
  },
  {
   "cell_type": "markdown",
   "metadata": {},
   "source": [
    "## Scatter"
   ]
  },
  {
   "cell_type": "markdown",
   "metadata": {},
   "source": [
    "If you have two datasets, you can create a scatter plot. The advantage of using plotly over matplotlib is that you can visually check each data point by putting the mouse pointer on top."
   ]
  },
  {
   "cell_type": "code",
   "execution_count": null,
   "metadata": {
    "execution": {
     "iopub.execute_input": "2020-11-25T01:54:50.311058Z",
     "iopub.status.busy": "2020-11-25T01:54:50.310859Z",
     "iopub.status.idle": "2020-11-25T01:54:50.531937Z",
     "shell.execute_reply": "2020-11-25T01:54:50.531380Z",
     "shell.execute_reply.started": "2020-11-25T01:54:50.311038Z"
    }
   },
   "outputs": [],
   "source": [
    "hras_RBD.scatter_plotly(\n",
    "    hras_GAPGEF,\n",
    "    show_results=False,\n",
    "    title='Scatter Point Mutants',\n",
    "    x_label='hras_RBD',\n",
    "    y_label='hras_GAPGEF'\n",
    ")"
   ]
  },
  {
   "cell_type": "raw",
   "metadata": {},
   "source": [
    ".. image:: images/plotly_images/hras_scatterpointmutants.png\n",
    "   :width: 300px\n",
    "   :align: center"
   ]
  },
  {
   "cell_type": "markdown",
   "metadata": {},
   "source": [
    "Now we just look at the positional average."
   ]
  },
  {
   "cell_type": "code",
   "execution_count": null,
   "metadata": {
    "execution": {
     "iopub.execute_input": "2020-11-25T01:54:59.721272Z",
     "iopub.status.busy": "2020-11-25T01:54:59.720947Z",
     "iopub.status.idle": "2020-11-25T01:54:59.836019Z",
     "shell.execute_reply": "2020-11-25T01:54:59.835339Z",
     "shell.execute_reply.started": "2020-11-25T01:54:59.721246Z"
    }
   },
   "outputs": [],
   "source": [
    "hras_RBD.scatter_plotly(\n",
    "    hras_GAPGEF,\n",
    "    mode='mean',\n",
    "    title='Scatter Positional Average',\n",
    "    x_label='hras_RBD',\n",
    "    y_label='hras_GAPGEF'\n",
    ")"
   ]
  },
  {
   "cell_type": "raw",
   "metadata": {},
   "source": [
    ".. image:: images/plotly_images/hras_scatterposition.png\n",
    "   :width: 300px\n",
    "   :align: center"
   ]
  }
 ],
 "metadata": {
  "kernelspec": {
   "display_name": "Python 3",
   "language": "python",
   "name": "python3"
  },
  "language_info": {
   "codemirror_mode": {
    "name": "ipython",
    "version": 3
   },
   "file_extension": ".py",
   "mimetype": "text/x-python",
   "name": "python",
   "nbconvert_exporter": "python",
   "pygments_lexer": "ipython3",
   "version": "3.8.3"
  },
  "toc": {
   "base_numbering": 1,
   "nav_menu": {},
   "number_sections": true,
   "sideBar": true,
   "skip_h1_title": false,
   "title_cell": "Table of Contents",
   "title_sidebar": "Contents",
   "toc_cell": false,
   "toc_position": {},
   "toc_section_display": true,
   "toc_window_display": false
  }
 },
 "nbformat": 4,
 "nbformat_minor": 4
}
