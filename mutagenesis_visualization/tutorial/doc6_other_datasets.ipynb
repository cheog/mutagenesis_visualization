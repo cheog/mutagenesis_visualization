{
 "cells": [
  {
   "cell_type": "markdown",
   "metadata": {},
   "source": [
    "# Holistic testing"
   ]
  },
  {
   "cell_type": "markdown",
   "metadata": {},
   "source": [
    "Up to this moment, we have only shown how the package performs with our own dataset. The moment of truth is when we test our software with other people's datasets. In this section we have compiled saturation mutagenesis datasets found in the literature and we reproduce the analysis. Not only does the package works with other datasets, but also it allows to customize a wide range of parameters such as color maps, scales, etc. Furthermore, on top of testing the resilience of ``mutagenesis_visualization``, we are providing extra examples on how to use this API."
   ]
  },
  {
   "cell_type": "code",
   "execution_count": null,
   "metadata": {
    "ExecuteTime": {
     "end_time": "2020-10-01T18:59:51.877066Z",
     "start_time": "2020-10-01T18:59:51.688208Z"
    },
    "execution": {
     "iopub.execute_input": "2020-11-25T03:45:10.804850Z",
     "iopub.status.busy": "2020-11-25T03:45:10.804641Z",
     "iopub.status.idle": "2020-11-25T03:45:14.532022Z",
     "shell.execute_reply": "2020-11-25T03:45:14.530833Z",
     "shell.execute_reply.started": "2020-11-25T03:45:10.804829Z"
    }
   },
   "outputs": [],
   "source": [
    "import numpy as np\n",
    "import pandas as pd\n",
    "import matplotlib as plt\n",
    "import copy\n",
    "\n",
    "try:\n",
    "    import mutagenesis_visualization as mut\n",
    "except ModuleNotFoundError:  # This step is only for when I run the notebooks locally\n",
    "    import sys\n",
    "    sys.path.append('../../')\n",
    "    import mutagenesis_visualization as mut"
   ]
  },
  {
   "cell_type": "markdown",
   "metadata": {},
   "source": [
    "## Load datasets"
   ]
  },
  {
   "cell_type": "raw",
   "metadata": {},
   "source": [
    "The data used in this notebook is included as part of the package in two different ways. First, it is saved as ``data/DMS_others.xlsx``. You can find the excel spreadsheet on the Github repository. In addition, we are providing a command to quickly retrieve and load the data with :func:`mutagenesis_visualization.demo_datasets`.\n"
   ]
  },
  {
   "cell_type": "markdown",
   "metadata": {},
   "source": [
    "### Load enrichment scores"
   ]
  },
  {
   "cell_type": "markdown",
   "metadata": {},
   "source": [
    "Now we will load the counts for each dataset. With the counts we will generate objects that we can analyzed and visualize."
   ]
  },
  {
   "cell_type": "code",
   "execution_count": null,
   "metadata": {
    "ExecuteTime": {
     "end_time": "2020-10-01T18:33:56.350369Z",
     "start_time": "2020-10-01T18:33:56.264841Z"
    },
    "execution": {
     "iopub.execute_input": "2020-11-25T03:45:36.651853Z",
     "iopub.status.busy": "2020-11-25T03:45:36.651526Z",
     "iopub.status.idle": "2020-11-25T03:45:37.049886Z",
     "shell.execute_reply": "2020-11-25T03:45:37.049339Z",
     "shell.execute_reply.started": "2020-11-25T03:45:36.651812Z"
    }
   },
   "outputs": [],
   "source": [
    "# Dictionary with the datasets\n",
    "data_dict = mut.demo_datasets()\n",
    "# Beta lactamase data\n",
    "df_bla = data_dict['df_bla']\n",
    "# Sumo\n",
    "df_sumo1 = data_dict['df_sumo1']\n",
    "# MAPK1\n",
    "df_mapk1 = data_dict['df_mapk1']\n",
    "#UBE2I\n",
    "df_ube2i = data_dict['df_ube2i']\n",
    "#TAT\n",
    "df_tat = data_dict['df_tat']\n",
    "#REV\n",
    "df_rev = data_dict['df_rev']\n",
    "# asynuclein\n",
    "df_asynuclein = data_dict['df_asynuclein']\n",
    "# APH\n",
    "df_aph = data_dict['df_aph']\n",
    "# b11L5\n",
    "df_b11L5F = data_dict['df_b11L5F']"
   ]
  },
  {
   "cell_type": "markdown",
   "metadata": {},
   "source": [
    "### Load objects"
   ]
  },
  {
   "cell_type": "markdown",
   "metadata": {},
   "source": [
    "For simplicity, we also have added the option of loading those datasets into objects automatically. The command to do that would be ``mut.name_object()``. There are 10 objects to load (hras_RBD, bla_obj, sumo_obj, mapk1_obj, ube2i_obj, tat_obj, rev_obj, asynuclein_obj, aph_obj, b11L5F_obj). "
   ]
  },
  {
   "cell_type": "code",
   "execution_count": null,
   "metadata": {},
   "outputs": [],
   "source": [
    "mut.bla_obj()"
   ]
  },
  {
   "cell_type": "markdown",
   "metadata": {},
   "source": [
    "### Load from excel or csv"
   ]
  },
  {
   "cell_type": "markdown",
   "metadata": {
    "execution": {
     "iopub.execute_input": "2020-11-25T03:49:46.044330Z",
     "iopub.status.busy": "2020-11-25T03:49:46.044041Z",
     "iopub.status.idle": "2020-11-25T03:49:46.054139Z",
     "shell.execute_reply": "2020-11-25T03:49:46.052229Z",
     "shell.execute_reply.started": "2020-11-25T03:49:46.044298Z"
    }
   },
   "source": [
    "If you are working with your own data, the most probable workflow is that you load your dataset from an excel/csv file. Because of that, in the following examples we won't use the preloaded datasets, we will load them from Excel or a pickle file instead."
   ]
  },
  {
   "cell_type": "markdown",
   "metadata": {},
   "source": [
    "## Beta Lactamase"
   ]
  },
  {
   "cell_type": "markdown",
   "metadata": {},
   "source": [
    "### Load data"
   ]
  },
  {
   "cell_type": "markdown",
   "metadata": {},
   "source": [
    "Note that in this Jupyter notebook we are retrieving the data from an Excel file called \"DMS_others.xlsx\". This file is included with the package, although to ease the workflow, we have saved into pickle files each of the dataframes that we are obtaining. This is appliable to each of the nine examples."
   ]
  },
  {
   "cell_type": "code",
   "execution_count": null,
   "metadata": {
    "ExecuteTime": {
     "end_time": "2020-10-01T18:59:53.627403Z",
     "start_time": "2020-10-01T18:59:53.565195Z"
    },
    "execution": {
     "iopub.execute_input": "2020-11-25T03:47:33.754845Z",
     "iopub.status.busy": "2020-11-25T03:47:33.754620Z",
     "iopub.status.idle": "2020-11-25T03:47:33.812062Z",
     "shell.execute_reply": "2020-11-25T03:47:33.811551Z",
     "shell.execute_reply.started": "2020-11-25T03:47:33.754821Z"
    }
   },
   "outputs": [],
   "source": [
    "#https://www.uniprot.org/uniprot/P62593#sequences\n",
    "\n",
    "path = '../Data/DMS_others.xlsx'\n",
    "sheet_name = 'bla'\n",
    "usecols = 'A,F'\n",
    "\n",
    "# Read excel file\n",
    "#df_bla_raw = pd.read_excel(path, sheet_name, usecols=usecols)\n",
    "# Save into pickle so it is easier to read next time you need it\n",
    "#df_bla_raw.to_pickle('../data/df_bla_raw.pkl')\n",
    "\n",
    "# Read from pickle to save time (same as reading from excel)\n",
    "df_bla_raw = pd.read_pickle('../data/df_bla_raw.pkl')\n",
    "\n",
    "# Parse\n",
    "df_bla, sequence_bla = mut.parse_pivot(df_bla_raw, col_data='DMS_amp_625_(b)')"
   ]
  },
  {
   "cell_type": "markdown",
   "metadata": {},
   "source": [
    "### Create object"
   ]
  },
  {
   "cell_type": "code",
   "execution_count": null,
   "metadata": {
    "ExecuteTime": {
     "end_time": "2020-10-01T18:59:55.324561Z",
     "start_time": "2020-10-01T18:59:55.012878Z"
    }
   },
   "outputs": [],
   "source": [
    "# Order of amino acid substitutions in the hras_enrichment dataset\n",
    "aminoacids = list(df_bla.index)\n",
    "neworder_aminoacids = list('DEKHRGNQASTPCVYMILFW')\n",
    "\n",
    "# First residue of the hras_enrichment dataset. Because 1-Met was not mutated, the dataset starts at residue 2\n",
    "start_position = df_bla.columns[0]\n",
    "\n",
    "# Define sequence. If you dont know the start of the sequence, just add X's\n",
    "sequence_bla_x = 'MSIQHFRVALIPFFAAFCLPVFAHPETLVKVKDAEDQLGARVGYIELDLNSGKILESFRP'\\\n",
    "                +'EERFPMMSTFKVLLCGAVLSRVDAGQEQLGRRIHYSQNDLVEYSPVTEKHLTDGMTVREL'\\\n",
    "                +'CSAAITMSDNTAANLLLTTIGGPKELTAFLHNMGDHVTRLDRWEPELNEAIPNDERDTTM'\\\n",
    "                +'PAAMATTLRKLLTGELLTLASRQQLIDWMEADKVAGPLLRSALPAGWFIADKSGAGERGS'\\\n",
    "                +'RGIIAALGPDGKPSRIVVIYTTGSQATMDERNRQIAEIGASLIKHW'\n",
    "\n",
    "# Define secondary structure\n",
    "secondary_bla = [['L0'] * 23,\n",
    "                 ['α1'] * (38 - 23), ['L1'] * 2, ['β1'] * (48 - 40), ['L2'] * 5,\n",
    "                 ['β2'] * (57 - 53), ['L3'] * (68 - 57), ['α2'] * (84 - 68),\n",
    "                 ['L4'] * (95 - 84), ['α3'] * (100 - 95), ['L5'] * (103 - 100),\n",
    "                 ['α4'] * (110 - 103), ['L6'] * (116 - 110),\n",
    "                 ['α5'] * (140 - 116), ['L7'] * (1), ['α6'] * (153 - 141),\n",
    "                 ['L8'] * (164 - 153), ['α7'] * (169 - 164),\n",
    "                 ['L9'] * (179 - 169), ['α8'] * (194 - 179), ['L10'] * 3,\n",
    "                 ['α9'] * (210 - 197), ['L11'] * (227 - 210), ['β3'] *\n",
    "                 (235 - 227), ['L12'] * (240 - 235), ['β4'] * (249 - 240),\n",
    "                 ['L13'] * (254 - 249), ['β5'] * (262 - 254),\n",
    "                 ['L14'] * (266 - 262), ['α10'] * (286 - 266)]\n",
    "\n",
    "# Create objects\n",
    "bla_obj = mut.Screen(\n",
    "    df_bla, sequence_bla_x, aminoacids, start_position, 0, secondary_bla\n",
    ")"
   ]
  },
  {
   "cell_type": "markdown",
   "metadata": {},
   "source": [
    "### 2D Plots"
   ]
  },
  {
   "cell_type": "code",
   "execution_count": null,
   "metadata": {
    "ExecuteTime": {
     "end_time": "2020-10-01T18:56:54.679575Z",
     "start_time": "2020-10-01T18:56:31.777986Z"
    }
   },
   "outputs": [],
   "source": [
    "%matplotlib inline\n",
    "\n",
    "# Create full heatmap\n",
    "bla_obj.heatmap(\n",
    "    colorbar_scale=(-3, 3),\n",
    "    neworder_aminoacids=neworder_aminoacids,\n",
    "    title='Beta Lactamase',\n",
    "    show_cartoon=True,\n",
    "    output_file=None\n",
    ")\n",
    "\n",
    "# Miniheatmap\n",
    "bla_obj.miniheatmap(\n",
    "    title='Wt residue Beta Lactamase',\n",
    "    neworder_aminoacids=neworder_aminoacids,\n",
    "    output_file=None\n",
    ")\n",
    "\n",
    "# Positional mean\n",
    "bla_obj.mean(\n",
    "    figsize=[10, 2.5],\n",
    "    mode='mean',\n",
    "    show_cartoon=True,\n",
    "    yscale=[-3, 0.25],\n",
    "    title='',\n",
    "    output_file=None\n",
    ")\n",
    "\n",
    "# Kernel\n",
    "bla_obj.kernel(\n",
    "    histogram=True, title='Beta Lactamase', xscale=[-4, 1], output_file=None\n",
    ")\n",
    "\n",
    "# Graph bar of the mean of each secondary motif\n",
    "bla_obj.secondary_mean(\n",
    "    yscale=[-1.5, 0],\n",
    "    figsize=[5, 2],\n",
    "    title='Mean of secondary motifs',\n",
    "    output_file=None\n",
    ")\n",
    "\n",
    "# Correlation between amino acids\n",
    "bla_obj.correlation(\n",
    "    colorbar_scale=[0.5, 1],\n",
    "    title='Correlation',\n",
    "    neworder_aminoacids=neworder_aminoacids,\n",
    "    output_file=None\n",
    ")\n",
    "\n",
    "# Explained variability by amino acid\n",
    "bla_obj.individual_correlation(\n",
    "    yscale=[0, 0.6],\n",
    "    title='Explained variability by amino acid',\n",
    "    output_file=None\n",
    ")\n",
    "\n",
    "# PCA by amino acid substitution\n",
    "bla_obj.pca(\n",
    "    title='',\n",
    "    dimensions=[0, 1],\n",
    "    figsize=(2, 2),\n",
    "    adjustlabels=True,\n",
    "    output_file=None\n",
    ")\n",
    "\n",
    "# PCA by secondary structure motif\n",
    "bla_obj.pca(\n",
    "    title='',\n",
    "    mode='secondary',\n",
    "    dimensions=[0, 1],\n",
    "    figsize=(2, 2),\n",
    "    adjustlabels=True,\n",
    "    output_file=None\n",
    ")"
   ]
  },
  {
   "cell_type": "raw",
   "metadata": {},
   "source": [
    ".. image:: images/other_examples/bla_fullheatmap.png\n",
    "\n",
    ".. image:: images/other_examples/bla_miniheatmap.png\n",
    "   :width: 200px\n",
    "   :align: center\n",
    "   \n",
    ".. image:: images/other_examples/bla_bar_mean.png\n",
    "   :align: center\n",
    "   \n",
    ".. image:: images/other_examples/bla_kde.png\n",
    "   :width: 240px\n",
    "   :align: center\n",
    "\n",
    ".. image:: images/other_examples/bla_secondary.png\n",
    "   :width: 300px\n",
    "   :align: center\n",
    "   \n",
    ".. image:: images/other_examples/bla_correlation.png\n",
    "   :width: 250px\n",
    "   :align: center\n",
    "   \n",
    ".. image:: images/other_examples/bla_variability.png\n",
    "   :width: 300px\n",
    "   :align: center\n",
    "   \n",
    ".. image:: images/other_examples/bla_pcaaminoacid.png\n",
    "   :width: 200px\n",
    "\n",
    ".. image:: images/other_examples/bla_pcasecondary.png\n",
    "   :width: 200px\n"
   ]
  },
  {
   "cell_type": "markdown",
   "metadata": {},
   "source": [
    "### 3D Plots"
   ]
  },
  {
   "cell_type": "markdown",
   "metadata": {},
   "source": [
    "If you want to use the example pdbs, use the command ``pdbs_dict = mut.demo_pdbs()`` to retrieve the pdb_paths. Then when you call the method, do ``pdb_path=pdbs_dict['1erm']``."
   ]
  },
  {
   "cell_type": "code",
   "execution_count": null,
   "metadata": {
    "ExecuteTime": {
     "end_time": "2020-10-01T18:59:57.996781Z",
     "start_time": "2020-10-01T18:59:57.621910Z"
    }
   },
   "outputs": [],
   "source": [
    "%matplotlib widget\n",
    "\n",
    "# Plot 3-D plot\n",
    "bla_obj.scatter_3D(\n",
    "    mode='mean',\n",
    "    pdb_path='../data/1erm.pdb',\n",
    "    position_correction=2,\n",
    "    squared=False,\n",
    "    lof=-0.75,\n",
    "    gof=0.1,\n",
    "    output_file=None\n",
    ")\n",
    "\n",
    "# Plot 3-D of distance to center of protein, SASA and B-factor\n",
    "bla_obj.scatter_3D_pdbprop(\n",
    "    plot=['Distance', 'Score', 'SASA'],\n",
    "    position_correction=2,\n",
    "    pdb_path='../data/1erm.pdb',\n",
    "    color_by_score=False,\n",
    "    output_file=None\n",
    ")"
   ]
  },
  {
   "cell_type": "raw",
   "metadata": {},
   "source": [
    ".. image:: images/other_examples/bla_3dscatter.png\n",
    "   :width: 500px\n",
    "   :align: center\n",
    "\n",
    ".. image:: images/other_examples/bla_3dscatter_sasa.png\n",
    "   :width: 500px\n",
    "   :align: center\n"
   ]
  },
  {
   "cell_type": "code",
   "execution_count": null,
   "metadata": {
    "ExecuteTime": {
     "end_time": "2020-10-01T18:55:15.957563Z",
     "start_time": "2020-10-01T18:55:14.466017Z"
    }
   },
   "outputs": [],
   "source": [
    "# Start pymol and color residues. Cut offs are set with gof and lof parameters.\n",
    "bla_obj.pymol(\n",
    "    pdb='../data/1erm.pdb', mode='mean', gof=0.2, lof=-1, position_correction=2\n",
    ")"
   ]
  },
  {
   "cell_type": "raw",
   "metadata": {},
   "source": [
    ".. image:: images/other_examples/bla_pymol.png\n",
    "   :align: center"
   ]
  },
  {
   "cell_type": "markdown",
   "metadata": {},
   "source": [
    "## Sumo1"
   ]
  },
  {
   "cell_type": "markdown",
   "metadata": {},
   "source": [
    "### Load data"
   ]
  },
  {
   "cell_type": "code",
   "execution_count": null,
   "metadata": {
    "ExecuteTime": {
     "end_time": "2020-10-01T18:57:59.859929Z",
     "start_time": "2020-10-01T18:57:59.814854Z"
    }
   },
   "outputs": [],
   "source": [
    "#https://doi.org/10.15252/msb.20177908\n",
    "### 2D Plots\n",
    "path = '../Data/DMS_others.xlsx'\n",
    "sheet_name = 'SUMO1'\n",
    "usecols = 'A,B'\n",
    "\n",
    "# Read excel file\n",
    "#df_sumo1_raw = pd.read_excel(path, sheet_name, usecols=usecols)\n",
    "# Save into pickle so it is easier to read next time you need it\n",
    "#df_sumo1_raw.to_pickle('../data/df_sumo1_raw.pkl')\n",
    "\n",
    "# Read from pickle to save time (same as reading from excel)\n",
    "df_sumo1_raw = pd.read_pickle('../data/df_sumo1_raw.pkl')\n",
    "\n",
    "### 2D Plots\n",
    "# Parse\n",
    "df_sumo1, sequence_sumo1 = mut.parse_pivot(df_sumo1_raw, col_data='DMS')"
   ]
  },
  {
   "cell_type": "markdown",
   "metadata": {},
   "source": [
    "### Create object"
   ]
  },
  {
   "cell_type": "code",
   "execution_count": null,
   "metadata": {
    "ExecuteTime": {
     "end_time": "2020-10-01T18:58:00.956105Z",
     "start_time": "2020-10-01T18:58:00.816157Z"
    }
   },
   "outputs": [],
   "source": [
    "# Order of amino acid substitutions in the hras_enrichment dataset\n",
    "aminoacids = list(df_sumo1.index)\n",
    "neworder_aminoacids = list('DEKHRGNQASTPCVYMILFW')\n",
    "\n",
    "# First residue of the hras_enrichment dataset. Because 1-Met was not mutated, the dataset starts at residue 2\n",
    "start_position = df_sumo1.columns[0]\n",
    "\n",
    "# Full sequence\n",
    "sequence_sumo1 = 'MSDQEAKPSTEDLGDKKEGEYIKLKVIGQDSSEIHFKVKMTTHLKKLKESYCQRQGVPMN'\\\n",
    "                    +'SLRFLFEGQRIADNHTPKELGMEEEDVIEVYQEQTGGHSTV'\n",
    "# Define secondary structure\n",
    "secondary_sumo1 = [['L0'] * (20), ['β1'] * (28 - 20), ['L1'] * 3,\n",
    "                   ['β2'] * (39 - 31), ['L2'] * 4, ['α1'] * (55 - 43),\n",
    "                   ['L3'] * (6), ['β3'] * (65 - 61), ['L4'] * (75 - 65),\n",
    "                   ['α2'] * (80 - 75), ['L5'] * (85 - 80), ['β4'] * (92 - 85),\n",
    "                   ['L6'] * (101 - 92)]\n",
    "\n",
    "# Create objects\n",
    "sumo_obj = mut.Screen(\n",
    "    df_sumo1, sequence_sumo1, aminoacids, start_position, 1, secondary_sumo1\n",
    ")"
   ]
  },
  {
   "cell_type": "markdown",
   "metadata": {},
   "source": [
    "### 2D Plots"
   ]
  },
  {
   "cell_type": "code",
   "execution_count": null,
   "metadata": {
    "ExecuteTime": {
     "end_time": "2020-10-01T18:58:12.224632Z",
     "start_time": "2020-10-01T18:58:01.809867Z"
    }
   },
   "outputs": [],
   "source": [
    "%matplotlib inline\n",
    "\n",
    "# You can use your own colormap or import it from matplotlib\n",
    "colormap = copy.copy((plt.cm.get_cmap('Blues_r')))\n",
    "\n",
    "# Create full heatmap\n",
    "sumo_obj.heatmap(\n",
    "    colorbar_scale=(-0.5, 1),\n",
    "    neworder_aminoacids=neworder_aminoacids,\n",
    "    title='Sumo1',\n",
    "    colormap=colormap,\n",
    "    show_cartoon=True,\n",
    "    output_file=None\n",
    ")\n",
    "\n",
    "# Miniheatmap\n",
    "sumo_obj.miniheatmap(\n",
    "    colorbar_scale=(0, 1),\n",
    "    title='Wt residue Sumo1',\n",
    "    neworder_aminoacids=neworder_aminoacids,\n",
    "    colormap=colormap,\n",
    "    output_file=None\n",
    ")\n",
    "\n",
    "# Positional mean\n",
    "sumo_obj.mean(\n",
    "    figsize=[6, 2.5],\n",
    "    mode='mean',\n",
    "    show_cartoon=True,\n",
    "    yscale=[0, 1],\n",
    "    title='',\n",
    "    output_file=None\n",
    ")\n",
    "\n",
    "# Kernel\n",
    "sumo_obj.kernel(histogram=True, title='Sumo1', xscale=[-1, 2], output_file=None)\n",
    "\n",
    "# Graph bar of the mean of each secondary motif\n",
    "sumo_obj.secondary_mean(\n",
    "    yscale=[0, 1],\n",
    "    figsize=[2, 2],\n",
    "    title='Mean of secondary motifs',\n",
    "    output_file=None\n",
    ")\n",
    "\n",
    "# Correlation between amino acids\n",
    "sumo_obj.correlation(\n",
    "    colorbar_scale=[0.25, 0.75],\n",
    "    title='Correlation',\n",
    "    neworder_aminoacids=neworder_aminoacids,\n",
    "    output_file=None\n",
    ")\n",
    "\n",
    "# Explained variability by amino acid\n",
    "sumo_obj.individual_correlation(\n",
    "    yscale=[0, 0.6],\n",
    "    title='Explained variability by amino acid',\n",
    "    output_file=None\n",
    ")\n",
    "\n",
    "# PCA by amino acid substitution\n",
    "sumo_obj.pca(\n",
    "    title='',\n",
    "    dimensions=[0, 1],\n",
    "    figsize=(2, 2),\n",
    "    adjustlabels=True,\n",
    "    output_file=None\n",
    ")\n",
    "\n",
    "# PCA by secondary structure motif\n",
    "sumo_obj.pca(\n",
    "    title='',\n",
    "    mode='secondary',\n",
    "    dimensions=[0, 1],\n",
    "    figsize=(2, 2),\n",
    "    adjustlabels=True,\n",
    "    output_file=None\n",
    ")"
   ]
  },
  {
   "cell_type": "raw",
   "metadata": {},
   "source": [
    ".. image:: images/other_examples/sumo_fullheatmap.png\n",
    "\n",
    ".. image:: images/other_examples/sumo_miniheatmap.png\n",
    "   :width: 200px\n",
    "   :align: center\n",
    "   \n",
    ".. image:: images/other_examples/sumo_bar_mean.png\n",
    "   :width: 400px\n",
    "   :align: center\n",
    "   \n",
    ".. image:: images/other_examples/sumo_kde.png\n",
    "   :width: 240px\n",
    "   :align: center\n",
    "\n",
    ".. image:: images/other_examples/sumo_secondary.png\n",
    "   :width: 300px\n",
    "   :align: center\n",
    "   \n",
    ".. image:: images/other_examples/sumo_correlation.png\n",
    "   :width: 250px\n",
    "   :align: center\n",
    "   \n",
    ".. image:: images/other_examples/sumo_variability.png\n",
    "   :width: 300px\n",
    "   :align: center\n",
    "   \n",
    ".. image:: images/other_examples/sumo_pcaaminoacid.png\n",
    "   :width: 200px\n",
    "\n",
    ".. image:: images/other_examples/sumo_pcasecondary.png\n",
    "   :width: 200px\n"
   ]
  },
  {
   "cell_type": "code",
   "execution_count": null,
   "metadata": {
    "ExecuteTime": {
     "end_time": "2020-10-01T18:34:56.094820Z",
     "start_time": "2020-10-01T18:34:55.941557Z"
    }
   },
   "outputs": [],
   "source": [
    "# Open pymol and color the sumo structure\n",
    "sumo_obj.pymol(pdb='../data/1a5r.pdb', mode='mean', gof=1, lof=0.5)"
   ]
  },
  {
   "cell_type": "raw",
   "metadata": {},
   "source": [
    ".. image:: images/other_examples/sumo_pymol.png\n",
    "   :align: center"
   ]
  },
  {
   "cell_type": "markdown",
   "metadata": {},
   "source": [
    "## MAPK1"
   ]
  },
  {
   "cell_type": "markdown",
   "metadata": {},
   "source": [
    "### Load data"
   ]
  },
  {
   "cell_type": "code",
   "execution_count": null,
   "metadata": {
    "ExecuteTime": {
     "end_time": "2020-10-01T18:34:56.227610Z",
     "start_time": "2020-10-01T18:34:56.132566Z"
    }
   },
   "outputs": [],
   "source": [
    "path = '../Data/DMS_others.xlsx'\n",
    "sheet_name = 'MAPK1'\n",
    "usecols = 'A,B'\n",
    "col_data = 'DMS_DOX'\n",
    "#col_data = 'DMS_VRT'\n",
    "\n",
    "# Read excel file\n",
    "#df_mapk1_raw = pd.read_excel(path, sheet_name, usecols=usecols)\n",
    "# Save into pickle so it is easier to read next time you need it\n",
    "#df_mapk1_raw.to_pickle('../data/df_mapk1_raw.pkl')\n",
    "\n",
    "# Read from pickle to save time (same as reading from excel)\n",
    "df_mapk1_raw = pd.read_pickle('../data/df_mapk1_raw.pkl')\n",
    "\n",
    "# Parse\n",
    "df_mapk1, sequence_mapk1 = mut.parse_pivot(df_mapk1_raw, col_data=col_data)"
   ]
  },
  {
   "cell_type": "markdown",
   "metadata": {},
   "source": [
    "### Create object"
   ]
  },
  {
   "cell_type": "code",
   "execution_count": null,
   "metadata": {
    "ExecuteTime": {
     "end_time": "2020-10-01T18:34:56.611469Z",
     "start_time": "2020-10-01T18:34:56.231055Z"
    }
   },
   "outputs": [],
   "source": [
    "# Order of amino acid substitutions in the hras_enrichment dataset\n",
    "aminoacids = list(df_mapk1.index)\n",
    "neworder_aminoacids = list('DEKHRGNQASTPCVYMILFW')\n",
    "\n",
    "# First residue of the hras_enrichment dataset. Because 1-Met was not mutated, the dataset starts at residue 2\n",
    "start_position = df_mapk1.columns[0]\n",
    "\n",
    "# Full sequence\n",
    "sequence_mapk1_x = 'MAAAAAAGAGPEMVRGQVFDVGPRYTNLSYIGEGAYGMVCSAYDNVNKVRVAIK'\\\n",
    "                +'KISPFEHQTYCQRTLREIKILLRFRHENIIGINDIIRAPTIEQMKDVYIVQDLMETDLYKLLKTQ'\\\n",
    "                +'HLSNDHICYFLYQILRGLKYIHSANVLHRDLKPSNLLLNTTCDLKICDFGLARVADPDHDHTGFL'\\\n",
    "                +'TEYVATRWYRAPEIMLNSKGYTKSIDIWSVGCILAEMLSNRPIFPGKHYLDQLNHILGILGSPSQ'\\\n",
    "                +'EDLNCIINLKARNYLLSLPHKNKVPWNRLFPNADSKALDLLDKMLTFNPHKRIEVEQALAHPYLE'\\\n",
    "                +'QYYDPSDEPIAEAPFKFDMELDDLPKEKLKELIFEETARFQPGYRS'\n",
    "\n",
    "# Create objects\n",
    "mapk1_obj = mut.Screen(\n",
    "    df_mapk1, sequence_mapk1_x, aminoacids, start_position, 0\n",
    ")"
   ]
  },
  {
   "cell_type": "markdown",
   "metadata": {},
   "source": [
    "### 2D Plots"
   ]
  },
  {
   "cell_type": "code",
   "execution_count": null,
   "metadata": {
    "ExecuteTime": {
     "end_time": "2020-10-01T18:35:24.966281Z",
     "start_time": "2020-10-01T18:34:56.614756Z"
    }
   },
   "outputs": [],
   "source": [
    "%matplotlib inline\n",
    "\n",
    "# Create full heatmap\n",
    "mapk1_obj.heatmap(\n",
    "    colorbar_scale=(-2, 2),\n",
    "    neworder_aminoacids=neworder_aminoacids,\n",
    "    title='MAPK1',\n",
    "    show_cartoon=False,\n",
    "    output_file=None\n",
    ")\n",
    "\n",
    "# Miniheatmap\n",
    "mapk1_obj.miniheatmap(\n",
    "    title='Wt residue MAPK1',\n",
    "    neworder_aminoacids=neworder_aminoacids,\n",
    "    output_file=None\n",
    ")\n",
    "\n",
    "# Positional mean\n",
    "mapk1_obj.mean(\n",
    "    figsize=[10, 2.5],\n",
    "    mode='mean',\n",
    "    show_cartoon=False,\n",
    "    yscale=[-1, 1],\n",
    "    title='',\n",
    "    output_file=None\n",
    ")\n",
    "\n",
    "# Kernel\n",
    "mapk1_obj.kernel(\n",
    "    histogram=True, title='MAPK1', xscale=[-2, 2], output_file=None\n",
    ")\n",
    "\n",
    "# Correlation between amino acids\n",
    "mapk1_obj.correlation(\n",
    "    colorbar_scale=[0.25, 0.75],\n",
    "    title='Correlation',\n",
    "    neworder_aminoacids=neworder_aminoacids,\n",
    "    output_file=None\n",
    ")\n",
    "\n",
    "# Explained variability by amino acid\n",
    "mapk1_obj.individual_correlation(\n",
    "    yscale=[0, 0.6],\n",
    "    title='Explained variability by amino acid',\n",
    "    output_file=None\n",
    ")\n",
    "\n",
    "# PCA by amino acid substitution\n",
    "mapk1_obj.pca(\n",
    "    title='',\n",
    "    dimensions=[0, 1],\n",
    "    figsize=(2, 2),\n",
    "    adjustlabels=True,\n",
    "    output_file=None\n",
    ")"
   ]
  },
  {
   "cell_type": "raw",
   "metadata": {},
   "source": [
    ".. image:: images/other_examples/mapk1_fullheatmap.png\n",
    "\n",
    ".. image:: images/other_examples/mapk1_miniheatmap.png\n",
    "   :width: 200px\n",
    "   :align: center\n",
    "   \n",
    ".. image:: images/other_examples/mapk1_bar_mean.png\n",
    "   :width: 400px\n",
    "   :align: center\n",
    "   \n",
    ".. image:: images/other_examples/mapk1_kde.png\n",
    "   :width: 240px\n",
    "   :align: center\n",
    "   \n",
    ".. image:: images/other_examples/mapk1_correlation.png\n",
    "   :width: 250px\n",
    "   :align: center\n",
    "   \n",
    ".. image:: images/other_examples/mapk1_variability.png\n",
    "   :width: 300px\n",
    "   :align: center\n",
    "   \n",
    ".. image:: images/other_examples/mapk1_pcaaminoacid.png\n",
    "   :width: 200px\n",
    "   :align: center\n"
   ]
  },
  {
   "cell_type": "markdown",
   "metadata": {},
   "source": [
    "## UBE2I"
   ]
  },
  {
   "cell_type": "markdown",
   "metadata": {},
   "source": [
    "### Load data"
   ]
  },
  {
   "cell_type": "code",
   "execution_count": null,
   "metadata": {
    "ExecuteTime": {
     "end_time": "2020-10-01T18:35:25.040475Z",
     "start_time": "2020-10-01T18:35:24.969130Z"
    }
   },
   "outputs": [],
   "source": [
    "#https://doi.org/10.15252/msb.20177908\n",
    "\n",
    "path = '../Data/DMS_others.xlsx'\n",
    "sheet_name = 'UBE2I'\n",
    "usecols = 'A,B'\n",
    "col_data = 'DMS'\n",
    "\n",
    "# Read excel file\n",
    "#df_ube2i_raw = pd.read_excel(path, sheet_name, usecols=usecols)\n",
    "# Save into pickle so it is easier to read next time you need it\n",
    "#df_ube2i_raw.to_pickle('../data/df_ube2i_raw.pkl')\n",
    "\n",
    "# Read from pickle to save time (same as reading from excel)\n",
    "df_ube2i_raw = pd.read_pickle('../data/df_ube2i_raw.pkl')\n",
    "\n",
    "# Parse\n",
    "df_ube2i, sequence_ube2i = mut.parse_pivot(df_ube2i_raw, col_data=col_data)"
   ]
  },
  {
   "cell_type": "markdown",
   "metadata": {},
   "source": [
    "### Create object"
   ]
  },
  {
   "cell_type": "code",
   "execution_count": null,
   "metadata": {
    "ExecuteTime": {
     "end_time": "2020-10-01T18:35:25.320028Z",
     "start_time": "2020-10-01T18:35:25.044621Z"
    }
   },
   "outputs": [],
   "source": [
    "# Order of amino acid substitutions in the hras_enrichment dataset\n",
    "aminoacids = list(df_ube2i.index)\n",
    "neworder_aminoacids = list('DEKHRGNQASTPCVYMILFW')\n",
    "\n",
    "# First residue of the hras_enrichment dataset. Because 1-Met was not mutated, the dataset starts at residue 2\n",
    "start_position = df_ube2i.columns[0]  # Create object2i.columns[0]\n",
    "\n",
    "# Full sequence\n",
    "sequence_ube2i_x = 'MSGIALSRLAQERKAWRKDHPFGFVAVPTKNPDGTMNLMNWECAIPGKKGTP'\\\n",
    "                    +'WEGGLFKLRMLFKDDYPSSPPKCKFEPPLFHPNVYPSGTVCLSILEEDKDWRPAITIKQ'\\\n",
    "                    +'ILLGIQELLNEPNIQDPAQAEAYTIYCQNRVEYEKRVRAQAKKFAPS'\n",
    "\n",
    "# Define secondary structure\n",
    "secondary_ube2i = [['α1'] * (20 - 1), ['L1'] * (24 - 20), ['β1'] * (30 - 24),\n",
    "                   ['L2'] * 5, ['β2'] * (46 - 35), ['L3'] * (56 - 46),\n",
    "                   ['β3'] * (63 - 56), ['L4'] * (73 - 63), ['β4'] * (77 - 73),\n",
    "                   ['L5'] * (93 - 77), ['α2'] * (98 - 93), ['L6'] * (107 - 98),\n",
    "                   ['α3'] * (122 - 107), ['L7'] * (129 - 122),\n",
    "                   ['α4'] * (155 - 129), ['L8'] * (160 - 155)]\n",
    "\n",
    "# Create objects\n",
    "ube2i_obj = mut.Screen(\n",
    "    df_ube2i, sequence_ube2i_x, aminoacids, start_position, 1, secondary_ube2i\n",
    ")"
   ]
  },
  {
   "cell_type": "markdown",
   "metadata": {},
   "source": [
    "### 2D Plots"
   ]
  },
  {
   "cell_type": "code",
   "execution_count": null,
   "metadata": {
    "ExecuteTime": {
     "end_time": "2020-10-01T18:35:41.131421Z",
     "start_time": "2020-10-01T18:35:25.322665Z"
    }
   },
   "outputs": [],
   "source": [
    "%matplotlib inline\n",
    "colormap = copy.copy((plt.cm.get_cmap('Blues_r')))\n",
    "\n",
    "# Create full heatmap\n",
    "ube2i_obj.heatmap(\n",
    "    colorbar_scale=(0, 1),\n",
    "    neworder_aminoacids=neworder_aminoacids,\n",
    "    title='Ube2i',\n",
    "    colormap=colormap,\n",
    "    show_cartoon=True,\n",
    "    output_file=None\n",
    ")\n",
    "\n",
    "# Miniheatmap\n",
    "ube2i_obj.miniheatmap(\n",
    "    colorbar_scale=(0, 1),\n",
    "    title='Wt residue Ube2i',\n",
    "    neworder_aminoacids=neworder_aminoacids,\n",
    "    output_file=None,\n",
    "    colormap=colormap\n",
    ")\n",
    "\n",
    "# Positional mean\n",
    "ube2i_obj.mean(\n",
    "    figsize=[10, 2.5],\n",
    "    mode='mean',\n",
    "    show_cartoon=True,\n",
    "    yscale=[0, 2],\n",
    "    title='',\n",
    "    output_file=None\n",
    ")\n",
    "\n",
    "# Kernel\n",
    "ube2i_obj.kernel(\n",
    "    histogram=True, title='Ube2i', xscale=[-1, 2], output_file=None\n",
    ")\n",
    "\n",
    "# Graph bar of the mean of each secondary motif\n",
    "ube2i_obj.secondary_mean(\n",
    "    yscale=[0, 2],\n",
    "    figsize=[3, 2],\n",
    "    title='Mean of secondary motifs',\n",
    "    output_file=None\n",
    ")\n",
    "\n",
    "# Correlation between amino acids\n",
    "ube2i_obj.correlation(\n",
    "    colorbar_scale=[0.25, 0.75],\n",
    "    title='Correlation',\n",
    "    neworder_aminoacids=neworder_aminoacids,\n",
    "    output_file=None\n",
    ")\n",
    "\n",
    "# Explained variability by amino acid\n",
    "ube2i_obj.individual_correlation(\n",
    "    yscale=[0, 0.6],\n",
    "    title='Explained variability by amino acid',\n",
    "    output_file=None\n",
    ")\n",
    "\n",
    "# PCA by amino acid substitution\n",
    "ube2i_obj.pca(\n",
    "    title='',\n",
    "    dimensions=[0, 1],\n",
    "    figsize=(2, 2),\n",
    "    adjustlabels=True,\n",
    "    output_file=None\n",
    ")\n",
    "\n",
    "# PCA by secondary structure motif\n",
    "ube2i_obj.pca(\n",
    "    title='',\n",
    "    mode='secondary',\n",
    "    dimensions=[0, 1],\n",
    "    figsize=(2, 2),\n",
    "    adjustlabels=True,\n",
    "    output_file=None\n",
    ")"
   ]
  },
  {
   "cell_type": "raw",
   "metadata": {},
   "source": [
    ".. image:: images/other_examples/ube2i_fullheatmap.png\n",
    "\n",
    ".. image:: images/other_examples/ube2i_miniheatmap.png\n",
    "   :width: 200px\n",
    "   :align: center\n",
    "   \n",
    ".. image:: images/other_examples/ube2i_bar_mean.png\n",
    "   :width: 400px\n",
    "   :align: center\n",
    "   \n",
    ".. image:: images/other_examples/ube2i_kde.png\n",
    "   :width: 240px\n",
    "   :align: center\n",
    "\n",
    ".. image:: images/other_examples/ube2i_secondary.png\n",
    "   :width: 300px\n",
    "   :align: center\n",
    "   \n",
    ".. image:: images/other_examples/ube2i_correlation.png\n",
    "   :width: 250px\n",
    "   :align: center\n",
    "   \n",
    ".. image:: images/other_examples/ube2i_variability.png\n",
    "   :width: 300px\n",
    "   :align: center\n",
    "   \n",
    ".. image:: images/other_examples/ube2i_pcaaminoacid.png\n",
    "   :width: 200px\n",
    "\n",
    ".. image:: images/other_examples/ube2i_pcasecondary.png\n",
    "   :width: 200px\n"
   ]
  },
  {
   "cell_type": "markdown",
   "metadata": {},
   "source": [
    "## TAT"
   ]
  },
  {
   "cell_type": "markdown",
   "metadata": {},
   "source": [
    "### Load data"
   ]
  },
  {
   "cell_type": "code",
   "execution_count": null,
   "metadata": {
    "ExecuteTime": {
     "end_time": "2020-10-01T18:35:41.150029Z",
     "start_time": "2020-10-01T18:35:41.134359Z"
    }
   },
   "outputs": [],
   "source": [
    "#https://doi.org/10.1016/j.cell.2016.11.031\n",
    "\n",
    "path = '../Data/DMS_others.xlsx'\n",
    "sheet_name = 'TAT'\n",
    "usecols = 'A:V'\n",
    "col_data = 'DMS'\n",
    "\n",
    "#df_tat = pd.read_excel(path, sheet_name, index_col='Aminoacid',usecols=usecols).T\n",
    "# Save into pickle so it is easier to read next time you need it\n",
    "#df_tat.to_pickle('../data/df_tat.pkl')\n",
    "\n",
    "# Read from pickle to save time (same as reading from excel)\n",
    "df_tat = pd.read_pickle('../data/df_tat.pkl')"
   ]
  },
  {
   "cell_type": "markdown",
   "metadata": {},
   "source": [
    "### Create object"
   ]
  },
  {
   "cell_type": "code",
   "execution_count": null,
   "metadata": {
    "ExecuteTime": {
     "end_time": "2020-10-01T18:35:41.293300Z",
     "start_time": "2020-10-01T18:35:41.151971Z"
    }
   },
   "outputs": [],
   "source": [
    "# Order of amino acid substitutions in the hras_enrichment dataset\n",
    "aminoacids = list(df_tat.index)\n",
    "neworder_aminoacids = list('DEKHRGNQASTPCVYMILFW*')\n",
    "\n",
    "# First residue of the hras_enrichment dataset. Because 1-Met was not mutated, the dataset starts at residue 2\n",
    "start_position = df_tat.columns[0]\n",
    "\n",
    "# Full sequence\n",
    "sequence_tat = 'MEPVDPRLEPWKHPGSQPKTACTNCYCKKCCFHCQVCFITKALGISYGRKKRRQRRRAHQ'\\\n",
    "                    +'NSQTHQASLSKQPTSQPRGDPTGPKE'\n",
    "\n",
    "# Define secondary structure\n",
    "secondary_tat = [['L1'] * (8), ['α1'] * (13 - 8), ['L2'] * (28 - 14),\n",
    "                 ['α2'] * (41 - 28), ['L3'] * (90 - 41)]\n",
    "\n",
    "tat_obj = mut.Screen(\n",
    "    df_tat, sequence_tat, aminoacids, start_position, 0, secondary_tat\n",
    ")"
   ]
  },
  {
   "cell_type": "markdown",
   "metadata": {},
   "source": [
    "### 2D Plots"
   ]
  },
  {
   "cell_type": "code",
   "execution_count": null,
   "metadata": {
    "ExecuteTime": {
     "end_time": "2020-10-01T18:35:59.447240Z",
     "start_time": "2020-10-01T18:35:41.295244Z"
    }
   },
   "outputs": [],
   "source": [
    "%matplotlib inline\n",
    "\n",
    "# Create full heatmap\n",
    "tat_obj.heatmap(\n",
    "    colorbar_scale=(-0.75, 0.75),\n",
    "    neworder_aminoacids=neworder_aminoacids,\n",
    "    title='TAT',\n",
    "    show_cartoon=True,\n",
    "    output_file=None\n",
    ")\n",
    "\n",
    "# Miniheatmap\n",
    "tat_obj.miniheatmap(\n",
    "    title='Wt residue TAT',\n",
    "    colorbar_scale=(-0.75, 0.75),\n",
    "    neworder_aminoacids=neworder_aminoacids,\n",
    "    output_file=None\n",
    ")\n",
    "\n",
    "# Positional mean\n",
    "tat_obj.mean(\n",
    "    figsize=[6, 2.5],\n",
    "    mode='mean',\n",
    "    show_cartoon=True,\n",
    "    yscale=[-0.5, 0.25],\n",
    "    title='',\n",
    "    output_file=None\n",
    ")\n",
    "\n",
    "# Kernel\n",
    "tat_obj.kernel(histogram=True, title='TAT', xscale=[-1, 1], output_file=None)\n",
    "\n",
    "# Correlation between amino acids\n",
    "tat_obj.correlation(\n",
    "    colorbar_scale=[0.25, 1],\n",
    "    title='Correlation',\n",
    "    neworder_aminoacids=neworder_aminoacids,\n",
    "    output_file=None\n",
    ")\n",
    "\n",
    "# Explained variability by amino acid\n",
    "tat_obj.individual_correlation(\n",
    "    yscale=[0, 0.6],\n",
    "    title='Explained variability by amino acid',\n",
    "    output_file=None\n",
    ")\n",
    "\n",
    "# PCA by amino acid substitution\n",
    "tat_obj.pca(\n",
    "    title='',\n",
    "    dimensions=[0, 1],\n",
    "    figsize=(2, 2),\n",
    "    adjustlabels=True,\n",
    "    output_file=None\n",
    ")"
   ]
  },
  {
   "cell_type": "raw",
   "metadata": {},
   "source": [
    ".. image:: images/other_examples/tat_fullheatmap.png\n",
    "\n",
    ".. image:: images/other_examples/tat_miniheatmap.png\n",
    "   :width: 200px\n",
    "   :align: center\n",
    "   \n",
    ".. image:: images/other_examples/tat_bar_mean.png\n",
    "   :width: 400px\n",
    "   :align: center\n",
    "   \n",
    ".. image:: images/other_examples/tat_kde.png\n",
    "   :width: 240px\n",
    "   :align: center\n",
    "   \n",
    ".. image:: images/other_examples/tat_correlation.png\n",
    "   :width: 250px\n",
    "   :align: center\n",
    "   \n",
    ".. image:: images/other_examples/tat_variability.png\n",
    "   :width: 300px\n",
    "   :align: center\n",
    "   \n",
    ".. image:: images/other_examples/tat_pcaaminoacid.png\n",
    "   :width: 200px\n",
    "   :align: center\n"
   ]
  },
  {
   "cell_type": "markdown",
   "metadata": {},
   "source": [
    "## REV"
   ]
  },
  {
   "cell_type": "markdown",
   "metadata": {},
   "source": [
    "### Load data"
   ]
  },
  {
   "cell_type": "code",
   "execution_count": null,
   "metadata": {
    "ExecuteTime": {
     "end_time": "2020-10-01T18:35:59.459697Z",
     "start_time": "2020-10-01T18:35:59.449276Z"
    }
   },
   "outputs": [],
   "source": [
    "#https://doi.org/10.1016/j.cell.2016.11.031\n",
    "#https://www.uniprot.org/uniprot/P69718### Load data### Load data\n",
    "\n",
    "path = '../Data/DMS_others.xlsx'\n",
    "sheet_name = 'REV'\n",
    "usecols = 'A:V'\n",
    "col_data = 'DMS'\n",
    "\n",
    "#df_rev = pd.read_excel(path, sheet_name, index_col='Aminoacid',usecols=usecols).T\n",
    "# Save into pickle so it is easier to read next time you need it\n",
    "#df_rev.to_pickle('../data/df_rev.pkl')\n",
    "\n",
    "# Read from pickle to save time (same as reading from excel)\n",
    "df_rev = pd.read_pickle('../data/df_rev.pkl')"
   ]
  },
  {
   "cell_type": "markdown",
   "metadata": {},
   "source": [
    "### Create object"
   ]
  },
  {
   "cell_type": "code",
   "execution_count": null,
   "metadata": {
    "ExecuteTime": {
     "end_time": "2020-10-01T18:35:59.611525Z",
     "start_time": "2020-10-01T18:35:59.461667Z"
    }
   },
   "outputs": [],
   "source": [
    "# Order of amino acid substitutions in the hras_enrichment dataset\n",
    "aminoacids = list(df_rev.index)\n",
    "neworder_aminoacids = list('DEKHRGNQASTPCVYMILFW*')\n",
    "\n",
    "# First residue of the hras_enrichment dataset. Because 1-Met was not mureved, the dataset starts at residue 2\n",
    "start_position = df_rev.columns[0]\n",
    "\n",
    "# Full sequence\n",
    "sequence_rev = 'MAGRSGDSDEDLLKAVRLIKFLYQSNPPPNPEGTRQARRNRRRRWRERQRQIHSISERIL'\\\n",
    "                + 'STYLGRSAEPVPLQLPPLERLTLDCNEDCGTSGTQGVGSPQILVESPTILESGAKE'\n",
    "\n",
    "# Define secondary structure\n",
    "secondary_rev = [['L1'] * (8), ['α1'] * (25 - 8), ['L2'] * (33 - 25),\n",
    "                 ['α2'] * (68 - 33), ['L3'] * (116 - 41)]\n",
    "\n",
    "rev_obj = mut.Screen(\n",
    "    df_rev, sequence_rev, aminoacids, start_position, 0, secondary_rev\n",
    ")"
   ]
  },
  {
   "cell_type": "code",
   "execution_count": null,
   "metadata": {
    "ExecuteTime": {
     "end_time": "2020-10-01T18:36:08.442400Z",
     "start_time": "2020-10-01T18:35:59.613463Z"
    }
   },
   "outputs": [],
   "source": [
    "rev_obj.heatmap(\n",
    "    colorbar_scale=(-0.75, 0.75),\n",
    "    show_cartoon=True,\n",
    "    neworder_aminoacids=neworder_aminoacids\n",
    ")"
   ]
  },
  {
   "cell_type": "markdown",
   "metadata": {},
   "source": [
    "### 2D Plots"
   ]
  },
  {
   "cell_type": "code",
   "execution_count": null,
   "metadata": {
    "ExecuteTime": {
     "end_time": "2020-10-01T18:36:20.809895Z",
     "start_time": "2020-10-01T18:36:08.444591Z"
    }
   },
   "outputs": [],
   "source": [
    "%matplotlib inline\n",
    "\n",
    "# Create full heatmap\n",
    "rev_obj.heatmap(\n",
    "    colorbar_scale=(-0.75, 0.75),\n",
    "    neworder_aminoacids=neworder_aminoacids,\n",
    "    title='REV',\n",
    "    show_cartoon=True,\n",
    "    output_file=None\n",
    ")\n",
    "\n",
    "# Miniheatmap\n",
    "rev_obj.miniheatmap(\n",
    "    title='Wt residue REV',\n",
    "    colorbar_scale=(-0.75, 0.75),\n",
    "    neworder_aminoacids=neworder_aminoacids,\n",
    "    output_file=None\n",
    ")\n",
    "\n",
    "# Positional mean\n",
    "rev_obj.mean(\n",
    "    figsize=[6, 2.5],\n",
    "    mode='mean',\n",
    "    show_cartoon=True,\n",
    "    yscale=[-0.5, 0.25],\n",
    "    title='',\n",
    "    output_file=None\n",
    ")\n",
    "\n",
    "# Kernel\n",
    "rev_obj.kernel(histogram=True, title='REV', xscale=[-1, 1], output_file=None)\n",
    "\n",
    "# Correlation between amino acids\n",
    "rev_obj.correlation(\n",
    "    colorbar_scale=[0.25, 1],\n",
    "    title='Correlation',\n",
    "    neworder_aminoacids=neworder_aminoacids,\n",
    "    output_file=None\n",
    ")\n",
    "\n",
    "# Explained variability by amino acid\n",
    "rev_obj.individual_correlation(\n",
    "    yscale=[0, 0.6],\n",
    "    title='Explained variability by amino acid',\n",
    "    output_file=None\n",
    ")\n",
    "\n",
    "# PCA by amino acid substitution\n",
    "rev_obj.pca(\n",
    "    title='',\n",
    "    dimensions=[0, 1],\n",
    "    figsize=(2, 2),\n",
    "    adjustlabels=True,\n",
    "    output_file=None\n",
    ")"
   ]
  },
  {
   "cell_type": "raw",
   "metadata": {},
   "source": [
    ".. image:: images/other_examples/rev_fullheatmap.png\n",
    "\n",
    ".. image:: images/other_examples/rev_miniheatmap.png\n",
    "   :width: 200px\n",
    "   :align: center\n",
    "   \n",
    ".. image:: images/other_examples/rev_bar_mean.png\n",
    "   :width: 400px\n",
    "   :align: center\n",
    "   \n",
    ".. image:: images/other_examples/rev_kde.png\n",
    "   :width: 240px\n",
    "   :align: center\n",
    "   \n",
    ".. image:: images/other_examples/rev_correlation.png\n",
    "   :width: 250px\n",
    "   :align: center\n",
    "   \n",
    ".. image:: images/other_examples/rev_variability.png\n",
    "   :width: 300px\n",
    "   :align: center\n",
    "   \n",
    ".. image:: images/other_examples/rev_pcaaminoacid.png\n",
    "   :width: 200px\n",
    "   :align: center\n"
   ]
  },
  {
   "cell_type": "markdown",
   "metadata": {},
   "source": [
    "## α-synuclein"
   ]
  },
  {
   "cell_type": "markdown",
   "metadata": {},
   "source": [
    "### Load data"
   ]
  },
  {
   "cell_type": "code",
   "execution_count": null,
   "metadata": {
    "ExecuteTime": {
     "end_time": "2020-10-01T18:36:20.819727Z",
     "start_time": "2020-10-01T18:36:20.811705Z"
    }
   },
   "outputs": [],
   "source": [
    "#https://www.uniprot.org/uniprot/P37840#sequences\n",
    "#https://doi.org/10.1038/s41589-020-0480-6\n",
    "path = '../Data/DMS_others.xlsx'\n",
    "sheet_name = 'a-synuclein'\n",
    "usecols = 'A:EK'\n",
    "\n",
    "#df_asynuclein = pd.read_excel(path, sheet_name, index_col='Aminoacid',usecols=usecols)\n",
    "# Save into pickle so it is easier to read next time you need it\n",
    "#df_asynuclein.to_pickle('../data/df_asynuclein.pkl')\n",
    "\n",
    "# Read from pickle to save time (same as reading from excel)\n",
    "df_asynuclein = pd.read_pickle('../data/df_asynuclein.pkl')"
   ]
  },
  {
   "cell_type": "markdown",
   "metadata": {},
   "source": [
    "### Create object"
   ]
  },
  {
   "cell_type": "code",
   "execution_count": null,
   "metadata": {
    "ExecuteTime": {
     "end_time": "2020-10-01T18:36:20.997781Z",
     "start_time": "2020-10-01T18:36:20.822372Z"
    }
   },
   "outputs": [],
   "source": [
    "# Order of amino acid substitutions in the hras_enrichment dataset\n",
    "aminoacids = list(df_asynuclein.index)\n",
    "neworder_aminoacids = list('DEKHRGNQASTPCVYMILFW')\n",
    "\n",
    "# First residue of the hras_enrichment dataset. Because 1-Met was not mureved, the dataset starts at residue 2\n",
    "start_position = df_asynuclein.columns[0]\n",
    "\n",
    "# Full sequence\n",
    "sequence_asynuclein = 'MDVFMKGLSKAKEGVVAAAEKTKQGVAEAAGKTKEGVLYVGSKTKEGVVHGVATVAEKTK'\\\n",
    "                + 'EQVTNVGGAVVTGVTAVAQKTVEGAGSIAAATGFVKKDQLGKNEEGAPQEGILEDMPVDP'\\\n",
    "                + 'DNEAYEMPSEEGYQDYEPEA'\n",
    "\n",
    "# Define secondary structure\n",
    "secondary_asynuclein = [['L1'] * (1), ['α1'] * (37 - 1), ['L2'] * (44 - 37),\n",
    "                        ['α2'] * (92 - 44), ['L3'] * (140 - 92)]\n",
    "\n",
    "asynuclein_obj = mut.Screen(\n",
    "    df_asynuclein, sequence_asynuclein, aminoacids, start_position, 0,\n",
    "    secondary_asynuclein\n",
    ")"
   ]
  },
  {
   "cell_type": "markdown",
   "metadata": {},
   "source": [
    "### 2D Plots"
   ]
  },
  {
   "cell_type": "code",
   "execution_count": null,
   "metadata": {
    "ExecuteTime": {
     "end_time": "2020-10-01T18:36:33.776887Z",
     "start_time": "2020-10-01T18:36:21.003361Z"
    }
   },
   "outputs": [],
   "source": [
    "%matplotlib inline\n",
    "\n",
    "# Create full heatmap\n",
    "asynuclein_obj.heatmap(\n",
    "    colorbar_scale=(-0.75, 0.75),\n",
    "    neworder_aminoacids=neworder_aminoacids,\n",
    "    title='α-synuclein',\n",
    "    show_cartoon=True,\n",
    "    output_file=None\n",
    ")\n",
    "\n",
    "# Miniheatmap\n",
    "asynuclein_obj.miniheatmap(\n",
    "    title='Wt residue α-synuclein',\n",
    "    colorbar_scale=(-0.75, 0.75),\n",
    "    neworder_aminoacids=neworder_aminoacids,\n",
    "    output_file=None\n",
    ")\n",
    "\n",
    "# Positional mean\n",
    "asynuclein_obj.mean(\n",
    "    figsize=[6, 2.5],\n",
    "    mode='mean',\n",
    "    show_cartoon=True,\n",
    "    yscale=[0, 0.5],\n",
    "    title='',\n",
    "    output_file=None\n",
    ")\n",
    "\n",
    "# Kernel\n",
    "asynuclein_obj.kernel(\n",
    "    histogram=True, title='α-synuclein', xscale=[-0.75, 0.75], output_file=None\n",
    ")\n",
    "\n",
    "# Correlation between amino acids\n",
    "asynuclein_obj.correlation(\n",
    "    colorbar_scale=[0.5, 1],\n",
    "    title='Correlation',\n",
    "    neworder_aminoacids=neworder_aminoacids,\n",
    "    output_file=None\n",
    ")\n",
    "\n",
    "# Explained variability by amino acid\n",
    "asynuclein_obj.individual_correlation(\n",
    "    yscale=[0, 0.6],\n",
    "    title='Explained variability by amino acid',\n",
    "    output_file=None\n",
    ")\n",
    "\n",
    "# PCA by amino acid substitution\n",
    "asynuclein_obj.pca(\n",
    "    title='',\n",
    "    dimensions=[0, 1],\n",
    "    figsize=(2, 2),\n",
    "    adjustlabels=True,\n",
    "    output_file=None\n",
    ")"
   ]
  },
  {
   "cell_type": "raw",
   "metadata": {},
   "source": [
    ".. image:: images/other_examples/asynuclein_fullheatmap.png\n",
    "\n",
    ".. image:: images/other_examples/asynuclein_miniheatmap.png\n",
    "   :width: 200px\n",
    "   :align: center\n",
    "   \n",
    ".. image:: images/other_examples/asynuclein_bar_mean.png\n",
    "   :width: 400px\n",
    "   :align: center\n",
    "   \n",
    ".. image:: images/other_examples/asynuclein_kde.png\n",
    "   :width: 240px\n",
    "   :align: center\n",
    "   \n",
    ".. image:: images/other_examples/asynuclein_correlation.png\n",
    "   :width: 250px\n",
    "   :align: center\n",
    "   \n",
    ".. image:: images/other_examples/asynuclein_variability.png\n",
    "   :width: 300px\n",
    "   :align: center\n",
    "   \n",
    ".. image:: images/other_examples/asynuclein_pcaaminoacid.png\n",
    "   :width: 200px\n",
    "   :align: center\n"
   ]
  },
  {
   "cell_type": "markdown",
   "metadata": {},
   "source": [
    "## APH(3) II"
   ]
  },
  {
   "cell_type": "markdown",
   "metadata": {},
   "source": [
    "### Load data"
   ]
  },
  {
   "cell_type": "code",
   "execution_count": null,
   "metadata": {
    "ExecuteTime": {
     "end_time": "2020-10-01T18:58:48.722695Z",
     "start_time": "2020-10-01T18:58:48.716156Z"
    }
   },
   "outputs": [],
   "source": [
    "#https://doi.org/10.1093/nar/gku511\n",
    "# Data needs to be applied a np.log10\n",
    "\n",
    "path = '../Data/DMS_others.xlsx'\n",
    "sheet_name = 'KKA2_S3_Kan18_L1'\n",
    "usecols = 'A:JE'\n",
    "\n",
    "#df_aph = pd.read_excel(path, sheet_name, index_col='Aminoacid',usecols=usecols)\n",
    "# Save into pickle so it is easier to read next time you need it\n",
    "#df_aph.to_pickle('../data/df_aph.pkl')\n",
    "\n",
    "# Read from pickle to save time (same as reading from excel)\n",
    "df_aph = pd.read_pickle('../data/df_aph.pkl')"
   ]
  },
  {
   "cell_type": "markdown",
   "metadata": {},
   "source": [
    "### Create object"
   ]
  },
  {
   "cell_type": "code",
   "execution_count": null,
   "metadata": {
    "ExecuteTime": {
     "end_time": "2020-10-01T18:58:50.034255Z",
     "start_time": "2020-10-01T18:58:49.736071Z"
    }
   },
   "outputs": [],
   "source": [
    "# Order of amino acid substitutions in the hras_enrichment dataset\n",
    "aminoacids = list(df_aph.index)\n",
    "neworder_aminoacids = list('DEKHRGNQASTPCVYMILFW')\n",
    "\n",
    "# First residue of the hras_enrichment dataset. Because 1-Met was not mureved, the dataset starts at residue 2\n",
    "start_position = df_aph.columns[0]\n",
    "\n",
    "# Full sequence\n",
    "sequence_aph = 'MIEQDGLHAGSPAAWVERLFGYDWAQQTIGCSDAAVFRLSAQGRPVLFVKTDLSGALNELQ'\\\n",
    "                + 'DEAARLSWLATTGVPCAAVLDVVTEAGRDWLLLGEVPGQDLLSSHLAPAEKVSIMADAMRR'\\\n",
    "                + 'LHTLDPATCPFDHQAKHRIERARTRMEAGLVDQDDLDEEHQGLAPAELFARLKARMPDGED'\\\n",
    "                + 'LVVTHGDACLPNIMVENGRFSGFIDCGRLGVADRYQDIALATRDIAEELGGEWADRFLVLY'\\\n",
    "                + 'GIAAPDSQRIAFYRLLDEFF'\n",
    "\n",
    "# Define secondary structure\n",
    "secondary_aph = [['L1'] * (11), ['α1'] * (16 - 11),\n",
    "                 ['L2'] * (22 - 16), ['β1'] * (26 - 22), ['L3'] * (34 - 26),\n",
    "                 ['β2'] * (40 - 34), ['L4'] * (46 - 40), ['β3'] * (52 - 46),\n",
    "                 ['L5'] * (58 - 52), ['α2'] * (72 - 58), ['L6'] * (79 - 72),\n",
    "                 ['β4'] * (85 - 79), ['L7'] * (89 - 85), ['β5'] * (95 - 89),\n",
    "                 ['L8'] * (99 - 95), ['β6'] * (101 - 99), ['L9'] * (107 - 101),\n",
    "                 ['α3'] * (131 - 107), ['L10'] * (135 - 131), ['α4'] *\n",
    "                 (150 - 135), ['L11'] * (158 - 150), ['α5'] * (163 - 158),\n",
    "                 ['L12'] * (165 - 163), ['α6'] * (177 - 165),\n",
    "                 ['L13'] * (183 - 177), ['β7'] * (187 - 183),\n",
    "                 ['L14'] * (191 - 187), ['α7'] * (194 - 191), ['L15'] * (1),\n",
    "                 ['β8'] * (199 - 195), ['L16'] * (201 - 199),\n",
    "                 ['β9'] * (206 - 201), ['L17'] * (212 - 206),\n",
    "                 ['β10'] * (216 - 212), ['α8'] * (245 - 216), ['L18'] * (4),\n",
    "                 ['α9'] * (264 - 249)]\n",
    "\n",
    "aph_obj = mut.Screen(\n",
    "    np.log10(df_aph), sequence_aph, aminoacids, start_position, 0, secondary_aph\n",
    ")"
   ]
  },
  {
   "cell_type": "markdown",
   "metadata": {},
   "source": [
    "### 2D Plots"
   ]
  },
  {
   "cell_type": "code",
   "execution_count": null,
   "metadata": {
    "ExecuteTime": {
     "end_time": "2020-10-01T18:59:14.386117Z",
     "start_time": "2020-10-01T18:58:51.264161Z"
    }
   },
   "outputs": [],
   "source": [
    "%matplotlib inline\n",
    "\n",
    "colormap = copy.copy((plt.cm.get_cmap('Blues_r')))\n",
    "\n",
    "# Create full heatmap\n",
    "aph_obj.heatmap(\n",
    "    colorbar_scale=(-0.75, 0.25),\n",
    "    neworder_aminoacids=neworder_aminoacids,\n",
    "    title='APH',\n",
    "    show_cartoon=True,\n",
    "    colormap=colormap,\n",
    "    output_file=None\n",
    ")\n",
    "\n",
    "# Miniheatmap\n",
    "aph_obj.miniheatmap(\n",
    "    title='Wt residue APH',\n",
    "    neworder_aminoacids=neworder_aminoacids,\n",
    "    colormap=colormap,\n",
    "    colorbar_scale=(-0.75, 0.25),\n",
    "    output_file=None\n",
    ")\n",
    "\n",
    "# Positional mean\n",
    "aph_obj.mean(\n",
    "    figsize=[10, 2.5],\n",
    "    mode='mean',\n",
    "    show_cartoon=True,\n",
    "    yscale=[-1.5, 0.5],\n",
    "    title='',\n",
    "    output_file=None\n",
    ")\n",
    "\n",
    "# Kernel\n",
    "aph_obj.kernel(histogram=True, title='APH', xscale=[-2, 2], output_file=None)\n",
    "\n",
    "# Graph bar of the mean of each secondary motif\n",
    "aph_obj.secondary_mean(\n",
    "    yscale=[-1, 0],\n",
    "    figsize=[5, 2],\n",
    "    title='Mean of secondary motifs',\n",
    "    output_file=None\n",
    ")\n",
    "\n",
    "# Correlation between amino acids\n",
    "aph_obj.correlation(\n",
    "    colorbar_scale=[0.25, 0.75],\n",
    "    title='Correlation',\n",
    "    neworder_aminoacids=neworder_aminoacids,\n",
    "    output_file=None\n",
    ")\n",
    "\n",
    "# Explained variability by amino acid\n",
    "aph_obj.individual_correlation(\n",
    "    yscale=[0, 0.6],\n",
    "    title='Explained variability by amino acid',\n",
    "    output_file=None\n",
    ")\n",
    "\n",
    "# PCA by amino acid substitution\n",
    "aph_obj.pca(\n",
    "    title='',\n",
    "    dimensions=[0, 1],\n",
    "    figsize=(2, 2),\n",
    "    adjustlabels=True,\n",
    "    output_file=None\n",
    ")\n",
    "\n",
    "# PCA by secondary structure motif\n",
    "aph_obj.pca(\n",
    "    title='',\n",
    "    mode='secondary',\n",
    "    dimensions=[0, 1],\n",
    "    figsize=(2, 2),\n",
    "    adjustlabels=True,\n",
    "    output_file=None\n",
    ")"
   ]
  },
  {
   "cell_type": "raw",
   "metadata": {},
   "source": [
    ".. image:: images/other_examples/aph_fullheatmap.png\n",
    "\n",
    ".. image:: images/other_examples/aph_miniheatmap.png\n",
    "   :width: 200px\n",
    "   :align: center\n",
    "   \n",
    ".. image:: images/other_examples/aph_bar_mean.png\n",
    "   :align: center\n",
    "   \n",
    ".. image:: images/other_examples/aph_kde.png\n",
    "   :width: 240px\n",
    "   :align: center\n",
    "\n",
    ".. image:: images/other_examples/aph_secondary.png\n",
    "   :width: 300px\n",
    "   :align: center\n",
    "   \n",
    ".. image:: images/other_examples/aph_correlation.png\n",
    "   :width: 250px\n",
    "   :align: center\n",
    "   \n",
    ".. image:: images/other_examples/aph_variability.png\n",
    "   :width: 300px\n",
    "   :align: center\n",
    "   \n",
    ".. image:: images/other_examples/aph_pcaaminoacid.png\n",
    "   :width: 200px\n",
    "\n",
    ".. image:: images/other_examples/aph_pcasecondary.png\n",
    "   :width: 200px\n"
   ]
  },
  {
   "cell_type": "code",
   "execution_count": null,
   "metadata": {
    "ExecuteTime": {
     "end_time": "2020-10-01T18:59:32.522694Z",
     "start_time": "2020-10-01T18:59:32.123475Z"
    }
   },
   "outputs": [],
   "source": [
    "%matplotlib widget\n",
    "\n",
    "# Plot 3-D plot\n",
    "aph_obj.scatter_3D(\n",
    "    mode='A',\n",
    "    pdb_path='../data/1nd4.pdb',\n",
    "    position_correction=0,\n",
    "    squared=False,\n",
    "    lof=-0.5,\n",
    "    gof=0.25\n",
    ")\n",
    "\n",
    "# Plot 3-D of distance to center of protein, SASA and B-factor\n",
    "aph_obj.scatter_3D_pdbprop(\n",
    "    mode='R',\n",
    "    plot=['Distance', 'Score', 'SASA'],\n",
    "    position_correction=0,\n",
    "    pdb_path='../data/1nd4.pdb',\n",
    "    output_df=False,\n",
    "    color_by_score=False\n",
    ")"
   ]
  },
  {
   "cell_type": "code",
   "execution_count": null,
   "metadata": {
    "ExecuteTime": {
     "end_time": "2020-10-01T18:42:52.381276Z",
     "start_time": "2020-10-01T18:42:52.010795Z"
    }
   },
   "outputs": [],
   "source": [
    "# Start pymol and color residues. Cut offs are set with gof and lof parameters.\n",
    "aph_obj.pymol(\n",
    "    pdb='../data/1nd4.pdb',\n",
    "    mode='mean',\n",
    "    gof=0.25,\n",
    "    lof=-0.5,\n",
    "    position_correction=0\n",
    ")"
   ]
  },
  {
   "cell_type": "raw",
   "metadata": {},
   "source": [
    ".. image:: images/other_examples/aph_pymol.png\n",
    "   :align: center"
   ]
  },
  {
   "cell_type": "markdown",
   "metadata": {},
   "source": [
    "## b11L5F"
   ]
  },
  {
   "cell_type": "markdown",
   "metadata": {},
   "source": [
    "### Load data"
   ]
  },
  {
   "cell_type": "code",
   "execution_count": null,
   "metadata": {
    "ExecuteTime": {
     "end_time": "2020-10-01T18:36:58.379426Z",
     "start_time": "2020-10-01T18:36:58.338632Z"
    }
   },
   "outputs": [],
   "source": [
    "#https://doi.org/10.5281/zenodo.1216229\n",
    "\n",
    "path = '../Data/DMS_others.xlsx'\n",
    "sheet_name = 'b11L5F'\n",
    "usecols = 'B,M'\n",
    "col_data = 'relative_tryp_stability_score'\n",
    "\n",
    "# Read excel file\n",
    "#df_b11L5F_raw = pd.read_excel(path, sheet_name, usecols=usecols)\n",
    "# Save into pickle so it is easier to read next time you need it\n",
    "#df_b11L5F_raw.to_pickle('../data/df_b11L5F_raw.pkl')\n",
    "\n",
    "# Read from pickle to save time (same as reading from excel)\n",
    "df_b11L5F_raw = pd.read_pickle('../data/df_b11L5F_raw.pkl')\n",
    "\n",
    "# Parse\n",
    "df_b11L5F, sequence_b11L5F = mut.parse_pivot(df_b11L5F_raw, col_data=col_data)"
   ]
  },
  {
   "cell_type": "markdown",
   "metadata": {},
   "source": [
    "### Create object"
   ]
  },
  {
   "cell_type": "code",
   "execution_count": null,
   "metadata": {
    "ExecuteTime": {
     "end_time": "2020-10-01T18:36:58.506074Z",
     "start_time": "2020-10-01T18:36:58.381289Z"
    }
   },
   "outputs": [],
   "source": [
    "# Order of amino acid substitutions in the hras_enrichment dataset\n",
    "aminoacids = list(df_b11L5F.index)\n",
    "neworder_aminoacids = list('DEKHRGNQASTPVYMILFW')\n",
    "\n",
    "# Sequence\n",
    "sequence_b11L5F = 'CRAASLLPGTWQVTMTNEDGQTSQGQMHFQPRSPYTLDVKAQGTISDGRPI'\\\n",
    "                    +'SGKGKVTCKTPDTMDVDITYPSLGNMKVQGQVTLDSPTQFKFDVTTSDGSKVTGTLQRQE'\n",
    "\n",
    "# First residue of the hras_enrichment dataset. Because 1-Met was not mureved, the dataset starts at residue 2\n",
    "start_position = df_b11L5F.columns[0]\n",
    "\n",
    "b11L5F_obj = mut.Screen(\n",
    "    df_b11L5F, sequence_b11L5F, aminoacids, start_position, 0\n",
    ")"
   ]
  },
  {
   "cell_type": "markdown",
   "metadata": {},
   "source": [
    "### 2D Plots"
   ]
  },
  {
   "cell_type": "code",
   "execution_count": null,
   "metadata": {
    "ExecuteTime": {
     "end_time": "2020-10-01T18:43:27.344336Z",
     "start_time": "2020-10-01T18:43:17.479831Z"
    }
   },
   "outputs": [],
   "source": [
    "%matplotlib inline\n",
    "colormap = copy.copy((plt.cm.get_cmap('bwr')))\n",
    "\n",
    "# Create full heatmap\n",
    "b11L5F_obj.heatmap(\n",
    "    neworder_aminoacids=neworder_aminoacids, title='b11L5F', output_file=None\n",
    ")\n",
    "\n",
    "# Miniheatmap\n",
    "b11L5F_obj.miniheatmap(\n",
    "    title='Wt residue b11L5F',\n",
    "    neworder_aminoacids=neworder_aminoacids,\n",
    "    output_file=None\n",
    ")\n",
    "\n",
    "# Positional mean\n",
    "b11L5F_obj.mean(\n",
    "    figsize=[6, 2.5],\n",
    "    mode='mean',\n",
    "    yscale=[-1.5, 0.5],\n",
    "    title='',\n",
    "    output_file=None\n",
    ")\n",
    "\n",
    "# Kernel\n",
    "b11L5F_obj.kernel(\n",
    "    histogram=True, title='b11L5F', xscale=[-2, 1], output_file=None\n",
    ")\n",
    "\n",
    "# Correlation between amino acids\n",
    "b11L5F_obj.correlation(\n",
    "    colorbar_scale=[0.25, 1],\n",
    "    title='Correlation',\n",
    "    neworder_aminoacids=neworder_aminoacids,\n",
    "    output_file=None\n",
    ")\n",
    "\n",
    "# Explained variability by amino acid\n",
    "b11L5F_obj.individual_correlation(\n",
    "    yscale=[0, 0.6],\n",
    "    title='Explained variability by amino acid',\n",
    "    neworder_aminoacids=neworder_aminoacids,\n",
    "    output_file=None\n",
    ")\n",
    "# PCA by amino acid substitution\n",
    "b11L5F_obj.pca(\n",
    "    title='',\n",
    "    dimensions=[0, 1],\n",
    "    figsize=(2, 2),\n",
    "    adjustlabels=True,\n",
    "    neworder_aminoacids=neworder_aminoacids,\n",
    "    output_file=None\n",
    ")"
   ]
  },
  {
   "cell_type": "raw",
   "metadata": {},
   "source": [
    ".. image:: images/other_examples/b11L5F_fullheatmap.png\n",
    "\n",
    ".. image:: images/other_examples/b11L5F_miniheatmap.png\n",
    "   :width: 200px\n",
    "   :align: center\n",
    "   \n",
    ".. image:: images/other_examples/b11L5F_bar_mean.png\n",
    "   :width: 400px\n",
    "   :align: center\n",
    "   \n",
    ".. image:: images/other_examples/b11L5F_kde.png\n",
    "   :width: 240px\n",
    "   :align: center\n",
    "   \n",
    ".. image:: images/other_examples/b11L5F_correlation.png\n",
    "   :width: 250px\n",
    "   :align: center\n",
    "   \n",
    ".. image:: images/other_examples/b11L5F_variability.png\n",
    "   :width: 300px\n",
    "   :align: center\n",
    "   \n",
    ".. image:: images/other_examples/b11L5F_pcaaminoacid.png\n",
    "   :width: 200px\n",
    "   :align: center"
   ]
  },
  {
   "cell_type": "markdown",
   "metadata": {},
   "source": [
    "## References"
   ]
  },
  {
   "cell_type": "raw",
   "metadata": {},
   "source": [
    "The raw data was extracted from published material. Here are the sources: beta lactamase [#Stiffler2015]_ , sumo1 and ube2i [#Weile2017]_ , mapk1 [#Livesey2020]_ , tat and rev [#Fernandes2016]_ , alpha-synuclein [#Newberry2020]_ , aph(3)II [#Melnikov2014]_ , b11l5f [#Dou2018]_ )."
   ]
  },
  {
   "cell_type": "raw",
   "metadata": {},
   "source": [
    ".. [#Dou2018] Dou, J., Vorobieva, A., Sheffler, W., Doyle, L., Park, H., Bick, M., … Baker, D. (2018). De Novo Design Of A Fluorescence-Activating Β-Barrel. Zenodo. `doi:10.5281/zenodo.1216229 <https://www.nature.com/articles/s41586-018-0509-0>`_\n",
    "\n",
    ".. [#Fernandes2016] Fernandes, J. D., Faust, T. B., Strauli, N. B., Smith, C., Crosby, D. C., Nakamura, R. L., … Frankel, A. D. (2016). Functional segregation of overlapping genes in HIV. Cell, 167(7), 1762–1773.e12. `doi:10.1016/j.cell.2016.11.031 <https://www.cell.com/cell/fulltext/S0092-8674(16)31603-8?_returnURL=https%3A%2F%2Flinkinghub.elsevier.com%2Fretrieve%2Fpii%2FS0092867416316038%3Fshowall%3Dtrue>`_\n",
    "\n",
    "\n",
    ".. [#Livesey2020] Livesey, B. J., & Marsh, J. A. (2020). Using deep mutational scanning to benchmark variant effect predictors and identify disease mutations. Molecular Systems Biology, 16(7), e9380. `doi:10.15252/msb.20199380 <https://www.embopress.org/doi/full/10.15252/msb.20199380>`_\n",
    "\n",
    "\n",
    ".. [#Melnikov2014] Melnikov, A., Rogov, P., Wang, L., Gnirke, A., & Mikkelsen, T. S. (2014). Comprehensive mutational scanning of a kinase in vivo reveals substrate-dependent fitness landscapes. Nucleic Acids Research, 42(14), e112. `doi:10.1093/nar/gku511 <https://academic.oup.com/nar/article/42/14/e112/1266940>`_\n",
    "\n",
    "\n",
    ".. [#Newberry2020] Newberry, R. W., Leong, J. T., Chow, E. D., Kampmann, M., & DeGrado, W. F. (2020). Deep mutational scanning reveals the structural basis for α-synuclein activity. Nature Chemical Biology, 16(6), 653–659. `doi:10.1038/s41589-020-0480-6 <https://www.nature.com/articles/s41589-020-0480-6>`_\n",
    "\n",
    "\n",
    ".. [#Stiffler2015] Stiffler, M. A., Hekstra, D. R., & Ranganathan, R. (2015). Evolvability as a function of purifying selection in TEM-1 β-lactamase. Cell, 160(5), 882–892. `doi:10.1016/j.cell.2015.01.035 <https://www.cell.com/cell/fulltext/S0092-8674(15)00078-1?_returnURL=https%3A%2F%2Flinkinghub.elsevier.com%2Fretrieve%2Fpii%2FS0092867415000781%3Fshowall%3Dtrue>`_\n",
    "\n",
    "\n",
    ".. [#Weile2017] Weile, J., Sun, S., Cote, A. G., Knapp, J., Verby, M., Mellor, J. C., … Roth, F. P. (2017). A framework for exhaustively mapping functional missense variants. Molecular Systems Biology, 13(12), 957. `doi:10.15252/msb.20177908 <https://www.embopress.org/doi/full/10.15252/msb.20177908>`_\n",
    "\n"
   ]
  }
 ],
 "metadata": {
  "kernelspec": {
   "display_name": "Python 3",
   "language": "python",
   "name": "python3"
  },
  "language_info": {
   "codemirror_mode": {
    "name": "ipython",
    "version": 3
   },
   "file_extension": ".py",
   "mimetype": "text/x-python",
   "name": "python",
   "nbconvert_exporter": "python",
   "pygments_lexer": "ipython3",
   "version": "3.8.3"
  },
  "toc": {
   "base_numbering": 1,
   "nav_menu": {},
   "number_sections": true,
   "sideBar": true,
   "skip_h1_title": false,
   "title_cell": "Table of Contents",
   "title_sidebar": "Contents",
   "toc_cell": false,
   "toc_position": {
    "height": "calc(100% - 180px)",
    "left": "10px",
    "top": "150px",
    "width": "215.038px"
   },
   "toc_section_display": true,
   "toc_window_display": true
  }
 },
 "nbformat": 4,
 "nbformat_minor": 4
}
