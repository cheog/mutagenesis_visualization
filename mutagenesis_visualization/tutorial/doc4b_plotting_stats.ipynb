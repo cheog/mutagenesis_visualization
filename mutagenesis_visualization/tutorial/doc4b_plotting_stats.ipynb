{
 "cells": [
  {
   "cell_type": "markdown",
   "metadata": {},
   "source": [
    "# Creating plots"
   ]
  },
  {
   "cell_type": "raw",
   "metadata": {},
   "source": [
    "This section continues showing how to do different types of plots."
   ]
  },
  {
   "cell_type": "markdown",
   "metadata": {},
   "source": [
    "## Import modules"
   ]
  },
  {
   "cell_type": "code",
   "execution_count": null,
   "metadata": {
    "ExecuteTime": {
     "end_time": "2020-10-01T18:51:26.629721Z",
     "start_time": "2020-10-01T18:51:26.011552Z"
    },
    "execution": {
     "iopub.execute_input": "2020-11-25T01:47:43.095495Z",
     "iopub.status.busy": "2020-11-25T01:47:43.095057Z",
     "iopub.status.idle": "2020-11-25T01:47:43.106221Z",
     "shell.execute_reply": "2020-11-25T01:47:43.105573Z",
     "shell.execute_reply.started": "2020-11-25T01:47:43.095464Z"
    }
   },
   "outputs": [],
   "source": [
    "# running locally, if you pip install then you just have to import the module\n",
    "import numpy as np\n",
    "import pandas as pd\n",
    "import matplotlib as plt\n",
    "import copy\n",
    "\n",
    "try:\n",
    "    import mutagenesis_visualization as mut\n",
    "except ModuleNotFoundError:  # This step is only for when I run the notebooks locally\n",
    "    import sys\n",
    "    sys.path.append('../../')\n",
    "    import mutagenesis_visualization as mut"
   ]
  },
  {
   "cell_type": "markdown",
   "metadata": {},
   "source": [
    "## Create object of class Screen"
   ]
  },
  {
   "cell_type": "raw",
   "metadata": {},
   "source": [
    "Class reviewed in this section:\n",
    "    - :func:`mutagenesis_visualization.code_create_objects`\n"
   ]
  },
  {
   "cell_type": "markdown",
   "metadata": {},
   "source": [
    "To save time, we will load the object we were working on the previous notebook by using the function ``mut.hras_RBD()``."
   ]
  },
  {
   "cell_type": "code",
   "execution_count": null,
   "metadata": {},
   "outputs": [],
   "source": [
    "hras_RBD = mut.hras_RBD()"
   ]
  },
  {
   "cell_type": "markdown",
   "metadata": {},
   "source": [
    "## Histogram, scatter and more"
   ]
  },
  {
   "cell_type": "raw",
   "metadata": {},
   "source": [
    "Methods reviewed in this section:\n",
    "    - :meth:`mutagenesis_visualization.Screen.kernel`\n",
    "    - :meth:`mutagenesis_visualization.Screen.histogram`\n",
    "    - :meth:`mutagenesis_visualization.Screen.scatter`\n",
    "    - :meth:`mutagenesis_visualization.Screen.rank`\n",
    "    - :meth:`mutagenesis_visualization.Screen.cumulative`"
   ]
  },
  {
   "cell_type": "markdown",
   "metadata": {},
   "source": [
    "There are different tools to analyze the data. The package can plot the kernel density estimation (``object.kernel``). There is the option to fit other functions to the data (see Implementation for more). You could also only plot a histogram (``object.histogram``). For the histograms, we can select to plot only the single nucleotide variants (SNVs) or the non-SNVs. In the example, it actually changes the shape of the population. Non-SNVs are more sensitive to mutations than SNVs because there is a higher proportion of non-conservative amino acid replacements. "
   ]
  },
  {
   "cell_type": "code",
   "execution_count": null,
   "metadata": {
    "ExecuteTime": {
     "end_time": "2020-10-01T18:22:07.878691Z",
     "start_time": "2020-10-01T18:22:07.296679Z"
    }
   },
   "outputs": [],
   "source": [
    "# Plot kernel dist using sns.distplot.\n",
    "hras_RBD.kernel(\n",
    "    histogram=True, title='H-Ras 2-166', xscale=[-2, 1], output_file=None\n",
    ")\n",
    "\n",
    "# Plot histogram of SNVs\n",
    "hras_RBD.histogram(\n",
    "    population='SNV', title='H-Ras 2-166 SNV', xscale=[-2, 1], output_file=None\n",
    ")\n",
    "\n",
    "# Plot histogram of non-SNVs\n",
    "hras_RBD.histogram(\n",
    "    population='nonSNV',\n",
    "    title='H-Ras 2-166 non-SNV',\n",
    "    xscale=[-2, 1],\n",
    "    output_file=None\n",
    ")"
   ]
  },
  {
   "cell_type": "raw",
   "metadata": {},
   "source": [
    ".. image:: images/exported_images/hras_kde.png\n",
    "   :width: 240px\n",
    "\n",
    ".. image:: images/exported_images/hras_histsnv.png\n",
    "   :width: 200px\n",
    "\n",
    ".. image:: images/exported_images/hras_histnonsnv.png\n",
    "   :width: 200px"
   ]
  },
  {
   "cell_type": "markdown",
   "metadata": {},
   "source": [
    "If you have multiple datasets and want to compare them, you can do it with the method ``object.scatter``. We give the option to do the comparison at a mutation by mutation level ``mode=pointmutant``, or at a position level ``mode=mean``."
   ]
  },
  {
   "cell_type": "code",
   "execution_count": null,
   "metadata": {
    "ExecuteTime": {
     "end_time": "2020-10-01T18:22:09.876423Z",
     "start_time": "2020-10-01T18:22:09.594417Z"
    }
   },
   "outputs": [],
   "source": [
    "# Plot a scatter plot of each mutation\n",
    "hras_RBD.scatter(\n",
    "    hras_GAPGEF,\n",
    "    title='Individual mutations',\n",
    "    mode='pointmutant',\n",
    "    xscale=(-2.5, 1.5),\n",
    "    yscale=(-2.5, 1.5),\n",
    "    x_label='H-Ras Unregulated',\n",
    "    y_label='H-Ras Regulated',\n",
    "    output_file=None\n",
    ")\n",
    "\n",
    "# Plot a scatter plot of the mean position\n",
    "hras_RBD.scatter(\n",
    "    hras_GAPGEF,\n",
    "    title='Positional average',\n",
    "    mode='mean',\n",
    "    xscale=(-2, 1),\n",
    "    yscale=(-2, 1),\n",
    "    x_label='H-Ras Unregulated',\n",
    "    y_label='H-Ras Regulated',\n",
    "    output_file=None\n",
    ")"
   ]
  },
  {
   "cell_type": "raw",
   "metadata": {},
   "source": [
    ".. image:: images/exported_images/hras_scatter.png\n",
    "   :width: 200px\n",
    "\n",
    ".. image:: images/exported_images/hras_scatter_mean.png\n",
    "   :width: 200px"
   ]
  },
  {
   "cell_type": "markdown",
   "metadata": {},
   "source": [
    "The method ``object.rank`` sorts each mutation (or position) by its enrichment score. If ``outdf=True``, it will return a dataframe with the mutations ranked. This plot can now be done using plotly (see following chapter)."
   ]
  },
  {
   "cell_type": "code",
   "execution_count": null,
   "metadata": {
    "ExecuteTime": {
     "end_time": "2020-10-01T18:22:11.403963Z",
     "start_time": "2020-10-01T18:22:11.175550Z"
    }
   },
   "outputs": [],
   "source": [
    "# Rank plot\n",
    "hras_RBD.rank(\n",
    "    mode='pointmutant', outdf=True, title='Rank of mutations', output_file=None\n",
    ")"
   ]
  },
  {
   "cell_type": "raw",
   "metadata": {},
   "source": [
    ".. image:: images/exported_images/hras_rank.png\n",
    "   :width: 400px\n",
    "   \n",
    ".. image:: images/exported_images/hras_ranktable.png\n",
    "   :width: 200px"
   ]
  },
  {
   "cell_type": "markdown",
   "metadata": {},
   "source": [
    "The method ``object.cumulative`` draws a cumulative plot that sums the mean enrichment score of every position. This  plot is useful to determine if the sensitivity to mutations is constant throughout the protein or not. In the example, we see that the cumulative function follows the x=y line, suggestion a homogeneous mutational tolerance. \n"
   ]
  },
  {
   "cell_type": "code",
   "execution_count": null,
   "metadata": {
    "ExecuteTime": {
     "end_time": "2020-10-01T18:22:12.745267Z",
     "start_time": "2020-10-01T18:22:12.623974Z"
    }
   },
   "outputs": [],
   "source": [
    "# Cumulative plot\n",
    "hras_RBD.cumulative(mode='all', title='Cumulative Score', output_file=None)"
   ]
  },
  {
   "cell_type": "raw",
   "metadata": {},
   "source": [
    ".. image:: images/exported_images/hras_cumulative.png\n",
    "   :width: 300px\n",
    "   :align: center"
   ]
  },
  {
   "cell_type": "markdown",
   "metadata": {},
   "source": [
    "## Bar and line charts"
   ]
  },
  {
   "cell_type": "raw",
   "metadata": {},
   "source": [
    "Methods reviewed in this section:\n",
    "    - :meth:`mutagenesis_visualization.Screen.mean`\n",
    "    - :meth:`mutagenesis_visualization.Screen.differential`\n",
    "    - :meth:`mutagenesis_visualization.Screen.position`\n",
    "    - :meth:`mutagenesis_visualization.Screen.secondary_mean`"
   ]
  },
  {
   "cell_type": "markdown",
   "metadata": {},
   "source": [
    "The method ``object.mean`` will plot the mean enrichment score for every position on a bar chart. It will be colored blue for loss of function and red for gain of function. Additionally, setting the parameter ``mode`` to an amino acid (using the one letter code) will plot the enrichment for that particular amino acid along the protein. In this example, we are showing the mean enrichment scores (top) and an alanine scan (bottom)"
   ]
  },
  {
   "cell_type": "code",
   "execution_count": null,
   "metadata": {
    "ExecuteTime": {
     "end_time": "2020-10-01T18:25:52.438263Z",
     "start_time": "2020-10-01T18:25:51.339286Z"
    },
    "execution": {
     "iopub.execute_input": "2020-11-25T01:48:08.241909Z",
     "iopub.status.busy": "2020-11-25T01:48:08.241642Z",
     "iopub.status.idle": "2020-11-25T01:48:09.320401Z",
     "shell.execute_reply": "2020-11-25T01:48:09.319599Z",
     "shell.execute_reply.started": "2020-11-25T01:48:08.241882Z"
    }
   },
   "outputs": [],
   "source": [
    "# Plot a bar graph with the mean enrichment score\n",
    "hras_RBD.mean(\n",
    "    figsize=[6, 2.5],\n",
    "    mode='mean',\n",
    "    show_cartoon=True,\n",
    "    yscale=[-2, 0.5],\n",
    "    title='',\n",
    "    output_file=None\n",
    ")\n",
    "\n",
    "# Plot a bar graph with the alanine enrichment score\n",
    "hras_RBD.mean(\n",
    "    figsize=[6, 2.5],\n",
    "    mode='A',\n",
    "    show_cartoon=True,\n",
    "    yscale=[-2, 0.5],\n",
    "    title='',\n",
    "    output_file=None\n",
    ")"
   ]
  },
  {
   "cell_type": "raw",
   "metadata": {},
   "source": [
    ".. image:: images/exported_images/hras_bar_mean.png\n",
    "   :width: 500px\n",
    "   :align: center\n",
    "   \n",
    ".. image:: images/exported_images/hras_bar_alanine.png\n",
    "   :width: 500px\n",
    "   :align: center"
   ]
  },
  {
   "cell_type": "markdown",
   "metadata": {},
   "source": [
    "The mean differential effect between the two example datasets is displayed using the method ``object.differential``. This plot is useful to compare either orthologs/paralogs or the same protein with different effectors, and determine which areas of the protein have a different sensitivity to mutations."
   ]
  },
  {
   "cell_type": "code",
   "execution_count": null,
   "metadata": {
    "ExecuteTime": {
     "end_time": "2020-10-01T18:25:53.286188Z",
     "start_time": "2020-10-01T18:25:53.084308Z"
    }
   },
   "outputs": [],
   "source": [
    "# Plot the difference between H-Ras unregulated and H-Ras regulated datasets\n",
    "# The subtraction is hras_RBD - hrasGAPGEF\n",
    "hras_RBD.differential(\n",
    "    hras_GAPGEF,\n",
    "    figsize=[6, 2.5],\n",
    "    show_cartoon=True,\n",
    "    yscale=[-1, 1],\n",
    "    title='',\n",
    "    output_file=None\n",
    ")"
   ]
  },
  {
   "cell_type": "raw",
   "metadata": {
    "ExecuteTime": {
     "end_time": "2020-09-01T03:12:53.467153Z",
     "start_time": "2020-09-01T03:12:53.462676Z"
    }
   },
   "source": [
    ".. image:: images/exported_images/hras_diffenrichment.png\n",
    "   :width: 500px\n",
    "   :align: center"
   ]
  },
  {
   "cell_type": "markdown",
   "metadata": {},
   "source": [
    "You can check the individual mutational profile of a residue by using ``object.position``."
   ]
  },
  {
   "cell_type": "code",
   "execution_count": null,
   "metadata": {
    "ExecuteTime": {
     "end_time": "2020-10-01T18:25:55.049389Z",
     "start_time": "2020-10-01T18:25:54.882646Z"
    },
    "execution": {
     "iopub.execute_input": "2020-11-25T01:48:14.080684Z",
     "iopub.status.busy": "2020-11-25T01:48:14.080388Z",
     "iopub.status.idle": "2020-11-25T01:48:14.268655Z",
     "shell.execute_reply": "2020-11-25T01:48:14.267958Z",
     "shell.execute_reply.started": "2020-11-25T01:48:14.080660Z"
    }
   },
   "outputs": [],
   "source": [
    "# Create plot for position 117\n",
    "hras_RBD.position(\n",
    "    position=117,\n",
    "    yscale=(-1.5, 0.8),\n",
    "    figsize=(3.5, 2),\n",
    "    title='Position 117',\n",
    "    output_file=None\n",
    ")"
   ]
  },
  {
   "cell_type": "raw",
   "metadata": {},
   "source": [
    ".. image:: images/exported_images/hras_position117.png\n",
    "   :width: 350px\n",
    "   :align: center"
   ]
  },
  {
   "cell_type": "markdown",
   "metadata": {},
   "source": [
    "If you added the secondary structure as an attribute of the object, you can plot the mean enrichment score for each alpha and beta motif in the protein (``object.secondary_mean``)."
   ]
  },
  {
   "cell_type": "code",
   "execution_count": null,
   "metadata": {
    "ExecuteTime": {
     "end_time": "2020-10-01T18:25:56.793148Z",
     "start_time": "2020-10-01T18:25:56.651647Z"
    }
   },
   "outputs": [],
   "source": [
    "# Graph bar of the mean of each secondary motif\n",
    "hras_RBD.secondary_mean(\n",
    "    yscale=[-1, 0],\n",
    "    figsize=[3, 2],\n",
    "    title='Mean of secondary motifs',\n",
    "    output_file=None\n",
    ")"
   ]
  },
  {
   "cell_type": "raw",
   "metadata": {},
   "source": [
    ".. image:: images/exported_images/hras_secondary.png\n",
    "   :width: 300px\n",
    "   :align: center"
   ]
  },
  {
   "cell_type": "markdown",
   "metadata": {},
   "source": [
    "## Correlation, PCA and ROC AUC"
   ]
  },
  {
   "cell_type": "raw",
   "metadata": {},
   "source": [
    "Methods and functions reviewed in this section:\n",
    "    - :meth:`mutagenesis_visualization.Screen.correlation`\n",
    "    - :meth:`mutagenesis_visualization.Screen.individual_correlation`\n",
    "    - :meth:`mutagenesis_visualization.Screen.group_correlation`\n",
    "    - :meth:`mutagenesis_visualization.Screen.pca`\n",
    "    - :meth:`mutagenesis_visualization.Screen.roc`\n",
    "    - :func:`mutagenesis_visualization.msa_enrichment`\n",
    "    - :func:`mutagenesis_visualization.plot_box`"
   ]
  },
  {
   "cell_type": "raw",
   "metadata": {},
   "source": [
    "If you want to know more about PCA and ROC, watch the following StatQuest videos on youtube:\n",
    "`PCA <https://www.youtube.com/watch?v=FgakZw6K1QQ&ab_channel=StatQuestwithJoshStarmer>`_\n",
    "`ROC and AUC <https://www.youtube.com/watch?v=4jRBRDbJemM&ab_channel=StatQuestwithJoshStarmer>`_"
   ]
  },
  {
   "cell_type": "markdown",
   "metadata": {},
   "source": [
    "The correlation of amino acid substitution profiles can be calculated for each amino acid and graphed using ``object.correlation``. In the example we observe that polar amino acids have high correlation between themselves but low correlation with hydrophobic amino acids."
   ]
  },
  {
   "cell_type": "code",
   "execution_count": null,
   "metadata": {
    "ExecuteTime": {
     "end_time": "2020-10-01T18:26:00.985930Z",
     "start_time": "2020-10-01T18:26:00.637882Z"
    }
   },
   "outputs": [],
   "source": [
    "# Correlation between amino acids\n",
    "hras_RBD.correlation(\n",
    "    colorbar_scale=[0.5, 1], title='Correlation', output_file=None\n",
    ")"
   ]
  },
  {
   "cell_type": "raw",
   "metadata": {
    "ExecuteTime": {
     "end_time": "2020-09-01T03:16:24.018490Z",
     "start_time": "2020-09-01T03:16:24.013197Z"
    }
   },
   "source": [
    ".. image:: images/exported_images/hras_correlation.png\n",
    "   :width: 250px\n",
    "   :align: center"
   ]
  },
  {
   "cell_type": "markdown",
   "metadata": {},
   "source": [
    "The method ``object.individual_correlation`` will tell you how a single amino acid substitution profile (row of the heatmap) correlates to the rest of the dataset."
   ]
  },
  {
   "cell_type": "code",
   "execution_count": null,
   "metadata": {
    "ExecuteTime": {
     "end_time": "2020-10-01T18:26:02.207684Z",
     "start_time": "2020-10-01T18:26:02.037745Z"
    },
    "execution": {
     "iopub.execute_input": "2020-11-25T01:48:19.072184Z",
     "iopub.status.busy": "2020-11-25T01:48:19.071954Z",
     "iopub.status.idle": "2020-11-25T01:48:19.268060Z",
     "shell.execute_reply": "2020-11-25T01:48:19.267454Z",
     "shell.execute_reply.started": "2020-11-25T01:48:19.072162Z"
    }
   },
   "outputs": [],
   "source": [
    "# Explained variability by amino acid\n",
    "hras_RBD.individual_correlation(\n",
    "    yscale=[0, 0.6],\n",
    "    title='Explained variability by amino acid',\n",
    "    output_file=None\n",
    ")"
   ]
  },
  {
   "cell_type": "raw",
   "metadata": {},
   "source": [
    ".. image:: images/exported_images/hras_variability.png\n",
    "   :width: 300px\n",
    "   :align: center"
   ]
  },
  {
   "cell_type": "raw",
   "metadata": {},
   "source": [
    "Grouping amino acids improves the predictive power. ``object.group_correlation`` lets you manually group amino acids. The algorithm picks one amino acid per group and evaluates the predictive power of the subset. Such operation will be done for every possible combination. In the example, 8 amino acids explain 0.75 of the data. A sequence logo [#Tareen2019]_ will show for each group which is the most represented amino acid in of the subset that has an R2 value greater than the cutoff that you have set using the parameter ``r2``. Such plot will let you see if there is any preference for a particular amino acid within a group."
   ]
  },
  {
   "cell_type": "code",
   "execution_count": null,
   "metadata": {
    "ExecuteTime": {
     "end_time": "2020-10-01T18:26:08.728334Z",
     "start_time": "2020-10-01T18:26:03.207669Z"
    }
   },
   "outputs": [],
   "source": [
    "# Define groups of amino acids. The algorithm will pool one of each group and evaluate\n",
    "# how well that subset correlates to the entires dataset\n",
    "groups = ['DE', 'HKR', 'QN', 'CST', 'AG', 'ILMV', 'WYF', 'P']\n",
    "\n",
    "# Get list of all combinations and their associated R2 value\n",
    "df_r2 = hras_RBD.group_correlation(\n",
    "    r2=0.75, groups=groups, output=True, title='', output_file=None\n",
    ")\n",
    "\n",
    "# Only show the top 5\n",
    "df_r2.sort_values(by='R2', ascending=False).head()"
   ]
  },
  {
   "cell_type": "raw",
   "metadata": {},
   "source": [
    ".. image:: images/exported_images/hras_logo.png\n",
    "   :align: center\n",
    "\n",
    ".. image:: images/exported_images/hras_meanrepresentatives_rank.png\n",
    "   :width: 200px\n",
    "   :align: center\n"
   ]
  },
  {
   "cell_type": "markdown",
   "metadata": {},
   "source": [
    "The package can perform principal component analysis (PCA) using the method ``object.pca``. The parameter ``mode`` can be set to ``aminoacid``, in which will cluster amino acids based on their similarity, ``individual`` in which will do the same for each individual residue and ``secondary``, in which will cluster for each motif. By default, the first two dimensions will be plotted (0 and 1 in Python notation), but that can be changed by ``dimensions`` parameter."
   ]
  },
  {
   "cell_type": "code",
   "execution_count": null,
   "metadata": {
    "ExecuteTime": {
     "end_time": "2020-10-01T18:26:11.370548Z",
     "start_time": "2020-10-01T18:26:08.733299Z"
    }
   },
   "outputs": [],
   "source": [
    "# PCA by amino acid substitution\n",
    "hras_RBD.pca(\n",
    "    title='',\n",
    "    dimensions=[0, 1],\n",
    "    figsize=(2, 2),\n",
    "    adjustlabels=True,\n",
    "    output_file=None\n",
    ")\n",
    "\n",
    "# PCA by secondary structure motif\n",
    "hras_RBD.pca(\n",
    "    title='',\n",
    "    mode='secondary',\n",
    "    dimensions=[0, 1],\n",
    "    figsize=(2, 2),\n",
    "    adjustlabels=True,\n",
    "    output_file=None\n",
    ")\n",
    "\n",
    "# PCA by each individual residue. Don't set adjustlabels = True unless really big figsize\n",
    "hras_RBD.pca(\n",
    "    title='',\n",
    "    mode='individual',\n",
    "    dimensions=[0, 1],\n",
    "    figsize=(5, 5),\n",
    "    adjustlabels=False,\n",
    "    output_file=None\n",
    ")"
   ]
  },
  {
   "cell_type": "raw",
   "metadata": {},
   "source": [
    ".. image:: images/exported_images/hras_pcaaminoacid.png\n",
    "   :width: 200px\n",
    "\n",
    ".. image:: images/exported_images/hras_pcasecondary.png\n",
    "   :width: 200px\n",
    "\n",
    ".. image:: images/exported_images/hras_pcaindividual.png\n",
    "   :width: 250px"
   ]
  },
  {
   "cell_type": "markdown",
   "metadata": {},
   "source": [
    "Another type of plot that can be done is a receiver operating characteristic (ROC) curve for classification. You will use the method ``object.roc`` and as an input you will pass a dataframe that contains the label for each variant. In this example, we are using it to evaluate whether we can use evolutionary conservation data to predict the mutational tolerance of the protein. The area under the curve (AUC) is above 0.5, implying that there is a small relationship between enrichment/conservation."
   ]
  },
  {
   "cell_type": "code",
   "execution_count": null,
   "metadata": {
    "ExecuteTime": {
     "end_time": "2020-10-01T18:26:11.627124Z",
     "start_time": "2020-10-01T18:26:11.375327Z"
    },
    "execution": {
     "iopub.execute_input": "2020-11-25T01:48:22.439144Z",
     "iopub.status.busy": "2020-11-25T01:48:22.438798Z",
     "iopub.status.idle": "2020-11-25T01:48:22.724069Z",
     "shell.execute_reply": "2020-11-25T01:48:22.722253Z",
     "shell.execute_reply.started": "2020-11-25T01:48:22.439117Z"
    }
   },
   "outputs": [],
   "source": [
    "# Calculate conservation score from MSA\n",
    "path = '../data/Ras_family_trimmed.fasta'\n",
    "df_shannon, df_freq = mut.msa_enrichment(\n",
    "    hras_RBD, path, start_position=1, threshold=0.1\n",
    ")\n",
    "\n",
    "# Plot ROC curve\n",
    "hras_RBD.roc(\n",
    "    df_freq[['Variant', 'Class']],\n",
    "    title='MSA predictive power',\n",
    "    output_file=None\n",
    ")"
   ]
  },
  {
   "cell_type": "raw",
   "metadata": {},
   "source": [
    ".. image:: images/exported_images/hras_roc.png\n",
    "   :width: 250px\n",
    "   :align: center"
   ]
  },
  {
   "cell_type": "markdown",
   "metadata": {},
   "source": [
    "The package also allows to do a boxplot using the function ``plot_box``. Note that the data needs to be binned separately. In this example, we have used it to study if the Shannon entropy is related to the mutational tolerance. Although there is high variability, on average residues with a lower enrichment score are more conserved."
   ]
  },
  {
   "cell_type": "code",
   "execution_count": null,
   "metadata": {
    "ExecuteTime": {
     "end_time": "2020-10-01T18:26:11.854340Z",
     "start_time": "2020-10-01T18:26:11.630686Z"
    },
    "execution": {
     "iopub.execute_input": "2020-11-25T01:48:28.732071Z",
     "iopub.status.busy": "2020-11-25T01:48:28.731834Z",
     "iopub.status.idle": "2020-11-25T01:48:28.949290Z",
     "shell.execute_reply": "2020-11-25T01:48:28.948596Z",
     "shell.execute_reply.started": "2020-11-25T01:48:28.732048Z"
    }
   },
   "outputs": [],
   "source": [
    "# Bin data\n",
    "binned_shannon = (2 * df_shannon['Shannon']).round(0) / 2\n",
    "\n",
    "# Plot box plot.\n",
    "mut.plot_box(\n",
    "    binned_x=binned_shannon,\n",
    "    y=df_shannon['Score'],\n",
    "    title='Shannon vs Enrichment',\n",
    "    x_label='Shannon Entropy',\n",
    "    y_label=r'$∆E^i_x$',\n",
    "    output_file=None\n",
    ")"
   ]
  },
  {
   "cell_type": "raw",
   "metadata": {
    "ExecuteTime": {
     "end_time": "2020-09-01T03:14:26.895627Z",
     "start_time": "2020-09-01T03:14:26.890662Z"
    }
   },
   "source": [
    ".. image:: images/exported_images/hras_shannon.png\n",
    "   :width: 300px\n",
    "   :align: center"
   ]
  },
  {
   "cell_type": "markdown",
   "metadata": {},
   "source": [
    "## Pymol"
   ]
  },
  {
   "cell_type": "raw",
   "metadata": {
    "ExecuteTime": {
     "end_time": "2020-09-15T23:51:23.133650Z",
     "start_time": "2020-09-15T23:51:23.128545Z"
    }
   },
   "source": [
    "Method reviewed in this section:\n",
    "    - :meth:`mutagenesis_visualization.Screen.pymol`\n"
   ]
  },
  {
   "cell_type": "markdown",
   "metadata": {},
   "source": [
    "The data can be visualized on a Pymol object using ``object.pymol``. It is important that not only Pymol is installed, but also on the same path as Python. You may have to manually install the ipymol API. See the Getting Started chapter for more information.\n",
    "\n",
    "The parameter ``pdb`` will fetch the pdb that you want to use. Note that the protein chain needs to be specified (see example). Red for gain of function and blue for loss of function. ``mode`` lets you specifiy whether to plot the mean or an individual amino acid profile (left - Leucine, right - Aspartate)."
   ]
  },
  {
   "cell_type": "code",
   "execution_count": null,
   "metadata": {
    "ExecuteTime": {
     "end_time": "2020-10-01T18:27:12.714186Z",
     "start_time": "2020-10-01T18:27:10.122402Z"
    }
   },
   "outputs": [],
   "source": [
    "# Start pymol and color residues. Cut offs are set with gof and lof parameters.\n",
    "hras_RBD.pymol(pdb='5p21_A', mode='mean', gof=0.2, lof=-0.5)\n",
    "\n",
    "# Now check the mutational profile of Leucine (left image)\n",
    "hras_RBD.pymol(pdb='5p21_A', mode='L', gof=0.2, lof=-0.5)\n",
    "\n",
    "# Now check the mutational profile of Aspartate (right image)\n",
    "hras_RBD.pymol(pdb='5p21_A', mode='D', gof=0.2, lof=-0.5)"
   ]
  },
  {
   "cell_type": "raw",
   "metadata": {},
   "source": [
    ".. image:: images/exported_images/hras_pymol_combLD.png\n",
    "   :align: center"
   ]
  },
  {
   "cell_type": "markdown",
   "metadata": {},
   "source": [
    "## Art"
   ]
  },
  {
   "cell_type": "markdown",
   "metadata": {},
   "source": [
    "The heatmap method can be used to generate artistic plots such as the one in the documentation overview. In here we show how that is done. On an Excel we have defined the color for each square in the heatmap (also available with the package, see ``logo.xlsx``). The first step is to import the excel file, and then we perform the same steps as in a normal dataset."
   ]
  },
  {
   "cell_type": "code",
   "execution_count": null,
   "metadata": {
    "ExecuteTime": {
     "end_time": "2020-10-01T18:26:12.351727Z",
     "start_time": "2020-10-01T18:26:08.304Z"
    }
   },
   "outputs": [],
   "source": [
    "%matplotlib inline\n",
    "\n",
    "# Read excel file\n",
    "path = '../data/logo.xlsx'\n",
    "usecols = 'A:BL'\n",
    "#df_logo = pd.read_excel(path, 'logo', usecols=usecols, nrows=21)\n",
    "#df_faded = pd.read_excel(path, 'logo_faded', usecols=usecols, nrows=21)\n",
    "df_logo = pd.read_excel(path, 'logo_2', usecols=usecols, nrows=21)\n",
    "df_faded = pd.read_excel(path, 'logo_faded_2', usecols=usecols, nrows=21)\n",
    "\n",
    "# Combine two dataframes\n",
    "df_mixed = df_logo * 1.2 - df_faded\n",
    "\n",
    "# Aminoacids\n",
    "aminoacids = list('ACDEFGHIKLMNPQRSTVWY*')\n",
    "\n",
    "# Define protein sequence\n",
    "sequence_logo = \"FUNNY THAT YOU ARE READING THIS SEQUENCE. NO SECRET CODE FOR NOW\"\n",
    "\n",
    "# Define secondary structure\n",
    "secondary = [['L0'] * 5, ['β1'] * (9 - 1), ['L1'] * (15 - 9),\n",
    "             ['α1'] * (25 - 20), ['L2'] * (32 - 25), ['β2'] * (42 - 32),\n",
    "             ['L3'] * (50 - 42), ['α2'] * (58 - 50), ['L4'] * (70 - 58)]\n",
    "\n",
    "# Create object\n",
    "logo_obj = mut.Screen(\n",
    "    df_mixed, sequence_logo, start_position=1, fillna=0, secondary=secondary\n",
    ")\n",
    "\n",
    "# Create hetmap\n",
    "logo_obj.heatmap(\n",
    "    show_cartoon=True,\n",
    "    title='',\n",
    "    neworder_aminoacids='ACDEFGHIKLMNPQRSTVWY*',\n",
    "    output_file=None\n",
    ")"
   ]
  },
  {
   "cell_type": "raw",
   "metadata": {},
   "source": [
    ".. image:: images/exported_images/heatmap_intro.png\n",
    "   :width: 350px\n",
    "   :align: center"
   ]
  },
  {
   "cell_type": "markdown",
   "metadata": {},
   "source": [
    "## Reference"
   ]
  },
  {
   "cell_type": "raw",
   "metadata": {},
   "source": [
    ".. [#Pradeep2017] Bandaru, P., Shah, N. H., Bhattacharyya, M., Barton, J. P., Kondo, Y., Cofsky, J. C., … Kuriyan, J. (2017). Deconstruction of the Ras switching cycle through saturation mutagenesis. ELife, 6. `DOI: 10.7554/eLife.27810  <https://elifesciences.org/articles/27810>`_\n",
    "\n",
    ".. [#Tareen2019] Tareen, A., & Kinney, J. B. (2020). Logomaker: beautiful sequence logos in Python. Bioinformatics, 36(7), 2272–2274. `doi:10.1093/bioinformatics/btz921 <https://academic.oup.com/bioinformatics/article/36/7/2272/5671693>`_"
   ]
  }
 ],
 "metadata": {
  "kernelspec": {
   "display_name": "Python 3",
   "language": "python",
   "name": "python3"
  },
  "language_info": {
   "codemirror_mode": {
    "name": "ipython",
    "version": 3
   },
   "file_extension": ".py",
   "mimetype": "text/x-python",
   "name": "python",
   "nbconvert_exporter": "python",
   "pygments_lexer": "ipython3",
   "version": "3.8.3"
  },
  "toc": {
   "base_numbering": 1,
   "nav_menu": {},
   "number_sections": true,
   "sideBar": true,
   "skip_h1_title": false,
   "title_cell": "Table of Contents",
   "title_sidebar": "Contents",
   "toc_cell": false,
   "toc_position": {
    "height": "calc(100% - 180px)",
    "left": "10px",
    "top": "150px",
    "width": "165px"
   },
   "toc_section_display": true,
   "toc_window_display": true
  },
  "toc-autonumbering": true,
  "toc-showmarkdowntxt": false,
  "toc-showtags": false
 },
 "nbformat": 4,
 "nbformat_minor": 4
}
