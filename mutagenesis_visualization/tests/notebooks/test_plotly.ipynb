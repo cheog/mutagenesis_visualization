{
 "cells": [
  {
   "cell_type": "markdown",
   "metadata": {},
   "source": [
    "# Test of code_plotly"
   ]
  },
  {
   "cell_type": "code",
   "execution_count": 1,
   "metadata": {
    "execution": {
     "iopub.execute_input": "2020-12-06T04:12:56.287640Z",
     "iopub.status.busy": "2020-12-06T04:12:56.287399Z",
     "iopub.status.idle": "2020-12-06T04:12:59.832325Z",
     "shell.execute_reply": "2020-12-06T04:12:59.831594Z",
     "shell.execute_reply.started": "2020-12-06T04:12:56.287611Z"
    }
   },
   "outputs": [
    {
     "name": "stdout",
     "output_type": "stream",
     "text": [
      "importing Jupyter notebook from code_create_objects.ipynb\n",
      "importing Jupyter notebook from code_class.ipynb\n",
      "importing Jupyter notebook from code_kernel.ipynb\n",
      "importing Jupyter notebook from code_kwargs.ipynb\n",
      "importing Jupyter notebook from code_utils.ipynb\n",
      "importing Jupyter notebook from code_heatmaps.ipynb\n",
      "importing Jupyter notebook from code_bar.ipynb\n",
      "importing Jupyter notebook from code_scatter.ipynb\n",
      "importing Jupyter notebook from code_PCA.ipynb\n",
      "importing Jupyter notebook from code_other.ipynb\n",
      "importing Jupyter notebook from code_plotly.ipynb\n",
      "importing Jupyter notebook from code_pymol.ipynb\n"
     ]
    }
   ],
   "source": [
    "import pandas as pd\n",
    "import numpy as np\n",
    "\n",
    "try:\n",
    "    from mutagenesis_visualization.main.scripts.code_create_objects import (\n",
    "        hras_RBD\n",
    "    )\n",
    "except ModuleNotFoundError:\n",
    "    import import_notebook\n",
    "    import os\n",
    "    directory = os.getcwd()\n",
    "    new_directory = directory.replace('tests', 'main')\n",
    "    os.chdir(new_directory)\n",
    "\n",
    "    from code_create_objects import (hras_RBD)\n",
    "    os.chdir(directory)"
   ]
  },
  {
   "cell_type": "code",
   "execution_count": 3,
   "metadata": {
    "execution": {
     "iopub.execute_input": "2020-12-05T19:41:19.742030Z",
     "iopub.status.busy": "2020-12-05T19:41:19.741658Z",
     "iopub.status.idle": "2020-12-05T19:41:19.766737Z",
     "shell.execute_reply": "2020-12-05T19:41:19.765428Z",
     "shell.execute_reply.started": "2020-12-05T19:41:19.741999Z"
    }
   },
   "outputs": [
    {
     "data": {
      "text/plain": [
       "\"class Student:\\n    def __init__(self, name, gpa, grad_date,units):\\n        self.name = name\\n        self.GPA = gpa\\n        self.grad_date = grad_date\\n        self.units = units\\n    \\n    def total_GPA(self):\\n        return self.GPA * self.units\\n    \\nSage = Student('Sage',4.0, 'May 2021', 12)\\nKate = Student('Kate', 3.8, 'Dec 2021', 14)\""
      ]
     },
     "execution_count": 3,
     "metadata": {},
     "output_type": "execute_result"
    }
   ],
   "source": [
    "'''class Student:\n",
    "    def __init__(self, name, gpa, grad_date,units):\n",
    "        self.name = name\n",
    "        self.GPA = gpa\n",
    "        self.grad_date = grad_date\n",
    "        self.units = units\n",
    "    \n",
    "    def total_GPA(self):\n",
    "        return self.GPA * self.units\n",
    "    \n",
    "Sage = Student('Sage',4.0, 'May 2021', 12)\n",
    "Kate = Student('Kate', 3.8, 'Dec 2021', 14)'''"
   ]
  },
  {
   "cell_type": "markdown",
   "metadata": {},
   "source": [
    "## Test heatmap"
   ]
  },
  {
   "cell_type": "code",
   "execution_count": 4,
   "metadata": {
    "execution": {
     "iopub.execute_input": "2020-12-05T19:54:27.832759Z",
     "iopub.status.busy": "2020-12-05T19:54:27.832480Z",
     "iopub.status.idle": "2020-12-05T19:54:27.843839Z",
     "shell.execute_reply": "2020-12-05T19:54:27.841698Z",
     "shell.execute_reply.started": "2020-12-05T19:54:27.832722Z"
    }
   },
   "outputs": [],
   "source": [
    "def test_plot_heatmap_plotly():\n",
    "    # Get object\n",
    "    obj_test = hras_RBD()\n",
    "\n",
    "    # Define aux function\n",
    "    def _test_plot_heatmap_plotly_output(parameters):\n",
    "        error = False\n",
    "        try:\n",
    "            obj_test.heatmap_plotly(\n",
    "                **parameters\n",
    "            )  # pass dictionary as arguments of method\n",
    "        except:\n",
    "            error = True\n",
    "        return error\n",
    "\n",
    "    # Define dictionary of parameters\n",
    "    # Each dict in the list will be a different set of parameters\n",
    "    list_params = [\n",
    "        {'show': False},\n",
    "        {\n",
    "            'show': False,\n",
    "            'title': 'Changing this parameter for fun',\n",
    "        },\n",
    "    ]\n",
    "\n",
    "    # Assert\n",
    "    for parameters in list_params:\n",
    "        assert _test_plot_heatmap_plotly_output(\n",
    "            parameters\n",
    "        ) == False, \"heatmap_plotly failed with {} parameters\".format(\n",
    "            parameters\n",
    "        )"
   ]
  },
  {
   "cell_type": "markdown",
   "metadata": {},
   "source": [
    "## Test scatter"
   ]
  },
  {
   "cell_type": "code",
   "execution_count": 7,
   "metadata": {
    "execution": {
     "iopub.execute_input": "2020-12-06T04:15:49.764086Z",
     "iopub.status.busy": "2020-12-06T04:15:49.763783Z",
     "iopub.status.idle": "2020-12-06T04:15:49.770844Z",
     "shell.execute_reply": "2020-12-06T04:15:49.769332Z",
     "shell.execute_reply.started": "2020-12-06T04:15:49.764053Z"
    }
   },
   "outputs": [],
   "source": [
    "def test_plot_scatter_plotly():  # change\n",
    "    # Get object\n",
    "    obj_test = hras_RBD()\n",
    "\n",
    "    # Define aux function\n",
    "    def _test_plot_scatter_plotly_output(parameters):  # change\n",
    "        error = False\n",
    "        try:\n",
    "            obj_test.scatter_plotly(\n",
    "                obj_test, **parameters\n",
    "            )  # pass dictionary as arguments of method\n",
    "        except:\n",
    "            error = True\n",
    "        return error\n",
    "\n",
    "    # Define dictionary of parameters\n",
    "    # Each dict in the list will be a different set of parameters\n",
    "    list_params = [\n",
    "        {'show': False},\n",
    "        {\n",
    "            'show': False,\n",
    "            'title': 'Changing this parameter for fun',\n",
    "        },\n",
    "        {'mode': 'mean', 'show': False, 'title': 'hello world'},\n",
    "        {'mode': 'pointmutant', 'show': False, 'title': 'go bears'},\n",
    "    ]\n",
    "\n",
    "    # Assert\n",
    "    for parameters in list_params:\n",
    "        assert _test_plot_scatter_plotly_output(\n",
    "            parameters\n",
    "        ) == False, \"scatter_plotly failed with {} parameters\".format(\n",
    "            parameters\n",
    "        )"
   ]
  },
  {
   "cell_type": "markdown",
   "metadata": {},
   "source": [
    "## Test Rank"
   ]
  },
  {
   "cell_type": "code",
   "execution_count": 8,
   "metadata": {},
   "outputs": [],
   "source": [
    "def test_plot_rank_plotly():\n",
    "    # Get object\n",
    "    obj_test = hras_RBD()\n",
    "\n",
    "    # Define aux function\n",
    "    def _test_plot_rank_plotly_output(parameters):\n",
    "        error = False\n",
    "        try:\n",
    "            obj_test.rank_plotly(\n",
    "                **parameters\n",
    "            )  # pass dictionary as arguments of method\n",
    "        except:\n",
    "            error = True\n",
    "        return error\n",
    "\n",
    "    # Define dictionary of parameters\n",
    "    # Each dict in the list will be a different set of parameters\n",
    "    list_params = [\n",
    "        {'show': False},\n",
    "        {\n",
    "            'show': False,\n",
    "            'title': 'Changing this parameter for fun',\n",
    "        },\n",
    "        {'mode': 'mean', 'show': False, 'title': 'hello world'},\n",
    "        {'mode': 'pointmutant', 'show': False, 'title': 'go bears'},\n",
    "    ]\n",
    "\n",
    "    # Assert\n",
    "    for parameters in list_params:\n",
    "        assert _test_plot_rank_plotly_output(\n",
    "            parameters\n",
    "        ) == False, \"rank_plotly failed with {} parameters\".format(parameters)"
   ]
  },
  {
   "cell_type": "code",
   "execution_count": 9,
   "metadata": {},
   "outputs": [],
   "source": [
    "test_plot_rank_plotly()"
   ]
  },
  {
   "cell_type": "markdown",
   "metadata": {},
   "source": [
    "## Test Histogram "
   ]
  },
  {
   "cell_type": "code",
   "execution_count": 10,
   "metadata": {},
   "outputs": [],
   "source": [
    "def test_plot_histogram_plotly():\n",
    "    # Get object\n",
    "    obj_test = hras_RBD()\n",
    "\n",
    "    # Define aux function\n",
    "    def _test_plot_histogram_plotly_output(parameters):\n",
    "        error = False\n",
    "        try:\n",
    "            obj_test.histogram_plotly(\n",
    "                **parameters\n",
    "            )  # pass dictionary as arguments of method\n",
    "        except:\n",
    "            error = True\n",
    "        return error\n",
    "\n",
    "    # Define dictionary of parameters\n",
    "    # Each dict in the list will be a different set of parameters\n",
    "    list_params = [\n",
    "        {'show': False},\n",
    "        {\n",
    "            'show': False,\n",
    "            'title': 'Changing this parameter for fun',\n",
    "        },\n",
    "        {'mode': 'mean', 'show': False, 'title': 'hello world'},\n",
    "        {'mode': 'pointmutant', 'show': False, 'title': 'go bears'},\n",
    "    ]\n",
    "\n",
    "    # Assert\n",
    "    for parameters in list_params:\n",
    "        assert _test_plot_histogram_plotly_output(\n",
    "            parameters\n",
    "        ) == False, \"histogram_plotly failed with {} parameters\".format(\n",
    "            parameters\n",
    "        )"
   ]
  },
  {
   "cell_type": "code",
   "execution_count": 11,
   "metadata": {},
   "outputs": [],
   "source": [
    "test_plot_histogram_plotly()"
   ]
  },
  {
   "cell_type": "markdown",
   "metadata": {},
   "source": [
    "## Test Mean"
   ]
  },
  {
   "cell_type": "code",
   "execution_count": 12,
   "metadata": {},
   "outputs": [],
   "source": [
    "def test_plot_mean_plotly():\n",
    "    # Get object\n",
    "    obj_test = hras_RBD()\n",
    "\n",
    "    # Define aux function\n",
    "    def _test_plot_mean_plotly_output(parameters):\n",
    "        error = False\n",
    "        try:\n",
    "            obj_test.mean_plotly(\n",
    "                **parameters\n",
    "            )  # pass dictionary as arguments of method\n",
    "        except:\n",
    "            error = True\n",
    "        return error\n",
    "\n",
    "    # Define dictionary of parameters\n",
    "    # Each dict in the list will be a different set of parameters\n",
    "    list_params = [\n",
    "        {'show': False},\n",
    "        {\n",
    "            'show': False,\n",
    "            'title': 'Changing this parameter for fun',\n",
    "        },\n",
    "        {'mode': 'mean', 'show': False, 'title': 'hello world'},\n",
    "        {'mode': 'A', 'show': False, 'title': 'go bears'},\n",
    "    ]\n",
    "\n",
    "    # Assert\n",
    "    for parameters in list_params:\n",
    "        assert _test_plot_mean_plotly_output(\n",
    "            parameters\n",
    "        ) == False, \"mean_plotly failed with {} parameters\".format(parameters)"
   ]
  },
  {
   "cell_type": "code",
   "execution_count": 13,
   "metadata": {},
   "outputs": [],
   "source": [
    "test_plot_mean_plotly()"
   ]
  },
  {
   "cell_type": "markdown",
   "metadata": {},
   "source": [
    "## Test 3D Scatter"
   ]
  },
  {
   "cell_type": "code",
   "execution_count": 14,
   "metadata": {},
   "outputs": [],
   "source": [
    "def test_plot_scatter_3D_plotly():\n",
    "    # Get object\n",
    "    obj_test = hras_RBD()\n",
    "\n",
    "    # Define aux function\n",
    "    def _test_plot_scatter_3D_plotly_output(parameters):\n",
    "        error = False\n",
    "        try:\n",
    "            obj_test.scatter_3D_plotly(\n",
    "                **parameters\n",
    "            )  # pass dictionary as arguments of method\n",
    "        except:\n",
    "            error = True\n",
    "        return error\n",
    "\n",
    "    # Define dictionary of parameters\n",
    "    # Each dict in the list will be a different set of parameters\n",
    "    list_params = [\n",
    "        {'show': False},\n",
    "        {\n",
    "            'show': False,\n",
    "            'title': 'Changing this parameter for fun',\n",
    "        },\n",
    "        {'mode': 'mean', 'show': False, 'title': 'hello world'},\n",
    "        {'mode': 'A', 'show': False, 'title': 'go bears'},\n",
    "        {'position_correction': 20, 'show': False},\n",
    "        {'squared': True, 'show': False},\n",
    "        {'chain': 'B', 'show': False},\n",
    "    ]\n",
    "\n",
    "    # Assert\n",
    "    for parameters in list_params:\n",
    "        assert _test_plot_scatter_3D_plotly_output(\n",
    "            parameters\n",
    "        ) == False, \"scatter_3D_plotly failed with {} parameters\".format(\n",
    "            parameters\n",
    "        )"
   ]
  },
  {
   "cell_type": "code",
   "execution_count": 15,
   "metadata": {},
   "outputs": [
    {
     "ename": "AssertionError",
     "evalue": "scatter_3D_plotly failed with {'show': False} parameters",
     "output_type": "error",
     "traceback": [
      "\u001b[1;31m---------------------------------------------------------------------------\u001b[0m",
      "\u001b[1;31mAssertionError\u001b[0m                            Traceback (most recent call last)",
      "\u001b[1;32m<ipython-input-15-354394ca921d>\u001b[0m in \u001b[0;36m<module>\u001b[1;34m\u001b[0m\n\u001b[1;32m----> 1\u001b[1;33m \u001b[0mtest_plot_scatter_3D_plotly\u001b[0m\u001b[1;33m(\u001b[0m\u001b[1;33m)\u001b[0m\u001b[1;33m\u001b[0m\u001b[1;33m\u001b[0m\u001b[0m\n\u001b[0m",
      "\u001b[1;32m<ipython-input-14-614f473065a7>\u001b[0m in \u001b[0;36mtest_plot_scatter_3D_plotly\u001b[1;34m()\u001b[0m\n\u001b[0;32m     34\u001b[0m     \u001b[1;31m# Assert\u001b[0m\u001b[1;33m\u001b[0m\u001b[1;33m\u001b[0m\u001b[1;33m\u001b[0m\u001b[0m\n\u001b[0;32m     35\u001b[0m     \u001b[1;32mfor\u001b[0m \u001b[0mparameters\u001b[0m \u001b[1;32min\u001b[0m \u001b[0mlist_params\u001b[0m\u001b[1;33m:\u001b[0m\u001b[1;33m\u001b[0m\u001b[1;33m\u001b[0m\u001b[0m\n\u001b[1;32m---> 36\u001b[1;33m         assert _test_plot_scatter_3D_plotly_output(\n\u001b[0m\u001b[0;32m     37\u001b[0m             \u001b[0mparameters\u001b[0m\u001b[1;33m\u001b[0m\u001b[1;33m\u001b[0m\u001b[0m\n\u001b[0;32m     38\u001b[0m         \u001b[1;33m)\u001b[0m \u001b[1;33m==\u001b[0m \u001b[1;32mFalse\u001b[0m\u001b[1;33m,\u001b[0m \u001b[1;34m\"scatter_3D_plotly failed with {} parameters\"\u001b[0m\u001b[1;33m.\u001b[0m\u001b[0mformat\u001b[0m\u001b[1;33m(\u001b[0m\u001b[1;33m\u001b[0m\u001b[1;33m\u001b[0m\u001b[0m\n",
      "\u001b[1;31mAssertionError\u001b[0m: scatter_3D_plotly failed with {'show': False} parameters"
     ]
    }
   ],
   "source": [
    "test_plot_scatter_3D_plotly()"
   ]
  }
 ],
 "metadata": {
  "kernelspec": {
   "display_name": "Python 3",
   "language": "python",
   "name": "python3"
  },
  "language_info": {
   "codemirror_mode": {
    "name": "ipython",
    "version": 3
   },
   "file_extension": ".py",
   "mimetype": "text/x-python",
   "name": "python",
   "nbconvert_exporter": "python",
   "pygments_lexer": "ipython3",
   "version": "3.8.3"
  }
 },
 "nbformat": 4,
 "nbformat_minor": 4
}
