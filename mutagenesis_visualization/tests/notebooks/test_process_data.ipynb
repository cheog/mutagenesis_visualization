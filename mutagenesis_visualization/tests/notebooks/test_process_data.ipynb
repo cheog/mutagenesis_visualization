{
 "cells": [
  {
   "cell_type": "code",
   "execution_count": 1,
   "metadata": {
    "execution": {
     "iopub.execute_input": "2020-11-18T20:20:31.267415Z",
     "iopub.status.busy": "2020-11-18T20:20:31.267065Z",
     "iopub.status.idle": "2020-11-18T20:20:32.694488Z",
     "shell.execute_reply": "2020-11-18T20:20:32.693630Z",
     "shell.execute_reply.started": "2020-11-18T20:20:31.267384Z"
    }
   },
   "outputs": [
    {
     "name": "stdout",
     "output_type": "stream",
     "text": [
      "importing Jupyter notebook from code_process_data.ipynb\n"
     ]
    }
   ],
   "source": [
    "try: \n",
    "    from mutagenesis_visualization.main.scripts.code_process_data import (\n",
    "        count_reads\n",
    "    )\n",
    "except ModuleNotFoundError:\n",
    "    import import_notebook\n",
    "    import os\n",
    "    directory = os.getcwd()\n",
    "    new_directory = directory.replace('tests','main')\n",
    "    os.chdir(new_directory)\n",
    "    from code_process_data import (count_reads)\n",
    "    os.chdir(directory)\n",
    "\n",
    "from pathlib import Path\n",
    "import pandas as pd\n",
    "from pandas.testing import assert_frame_equal\n",
    "import os"
   ]
  },
  {
   "cell_type": "code",
   "execution_count": 10,
   "metadata": {
    "execution": {
     "iopub.execute_input": "2020-11-18T20:23:27.760271Z",
     "iopub.status.busy": "2020-11-18T20:23:27.759791Z",
     "iopub.status.idle": "2020-11-18T20:23:27.781276Z",
     "shell.execute_reply": "2020-11-18T20:23:27.779162Z",
     "shell.execute_reply.started": "2020-11-18T20:23:27.760193Z"
    }
   },
   "outputs": [],
   "source": [
    "\"\"\"\n",
    "To run these tests run pytest from the root directory. \"Test CCT\" is the one\n",
    "that fails.\n",
    "\n",
    "Other bits and bobs:\n",
    "    In _enumerate_variants you don't use firstwtseq so you can remove that. And\n",
    "    if that goes you can also not pass dna_sequence.\n",
    "\"\"\"\n",
    "\n",
    "\n",
    "def test_count_reads():\n",
    "    # Need to remove firstwtseq from _enumerate_variants\n",
    "\n",
    "    def mut_assert_df_equal(left: pd.DataFrame, right: pd.DataFrame):\n",
    "        assert_frame_equal(\n",
    "            left,\n",
    "            right,\n",
    "            check_dtype=False,\n",
    "            check_index_type=False,\n",
    "            check_column_type=False,\n",
    "            check_frame_type=False,\n",
    "            check_names=False,\n",
    "            check_like=True,\n",
    "        )\n",
    "\n",
    "    # File location\n",
    "    # Use relative file import to access the data folder\n",
    "    try:\n",
    "        location = os.path.dirname(os.path.realpath(__file__))\n",
    "        my_file = os.path.join(location, '../data/for_tests', \"short.fastq\")\n",
    "    except NameError:\n",
    "        my_file = os.path.join('../data/for_tests', \"short.fastq\")\n",
    "\n",
    "    # Create dataframe\n",
    "    codon_list = [\n",
    "        'AAA', 'AAC', 'AAG', 'AAT', 'ACA', 'ACC', 'ACG', 'ACT', 'AGA', 'AGC',\n",
    "        'AGG', 'AGT', 'ATA', 'ATC', 'ATG', 'ATT', 'CAA', 'CAC', 'CAG', 'CAT',\n",
    "        'CCA', 'CCC', 'CCG', 'CCT', 'CGA', 'CGC', 'CGG', 'CGT', 'CTA', 'CTC',\n",
    "        'CTG', 'CTT', 'GAA', 'GAC', 'GAG', 'GAT', 'GCA', 'GCC', 'GCG', 'GCT',\n",
    "        'GGA', 'GGC', 'GGG', 'GGT', 'GTA', 'GTC', 'GTG', 'GTT', 'TAA', 'TAC',\n",
    "        'TAG', 'TAT', 'TCA', 'TCC', 'TCG', 'TCT', 'TGA', 'TGC', 'TGG', 'TGT',\n",
    "        'TTA', 'TTC', 'TTG', 'TTT']\n",
    "    index = pd.Index(codon_list)\n",
    "    column_counts = pd.Index([2])\n",
    "    column_wt = pd.Index([\"Position\", \"Codon\", \"Aminoacid\", \"Counts\"])\n",
    "    values_cct = values_atc = [0]*23 + [1] + [0]*40\n",
    "\n",
    "    # Test ATG\n",
    "    expected_atc_counts = pd.DataFrame(\n",
    "        values_atc, index=index, columns=column_counts\n",
    "    )\n",
    "    expected_atc_wt = pd.DataFrame([], columns=column_wt)\n",
    "    atg_counts, atg_wt = count_reads(\"atg\", my_file, codon_list)\n",
    "    # return atg_counts\n",
    "    mut_assert_df_equal(atg_counts, expected_atc_counts)\n",
    "    mut_assert_df_equal(atg_wt, expected_atc_wt)\n",
    "\n",
    "    # Test CCT\n",
    "    expected_cct_counts = pd.DataFrame(\n",
    "        values_cct, index=index, columns=column_counts)\n",
    "    expected_cct_wt = pd.DataFrame([[2, 'CCA', 'P', 0], [2, 'CCC', 'P', 0], [2, 'CCG', 'P', 0]],\n",
    "                                   index=[20, 21, 22], columns=column_wt)\n",
    "    cct_counts, cct_wt = count_reads(\"cCt\", my_file, codon_list)\n",
    "    mut_assert_df_equal(cct_counts, expected_cct_counts)\n",
    "    mut_assert_df_equal(cct_wt, expected_cct_wt)\n",
    "\n",
    "    # Test CCT when not in codon list\n",
    "    index = pd.Index([\n",
    "        \"GCC\", \"GCG\", \"TGC\", \"GAC\", \"GAG\", \"TTC\", \"GGC\", \"GGG\", \"CAC\", \"ATC\",\n",
    "        \"AAG\", \"CTC\", \"CTG\", \"TTG\", \"ATG\", \"AAC\", \"CCC\", \"CCG\", \"CAG\", \"CGC\",\n",
    "        \"CGG\", \"AGG\", \"TCC\", \"TCG\", \"AGC\", \"ACC\", \"ACG\", \"GTC\", \"GTG\", \"TGG\",\n",
    "        \"TAC\", \"TAG\",\n",
    "    ])\n",
    "    values_cct = [0]*32\n",
    "    expected_cct_counts = pd.DataFrame(\n",
    "        values_cct, index=index, columns=column_counts)\n",
    "    expected_cct_wt = pd.DataFrame([[2, 'CCC', 'P', 0], [2, 'CCG', 'P', 0]],\n",
    "                                   index=[16, 17], columns=column_wt)\n",
    "    cct_counts, cct_wt = count_reads(\"cCt\", my_file, 'NNS')\n",
    "    mut_assert_df_equal(cct_counts, expected_cct_counts)\n",
    "    mut_assert_df_equal(cct_wt, expected_cct_wt)"
   ]
  }
 ],
 "metadata": {
  "kernelspec": {
   "display_name": "Python 3",
   "language": "python",
   "name": "python3"
  },
  "language_info": {
   "codemirror_mode": {
    "name": "ipython",
    "version": 3
   },
   "file_extension": ".py",
   "mimetype": "text/x-python",
   "name": "python",
   "nbconvert_exporter": "python",
   "pygments_lexer": "ipython3",
   "version": "3.8.3"
  }
 },
 "nbformat": 4,
 "nbformat_minor": 4
}
