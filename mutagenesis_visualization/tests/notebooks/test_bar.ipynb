{
 "cells": [
  {
   "cell_type": "markdown",
   "metadata": {},
   "source": [
    "# Test of code_bar"
   ]
  },
  {
   "cell_type": "code",
   "execution_count": 3,
   "metadata": {
    "execution": {
     "iopub.execute_input": "2021-01-20T03:17:38.195747Z",
     "iopub.status.busy": "2021-01-20T03:17:38.192594Z",
     "iopub.status.idle": "2021-01-20T03:17:38.215476Z",
     "shell.execute_reply": "2021-01-20T03:17:38.214728Z",
     "shell.execute_reply.started": "2021-01-20T03:17:38.195708Z"
    }
   },
   "outputs": [],
   "source": [
    "import pandas as pd\n",
    "import numpy as np\n",
    "import traceback\n",
    "\n",
    "try:\n",
    "    from mutagenesis_visualization.main.scripts.code_create_objects import (\n",
    "        hras_RBD,\n",
    "        aph_obj,\n",
    "    )\n",
    "except ModuleNotFoundError:\n",
    "    import import_notebook\n",
    "    import os\n",
    "    directory = os.getcwd()\n",
    "    new_directory = directory.replace('tests', 'main')\n",
    "    os.chdir(new_directory)\n",
    "\n",
    "    import code_create_objects\n",
    "    from code_create_objects import (\n",
    "         hras_RBD,\n",
    "         aph_obj,\n",
    "     )\n",
    "    os.chdir(directory)\n"
   ]
  },
  {
   "cell_type": "markdown",
   "metadata": {},
   "source": [
    "# Test bar graph with mean enrichment"
   ]
  },
  {
   "cell_type": "code",
   "execution_count": 4,
   "metadata": {
    "execution": {
     "iopub.execute_input": "2021-01-20T03:17:39.132898Z",
     "iopub.status.busy": "2021-01-20T03:17:39.132662Z",
     "iopub.status.idle": "2021-01-20T03:17:39.142852Z",
     "shell.execute_reply": "2021-01-20T03:17:39.141536Z",
     "shell.execute_reply.started": "2021-01-20T03:17:39.132875Z"
    }
   },
   "outputs": [],
   "source": [
    "def test_plot_mean():\n",
    "    \n",
    "    # Create dictionary with objects\n",
    "    dict_obj = {\n",
    "        'obj_test_1': hras_RBD(),\n",
    "        'obj_test_2': aph_obj(),\n",
    "    }\n",
    "\n",
    "    # Define aux function\n",
    "    def _test_plot_mean_output(obj_test, parameters):\n",
    "        error = False\n",
    "        try:\n",
    "            obj_test.mean(\n",
    "                **parameters\n",
    "            )  # pass dictionary as arguments of method\n",
    "        except:\n",
    "            error = True\n",
    "        return error\n",
    "\n",
    "    # Define dictionary of parameters\n",
    "    # Each dict in the list will be a different set of parameters\n",
    "    list_params = [\n",
    "        {\n",
    "            'show': False,\n",
    "        },\n",
    "        {\n",
    "            'figsize': (3, 2.5),\n",
    "            'y_label': r'$∆E^i_x$',\n",
    "            'show': False,\n",
    "        },\n",
    "    ]\n",
    "\n",
    "    # Assert\n",
    "    for obj_label, obj_test in dict_obj.items(): # Loop over the dictionary\n",
    "        for parameters in list_params: # Loop over the parameters\n",
    "            assert _test_plot_mean_output( # Assert that that set of parameters works on that object\n",
    "                obj_test,\n",
    "                parameters,\n",
    "            ) == False, \"plot_mean failed with {} object and {} parameters\".format(\n",
    "                obj_label,\n",
    "                parameters,\n",
    "            )"
   ]
  },
  {
   "cell_type": "markdown",
   "metadata": {},
   "source": [
    "## Test Mean Differential Graph\n"
   ]
  },
  {
   "cell_type": "code",
   "execution_count": 5,
   "metadata": {
    "execution": {
     "iopub.execute_input": "2021-01-20T03:17:40.167332Z",
     "iopub.status.busy": "2021-01-20T03:17:40.166304Z",
     "iopub.status.idle": "2021-01-20T03:17:40.176421Z",
     "shell.execute_reply": "2021-01-20T03:17:40.174955Z",
     "shell.execute_reply.started": "2021-01-20T03:17:40.167287Z"
    }
   },
   "outputs": [],
   "source": [
    "def test_plot_meandifferential():\n",
    "    \n",
    "    # Create dictionary with objects\n",
    "    dict_obj = {\n",
    "        'obj_test_1': hras_RBD(),\n",
    "        'obj_test_2': aph_obj(),\n",
    "    }\n",
    "\n",
    "    # Define aux function\n",
    "    def _test_plot_meandifferential_output(obj_test, parameters):\n",
    "        error = False\n",
    "        try:\n",
    "            obj_test.differential(obj_test,\n",
    "                **parameters\n",
    "            )  # pass dictionary as arguments of method\n",
    "        except:\n",
    "            error = True\n",
    "        return error\n",
    "\n",
    "    # Define dictionary of parameters\n",
    "    # Each dict in the list will be a different set of parameters\n",
    "    list_params = [\n",
    "        {\n",
    "            'show': False,\n",
    "        },\n",
    "        {\n",
    "            'figsize': (3, 2.5),\n",
    "            'y_label': r'$∆E^i_x$',\n",
    "            'show': False,\n",
    "        },\n",
    "    ]\n",
    "\n",
    "    # Assert\n",
    "    for obj_label, obj_test in dict_obj.items(): # Loop over the dictionary\n",
    "        for parameters in list_params: # Loop over the parameters\n",
    "            assert _test_plot_meandifferential_output( # Assert that that set of parameters works on that object\n",
    "                obj_test,\n",
    "                parameters,\n",
    "            ) == False, \"plot_meandifferential failed with {} object and {} parameters\".format(\n",
    "                obj_label,\n",
    "                parameters,\n",
    "            )"
   ]
  },
  {
   "cell_type": "markdown",
   "metadata": {},
   "source": [
    "## Test Plot Mean Counts Graph"
   ]
  },
  {
   "cell_type": "code",
   "execution_count": 7,
   "metadata": {
    "execution": {
     "iopub.execute_input": "2021-01-20T03:17:57.746508Z",
     "iopub.status.busy": "2021-01-20T03:17:57.746287Z",
     "iopub.status.idle": "2021-01-20T03:17:57.753470Z",
     "shell.execute_reply": "2021-01-20T03:17:57.752221Z",
     "shell.execute_reply.started": "2021-01-20T03:17:57.746487Z"
    }
   },
   "outputs": [],
   "source": [
    "def test_plot_meancounts():\n",
    "    \n",
    "    # Create dictionary with objects\n",
    "    dict_obj = {\n",
    "        'obj_test_1': hras_RBD(),\n",
    "        'obj_test_2': aph_obj(),\n",
    "    }\n",
    "\n",
    "    # Define aux function\n",
    "    def _test_plot_meancounts_output(obj_test, parameters):\n",
    "        error = False\n",
    "        try:\n",
    "            obj_test.meancounts(\n",
    "                **parameters\n",
    "            )  # pass dictionary as arguments of method\n",
    "        except Exception as e:\n",
    "            tb = traceback.format_exc()\n",
    "            print(e)\n",
    "            print(tb)\n",
    "            error = True\n",
    "        return error\n",
    "\n",
    "    # Define dictionary of parameters\n",
    "    # Each dict in the list will be a different set of parameters\n",
    "    list_params = [\n",
    "        {\n",
    "            'show': False,\n",
    "        },\n",
    "        {\n",
    "            'figsize': (3, 2.5),\n",
    "            'y_label': r'$∆E^i_x$',\n",
    "            'show': False,\n",
    "        },\n",
    "    ]\n",
    "\n",
    "    # Assert\n",
    "    for obj_label, obj_test in dict_obj.items(): # Loop over the dictionary\n",
    "        for parameters in list_params: # Loop over the parameters\n",
    "            assert _test_plot_meancounts_output( # Assert that that set of parameters works on that object\n",
    "                obj_test,\n",
    "                parameters,\n",
    "            ) == False, \"plot_meancounts failed with {} object and {} parameters\".format(\n",
    "                obj_label,\n",
    "                parameters,\n",
    "            )"
   ]
  },
  {
   "cell_type": "code",
   "execution_count": 8,
   "metadata": {
    "execution": {
     "iopub.execute_input": "2021-01-20T03:17:59.319403Z",
     "iopub.status.busy": "2021-01-20T03:17:59.319182Z",
     "iopub.status.idle": "2021-01-20T03:18:00.171552Z",
     "shell.execute_reply": "2021-01-20T03:18:00.169881Z",
     "shell.execute_reply.started": "2021-01-20T03:17:59.319383Z"
    }
   },
   "outputs": [
    {
     "name": "stdout",
     "output_type": "stream",
     "text": [
      "'Screen' object has no attribute 'positions'\n",
      "Traceback (most recent call last):\n",
      "  File \"<ipython-input-7-dad82942b6a8>\", line 14, in _test_plot_meancounts_output\n",
      "    obj_test.meancounts(\n",
      "  File \"<string>\", line 52, in plot_meancounts\n",
      "AttributeError: 'Screen' object has no attribute 'positions'\n",
      "\n"
     ]
    },
    {
     "ename": "AssertionError",
     "evalue": "plot_meancounts failed with obj_test_1 object and {'show': False} parameters",
     "output_type": "error",
     "traceback": [
      "\u001b[0;31m---------------------------------------------------------------------------\u001b[0m",
      "\u001b[0;31mAssertionError\u001b[0m                            Traceback (most recent call last)",
      "\u001b[0;32m<ipython-input-8-62f9f82c1ec8>\u001b[0m in \u001b[0;36m<module>\u001b[0;34m\u001b[0m\n\u001b[0;32m----> 1\u001b[0;31m \u001b[0mtest_plot_meancounts\u001b[0m\u001b[0;34m(\u001b[0m\u001b[0;34m)\u001b[0m\u001b[0;34m\u001b[0m\u001b[0;34m\u001b[0m\u001b[0m\n\u001b[0m",
      "\u001b[0;32m<ipython-input-7-dad82942b6a8>\u001b[0m in \u001b[0;36mtest_plot_meancounts\u001b[0;34m()\u001b[0m\n\u001b[1;32m     38\u001b[0m     \u001b[0;32mfor\u001b[0m \u001b[0mobj_label\u001b[0m\u001b[0;34m,\u001b[0m \u001b[0mobj_test\u001b[0m \u001b[0;32min\u001b[0m \u001b[0mdict_obj\u001b[0m\u001b[0;34m.\u001b[0m\u001b[0mitems\u001b[0m\u001b[0;34m(\u001b[0m\u001b[0;34m)\u001b[0m\u001b[0;34m:\u001b[0m \u001b[0;31m# Loop over the dictionary\u001b[0m\u001b[0;34m\u001b[0m\u001b[0;34m\u001b[0m\u001b[0m\n\u001b[1;32m     39\u001b[0m         \u001b[0;32mfor\u001b[0m \u001b[0mparameters\u001b[0m \u001b[0;32min\u001b[0m \u001b[0mlist_params\u001b[0m\u001b[0;34m:\u001b[0m \u001b[0;31m# Loop over the parameters\u001b[0m\u001b[0;34m\u001b[0m\u001b[0;34m\u001b[0m\u001b[0m\n\u001b[0;32m---> 40\u001b[0;31m             assert _test_plot_meancounts_output( # Assert that that set of parameters works on that object\n\u001b[0m\u001b[1;32m     41\u001b[0m                 \u001b[0mobj_test\u001b[0m\u001b[0;34m,\u001b[0m\u001b[0;34m\u001b[0m\u001b[0;34m\u001b[0m\u001b[0m\n\u001b[1;32m     42\u001b[0m                 \u001b[0mparameters\u001b[0m\u001b[0;34m,\u001b[0m\u001b[0;34m\u001b[0m\u001b[0;34m\u001b[0m\u001b[0m\n",
      "\u001b[0;31mAssertionError\u001b[0m: plot_meancounts failed with obj_test_1 object and {'show': False} parameters"
     ]
    },
    {
     "data": {
      "image/png": "[encoded data removed]",
      "text/plain": [
       "<Figure size 720x288 with 1 Axes>"
      ]
     },
     "metadata": {
      "needs_background": "light"
     },
     "output_type": "display_data"
    }
   ],
   "source": [
    "test_plot_meancounts()"
   ]
  },
  {
   "cell_type": "markdown",
   "metadata": {},
   "source": [
    "## Test Plot Positional Graph"
   ]
  },
  {
   "cell_type": "code",
   "execution_count": 9,
   "metadata": {
    "execution": {
     "iopub.execute_input": "2021-01-20T03:18:11.879189Z",
     "iopub.status.busy": "2021-01-20T03:18:11.878652Z",
     "iopub.status.idle": "2021-01-20T03:18:11.888091Z",
     "shell.execute_reply": "2021-01-20T03:18:11.886660Z",
     "shell.execute_reply.started": "2021-01-20T03:18:11.879157Z"
    }
   },
   "outputs": [],
   "source": [
    "#does not work when the position is 1 --should make a note of this somewhere\n",
    "def test_plot_position():\n",
    "    \n",
    "    # Create dictionary with objects\n",
    "    dict_obj = {\n",
    "        'obj_test_1': hras_RBD(),\n",
    "        'obj_test_2': aph_obj(),\n",
    "    }\n",
    "\n",
    "    # Define aux function\n",
    "    def _test_plot_position_output(obj_test, parameters):\n",
    "        error = False\n",
    "        try:\n",
    "            obj_test.position(position = 15,\n",
    "                **parameters\n",
    "            )  # pass dictionary as arguments of method\n",
    "        except:\n",
    "            error = True\n",
    "        return error\n",
    "\n",
    "    # Define dictionary of parameters\n",
    "    # Each dict in the list will be a different set of parameters\n",
    "    list_params = [\n",
    "        {\n",
    "            'show': False,\n",
    "        },\n",
    "        {\n",
    "            'figsize': (3, 2.5),\n",
    "            'y_label': r'$∆E^i_x$',\n",
    "            'show': False,\n",
    "        },\n",
    "    ]\n",
    "\n",
    "    # Assert\n",
    "    for obj_label, obj_test in dict_obj.items(): # Loop over the dictionary\n",
    "        for parameters in list_params: # Loop over the parameters\n",
    "            assert _test_plot_position_output( # Assert that that set of parameters works on that object\n",
    "                obj_test,\n",
    "                parameters,\n",
    "            ) == False, \"plot_position failed with {} object and {} parameters\".format(\n",
    "                obj_label,\n",
    "                parameters,\n",
    "            )"
   ]
  },
  {
   "cell_type": "code",
   "execution_count": 4,
   "metadata": {},
   "outputs": [],
   "source": [
    "def test_plot_library_representation():\n",
    "    \n",
    "    # Create dictionary with objects\n",
    "    dict_obj = {\n",
    "        'obj_test_1': hras_RBD(),\n",
    "        'obj_test_2': aph_obj(),\n",
    "    }\n",
    "\n",
    "    # Define aux function\n",
    "    def _test_plot_library_representation(obj_test, parameters):\n",
    "        error = False\n",
    "        try:\n",
    "            obj_test.library_representation(\n",
    "                **parameters\n",
    "            )  # pass dictionary as arguments of method\n",
    "        except Exception as e:\n",
    "            tb = traceback.format_exc()\n",
    "            print(e)\n",
    "            print(tb)\n",
    "            error = True\n",
    "        return error\n",
    "\n",
    "    # Define dictionary of parameters\n",
    "    # Each dict in the list will be a different set of parameters\n",
    "    list_params = [\n",
    "        {\n",
    "            'show': False,\n",
    "        },\n",
    "        {\n",
    "            'figsize': (3, 2.5),\n",
    "            'y_label': r'$∆E^i_x$',\n",
    "            'show': False,\n",
    "        },\n",
    "    ]\n",
    "\n",
    "    # Assert\n",
    "    for obj_label, obj_test in dict_obj.items(): # Loop over the dictionary\n",
    "        for parameters in list_params: # Loop over the parameters\n",
    "            assert _test_plot_library_representation( # Assert that that set of parameters works on that object\n",
    "                obj_test,\n",
    "                parameters,\n",
    "            ) == False, \"plot_library failed with {} object and {} parameters\".format(\n",
    "                obj_label,\n",
    "                parameters,\n",
    "            )"
   ]
  },
  {
   "cell_type": "code",
   "execution_count": 5,
   "metadata": {},
   "outputs": [
    {
     "name": "stdout",
     "output_type": "stream",
     "text": [
      "Length of values (21) does not match length of index (3300)\n",
      "Traceback (most recent call last):\n",
      "  File \"<ipython-input-4-bab935514aa1>\", line 14, in _test_plot_library_representation\n",
      "    obj_test.library_representation(\n",
      "  File \"<string>\", line 34, in plot_library_representation\n",
      "  File \"<string>\", line 10, in _group_codons_to_aa\n",
      "  File \"C:\\Users\\sagee\\OneDrive\\Documents\\anaconda\\lib\\site-packages\\pandas\\core\\frame.py\", line 3040, in __setitem__\n",
      "    self._set_item(key, value)\n",
      "  File \"C:\\Users\\sagee\\OneDrive\\Documents\\anaconda\\lib\\site-packages\\pandas\\core\\frame.py\", line 3116, in _set_item\n",
      "    value = self._sanitize_column(key, value)\n",
      "  File \"C:\\Users\\sagee\\OneDrive\\Documents\\anaconda\\lib\\site-packages\\pandas\\core\\frame.py\", line 3764, in _sanitize_column\n",
      "    value = sanitize_index(value, self.index)\n",
      "  File \"C:\\Users\\sagee\\OneDrive\\Documents\\anaconda\\lib\\site-packages\\pandas\\core\\internals\\construction.py\", line 747, in sanitize_index\n",
      "    raise ValueError(\n",
      "ValueError: Length of values (21) does not match length of index (3300)\n",
      "\n"
     ]
    },
    {
     "ename": "AssertionError",
     "evalue": "plot_library failed with obj_test_1 object and {'show': False} parameters",
     "output_type": "error",
     "traceback": [
      "\u001b[1;31m---------------------------------------------------------------------------\u001b[0m",
      "\u001b[1;31mAssertionError\u001b[0m                            Traceback (most recent call last)",
      "\u001b[1;32m<ipython-input-5-f13ee3a6a9a7>\u001b[0m in \u001b[0;36m<module>\u001b[1;34m\u001b[0m\n\u001b[1;32m----> 1\u001b[1;33m \u001b[0mtest_plot_library_representation\u001b[0m\u001b[1;33m(\u001b[0m\u001b[1;33m)\u001b[0m\u001b[1;33m\u001b[0m\u001b[1;33m\u001b[0m\u001b[0m\n\u001b[0m",
      "\u001b[1;32m<ipython-input-4-bab935514aa1>\u001b[0m in \u001b[0;36mtest_plot_library_representation\u001b[1;34m()\u001b[0m\n\u001b[0;32m     38\u001b[0m     \u001b[1;32mfor\u001b[0m \u001b[0mobj_label\u001b[0m\u001b[1;33m,\u001b[0m \u001b[0mobj_test\u001b[0m \u001b[1;32min\u001b[0m \u001b[0mdict_obj\u001b[0m\u001b[1;33m.\u001b[0m\u001b[0mitems\u001b[0m\u001b[1;33m(\u001b[0m\u001b[1;33m)\u001b[0m\u001b[1;33m:\u001b[0m \u001b[1;31m# Loop over the dictionary\u001b[0m\u001b[1;33m\u001b[0m\u001b[1;33m\u001b[0m\u001b[0m\n\u001b[0;32m     39\u001b[0m         \u001b[1;32mfor\u001b[0m \u001b[0mparameters\u001b[0m \u001b[1;32min\u001b[0m \u001b[0mlist_params\u001b[0m\u001b[1;33m:\u001b[0m \u001b[1;31m# Loop over the parameters\u001b[0m\u001b[1;33m\u001b[0m\u001b[1;33m\u001b[0m\u001b[0m\n\u001b[1;32m---> 40\u001b[1;33m             assert _test_plot_library_representation( # Assert that that set of parameters works on that object\n\u001b[0m\u001b[0;32m     41\u001b[0m                 \u001b[0mobj_test\u001b[0m\u001b[1;33m,\u001b[0m\u001b[1;33m\u001b[0m\u001b[1;33m\u001b[0m\u001b[0m\n\u001b[0;32m     42\u001b[0m                 \u001b[0mparameters\u001b[0m\u001b[1;33m,\u001b[0m\u001b[1;33m\u001b[0m\u001b[1;33m\u001b[0m\u001b[0m\n",
      "\u001b[1;31mAssertionError\u001b[0m: plot_library failed with obj_test_1 object and {'show': False} parameters"
     ]
    }
   ],
   "source": [
    "test_plot_library_representation()"
   ]
  }
 ],
 "metadata": {
  "kernelspec": {
   "display_name": "Python 3",
   "language": "python",
   "name": "python3"
  },
  "language_info": {
   "codemirror_mode": {
    "name": "ipython",
    "version": 3
   },
   "file_extension": ".py",
   "mimetype": "text/x-python",
   "name": "python",
   "nbconvert_exporter": "python",
   "pygments_lexer": "ipython3",
   "version": "3.8.3"
  }
 },
 "nbformat": 4,
 "nbformat_minor": 4
}
