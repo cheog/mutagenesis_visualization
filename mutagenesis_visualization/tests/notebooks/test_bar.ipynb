{
 "cells": [
  {
   "cell_type": "markdown",
   "metadata": {},
   "source": [
    "# Test of code_bar"
   ]
  },
  {
   "cell_type": "code",
   "execution_count": 3,
   "metadata": {},
   "outputs": [],
   "source": [
    "import pandas as pd\n",
    "import numpy as np\n",
    "import traceback\n",
    "\n",
    "try:\n",
    "    from mutagenesis_visualization.main.scripts.code_create_objects import (\n",
    "        hras_RBD,\n",
    "        aph_obj,\n",
    "    )\n",
    "except ModuleNotFoundError:\n",
    "    import import_notebook\n",
    "    import os\n",
    "    directory = os.getcwd()\n",
    "    new_directory = directory.replace('tests', 'main')\n",
    "    os.chdir(new_directory)\n",
    "\n",
    "    import code_create_objects\n",
    "    from code_create_objects import (\n",
    "        hras_RBD,\n",
    "        hras_counts,\n",
    "        aph_obj,\n",
    "     )\n",
    "    os.chdir(directory)\n"
   ]
  },
  {
   "cell_type": "markdown",
   "metadata": {},
   "source": [
    "# Test bar graph with mean enrichment"
   ]
  },
  {
   "cell_type": "code",
   "execution_count": 4,
   "metadata": {
    "execution": {
     "iopub.execute_input": "2021-01-20T03:17:39.132898Z",
     "iopub.status.busy": "2021-01-20T03:17:39.132662Z",
     "iopub.status.idle": "2021-01-20T03:17:39.142852Z",
     "shell.execute_reply": "2021-01-20T03:17:39.141536Z",
     "shell.execute_reply.started": "2021-01-20T03:17:39.132875Z"
    }
   },
   "outputs": [],
   "source": [
    "def test_plot_mean():\n",
    "    \n",
    "    # Create dictionary with objects\n",
    "    dict_obj = {\n",
    "        'obj_test_1': hras_RBD(),\n",
    "        'obj_test_2': aph_obj(),\n",
    "    }\n",
    "\n",
    "    # Define aux function\n",
    "    def _test_plot_mean_output(obj_test, parameters):\n",
    "        error = False\n",
    "        try:\n",
    "            obj_test.mean(\n",
    "                **parameters\n",
    "            )  # pass dictionary as arguments of method\n",
    "        except:\n",
    "            error = True\n",
    "        return error\n",
    "\n",
    "    # Define dictionary of parameters\n",
    "    # Each dict in the list will be a different set of parameters\n",
    "    list_params = [\n",
    "        {\n",
    "            'show': False,\n",
    "        },\n",
    "        {\n",
    "            'figsize': (3, 2.5),\n",
    "            'y_label': r'$∆E^i_x$',\n",
    "            'show': False,\n",
    "        },\n",
    "    ]\n",
    "\n",
    "    # Assert\n",
    "    for obj_label, obj_test in dict_obj.items(): # Loop over the dictionary\n",
    "        for parameters in list_params: # Loop over the parameters\n",
    "            assert _test_plot_mean_output( # Assert that that set of parameters works on that object\n",
    "                obj_test,\n",
    "                parameters,\n",
    "            ) == False, \"plot_mean failed with {} object and {} parameters\".format(\n",
    "                obj_label,\n",
    "                parameters,\n",
    "            )"
   ]
  },
  {
   "cell_type": "markdown",
   "metadata": {},
   "source": [
    "## Test Mean Differential Graph\n"
   ]
  },
  {
   "cell_type": "code",
   "execution_count": 5,
   "metadata": {
    "execution": {
     "iopub.execute_input": "2021-01-20T03:17:40.167332Z",
     "iopub.status.busy": "2021-01-20T03:17:40.166304Z",
     "iopub.status.idle": "2021-01-20T03:17:40.176421Z",
     "shell.execute_reply": "2021-01-20T03:17:40.174955Z",
     "shell.execute_reply.started": "2021-01-20T03:17:40.167287Z"
    }
   },
   "outputs": [],
   "source": [
    "def test_plot_meandifferential():\n",
    "    \n",
    "    # Create dictionary with objects\n",
    "    dict_obj = {\n",
    "        'obj_test_1': hras_RBD(),\n",
    "        'obj_test_2': aph_obj(),\n",
    "    }\n",
    "\n",
    "    # Define aux function\n",
    "    def _test_plot_meandifferential_output(obj_test, parameters):\n",
    "        error = False\n",
    "        try:\n",
    "            obj_test.differential(obj_test,\n",
    "                **parameters\n",
    "            )  # pass dictionary as arguments of method\n",
    "        except:\n",
    "            error = True\n",
    "        return error\n",
    "\n",
    "    # Define dictionary of parameters\n",
    "    # Each dict in the list will be a different set of parameters\n",
    "    list_params = [\n",
    "        {\n",
    "            'show': False,\n",
    "        },\n",
    "        {\n",
    "            'figsize': (3, 2.5),\n",
    "            'y_label': r'$∆E^i_x$',\n",
    "            'show': False,\n",
    "        },\n",
    "    ]\n",
    "\n",
    "    # Assert\n",
    "    for obj_label, obj_test in dict_obj.items(): # Loop over the dictionary\n",
    "        for parameters in list_params: # Loop over the parameters\n",
    "            assert _test_plot_meandifferential_output( # Assert that that set of parameters works on that object\n",
    "                obj_test,\n",
    "                parameters,\n",
    "            ) == False, \"plot_meandifferential failed with {} object and {} parameters\".format(\n",
    "                obj_label,\n",
    "                parameters,\n",
    "            )"
   ]
  },
  {
   "cell_type": "markdown",
   "metadata": {},
   "source": [
    "## Test Plot Mean Counts Graph"
   ]
  },
  {
   "cell_type": "code",
   "execution_count": 8,
   "metadata": {},
   "outputs": [],
   "source": [
    "def test_plot_meancounts():\n",
    "    \n",
    "    # Create dictionary with objects\n",
    "    dict_obj = {\n",
    "        'obj_test_1': hras_counts(),\n",
    "        'obj_test_2': aph_obj(),\n",
    "    }\n",
    "\n",
    "    # Define aux function\n",
    "    def _test_plot_meancounts_output(obj_test, parameters):\n",
    "        error = False\n",
    "        try:\n",
    "            obj_test.meancounts(\n",
    "                **parameters\n",
    "            )  # pass dictionary as arguments of method\n",
    "        except Exception as e:\n",
    "            tb = traceback.format_exc()\n",
    "            print(e)\n",
    "            print(tb)\n",
    "            error = True\n",
    "        return error\n",
    "\n",
    "    # Define dictionary of parameters\n",
    "    # Each dict in the list will be a different set of parameters\n",
    "    list_params = [\n",
    "        {\n",
    "            'show': False,\n",
    "        },\n",
    "        {\n",
    "            'figsize': (3, 2.5),\n",
    "            'y_label': r'$∆E^i_x$',\n",
    "            'show': False,\n",
    "        },\n",
    "    ]\n",
    "\n",
    "    # Assert\n",
    "    for obj_label, obj_test in dict_obj.items(): # Loop over the dictionary\n",
    "        for parameters in list_params: # Loop over the parameters\n",
    "            assert _test_plot_meancounts_output( # Assert that that set of parameters works on that object\n",
    "                obj_test,\n",
    "                parameters,\n",
    "            ) == False, \"plot_meancounts failed with {} object and {} parameters\".format(\n",
    "                obj_label,\n",
    "                parameters,\n",
    "            )"
   ]
  },
  {
   "cell_type": "code",
   "execution_count": 9,
   "metadata": {},
   "outputs": [
    {
     "ename": "FileNotFoundError",
     "evalue": "[Errno 2] No such file or directory: '../data/hras.trimmed.fastq'",
     "output_type": "error",
     "traceback": [
      "\u001b[1;31m---------------------------------------------------------------------------\u001b[0m",
      "\u001b[1;31mFileNotFoundError\u001b[0m                         Traceback (most recent call last)",
      "\u001b[1;32m<ipython-input-9-62f9f82c1ec8>\u001b[0m in \u001b[0;36m<module>\u001b[1;34m\u001b[0m\n\u001b[1;32m----> 1\u001b[1;33m \u001b[0mtest_plot_meancounts\u001b[0m\u001b[1;33m(\u001b[0m\u001b[1;33m)\u001b[0m\u001b[1;33m\u001b[0m\u001b[1;33m\u001b[0m\u001b[0m\n\u001b[0m",
      "\u001b[1;32m<ipython-input-8-360c55928ec0>\u001b[0m in \u001b[0;36mtest_plot_meancounts\u001b[1;34m()\u001b[0m\n\u001b[0;32m      3\u001b[0m     \u001b[1;31m# Create dictionary with objects\u001b[0m\u001b[1;33m\u001b[0m\u001b[1;33m\u001b[0m\u001b[1;33m\u001b[0m\u001b[0m\n\u001b[0;32m      4\u001b[0m     dict_obj = {\n\u001b[1;32m----> 5\u001b[1;33m         \u001b[1;34m'obj_test_1'\u001b[0m\u001b[1;33m:\u001b[0m \u001b[0mhras_counts\u001b[0m\u001b[1;33m(\u001b[0m\u001b[1;33m)\u001b[0m\u001b[1;33m,\u001b[0m\u001b[1;33m\u001b[0m\u001b[1;33m\u001b[0m\u001b[0m\n\u001b[0m\u001b[0;32m      6\u001b[0m         \u001b[1;34m'obj_test_2'\u001b[0m\u001b[1;33m:\u001b[0m \u001b[0maph_obj\u001b[0m\u001b[1;33m(\u001b[0m\u001b[1;33m)\u001b[0m\u001b[1;33m,\u001b[0m\u001b[1;33m\u001b[0m\u001b[1;33m\u001b[0m\u001b[0m\n\u001b[0;32m      7\u001b[0m     }\n",
      "\u001b[1;32mcode_create_objects.ipynb\u001b[0m in \u001b[0;36mhras_counts\u001b[1;34m()\u001b[0m\n",
      "\u001b[1;32mcode_process_data.ipynb\u001b[0m in \u001b[0;36mcount_reads\u001b[1;34m(dna_sequence, input_file, codon_list, counts_wt, start_position, output_file, full)\u001b[0m\n",
      "\u001b[1;32mcode_process_data.ipynb\u001b[0m in \u001b[0;36mcount_fastq\u001b[1;34m(variants, input_file)\u001b[0m\n",
      "\u001b[1;32m~\\OneDrive\\Documents\\anaconda\\lib\\site-packages\\Bio\\SeqIO\\__init__.py\u001b[0m in \u001b[0;36mparse\u001b[1;34m(handle, format, alphabet)\u001b[0m\n\u001b[0;32m    605\u001b[0m     \u001b[0miterator_generator\u001b[0m \u001b[1;33m=\u001b[0m \u001b[0m_FormatToIterator\u001b[0m\u001b[1;33m.\u001b[0m\u001b[0mget\u001b[0m\u001b[1;33m(\u001b[0m\u001b[0mformat\u001b[0m\u001b[1;33m)\u001b[0m\u001b[1;33m\u001b[0m\u001b[1;33m\u001b[0m\u001b[0m\n\u001b[0;32m    606\u001b[0m     \u001b[1;32mif\u001b[0m \u001b[0miterator_generator\u001b[0m\u001b[1;33m:\u001b[0m\u001b[1;33m\u001b[0m\u001b[1;33m\u001b[0m\u001b[0m\n\u001b[1;32m--> 607\u001b[1;33m         \u001b[1;32mreturn\u001b[0m \u001b[0miterator_generator\u001b[0m\u001b[1;33m(\u001b[0m\u001b[0mhandle\u001b[0m\u001b[1;33m)\u001b[0m\u001b[1;33m\u001b[0m\u001b[1;33m\u001b[0m\u001b[0m\n\u001b[0m\u001b[0;32m    608\u001b[0m     \u001b[1;32mif\u001b[0m \u001b[0mformat\u001b[0m \u001b[1;32min\u001b[0m \u001b[0mAlignIO\u001b[0m\u001b[1;33m.\u001b[0m\u001b[0m_FormatToIterator\u001b[0m\u001b[1;33m:\u001b[0m\u001b[1;33m\u001b[0m\u001b[1;33m\u001b[0m\u001b[0m\n\u001b[0;32m    609\u001b[0m         \u001b[1;31m# Use Bio.AlignIO to read in the alignments\u001b[0m\u001b[1;33m\u001b[0m\u001b[1;33m\u001b[0m\u001b[1;33m\u001b[0m\u001b[0m\n",
      "\u001b[1;32m~\\OneDrive\\Documents\\anaconda\\lib\\site-packages\\Bio\\SeqIO\\QualityIO.py\u001b[0m in \u001b[0;36m__init__\u001b[1;34m(self, source, alphabet, title2ids)\u001b[0m\n\u001b[0;32m   1057\u001b[0m             \u001b[1;32mraise\u001b[0m \u001b[0mValueError\u001b[0m\u001b[1;33m(\u001b[0m\u001b[1;34m\"The alphabet argument is no longer supported\"\u001b[0m\u001b[1;33m)\u001b[0m\u001b[1;33m\u001b[0m\u001b[1;33m\u001b[0m\u001b[0m\n\u001b[0;32m   1058\u001b[0m         \u001b[0mself\u001b[0m\u001b[1;33m.\u001b[0m\u001b[0mtitle2ids\u001b[0m \u001b[1;33m=\u001b[0m \u001b[0mtitle2ids\u001b[0m\u001b[1;33m\u001b[0m\u001b[1;33m\u001b[0m\u001b[0m\n\u001b[1;32m-> 1059\u001b[1;33m         \u001b[0msuper\u001b[0m\u001b[1;33m(\u001b[0m\u001b[1;33m)\u001b[0m\u001b[1;33m.\u001b[0m\u001b[0m__init__\u001b[0m\u001b[1;33m(\u001b[0m\u001b[0msource\u001b[0m\u001b[1;33m,\u001b[0m \u001b[0mmode\u001b[0m\u001b[1;33m=\u001b[0m\u001b[1;34m\"t\"\u001b[0m\u001b[1;33m,\u001b[0m \u001b[0mfmt\u001b[0m\u001b[1;33m=\u001b[0m\u001b[1;34m\"Fastq\"\u001b[0m\u001b[1;33m)\u001b[0m\u001b[1;33m\u001b[0m\u001b[1;33m\u001b[0m\u001b[0m\n\u001b[0m\u001b[0;32m   1060\u001b[0m \u001b[1;33m\u001b[0m\u001b[0m\n\u001b[0;32m   1061\u001b[0m     \u001b[1;32mdef\u001b[0m \u001b[0mparse\u001b[0m\u001b[1;33m(\u001b[0m\u001b[0mself\u001b[0m\u001b[1;33m,\u001b[0m \u001b[0mhandle\u001b[0m\u001b[1;33m)\u001b[0m\u001b[1;33m:\u001b[0m\u001b[1;33m\u001b[0m\u001b[1;33m\u001b[0m\u001b[0m\n",
      "\u001b[1;32m~\\OneDrive\\Documents\\anaconda\\lib\\site-packages\\Bio\\SeqIO\\Interfaces.py\u001b[0m in \u001b[0;36m__init__\u001b[1;34m(self, source, alphabet, mode, fmt)\u001b[0m\n\u001b[0;32m     45\u001b[0m             \u001b[1;32mraise\u001b[0m \u001b[0mValueError\u001b[0m\u001b[1;33m(\u001b[0m\u001b[1;34m\"The alphabet argument is no longer supported\"\u001b[0m\u001b[1;33m)\u001b[0m\u001b[1;33m\u001b[0m\u001b[1;33m\u001b[0m\u001b[0m\n\u001b[0;32m     46\u001b[0m         \u001b[1;32mtry\u001b[0m\u001b[1;33m:\u001b[0m\u001b[1;33m\u001b[0m\u001b[1;33m\u001b[0m\u001b[0m\n\u001b[1;32m---> 47\u001b[1;33m             \u001b[0mself\u001b[0m\u001b[1;33m.\u001b[0m\u001b[0mstream\u001b[0m \u001b[1;33m=\u001b[0m \u001b[0mopen\u001b[0m\u001b[1;33m(\u001b[0m\u001b[0msource\u001b[0m\u001b[1;33m,\u001b[0m \u001b[1;34m\"r\"\u001b[0m \u001b[1;33m+\u001b[0m \u001b[0mmode\u001b[0m\u001b[1;33m)\u001b[0m\u001b[1;33m\u001b[0m\u001b[1;33m\u001b[0m\u001b[0m\n\u001b[0m\u001b[0;32m     48\u001b[0m             \u001b[0mself\u001b[0m\u001b[1;33m.\u001b[0m\u001b[0mshould_close_stream\u001b[0m \u001b[1;33m=\u001b[0m \u001b[1;32mTrue\u001b[0m\u001b[1;33m\u001b[0m\u001b[1;33m\u001b[0m\u001b[0m\n\u001b[0;32m     49\u001b[0m         \u001b[1;32mexcept\u001b[0m \u001b[0mTypeError\u001b[0m\u001b[1;33m:\u001b[0m  \u001b[1;31m# not a path, assume we received a stream\u001b[0m\u001b[1;33m\u001b[0m\u001b[1;33m\u001b[0m\u001b[0m\n",
      "\u001b[1;31mFileNotFoundError\u001b[0m: [Errno 2] No such file or directory: '../data/hras.trimmed.fastq'"
     ]
    }
   ],
   "source": [
    "test_plot_meancounts()"
   ]
  },
  {
   "cell_type": "markdown",
   "metadata": {},
   "source": [
    "## Test Plot Positional Graph"
   ]
  },
  {
   "cell_type": "code",
   "execution_count": 9,
   "metadata": {
    "execution": {
     "iopub.execute_input": "2021-01-20T03:18:11.879189Z",
     "iopub.status.busy": "2021-01-20T03:18:11.878652Z",
     "iopub.status.idle": "2021-01-20T03:18:11.888091Z",
     "shell.execute_reply": "2021-01-20T03:18:11.886660Z",
     "shell.execute_reply.started": "2021-01-20T03:18:11.879157Z"
    }
   },
   "outputs": [],
   "source": [
    "#does not work when the position is 1 --should make a note of this somewhere\n",
    "def test_plot_position():\n",
    "    \n",
    "    # Create dictionary with objects\n",
    "    dict_obj = {\n",
    "        'obj_test_1': hras_RBD(),\n",
    "        'obj_test_2': aph_obj(),\n",
    "    }\n",
    "\n",
    "    # Define aux function\n",
    "    def _test_plot_position_output(obj_test, parameters):\n",
    "        error = False\n",
    "        try:\n",
    "            obj_test.position(position = 15,\n",
    "                **parameters\n",
    "            )  # pass dictionary as arguments of method\n",
    "        except:\n",
    "            error = True\n",
    "        return error\n",
    "\n",
    "    # Define dictionary of parameters\n",
    "    # Each dict in the list will be a different set of parameters\n",
    "    list_params = [\n",
    "        {\n",
    "            'show': False,\n",
    "        },\n",
    "        {\n",
    "            'figsize': (3, 2.5),\n",
    "            'y_label': r'$∆E^i_x$',\n",
    "            'show': False,\n",
    "        },\n",
    "    ]\n",
    "\n",
    "    # Assert\n",
    "    for obj_label, obj_test in dict_obj.items(): # Loop over the dictionary\n",
    "        for parameters in list_params: # Loop over the parameters\n",
    "            assert _test_plot_position_output( # Assert that that set of parameters works on that object\n",
    "                obj_test,\n",
    "                parameters,\n",
    "            ) == False, \"plot_position failed with {} object and {} parameters\".format(\n",
    "                obj_label,\n",
    "                parameters,\n",
    "            )"
   ]
  },
  {
   "cell_type": "code",
   "execution_count": 4,
   "metadata": {},
   "outputs": [],
   "source": [
    "def test_plot_library_representation():\n",
    "    \n",
    "    # Create dictionary with objects\n",
    "    dict_obj = {\n",
    "        'obj_test_1': hras_RBD(),\n",
    "        'obj_test_2': aph_obj(),\n",
    "    }\n",
    "\n",
    "    # Define aux function\n",
    "    def _test_plot_library_representation(obj_test, parameters):\n",
    "        error = False\n",
    "        try:\n",
    "            obj_test.library_representation(\n",
    "                **parameters\n",
    "            )  # pass dictionary as arguments of method\n",
    "        except Exception as e:\n",
    "            tb = traceback.format_exc()\n",
    "            print(e)\n",
    "            print(tb)\n",
    "            error = True\n",
    "        return error\n",
    "\n",
    "    # Define dictionary of parameters\n",
    "    # Each dict in the list will be a different set of parameters\n",
    "    list_params = [\n",
    "        {\n",
    "            'show': False,\n",
    "        },\n",
    "        {\n",
    "            'figsize': (3, 2.5),\n",
    "            'y_label': r'$∆E^i_x$',\n",
    "            'show': False,\n",
    "        },\n",
    "    ]\n",
    "\n",
    "    # Assert\n",
    "    for obj_label, obj_test in dict_obj.items(): # Loop over the dictionary\n",
    "        for parameters in list_params: # Loop over the parameters\n",
    "            assert _test_plot_library_representation( # Assert that that set of parameters works on that object\n",
    "                obj_test,\n",
    "                parameters,\n",
    "            ) == False, \"plot_library failed with {} object and {} parameters\".format(\n",
    "                obj_label,\n",
    "                parameters,\n",
    "            )"
   ]
  },
  {
   "cell_type": "code",
   "execution_count": 5,
   "metadata": {},
   "outputs": [
    {
     "name": "stdout",
     "output_type": "stream",
     "text": [
      "Length of values (21) does not match length of index (3300)\n",
      "Traceback (most recent call last):\n",
      "  File \"<ipython-input-4-bab935514aa1>\", line 14, in _test_plot_library_representation\n",
      "    obj_test.library_representation(\n",
      "  File \"<string>\", line 34, in plot_library_representation\n",
      "  File \"<string>\", line 10, in _group_codons_to_aa\n",
      "  File \"C:\\Users\\sagee\\OneDrive\\Documents\\anaconda\\lib\\site-packages\\pandas\\core\\frame.py\", line 3040, in __setitem__\n",
      "    self._set_item(key, value)\n",
      "  File \"C:\\Users\\sagee\\OneDrive\\Documents\\anaconda\\lib\\site-packages\\pandas\\core\\frame.py\", line 3116, in _set_item\n",
      "    value = self._sanitize_column(key, value)\n",
      "  File \"C:\\Users\\sagee\\OneDrive\\Documents\\anaconda\\lib\\site-packages\\pandas\\core\\frame.py\", line 3764, in _sanitize_column\n",
      "    value = sanitize_index(value, self.index)\n",
      "  File \"C:\\Users\\sagee\\OneDrive\\Documents\\anaconda\\lib\\site-packages\\pandas\\core\\internals\\construction.py\", line 747, in sanitize_index\n",
      "    raise ValueError(\n",
      "ValueError: Length of values (21) does not match length of index (3300)\n",
      "\n"
     ]
    },
    {
     "ename": "AssertionError",
     "evalue": "plot_library failed with obj_test_1 object and {'show': False} parameters",
     "output_type": "error",
     "traceback": [
      "\u001b[1;31m---------------------------------------------------------------------------\u001b[0m",
      "\u001b[1;31mAssertionError\u001b[0m                            Traceback (most recent call last)",
      "\u001b[1;32m<ipython-input-5-f13ee3a6a9a7>\u001b[0m in \u001b[0;36m<module>\u001b[1;34m\u001b[0m\n\u001b[1;32m----> 1\u001b[1;33m \u001b[0mtest_plot_library_representation\u001b[0m\u001b[1;33m(\u001b[0m\u001b[1;33m)\u001b[0m\u001b[1;33m\u001b[0m\u001b[1;33m\u001b[0m\u001b[0m\n\u001b[0m",
      "\u001b[1;32m<ipython-input-4-bab935514aa1>\u001b[0m in \u001b[0;36mtest_plot_library_representation\u001b[1;34m()\u001b[0m\n\u001b[0;32m     38\u001b[0m     \u001b[1;32mfor\u001b[0m \u001b[0mobj_label\u001b[0m\u001b[1;33m,\u001b[0m \u001b[0mobj_test\u001b[0m \u001b[1;32min\u001b[0m \u001b[0mdict_obj\u001b[0m\u001b[1;33m.\u001b[0m\u001b[0mitems\u001b[0m\u001b[1;33m(\u001b[0m\u001b[1;33m)\u001b[0m\u001b[1;33m:\u001b[0m \u001b[1;31m# Loop over the dictionary\u001b[0m\u001b[1;33m\u001b[0m\u001b[1;33m\u001b[0m\u001b[0m\n\u001b[0;32m     39\u001b[0m         \u001b[1;32mfor\u001b[0m \u001b[0mparameters\u001b[0m \u001b[1;32min\u001b[0m \u001b[0mlist_params\u001b[0m\u001b[1;33m:\u001b[0m \u001b[1;31m# Loop over the parameters\u001b[0m\u001b[1;33m\u001b[0m\u001b[1;33m\u001b[0m\u001b[0m\n\u001b[1;32m---> 40\u001b[1;33m             assert _test_plot_library_representation( # Assert that that set of parameters works on that object\n\u001b[0m\u001b[0;32m     41\u001b[0m                 \u001b[0mobj_test\u001b[0m\u001b[1;33m,\u001b[0m\u001b[1;33m\u001b[0m\u001b[1;33m\u001b[0m\u001b[0m\n\u001b[0;32m     42\u001b[0m                 \u001b[0mparameters\u001b[0m\u001b[1;33m,\u001b[0m\u001b[1;33m\u001b[0m\u001b[1;33m\u001b[0m\u001b[0m\n",
      "\u001b[1;31mAssertionError\u001b[0m: plot_library failed with obj_test_1 object and {'show': False} parameters"
     ]
    }
   ],
   "source": [
    "test_plot_library_representation()"
   ]
  }
 ],
 "metadata": {
  "kernelspec": {
   "display_name": "Python 3",
   "language": "python",
   "name": "python3"
  },
  "language_info": {
   "codemirror_mode": {
    "name": "ipython",
    "version": 3
   },
   "file_extension": ".py",
   "mimetype": "text/x-python",
   "name": "python",
   "nbconvert_exporter": "python",
   "pygments_lexer": "ipython3",
   "version": "3.8.5"
  }
 },
 "nbformat": 4,
 "nbformat_minor": 4
}
