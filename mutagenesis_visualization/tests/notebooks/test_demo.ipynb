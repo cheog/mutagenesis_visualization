{
 "cells": [
  {
   "cell_type": "code",
   "execution_count": 2,
   "metadata": {
    "execution": {
     "iopub.execute_input": "2020-11-20T05:08:33.483272Z",
     "iopub.status.busy": "2020-11-20T05:08:33.483007Z",
     "iopub.status.idle": "2020-11-20T05:08:33.586155Z",
     "shell.execute_reply": "2020-11-20T05:08:33.585418Z",
     "shell.execute_reply.started": "2020-11-20T05:08:33.483243Z"
    }
   },
   "outputs": [],
   "source": [
    "# Package libraries\n",
    "\n",
    "try:\n",
    "    from mutagenesis_visualization.main.scripts.code_demo import (demo, demo_datasets, demo_pdbs, demo_fasta)\n",
    "except ModuleNotFoundError:\n",
    "    import import_notebook\n",
    "    import os\n",
    "    directory = os.getcwd()\n",
    "    new_directory = directory.replace('tests','main')\n",
    "    os.chdir(new_directory)\n",
    "    from code_demo import (demo, demo_datasets, demo_pdbs, demo_fasta)\n",
    "    os.chdir(directory)\n"
   ]
  },
  {
   "cell_type": "code",
   "execution_count": 3,
   "metadata": {
    "execution": {
     "iopub.execute_input": "2020-11-20T05:08:43.113801Z",
     "iopub.status.busy": "2020-11-20T05:08:43.113461Z",
     "iopub.status.idle": "2020-11-20T05:08:43.120448Z",
     "shell.execute_reply": "2020-11-20T05:08:43.119597Z",
     "shell.execute_reply.started": "2020-11-20T05:08:43.113761Z"
    }
   },
   "outputs": [],
   "source": [
    "def _test_output_demo(argument):\n",
    "    '''\n",
    "    Aux function for test_demo.\n",
    "    Will try to run a demo function, will return True if there is an error.\n",
    "    '''\n",
    "    error = False\n",
    "    try:\n",
    "        demo(argument, show=False)\n",
    "    except:\n",
    "        error = True\n",
    "    return error"
   ]
  },
  {
   "cell_type": "code",
   "execution_count": 4,
   "metadata": {
    "execution": {
     "iopub.execute_input": "2020-11-20T05:08:46.850877Z",
     "iopub.status.busy": "2020-11-20T05:08:46.850646Z",
     "iopub.status.idle": "2020-11-20T05:08:46.858664Z",
     "shell.execute_reply": "2020-11-20T05:08:46.857502Z",
     "shell.execute_reply.started": "2020-11-20T05:08:46.850853Z"
    }
   },
   "outputs": [],
   "source": [
    "def test_demo():\n",
    "    '''\n",
    "    This function will test that demo is capable of generating the \n",
    "    types of figures ('heatmap', 'miniheatmap', 'mean', 'kernel', 'pca',\n",
    "    'position', 'secondary_mean', 'correlation', 'individual_correlation') that demo()\n",
    "    is supposed to. Will raise an error if at least one of the plots does not work.\n",
    "    '''\n",
    "\n",
    "    arguments = ['heatmap', 'miniheatmap', 'mean', 'kernel', 'pca',\n",
    "                 'position', 'secondary_mean', 'correlation', 'individual_correlation']\n",
    "    solutions = [_test_output_demo(argument) for argument in arguments]\n",
    "    assert any(solutions) == False, 'error when running the demo figures'"
   ]
  },
  {
   "cell_type": "code",
   "execution_count": null,
   "metadata": {},
   "outputs": [],
   "source": [
    "def test_demo_pdbs():\n",
    "    '''test that function returns dictionary'''\n",
    "    assert (str(type(demo_pdbs()))\n",
    "            ) == \"<class 'dict'>\", \"function demo_pdbs failed\""
   ]
  },
  {
   "cell_type": "code",
   "execution_count": null,
   "metadata": {},
   "outputs": [],
   "source": [
    "def test_demo_datasets():\n",
    "    '''test that function returns dictionary'''\n",
    "    assert (str(type(demo_datasets()))\n",
    "            ) == \"<class 'dict'>\", \"function demo_datasets failed\""
   ]
  },
  {
   "cell_type": "code",
   "execution_count": null,
   "metadata": {},
   "outputs": [],
   "source": [
    "def test_demo_fasta():\n",
    "    '''test that function returns dictionary'''\n",
    "    assert (str(type(demo_fasta()))\n",
    "            ) == \"<class 'dict'>\", \"function demo_fasta failed\""
   ]
  }
 ],
 "metadata": {
  "kernelspec": {
   "display_name": "Python 3",
   "language": "python",
   "name": "python3"
  },
  "language_info": {
   "codemirror_mode": {
    "name": "ipython",
    "version": 3
   },
   "file_extension": ".py",
   "mimetype": "text/x-python",
   "name": "python",
   "nbconvert_exporter": "python",
   "pygments_lexer": "ipython3",
   "version": "3.8.3"
  }
 },
 "nbformat": 4,
 "nbformat_minor": 4
}
