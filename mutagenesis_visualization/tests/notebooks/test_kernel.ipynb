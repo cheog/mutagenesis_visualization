{
 "cells": [
  {
   "cell_type": "markdown",
   "metadata": {
    "execution": {
     "iopub.execute_input": "2020-11-13T04:23:34.797446Z",
     "iopub.status.busy": "2020-11-13T04:23:34.796905Z",
     "iopub.status.idle": "2020-11-13T04:23:35.479407Z",
     "shell.execute_reply": "2020-11-13T04:23:35.478761Z",
     "shell.execute_reply.started": "2020-11-13T04:23:34.797414Z"
    }
   },
   "source": [
    "# Test of code_kernel\n"
   ]
  },
  {
   "cell_type": "markdown",
   "metadata": {},
   "source": [
    "## Import modules"
   ]
  },
  {
   "cell_type": "code",
   "execution_count": 1,
   "metadata": {
    "execution": {
     "iopub.execute_input": "2021-01-20T00:02:05.589580Z",
     "iopub.status.busy": "2021-01-20T00:02:05.589067Z",
     "iopub.status.idle": "2021-01-20T00:02:07.396336Z",
     "shell.execute_reply": "2021-01-20T00:02:07.393167Z",
     "shell.execute_reply.started": "2021-01-20T00:02:05.589533Z"
    }
   },
   "outputs": [
    {
     "name": "stdout",
     "output_type": "stream",
     "text": [
      "importing Jupyter notebook from code_create_objects.ipynb\n",
      "/Users/fx/Dropbox/AKuriyanLab/Code/Python/Python_Scripts/mv_repo/mutagenesis_visualization/main/notebooks\n",
      "importing Jupyter notebook from code_class.ipynb\n",
      "importing Jupyter notebook from code_kernel.ipynb\n",
      "importing Jupyter notebook from code_kwargs.ipynb\n",
      "importing Jupyter notebook from code_utils.ipynb\n",
      "importing Jupyter notebook from code_heatmaps.ipynb\n",
      "importing Jupyter notebook from code_bar.ipynb\n",
      "importing Jupyter notebook from code_scatter.ipynb\n",
      "importing Jupyter notebook from code_PCA.ipynb\n",
      "importing Jupyter notebook from code_other.ipynb\n",
      "importing Jupyter notebook from code_plotly.ipynb\n",
      "importing Jupyter notebook from code_pymol.ipynb\n"
     ]
    }
   ],
   "source": [
    "import pandas as pd\n",
    "import numpy as np\n",
    "\n",
    "try:\n",
    "    from mutagenesis_visualization.main.scripts.code_create_objects import (\n",
    "        hras_RBD\n",
    "    )\n",
    "except ModuleNotFoundError:\n",
    "    import import_notebook\n",
    "    import os\n",
    "    directory = os.getcwd()\n",
    "    new_directory = directory.replace('tests', 'main')\n",
    "    os.chdir(new_directory)\n",
    "    from code_create_objects import (hras_RBD)\n",
    "    os.chdir(directory)"
   ]
  },
  {
   "cell_type": "markdown",
   "metadata": {},
   "source": [
    "## Test main functions"
   ]
  },
  {
   "cell_type": "code",
   "execution_count": 2,
   "metadata": {
    "execution": {
     "iopub.execute_input": "2021-01-20T00:02:07.399995Z",
     "iopub.status.busy": "2021-01-20T00:02:07.398472Z",
     "iopub.status.idle": "2021-01-20T00:02:07.413511Z",
     "shell.execute_reply": "2021-01-20T00:02:07.407870Z",
     "shell.execute_reply.started": "2021-01-20T00:02:07.399943Z"
    }
   },
   "outputs": [],
   "source": [
    "def test_plot_kernel():\n",
    "    # Get object\n",
    "    obj_test = hras_RBD()\n",
    "\n",
    "    # Define aux function\n",
    "    def _test_plot_kernel_output(parameters):\n",
    "        error = False\n",
    "        try:\n",
    "            obj_test.kernel(\n",
    "                **parameters\n",
    "            )  # pass dictionary as arguments of method\n",
    "        except:\n",
    "            error = True\n",
    "        return error\n",
    "\n",
    "    # Define dictionary of parameters\n",
    "    # Each dict in the list will be a different set of parameters\n",
    "    list_params = [{'show': False}, {'cumulative': True, 'show':\n",
    "                                     False},]\n",
    "\n",
    "    # Assert\n",
    "    for parameters in list_params:\n",
    "        assert _test_plot_kernel_output(\n",
    "            parameters\n",
    "        ) == False, \"plot_kernel failed with {} parameters\".format(parameters)"
   ]
  },
  {
   "cell_type": "code",
   "execution_count": 10,
   "metadata": {
    "execution": {
     "iopub.execute_input": "2021-01-20T00:05:19.901801Z",
     "iopub.status.busy": "2021-01-20T00:05:19.901595Z",
     "iopub.status.idle": "2021-01-20T00:05:19.908185Z",
     "shell.execute_reply": "2021-01-20T00:05:19.906565Z",
     "shell.execute_reply.started": "2021-01-20T00:05:19.901781Z"
    }
   },
   "outputs": [],
   "source": [
    "def test_plot_histogram():\n",
    "    # Get object\n",
    "    obj_test = hras_RBD()\n",
    "\n",
    "    # Define aux function\n",
    "    def _test_plot_histogram_output(parameters):\n",
    "        error = False\n",
    "        try:\n",
    "            obj_test.histogram(\n",
    "                **parameters\n",
    "            )  # pass dictionary as arguments of method\n",
    "        except:\n",
    "            error = True\n",
    "        return error\n",
    "\n",
    "    # Define dictionary of parameters\n",
    "    # Each dict in the list will be a different set of parameters\n",
    "    list_params = [{'show': False}, {'population': 'SNV', 'show':\n",
    "                                     False},]\n",
    "\n",
    "    # Assert\n",
    "    for parameters in list_params:\n",
    "        assert _test_plot_histogram_output(\n",
    "            parameters\n",
    "        ) == False, \"plot_histogram failed with {} parameters\".format(parameters)"
   ]
  }
 ],
 "metadata": {
  "kernelspec": {
   "display_name": "Python 3",
   "language": "python",
   "name": "python3"
  },
  "language_info": {
   "codemirror_mode": {
    "name": "ipython",
    "version": 3
   },
   "file_extension": ".py",
   "mimetype": "text/x-python",
   "name": "python",
   "nbconvert_exporter": "python",
   "pygments_lexer": "ipython3",
   "version": "3.8.3"
  }
 },
 "nbformat": 4,
 "nbformat_minor": 4
}
