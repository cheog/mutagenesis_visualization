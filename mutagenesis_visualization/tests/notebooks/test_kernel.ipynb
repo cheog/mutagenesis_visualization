{
 "cells": [
  {
   "cell_type": "markdown",
   "metadata": {
    "execution": {
     "iopub.execute_input": "2020-11-13T04:23:34.797446Z",
     "iopub.status.busy": "2020-11-13T04:23:34.796905Z",
     "iopub.status.idle": "2020-11-13T04:23:35.479407Z",
     "shell.execute_reply": "2020-11-13T04:23:35.478761Z",
     "shell.execute_reply.started": "2020-11-13T04:23:34.797414Z"
    }
   },
   "source": [
    "# Test of code_kernel\n"
   ]
  },
  {
   "cell_type": "markdown",
   "metadata": {},
   "source": [
    "## Import modules"
   ]
  },
  {
   "cell_type": "code",
   "execution_count": 27,
   "metadata": {},
   "outputs": [],
   "source": [
    "import pandas as pd\n",
    "import numpy as np\n",
    "\n",
    "try:\n",
    "    from mutagenesis_visualization.main.scripts.code_create_objects import (\n",
    "        hras_RBD, aph_obj\n",
    "    )\n",
    "    from mutagenesis_visualization.main.scripts.code_kernel import (\n",
    "        plot_multiplekernel,\n",
    "    )\n",
    "except ModuleNotFoundError:\n",
    "    import import_notebook\n",
    "    import os\n",
    "    directory = os.getcwd()\n",
    "    new_directory = directory.replace('tests', 'main')\n",
    "    os.chdir(new_directory)\n",
    "    from code_create_objects import (hras_RBD, aph_obj)\n",
    "    from code_kernel import plot_multiplekernel\n",
    "    os.chdir(directory)"
   ]
  },
  {
   "cell_type": "markdown",
   "metadata": {},
   "source": [
    "## Test main functions"
   ]
  },
  {
   "cell_type": "code",
   "execution_count": 2,
   "metadata": {
    "execution": {
     "iopub.execute_input": "2021-01-20T00:02:07.399995Z",
     "iopub.status.busy": "2021-01-20T00:02:07.398472Z",
     "iopub.status.idle": "2021-01-20T00:02:07.413511Z",
     "shell.execute_reply": "2021-01-20T00:02:07.407870Z",
     "shell.execute_reply.started": "2021-01-20T00:02:07.399943Z"
    }
   },
   "outputs": [],
   "source": [
    "def test_plot_kernel():\n",
    "    # Get object\n",
    "    obj_test = hras_RBD()\n",
    "\n",
    "    # Define aux function\n",
    "    def _test_plot_kernel_output(parameters):\n",
    "        error = False\n",
    "        try:\n",
    "            obj_test.kernel(\n",
    "                **parameters\n",
    "            )  # pass dictionary as arguments of method\n",
    "        except:\n",
    "            error = True\n",
    "        return error\n",
    "\n",
    "    # Define dictionary of parameters\n",
    "    # Each dict in the list will be a different set of parameters\n",
    "    list_params = [\n",
    "        {'show': False},\n",
    "        {'cumulative': True, 'show': False},\n",
    "    ]\n",
    "\n",
    "    # Assert\n",
    "    for parameters in list_params:\n",
    "        assert _test_plot_kernel_output(\n",
    "            parameters\n",
    "        ) == False, \"plot_kernel failed with {} parameters\".format(parameters)"
   ]
  },
  {
   "cell_type": "code",
   "execution_count": 10,
   "metadata": {
    "execution": {
     "iopub.execute_input": "2021-01-20T00:05:19.901801Z",
     "iopub.status.busy": "2021-01-20T00:05:19.901595Z",
     "iopub.status.idle": "2021-01-20T00:05:19.908185Z",
     "shell.execute_reply": "2021-01-20T00:05:19.906565Z",
     "shell.execute_reply.started": "2021-01-20T00:05:19.901781Z"
    }
   },
   "outputs": [],
   "source": [
    "def test_plot_histogram():\n",
    "    # Get object\n",
    "    obj_test = hras_RBD()\n",
    "\n",
    "    # Define aux function\n",
    "    def _test_plot_histogram_output(parameters):\n",
    "        error = False\n",
    "        try:\n",
    "            obj_test.histogram(\n",
    "                **parameters\n",
    "            )  # pass dictionary as arguments of method\n",
    "        except:\n",
    "            error = True\n",
    "        return error\n",
    "\n",
    "    # Define dictionary of parameters\n",
    "    # Each dict in the list will be a different set of parameters\n",
    "    list_params = [\n",
    "        {'show': False},\n",
    "        {'population': 'SNV', 'show': False},\n",
    "        {'population': 'nonSNV', 'show': False},\n",
    "    ]\n",
    "\n",
    "    # Assert\n",
    "    for parameters in list_params:\n",
    "        assert _test_plot_histogram_output(\n",
    "            parameters\n",
    "        ) == False, \"plot_histogram failed with {} parameters\".format(\n",
    "            parameters\n",
    "        )"
   ]
  },
  {
   "cell_type": "code",
   "execution_count": 28,
   "metadata": {},
   "outputs": [],
   "source": [
    "import traceback\n",
    "\n",
    "\n",
    "def test_plot_multiplekernel():\n",
    "    # Create dictionary with objects\n",
    "    dict_obj = {\n",
    "        'obj_test_1': hras_RBD().dataframe,\n",
    "        'obj_test_2': aph_obj().dataframe,\n",
    "    }\n",
    "\n",
    "    # Define aux function\n",
    "    def _test_plot_multiplekernel(parameters):\n",
    "        error = False\n",
    "        try:\n",
    "            plot_multiplekernel(dict_obj, **parameters)\n",
    "        except Exception as e:\n",
    "            tb = traceback.format_exc()\n",
    "            print(e)\n",
    "            print(tb)\n",
    "            error = True\n",
    "        return error\n",
    "\n",
    "    # Define dictionary of parameters\n",
    "    # Each dict in the list will be a different set of parameters\n",
    "    list_params = [\n",
    "        {\n",
    "            'show': False,\n",
    "        },\n",
    "        {\n",
    "            'figsize': (3, 2.5), 'y_label': r'$∆E^i_x$', 'show': False, 'title':\n",
    "            'go bears'\n",
    "        },\n",
    "    ]\n",
    "\n",
    "    # Assert\n",
    "    for parameters in list_params:  # Loop over the parameters\n",
    "        assert _test_plot_multiplekernel( # Assert that that set of parameters works on that object\n",
    "            parameters,\n",
    "        ) == False, \"plot_multiplekernel failed with {} object and {} parameters\".format(\n",
    "                obj_label,\n",
    "                parameters,\n",
    "            )"
   ]
  }
 ],
 "metadata": {
  "kernelspec": {
   "display_name": "Python 3",
   "language": "python",
   "name": "python3"
  },
  "language_info": {
   "codemirror_mode": {
    "name": "ipython",
    "version": 3
   },
   "file_extension": ".py",
   "mimetype": "text/x-python",
   "name": "python",
   "nbconvert_exporter": "python",
   "pygments_lexer": "ipython3",
   "version": "3.8.3"
  }
 },
 "nbformat": 4,
 "nbformat_minor": 4
}
