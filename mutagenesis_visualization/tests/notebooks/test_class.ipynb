{
 "cells": [
  {
   "cell_type": "markdown",
   "metadata": {},
   "source": [
    "# Test of code_class\n"
   ]
  },
  {
   "cell_type": "code",
   "execution_count": 2,
   "metadata": {
    "execution": {
     "iopub.execute_input": "2021-01-19T23:05:34.822768Z",
     "iopub.status.busy": "2021-01-19T23:05:34.822440Z",
     "iopub.status.idle": "2021-01-19T23:05:38.796564Z",
     "shell.execute_reply": "2021-01-19T23:05:38.795707Z",
     "shell.execute_reply.started": "2021-01-19T23:05:34.822746Z"
    }
   },
   "outputs": [
    {
     "name": "stdout",
     "output_type": "stream",
     "text": [
      "importing Jupyter notebook from code_class.ipynb\n",
      "importing Jupyter notebook from code_kernel.ipynb\n",
      "importing Jupyter notebook from code_kwargs.ipynb\n",
      "importing Jupyter notebook from code_utils.ipynb\n",
      "importing Jupyter notebook from code_heatmaps.ipynb\n",
      "importing Jupyter notebook from code_bar.ipynb\n",
      "importing Jupyter notebook from code_scatter.ipynb\n",
      "importing Jupyter notebook from code_PCA.ipynb\n",
      "importing Jupyter notebook from code_other.ipynb\n",
      "importing Jupyter notebook from code_plotly.ipynb\n",
      "importing Jupyter notebook from code_pymol.ipynb\n"
     ]
    }
   ],
   "source": [
    "import pandas as pd\n",
    "import numpy as np\n",
    "\n",
    "try:\n",
    "    import mutagenesis_visualization.main.scripts.code_class as code_class\n",
    "except ModuleNotFoundError:\n",
    "    import import_notebook\n",
    "    import os\n",
    "    directory = os.getcwd()\n",
    "    new_directory = directory.replace('tests','main')\n",
    "    os.chdir(new_directory)\n",
    "    import code_class as code_class\n",
    "    os.chdir(directory)"
   ]
  },
  {
   "cell_type": "markdown",
   "metadata": {},
   "source": [
    "## Counts"
   ]
  },
  {
   "cell_type": "code",
   "execution_count": 12,
   "metadata": {
    "execution": {
     "iopub.execute_input": "2021-01-19T23:08:54.900055Z",
     "iopub.status.busy": "2021-01-19T23:08:54.899794Z",
     "iopub.status.idle": "2021-01-19T23:08:54.906121Z",
     "shell.execute_reply": "2021-01-19T23:08:54.904468Z",
     "shell.execute_reply.started": "2021-01-19T23:08:54.900031Z"
    }
   },
   "outputs": [],
   "source": [
    "def test_Counts():\n",
    "    \n",
    "    # fake dataframe\n",
    "    df = pd.DataFrame(\n",
    "        np.random.rand(21,10)*100, index=list('ACDEFGHIKLMNPQRSTVWY*')\n",
    "    )\n",
    "    \n",
    "    # Define aux function\n",
    "    def _test_Class_output(df):\n",
    "        error = False\n",
    "        try:\n",
    "            code_class.Counts(df)\n",
    "        except:\n",
    "            error = True\n",
    "        return error\n",
    "    \n",
    "    assert _test_Class_output(df)==False, 'Error when generating class Counts'"
   ]
  },
  {
   "cell_type": "markdown",
   "metadata": {},
   "source": [
    "## Screen"
   ]
  },
  {
   "cell_type": "code",
   "execution_count": 18,
   "metadata": {
    "execution": {
     "iopub.execute_input": "2021-01-19T23:11:08.663363Z",
     "iopub.status.busy": "2021-01-19T23:11:08.663026Z",
     "iopub.status.idle": "2021-01-19T23:11:08.671487Z",
     "shell.execute_reply": "2021-01-19T23:11:08.669771Z",
     "shell.execute_reply.started": "2021-01-19T23:11:08.663326Z"
    }
   },
   "outputs": [],
   "source": [
    "def test_Screen():\n",
    "    \n",
    "    # fake dataframe\n",
    "    df = pd.DataFrame(\n",
    "        np.random.rand(21,10)\n",
    "    )\n",
    "    sequence = 'MTEYKRVVVLL'\n",
    "    # Define aux function\n",
    "    def _test_Screen_output(df, sequence):\n",
    "        error = False\n",
    "        try:\n",
    "            code_class.Screen(df, sequence)\n",
    "        except:\n",
    "            error = True\n",
    "        return error\n",
    "    \n",
    "    assert _test_Screen_output(df,sequence)==False, 'Error when generating class Screen'"
   ]
  }
 ],
 "metadata": {
  "kernelspec": {
   "display_name": "Python 3",
   "language": "python",
   "name": "python3"
  },
  "language_info": {
   "codemirror_mode": {
    "name": "ipython",
    "version": 3
   },
   "file_extension": ".py",
   "mimetype": "text/x-python",
   "name": "python",
   "nbconvert_exporter": "python",
   "pygments_lexer": "ipython3",
   "version": "3.8.3"
  }
 },
 "nbformat": 4,
 "nbformat_minor": 4
}
