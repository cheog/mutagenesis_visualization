{
 "cells": [
  {
   "cell_type": "markdown",
   "metadata": {},
   "source": [
    "# Test of code_class\n"
   ]
  },
  {
   "cell_type": "code",
   "execution_count": 3,
   "metadata": {
    "execution": {
     "iopub.execute_input": "2021-01-22T01:42:30.695672Z",
     "iopub.status.busy": "2021-01-22T01:42:30.695454Z",
     "iopub.status.idle": "2021-01-22T01:42:36.795260Z",
     "shell.execute_reply": "2021-01-22T01:42:36.793288Z",
     "shell.execute_reply.started": "2021-01-22T01:42:30.695650Z"
    }
   },
   "outputs": [
    {
     "name": "stdout",
     "output_type": "stream",
     "text": [
      "importing Jupyter notebook from code_class.ipynb\n",
      "importing Jupyter notebook from code_kernel.ipynb\n",
      "importing Jupyter notebook from code_kwargs.ipynb\n",
      "importing Jupyter notebook from code_utils.ipynb\n",
      "importing Jupyter notebook from code_heatmaps.ipynb\n",
      "importing Jupyter notebook from code_bar.ipynb\n",
      "importing Jupyter notebook from code_scatter.ipynb\n",
      "importing Jupyter notebook from code_PCA.ipynb\n",
      "importing Jupyter notebook from code_other.ipynb\n",
      "importing Jupyter notebook from code_plotly.ipynb\n",
      "importing Jupyter notebook from code_pymol.ipynb\n"
     ]
    }
   ],
   "source": [
    "import pandas as pd\n",
    "import numpy as np\n",
    "\n",
    "try:\n",
    "    import mutagenesis_visualization.main.scripts.code_class as code_class\n",
    "except ModuleNotFoundError:\n",
    "    import import_notebook\n",
    "    import os\n",
    "    directory = os.getcwd()\n",
    "    new_directory = directory.replace('tests', 'main')\n",
    "    os.chdir(new_directory)\n",
    "    import code_class as code_class\n",
    "    os.chdir(directory)"
   ]
  },
  {
   "cell_type": "markdown",
   "metadata": {},
   "source": [
    "## Counts"
   ]
  },
  {
   "cell_type": "code",
   "execution_count": 20,
   "metadata": {
    "execution": {
     "iopub.execute_input": "2021-01-22T02:06:03.102975Z",
     "iopub.status.busy": "2021-01-22T02:06:03.102740Z",
     "iopub.status.idle": "2021-01-22T02:06:03.110826Z",
     "shell.execute_reply": "2021-01-22T02:06:03.109775Z",
     "shell.execute_reply.started": "2021-01-22T02:06:03.102952Z"
    }
   },
   "outputs": [],
   "source": [
    "def test_Counts():\n",
    "\n",
    "    # fake dataframe\n",
    "    df = pd.DataFrame(\n",
    "        np.random.rand(21, 10) * 100, index=list('ACDEFGHIKLMNPQRSTVWY*')\n",
    "    )\n",
    "    aminoacids = list('ACDEFGHIKLMNPQRSTVWY*')\n",
    "\n",
    "    # Define aux function\n",
    "    def _test_Counts_output(parameters):\n",
    "        error = False\n",
    "        try:\n",
    "            code_class.Counts(**parameters)\n",
    "        except:\n",
    "            error = True\n",
    "        return error\n",
    "\n",
    "#    assert _test_Class_output(df) == False, 'Error when generating class Counts'\n",
    "    list_params = [{'df': df},\n",
    "                   {'df': df, 'start_position': 1},\n",
    "                   {'df': df, 'aminoacids': aminoacids}]    \n",
    "        # Assert\n",
    "    for parameters in list_params:\n",
    "        assert _test_Counts_output(\n",
    "            parameters\n",
    "        ) == False, \"class Counts failed with {} parameters\".format(parameters)"
   ]
  },
  {
   "cell_type": "markdown",
   "metadata": {},
   "source": [
    "## Screen"
   ]
  },
  {
   "cell_type": "code",
   "execution_count": 6,
   "metadata": {
    "execution": {
     "iopub.execute_input": "2021-01-22T01:43:05.473267Z",
     "iopub.status.busy": "2021-01-22T01:43:05.472835Z",
     "iopub.status.idle": "2021-01-22T01:43:05.480513Z",
     "shell.execute_reply": "2021-01-22T01:43:05.479626Z",
     "shell.execute_reply.started": "2021-01-22T01:43:05.473233Z"
    }
   },
   "outputs": [],
   "source": [
    "def test_Screen():\n",
    "\n",
    "    # fake dataframe\n",
    "    df = pd.DataFrame(np.random.rand(21, 10))\n",
    "    sequence = 'MTEYKRVVVLL'\n",
    "    secondary = ['β1'] * len(sequence)\n",
    "\n",
    "    # Define aux function\n",
    "    def _test_Screen_output(parameters):\n",
    "        error = False\n",
    "        try:\n",
    "            code_class.Screen(**parameters)\n",
    "        except:\n",
    "            error = True\n",
    "        return error\n",
    "\n",
    "    list_params = [{'dataset': df, 'sequence': sequence},\n",
    "                   {'dataset': df, 'sequence': sequence}]\n",
    "\n",
    "    # Assert\n",
    "    for parameters in list_params:\n",
    "        assert _test_Screen_output(\n",
    "            parameters\n",
    "        ) == False, \"class Screen failed with {} parameters\".format(parameters)"
   ]
  }
 ],
 "metadata": {
  "kernelspec": {
   "display_name": "Python 3",
   "language": "python",
   "name": "python3"
  },
  "language_info": {
   "codemirror_mode": {
    "name": "ipython",
    "version": 3
   },
   "file_extension": ".py",
   "mimetype": "text/x-python",
   "name": "python",
   "nbconvert_exporter": "python",
   "pygments_lexer": "ipython3",
   "version": "3.8.3"
  }
 },
 "nbformat": 4,
 "nbformat_minor": 4
}
