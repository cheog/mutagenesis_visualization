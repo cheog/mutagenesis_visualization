{
 "cells": [
  {
   "cell_type": "markdown",
   "metadata": {},
   "source": [
    "## Import Modules"
   ]
  },
  {
   "cell_type": "code",
   "execution_count": null,
   "metadata": {},
   "outputs": [],
   "source": [
    "import pandas as pd\n",
    "import numpy as np\n",
    "\n",
    "try:\n",
    "    from mutagenesis_visualization.main.scripts.code_3D import (\n",
    "        _centroid, _light_parameters, _array_to_pymol, _color_3D_scatter)\n",
    "except ModuleNotFoundError:\n",
    "    import import_notebook\n",
    "    import os\n",
    "    directory = os.getcwd()\n",
    "    new_directory = directory.replace('tests', 'main')\n",
    "    os.chdir(new_directory)\n",
    "    from code_3D import (_centroid, _light_parameters,\n",
    "                         _array_to_pymol, _color_3D_scatter)\n",
    "    os.chdir(directory)\n",
    "\n",
    "try:\n",
    "    from ipymol import viewer as pymol\n",
    "except ModuleNotFoundError:\n",
    "    pass"
   ]
  },
  {
   "cell_type": "markdown",
   "metadata": {},
   "source": [
    "## Test 3D Scatter functions\n"
   ]
  },
  {
   "cell_type": "code",
   "execution_count": null,
   "metadata": {},
   "outputs": [],
   "source": [
    "def test_centroid():\n",
    "    \"\"\"tests the mean calculated in each of the three dimensions is correct\"\"\"\n",
    "    df = pd.DataFrame({\"x\": [1, 2, 9], \"y\": [4, 5, 9], \"z\": [5, 8, 8]})\n",
    "    assert _centroid(df) == (4.0, 6.0, 7.0), \"function _centroid failed\""
   ]
  },
  {
   "cell_type": "code",
   "execution_count": null,
   "metadata": {},
   "outputs": [],
   "source": [
    "# what about scores between -1 and 1?\n",
    "# check correct input for Aminoacid\n",
    "# should there be 5 columns?"
   ]
  },
  {
   "cell_type": "code",
   "execution_count": null,
   "metadata": {},
   "outputs": [],
   "source": [
    "def test_color_3D_scatter():\n",
    "    \"\"\"check that output is expected: returns new dataframe with Color column added\"\"\"\n",
    "    df_1 = pd.DataFrame({\"Position\": [1, 2, 9], \"Aminoacid\": [\n",
    "                        1, 2, 3], \"Score\": [5, -8, 8]})\n",
    "    df_solution = pd.DataFrame({\"Position\": [1, 2, 9], \"Aminoacid\": [1, 2, 3], \"Score\": [\n",
    "        5, -8, 8], \"Color\": [\"red\", \"blue\", \"red\"]})\n",
    "    df_calculated = _color_3D_scatter(df_1, 'mean', 1, -1)\n",
    "    \n",
    "    assert  df_solution.equals(df_calculated) == True\n",
    "    "
   ]
  },
  {
   "cell_type": "markdown",
   "metadata": {},
   "source": [
    "## test map into Pymol functions\n"
   ]
  },
  {
   "cell_type": "code",
   "execution_count": null,
   "metadata": {},
   "outputs": [],
   "source": [
    "def test_array_to_pymol():\n",
    "    \"\"\"test that output is same as expected\"\"\"\n",
    "    assert _array_to_pymol(\n",
    "        [1, 2, 3]) == '1+2+3', \"function _array_to_pymol failed\""
   ]
  },
  {
   "cell_type": "code",
   "execution_count": null,
   "metadata": {},
   "outputs": [],
   "source": [
    "def _test_light_parameters():\n",
    "    \"\"\"check that there is no error when function runs, checks output is function's output\"\"\"\n",
    "    def _test_light_parameters_output():\n",
    "        \"\"\"checks if function runs or gives error\"\"\"\n",
    "        try:\n",
    "            _light_parameters()\n",
    "        except:\n",
    "            error = True\n",
    "            return error\n",
    "\n",
    "    assert _test_light_parameters_output() == _light_parameters(\n",
    "    ), \"function _light_parameters failed\""
   ]
  }
 ],
 "metadata": {
  "kernelspec": {
   "display_name": "Python 3",
   "language": "python",
   "name": "python3"
  },
  "language_info": {
   "codemirror_mode": {
    "name": "ipython",
    "version": 3
   },
   "file_extension": ".py",
   "mimetype": "text/x-python",
   "name": "python",
   "nbconvert_exporter": "python",
   "pygments_lexer": "ipython3",
   "version": "3.8.3"
  }
 },
 "nbformat": 4,
 "nbformat_minor": 4
}
