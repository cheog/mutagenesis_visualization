{
 "cells": [
  {
   "cell_type": "markdown",
   "metadata": {},
   "source": [
    "# Import modules"
   ]
  },
  {
   "cell_type": "code",
   "execution_count": 6,
   "metadata": {},
   "outputs": [
    {
     "name": "stdout",
     "output_type": "stream",
     "text": [
      "importing Jupyter notebook from code_synthesis.ipynb\n"
     ]
    }
   ],
   "source": [
    "from Bio.Seq import Seq\n",
    "from Bio.SeqUtils import MeltingTemp as mt\n",
    "from Bio.Alphabet import IUPAC\n",
    "from pathlib import Path\n",
    "from typing import Union\n",
    "import pandas as pd\n",
    "\n",
    "try:\n",
    "    from mutagenesis_visualization.main.scripts.code_synthesis import (\n",
    "        generate_primers, _primerdesign, _create_primers_list, create_variants\n",
    "    )\n",
    "except ModuleNotFoundError:\n",
    "    import import_notebook\n",
    "    import os\n",
    "    directory = os.getcwd()\n",
    "    new_directory = directory.replace('tests', 'main')\n",
    "    os.chdir(new_directory)\n",
    "    from code_synthesis import (\n",
    "        generate_primers, _primerdesign, _create_primers_list, create_variants\n",
    "    )\n",
    "    os.chdir(directory)"
   ]
  },
  {
   "cell_type": "markdown",
   "metadata": {},
   "source": [
    "# Data Process Functions"
   ]
  },
  {
   "cell_type": "markdown",
   "metadata": {},
   "source": [
    "# Generate NNS primers"
   ]
  },
  {
   "cell_type": "code",
   "execution_count": 2,
   "metadata": {},
   "outputs": [],
   "source": [
    "def test_generate_primers():\n",
    "    dna = 'GGCAATGCGcccccaATGaaaaaaTAAaaACGGGGTTTTaaa'\n",
    "    start = ('GGCAATGCGccccca')\n",
    "    end = ('aaACGGGGTTTTaaa')\n",
    "\n",
    "    df_prim = generate_primers(\n",
    "        dna,\n",
    "        start,\n",
    "        end,\n",
    "        output_file=None,\n",
    "        codon='NNS',\n",
    "        length_primer=18,\n",
    "        tm=60,\n",
    "        return_df=True\n",
    "    )\n",
    "    assert len(df_prim) == 9, 'error the primer length does not match'\n",
    "    assert df_prim.iloc[\n",
    "        1, 1\n",
    "    ] == 'NNSGCGCCCCCAATGAAAAAATAAAAACGGG', 'error the first primer is not mutated at Met'\n",
    "    assert df_prim.iloc[\n",
    "        8, 1\n",
    "    ] == 'CGCCCCCAATGAAAAAANNSAAACGGGGTTTTAA', 'error the last primer is not mutated at the stop codon'"
   ]
  },
  {
   "cell_type": "code",
   "execution_count": 83,
   "metadata": {},
   "outputs": [],
   "source": [
    "def test_primerdesign():\n",
    "    dna = 'GGCAATGCGcccccaATGaaaaaaTAAaaACGGGGTTTTaaa'  # 42 codons\n",
    "    primers0 = _primerdesign(\n",
    "        dna, codon='NNS', codonposition=0, length_primer=None, tm=60\n",
    "    )\n",
    "    primers1 = _primerdesign(\n",
    "        dna, codon='NNS', codonposition=1, length_primer=None, tm=60\n",
    "    )\n",
    "    primers2 = _primerdesign(\n",
    "        dna, codon='NNS', codonposition=2, length_primer=None, tm=60\n",
    "    )\n",
    "    primers3 = _primerdesign(\n",
    "        dna, codon='NNS', codonposition=3, length_primer=None, tm=60\n",
    "    )\n",
    "    primers21 = _primerdesign(\n",
    "        dna, codon='NNS', codonposition=21, length_primer=18, tm=None\n",
    "    )\n",
    "    assert type(primers3) == tuple, 'error the output is not a tuple'\n",
    "\n",
    "    assert primers0 == (\n",
    "        'NNSAATGCGcccccaATGaaaaaaTAAaaACGG', 'CCGTttTTAttttttCATtgggggCGCATTSNN'\n",
    "    ), 'error the output is not the forward and reverse primers at codon position 0'\n",
    "    assert primers1 == (\n",
    "        'NNSATGCGcccccaATGaaaaaaTAAaaACGGG', 'CCCGTttTTAttttttCATtgggggCGCATSNN'\n",
    "    ), 'error the output is not the forward and reverse primers at codon position 1'\n",
    "    assert primers2 == (\n",
    "        'NNSTGCGcccccaATGaaaaaaTAAaaACGGG', 'CCCGTttTTAttttttCATtgggggCGCASNN'\n",
    "    ), 'error the output is not the forward and reverse primers at codon position 2'\n",
    "    assert primers3 == (\n",
    "        'NNSGCGcccccaATGaaaaaaTAAaaACGGG', 'CCCGTttTTAttttttCATtgggggCGCSNN'\n",
    "    ), 'error the output is not the forward and reverse primers at codon position 3'\n",
    "\n",
    "    assert primers21 == (\n",
    "        'AATGCGcccccaATGaaaNNSTAAaaACGGGGTTTTaaa',\n",
    "        'tttAAAACCCCGTttTTASNNtttCATtgggggCGCATT'\n",
    "    ), 'error the codon is not replaced after position 21'"
   ]
  },
  {
   "cell_type": "code",
   "execution_count": 107,
   "metadata": {},
   "outputs": [],
   "source": [
    "def test_create_primers_list():\n",
    "    dna = 'GGCAATGCGcccccaATGaaaaaaTAAaaACGGGGTTTTaaa'\n",
    "\n",
    "    primerslist = _create_primers_list(\n",
    "        dna, start_codon=3, end_codon=6, codon='NNS', length_primer=15, tm=60\n",
    "    )\n",
    "    assert type(primerslist[0]) == list, 'error the type is not a list'"
   ]
  },
  {
   "cell_type": "markdown",
   "metadata": {},
   "source": [
    "## Generate Variants"
   ]
  },
  {
   "cell_type": "code",
   "execution_count": 52,
   "metadata": {},
   "outputs": [],
   "source": [
    "def test_create_variants():\n",
    "    dna = 'AAGAAGAAG'\n",
    "    codon_list1 = ['GAA', 'TAA', 'AAA']\n",
    "    variants1 = create_variants(\n",
    "        dna, codon_list1, output_file=None, return_df=True\n",
    "    )\n",
    "    assert variants1.shape == (\n",
    "        10, 1\n",
    "    ), 'error there are an incorrect number of variants'\n",
    "    assert variants1.iloc[\n",
    "        0, 0] == 'AAGAAGAAG', 'error the first output is not wild type'\n",
    "    assert variants1.iloc[\n",
    "        1, 0\n",
    "    ] == 'GAAAAGAAG', 'error the second output is not replaced with the first codon'\n",
    "    assert variants1.iloc[\n",
    "        2, 0\n",
    "    ] == 'TAAAAGAAG', 'error the third output is not replaced with the second codon'\n",
    "\n",
    "    codon_list2 = ['CAA', 'CCC', 'TTT', 'AAA']\n",
    "    variants2 = create_variants(\n",
    "        dna, codon_list2, output_file=None, return_df=True\n",
    "    )\n",
    "    assert variants2.iloc[\n",
    "        1, 0\n",
    "    ] == 'CAAAAGAAG', 'error the second output is not replaced with the first codon'\n",
    "    assert variants2.shape == (\n",
    "        13, 1\n",
    "    ), 'error there are an incorrect number of variants'"
   ]
  }
 ],
 "metadata": {
  "kernelspec": {
   "display_name": "Python 3",
   "language": "python",
   "name": "python3"
  },
  "language_info": {
   "codemirror_mode": {
    "name": "ipython",
    "version": 3
   },
   "file_extension": ".py",
   "mimetype": "text/x-python",
   "name": "python",
   "nbconvert_exporter": "python",
   "pygments_lexer": "ipython3",
   "version": "3.8.3"
  }
 },
 "nbformat": 4,
 "nbformat_minor": 4
}
