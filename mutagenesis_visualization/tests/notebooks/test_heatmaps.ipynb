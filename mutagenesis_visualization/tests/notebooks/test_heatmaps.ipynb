{
 "cells": [
  {
   "cell_type": "markdown",
   "metadata": {
    "execution": {
     "iopub.execute_input": "2020-11-13T04:23:34.797446Z",
     "iopub.status.busy": "2020-11-13T04:23:34.796905Z",
     "iopub.status.idle": "2020-11-13T04:23:35.479407Z",
     "shell.execute_reply": "2020-11-13T04:23:35.478761Z",
     "shell.execute_reply.started": "2020-11-13T04:23:34.797414Z"
    }
   },
   "source": [
    "# Test of code_heatmaps\n"
   ]
  },
  {
   "cell_type": "markdown",
   "metadata": {},
   "source": [
    "## Import modules"
   ]
  },
  {
   "cell_type": "code",
   "execution_count": 1,
   "metadata": {
    "execution": {
     "iopub.execute_input": "2020-11-20T05:10:10.753770Z",
     "iopub.status.busy": "2020-11-20T05:10:10.753362Z",
     "iopub.status.idle": "2020-11-20T05:10:11.754270Z",
     "shell.execute_reply": "2020-11-20T05:10:11.753563Z",
     "shell.execute_reply.started": "2020-11-20T05:10:10.753719Z"
    }
   },
   "outputs": [
    {
     "name": "stdout",
     "output_type": "stream",
     "text": [
      "importing Jupyter notebook from code_heatmaps.ipynb\n",
      "importing Jupyter notebook from code_kwargs.ipynb\n",
      "importing Jupyter notebook from code_utils.ipynb\n"
     ]
    }
   ],
   "source": [
    "# kwargs and parameters\n",
    "try:\n",
    "    import import_notebook\n",
    "except ModuleNotFoundError:\n",
    "    pass\n",
    "\n",
    "import pandas as pd\n",
    "try:\n",
    "    from mutagenesis_visualization.main.scripts.code_heatmaps import (\n",
    "        _hierarchical_sort, _helix, _labels, _sheet, _loop\n",
    "    )\n",
    "except ModuleNotFoundError:\n",
    "    import import_notebook\n",
    "    import os\n",
    "    directory = os.getcwd()\n",
    "    new_directory = directory.replace('tests', 'main')\n",
    "    os.chdir(new_directory)\n",
    "    from code_heatmaps import (\n",
    "        _hierarchical_sort, _helix, _labels, _sheet, _loop\n",
    "    )\n",
    "    os.chdir(directory)"
   ]
  },
  {
   "cell_type": "markdown",
   "metadata": {},
   "source": [
    "## Test main functions"
   ]
  },
  {
   "cell_type": "markdown",
   "metadata": {
    "execution": {
     "iopub.execute_input": "2020-11-13T04:38:18.165953Z",
     "iopub.status.busy": "2020-11-13T04:38:18.165758Z",
     "iopub.status.idle": "2020-11-13T04:38:18.169695Z",
     "shell.execute_reply": "2020-11-13T04:38:18.168850Z",
     "shell.execute_reply.started": "2020-11-13T04:38:18.165933Z"
    }
   },
   "source": [
    "## Test aux functions"
   ]
  },
  {
   "cell_type": "code",
   "execution_count": 2,
   "metadata": {
    "execution": {
     "iopub.execute_input": "2020-11-20T05:10:15.306097Z",
     "iopub.status.busy": "2020-11-20T05:10:15.305816Z",
     "iopub.status.idle": "2020-11-20T05:10:15.312097Z",
     "shell.execute_reply": "2020-11-20T05:10:15.310946Z",
     "shell.execute_reply.started": "2020-11-20T05:10:15.306063Z"
    }
   },
   "outputs": [],
   "source": [
    "def test_hierarchical_sort():\n",
    "    df = pd.DataFrame([[1, 7, 6, 2], [0, 0, 0, 0], [10, 10, 10, 10],\n",
    "                       [1, 1, 1, 1]])\n",
    "    result = _hierarchical_sort(df.T)\n",
    "    assert (result == [2, 0, 1, 3]).all(), 'columns are not properly sorted out'"
   ]
  },
  {
   "cell_type": "code",
   "execution_count": 3,
   "metadata": {
    "execution": {
     "iopub.execute_input": "2020-11-20T05:10:16.322742Z",
     "iopub.status.busy": "2020-11-20T05:10:16.322442Z",
     "iopub.status.idle": "2020-11-20T05:10:16.332531Z",
     "shell.execute_reply": "2020-11-20T05:10:16.331790Z",
     "shell.execute_reply.started": "2020-11-20T05:10:16.322710Z"
    }
   },
   "outputs": [],
   "source": [
    "def test_helix():\n",
    "    '''testing function produces matplotlib object'''\n",
    "    assert (\n",
    "        str(type(_helix(0, 5))) == \"<class 'matplotlib.patches.Rectangle'>\"\n",
    "    ), \"function _helix failed\""
   ]
  },
  {
   "cell_type": "code",
   "execution_count": 4,
   "metadata": {
    "execution": {
     "iopub.execute_input": "2020-11-20T05:10:16.715608Z",
     "iopub.status.busy": "2020-11-20T05:10:16.714631Z",
     "iopub.status.idle": "2020-11-20T05:10:16.720976Z",
     "shell.execute_reply": "2020-11-20T05:10:16.719846Z",
     "shell.execute_reply.started": "2020-11-20T05:10:16.715561Z"
    }
   },
   "outputs": [],
   "source": [
    "def test_labels():\n",
    "    \"\"\"testing function produces tuple\"\"\"\n",
    "    assert (\n",
    "        str(type(_labels(1)))\n",
    "    ) == \"<class 'tuple'>\", \"function _labels failed\""
   ]
  },
  {
   "cell_type": "code",
   "execution_count": 52,
   "metadata": {},
   "outputs": [],
   "source": [
    "def test_sheet():\n",
    "    \"\"\"testing function prouduces matplotlib object\"\"\"\n",
    "    assert (\n",
    "        str(type(_sheet(1, 5)))\n",
    "    ) == \"<class 'matplotlib.patches.FancyArrow'>\", \"function _sheet failed\""
   ]
  },
  {
   "cell_type": "code",
   "execution_count": 6,
   "metadata": {
    "execution": {
     "iopub.execute_input": "2020-11-20T05:10:29.395002Z",
     "iopub.status.busy": "2020-11-20T05:10:29.394772Z",
     "iopub.status.idle": "2020-11-20T05:10:29.400124Z",
     "shell.execute_reply": "2020-11-20T05:10:29.399147Z",
     "shell.execute_reply.started": "2020-11-20T05:10:29.394980Z"
    }
   },
   "outputs": [],
   "source": [
    "def test_loop():\n",
    "    '''testing function produces matplotlib object'''\n",
    "    assert (\n",
    "        str(type(_loop(1, 5)))\n",
    "    ) == \"<class 'matplotlib.patches.Rectangle'>\", \"function _loop failed\""
   ]
  }
 ],
 "metadata": {
  "kernelspec": {
   "display_name": "Python 3",
   "language": "python",
   "name": "python3"
  },
  "language_info": {
   "codemirror_mode": {
    "name": "ipython",
    "version": 3
   },
   "file_extension": ".py",
   "mimetype": "text/x-python",
   "name": "python",
   "nbconvert_exporter": "python",
   "pygments_lexer": "ipython3",
   "version": "3.8.3"
  }
 },
 "nbformat": 4,
 "nbformat_minor": 4
}
