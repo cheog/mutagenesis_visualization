{
 "cells": [
  {
   "cell_type": "markdown",
   "metadata": {},
   "source": [
    "# Test of code_create_objects\n"
   ]
  },
  {
   "cell_type": "code",
   "execution_count": 8,
   "metadata": {
    "execution": {
     "iopub.execute_input": "2021-01-19T23:45:28.402041Z",
     "iopub.status.busy": "2021-01-19T23:45:28.401707Z",
     "iopub.status.idle": "2021-01-19T23:45:28.408639Z",
     "shell.execute_reply": "2021-01-19T23:45:28.407981Z",
     "shell.execute_reply.started": "2021-01-19T23:45:28.402008Z"
    }
   },
   "outputs": [],
   "source": [
    "import pandas as pd\n",
    "import numpy as np\n",
    "\n",
    "try:\n",
    "    import mutagenesis_visualization.main.scripts.code_create_objects as code_create_objects\n",
    "    import mutagenesis_visualization.main.scripts.code_class as code_class\n",
    "\n",
    "except ModuleNotFoundError:\n",
    "    import import_notebook\n",
    "    import os\n",
    "    directory = os.getcwd()\n",
    "    new_directory = directory.replace('tests','main')\n",
    "    os.chdir(new_directory)\n",
    "    import code_create_objects as code_create_objects\n",
    "    import code_class as code_class\n",
    "    os.chdir(directory)"
   ]
  },
  {
   "cell_type": "code",
   "execution_count": 12,
   "metadata": {
    "execution": {
     "iopub.execute_input": "2021-01-19T23:47:14.543609Z",
     "iopub.status.busy": "2021-01-19T23:47:14.543264Z",
     "iopub.status.idle": "2021-01-19T23:47:14.554889Z",
     "shell.execute_reply": "2021-01-19T23:47:14.553918Z",
     "shell.execute_reply.started": "2021-01-19T23:47:14.543580Z"
    }
   },
   "outputs": [],
   "source": [
    "def test_create_objects():\n",
    "    \n",
    "    assert isinstance(code_create_objects.hras_RBD(), code_class.Screen)\n",
    "    assert isinstance(code_create_objects.bla_obj(), code_class.Screen)\n",
    "    assert isinstance(code_create_objects.sumo_obj(), code_class.Screen)\n",
    "    assert isinstance(code_create_objects.mapk1_obj(), code_class.Screen)\n",
    "    assert isinstance(code_create_objects.ube2i_obj(), code_class.Screen)\n",
    "    assert isinstance(code_create_objects.tat_obj(), code_class.Screen)\n",
    "    assert isinstance(code_create_objects.rev_obj(), code_class.Screen)\n",
    "    assert isinstance(code_create_objects.asynuclein_obj(), code_class.Screen)\n",
    "    assert isinstance(code_create_objects.aph_obj(), code_class.Screen)\n",
    "    assert isinstance(code_create_objects.b11L5F_obj(), code_class.Screen)\n",
    "\n",
    "    "
   ]
  }
 ],
 "metadata": {
  "kernelspec": {
   "display_name": "Python 3",
   "language": "python",
   "name": "python3"
  },
  "language_info": {
   "codemirror_mode": {
    "name": "ipython",
    "version": 3
   },
   "file_extension": ".py",
   "mimetype": "text/x-python",
   "name": "python",
   "nbconvert_exporter": "python",
   "pygments_lexer": "ipython3",
   "version": "3.8.3"
  }
 },
 "nbformat": 4,
 "nbformat_minor": 4
}
