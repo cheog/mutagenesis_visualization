{
 "cells": [
  {
   "cell_type": "markdown",
   "metadata": {},
   "source": [
    "# Plotly figures documentation"
   ]
  },
  {
   "cell_type": "markdown",
   "metadata": {},
   "source": [
    "In this section we will use Plotly to make interactive plots. Please let us know if you have suggestions for new figures that could be made with Plotly."
   ]
  },
  {
   "cell_type": "code",
   "execution_count": null,
   "metadata": {
    "ExecuteTime": {
     "end_time": "2020-10-12T23:52:54.028080Z",
     "start_time": "2020-10-12T23:52:53.755443Z"
    },
    "execution": {
     "iopub.execute_input": "2020-11-18T19:35:15.501897Z",
     "iopub.status.busy": "2020-11-18T19:35:15.501685Z",
     "iopub.status.idle": "2020-11-18T19:35:15.757034Z",
     "shell.execute_reply": "2020-11-18T19:35:15.756008Z",
     "shell.execute_reply.started": "2020-11-18T19:35:15.501876Z"
    }
   },
   "outputs": [],
   "source": [
    "# Run only if you are using the code from jupyter notebooks instead of pypi\n",
    "try:\n",
    "    import import_notebook\n",
    "except ModuleNotFoundError:\n",
    "    pass"
   ]
  },
  {
   "cell_type": "code",
   "execution_count": null,
   "metadata": {
    "ExecuteTime": {
     "end_time": "2020-10-12T23:52:55.872971Z",
     "start_time": "2020-10-12T23:52:54.146849Z"
    },
    "execution": {
     "iopub.execute_input": "2020-11-18T19:36:17.211524Z",
     "iopub.status.busy": "2020-11-18T19:36:17.211310Z",
     "iopub.status.idle": "2020-11-18T19:36:17.242088Z",
     "shell.execute_reply": "2020-11-18T19:36:17.236982Z",
     "shell.execute_reply.started": "2020-11-18T19:36:17.211503Z"
    }
   },
   "outputs": [],
   "source": [
    "import code_class as mut\n",
    "from code_demo import demo_datasets\n",
    "import numpy as np\n",
    "import pandas as pd"
   ]
  },
  {
   "cell_type": "markdown",
   "metadata": {},
   "source": [
    "Load sample datasets."
   ]
  },
  {
   "cell_type": "code",
   "execution_count": null,
   "metadata": {
    "ExecuteTime": {
     "end_time": "2020-10-12T23:54:12.179094Z",
     "start_time": "2020-10-12T23:54:11.958766Z"
    },
    "execution": {
     "iopub.execute_input": "2020-11-18T19:36:19.540764Z",
     "iopub.status.busy": "2020-11-18T19:36:19.540312Z",
     "iopub.status.idle": "2020-11-18T19:36:19.884732Z",
     "shell.execute_reply": "2020-11-18T19:36:19.884200Z",
     "shell.execute_reply.started": "2020-11-18T19:36:19.540735Z"
    }
   },
   "outputs": [],
   "source": [
    "data_dict = demo_datasets() # load example datasets\n",
    "hras_enrichment_GAPGEF = data_dict['array_hras_GAPGEF']\n",
    "hras_enrichment_RBD = data_dict['array_hras_RBD']"
   ]
  },
  {
   "cell_type": "markdown",
   "metadata": {},
   "source": [
    "Create objects."
   ]
  },
  {
   "cell_type": "code",
   "execution_count": null,
   "metadata": {
    "ExecuteTime": {
     "end_time": "2020-10-12T23:54:12.870572Z",
     "start_time": "2020-10-12T23:54:12.493985Z"
    },
    "execution": {
     "iopub.execute_input": "2020-11-18T19:36:26.472907Z",
     "iopub.status.busy": "2020-11-18T19:36:26.472654Z",
     "iopub.status.idle": "2020-11-18T19:36:27.012067Z",
     "shell.execute_reply": "2020-11-18T19:36:27.011370Z",
     "shell.execute_reply.started": "2020-11-18T19:36:26.472881Z"
    }
   },
   "outputs": [],
   "source": [
    "# Load enrichment scores. This is how you would load them from a local file.\n",
    "hras_enrichment_GAPGEF = np.genfromtxt('../data/HRas166_GAPGEF.csv',\n",
    "                                       delimiter=',')\n",
    "\n",
    "hras_enrichment_RBD = np.genfromtxt('../data/HRas166_RBD.csv',\n",
    "                                    delimiter=',')\n",
    "\n",
    "\n",
    "# Define protein sequence\n",
    "hras_sequence = 'MTEYKLVVVGAGGVGKSALTIQLIQNHFVDEYDPTIEDSYRKQVVIDGETCLLDILDTAGQEEY'\\\n",
    "                + 'SAMRDQYMRTGEGFLCVFAINNTKSFEDIHQYREQIKRVKDSDDVPMVLVGNKCDLAARTVES'\\\n",
    "                + 'RQAQDLARSYGIPYIETSAKTRQGVEDAFYTLVREIRQHKLRKLNPPDESGPG'\n",
    "\n",
    "# Order of amino acid substitutions in the hras_enrichment dataset\n",
    "aminoacids = list('ACDEFGHIKLMNPQRSTVWY*')\n",
    "\n",
    "# First residue of the hras_enrichment dataset. Because 1-Met was not mutated, the dataset starts at residue 2\n",
    "start_position = 2\n",
    "\n",
    "# Define secondary structure\n",
    "secondary = [['L0'], ['β1']*(9-1), ['L1']*(15-9), ['α1']*(25-15), ['L2']*(36-25),\n",
    "             ['β2']*(46-36), ['L3']*(48-46), ['β3']*(58-48), ['L4'] * (64-58), \n",
    "             ['α2']*(74-64), ['L5']*(76-74), ['β4']*(83-76), ['L6']*(86-83), \n",
    "             ['α3']*(103-86), ['L7']*(110-103), ['β5']*(116-110), ['L8']*(126-116), \n",
    "             ['α4']*(137-126), ['L9']*(140-137), ['β6']*(143-140), ['L10']*(151-143), \n",
    "             ['α5']*(172-151), ['L11']*(190-172)]\n",
    "\n",
    "# Substitute Nan values with 0\n",
    "fillna = 0\n",
    "\n",
    "# Create objects\n",
    "hras_GAPGEF = mut.Screen(hras_enrichment_GAPGEF, hras_sequence,\n",
    "                         aminoacids, start_position, fillna, secondary)\n",
    "hras_RBD = mut.Screen(hras_enrichment_RBD, hras_sequence,\n",
    "                      aminoacids, start_position, fillna, secondary)\n"
   ]
  },
  {
   "cell_type": "markdown",
   "metadata": {},
   "source": [
    "## Rank"
   ]
  },
  {
   "cell_type": "markdown",
   "metadata": {},
   "source": [
    "Create an interactive rank figure that displays each mutant."
   ]
  },
  {
   "cell_type": "code",
   "execution_count": null,
   "metadata": {
    "ExecuteTime": {
     "end_time": "2020-10-12T23:59:39.537099Z",
     "start_time": "2020-10-12T23:59:39.426512Z"
    },
    "execution": {
     "iopub.execute_input": "2020-11-18T19:36:34.038646Z",
     "iopub.status.busy": "2020-11-18T19:36:34.037236Z",
     "iopub.status.idle": "2020-11-18T19:36:34.168432Z",
     "shell.execute_reply": "2020-11-18T19:36:34.167905Z",
     "shell.execute_reply.started": "2020-11-18T19:36:34.038574Z"
    }
   },
   "outputs": [],
   "source": [
    "hras_RBD.rank_plotly(title='Rank of pointmutants')"
   ]
  },
  {
   "cell_type": "markdown",
   "metadata": {},
   "source": [
    "Now display the rank of the positional mean."
   ]
  },
  {
   "cell_type": "code",
   "execution_count": null,
   "metadata": {
    "ExecuteTime": {
     "end_time": "2020-10-12T23:59:28.600801Z",
     "start_time": "2020-10-12T23:59:28.536616Z"
    },
    "execution": {
     "iopub.execute_input": "2020-11-18T19:36:36.283355Z",
     "iopub.status.busy": "2020-11-18T19:36:36.283054Z",
     "iopub.status.idle": "2020-11-18T19:36:36.412434Z",
     "shell.execute_reply": "2020-11-18T19:36:36.411716Z",
     "shell.execute_reply.started": "2020-11-18T19:36:36.283328Z"
    }
   },
   "outputs": [],
   "source": [
    "hras_RBD.rank_plotly(mode = 'mean', title='Rank of positions')"
   ]
  },
  {
   "cell_type": "markdown",
   "metadata": {},
   "source": [
    "## Scatter"
   ]
  },
  {
   "cell_type": "code",
   "execution_count": null,
   "metadata": {
    "execution": {
     "iopub.execute_input": "2020-11-18T19:36:46.551735Z",
     "iopub.status.busy": "2020-11-18T19:36:46.551501Z",
     "iopub.status.idle": "2020-11-18T19:36:47.649110Z",
     "shell.execute_reply": "2020-11-18T19:36:47.648619Z",
     "shell.execute_reply.started": "2020-11-18T19:36:46.551711Z"
    }
   },
   "outputs": [],
   "source": [
    "hras_RBD.scatter_plotly(hras_GAPGEF, show_results = True)"
   ]
  },
  {
   "cell_type": "code",
   "execution_count": null,
   "metadata": {
    "execution": {
     "iopub.execute_input": "2020-11-18T19:37:00.103422Z",
     "iopub.status.busy": "2020-11-18T19:37:00.103184Z",
     "iopub.status.idle": "2020-11-18T19:37:00.221610Z",
     "shell.execute_reply": "2020-11-18T19:37:00.221015Z",
     "shell.execute_reply.started": "2020-11-18T19:37:00.103397Z"
    }
   },
   "outputs": [],
   "source": [
    "hras_RBD.scatter_plotly(hras_GAPGEF, mode='mean')"
   ]
  },
  {
   "cell_type": "code",
   "execution_count": null,
   "metadata": {},
   "outputs": [],
   "source": []
  }
 ],
 "metadata": {
  "kernelspec": {
   "display_name": "Python 3",
   "language": "python",
   "name": "python3"
  },
  "language_info": {
   "codemirror_mode": {
    "name": "ipython",
    "version": 3
   },
   "file_extension": ".py",
   "mimetype": "text/x-python",
   "name": "python",
   "nbconvert_exporter": "python",
   "pygments_lexer": "ipython3",
   "version": "3.8.3"
  },
  "toc": {
   "base_numbering": 1,
   "nav_menu": {},
   "number_sections": true,
   "sideBar": true,
   "skip_h1_title": false,
   "title_cell": "Table of Contents",
   "title_sidebar": "Contents",
   "toc_cell": false,
   "toc_position": {},
   "toc_section_display": true,
   "toc_window_display": false
  }
 },
 "nbformat": 4,
 "nbformat_minor": 4
}
