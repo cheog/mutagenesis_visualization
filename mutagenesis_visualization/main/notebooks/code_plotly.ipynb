{
 "cells": [
  {
   "cell_type": "markdown",
   "metadata": {},
   "source": [
    "# Import Modules"
   ]
  },
  {
   "cell_type": "code",
   "execution_count": 1,
   "metadata": {
    "ExecuteTime": {
     "end_time": "2020-10-12T22:36:10.914292Z",
     "start_time": "2020-10-12T22:36:06.031777Z"
    },
    "execution": {
     "iopub.execute_input": "2020-11-18T19:34:47.601098Z",
     "iopub.status.busy": "2020-11-18T19:34:47.600769Z",
     "iopub.status.idle": "2020-11-18T19:34:49.344137Z",
     "shell.execute_reply": "2020-11-18T19:34:49.343446Z",
     "shell.execute_reply.started": "2020-11-18T19:34:47.601059Z"
    }
   },
   "outputs": [
    {
     "name": "stdout",
     "output_type": "stream",
     "text": [
      "importing Jupyter notebook from code_kwargs.ipynb\n",
      "importing Jupyter notebook from code_utils.ipynb\n"
     ]
    }
   ],
   "source": [
    "import numpy as np\n",
    "import pandas as pd\n",
    "import copy\n",
    "from os import path\n",
    "import os\n",
    "from pathlib import Path\n",
    "from typing import Union\n",
    "import plotly.express as px\n",
    "import plotly.io as pio\n",
    "import plotly.graph_objects as go\n",
    "\n",
    "# local modules\n",
    "try:\n",
    "    import mutagenesis_visualization.main.scripts.code_kwargs as code_kwargs\n",
    "    import mutagenesis_visualization.main.scripts.code_utils as code_utils\n",
    "except ModuleNotFoundError:\n",
    "    import import_notebook\n",
    "    import code_kwargs\n",
    "    import code_utils"
   ]
  },
  {
   "cell_type": "markdown",
   "metadata": {},
   "source": [
    "# Plot Functions"
   ]
  },
  {
   "cell_type": "markdown",
   "metadata": {},
   "source": [
    "## Plotly plots"
   ]
  },
  {
   "cell_type": "markdown",
   "metadata": {},
   "source": [
    "### Rank"
   ]
  },
  {
   "cell_type": "code",
   "execution_count": 2,
   "metadata": {
    "ExecuteTime": {
     "end_time": "2020-10-12T23:15:41.370822Z",
     "start_time": "2020-10-12T23:15:41.359971Z"
    },
    "execution": {
     "iopub.execute_input": "2020-10-23T03:26:17.938082Z",
     "iopub.status.busy": "2020-10-23T03:26:17.937823Z",
     "iopub.status.idle": "2020-10-23T03:26:17.952300Z",
     "shell.execute_reply": "2020-10-23T03:26:17.951497Z",
     "shell.execute_reply.started": "2020-10-23T03:26:17.938055Z"
    }
   },
   "outputs": [],
   "source": [
    "def plot_rank_plotly(\n",
    "    self,\n",
    "    mode='pointmutant',\n",
    "    outdf=False,\n",
    "    output_file: Union[None, str, Path] = None,\n",
    "    **kwargs\n",
    "):\n",
    "    '''\n",
    "    Generate a plotlu rank plot so every mutation/residue is sorted based on enrichment score.\n",
    "\n",
    "    Parameters\n",
    "    ----------\n",
    "    self : object from class *Screen*z\n",
    "\n",
    "    mode : str, default 'pointmutant'. \n",
    "        Alternative set to \"mean\" for the mean of each position\n",
    "\n",
    "    outdf : boolean, default False\n",
    "        If set to true, will return the df with the rank of mutations\n",
    "\n",
    "    output_file : str, default None\n",
    "        If you want to export the generated graph, add the path and name of the file.\n",
    "        Example: 'path/filename.png' or 'path/filename.svg'. \n",
    "\n",
    "    **kwargs : other keyword arguments\n",
    "\n",
    "    Returns\n",
    "    ----------\n",
    "    Pandas dataframe\n",
    "    '''\n",
    "    # update kwargs\n",
    "    temp_kwargs = copy.deepcopy(code_kwargs.kwargs())\n",
    "    temp_kwargs.update(kwargs)\n",
    "    temp_kwargs['figsize'] = kwargs.get('figsize', (4, 3))\n",
    "    temp_kwargs['x_label'] = kwargs.get('x_label', 'Rank')\n",
    "    temp_kwargs['y_label'] = kwargs.get('y_label', r'$∆E^i_x$')\n",
    "\n",
    "    # Sort by enrichment scores\n",
    "    df = self.dataframe.sort_values(by=['Score']).copy()\n",
    "\n",
    "    # Chose mode:\n",
    "    if mode == 'mean':\n",
    "        df = df.groupby(by=['Position'], as_index=False).mean()\n",
    "        df.sort_values(by=['Score'], inplace=True)\n",
    "        df['Variant'] = df['Position']\n",
    "\n",
    "    # Create figure\n",
    "    fig = px.scatter(\n",
    "        x=np.arange(len(df), 0, -1), y=df['Score'], text=df['Variant']\n",
    "    )\n",
    "\n",
    "    # Style\n",
    "    pio.templates.default = \"plotly_white\"\n",
    "\n",
    "    # Axes https://plotly.com/python/axes/\n",
    "    fig.update_traces(\n",
    "        mode=\"markers\",\n",
    "        hovertemplate=\n",
    "        'Position: %{x}<br>Score: %{y}<br>Variant: %{text}<extra></extra>'\n",
    "    )\n",
    "    fig.update_xaxes(\n",
    "        title_text=temp_kwargs['x_label'],\n",
    "        showline=True,\n",
    "        linewidth=2,\n",
    "        linecolor='black',\n",
    "        ticks=\"outside\",\n",
    "        mirror=True\n",
    "    )\n",
    "    fig.update_yaxes(\n",
    "        title_text=temp_kwargs['y_label'],\n",
    "        showline=True,\n",
    "        linewidth=2,\n",
    "        linecolor='black',\n",
    "        ticks=\"outside\",\n",
    "        mirror=True\n",
    "    )\n",
    "\n",
    "    # Layout and title parameters https://plotly.com/python/figure-labels/\n",
    "    fig.update_layout(\n",
    "        width=temp_kwargs['figsize'][0] * 120,\n",
    "        height=temp_kwargs['figsize'][1] * 120,\n",
    "        font=dict(family=\"Arial, monospace\", size=12, color=\"black\"),\n",
    "        title={\n",
    "            'text': temp_kwargs['title'], 'xanchor': 'center', 'yanchor': 'top',\n",
    "            'x': 0.5\n",
    "        }\n",
    "    )\n",
    "\n",
    "    if temp_kwargs['show']:\n",
    "        fig.show()\n",
    "\n",
    "    if outdf:\n",
    "        return df"
   ]
  },
  {
   "cell_type": "markdown",
   "metadata": {},
   "source": [
    "### Scatter"
   ]
  },
  {
   "cell_type": "code",
   "execution_count": 3,
   "metadata": {
    "execution": {
     "iopub.execute_input": "2020-10-23T03:26:18.703676Z",
     "iopub.status.busy": "2020-10-23T03:26:18.703476Z",
     "iopub.status.idle": "2020-10-23T03:26:18.714135Z",
     "shell.execute_reply": "2020-10-23T03:26:18.713255Z",
     "shell.execute_reply.started": "2020-10-23T03:26:18.703655Z"
    }
   },
   "outputs": [],
   "source": [
    "def plot_scatter_plotly(\n",
    "    self,\n",
    "    obj2,\n",
    "    mode='pointmutant',\n",
    "    output_file: Union[None, str, Path] = None,\n",
    "    show_results=False,\n",
    "    **kwargs\n",
    "):\n",
    "    '''\n",
    "    Generate a scatter plot between object and a second object of the same class.\n",
    "\n",
    "    Parameters\n",
    "    ----------\n",
    "    self : object from class *Screen*\n",
    "\n",
    "    obj2 : object from class *Screen* to do the scatter with\n",
    "\n",
    "    mode : str, default 'pointmutant'. \n",
    "        Alternative set to \"mean\" for the mean of each position\n",
    "\n",
    "    output_file : str, default None\n",
    "        If you want to export the generated graph, add the path and name of the file.\n",
    "        Example: 'path/filename.png' or 'path/filename.svg'. \n",
    "    \n",
    "    show_results : boolean, default False\n",
    "        If set to true, will export the details of the linear fit.\n",
    "    \n",
    "    **kwargs : other keyword arguments\n",
    "\n",
    "    Returns\n",
    "    ----------\n",
    "    None.\n",
    "    '''\n",
    "\n",
    "    # update kwargs\n",
    "    temp_kwargs = copy.deepcopy(code_kwargs.kwargs())\n",
    "    temp_kwargs.update(kwargs)\n",
    "    temp_kwargs['figsize'] = kwargs.get('figsize', (4, 3))\n",
    "\n",
    "    # Chose mode:\n",
    "    if mode == 'pointmutant':\n",
    "        df = code_utils._process_bypointmutant(self, obj2)\n",
    "    else:\n",
    "        df = code_utils._process_meanresidue(self, obj2)\n",
    "        df['Variant'] = df['Position']\n",
    "\n",
    "    # Style\n",
    "    pio.templates.default = \"plotly_white\"\n",
    "\n",
    "    # create figure\n",
    "    fig = px.scatter(\n",
    "        x=df['dataset_1'],\n",
    "        y=df['dataset_2'],\n",
    "        trendline=\"ols\",\n",
    "        trendline_color_override=\"red\"\n",
    "    )\n",
    "\n",
    "    # Titles\n",
    "    # hide text labels\n",
    "    fig.update_traces(\n",
    "        hovertext=df['Variant'],\n",
    "        hovertemplate=\n",
    "        'Position: %{x}<br>Score: %{y}<br>Variant: %{hovertext}<extra></extra>'\n",
    "    )\n",
    "    fig.update_xaxes(\n",
    "        title_text=temp_kwargs['x_label'],\n",
    "        showline=True,\n",
    "        linewidth=2,\n",
    "        linecolor='black',\n",
    "        ticks=\"outside\",\n",
    "        mirror=True\n",
    "    )\n",
    "    fig.update_yaxes(\n",
    "        title_text=temp_kwargs['y_label'],\n",
    "        showline=True,\n",
    "        linewidth=2,\n",
    "        linecolor='black',\n",
    "        ticks=\"outside\",\n",
    "        mirror=True\n",
    "    )\n",
    "\n",
    "    # Layout and title parameters https://plotly.com/python/figure-labels/\n",
    "    fig.update_layout(\n",
    "        width=temp_kwargs['figsize'][0] * 120,\n",
    "        height=temp_kwargs['figsize'][1] * 120,\n",
    "        font=dict(family=\"Arial, monospace\", size=12, color=\"black\"),\n",
    "        title={\n",
    "            'text': temp_kwargs['title'], 'xanchor': 'center', 'yanchor': 'top',\n",
    "            'x': 0.5\n",
    "        }\n",
    "    )\n",
    "\n",
    "    if temp_kwargs['show']:\n",
    "        fig.show()\n",
    "\n",
    "    if show_results:\n",
    "        return px.get_trendline_results(fig).px_fit_results.iloc[0].summary()"
   ]
  }
 ],
 "metadata": {
  "kernelspec": {
   "display_name": "Python 3",
   "language": "python",
   "name": "python3"
  },
  "language_info": {
   "codemirror_mode": {
    "name": "ipython",
    "version": 3
   },
   "file_extension": ".py",
   "mimetype": "text/x-python",
   "name": "python",
   "nbconvert_exporter": "python",
   "pygments_lexer": "ipython3",
   "version": "3.8.3"
  },
  "toc": {
   "base_numbering": 1,
   "nav_menu": {},
   "number_sections": true,
   "sideBar": true,
   "skip_h1_title": false,
   "title_cell": "Table of Contents",
   "title_sidebar": "Contents",
   "toc_cell": false,
   "toc_position": {
    "height": "100px",
    "left": "21px",
    "top": "69.2px",
    "width": "165px"
   },
   "toc_section_display": true,
   "toc_window_display": true
  },
  "toc-autonumbering": true,
  "toc-showcode": false,
  "varInspector": {
   "cols": {
    "lenName": 16,
    "lenType": 16,
    "lenVar": 40
   },
   "kernels_config": {
    "python": {
     "delete_cmd_postfix": "",
     "delete_cmd_prefix": "del ",
     "library": "var_list.py",
     "varRefreshCmd": "print(var_dic_list())"
    },
    "r": {
     "delete_cmd_postfix": ") ",
     "delete_cmd_prefix": "rm(",
     "library": "var_list.r",
     "varRefreshCmd": "cat(var_dic_list()) "
    }
   },
   "oldHeight": 122.4,
   "position": {
    "height": "423.4px",
    "left": "944.6px",
    "right": "20px",
    "top": "119px",
    "width": "315.4px"
   },
   "types_to_exclude": [
    "module",
    "function",
    "builtin_function_or_method",
    "instance",
    "_Feature"
   ],
   "varInspector_section_display": "block",
   "window_display": false
  }
 },
 "nbformat": 4,
 "nbformat_minor": 4
}
