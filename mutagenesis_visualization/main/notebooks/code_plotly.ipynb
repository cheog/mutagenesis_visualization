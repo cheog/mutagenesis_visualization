{
 "cells": [
  {
   "cell_type": "markdown",
   "metadata": {},
   "source": [
    "# Import Modules"
   ]
  },
  {
   "cell_type": "code",
   "execution_count": 1,
   "metadata": {
    "ExecuteTime": {
     "end_time": "2020-10-12T22:36:10.914292Z",
     "start_time": "2020-10-12T22:36:06.031777Z"
    },
    "execution": {
     "iopub.execute_input": "2020-12-02T03:16:05.506008Z",
     "iopub.status.busy": "2020-12-02T03:16:05.505773Z",
     "iopub.status.idle": "2020-12-02T03:16:07.563216Z",
     "shell.execute_reply": "2020-12-02T03:16:07.561890Z",
     "shell.execute_reply.started": "2020-12-02T03:16:05.505981Z"
    }
   },
   "outputs": [
    {
     "name": "stdout",
     "output_type": "stream",
     "text": [
      "importing Jupyter notebook from code_kwargs.ipynb\n",
      "importing Jupyter notebook from code_utils.ipynb\n"
     ]
    }
   ],
   "source": [
    "import numpy as np\n",
    "import pandas as pd\n",
    "import copy\n",
    "from os import path\n",
    "import os\n",
    "from pathlib import Path\n",
    "from typing import Union\n",
    "import plotly.express as px\n",
    "import plotly.io as pio\n",
    "import plotly.graph_objects as go\n",
    "from Bio.PDB import PDBParser\n",
    "import freesasa\n",
    "\n",
    "# local modules\n",
    "try:\n",
    "    import mutagenesis_visualization.main.scripts.code_kwargs as code_kwargs\n",
    "    import mutagenesis_visualization.main.scripts.code_utils as code_utils\n",
    "except ModuleNotFoundError:\n",
    "    import import_notebook\n",
    "    import code_kwargs\n",
    "    import code_utils"
   ]
  },
  {
   "cell_type": "markdown",
   "metadata": {},
   "source": [
    "# Plotly plots"
   ]
  },
  {
   "cell_type": "markdown",
   "metadata": {},
   "source": [
    "## Rank"
   ]
  },
  {
   "cell_type": "code",
   "execution_count": 16,
   "metadata": {
    "ExecuteTime": {
     "end_time": "2020-10-12T23:15:41.370822Z",
     "start_time": "2020-10-12T23:15:41.359971Z"
    },
    "execution": {
     "iopub.execute_input": "2020-12-02T03:24:54.794377Z",
     "iopub.status.busy": "2020-12-02T03:24:54.794133Z",
     "iopub.status.idle": "2020-12-02T03:24:54.838243Z",
     "shell.execute_reply": "2020-12-02T03:24:54.837452Z",
     "shell.execute_reply.started": "2020-12-02T03:24:54.794352Z"
    }
   },
   "outputs": [],
   "source": [
    "def plot_rank_plotly(\n",
    "    self,\n",
    "    mode='pointmutant',\n",
    "    outdf=False,\n",
    "    output_html: Union[None, str, Path] = None,\n",
    "    **kwargs\n",
    "):\n",
    "    '''\n",
    "    Generate a plotly rank plot so every mutation/residue is sorted based \n",
    "    on enrichment score.\n",
    "\n",
    "    Parameters\n",
    "    ----------\n",
    "    self : object from class *Screen*\n",
    "\n",
    "    mode : str, default 'pointmutant'. \n",
    "        Alternative set to \"mean\" for the mean of each position.\n",
    "\n",
    "    outdf : boolean, default False\n",
    "        If set to true, will return the df with the rank of mutations.\n",
    "        \n",
    "    output_html : str, default None\n",
    "        If you want to export the generated graph into html, add the path and name of the file.\n",
    "        Example: 'path/filename.html'.\n",
    "        \n",
    "    **kwargs : other keyword arguments\n",
    "\n",
    "    Returns\n",
    "    ----------\n",
    "    df : Pandas dataframe\n",
    "    fig : plotly object\n",
    "\n",
    "    '''\n",
    "    # update kwargs\n",
    "    temp_kwargs = copy.deepcopy(code_kwargs.kwargs())\n",
    "    temp_kwargs.update(kwargs)\n",
    "    temp_kwargs['figsize'] = kwargs.get('figsize', (4, 3))\n",
    "    temp_kwargs['x_label'] = kwargs.get('x_label', 'Rank')\n",
    "    temp_kwargs['y_label'] = kwargs.get('y_label', r'$∆E^i_x$')\n",
    "\n",
    "    # Sort by enrichment scores\n",
    "    df = self.dataframe.sort_values(by=['Score']).copy()\n",
    "\n",
    "    # Chose mode:\n",
    "    if mode == 'mean':\n",
    "        df = df.groupby(by=['Position'], as_index=False).mean()\n",
    "        df.sort_values(by=['Score'], inplace=True)\n",
    "        df['Variant'] = df['Position']\n",
    "\n",
    "    # Create figure\n",
    "    fig = px.scatter(\n",
    "        x=np.arange(len(df), 0, -1), y=df['Score'], text=df['Variant']\n",
    "    )\n",
    "\n",
    "    # Style\n",
    "    pio.templates.default = \"plotly_white\"\n",
    "\n",
    "    # Axes https://plotly.com/python/axes/\n",
    "    fig.update_traces(\n",
    "        mode=\"markers\",\n",
    "        hovertemplate=\n",
    "        'Position: %{x}<br>Score: %{y}<br>Variant: %{text}<extra></extra>'\n",
    "    )\n",
    "    fig.update_xaxes(\n",
    "        title_text=temp_kwargs['x_label'],\n",
    "        showline=True,\n",
    "        linewidth=2,\n",
    "        linecolor='black',\n",
    "        ticks=\"outside\",\n",
    "        mirror=True\n",
    "    )\n",
    "    fig.update_yaxes(\n",
    "        title_text=temp_kwargs['y_label'],\n",
    "        showline=True,\n",
    "        linewidth=2,\n",
    "        linecolor='black',\n",
    "        ticks=\"outside\",\n",
    "        mirror=True\n",
    "    )\n",
    "\n",
    "    # Layout and title parameters https://plotly.com/python/figure-labels/\n",
    "    fig.update_layout(\n",
    "        width=temp_kwargs['figsize'][0] * 120,\n",
    "        height=temp_kwargs['figsize'][1] * 120,\n",
    "        font=dict(family=\"Arial, monospace\", size=12, color=\"black\"),\n",
    "        title={\n",
    "            'text': temp_kwargs['title'], 'xanchor': 'center', 'yanchor': 'top',\n",
    "            'x': 0.5\n",
    "        }\n",
    "    )\n",
    "\n",
    "    # save fig to html\n",
    "    _save_html(fig, output_html)\n",
    "\n",
    "    # return plotly object\n",
    "    if temp_kwargs['return_plot_object']:\n",
    "        return fig\n",
    "\n",
    "    if temp_kwargs['show']:\n",
    "        fig.show()\n",
    "\n",
    "    # return dataframe\n",
    "    if outdf:\n",
    "        return df\n",
    "\n",
    "\n",
    "# save file html\n",
    "def _save_html(fig, output_html):\n",
    "    '''save to html'''\n",
    "    if output_html:\n",
    "        fig.write_html(str(Path(output_html)))"
   ]
  },
  {
   "cell_type": "markdown",
   "metadata": {},
   "source": [
    "## Scatter"
   ]
  },
  {
   "cell_type": "code",
   "execution_count": 17,
   "metadata": {
    "execution": {
     "iopub.execute_input": "2020-12-02T03:24:55.602183Z",
     "iopub.status.busy": "2020-12-02T03:24:55.601882Z",
     "iopub.status.idle": "2020-12-02T03:24:55.620397Z",
     "shell.execute_reply": "2020-12-02T03:24:55.619114Z",
     "shell.execute_reply.started": "2020-12-02T03:24:55.602150Z"
    }
   },
   "outputs": [],
   "source": [
    "def plot_scatter_plotly(\n",
    "    self,\n",
    "    obj2,\n",
    "    mode='pointmutant',\n",
    "    show_results=False,\n",
    "    output_html: Union[None, str, Path] = None,\n",
    "    **kwargs\n",
    "):\n",
    "    '''\n",
    "    Generate a scatter plot between object and a second object of the \n",
    "    same class.\n",
    "\n",
    "    Parameters\n",
    "    ----------\n",
    "    self : object from class *Screen*\n",
    "\n",
    "    obj2 : object from class *Screen* to do the scatter with\n",
    "\n",
    "    mode : str, default 'pointmutant'. \n",
    "        Alternative set to \"mean\" for the mean of each position.\n",
    "    \n",
    "    show_results : boolean, default False\n",
    "        If set to true, will export the details of the linear fit.\n",
    "        \n",
    "    output_html : str, default None\n",
    "        If you want to export the generated graph into html, add \n",
    "        the path and name of the file. Example: 'path/filename.html'.\n",
    "        \n",
    "    **kwargs : other keyword arguments\n",
    "\n",
    "    Returns\n",
    "    ----------\n",
    "    fig : plotly object\n",
    "\n",
    "    '''\n",
    "\n",
    "    # update kwargs\n",
    "    temp_kwargs = copy.deepcopy(code_kwargs.kwargs())\n",
    "    temp_kwargs.update(kwargs)\n",
    "    temp_kwargs['figsize'] = kwargs.get('figsize', (4, 3))\n",
    "\n",
    "    # Chose mode:\n",
    "    if mode == 'pointmutant':\n",
    "        df = code_utils._process_bypointmutant(self, obj2)\n",
    "    else:\n",
    "        df = code_utils._process_meanresidue(self, obj2)\n",
    "        df['Variant'] = df['Position']\n",
    "\n",
    "    # Style\n",
    "    pio.templates.default = \"plotly_white\"\n",
    "\n",
    "    # create figure\n",
    "    fig = px.scatter(\n",
    "        x=df['dataset_1'],\n",
    "        y=df['dataset_2'],\n",
    "        trendline=\"ols\",\n",
    "        trendline_color_override=\"red\"\n",
    "    )\n",
    "\n",
    "    # Titles\n",
    "    # hide text labels\n",
    "    fig.update_traces(\n",
    "        hovertext=df['Variant'],\n",
    "        hovertemplate=\n",
    "        'Position: %{x}<br>Score: %{y}<br>Variant: %{hovertext}<extra></extra>'\n",
    "    )\n",
    "    fig.update_xaxes(\n",
    "        title_text=temp_kwargs['x_label'],\n",
    "        showline=True,\n",
    "        linewidth=2,\n",
    "        linecolor='black',\n",
    "        ticks=\"outside\",\n",
    "        mirror=True\n",
    "    )\n",
    "    fig.update_yaxes(\n",
    "        title_text=temp_kwargs['y_label'],\n",
    "        showline=True,\n",
    "        linewidth=2,\n",
    "        linecolor='black',\n",
    "        ticks=\"outside\",\n",
    "        mirror=True\n",
    "    )\n",
    "\n",
    "    # Layout and title parameters https://plotly.com/python/figure-labels/\n",
    "    fig.update_layout(\n",
    "        width=temp_kwargs['figsize'][0] * 120,\n",
    "        height=temp_kwargs['figsize'][1] * 120,\n",
    "        font=dict(family=\"Arial, monospace\", size=12, color=\"black\"),\n",
    "        title={\n",
    "            'text': temp_kwargs['title'], 'xanchor': 'center', 'yanchor': 'top',\n",
    "            'x': 0.5\n",
    "        }\n",
    "    )\n",
    "\n",
    "    if show_results:\n",
    "        px.get_trendline_results(fig).px_fit_results.iloc[0].summary()\n",
    "\n",
    "    # save fig to html\n",
    "    _save_html(fig, output_html)\n",
    "\n",
    "    # return plotly object\n",
    "    if temp_kwargs['return_plot_object']:\n",
    "        return fig\n",
    "\n",
    "    if temp_kwargs['show']:\n",
    "        fig.show()"
   ]
  },
  {
   "cell_type": "code",
   "execution_count": 328,
   "metadata": {
    "execution": {
     "iopub.execute_input": "2020-12-02T06:03:17.387865Z",
     "iopub.status.busy": "2020-12-02T06:03:17.387517Z",
     "iopub.status.idle": "2020-12-02T06:03:17.392519Z",
     "shell.execute_reply": "2020-12-02T06:03:17.391677Z",
     "shell.execute_reply.started": "2020-12-02T06:03:17.387843Z"
    }
   },
   "outputs": [
    {
     "name": "stdout",
     "output_type": "stream",
     "text": [
      "Help on method update_xaxes in module plotly.graph_objs._figure:\n",
      "\n",
      "update_xaxes(patch=None, selector=None, overwrite=False, row=None, col=None, **kwargs) method of plotly.graph_objs._figure.Figure instance\n",
      "    Perform a property update operation on all xaxis objects\n",
      "    that satisfy the specified selection criteria\n",
      "    \n",
      "    Parameters\n",
      "    ----------\n",
      "    patch: dict\n",
      "        Dictionary of property updates to be applied to all\n",
      "        xaxis objects that satisfy the selection criteria.\n",
      "    selector: dict, function, or None (default None)\n",
      "        Dict to use as selection criteria.\n",
      "        xaxis objects will be selected if they contain\n",
      "        properties corresponding to all of the dictionary's keys, with\n",
      "        values that exactly match the supplied values. If None\n",
      "        (the default), all xaxis objects are selected. If a\n",
      "        function, it must be a function accepting a single argument and\n",
      "        returning a boolean. The function will be called on each\n",
      "        xaxis and those for which the function returned True will\n",
      "        be in the selection.\n",
      "    overwrite: bool\n",
      "        If True, overwrite existing properties. If False, apply updates\n",
      "        to existing properties recursively, preserving existing\n",
      "        properties that are not specified in the update operation.\n",
      "    row, col: int or None (default None)\n",
      "        Subplot row and column index of xaxis objects to select.\n",
      "        To select xaxis objects by row and column, the Figure\n",
      "        must have been created using plotly.subplots.make_subplots.\n",
      "        If None (the default), all xaxis objects are selected.\n",
      "    **kwargs\n",
      "        Additional property updates to apply to each selected\n",
      "        xaxis object. If a property is specified in\n",
      "        both patch and in **kwargs then the one in **kwargs\n",
      "        takes precedence.\n",
      "    Returns\n",
      "    -------\n",
      "    self\n",
      "        Returns the Figure object that the method was called on\n",
      "\n"
     ]
    }
   ],
   "source": [
    "help(fig.update_xaxes)"
   ]
  },
  {
   "cell_type": "markdown",
   "metadata": {},
   "source": [
    "## Heatmap"
   ]
  },
  {
   "cell_type": "code",
   "execution_count": 346,
   "metadata": {
    "execution": {
     "iopub.execute_input": "2020-12-02T06:25:18.820329Z",
     "iopub.status.busy": "2020-12-02T06:25:18.820107Z",
     "iopub.status.idle": "2020-12-02T06:25:18.834197Z",
     "shell.execute_reply": "2020-12-02T06:25:18.833098Z",
     "shell.execute_reply.started": "2020-12-02T06:25:18.820307Z"
    }
   },
   "outputs": [],
   "source": [
    "def plot_heatmap_plotly(\n",
    "    self, output_html: Union[None, str, Path] = None, **kwargs\n",
    "):\n",
    "    '''\n",
    "    Generate a plotly histogram plot.\n",
    "\n",
    "    Parameters\n",
    "    ----------\n",
    "    self : object from class *Screen*\n",
    "        \n",
    "    output_html : str, default None\n",
    "        If you want to export the generated graph into html, add the path and name of the file.\n",
    "        Example: 'path/filename.html'.\n",
    "        \n",
    "    **kwargs : other keyword arguments\n",
    "\n",
    "    Returns\n",
    "    ----------\n",
    "    fig : plotly object\n",
    "\n",
    "    '''\n",
    "    # update kwargs\n",
    "    temp_kwargs = copy.deepcopy(code_kwargs.kwargs())\n",
    "    temp_kwargs.update(kwargs)\n",
    "    temp_kwargs['figsize'] = kwargs.get('figsize', (8, 3))\n",
    "    temp_kwargs['x_label'] = kwargs.get('x_label', '')\n",
    "    temp_kwargs['y_label'] = kwargs.get('y_label', '')\n",
    "\n",
    "    # load labels\n",
    "    #temp_kwargs['color_sequencelabels'] = _labels(self.start_position)[0]\n",
    "    #temp_kwargs['number_sequencelabels'] = _labels(self.start_position)[1]\n",
    "\n",
    "    # sort data by rows in specified order by user\n",
    "    df = code_utils._df_rearrange(\n",
    "        code_utils._add_SNV_boolean(self.dataframe_stopcodons.copy()),\n",
    "        temp_kwargs['neworder_aminoacids'],\n",
    "        values='Score_NaN',\n",
    "        show_snv=False\n",
    "    )\n",
    "\n",
    "    # Create figure\n",
    "    fig = px.imshow(\n",
    "        df,\n",
    "        color_continuous_scale=_matplotlib_to_plotly(temp_kwargs['colormap'], ),\n",
    "        range_color=temp_kwargs['colorbar_scale'],\n",
    "        labels={'x':'Original','y':'Substitution','color':'Score'},\n",
    "    )\n",
    "    \n",
    "\n",
    "    # Style\n",
    "    pio.templates.default = \"plotly_white\"\n",
    "\n",
    "    # UPDATE AXES\n",
    "    fig.update_xaxes(\n",
    "        title_text=temp_kwargs['x_label'],\n",
    "        showline=True,\n",
    "        linewidth=2,\n",
    "        linecolor='black',\n",
    "        ticks=None,\n",
    "        mirror=True,\n",
    "        side=\"top\",\n",
    "        dtick = 1, #frequency of ticks\n",
    "        tickangle = 0,\n",
    "        tickvals= list(df.columns),\n",
    "        ticktext= list(self.sequence),\n",
    "        tickfont = dict(\n",
    "            size = 10,\n",
    "            color = 'black'\n",
    "      )\n",
    "    )\n",
    "    fig.update_yaxes(\n",
    "        title_text=temp_kwargs['y_label'],\n",
    "        showline=True,\n",
    "        linewidth=2,\n",
    "        linecolor='black',\n",
    "        ticks=None,\n",
    "        mirror=True,\n",
    "        dtick = 1, #frequency of ticks\n",
    "        #tickvals = [0, 1, 2, 3, 4],\n",
    "        #ticktext= ['Healthy', 'Healthy', 'Moderate', 'Diseased', 'Diseased'],\n",
    "        tickfont = dict(\n",
    "            size = 10,\n",
    "            color = 'black'\n",
    "      ),\n",
    "    )\n",
    "\n",
    "    # Layout and title parameters https://plotly.com/python/figure-labels/\n",
    "    fig.update_layout(\n",
    "        width=14 * len(df.columns) / 165 * 120,\n",
    "        height=2.65 * 120,\n",
    "        font=dict(family=\"Arial, monospace\", size=12, color=\"black\"),\n",
    "        title={\n",
    "            'text': temp_kwargs['title'], 'xanchor': 'center', 'yanchor': 'top',\n",
    "            'x': 0.5\n",
    "        },\n",
    "        coloraxis_colorbar=dict( # modify colorbar properties\n",
    "            title = 'Fitness',\n",
    "            len=0.65,\n",
    "            thickness=20,\n",
    "            outlinewidth=2,\n",
    "            outlinecolor='rgb(0,0,0)',\n",
    "            showticklabels=True,\n",
    "        )\n",
    "    )\n",
    "    \n",
    "    # save fig to html\n",
    "    _save_html(fig, output_html)\n",
    "\n",
    "    # return plotly object\n",
    "    if temp_kwargs['return_plot_object']:\n",
    "        return fig\n",
    "\n",
    "    if temp_kwargs['show']:\n",
    "        fig.show()\n",
    "        \n",
    "# Still want to add extra axis with original amino acids"
   ]
  },
  {
   "cell_type": "code",
   "execution_count": 348,
   "metadata": {
    "execution": {
     "iopub.execute_input": "2020-12-02T06:25:39.411765Z",
     "iopub.status.busy": "2020-12-02T06:25:39.411452Z",
     "iopub.status.idle": "2020-12-02T06:25:40.070572Z",
     "shell.execute_reply": "2020-12-02T06:25:40.070071Z",
     "shell.execute_reply.started": "2020-12-02T06:25:39.411739Z"
    }
   },
   "outputs": [
    {
     "data": {
      "application/vnd.plotly.v1+json": {
       "config": {
        "plotlyServerURL": "https://plot.ly"
       },
       "data": [
        {
         "coloraxis": "coloraxis",
         "hovertemplate": "Original: %{x}<br>Substitution: %{y}<br>Score: %{z}<extra></extra>",
         "type": "heatmap",
         "x": [
          2,
          3,
          4,
          5,
          6,
          7,
          8,
          9,
          10,
          11,
          12,
          13,
          14,
          15,
          16,
          17,
          18,
          19,
          20,
          21,
          22,
          23,
          24,
          25,
          26,
          27,
          28,
          29,
          30,
          31,
          32,
          33,
          34,
          35,
          36,
          37,
          38,
          39,
          40,
          41,
          42,
          43,
          44,
          45,
          46,
          47,
          48,
          49,
          50,
          51,
          52,
          53,
          54,
          55,
          56,
          57,
          58,
          59,
          60,
          61,
          62,
          63,
          64,
          65,
          66,
          67,
          68,
          69,
          70,
          71,
          72,
          73,
          74,
          75,
          76,
          77,
          78,
          79,
          80,
          81,
          82,
          83,
          84,
          85,
          86,
          87,
          88,
          89,
          90,
          91,
          92,
          93,
          94,
          95,
          96,
          97,
          98,
          99,
          100,
          101,
          102,
          103,
          104,
          105,
          106,
          107,
          108,
          109,
          110,
          111,
          112,
          113,
          114,
          115,
          116,
          117,
          118,
          119,
          120,
          121,
          122,
          123,
          124,
          125,
          126,
          127,
          128,
          129,
          130,
          131,
          132,
          133,
          134,
          135,
          136,
          137,
          138,
          139,
          140,
          141,
          142,
          143,
          144,
          145,
          146,
          147,
          148,
          149,
          150,
          151,
          152,
          153,
          154,
          155,
          156,
          157,
          158,
          159,
          160,
          161,
          162,
          163,
          164,
          165,
          166
         ],
         "y": [
          "D",
          "E",
          "K",
          "H",
          "R",
          "G",
          "N",
          "Q",
          "A",
          "S",
          "T",
          "P",
          "C",
          "V",
          "Y",
          "M",
          "I",
          "L",
          "F",
          "W",
          "*"
         ],
         "z": [
          [
           -0.12058293537568054,
           -0.10014426559554661,
           -1.0163000598250878,
           -0.956973454240822,
           -1.948930688843147,
           -1.5119982693146572,
           -1.948930688843147,
           -1.9437018877857712,
           -1.239462133870544,
           -0.04830664657970678,
           -0.03943826911174404,
           0.24618038178392196,
           -0.3966706000293375,
           -1.3542915038045888,
           -1.9380037633380294,
           -1.514617557652126,
           -0.7784556694639182,
           -1.0002429065099085,
           -1.0006591396694509,
           -1.215433545663818,
           0.22938573566055953,
           -1.0157831958300898,
           -0.450792434611547,
           -0.37669904543689164,
           -0.0545298134628793,
           0.18900637908132067,
           -1.0581818006458703,
           0.01090503524072455,
           -0.013558388515735752,
           -0.32535629521038956,
           -1.0155678416998375,
           -0.013558388515735752,
           -1.9380037633380294,
           -1.9437018877857712,
           -1.5184750088300947,
           0.22946565817041142,
           0.07145096292905549,
           -0.8197966410460426,
           -1.9650864154056407,
           -0.9059886979048586,
           0.1610241913132984,
           0.091095915156011,
           -0.03717757118979347,
           0.06898660797064202,
           -0.1664762580953662,
           0.11976093606850878,
           -0.19415919079639343,
           -0.07210755710996511,
           -0.07433465274024713,
           0.10477230394807181,
           0.31890117844952465,
           -1.9650864154056407,
           -0.013558388515735752,
           -1.9380037633380294,
           0.3471857364102648,
           -0.07161929109991279,
           -0.7427073699525759,
           -0.8398099631173878,
           -0.8884177627542318,
           0.12769455260829568,
           0.23421613194796612,
           0.09252349184737957,
           -0.004383694186040454,
           -0.2042305118818594,
           -0.1466399078599838,
           0.0224557965499523,
           0.12301449355794547,
           0.04069024290125134,
           -0.005041934129199772,
           0.3852148085861888,
           0.12552372996450362,
           -0.08623732929599243,
           0.22399997651237155,
           -0.7078290508644839,
           0.04943836405450891,
           -1.4655807943119308,
           -1.7547471022885353,
           -1.4673993566875474,
           -1.823128947894525,
           -1.7547471022885353,
           -1.7547471022885353,
           0.28965566236367624,
           -0.16303484116904987,
           -0.061481454637107635,
           0.028905250789047876,
           0.0034114824577318294,
           -0.46867458917778687,
           -0.0075097338856197566,
           -1.5045830846395176,
           -0.03829159621296422,
           0.04069024290125134,
           -1.150960415603912,
           0.1640642602449818,
           -0.17021120923468458,
           -0.5140336451378192,
           -0.962935273071064,
           -0.23227692962905552,
           -0.03811162294103223,
           -0.7161358672600409,
           -0.641429689933764,
           -0.16862750220614994,
           -0.2323509564346888,
           -0.722725220980263,
           0.04069024290125134,
           -0.2928496921115672,
           -0.13383233465164637,
           0.04069024290125134,
           -1.2454385828046484,
           -0.6359362432387228,
           -1.823128947894525,
           -1.344715808918929,
           -1.6355002471910236,
           -1.9225329325043614,
           -1.1361516098428837,
           -0.8806583371612935,
           -0.8270963534410054,
           0.1230840473323388,
           0.0374462870021183,
           0.5027021519875684,
           0.06135066171409979,
           0.21160311000846152,
           0.18181923451164758,
           0.10778871357934937,
           0.2751002338965099,
           0.057567757614583805,
           0.03421216489098059,
           0.05239174347969786,
           -0.1688635009241259,
           -0.7541335463165616,
           -0.2673540352078518,
           0.0374462870021183,
           -0.5141495266772204,
           -0.8209291826277191,
           -0.1941669612053554,
           -0.07845134646691776,
           -0.690956400034298,
           -0.12122539120210714,
           -0.4684374909885177,
           -0.37229889699405727,
           -1.115971531869683,
           -1.2749626752519645,
           -0.21838931535992662,
           -1.0807838342043365,
           0.5613456032690103,
           -1.5079082728029818,
           0.2835133438178634,
           0.2710435509666743,
           0.03888347924415965,
           -0.004526189754627818,
           0.19421922859552213,
           -0.2709322234367411,
           -0.04358272373861646,
           0.14605402778308574,
           -1.1328689048140475,
           -1.1042192848623045,
           0.19945948633873778,
           -0.22268388385529203,
           -1.9225329325043614,
           -1.9345839265275018,
           0.08046358421974774,
           -0.27605412177986693,
           -1.0345784306988495,
           0.07233258084606074,
           0.07772236985705168,
           0.0812648656894642
          ],
          [
           -0.07052598969994102,
           0.15356331097227466,
           -1.1264180962467052,
           -0.5876731505243055,
           -0.9685704989947294,
           -1.9380037633380294,
           -1.3078043324264808,
           -0.9103300586390124,
           -1.9650864154056407,
           -0.2529242156588957,
           -0.18047062373294676,
           0.15828574775339918,
           -0.022031178238279048,
           -1.427375121781773,
           -1.948930688843147,
           -1.0637581461923982,
           -1.2176778540500879,
           -1.9650864154056407,
           -0.35667462595178556,
           -0.6896720664276448,
           0.048119337152642126,
           0.11871333493181106,
           -1.098543180751405,
           -1.9650864154056407,
           0.026348526480949826,
           0.12278885438396032,
           -0.8704709138684299,
           0.15051118582885353,
           0.0027433154572231166,
           -0.0250396798276271,
           -0.5889333806311462,
           -0.061178666887960025,
           -0.3122002060417616,
           -1.948930688843147,
           -0.9134945067323201,
           -0.013558388515735752,
           -0.9176013131077448,
           -0.5465987051908784,
           -1.948930688843147,
           -0.6202516414964829,
           0.044682953069653336,
           0.17048447752871407,
           -0.19730310020217365,
           -0.10856807223879472,
           -0.41916148927365976,
           0.013287837967254607,
           -0.0845546614768569,
           -0.013558388515735752,
           -0.03311194032345024,
           -0.155556908493908,
           0.33150932449036913,
           -1.9380037633380294,
           -0.008997866427066094,
           -1.9650864154056407,
           0.6755647000191709,
           -1.093467829500388,
           -1.2165641348225045,
           -0.43666174775971583,
           -0.9764032030541058,
           0.2874483776771466,
           0.04069024290125134,
           0.04069024290125134,
           -0.106065310211754,
           -0.035420591619143245,
           -0.1622930971000817,
           -0.014381595394439025,
           0.10306242623839636,
           -0.12738983968748985,
           0.18526074729276376,
           0.3056935398999804,
           -0.04325812731624564,
           -0.0579680025249146,
           0.4545154862003091,
           -0.43120457921797134,
           0.04069024290125134,
           -1.17588873318854,
           -1.708046294543099,
           -1.1187720115715525,
           -1.585684537258705,
           -1.3911685832030638,
           -1.489418649872789,
           0.13869739693636035,
           0.1248002074307388,
           0.048962762210158224,
           -0.24390665466880476,
           0.24025993898251352,
           -0.04783879594745,
           -0.08785340944887694,
           -0.337042790177186,
           0.04069024290125134,
           -0.00490751600944126,
           -1.4538017482653522,
           0.04424669494606265,
           -0.2804186334666371,
           -0.41442981764519865,
           -0.2634665571852243,
           0.04069024290125134,
           0.2761800212708102,
           -1.823128947894525,
           -0.20619296395802847,
           -0.4700301827362492,
           0.02454298267834157,
           -0.5805404566048605,
           -0.03778271443885007,
           -0.10602331752807836,
           0.08681846704758533,
           0.1402553139726146,
           -1.2320288196852403,
           -0.5297634654687182,
           -1.4979413159023103,
           -1.9225329325043614,
           -1.1605537162911876,
           -1.0662227567000997,
           -0.5766325650337912,
           -0.8687236965478432,
           -0.13111586451881257,
           0.03856321154344627,
           0.20645044262644827,
           0.4563929463468006,
           0.08149814981133274,
           0.1430953019535957,
           0.06735934691972889,
           -0.09441289577790053,
           0.06687245402467164,
           -0.06874441713665366,
           -0.22518486393875356,
           0.16127342502850658,
           0.10130643886403662,
           -0.5483845052956996,
           0.1188613524011992,
           0.073540856128322,
           -0.27795639046603604,
           -0.5656763038938197,
           0.08753418345063907,
           0.15535921366401564,
           -0.12404813522786783,
           -0.34588144965992207,
           -0.6424645233933912,
           0.02444761409406198,
           -1.4505763185986833,
           -0.6145597989883896,
           0.19234386681027393,
           -1.0348085784824024,
           0.5376007909724185,
           -1.3289992949001974,
           0.28258720803082543,
           0.17033411761255746,
           0.25230175128732824,
           0.07547848343705045,
           0.32981587181005595,
           0.0453901083343744,
           0.0374462870021183,
           0.09972268957302673,
           -0.6628674758136106,
           -0.9739582426229394,
           0.24316882337980109,
           0.02545892021509864,
           -1.9708045191242638,
           -1.0157230507301125,
           0.09173986244264742,
           0.0374462870021183,
           -1.1302357536427758,
           0.07027160176881324,
           0.08915421571582675,
           0.009914797867812268
          ],
          [
           0.06608207998197975,
           -0.7846212598820802,
           0.1414527933625928,
           -0.013558388515735752,
           -1.5967208373163795,
           -0.6259661577536844,
           -1.241397712493991,
           -0.7055153608904332,
           -1.9650864154056407,
           -0.12439317368602547,
           0.6149532982695085,
           0.0394640468557093,
           -1.3186122566012386,
           -1.3934678300727041,
           -0.013558388515735752,
           -1.0433659091556653,
           -0.63881534531346,
           -0.9206313515380594,
           -1.9380037633380294,
           -1.2151772125156324,
           0.09843338549346059,
           0.28299419238098084,
           -0.08914320267108158,
           -0.5991352153640009,
           0.17121042241049708,
           -0.7378486331915948,
           -1.9380037633380294,
           -0.88992910685473,
           -0.1877807809423545,
           -1.0379172282149784,
           -1.094672647384837,
           -1.9380037633380294,
           -0.3690184972773536,
           -0.9867615613030708,
           -1.2440622279064684,
           -1.9380037633380294,
           -1.9650864154056407,
           -0.5728093829985278,
           -1.9650864154056407,
           -0.9067778950704097,
           -0.013558388515735752,
           -0.01657404311215814,
           -0.2540304022190485,
           -0.7224044593900143,
           -0.38729638192803095,
           0.24557980537434188,
           -0.27276438394456054,
           0.10897066460311973,
           0.06309556239171889,
           0.16386747468928523,
           -0.2775167483431256,
           -1.493988849849001,
           -0.5442404562138017,
           -1.9437018877857712,
           -0.9957451681375509,
           -1.708046294543099,
           -1.823128947894525,
           -0.36188240104959374,
           -0.13338846753970718,
           0.5363880107781004,
           0.17281125479198164,
           0.2258012599933437,
           -0.048721666315986296,
           -0.4069255426843488,
           0.42381204639468006,
           -0.15579547689530263,
           0.27604065724311916,
           -0.18688443991547748,
           -0.25127099070154196,
           -0.32364174366969234,
           0.05415846490665894,
           -0.01367048931133181,
           -0.11257332403147256,
           -0.2954082976958028,
           -0.23138584846113677,
           -0.8544571185304677,
           -0.6184565972426496,
           -0.5420917164416458,
           -1.0747046959169628,
           -1.7547471022885353,
           -1.5253229769263645,
           -0.0481765811622048,
           -0.0024024280080618236,
           -0.30605458742148006,
           -0.08548244866926306,
           0.09373522243519938,
           0.04069024290125134,
           -1.708046294543099,
           -0.28743699942641976,
           0.027760007567564873,
           0.39627947817685566,
           -1.823128947894525,
           0.13494271034839833,
           0.1845974150503358,
           0.0067936626401543755,
           -0.29133235369823907,
           -0.07755954839871088,
           0.1442052924396727,
           -1.2036267108577958,
           0.08367293521981563,
           -0.10952516167337982,
           0.027781226389430973,
           0.04069024290125134,
           0.20437058851371714,
           0.004565257026023162,
           0.07834033658006725,
           0.181611822178382,
           -0.5819492238480825,
           -0.18906701186702501,
           -0.7194482204951782,
           -1.9225329325043614,
           -1.7923988715379702,
           -1.46525473005603,
           -1.011012302368329,
           -1.9708045191242638,
           0.0374462870021183,
           -0.20515120993305072,
           -0.7536864554003166,
           0.30173684964561104,
           0.15807096333722004,
           0.05462376368343614,
           0.03326138125270856,
           -0.005283995761008155,
           0.030185548164000403,
           -0.1661730153917917,
           -0.04383950963443315,
           0.2754771635238262,
           0.0032866523629997793,
           -0.20377045680486988,
           -0.13557267875459808,
           -0.18730579434201142,
           -0.2501852162297109,
           -1.1168592136243929,
           0.18031219470224596,
           0.20691962392540242,
           -0.12194108696479936,
           -0.3563589733828356,
           -0.5129028831220687,
           -0.048697740873244584,
           -1.2520046538606484,
           -0.3958736350158165,
           -0.6145915432555448,
           -1.1987394421195954,
           -0.17809414159084055,
           -0.613434005004036,
           0.0374462870021183,
           0.19769773532357357,
           -0.048094674210960336,
           -0.06323157311739813,
           -0.2998765253872496,
           -0.5458889038892629,
           -0.15485454882926863,
           -0.07593644088402969,
           -1.2198913085762306,
           -1.4168697318478687,
           0.3341961324466979,
           0.151391132756932,
           -1.0203188844884106,
           -0.5451077675715676,
           0.20688020853875796,
           0.08188716330406595,
           -0.5859363555829272,
           0.1868883356229889,
           0.1271473156273688,
           0.23226050469284942
          ],
          [
           0.012108938923514513,
           -0.5583461173607258,
           0.0550892960457076,
           0.311504764571076,
           -1.001477435321473,
           -0.10978212662878484,
           -1.0928487594854495,
           -0.34499927415409554,
           -1.9437018877857712,
           -0.24419018864198974,
           0.2629077587493079,
           0.13176237093192855,
           -0.1702569160807819,
           -1.9650864154056407,
           -1.9650864154056407,
           -1.0798702045390969,
           -0.9806731447890796,
           -0.9281413615601616,
           -1.948930688843147,
           -0.39875960447363173,
           0.23672264262834394,
           0.36027550475151787,
           -0.21955534142356958,
           -0.1064610731118754,
           0.052518047722766394,
           -0.03780376162015564,
           -0.38155960091296015,
           0.0042164386841016515,
           null,
           -1.0688037096246832,
           -0.16810560939957309,
           -0.7877327964185374,
           -1.275987808068643,
           -1.9437018877857712,
           -0.5922821659446018,
           -0.40326775444525365,
           -1.1777276096221725,
           -0.9446927049952105,
           -1.211428916642963,
           -0.44020148072325016,
           0.10782792224809314,
           -0.10807862399981892,
           0.333033278518278,
           -0.015329995469453987,
           -0.07552300689513927,
           0.15750885967744077,
           -0.0929424281599533,
           0.11261706407355036,
           -0.03938505830725663,
           0.015618443448792126,
           -0.02252890996299936,
           -1.948930688843147,
           -0.9246674676156548,
           -1.7063376228462717,
           -0.10355685299723334,
           -1.1593151008227613,
           -0.7272041873272274,
           -0.42037354675672073,
           -0.43978896055837174,
           0.2791089365574499,
           0.27148396914452727,
           0.564501061847845,
           0.0636807327599972,
           -0.16722153787368668,
           -0.17833563473352315,
           0.16301771905059073,
           0.23208404655170312,
           -0.27568190776668533,
           0.07124334298258449,
           0.02661060897486825,
           -0.11697695750778841,
           0.04715753652077885,
           0.10485402469220662,
           -0.19851609336411616,
           -0.22590544676323746,
           -1.199715600775016,
           -0.512487339945385,
           -1.1621490660188887,
           -0.9015470487347298,
           -0.9503180169316078,
           -0.7552785836377378,
           0.08715558018447146,
           0.1663205408414621,
           0.12440540456287351,
           -0.08569951120411638,
           0.09258452185702842,
           -0.16994763175595007,
           -0.2785086673549453,
           -0.4084752111022043,
           -0.008810799991692944,
           0.04380393300849892,
           -0.5775857130686041,
           0.04069024290125134,
           0.17349185199642655,
           -0.04020536622544954,
           -0.09924835332248459,
           -0.25481179897146894,
           0.19418778876728182,
           -1.0115449457429357,
           -0.5196320801273786,
           -0.48462681161511934,
           -0.29420276337360657,
           0.008945770968746478,
           -0.03920212010844499,
           -0.11813738710831405,
           -0.06478113468476712,
           0.005970320101943936,
           -0.5679784242705055,
           -0.1756125089555607,
           -1.34662990772581,
           -1.9708045191242638,
           -1.9225329325043614,
           -1.4954709616700315,
           -0.9197731666600003,
           0.35691754268281645,
           0.5562663333945859,
           -0.11454849168621056,
           -0.9058559559160834,
           0.3787784810355624,
           0.010322609589802653,
           0.052894491145694056,
           0.11830343316696262,
           -0.04438292261344604,
           0.08026279218330644,
           -0.2292343264875969,
           0.004415804056275401,
           -0.041391066093899496,
           0.04056842344586621,
           -0.3367214004427322,
           0.18901158545258578,
           -0.28246002578390567,
           -0.3763953476732215,
           -0.5550833794336388,
           -0.07198623804228757,
           0.07352549632754604,
           -0.2517661954630205,
           -0.14821228229002603,
           -0.4094092192646093,
           -0.11176379067547859,
           -0.6658076510430845,
           -0.2887201394319542,
           -0.6581975892733416,
           -1.6266746671780135,
           0.2308422961463878,
           -1.1265790537686948,
           0.2805404611171107,
           0.2172465939061836,
           2.3634647959812827,
           -0.1086700273687472,
           -0.2143236264408019,
           0.2533687814348199,
           -0.20224842812652666,
           -0.23863428426671676,
           -1.2740784496645752,
           -0.8652661027716769,
           0.0678441515229469,
           0.08175524570944424,
           -1.862210351861319,
           -0.461855606364453,
           0.04389791352091709,
           -0.09047532625996679,
           -0.7757692613008077,
           0.015655279903471552,
           -0.1829641324814093,
           0.0374462870021183
          ],
          [
           0.06623219751806211,
           -0.7086235474682098,
           0.3009795241538469,
           0.006319164495554727,
           -1.436222600546826,
           -0.9688117795619752,
           -1.743705359392158,
           -0.5704694271734148,
           -1.9650864154056407,
           -0.12280232666246393,
           0.4286878712308559,
           0.005797948187100046,
           -1.6352562720716317,
           -1.4201058289458084,
           -1.3050143676220956,
           -1.9650864154056407,
           -1.032197151440517,
           -1.7640327720037796,
           -1.7135213177595585,
           -1.0811171813788345,
           -0.036768047477617534,
           -0.10768652708312888,
           -1.0076762019099934,
           -0.4318249590460585,
           0.08988604023783818,
           -0.8820150033129638,
           -1.415407522844018,
           -1.0388689315763233,
           -0.06443098069923207,
           -1.0005121030273731,
           -1.2627884308927844,
           -1.4134751502851195,
           -0.45351635606302615,
           -1.732630555649127,
           -1.2508274303405236,
           -1.5195536627908217,
           -1.756192725133932,
           -0.6871284326689235,
           -1.578873999890306,
           0.0927178240250477,
           0.12909467642980746,
           -0.14879346321524106,
           0.11151644608821859,
           0.02788201954508798,
           -0.18837669934471757,
           0.12330102247435377,
           -0.15980742343318882,
           -0.11769426924149712,
           0.004703084859891636,
           -0.20992515030364337,
           -0.15564873807579194,
           -1.6785303793386257,
           -1.3460871531387817,
           -1.461094140563714,
           -0.6542735417851707,
           -1.3060913336199393,
           -1.348055384258795,
           0.05538060867214659,
           -0.6431927454837196,
           0.3985096038748212,
           0.34991103709854077,
           0.17257157213355284,
           0.06740039888348232,
           -0.09778648264944116,
           -0.08338112397218367,
           0.07069856888892,
           -0.0023946072646078534,
           -0.39320638316130185,
           0.020385097290153285,
           -0.3869503350709217,
           -0.1846141246494525,
           0.0738639108580351,
           -0.021971789701682527,
           -0.3925126721429543,
           -0.36221301463757904,
           -1.1782293563867505,
           -1.3383455593473503,
           -1.501028679451687,
           -1.6133718832266901,
           -1.5891497211909436,
           -1.6088984456584614,
           -0.19074832431881236,
           -0.31208515674433407,
           -0.36417785456558976,
           -0.29900038855114425,
           0.056663387073543424,
           -0.11375444494486409,
           -1.212696289888167,
           -0.4992937778543647,
           -0.10451970295824467,
           0.37205932312403905,
           -1.4680016882058764,
           0.09348878255516455,
           0.31828273972370924,
           -0.1833454488818919,
           0.080311015763362,
           -0.11347916979374666,
           0.2042106428228414,
           -1.0495775464812902,
           -0.01679947843413217,
           0.045897246306982865,
           -0.3600091819288364,
           0.04176214414886371,
           0.06922803568631247,
           -0.03277161409171227,
           -0.05941287445231067,
           0.05855370432976074,
           -0.47038073195809715,
           -0.09562100757650915,
           -1.2101619196130309,
           -1.6182277637220146,
           -1.3103916426201618,
           -1.651808679991526,
           -0.5425414174551288,
           -1.5977064251431994,
           0.36107835099531155,
           -0.15534722174612844,
           -0.9955469791054204,
           0.2141133784304515,
           -0.20326316441084522,
           -0.230483623440657,
           -0.04057457029383758,
           -0.2084932331415581,
           -0.059890314993380954,
           -0.16060989495413583,
           -0.08877994341727817,
           0.07498999548234386,
           0.05866178853465635,
           -0.5085472893752626,
           -0.03808425068855425,
           -0.16448304470923825,
           -0.2121194885116655,
           -0.5594241915110737,
           0.06189299875140924,
           0.07274212819884357,
           -0.40223160686522424,
           -0.48689914821334485,
           -0.9677859336925015,
           -0.12064933370265504,
           -1.589544429087346,
           -0.37574180784207734,
           -1.2676194547941413,
           -1.2690265470868216,
           -0.2516731800122252,
           -1.6490451386637528,
           0.0883428419989088,
           -0.023296205735172756,
           0.09748020028612088,
           -0.15141103940398096,
           -0.17297537082727693,
           -0.9264156194394187,
           -0.01746877305179142,
           -0.2995889028559678,
           -1.5681873814488203,
           -1.2362253400840424,
           0.34536090927926094,
           0.026152241957278322,
           -1.3479322579021726,
           -0.34507445713972457,
           -0.018896585087675243,
           0.034454303165396154,
           -0.2764112206712538,
           0.08374107328723764,
           0.0738733397317164,
           0.12050981409642388
          ],
          [
           -0.05958489600158953,
           -0.47166347193845043,
           -0.8791058297757229,
           -0.25884994101230385,
           -1.1181117295050313,
           -0.8818679195022657,
           -1.193726315800074,
           -1.0781226428455215,
           0.003615660002446579,
           0.002042987210243217,
           -0.04102565837265071,
           0.0621535499308706,
           0.1433134053607248,
           -0.02482338103903442,
           -1.0413922369210216,
           -1.543269191795577,
           0.13589355141412937,
           -0.5956837165597967,
           -0.4299245799869157,
           -0.6808545776524605,
           0.19928301053451145,
           -0.031022370714457986,
           0.3678348127410488,
           0.6828005091076284,
           -0.14564186818407046,
           0.23613930195805863,
           -0.9890356368774951,
           -0.44266895491726704,
           -0.22556622009800395,
           -0.4526235827028306,
           -1.5333836943990427,
           -0.958271530078132,
           -1.0345981584070147,
           -1.3100921750519057,
           -1.134096713649955,
           -1.0748748854939039,
           -1.3399957111692749,
           -0.30803868387153543,
           -1.9380037633380294,
           -0.31387470528594263,
           0.22047455885210165,
           0.04003529169985393,
           -0.04130266659706689,
           -0.06529893355439749,
           -0.3158233295257063,
           0.004459112515701879,
           -0.03782058084190212,
           -0.25340181920096705,
           -0.1514546616912014,
           -0.10908098391877333,
           -0.01446621272938392,
           -1.0517058364213432,
           -0.6238208987220745,
           -1.700913235935252,
           -0.047052733280600806,
           -1.6093035979095127,
           -0.5500716707555335,
           -0.039381794499385586,
           0.05855960955430466,
           0.23309551462329445,
           0.2239697288716552,
           0.3247565670488914,
           0.029168212644908424,
           0.539102675319001,
           -0.019099195466859877,
           0.06166009214258409,
           0.22113355248862887,
           -0.2747190924357007,
           -0.09826206586544746,
           -0.034502718893981356,
           -0.28101387826089613,
           -0.00037543581158514666,
           0.15355739842780095,
           0.07694684055235035,
           -0.2977634607625799,
           -0.025210804566414308,
           -1.441712825557204,
           -1.3917427434307885,
           -0.8891706436114989,
           -1.1852587584466834,
           -0.5111110471562916,
           0.08926943548136773,
           0.1794709287002918,
           0.23707690895239922,
           -0.10774400748026151,
           -0.06656661927087446,
           -0.11434261113347562,
           -0.10539029396444155,
           -0.4145082595578657,
           -0.1342308253053738,
           -0.12708062420857422,
           -1.334800675578612,
           -0.10149813621260399,
           -0.21580820546347157,
           -0.4489411595617348,
           -0.2793976645604908,
           -0.44033962908371566,
           -0.14804541303323196,
           -1.1869686734093619,
           -0.3752690741159677,
           -0.3705666513328363,
           -0.41252239030991755,
           -0.39326465811520245,
           0.1728485713896969,
           0.10850616534170425,
           -0.021343102620185628,
           -0.1331070658581153,
           -1.0210425514032708,
           -0.7595346395474264,
           -1.297933429018891,
           -1.0414659157166106,
           -1.5914010337526943,
           -1.5877126198402767,
           0.0127203196905118,
           -0.017263412699964033,
           0.4991271510788399,
           0.08110117898065487,
           -0.5469010432359567,
           0.47069402249423065,
           0.09623151202551429,
           0.09302842639407383,
           0.20142263668606888,
           0.0462753576493961,
           0.02995709737751822,
           -0.09158829595278416,
           -0.025734640462913058,
           0.016488630604297047,
           -0.264569405382859,
           -0.028370469096077666,
           -0.2582458227734849,
           -0.35402798734647867,
           -0.6160825364465183,
           -0.44551655779539123,
           -0.35093490213362877,
           -0.20320741317499458,
           -0.3088686193909066,
           -0.01093417219583255,
           -0.7056781513932466,
           -0.5184564492797921,
           -1.0894866261325944,
           -1.1620140432886237,
           -0.893691005702355,
           -0.07417327886107196,
           0.21620336561517983,
           0.301419807750932,
           0.44407653454709256,
           0.17157984043868543,
           0.09739195411692281,
           0.16536660542348935,
           -0.0021690542082345907,
           0.01632201130723038,
           -0.18828355560669938,
           -0.3861983953673383,
           -0.35740355598966295,
           -1.4011326469907357,
           0.19722350361585272,
           -0.4668315554399667,
           -1.0468133699651752,
           -1.0871680350401753,
           -0.013699562394155367,
           -0.004312113443160254,
           -0.7827555207437792,
           0.017601487473082066,
           0.22903390834933038,
           0.1893774781868399
          ],
          [
           -0.028544598398035644,
           -0.40687005905170454,
           -0.23153040264875893,
           0.2621936908973414,
           -1.948930688843147,
           -0.34282633520398065,
           -1.9380037633380294,
           -1.2845654750196462,
           -1.072057932713248,
           -0.25783579142317303,
           0.21421464473677165,
           0.2093910275318107,
           0.07556019843273973,
           -1.9380037633380294,
           -1.6893935981755834,
           -1.948930688843147,
           0.06234677624042519,
           -0.31697377804557164,
           0.04974900352842587,
           -0.8358209512564455,
           0.3665693104233697,
           0.2073475574530399,
           0.3849495506338638,
           0.26982857552645106,
           -0.013558388515735752,
           -0.06620970643128239,
           -1.126182994073897,
           -0.34348138168961057,
           -0.10129516368440401,
           -0.6571519634694244,
           -0.7747749762733043,
           -0.7615385595575664,
           -1.07271234113912,
           -1.9650864154056407,
           -0.5272905992162689,
           -0.9009744659844634,
           -1.9380037633380294,
           -0.6793989056223527,
           -1.9650864154056407,
           -0.39402498052241475,
           0.32112591238900245,
           0.12529852561119326,
           -0.01369457244950026,
           0.08280604233558193,
           -0.17292123197072265,
           -0.03364461171916912,
           -0.10039738293717698,
           0.07292063677617537,
           0.16698970280151348,
           -0.24389943930201136,
           0.03246725973220592,
           -0.8372707871659387,
           -0.4974959930784613,
           -0.8572442004216946,
           0.19049995332298608,
           -0.7683576928472685,
           -1.035546993390071,
           0.031148584470162485,
           -0.8238758478043504,
           0.2804968545076549,
           0.20980714418072693,
           0.44218635943087453,
           0.17547823989381742,
           -0.06986028824299802,
           -0.04181450260531891,
           -0.03299028375481078,
           0.0718683479647471,
           -0.08302485864956254,
           -0.04090804739499298,
           -0.03299025149363114,
           0.010995691092604676,
           -0.005774243886274404,
           0.008784648940902673,
           -0.6283488484190626,
           -0.03381408156569378,
           -1.1939409394216884,
           -1.5534602717283754,
           -1.2331811600663463,
           -1.0216802025850031,
           -1.2025818671944988,
           -0.7277412338051621,
           0.3777240950438352,
           0.027955620878442347,
           0.04069024290125134,
           0.04069024290125134,
           0.025686260613319467,
           -0.07116082097868727,
           -0.07569775692145372,
           -1.1356781617181058,
           0.01569610949283289,
           0.1266447222583188,
           -1.1583591567708784,
           0.11631180786466196,
           0.1132602145631029,
           -0.5773904855841145,
           -0.4742012223851921,
           -0.06160875096611876,
           0.056820608115810335,
           -0.7259911322978219,
           -0.3672762393693723,
           -0.3752581357730693,
           -0.422974454437441,
           -0.38739775651210245,
           0.06722324152934468,
           null,
           -0.10400101471632166,
           0.13449129175609298,
           null,
           -0.1509034780292504,
           -1.2204638458808559,
           -1.191584454280209,
           -1.0663424369545953,
           -1.862210351861319,
           -0.22288966905332946,
           0.0374462870021183,
           0.21987215056781753,
           0.09238852222763683,
           -0.4131274662166458,
           0.511759328185383,
           0.01096393642823923,
           0.08285666968200002,
           0.2831932904253807,
           -0.023492333980394187,
           0.10123028983113015,
           -0.00155796610989791,
           -0.01546652163851991,
           0.06326497053911367,
           -0.23809370564120122,
           -0.48864841394278463,
           -0.32402226907431775,
           -0.16535785568589292,
           -0.32010042908179714,
           -0.608054034854834,
           -0.16749409460333417,
           0.06057245034885827,
           -0.31748259151482355,
           -0.17638650438154505,
           -0.23111058998049852,
           -0.21855416327299884,
           -0.7940802418060825,
           -0.6641989992216738,
           -0.6187519923024225,
           -0.05531613187245694,
           0.3905914466291251,
           -0.1397519041947338,
           0.46736188727553946,
           0.10608115083794523,
           0.12081406087266787,
           0.030310855724823674,
           -0.2663684959996645,
           -0.174494960858288,
           -0.2549921974945058,
           -0.1563144531236695,
           -1.0283434858548206,
           -1.0415205971214279,
           null,
           -0.11621583756446996,
           -1.862210351861319,
           -0.8047541819888996,
           0.12962747209568204,
           0.011771147178674855,
           -1.0381608462080838,
           0.0011314973820328589,
           0.21296609371825106,
           0.10012706659606153
          ],
          [
           -0.30963880888393147,
           -0.6812433754241707,
           -0.4329152539329229,
           0.18044299672451658,
           -1.9650864154056407,
           -0.5114539736599163,
           -0.7674701619210101,
           -1.2236390395799863,
           -1.9380037633380294,
           -0.6386720074484187,
           0.037894889205783905,
           -0.1269142179431615,
           0.12231342460999672,
           -0.8899359754366891,
           -1.3101517066798911,
           -1.9650864154056407,
           0.025423247246479583,
           -0.2896908446297799,
           -0.3546760754728598,
           -0.5422967706262102,
           -0.013558388515735752,
           0.40639467039748944,
           0.03123261275308095,
           -0.013558388515735752,
           0.0862424493214957,
           0.06900913050245798,
           -1.2664529323288238,
           -0.3378110842174018,
           null,
           -0.5972125677565487,
           -0.6774327899734711,
           -0.7634634876717189,
           -0.7887316779402361,
           -1.9650864154056407,
           -1.0709875177970842,
           -1.4146063137055418,
           -1.206157306172969,
           -0.19445179752477318,
           -1.9650864154056407,
           -0.48879734225553495,
           0.1533498682205803,
           -0.013558388515735752,
           -0.08102893687587198,
           -0.008371959163720655,
           -0.3668944430048508,
           -0.031285625321308796,
           -0.10992578130773756,
           -0.0717877514591316,
           -0.008532761983076629,
           -0.05613405336307073,
           0.011866363845309466,
           -0.5931773467972613,
           -1.2236290707233974,
           -1.4623614670369696,
           -0.10875964967036855,
           -0.7528768729981173,
           -0.7048489941446384,
           -0.0862994678572671,
           -0.9722893738145354,
           0.04069024290125134,
           0.16726629851501104,
           0.37304154956019003,
           0.15180859714079686,
           0.0012455449255193048,
           0.1581019531029289,
           0.12700344509435163,
           0.19915721213325022,
           -0.13326599960646526,
           0.04069024290125134,
           -0.032115164971686046,
           0.028896877878706168,
           0.009604516590508209,
           0.35881826832630354,
           0.008881520567032382,
           0.0046681517078440635,
           -0.8455482444225471,
           -1.2983308297903218,
           -1.1614738104887488,
           -0.5875781194032178,
           -0.6568620460650321,
           -1.6426042709414574,
           0.332686171262563,
           0.0027859132260419106,
           -0.08269020590169707,
           -0.35769236161563156,
           -0.080508775052559,
           -0.23409053518023212,
           -0.26921177976547966,
           -0.22457654202118651,
           -0.08462708333181486,
           0.2353254904625558,
           -0.9185123054078557,
           -0.1146544651175606,
           0.04069024290125134,
           -0.013636768343096687,
           -0.1673141625660718,
           -0.026819006083733266,
           0.04069024290125134,
           -0.8540451929318591,
           -0.008040363359406732,
           -0.20477127102002196,
           -0.1446491509143361,
           -0.3232188161026607,
           0.04551507837879427,
           0.1280716562271712,
           0.08965185512218495,
           -0.031478604471759423,
           -0.9262161231300157,
           -0.5657965370528358,
           -1.1682721989573759,
           -1.9345839265275018,
           -1.2242479985133659,
           -1.862210351861319,
           -0.39559760849882486,
           0.30646718467262846,
           0.3830423090146915,
           0.07221177913966369,
           -1.129214961873047,
           0.396898898291201,
           -0.05952003443751622,
           -0.0164913388022041,
           0.028781147660851446,
           0.10346613499342996,
           -0.08510201297932742,
           0.08307029174273611,
           -0.0333965272697933,
           -0.03428675149888894,
           0.0374462870021183,
           -0.39699343582715513,
           0.0374462870021183,
           0.14028075561422484,
           -0.3163615162351235,
           -0.724323401288815,
           -0.05007705863323991,
           -0.07664324859112101,
           -0.3777639610516947,
           -0.16491258155534896,
           -0.4150441199922211,
           -0.07528124881363889,
           -0.5199597336395967,
           -0.5301295182696295,
           -0.7437287846229094,
           -1.070231733857427,
           0.09570566807939043,
           -1.2350669170566213,
           0.3331777179039291,
           0.15136158576792724,
           0.32145191526862255,
           0.0374462870021183,
           0.005689988028275722,
           -0.11058661175428314,
           -0.1151035866920307,
           -0.25072279687925986,
           -1.0510390816690578,
           -1.0765999843800156,
           0.37098019369957236,
           0.13618586047839004,
           -1.0841885111787133,
           -0.5428096632476204,
           0.19193255194394068,
           -0.061747825509983846,
           -0.29885214623148376,
           0.07191398722189715,
           0.0374462870021183,
           0.14569723769424342
          ],
          [
           -0.09092610657615414,
           -0.6443032552829792,
           -0.21283575715839978,
           -0.1200796836937303,
           -1.021855388782094,
           -0.4772472099642895,
           -0.17807077952422407,
           -0.5705805343914118,
           -1.2061149480285385,
           -0.050840397969141776,
           0.1758581427771806,
           0.06401537416394584,
           0.1406514556369182,
           -1.3475910968486031,
           -1.0789013425607616,
           -1.5579740513307725,
           -0.08346141122938945,
           0.17358130581727615,
           0.027492005647693513,
           -0.24283298320012386,
           0.2170905435755264,
           0.1889323834207027,
           -0.3616753280553303,
           0.3741138235150674,
           0.09751903849822366,
           0.154438345682536,
           -1.0154819919346063,
           -0.3347074743704361,
           -0.04556079943624019,
           -0.31826079328508056,
           -0.805101669552418,
           -0.4649441674153485,
           -0.3704794771618967,
           -1.649970018093622,
           -0.9751783940835039,
           -1.4180093052936609,
           -1.3105618417498353,
           -0.4139968807714777,
           -1.948930688843147,
           -0.24282031963033957,
           0.24825227995428625,
           0.076268481537129,
           -0.07799471966925128,
           -0.15882768271867825,
           -0.10277094991062916,
           -0.04174098165621481,
           -0.04853513786725298,
           0.09492235582093904,
           -0.012493256808949513,
           -0.09805990988428082,
           -0.008970322948091794,
           -0.06505326892097262,
           -0.722904767223683,
           -0.4006611716346984,
           -0.1318559903590375,
           -1.5975969903206344,
           -0.5447773476999009,
           0.016212542797887714,
           -0.5087853086501194,
           0.28614196328891534,
           0.18307423752957006,
           0.3097005140540719,
           0.007743885952452449,
           -0.25026920053638635,
           0.07471313136044466,
           0.10412304098175976,
           0.14711971127437343,
           -0.2702434152210689,
           0.02776705993701759,
           -0.18230952546090182,
           -0.29235840110680744,
           0.17580141115642822,
           0.2242726650706126,
           0.2128796423072394,
           -0.028035758706615715,
           0.1099299129810936,
           -1.0650301041190806,
           -0.22869649932703176,
           -0.3253129417870989,
           -0.397380306717423,
           -0.18237266266658847,
           -0.011919101478315755,
           0.23692935317526306,
           0.07540119287227609,
           -0.270687890393822,
           -0.06829926570480764,
           -0.18263339433886838,
           -0.02518566134562342,
           -0.1348886918906885,
           0.012404105557624313,
           0.1623967647824207,
           -0.16722092302889174,
           0.010843356529103851,
           0.07421691938784737,
           0.1517777103647214,
           -0.0989219537528873,
           -0.12179392153421145,
           -0.02108275398873268,
           -0.6101625058234975,
           -0.17281184320626614,
           -0.10749464123102885,
           -0.03950587987141049,
           -0.16043475110921906,
           -0.11531193800578654,
           -0.08575259537257406,
           0.10224276536570254,
           0.07219486284309436,
           -0.3138914103840178,
           -0.1527875134265854,
           -0.5655123125202641,
           -0.9655385802540348,
           -0.6954591940175869,
           -0.36197344033028955,
           -0.044710279153148264,
           0.4273053550289916,
           0.4577244995899727,
           0.06946101240677045,
           -0.6171192744854032,
           0.3975487228638819,
           0.06652117097485215,
           0.04339877883945175,
           0.10214759350932595,
           -0.09573158960269139,
           0.02429133106844128,
           0.05599046596347457,
           -0.02175068314897011,
           1.196918205002027,
           -0.038382688674945084,
           -0.04543987287173227,
           0.06025022897939824,
           -0.009372138350406579,
           -0.24597272863945616,
           -0.0039898281899259785,
           -0.009390152431556954,
           -0.05118772654297491,
           -0.07668806249265232,
           -0.44284112718202195,
           -0.29032942830826075,
           -0.1800937815897066,
           -1.2892703336002984,
           -0.34789405291042935,
           -0.49361531850696855,
           0.0997860781993704,
           0.2627942587183305,
           0.029772153924770183,
           0.305577221055215,
           0.18333044215002062,
           -0.015096470678408257,
           -0.27124019248227543,
           -0.044860799296885336,
           0.1941818067287878,
           -0.0029673967104293054,
           -0.12280225001800438,
           -0.015417882540275069,
           -0.5300223164608661,
           0.24403560870694746,
           0.12947078127477424,
           -0.5642143124682452,
           -0.40828026752369756,
           -0.031322316523035736,
           0.05281457127925083,
           -0.455481570562773,
           -0.053670735774048385,
           -0.08235320237852471,
           0.12519155206758661
          ],
          [
           -0.05253675947575528,
           -0.5693836165516776,
           -0.1497145620357951,
           -0.03609786678512438,
           -1.384448555035262,
           -0.5934015430712236,
           -1.2354779201282875,
           -1.0049375306765724,
           -1.661634659612839,
           -0.019654880787192797,
           0.2414999658028395,
           0.16443418683141214,
           0.19711313044015072,
           -1.6434312740682806,
           -0.9101765724029381,
           0.04912624739216145,
           -0.6180336286844583,
           -0.2973669405395242,
           0.13985282162258691,
           -0.8143337622922852,
           0.2426901366638091,
           0.1470544728880689,
           -0.22287347403245575,
           0.3492286259630587,
           0.17962601717305834,
           0.12825963261688508,
           -0.9880682904681415,
           -0.11148506607401701,
           -0.14813929500455428,
           -0.29142291019190497,
           -0.8552168192210939,
           -0.771491056316472,
           -0.5095404177996614,
           -1.2108974207085734,
           -1.2863115365558466,
           -1.297666899878995,
           -1.7035282937884133,
           0.023508968138880985,
           -1.9093517606456407,
           -0.4535948190424504,
           0.1404337121029146,
           0.04789660901379246,
           -0.1163444166768205,
           0.013276781273421462,
           -0.20150629863429306,
           -0.06870848830020158,
           -0.011625136954094152,
           0.06780015213767702,
           -0.02617884723321627,
           -0.13946828538171935,
           0.08956986693300033,
           -0.6466373447446914,
           -0.7756653817101314,
           -0.8766495057137066,
           -0.01782947879734028,
           -1.2533381706003635,
           -0.014726074458461504,
           0.17041894696090834,
           -0.47671939322096873,
           0.16653977253104993,
           0.05008992388133443,
           0.39529912935083433,
           0.12294601964642471,
           0.027957400880630427,
           -0.023731694569689748,
           -0.008278823412854255,
           0.22859499241933912,
           -0.3016430240493521,
           0.06521645960533533,
           -0.0721065683215526,
           -0.2539410623046615,
           -0.006738922029110926,
           0.14387582579525648,
           0.08463892303568503,
           -0.09180396573303046,
           -1.1654735406071348,
           -1.1806253087425593,
           -1.2617605639736351,
           -0.9733181443071214,
           -0.7756649179364239,
           -0.5494825313516827,
           0.15411399664191416,
           0.0953690421950354,
           0.02512051630141028,
           0.008844209830674429,
           0.033024312928857075,
           -0.0672226342674319,
           0.31347412936265484,
           -0.7861712697104036,
           -0.07296791121223338,
           -0.022993680412464263,
           -0.8683449685298891,
           -0.09447197766543568,
           -0.10138743778119552,
           -0.21713281207156174,
           -0.24237246656507008,
           -0.10218603664989041,
           0.021934310885623146,
           -1.0624323654827608,
           -0.18130189032626526,
           -0.28290767869974837,
           -0.205260234062037,
           -0.19692907371932725,
           -0.004985542323988128,
           -0.002570910792508147,
           -0.19159782637229794,
           -0.11505978297134627,
           -0.2743836765464166,
           -0.35756939407267163,
           -0.9656737758697104,
           -1.2868195406729177,
           -1.3585172758633755,
           -1.2194385358260384,
           -0.19375454625872685,
           0.26725133641770066,
           0.4287617087485562,
           0.00032881064319697134,
           -0.5358441136447287,
           0.3819644131277024,
           0.0874631015183856,
           -0.19761273497137444,
           0.10001447694176831,
           0.060400130163406084,
           0.013615836066375465,
           0.023655525787204295,
           -0.022137883252645405,
           -0.02605987952880354,
           -0.008440039618338517,
           -0.4506905983014029,
           -0.19402419067337162,
           -0.013072866995843738,
           -0.3432903913097645,
           -0.26407211653034346,
           -0.14145145567588044,
           0.0115837932807094,
           -0.2016353257353266,
           -0.3669124565895449,
           -0.2981916807379278,
           -0.0959217965695562,
           -1.0404795248544851,
           -0.6463339398629947,
           -0.5618343253863527,
           -0.09502827035346384,
           0.046216347934424605,
           0.306272048501141,
           0.41518572573553514,
           0.2072964221624336,
           -0.05897022747956363,
           -0.0389890372649778,
           0.07353955979823401,
           0.01491887453571014,
           -0.007314115133684106,
           -0.2856524378107132,
           -0.3439725182637758,
           -1.054994271324977,
           0.1871196073361715,
           -0.06859427371463463,
           -1.0255426570533726,
           -0.6594720459860172,
           0.017693812839002912,
           -0.02767292927315511,
           -0.31509850439221493,
           0.054372973639017975,
           0.04134024616835539,
           0.1310072654270408
          ],
          [
           0.018380701048083408,
           -0.9237289863271076,
           0.025956376023137228,
           -0.13346918745769054,
           -0.7891409121460322,
           -0.33675552647467333,
           -0.44820662001714434,
           -0.6479803834241354,
           -1.948930688843147,
           -0.07413360892535753,
           0.05271692572893913,
           0.1033493514517641,
           0.2374980585680628,
           -1.5015381183018377,
           -1.0477619744091862,
           0.027955676625518372,
           -0.3280085446416551,
           -0.3256476037865847,
           0.0167633665674954,
           -0.4799614203572738,
           0.12966075861027654,
           0.2231478154530946,
           -0.5692238496280864,
           0.2079044637435788,
           0.09377717205136303,
           0.03558033533606884,
           -0.8989782822120617,
           -0.2423822859515702,
           -0.0574107957853047,
           -0.3295965444629948,
           -1.1362343474106866,
           -0.6198246120339646,
           -0.8674119431787627,
           -0.16670924600899575,
           -1.0549446507145293,
           -1.5876173260960182,
           -1.4405715778124455,
           0.18603840788005754,
           -1.948930688843147,
           0.23067773021234458,
           0.07133538954103458,
           -0.007700736018386406,
           -0.1632543354230138,
           0.04926942947683547,
           -0.02018970328004509,
           -0.15859310276569297,
           -0.09679352603642644,
           -0.013781916037556036,
           -0.03273147416657087,
           -0.07352298545119593,
           0.19505418515334433,
           -0.18191484468119845,
           -0.9174753048162463,
           0.01833306487711777,
           0.16390401814422842,
           -0.9261929233838964,
           -0.06674111798156544,
           -0.10216381085168343,
           -1.3867571324831018,
           0.3854541372608011,
           0.11899798591988871,
           0.3683152609500476,
           -0.030979994354339135,
           -0.2006387190429097,
           -0.09736466897866711,
           0.014775841130970713,
           0.19584927096063384,
           -0.22750856371255507,
           -0.2011808292665298,
           0.027867933385623794,
           0.004034648781642947,
           -0.0066931829698583835,
           -0.0036220843392855626,
           -0.004991163312666356,
           -0.13761430252156787,
           -0.7642702168102561,
           -0.6785760752417377,
           -1.5350462211531493,
           -0.43645667297501106,
           -0.540618662536816,
           -0.284163392792368,
           0.12737402608967976,
           0.1971458439040493,
           -0.02936367232505914,
           -0.1838413359155763,
           -0.04538289345633448,
           -0.12006779149811612,
           -0.1300701524962875,
           -0.5889027568369297,
           -0.07828805788880458,
           -0.07543605612097602,
           -0.8612870070646809,
           -0.10417479550195748,
           0.05851937290942507,
           0.11404250486728068,
           0.054448813066071466,
           -0.18241920616258822,
           0.14733879695096644,
           -0.9120302457861378,
           -0.2673609223778827,
           -0.36354879979292226,
           -0.49389449042481537,
           -0.02047492275430181,
           -0.17323055975120172,
           0.13913606843489368,
           0.018758210450618446,
           -0.0024959689001033463,
           -0.3024123444750707,
           -0.30332117894133315,
           -0.7059848886755903,
           -0.8518706498614451,
           -1.4749701559371915,
           -1.43937079512457,
           -1.0562703473178752,
           0.4583679154468691,
           -0.037094920170039104,
           -0.06687132130088576,
           -0.8208723155996384,
           0.40629184506377314,
           -0.08450099388575483,
           0.05499169511608815,
           0.12037456915917599,
           0.024271769175599686,
           -0.021037891208299672,
           0.006505710852910934,
           -0.10151623517660513,
           0.09418738324022269,
           -0.05330739301315836,
           -0.19688281831967513,
           -0.33648296072550427,
           -0.15962111574921714,
           -0.21358739779254302,
           -0.5480976055741554,
           -0.05814430320305242,
           -0.02688913003014896,
           -0.1687453226847927,
           -0.49995826078634975,
           -0.4800405405744679,
           -0.08729128942193495,
           -1.1301835255564183,
           -0.35456466238923334,
           -0.4456466124089163,
           0.02387348724367222,
           0.14417552390609042,
           -0.08329829904776015,
           0.19758206014420723,
           -0.007684496991517634,
           0.056229934577777925,
           -0.017269393463072557,
           0.15065602314906712,
           0.08027535393017439,
           -0.0606121566714162,
           -0.1173517825997731,
           -0.0496867228132395,
           -0.53136709833458,
           0.17898946107540525,
           0.06994737913466471,
           -0.8090125627606957,
           -0.41985857353520295,
           -0.0688831927874804,
           -0.0023568813291651607,
           -0.46283766757915284,
           -0.09358878703201438,
           -0.06700091711275595,
           0.015132841604972991
          ],
          [
           0.08184755346867255,
           -0.47951627109586253,
           -0.1249469724991628,
           -0.314641430269725,
           -1.1961624469648586,
           -1.540775307669031,
           -1.5990459984995455,
           -1.528688561488887,
           -1.5038220929757395,
           -0.19845160487432978,
           -0.1951091600311351,
           0.07374459795211318,
           -0.42004994892256736,
           -1.5833602131432842,
           -1.5766705218862977,
           -1.5133798945890218,
           -1.06262651695532,
           -1.9650864154056407,
           -1.0942293606240616,
           -1.545563586285013,
           -1.4579439295816383,
           -1.9650864154056407,
           -1.5260962223285102,
           -1.6431580898329432,
           -0.06342565300283586,
           -1.0532124555288283,
           -1.2634366861849642,
           -0.19171171674253698,
           null,
           -0.5069903729698133,
           -0.9138517727588177,
           -1.2684622752025279,
           -0.0799836081814167,
           -1.4991064603075888,
           -1.5663194299843137,
           -1.4032254869638545,
           -1.1162805252055197,
           -1.9650864154056407,
           -1.9650864154056407,
           -1.2357507481542875,
           0.2174964299438157,
           0.08625757167452391,
           -0.16854924617510464,
           0.011015469919073859,
           -0.4231347721277188,
           -0.6035156466763504,
           -0.10047642924670473,
           -0.13571763816084398,
           -0.019728185782435303,
           -0.08948921186546803,
           -0.23491227842051615,
           -0.4953854534926623,
           -0.919616979357118,
           -1.9380037633380294,
           -1.3195377015456153,
           -1.6379518702108509,
           -1.3758237207007986,
           0.04236949298759296,
           -0.14237885855841267,
           0.19887507675925872,
           0.12858748445903403,
           0.45317932394942934,
           0.1286359995521864,
           0.013340418712959642,
           0.23382911513963656,
           0.10908713723899596,
           0.25477183088379074,
           -0.2873412400621644,
           -0.07014046320543972,
           -0.0750460324116952,
           -0.19273433276806043,
           -0.13720281100340298,
           -0.009013028778782644,
           -0.31413943643696496,
           -0.8052426034881511,
           -1.4755819629733151,
           -1.6466730654542605,
           -1.5236971963306314,
           -1.648734837131899,
           -1.4517611142600355,
           -1.823128947894525,
           -0.5829827181460204,
           0.06292770797989206,
           -0.21192179617703402,
           -1.3130800581202624,
           0.1961996451635825,
           -0.11857959797400462,
           -0.6830839099756074,
           -0.9047738964544404,
           -0.22397969845735788,
           -0.24868077695840954,
           -1.3997603493522093,
           -0.1265473410541642,
           -0.882254075063746,
           -0.7734477296368576,
           -0.6114046476512719,
           -1.3284955087562784,
           -1.1683340369157955,
           -1.3209881378258828,
           -1.5059429637248143,
           -0.8217719031314159,
           -0.5663614298667558,
           -0.8769162530351755,
           -0.12817657313054845,
           -0.05137873756379498,
           -0.02413100589827898,
           -0.22185274100951577,
           -0.0009438514551254976,
           0.098459075048987,
           -1.449396040811243,
           -1.7599948546966617,
           -1.4716188941481307,
           -1.4712087867294288,
           -1.3829951370004914,
           -1.8012315803123775,
           -1.7622331789239178,
           -0.7939635164461796,
           -1.511828166224533,
           0.13863583265575627,
           -0.0443317776521225,
           0.12816691962895904,
           0.16906083628564753,
           -0.0027520922558238537,
           -0.03639244384872119,
           0.009949297926076179,
           -0.13483560160986452,
           -0.1707183138295019,
           -0.25512461289758626,
           -0.3207902820060535,
           -0.3352148028600726,
           -0.9197613336274383,
           -0.7236828516929119,
           -0.8017364747684637,
           -0.9478330855890656,
           -0.5771231367626186,
           -0.5970027259705707,
           -0.9282878562335712,
           -1.5309707735171767,
           0.05039137873741606,
           -1.9708045191242638,
           -1.5903731798367833,
           -0.41393803481850916,
           -0.3493106436996054,
           -1.5624097116869469,
           0.017900570725050233,
           0.16338993189644407,
           -0.3724164084873404,
           0.1922849911683169,
           -0.042094011022558595,
           -0.016960354173031086,
           -0.01709046826731839,
           -0.35679228616634306,
           -0.4839442606561511,
           0.07266332909601529,
           -1.6386130557608705,
           -0.35534184361185206,
           -0.6185658760462254,
           -1.6726536664419207,
           -1.5457911146986667,
           -1.045914243479259,
           -1.040758890123482,
           -0.853621575378964,
           -0.2640598604969554,
           -0.19638184556981933,
           0.1882230783871225
          ],
          [
           0.08459133396281392,
           -0.621788900638409,
           0.021096490096072413,
           -0.08973497770667264,
           -0.776281368162479,
           0.06263951604039082,
           -0.3219877730314626,
           -0.007562122179389584,
           -1.9380037633380294,
           -0.004728697677856499,
           0.14575064927328082,
           0.11570621780553493,
           0.3539013971896985,
           -1.5130205233267386,
           -1.044067686507561,
           -1.9650864154056407,
           -0.1700883502678102,
           -0.11270205997573665,
           0.09668390887975134,
           -0.4860537155090792,
           -0.09240852475742095,
           0.21114006551952247,
           -0.6581879663008379,
           0.14332138186732152,
           0.04103777173361276,
           0.17832180696257013,
           -0.499779475777752,
           -0.07822172909095028,
           -0.17681941456965355,
           -0.6302744767333354,
           -0.6341839747289942,
           -0.47518290167222405,
           -0.4861929289161077,
           -0.8988340256019758,
           -0.48737637456973437,
           -0.9637665141178867,
           -0.8760698725795271,
           -0.19918448958210133,
           -1.330709079512867,
           -0.3511170375015765,
           0.21667029977824262,
           -0.02401444577916381,
           -0.10215658929274447,
           -0.11689844697583178,
           0.14865036539878554,
           -0.09431515063665503,
           -0.268820071310609,
           null,
           0.0826090006513588,
           -0.013558388515735752,
           0.25349645856143377,
           -0.08191356984485555,
           -0.8228023442779095,
           -0.22554417941777044,
           0.016103552861739843,
           -1.5030195129496924,
           -0.05532271529610555,
           -0.2892971118643511,
           -0.5888354354650697,
           0.27014455700217627,
           0.3585893329323549,
           0.2982153545790274,
           0.004701315760766396,
           0.07291539063198683,
           0.12437376890381562,
           0.0481069950341636,
           0.44647813807788556,
           -0.6351565332048206,
           -0.09255195821622773,
           0.1392534758796466,
           -0.3755773717935893,
           -0.006639017209980534,
           0.11172071150975536,
           0.024866114084834103,
           -0.07428268073200046,
           0.040997165401633666,
           -0.6603798950586828,
           -0.4134145589713545,
           0.0388813633076488,
           -0.11835550255023332,
           -0.13181025164730953,
           0.1923595840286586,
           0.3782901756720626,
           0.16505933182264387,
           -0.0889813619274266,
           -0.02415251860877123,
           0.021643148588646906,
           -0.10418333438942029,
           -0.3438210269111567,
           -0.5206468689909958,
           0.01583285276913257,
           -0.2733401804288844,
           0.007537781262028077,
           -0.21858354376079872,
           0.19058102593774745,
           0.19137170750517474,
           -0.24022663092546073,
           0.22332288523853044,
           -0.34299307331788204,
           -0.05181755900064952,
           -0.5554565236753545,
           -0.14748783501686366,
           0.006920544402561178,
           0.15922475686286156,
           0.035130218820039825,
           0.03944512588796891,
           0.041260918076694256,
           -0.17491572227506952,
           -0.17360823976274706,
           -0.7139070564738086,
           -0.7657662393546127,
           -0.31672401879413997,
           -0.21470130904969972,
           -0.14195094312577325,
           0.5463602443835892,
           0.4287040442785448,
           0.005598406170616449,
           0.06759057478726317,
           0.33193730430581847,
           -0.3071689858889399,
           -0.050181352253717726,
           0.1442260896081413,
           -0.08779534337236632,
           -0.04511686153262466,
           0.09129628248048113,
           -0.025608335047853533,
           -0.05958145471012142,
           -0.292004669482036,
           -0.1243718849231868,
           -0.30394242017009443,
           -0.2673353010478492,
           -0.3641171719990168,
           -0.15132122723455346,
           -0.47102883000759665,
           -0.06016362228875984,
           0.009250582770793908,
           -0.21835797897231146,
           0.015516539526277705,
           -0.15448642985522157,
           -0.45295151879864637,
           -0.23777627988108638,
           -0.5819740103104639,
           0.2315630397406063,
           0.22563151233191,
           0.14480681493972578,
           0.4693142130661161,
           0.03447786673963309,
           0.1759385304133955,
           5.1057177882266394e-05,
           -0.2612397050177371,
           0.07473714426823744,
           -0.10026586613579465,
           -0.5939170564787315,
           0.037223698038182505,
           -0.21297985140720602,
           0.35676337990765405,
           -0.09633394272754621,
           -0.38483506780123955,
           -0.3247758782810917,
           0.09123513740403148,
           0.04777538541030043,
           -0.22411184203856696,
           0.09393235723238359,
           -0.07540316870198747,
           0.1198730847513829
          ],
          [
           -0.007195190377810996,
           -0.4220974111556786,
           0.007561149881439369,
           -0.7301066118181566,
           0.08917028534987301,
           -0.01239651172607669,
           0.0034797579905403546,
           0.020005880263965305,
           -1.516804800983275,
           -0.06508130378799544,
           0.19584454113711813,
           0.14981774035795514,
           0.0027058190260569855,
           -1.6944439793320456,
           -1.9437018877857712,
           -1.5385967580684157,
           0.04742662217896721,
           0.029363177557271265,
           0.04681228256878553,
           0.0486244483642036,
           -0.34841447274424775,
           0.06002608299363701,
           -0.5095062085860788,
           0.4303023048594327,
           -0.26907326327241227,
           -0.0061070125106335305,
           -0.5690483961826146,
           0.09938348591961985,
           -0.4398779342939152,
           -0.467610870288508,
           -0.6870568365810052,
           -0.5975039554952981,
           -0.6536333609533618,
           -1.6698847445240972,
           -0.38739187026130395,
           -1.4159486548762077,
           -1.545411306296358,
           0.34892619887413834,
           -1.5584189328444118,
           0.059293402650385,
           0.2994437935792845,
           -0.15739861067323646,
           -0.06842192727922904,
           -0.03633328783581752,
           0.10943510519269434,
           0.036167284674768735,
           -0.10620682809680594,
           0.08558187003143984,
           -0.020593721569994658,
           0.05997654435914091,
           0.16552058804253858,
           0.1768273272614617,
           -1.1689336812721256,
           -0.01599798962970809,
           0.03419582848802809,
           -1.5224560308103428,
           -0.31562945952443583,
           -0.8537677585687136,
           -0.9794997371934322,
           0.4009866962173006,
           0.2317199614186595,
           0.3762455523699487,
           -0.025828716599985712,
           -0.05699983502354547,
           -0.018342800836679173,
           0.17493773972402438,
           0.19109654642613477,
           -0.5740787354069576,
           -0.40183396596585264,
           0.11343769328132836,
           -0.010676785041931612,
           -0.13032245642827453,
           -0.0686348628175293,
           0.11077920050209841,
           -0.012932871277014165,
           0.14040981240827902,
           -0.12590707470713508,
           -0.08268876331276356,
           0.19504313796559036,
           0.33910986291316414,
           -0.11005436803206799,
           -0.4247067118923549,
           0.16153303152044315,
           -0.40102829269996426,
           -0.40290126489793854,
           0.014959661811801514,
           -0.09559199889322008,
           -0.730418988410225,
           -0.08817398866351536,
           -0.08046427817657625,
           0.06774431148609651,
           -0.18994153409427197,
           0.11274385109536382,
           -0.2151400863724346,
           0.22398112092377498,
           -0.05640703735625506,
           -0.255611106838169,
           0.14296767946503325,
           -0.20217653161375193,
           -0.3610860223776504,
           -0.21913835624172592,
           0.03851660797096504,
           -0.1733922084616292,
           -0.052716830148614634,
           0.1451686388934059,
           0.1490667167539385,
           0.06440567594141626,
           -0.07435398987921762,
           -0.15237326764534304,
           -0.28357137983554254,
           0.014733394450091891,
           -0.13197092664586627,
           0.10279874158962077,
           -0.16155528960564175,
           0.21388988840841203,
           0.37133077892798694,
           -0.10994931575932913,
           -1.1320074897433205,
           0.1325145049784001,
           -0.04494904555348102,
           0.06806372714874216,
           -0.09074807075002166,
           -0.059235703758395986,
           0.0020293469868986197,
           0.06754299783304656,
           -0.10057836652740372,
           -0.09117614962497694,
           -0.10635914296721971,
           0.016874666177032715,
           -0.11810991118246993,
           -0.21895298128750826,
           -0.0289754994876756,
           -0.31531826696473947,
           -0.14279133321838114,
           -0.196478876473775,
           -0.032622882644727624,
           -0.8864941154720367,
           -0.06857452059295491,
           -0.42249940931951085,
           -0.11606376226744347,
           -0.06475002498393356,
           -0.30050747567851877,
           0.38271976074404024,
           0.15109615121873823,
           -0.25634414593770116,
           0.1531305494817235,
           0.004744778303348923,
           0.14668519484982082,
           -0.09580342594767721,
           -0.016019954933793146,
           -0.044638831348527024,
           0.06295755355062614,
           -0.08930140179031548,
           0.2650310068332527,
           0.1595725401484851,
           0.32900406016242156,
           0.10166379250723316,
           -0.055893051375640025,
           0.016148842996110854,
           -0.3555306989123836,
           0.02187569103584114,
           -0.23527680481845012,
           -0.13040006678712782,
           -0.3097771714004238,
           0.0663390152801231
          ],
          [
           -0.20607570367594696,
           -0.494849315442762,
           0.17832347682008587,
           -0.21969570041363334,
           -1.9650864154056407,
           -0.24702339328823236,
           -1.109339160933442,
           0.1395420115392008,
           -0.921565289185031,
           -0.3532783526200969,
           0.11141099276856259,
           0.1229052291043905,
           -0.8635612490187455,
           -1.2717287333775094,
           -1.948930688843147,
           -1.2545980662654515,
           -1.1669150951790617,
           -0.6049979061913365,
           -1.1180690383875824,
           -0.4974504993402354,
           -0.10893700938288216,
           -0.2547803970751116,
           0.15241343134668217,
           -0.5023633583143327,
           -0.28169917310198306,
           0.16238333210921763,
           0.15381093708040497,
           0.16519531690241082,
           -0.11674161719649666,
           -0.5567428555623705,
           -0.013558388515735752,
           -0.8368045391865593,
           -1.1661093673680498,
           -1.0666317893001358,
           -0.20695352703793218,
           -0.6054766944772172,
           -1.9650864154056407,
           -0.8388684783831285,
           -0.013558388515735752,
           -0.26896565790199295,
           0.04938887215040792,
           -0.24165134660104332,
           0.1636228374543411,
           0.0024370062113167287,
           -0.06446584749079562,
           -0.06636099164300087,
           -0.2949188711766675,
           -0.054219235155235246,
           -0.3481537459455404,
           0.09831150504110661,
           -0.028193894862927865,
           0.0413459726413001,
           -0.613368037013003,
           -1.0116225496581819,
           -0.2630731630852223,
           -0.6009785168673187,
           -0.9184681546865499,
           -0.9854639657857923,
           -0.7274014605239557,
           0.31697918802428926,
           0.47317987562705394,
           0.6504413217969967,
           0.04069024290125134,
           -0.36889645657595715,
           -0.12864598975082212,
           0.26163800442683044,
           -0.06590051345206999,
           -0.44460729818424555,
           0.08646954899441382,
           0.04069024290125134,
           0.01902728564321566,
           0.13973851807706963,
           0.019242206573017447,
           -0.11505958439998076,
           -0.17225767354855873,
           -0.39174646145565756,
           -0.010855298104852362,
           -0.3090554715557165,
           0.45321369440716036,
           -1.4575461460660184,
           -0.19123739851711186,
           -1.708046294543099,
           0.16795356514662393,
           -0.3362967298222036,
           -0.33742084903807434,
           0.12437249444624976,
           -0.29949861924093873,
           -0.549268457049519,
           -0.048090277452541116,
           -0.22560182694944417,
           0.08303971846782508,
           -0.43563300252702347,
           -0.022167798516254875,
           0.11753503094977853,
           0.04069024290125134,
           0.04708795380207581,
           -0.3207334050789086,
           0.3745329312430135,
           -0.9309958584800405,
           -0.31109251264375265,
           -0.576561763794458,
           0.041039584879374987,
           0.058685267181404877,
           -0.10614748058397755,
           -0.32452164806855266,
           -0.07496128118046512,
           -0.012703506774331581,
           -0.19642472151782547,
           -0.1801694766795239,
           -0.8493432003027387,
           -0.9469354487787349,
           -0.542884440421913,
           -1.6203692868541406,
           -0.451478528031241,
           -0.827618638453777,
           0.3727801159441386,
           -0.3678162431644293,
           -1.0606193443921241,
           0.319133799869989,
           -0.2499047905099131,
           -0.10185185844698054,
           0.013667167205245908,
           -0.15007650563200928,
           -0.02763426158082485,
           -0.09764064067532881,
           -0.00777578276583828,
           -0.113316107235577,
           -0.2728463476125081,
           0.1382903323110208,
           -0.22332738532595883,
           -0.12927862398279885,
           -0.07275435720660511,
           -0.4523555995324833,
           -0.012013964785687715,
           -0.001687455809984889,
           0.0374462870021183,
           -0.673085873885806,
           -0.6358657888992701,
           -0.3936299119028064,
           0.0374462870021183,
           -0.008134374936256383,
           -0.4391613728045829,
           -1.140294936884622,
           -0.12004176787003921,
           -1.2402612463180696,
           0.1941401999373673,
           -0.15898339122371116,
           0.2133587567668042,
           -0.2173270833722667,
           -0.2130285782356515,
           0.2769459851282612,
           0.19421207254593903,
           -0.06701347390295656,
           -1.23478673496846,
           -0.0860141850317629,
           0.0374462870021183,
           0.08465527213404131,
           -1.4904688106058206,
           -0.7600210959846128,
           0.010945179484798376,
           0.0019795820889741598,
           -0.5520333044145752,
           0.025425472680182432,
           -0.586032094760661,
           0.12994299797425424
          ],
          [
           0.17994617334325025,
           -0.26719146342235506,
           0.23565775136135597,
           -0.1965758176448439,
           0.06584706516902603,
           0.10826922506014292,
           -0.06859072675584287,
           -0.0802852928685121,
           -1.1069405292406485,
           -0.18586386171634728,
           0.16943542945803855,
           0.08215213521080818,
           0.2651342668120917,
           -1.3021008833718286,
           -1.9380037633380294,
           -1.9380037633380294,
           -0.08196129117808655,
           0.12836371227550414,
           -0.5178485330356993,
           -0.9671147316370478,
           -0.13136694453502082,
           -0.033902935345646014,
           0.3622813983105105,
           0.043080053704733265,
           -0.03554382506041125,
           0.44553711562004333,
           -0.3929533629294713,
           0.09799406681867351,
           -0.2649438109486959,
           -0.3712328281456,
           -0.20845628959329351,
           -0.7456434423945941,
           -0.7200982545916635,
           -1.9650864154056407,
           -0.8470396359504602,
           -1.2746379319489403,
           -1.9380037633380294,
           -0.13754114316041555,
           -1.3115661258693352,
           -0.19072587343466496,
           0.0335611666910629,
           -0.0922638777127331,
           0.10178576036111624,
           0.031910656348740435,
           -0.10229737804426103,
           0.04497476291035576,
           -0.23807968091134044,
           0.266730503439361,
           0.03654433644648425,
           -0.3002200345394299,
           0.13851184410759945,
           0.07126666144898755,
           -0.4107078238366544,
           0.20512697227156518,
           -0.031039545552606115,
           -0.8874087538692429,
           -0.2161993449383279,
           -0.03831448193484307,
           -0.8892250099059417,
           0.26447182570629635,
           0.6523596765246343,
           0.4155007768844748,
           -0.11390072917380731,
           0.011659852598360446,
           0.15419210927240057,
           0.04069024290125134,
           0.27045676417188264,
           -0.2806345903889333,
           -0.05756232276641413,
           0.3282033747886623,
           0.04069024290125134,
           -0.03549034443720617,
           0.1354004652319194,
           -0.05927589568162128,
           -0.005188856379658173,
           0.08795965690124741,
           -0.6659321008974928,
           0.011565649542383996,
           0.15867810912309405,
           0.11822940602558014,
           -0.11523890811305028,
           0.0692101554397212,
           0.2708865809285875,
           -0.18578815887712938,
           -0.8828247388508867,
           0.24433199239945322,
           -0.06662632857470636,
           -0.2527126396391329,
           -0.06423729186338263,
           -0.03618544492562772,
           0.41302744178389844,
           -0.13078382859961754,
           -0.0017927488796268395,
           0.13015149165512893,
           0.2745178154559176,
           0.2511960345600621,
           -0.046943005398902136,
           0.24894837620112908,
           -0.1935200351895127,
           -0.08221182396315119,
           -0.03006064040381056,
           0.10733545822970109,
           0.023171530955944458,
           0.09952341277956668,
           -0.05840726526101165,
           -0.07229291651141447,
           -0.06509542008408173,
           -0.3239109993689057,
           -0.2853638551431342,
           0.04069024290125134,
           -0.39125925135569756,
           -0.03493844370512804,
           -0.03406442478311477,
           -0.13624045348173386,
           0.5290205669430339,
           0.33203573213905274,
           0.08822246538535969,
           -0.6895136492237016,
           0.3087330650143077,
           0.026081399209383346,
           0.08190843648789134,
           0.014640443356804464,
           -0.0702353875669111,
           -0.09015676835452723,
           -0.09867462539669478,
           -0.27844553742584854,
           -0.30863369793658835,
           0.0939634745905974,
           -0.1192683992088236,
           0.07938269697957241,
           -0.2782200394936786,
           -0.06859222269923675,
           -0.30215984092655124,
           -0.000868674509675732,
           -0.0017576257666525597,
           0.04098562523589218,
           -0.2215470910405198,
           -0.18714478641738008,
           -0.14776197805614175,
           -0.20390815489040182,
           -0.2459031762965478,
           -0.4953063924542942,
           0.27449810679894,
           0.11088201479832155,
           -0.5108851601437014,
           0.24338835426448432,
           0.13941739841788228,
           0.643074465978227,
           -0.1361962704595097,
           -0.2458054940404334,
           0.21353420990728011,
           0.1913406846672031,
           -0.29524255297937113,
           0.21994137598345972,
           0.029903153634182306,
           0.13867920522753488,
           0.02365619004550627,
           -0.1287229493538498,
           0.7323050405576336,
           -0.023760756078741313,
           0.20480641384622156,
           0.14229118966662643,
           -0.009867225544023474,
           -0.3123592378437359,
           0.14787774388483746
          ],
          [
           -0.16238513445343267,
           -0.9123555195430968,
           -0.2573042467310189,
           -1.0543728627627735,
           0.13031297159604563,
           0.0008687841504461885,
           0.151307687184039,
           0.08701420350707878,
           -0.8152888251005908,
           -0.013640594545926537,
           0.050806788069151156,
           0.1511193686204412,
           0.2968910263631156,
           -1.9380037633380294,
           -1.4531945820168506,
           -0.9265681213029314,
           -0.36326763723569594,
           0.0600635226332509,
           0.0541688973327152,
           -0.013558388515735752,
           -0.1986063065135264,
           -0.17679431020534778,
           -0.013558388515735752,
           0.3650002471972873,
           -0.29980169567032916,
           0.1907775081501032,
           -0.9710058614188933,
           0.0010864083508005755,
           -0.42180490339463816,
           -0.49078388815593454,
           -0.3738642701764985,
           -0.9513497957657497,
           -1.0744651640943144,
           -1.0944086707574376,
           0.076223224145061,
           -0.6005748306752916,
           -1.439093761720577,
           0.0777982750365883,
           -1.5476147182843727,
           -0.056388526731002635,
           0.20928822179114306,
           0.04191263182370985,
           0.07334435373868493,
           0.023266577324096538,
           -0.09118498838207069,
           -0.2039990333279731,
           -0.24086513837222145,
           -0.0383840880180217,
           -0.028367978862037447,
           -0.08763607689072585,
           0.17579358835112688,
           0.07120656095253357,
           -1.9437018877857712,
           -0.013558388515735752,
           -0.08207884522129351,
           -1.7547471022885353,
           -0.043694784895466444,
           -1.1067236738864474,
           -1.0479262922591797,
           0.35074684941275774,
           0.35805083331345133,
           0.2628911727767311,
           0.19965089993845106,
           -0.22044389094256842,
           0.19620872457308922,
           0.14379548529092337,
           0.3493675854830886,
           -0.5678323578224972,
           -0.17401272366366657,
           0.307466784660594,
           0.05831097210553392,
           -0.13157108125870054,
           -0.09975422930591217,
           0.18668090926236447,
           -0.024533706753889536,
           0.20880724390116537,
           0.43673502976632717,
           0.07271342293438778,
           0.12396354274841818,
           -0.028289114891126853,
           -0.2043848640941033,
           -0.8832004935351971,
           0.04069024290125134,
           -0.2505642556384266,
           -0.18161541111828675,
           0.0024675904832422626,
           -0.3729776366680894,
           -0.06999317553096313,
           -0.08418933428029589,
           -0.09501975948761943,
           -0.00643413753190702,
           0.04069024290125134,
           -0.05059560685074433,
           -0.2037937539906516,
           0.19258487514460307,
           0.37411437420740246,
           -0.5107234628551951,
           0.031822155995761055,
           0.04069024290125134,
           -0.11091281839280022,
           -0.09595962678265339,
           0.20176581194534576,
           0.03250740159913315,
           -0.3629260104809994,
           -0.04763460972310582,
           -0.16042887836050024,
           -0.3206301776789985,
           0.13802115017958122,
           -0.25218993299241993,
           -0.14569298053920024,
           0.18565777331068578,
           -0.0026550265475538495,
           -0.07197994147874723,
           -0.5464415830898347,
           -0.535283425022094,
           0.42908574094086954,
           -0.22572161728001183,
           -1.3762761108738257,
           0.05872171579701888,
           0.03835413864271146,
           0.06302088921296899,
           -0.15109580343516113,
           -0.12876278199355862,
           -0.010645467671326765,
           -0.1900927806326234,
           -0.08855055307571987,
           -0.1476171386700702,
           -0.04299461767040791,
           0.06546311923663506,
           0.136066865972057,
           -0.07670571642116346,
           -0.05485378388684579,
           -0.32513237668756884,
           0.0018905305130811068,
           0.12051097414923506,
           0.06241748898950399,
           -1.0045454984567233,
           0.0374462870021183,
           -0.5324084684769056,
           -0.1715542742554477,
           0.0374462870021183,
           -0.5308931672025797,
           0.4042009107323192,
           0.04596525984408306,
           -0.9536450842296135,
           0.10857248889580959,
           -0.08843457045992663,
           0.0513619243767464,
           -0.032588418832297614,
           0.06346012429704471,
           0.34714397249929396,
           0.24299853027621618,
           -0.44485081179825176,
           0.3327853825466297,
           0.2606648147511685,
           0.19003729556632032,
           -0.03513145976769772,
           0.9635095664860476,
           0.22398479056013096,
           -0.49021987076838835,
           0.11400145363616077,
           0.0374462870021183,
           -0.06845199584101429,
           -0.5122429589310634,
           0.005415691832122954
          ],
          [
           -0.3097653850438158,
           -0.25885398817828026,
           0.06775993190194247,
           -0.28823020688904744,
           -0.0312897502746983,
           0.05045013349131311,
           0.10838194628635711,
           0.044394420569348364,
           -1.7226401134034226,
           -0.08278366286703935,
           0.4329563658047694,
           0.00211449124617036,
           -0.1337918849065687,
           -1.6945428588737315,
           -1.4212932812145749,
           -1.8521614204958816,
           -1.2590646434201458,
           0.14361230505675818,
           -0.07313280531671555,
           -0.3759164216502818,
           -0.22176741563273375,
           -0.0009727473198596209,
           0.4854220732503775,
           -0.15080766246197386,
           -0.07916061456246719,
           0.3701250907094371,
           -0.6893297922454639,
           -0.07829008862555868,
           -0.3830246092112652,
           -0.4180450458911648,
           -0.06964151355111835,
           -0.6109173382166264,
           -1.3109910162383374,
           -1.5749497041261271,
           -0.4302954381284072,
           -0.46398765182366514,
           -1.5325415807254659,
           0.29242592033821574,
           -1.444267521944531,
           -0.3953175987451752,
           0.15607281678969745,
           -0.10144711520036792,
           0.16442255270903017,
           -0.10486062012827328,
           -0.16918260656850803,
           0.07868352560679247,
           -0.2423213095968899,
           -0.41417445653894114,
           -0.1507116319512382,
           -0.11961950667321312,
           0.06318948138379041,
           0.010068199002333562,
           -1.0722599459495388,
           0.03835016371445415,
           0.13240139036216333,
           -1.4715978637415128,
           0.2044543962693001,
           -1.3338956783349252,
           -1.5121760734879732,
           0.25418626190536847,
           0.4247673966346092,
           0.3362565990724214,
           -0.021258289871339823,
           0.01865849145804849,
           0.19220474788338068,
           0.031379254713207426,
           0.22129819607976897,
           -0.2989398468206509,
           -0.2290569085344306,
           0.3074403313706766,
           0.27046746227118207,
           -0.1402992800131977,
           0.005669131791576437,
           -0.4398882322899251,
           -0.03827065244973547,
           0.24548224223785262,
           -0.5300865211569816,
           0.025046608241063573,
           0.23309220679301754,
           -0.04450024629647444,
           -0.17645294257068367,
           -1.0154547225958253,
           0.10696000727040764,
           -0.31583135733185047,
           -0.4721290225482213,
           0.1681449934868002,
           -0.07725198781149001,
           -1.0609922640149339,
           -0.05480308611242424,
           0.06715549195965656,
           0.2719892215880259,
           -0.12650262472260232,
           0.13687753862839933,
           0.06162380012990399,
           0.26260703733318047,
           0.008447108181298624,
           -0.199887653616192,
           0.3637853868412345,
           0.00585889701945061,
           0.1663007118053643,
           -0.10250718115269643,
           0.18379358425371095,
           0.12353221508259021,
           -0.009917340491778684,
           -0.07435738432385895,
           0.36811748523732923,
           -0.09238092563055353,
           -0.2331114766795715,
           -0.31986999251270154,
           -0.2590790455933169,
           -0.3048785422035212,
           -0.04084728295235287,
           0.04368168788460334,
           -0.1857593802149462,
           0.46916805151888535,
           0.27340146764318507,
           -0.15567943815349417,
           -1.5737249560006896,
           -0.001832506934709333,
           -0.12074858398450372,
           -0.12775279087823083,
           0.03352936834850644,
           -0.04995299961031603,
           -0.026756503738305796,
           -0.12039064608160503,
           -0.01994102729632903,
           -0.18104215549283031,
           0.008577995838165639,
           0.2096664864588833,
           -0.02882825449484647,
           -0.2292066834491944,
           0.03608814619118483,
           -0.21814270747966957,
           0.010374247229952878,
           0.09674242607444489,
           0.12900466691566156,
           -0.9479486406322373,
           -0.13517155079630197,
           -0.2595398563075068,
           -0.08529707142671335,
           -0.020948666830883145,
           -0.4310961856436534,
           0.29643297168146177,
           -1.2276308958241415,
           -1.1607156825664315,
           0.27400564596734744,
           -0.10012151304569508,
           0.34729876616601885,
           -0.19401202755836355,
           -0.07847884932282351,
           0.1027689624967224,
           0.16772510374278773,
           -0.21825222298957062,
           0.3925935133685414,
           -0.03298415727128159,
           0.1315942194169559,
           0.061759063762659314,
           0.027511799138353766,
           0.1750154409460538,
           -0.19245635266538952,
           0.1118244532674551,
           0.0002606995252325906,
           0.1271678763914761,
           -0.3596795462627433,
           0.12657757161935956
          ],
          [
           -0.017037689902018177,
           -0.2802477315093637,
           0.17279166236284565,
           -0.4770480301857858,
           -0.1313440957986721,
           -0.20323804429587333,
           -0.43366715730873234,
           -0.09783836567520135,
           -1.4124579257796226,
           -0.1483859382123253,
           -0.02613043720470076,
           0.16987874234708158,
           -1.0176965076912845,
           -1.9650864154056407,
           -1.9650864154056407,
           -1.9380037633380294,
           -1.9650864154056407,
           0.3469603472391356,
           -0.8413780754903964,
           -0.8329508718769372,
           -0.11526851551490332,
           0.06434334453125487,
           0.6546168914702695,
           -0.553627559648536,
           -0.44961197445576345,
           0.3198019523548662,
           -0.07976449902351102,
           0.09989840501892527,
           -0.15964063785374513,
           -1.1083961416540398,
           -0.541282089517837,
           -0.5964539913246177,
           -0.681039269866672,
           -1.9380037633380294,
           -0.4282172444573167,
           -0.242541691958457,
           -0.9160692746628749,
           -0.6610451130798584,
           -0.4737843066972576,
           -0.15404701782858585,
           0.14816941143804477,
           -0.35009835194701117,
           0.13642303163194736,
           -0.1736674066764668,
           -0.1272307471807879,
           -0.2035890502056472,
           0.030321129406160142,
           -0.1410519133967873,
           -0.4270311433667229,
           0.17577132249716543,
           0.012676994315607436,
           0.07737334446074598,
           -1.2306908179368259,
           -0.32659979930491967,
           -0.16145133519043253,
           -1.4226743999905984,
           -0.45102748082757405,
           -0.6803943851474722,
           -0.5560754675324522,
           0.11761081937943235,
           0.39624364287605196,
           0.6392599069380975,
           0.004432753296888338,
           0.043312236182889874,
           -0.060189282796807575,
           0.1384158527448609,
           0.1866799277028743,
           -0.19193039463191158,
           -0.13245429871026018,
           0.07681593191262015,
           0.050503442259688724,
           0.02188557737545337,
           0.05268744459254691,
           -0.08911226208389,
           -0.380198611669639,
           null,
           0.04069024290125134,
           -0.26707221649134355,
           0.40324376427297937,
           0.1065875937634303,
           0.07144963133970404,
           -1.708046294543099,
           0.21046037926866115,
           -0.29247789616833253,
           -0.7188023379683506,
           -0.047957984318826696,
           -0.5503225764237233,
           -0.17124749245624063,
           -0.04495338872618453,
           -0.3819556201945335,
           0.10832981984713166,
           0.030275300390415802,
           -0.2275933395939479,
           0.3067303421329578,
           -0.05746044752033902,
           0.13438448491220897,
           -0.47930648477370985,
           0.28874046819933635,
           -0.006117824741939513,
           -0.044650364225676406,
           -0.40589344658636545,
           -0.03706630248188721,
           0.16751032867618734,
           -0.01674434117573461,
           0.08397840993680485,
           0.08214077004711606,
           -0.13375045101204483,
           0.31323560457608607,
           -0.14533809325055105,
           0.20899189688350975,
           -0.5180436758435506,
           -0.05184977779973554,
           -0.9490783419416312,
           -0.44390369767369364,
           -1.9708045191242638,
           0.4792153346829115,
           -0.26623430863756953,
           -1.189070674201823,
           0.2998002135020454,
           0.05058192975745272,
           -0.09954801804981493,
           0.1242426730591705,
           -0.23020268087142912,
           -0.07800214158027907,
           -0.042783256877849396,
           0.23318579258527686,
           -0.02988923032838677,
           -0.22462335569845895,
           0.11536572801324861,
           0.07187270865176192,
           -0.5808152233648896,
           -0.00635486433130732,
           -0.3984275213412643,
           -0.17328045817427162,
           -0.1956112072887971,
           -0.10093494668740421,
           -1.1112946966986945,
           0.04558423653353069,
           -0.2822936390389942,
           -0.1202745596680429,
           0.13956586555705472,
           -0.3478630469903799,
           -0.9886443746097783,
           -0.509582834875942,
           -1.6301998099364738,
           0.36114176931342534,
           -0.26593471744943015,
           0.09084486588143337,
           -0.052892725900798944,
           -0.5176941567122978,
           0.3733760344664882,
           0.15972996310411922,
           -0.3151035212264034,
           -0.40524495497222374,
           0.0374462870021183,
           0.06623322100995666,
           0.06198495505733944,
           -0.6232695690914911,
           -0.04350330442554626,
           -0.21955850010072112,
           -0.07911487970559562,
           0.04988066469535077,
           0.03939238103770792,
           -0.34919197047630474,
           0.19493115811040312
          ],
          [
           -0.25515523114180577,
           -1.0192847771282645,
           0.1828363021055631,
           -1.0417535109002618,
           -0.38266480548805226,
           -0.2556780666187756,
           -0.27567397353797063,
           0.16965881862901008,
           -1.948930688843147,
           -0.14929905985063766,
           0.2029270382182828,
           -0.0641682650149995,
           -1.948930688843147,
           -1.9650864154056407,
           -1.0379526593344612,
           -1.9650864154056407,
           -0.5691631359759892,
           -0.7210380746785867,
           -1.3259197469593862,
           -0.3751144757318069,
           0.19974194611596716,
           0.004731368480376207,
           -0.4173507711392581,
           -0.27511632329574237,
           -0.0408259370906031,
           0.4130960744906018,
           0.26646007174778863,
           0.16204901208544184,
           -0.091637106381258,
           -0.7746951793709642,
           -0.6351077769327524,
           -0.3829919791823325,
           -1.0357742086580601,
           -1.9437018877857712,
           -0.35781007951982613,
           -0.3674032056878124,
           -1.9650864154056407,
           -0.9127230712652379,
           -0.6421723349546982,
           -0.2468120675441283,
           -0.017661851275889887,
           -0.5066531360428136,
           0.05730063958761865,
           0.11791040398339218,
           -0.23786774981528558,
           -0.22237293771352154,
           -0.39974663318997306,
           -0.411113183900078,
           -0.5449832991922874,
           0.22667388712230538,
           -0.34952040762344644,
           -0.12777002083417657,
           -1.0803030338762643,
           -0.6237064514626545,
           0.26058536898066037,
           -1.0163402011092115,
           -0.5291988320686972,
           -1.708046294543099,
           -0.6799283256373783,
           0.18905264166117813,
           -0.05503290523586927,
           0.5835965308289438,
           0.21592932340082086,
           0.06540786280616172,
           0.046871104778838345,
           0.2827772545913172,
           0.23824567328404828,
           -0.22731312750757623,
           -0.06486403089657312,
           -0.007434218882705207,
           0.3738937895856574,
           -0.09206826819714153,
           0.2321293954693499,
           -0.42226241007619714,
           -0.21227074182226127,
           -0.965798024360109,
           -0.15911557788562522,
           -0.91043199019894,
           -0.13713861466853064,
           -1.1316598420188921,
           -0.12384820940321688,
           -0.5589601953293486,
           0.03325952548922362,
           -0.5726074658278953,
           -1.129609989796089,
           -0.2588177478613329,
           -0.320680624414235,
           -0.12680407975889255,
           0.14680660997194184,
           -0.30695762169068697,
           0.1666400336915931,
           -0.0904257636511777,
           -0.18076567549090658,
           0.5990504286548444,
           -0.17728079413036826,
           -0.0021009414322295597,
           -0.7875147033185647,
           0.3120098942836617,
           -0.6727018501866223,
           -0.26160913838597305,
           -0.5497930177393212,
           0.1125792113452675,
           -0.02976723026019421,
           -0.1412972517547913,
           -0.2643113839706518,
           0.035749943915409255,
           0.004718792780941041,
           0.00821344316027501,
           -0.2818827682169817,
           -0.24772484749329637,
           -1.020872682557226,
           -0.18661862021409878,
           -1.9225329325043614,
           -0.9463349134541028,
           -1.9225329325043614,
           0.3981868662948716,
           -0.12277710046722737,
           -1.696207300940835,
           0.18192197282765799,
           -0.11559019379251596,
           -0.506330544306467,
           0.0603847135919208,
           -0.14160674488860042,
           -0.16600984258433693,
           -0.36549169965058115,
           -0.05633943350083057,
           -0.05042185985464072,
           0.06586599819789912,
           0.11695499556063992,
           -0.3540297159989747,
           -0.4390348741305897,
           0.0711714032479874,
           -0.6288314660832086,
           -0.43581649961867747,
           -0.1747379502000679,
           0.1531471942383304,
           -0.8382392661501983,
           -0.22141199824891858,
           -0.7137009336829436,
           -0.6301121826515766,
           -0.060006605772030576,
           -1.0990350631110994,
           -1.9708045191242638,
           -0.49453975483046864,
           -1.2223215535399126,
           0.275462740159181,
           0.021738787026874384,
           0.4013689432457892,
           -0.2401339984514527,
           0.2070771196193438,
           0.09949507026009029,
           0.0788401729943036,
           -0.38025908509706957,
           -1.1415064205451333,
           0.030045545074257773,
           0.17903674440654585,
           -0.02054402475804348,
           0.06295713274469962,
           -0.013141496765832763,
           -0.21798094709623736,
           0.1028542422638049,
           -0.40051241802918014,
           -0.09427915086213036,
           -0.2796037863066724,
           0.02391399879640736
          ],
          [
           -1.948930688843147,
           -1.948930688843147,
           -1.1528077972422024,
           -1.2640465801503284,
           -1.9437018877857712,
           -1.9650864154056407,
           -1.9650864154056407,
           -0.8712222859744103,
           -1.9380037633380294,
           -1.1913581807981208,
           -1.9380037633380294,
           -1.9380037633380294,
           -1.4752362130937167,
           -1.9380037633380294,
           -1.9437018877857712,
           -1.5020404967952816,
           -1.9437018877857712,
           -1.0360740792617784,
           -1.9437018877857712,
           -1.948930688843147,
           -1.3260265307982795,
           -1.4902161333071788,
           -1.1337516030576884,
           -0.48262871237265215,
           -1.3550969193243902,
           -1.9650864154056407,
           -1.9380037633380294,
           -1.9437018877857712,
           -1.400046887946648,
           -1.2959486719428726,
           -1.948930688843147,
           -1.948930688843147,
           -1.948930688843147,
           -1.0415540100432144,
           -1.1658438394560373,
           -1.9380037633380294,
           -1.1566624745829397,
           -1.2338646553125654,
           -1.228535501787052,
           -1.1717823269161138,
           -1.948930688843147,
           -1.0354609703976267,
           -1.0778736747904005,
           -1.1737973557854837,
           -1.3936700706060587,
           -1.948930688843147,
           -1.0884640705589386,
           -1.1549624195217973,
           -1.9437018877857712,
           -1.9437018877857712,
           -1.4730926493387173,
           -1.9380037633380294,
           -1.9650864154056407,
           -1.9650864154056407,
           -0.8415702150321277,
           -1.7547471022885353,
           -0.996697107654749,
           -1.1130625755181671,
           -1.2215273300298601,
           -1.7547471022885353,
           -1.527697357410944,
           -1.6018630919261632,
           -1.4702746917401404,
           -1.823128947894525,
           -1.2335937692072856,
           -1.7547471022885353,
           -0.996722841227664,
           -1.1507151493439562,
           -1.026731961725638,
           -0.4419470403565925,
           -0.9307779736713473,
           -1.733066064427982,
           -1.0658822340711456,
           -1.2727118369438866,
           -1.4797056113525724,
           -1.7547471022885353,
           -1.0309445885264412,
           -1.4939181203426006,
           -1.150460305394833,
           -0.6252774977108274,
           -0.8111905885375376,
           -1.7547471022885353,
           -0.8418505032572635,
           -1.5956374190773197,
           -1.6131842083427195,
           -1.1077106756124129,
           -1.7547471022885353,
           -1.0544705820010964,
           -1.134404902713286,
           -1.708046294543099,
           -1.491060822042824,
           -1.3333117483522057,
           -1.823128947894525,
           -1.7547471022885353,
           -1.7547471022885353,
           -1.823128947894525,
           -1.823128947894525,
           -0.7748093883466255,
           -1.2182259913013953,
           -0.9185157682566891,
           -1.3319580858514957,
           -1.708046294543099,
           -1.4791291266473043,
           -1.6250046629567276,
           -1.1154797904347622,
           -1.7547471022885353,
           -1.1254964047666003,
           -1.4995601802761025,
           -1.104811366248297,
           -1.823128947894525,
           -1.6439598495582812,
           -1.862210351861319,
           -1.371465550171571,
           -1.862210351861319,
           -1.9708045191242638,
           -1.13071850789097,
           -1.1397403917603957,
           -1.6706509964404133,
           -1.2003732382438457,
           -1.9345839265275018,
           -1.6942322160211478,
           -1.9345839265275018,
           -1.6540549626274335,
           -1.2276249886474804,
           -1.1150160621743321,
           -1.9225329325043614,
           -1.2212800206431211,
           -1.9345839265275018,
           -0.6837452516967556,
           -1.1756591483358503,
           -1.0659382712526306,
           -1.9225329325043614,
           -1.2526788481162003,
           -1.9345839265275018,
           -1.862210351861319,
           -1.9225329325043614,
           -1.9225329325043614,
           -1.862210351861319,
           -1.4901869341983514,
           -1.235692697207391,
           -1.2904740443376834,
           -1.6429031767693971,
           -1.9708045191242638,
           -0.8360202837577959,
           -1.066304703108455,
           -1.4702279729208427,
           -1.1690400962040595,
           -1.0907701617312582,
           -1.608832002032581,
           -1.2272764231884858,
           -1.862210351861319,
           -1.5447089248456713,
           -1.8041210588051946,
           -1.2910605049469466,
           -1.9708045191242638,
           -1.015759161081843,
           -0.9186412229488035,
           -1.6587777253728302,
           -1.9708045191242638,
           -1.9708045191242638,
           -0.842408016762199,
           -1.9708045191242638,
           -0.43628025505398305,
           -0.20149788710544095,
           -0.013268426463439065
          ]
         ]
        }
       ],
       "layout": {
        "coloraxis": {
         "cmax": 1,
         "cmin": -1,
         "colorbar": {
          "len": 0.65,
          "outlinecolor": "rgb(0, 0, 0)",
          "outlinewidth": 2,
          "showticklabels": true,
          "thickness": 20,
          "title": {
           "text": "Fitness"
          }
         },
         "colorscale": [
          [
           0,
           "rgb(0, 0, 127)"
          ],
          [
           0.003937007874015748,
           "rgb(0, 3, 130)"
          ],
          [
           0.007874015748031496,
           "rgb(0, 6, 134)"
          ],
          [
           0.011811023622047244,
           "rgb(0, 10, 137)"
          ],
          [
           0.015748031496062992,
           "rgb(0, 13, 140)"
          ],
          [
           0.01968503937007874,
           "rgb(0, 16, 144)"
          ],
          [
           0.023622047244094488,
           "rgb(0, 20, 147)"
          ],
          [
           0.027559055118110236,
           "rgb(0, 23, 150)"
          ],
          [
           0.031496062992125984,
           "rgb(0, 26, 154)"
          ],
          [
           0.03543307086614173,
           "rgb(0, 30, 157)"
          ],
          [
           0.03937007874015748,
           "rgb(0, 33, 160)"
          ],
          [
           0.04330708661417323,
           "rgb(0, 36, 164)"
          ],
          [
           0.047244094488188976,
           "rgb(0, 40, 167)"
          ],
          [
           0.051181102362204724,
           "rgb(0, 43, 170)"
          ],
          [
           0.05511811023622047,
           "rgb(0, 46, 174)"
          ],
          [
           0.05905511811023622,
           "rgb(0, 50, 177)"
          ],
          [
           0.06299212598425197,
           "rgb(0, 53, 180)"
          ],
          [
           0.06692913385826771,
           "rgb(0, 56, 184)"
          ],
          [
           0.07086614173228346,
           "rgb(0, 60, 187)"
          ],
          [
           0.07480314960629922,
           "rgb(0, 63, 190)"
          ],
          [
           0.07874015748031496,
           "rgb(0, 66, 194)"
          ],
          [
           0.0826771653543307,
           "rgb(0, 70, 197)"
          ],
          [
           0.08661417322834646,
           "rgb(0, 73, 200)"
          ],
          [
           0.09055118110236221,
           "rgb(0, 76, 204)"
          ],
          [
           0.09448818897637795,
           "rgb(0, 80, 207)"
          ],
          [
           0.09842519685039369,
           "rgb(0, 83, 210)"
          ],
          [
           0.10236220472440945,
           "rgb(0, 86, 214)"
          ],
          [
           0.1062992125984252,
           "rgb(0, 90, 217)"
          ],
          [
           0.11023622047244094,
           "rgb(0, 93, 220)"
          ],
          [
           0.11417322834645668,
           "rgb(0, 96, 224)"
          ],
          [
           0.11811023622047244,
           "rgb(0, 100, 227)"
          ],
          [
           0.1220472440944882,
           "rgb(0, 103, 230)"
          ],
          [
           0.12598425196850394,
           "rgb(0, 106, 234)"
          ],
          [
           0.12992125984251968,
           "rgb(0, 109, 237)"
          ],
          [
           0.13385826771653542,
           "rgb(0, 113, 240)"
          ],
          [
           0.1377952755905512,
           "rgb(0, 116, 244)"
          ],
          [
           0.14173228346456693,
           "rgb(0, 120, 247)"
          ],
          [
           0.14566929133858267,
           "rgb(0, 123, 250)"
          ],
          [
           0.14960629921259844,
           "rgb(0, 126, 254)"
          ],
          [
           0.15354330708661418,
           "rgb(2, 128, 255)"
          ],
          [
           0.15748031496062992,
           "rgb(5, 130, 255)"
          ],
          [
           0.16141732283464566,
           "rgb(8, 131, 255)"
          ],
          [
           0.1653543307086614,
           "rgb(11, 133, 255)"
          ],
          [
           0.16929133858267717,
           "rgb(14, 134, 255)"
          ],
          [
           0.1732283464566929,
           "rgb(17, 136, 255)"
          ],
          [
           0.17716535433070865,
           "rgb(20, 137, 255)"
          ],
          [
           0.18110236220472442,
           "rgb(23, 139, 255)"
          ],
          [
           0.18503937007874016,
           "rgb(26, 140, 255)"
          ],
          [
           0.1889763779527559,
           "rgb(30, 142, 255)"
          ],
          [
           0.19291338582677164,
           "rgb(33, 144, 255)"
          ],
          [
           0.19685039370078738,
           "rgb(36, 145, 255)"
          ],
          [
           0.20078740157480315,
           "rgb(39, 147, 255)"
          ],
          [
           0.2047244094488189,
           "rgb(42, 148, 255)"
          ],
          [
           0.20866141732283464,
           "rgb(45, 150, 255)"
          ],
          [
           0.2125984251968504,
           "rgb(48, 151, 255)"
          ],
          [
           0.21653543307086615,
           "rgb(51, 153, 255)"
          ],
          [
           0.2204724409448819,
           "rgb(54, 154, 255)"
          ],
          [
           0.22440944881889763,
           "rgb(57, 156, 255)"
          ],
          [
           0.22834645669291337,
           "rgb(60, 157, 255)"
          ],
          [
           0.23228346456692914,
           "rgb(63, 159, 255)"
          ],
          [
           0.23622047244094488,
           "rgb(66, 160, 255)"
          ],
          [
           0.24015748031496062,
           "rgb(69, 162, 255)"
          ],
          [
           0.2440944881889764,
           "rgb(73, 164, 255)"
          ],
          [
           0.24803149606299213,
           "rgb(76, 165, 255)"
          ],
          [
           0.25196850393700787,
           "rgb(79, 167, 255)"
          ],
          [
           0.2559055118110236,
           "rgb(82, 168, 255)"
          ],
          [
           0.25984251968503935,
           "rgb(85, 170, 255)"
          ],
          [
           0.2637795275590551,
           "rgb(88, 171, 255)"
          ],
          [
           0.26771653543307083,
           "rgb(91, 173, 255)"
          ],
          [
           0.27165354330708663,
           "rgb(94, 174, 255)"
          ],
          [
           0.2755905511811024,
           "rgb(97, 176, 255)"
          ],
          [
           0.2795275590551181,
           "rgb(100, 177, 255)"
          ],
          [
           0.28346456692913385,
           "rgb(103, 179, 255)"
          ],
          [
           0.2874015748031496,
           "rgb(106, 180, 255)"
          ],
          [
           0.29133858267716534,
           "rgb(109, 182, 255)"
          ],
          [
           0.2952755905511811,
           "rgb(113, 184, 255)"
          ],
          [
           0.2992125984251969,
           "rgb(116, 185, 255)"
          ],
          [
           0.3031496062992126,
           "rgb(119, 187, 255)"
          ],
          [
           0.30708661417322836,
           "rgb(122, 188, 255)"
          ],
          [
           0.3110236220472441,
           "rgb(125, 190, 255)"
          ],
          [
           0.31496062992125984,
           "rgb(128, 191, 255)"
          ],
          [
           0.3188976377952756,
           "rgb(131, 193, 255)"
          ],
          [
           0.3228346456692913,
           "rgb(134, 194, 255)"
          ],
          [
           0.32677165354330706,
           "rgb(137, 196, 255)"
          ],
          [
           0.3307086614173228,
           "rgb(140, 197, 255)"
          ],
          [
           0.3346456692913386,
           "rgb(143, 199, 255)"
          ],
          [
           0.33858267716535434,
           "rgb(146, 200, 255)"
          ],
          [
           0.3425196850393701,
           "rgb(150, 202, 255)"
          ],
          [
           0.3464566929133858,
           "rgb(153, 204, 255)"
          ],
          [
           0.35039370078740156,
           "rgb(156, 205, 255)"
          ],
          [
           0.3543307086614173,
           "rgb(159, 207, 255)"
          ],
          [
           0.35826771653543305,
           "rgb(162, 208, 255)"
          ],
          [
           0.36220472440944884,
           "rgb(165, 210, 255)"
          ],
          [
           0.3661417322834646,
           "rgb(168, 211, 255)"
          ],
          [
           0.3700787401574803,
           "rgb(171, 213, 255)"
          ],
          [
           0.37401574803149606,
           "rgb(174, 214, 255)"
          ],
          [
           0.3779527559055118,
           "rgb(177, 216, 255)"
          ],
          [
           0.38188976377952755,
           "rgb(180, 217, 255)"
          ],
          [
           0.3858267716535433,
           "rgb(183, 219, 255)"
          ],
          [
           0.38976377952755903,
           "rgb(186, 220, 255)"
          ],
          [
           0.39370078740157477,
           "rgb(190, 222, 255)"
          ],
          [
           0.39763779527559057,
           "rgb(193, 224, 255)"
          ],
          [
           0.4015748031496063,
           "rgb(196, 225, 255)"
          ],
          [
           0.40551181102362205,
           "rgb(199, 227, 255)"
          ],
          [
           0.4094488188976378,
           "rgb(202, 228, 255)"
          ],
          [
           0.41338582677165353,
           "rgb(205, 230, 255)"
          ],
          [
           0.41732283464566927,
           "rgb(208, 231, 255)"
          ],
          [
           0.421259842519685,
           "rgb(211, 233, 255)"
          ],
          [
           0.4251968503937008,
           "rgb(214, 234, 255)"
          ],
          [
           0.42913385826771655,
           "rgb(217, 236, 255)"
          ],
          [
           0.4330708661417323,
           "rgb(220, 237, 255)"
          ],
          [
           0.43700787401574803,
           "rgb(223, 239, 255)"
          ],
          [
           0.4409448818897638,
           "rgb(226, 240, 255)"
          ],
          [
           0.4448818897637795,
           "rgb(230, 242, 255)"
          ],
          [
           0.44881889763779526,
           "rgb(233, 244, 255)"
          ],
          [
           0.452755905511811,
           "rgb(236, 245, 255)"
          ],
          [
           0.45669291338582674,
           "rgb(239, 247, 255)"
          ],
          [
           0.46062992125984253,
           "rgb(242, 248, 255)"
          ],
          [
           0.4645669291338583,
           "rgb(245, 250, 255)"
          ],
          [
           0.468503937007874,
           "rgb(248, 251, 255)"
          ],
          [
           0.47244094488188976,
           "rgb(251, 253, 255)"
          ],
          [
           0.4763779527559055,
           "rgb(254, 254, 255)"
          ],
          [
           0.48031496062992124,
           "rgb(255, 255, 255)"
          ],
          [
           0.484251968503937,
           "rgb(255, 255, 255)"
          ],
          [
           0.4881889763779528,
           "rgb(255, 255, 255)"
          ],
          [
           0.4921259842519685,
           "rgb(255, 255, 255)"
          ],
          [
           0.49606299212598426,
           "rgb(255, 255, 255)"
          ],
          [
           0.5,
           "rgb(255, 255, 255)"
          ],
          [
           0.5039370078740157,
           "rgb(255, 255, 255)"
          ],
          [
           0.5078740157480315,
           "rgb(255, 255, 255)"
          ],
          [
           0.5118110236220472,
           "rgb(255, 255, 255)"
          ],
          [
           0.515748031496063,
           "rgb(255, 255, 255)"
          ],
          [
           0.5196850393700787,
           "rgb(255, 255, 255)"
          ],
          [
           0.5236220472440944,
           "rgb(255, 254, 254)"
          ],
          [
           0.5275590551181102,
           "rgb(255, 251, 251)"
          ],
          [
           0.5314960629921259,
           "rgb(255, 248, 248)"
          ],
          [
           0.5354330708661417,
           "rgb(255, 245, 245)"
          ],
          [
           0.5393700787401575,
           "rgb(255, 242, 242)"
          ],
          [
           0.5433070866141733,
           "rgb(255, 239, 239)"
          ],
          [
           0.547244094488189,
           "rgb(255, 236, 236)"
          ],
          [
           0.5511811023622047,
           "rgb(255, 233, 233)"
          ],
          [
           0.5551181102362205,
           "rgb(255, 230, 230)"
          ],
          [
           0.5590551181102362,
           "rgb(255, 226, 226)"
          ],
          [
           0.562992125984252,
           "rgb(255, 223, 223)"
          ],
          [
           0.5669291338582677,
           "rgb(255, 220, 220)"
          ],
          [
           0.5708661417322834,
           "rgb(255, 217, 217)"
          ],
          [
           0.5748031496062992,
           "rgb(255, 214, 214)"
          ],
          [
           0.5787401574803149,
           "rgb(255, 211, 211)"
          ],
          [
           0.5826771653543307,
           "rgb(255, 208, 208)"
          ],
          [
           0.5866141732283464,
           "rgb(255, 205, 205)"
          ],
          [
           0.5905511811023622,
           "rgb(255, 202, 202)"
          ],
          [
           0.5944881889763779,
           "rgb(255, 199, 199)"
          ],
          [
           0.5984251968503937,
           "rgb(255, 196, 196)"
          ],
          [
           0.6023622047244095,
           "rgb(255, 193, 193)"
          ],
          [
           0.6062992125984252,
           "rgb(255, 190, 190)"
          ],
          [
           0.610236220472441,
           "rgb(255, 186, 186)"
          ],
          [
           0.6141732283464567,
           "rgb(255, 183, 183)"
          ],
          [
           0.6181102362204725,
           "rgb(255, 180, 180)"
          ],
          [
           0.6220472440944882,
           "rgb(255, 177, 177)"
          ],
          [
           0.6259842519685039,
           "rgb(255, 174, 174)"
          ],
          [
           0.6299212598425197,
           "rgb(255, 171, 171)"
          ],
          [
           0.6338582677165354,
           "rgb(255, 168, 168)"
          ],
          [
           0.6377952755905512,
           "rgb(255, 165, 165)"
          ],
          [
           0.6417322834645669,
           "rgb(255, 162, 162)"
          ],
          [
           0.6456692913385826,
           "rgb(255, 159, 159)"
          ],
          [
           0.6496062992125984,
           "rgb(255, 156, 156)"
          ],
          [
           0.6535433070866141,
           "rgb(255, 153, 153)"
          ],
          [
           0.6574803149606299,
           "rgb(255, 150, 150)"
          ],
          [
           0.6614173228346456,
           "rgb(255, 146, 146)"
          ],
          [
           0.6653543307086615,
           "rgb(255, 143, 143)"
          ],
          [
           0.6692913385826772,
           "rgb(255, 140, 140)"
          ],
          [
           0.6732283464566929,
           "rgb(255, 137, 137)"
          ],
          [
           0.6771653543307087,
           "rgb(255, 134, 134)"
          ],
          [
           0.6811023622047244,
           "rgb(255, 131, 131)"
          ],
          [
           0.6850393700787402,
           "rgb(255, 128, 128)"
          ],
          [
           0.6889763779527559,
           "rgb(255, 125, 125)"
          ],
          [
           0.6929133858267716,
           "rgb(255, 122, 122)"
          ],
          [
           0.6968503937007874,
           "rgb(255, 119, 119)"
          ],
          [
           0.7007874015748031,
           "rgb(255, 116, 116)"
          ],
          [
           0.7047244094488189,
           "rgb(255, 113, 113)"
          ],
          [
           0.7086614173228346,
           "rgb(255, 110, 110)"
          ],
          [
           0.7125984251968503,
           "rgb(255, 106, 106)"
          ],
          [
           0.7165354330708661,
           "rgb(255, 103, 103)"
          ],
          [
           0.7204724409448818,
           "rgb(255, 100, 100)"
          ],
          [
           0.7244094488188977,
           "rgb(255, 97, 97)"
          ],
          [
           0.7283464566929134,
           "rgb(255, 94, 94)"
          ],
          [
           0.7322834645669292,
           "rgb(255, 91, 91)"
          ],
          [
           0.7362204724409449,
           "rgb(255, 88, 88)"
          ],
          [
           0.7401574803149606,
           "rgb(255, 85, 85)"
          ],
          [
           0.7440944881889764,
           "rgb(255, 82, 82)"
          ],
          [
           0.7480314960629921,
           "rgb(255, 79, 79)"
          ],
          [
           0.7519685039370079,
           "rgb(255, 76, 76)"
          ],
          [
           0.7559055118110236,
           "rgb(255, 73, 73)"
          ],
          [
           0.7598425196850394,
           "rgb(255, 70, 70)"
          ],
          [
           0.7637795275590551,
           "rgb(255, 66, 66)"
          ],
          [
           0.7677165354330708,
           "rgb(255, 63, 63)"
          ],
          [
           0.7716535433070866,
           "rgb(255, 60, 60)"
          ],
          [
           0.7755905511811023,
           "rgb(255, 57, 57)"
          ],
          [
           0.7795275590551181,
           "rgb(255, 54, 54)"
          ],
          [
           0.7834645669291338,
           "rgb(255, 51, 51)"
          ],
          [
           0.7874015748031495,
           "rgb(255, 48, 48)"
          ],
          [
           0.7913385826771654,
           "rgb(255, 45, 45)"
          ],
          [
           0.7952755905511811,
           "rgb(255, 42, 42)"
          ],
          [
           0.7992125984251969,
           "rgb(255, 39, 39)"
          ],
          [
           0.8031496062992126,
           "rgb(255, 36, 36)"
          ],
          [
           0.8070866141732284,
           "rgb(255, 33, 33)"
          ],
          [
           0.8110236220472441,
           "rgb(255, 30, 30)"
          ],
          [
           0.8149606299212598,
           "rgb(255, 26, 26)"
          ],
          [
           0.8188976377952756,
           "rgb(255, 23, 23)"
          ],
          [
           0.8228346456692913,
           "rgb(255, 20, 20)"
          ],
          [
           0.8267716535433071,
           "rgb(255, 17, 17)"
          ],
          [
           0.8307086614173228,
           "rgb(255, 14, 14)"
          ],
          [
           0.8346456692913385,
           "rgb(255, 11, 11)"
          ],
          [
           0.8385826771653543,
           "rgb(255, 8, 8)"
          ],
          [
           0.84251968503937,
           "rgb(255, 5, 5)"
          ],
          [
           0.8464566929133858,
           "rgb(255, 2, 2)"
          ],
          [
           0.8503937007874016,
           "rgb(254, 0, 0)"
          ],
          [
           0.8543307086614174,
           "rgb(253, 0, 0)"
          ],
          [
           0.8582677165354331,
           "rgb(252, 0, 0)"
          ],
          [
           0.8622047244094488,
           "rgb(250, 0, 0)"
          ],
          [
           0.8661417322834646,
           "rgb(249, 0, 0)"
          ],
          [
           0.8700787401574803,
           "rgb(248, 0, 0)"
          ],
          [
           0.8740157480314961,
           "rgb(246, 0, 0)"
          ],
          [
           0.8779527559055118,
           "rgb(245, 0, 0)"
          ],
          [
           0.8818897637795275,
           "rgb(244, 0, 0)"
          ],
          [
           0.8858267716535433,
           "rgb(242, 0, 0)"
          ],
          [
           0.889763779527559,
           "rgb(241, 0, 0)"
          ],
          [
           0.8937007874015748,
           "rgb(240, 0, 0)"
          ],
          [
           0.8976377952755905,
           "rgb(238, 0, 0)"
          ],
          [
           0.9015748031496063,
           "rgb(237, 0, 0)"
          ],
          [
           0.905511811023622,
           "rgb(236, 0, 0)"
          ],
          [
           0.9094488188976377,
           "rgb(234, 0, 0)"
          ],
          [
           0.9133858267716535,
           "rgb(233, 0, 0)"
          ],
          [
           0.9173228346456693,
           "rgb(232, 0, 0)"
          ],
          [
           0.9212598425196851,
           "rgb(230, 0, 0)"
          ],
          [
           0.9251968503937008,
           "rgb(229, 0, 0)"
          ],
          [
           0.9291338582677166,
           "rgb(228, 0, 0)"
          ],
          [
           0.9330708661417323,
           "rgb(226, 0, 0)"
          ],
          [
           0.937007874015748,
           "rgb(225, 0, 0)"
          ],
          [
           0.9409448818897638,
           "rgb(224, 0, 0)"
          ],
          [
           0.9448818897637795,
           "rgb(222, 0, 0)"
          ],
          [
           0.9488188976377953,
           "rgb(221, 0, 0)"
          ],
          [
           0.952755905511811,
           "rgb(220, 0, 0)"
          ],
          [
           0.9566929133858267,
           "rgb(218, 0, 0)"
          ],
          [
           0.9606299212598425,
           "rgb(217, 0, 0)"
          ],
          [
           0.9645669291338582,
           "rgb(216, 0, 0)"
          ],
          [
           0.968503937007874,
           "rgb(214, 0, 0)"
          ],
          [
           0.9724409448818897,
           "rgb(213, 0, 0)"
          ],
          [
           0.9763779527559056,
           "rgb(212, 0, 0)"
          ],
          [
           0.9803149606299213,
           "rgb(210, 0, 0)"
          ],
          [
           0.984251968503937,
           "rgb(209, 0, 0)"
          ],
          [
           0.9881889763779528,
           "rgb(208, 0, 0)"
          ],
          [
           0.9921259842519685,
           "rgb(206, 0, 0)"
          ],
          [
           0.9960629921259843,
           "rgb(205, 0, 0)"
          ],
          [
           1,
           "rgb(204, 0, 0)"
          ]
         ]
        },
        "font": {
         "color": "black",
         "family": "Arial, monospace",
         "size": 12
        },
        "height": 318,
        "margin": {
         "t": 60
        },
        "template": {
         "data": {
          "bar": [
           {
            "error_x": {
             "color": "#2a3f5f"
            },
            "error_y": {
             "color": "#2a3f5f"
            },
            "marker": {
             "line": {
              "color": "white",
              "width": 0.5
             }
            },
            "type": "bar"
           }
          ],
          "barpolar": [
           {
            "marker": {
             "line": {
              "color": "white",
              "width": 0.5
             }
            },
            "type": "barpolar"
           }
          ],
          "carpet": [
           {
            "aaxis": {
             "endlinecolor": "#2a3f5f",
             "gridcolor": "#C8D4E3",
             "linecolor": "#C8D4E3",
             "minorgridcolor": "#C8D4E3",
             "startlinecolor": "#2a3f5f"
            },
            "baxis": {
             "endlinecolor": "#2a3f5f",
             "gridcolor": "#C8D4E3",
             "linecolor": "#C8D4E3",
             "minorgridcolor": "#C8D4E3",
             "startlinecolor": "#2a3f5f"
            },
            "type": "carpet"
           }
          ],
          "choropleth": [
           {
            "colorbar": {
             "outlinewidth": 0,
             "ticks": ""
            },
            "type": "choropleth"
           }
          ],
          "contour": [
           {
            "colorbar": {
             "outlinewidth": 0,
             "ticks": ""
            },
            "colorscale": [
             [
              0,
              "#0d0887"
             ],
             [
              0.1111111111111111,
              "#46039f"
             ],
             [
              0.2222222222222222,
              "#7201a8"
             ],
             [
              0.3333333333333333,
              "#9c179e"
             ],
             [
              0.4444444444444444,
              "#bd3786"
             ],
             [
              0.5555555555555556,
              "#d8576b"
             ],
             [
              0.6666666666666666,
              "#ed7953"
             ],
             [
              0.7777777777777778,
              "#fb9f3a"
             ],
             [
              0.8888888888888888,
              "#fdca26"
             ],
             [
              1,
              "#f0f921"
             ]
            ],
            "type": "contour"
           }
          ],
          "contourcarpet": [
           {
            "colorbar": {
             "outlinewidth": 0,
             "ticks": ""
            },
            "type": "contourcarpet"
           }
          ],
          "heatmap": [
           {
            "colorbar": {
             "outlinewidth": 0,
             "ticks": ""
            },
            "colorscale": [
             [
              0,
              "#0d0887"
             ],
             [
              0.1111111111111111,
              "#46039f"
             ],
             [
              0.2222222222222222,
              "#7201a8"
             ],
             [
              0.3333333333333333,
              "#9c179e"
             ],
             [
              0.4444444444444444,
              "#bd3786"
             ],
             [
              0.5555555555555556,
              "#d8576b"
             ],
             [
              0.6666666666666666,
              "#ed7953"
             ],
             [
              0.7777777777777778,
              "#fb9f3a"
             ],
             [
              0.8888888888888888,
              "#fdca26"
             ],
             [
              1,
              "#f0f921"
             ]
            ],
            "type": "heatmap"
           }
          ],
          "heatmapgl": [
           {
            "colorbar": {
             "outlinewidth": 0,
             "ticks": ""
            },
            "colorscale": [
             [
              0,
              "#0d0887"
             ],
             [
              0.1111111111111111,
              "#46039f"
             ],
             [
              0.2222222222222222,
              "#7201a8"
             ],
             [
              0.3333333333333333,
              "#9c179e"
             ],
             [
              0.4444444444444444,
              "#bd3786"
             ],
             [
              0.5555555555555556,
              "#d8576b"
             ],
             [
              0.6666666666666666,
              "#ed7953"
             ],
             [
              0.7777777777777778,
              "#fb9f3a"
             ],
             [
              0.8888888888888888,
              "#fdca26"
             ],
             [
              1,
              "#f0f921"
             ]
            ],
            "type": "heatmapgl"
           }
          ],
          "histogram": [
           {
            "marker": {
             "colorbar": {
              "outlinewidth": 0,
              "ticks": ""
             }
            },
            "type": "histogram"
           }
          ],
          "histogram2d": [
           {
            "colorbar": {
             "outlinewidth": 0,
             "ticks": ""
            },
            "colorscale": [
             [
              0,
              "#0d0887"
             ],
             [
              0.1111111111111111,
              "#46039f"
             ],
             [
              0.2222222222222222,
              "#7201a8"
             ],
             [
              0.3333333333333333,
              "#9c179e"
             ],
             [
              0.4444444444444444,
              "#bd3786"
             ],
             [
              0.5555555555555556,
              "#d8576b"
             ],
             [
              0.6666666666666666,
              "#ed7953"
             ],
             [
              0.7777777777777778,
              "#fb9f3a"
             ],
             [
              0.8888888888888888,
              "#fdca26"
             ],
             [
              1,
              "#f0f921"
             ]
            ],
            "type": "histogram2d"
           }
          ],
          "histogram2dcontour": [
           {
            "colorbar": {
             "outlinewidth": 0,
             "ticks": ""
            },
            "colorscale": [
             [
              0,
              "#0d0887"
             ],
             [
              0.1111111111111111,
              "#46039f"
             ],
             [
              0.2222222222222222,
              "#7201a8"
             ],
             [
              0.3333333333333333,
              "#9c179e"
             ],
             [
              0.4444444444444444,
              "#bd3786"
             ],
             [
              0.5555555555555556,
              "#d8576b"
             ],
             [
              0.6666666666666666,
              "#ed7953"
             ],
             [
              0.7777777777777778,
              "#fb9f3a"
             ],
             [
              0.8888888888888888,
              "#fdca26"
             ],
             [
              1,
              "#f0f921"
             ]
            ],
            "type": "histogram2dcontour"
           }
          ],
          "mesh3d": [
           {
            "colorbar": {
             "outlinewidth": 0,
             "ticks": ""
            },
            "type": "mesh3d"
           }
          ],
          "parcoords": [
           {
            "line": {
             "colorbar": {
              "outlinewidth": 0,
              "ticks": ""
             }
            },
            "type": "parcoords"
           }
          ],
          "pie": [
           {
            "automargin": true,
            "type": "pie"
           }
          ],
          "scatter": [
           {
            "marker": {
             "colorbar": {
              "outlinewidth": 0,
              "ticks": ""
             }
            },
            "type": "scatter"
           }
          ],
          "scatter3d": [
           {
            "line": {
             "colorbar": {
              "outlinewidth": 0,
              "ticks": ""
             }
            },
            "marker": {
             "colorbar": {
              "outlinewidth": 0,
              "ticks": ""
             }
            },
            "type": "scatter3d"
           }
          ],
          "scattercarpet": [
           {
            "marker": {
             "colorbar": {
              "outlinewidth": 0,
              "ticks": ""
             }
            },
            "type": "scattercarpet"
           }
          ],
          "scattergeo": [
           {
            "marker": {
             "colorbar": {
              "outlinewidth": 0,
              "ticks": ""
             }
            },
            "type": "scattergeo"
           }
          ],
          "scattergl": [
           {
            "marker": {
             "colorbar": {
              "outlinewidth": 0,
              "ticks": ""
             }
            },
            "type": "scattergl"
           }
          ],
          "scattermapbox": [
           {
            "marker": {
             "colorbar": {
              "outlinewidth": 0,
              "ticks": ""
             }
            },
            "type": "scattermapbox"
           }
          ],
          "scatterpolar": [
           {
            "marker": {
             "colorbar": {
              "outlinewidth": 0,
              "ticks": ""
             }
            },
            "type": "scatterpolar"
           }
          ],
          "scatterpolargl": [
           {
            "marker": {
             "colorbar": {
              "outlinewidth": 0,
              "ticks": ""
             }
            },
            "type": "scatterpolargl"
           }
          ],
          "scatterternary": [
           {
            "marker": {
             "colorbar": {
              "outlinewidth": 0,
              "ticks": ""
             }
            },
            "type": "scatterternary"
           }
          ],
          "surface": [
           {
            "colorbar": {
             "outlinewidth": 0,
             "ticks": ""
            },
            "colorscale": [
             [
              0,
              "#0d0887"
             ],
             [
              0.1111111111111111,
              "#46039f"
             ],
             [
              0.2222222222222222,
              "#7201a8"
             ],
             [
              0.3333333333333333,
              "#9c179e"
             ],
             [
              0.4444444444444444,
              "#bd3786"
             ],
             [
              0.5555555555555556,
              "#d8576b"
             ],
             [
              0.6666666666666666,
              "#ed7953"
             ],
             [
              0.7777777777777778,
              "#fb9f3a"
             ],
             [
              0.8888888888888888,
              "#fdca26"
             ],
             [
              1,
              "#f0f921"
             ]
            ],
            "type": "surface"
           }
          ],
          "table": [
           {
            "cells": {
             "fill": {
              "color": "#EBF0F8"
             },
             "line": {
              "color": "white"
             }
            },
            "header": {
             "fill": {
              "color": "#C8D4E3"
             },
             "line": {
              "color": "white"
             }
            },
            "type": "table"
           }
          ]
         },
         "layout": {
          "annotationdefaults": {
           "arrowcolor": "#2a3f5f",
           "arrowhead": 0,
           "arrowwidth": 1
          },
          "coloraxis": {
           "colorbar": {
            "outlinewidth": 0,
            "ticks": ""
           }
          },
          "colorscale": {
           "diverging": [
            [
             0,
             "#8e0152"
            ],
            [
             0.1,
             "#c51b7d"
            ],
            [
             0.2,
             "#de77ae"
            ],
            [
             0.3,
             "#f1b6da"
            ],
            [
             0.4,
             "#fde0ef"
            ],
            [
             0.5,
             "#f7f7f7"
            ],
            [
             0.6,
             "#e6f5d0"
            ],
            [
             0.7,
             "#b8e186"
            ],
            [
             0.8,
             "#7fbc41"
            ],
            [
             0.9,
             "#4d9221"
            ],
            [
             1,
             "#276419"
            ]
           ],
           "sequential": [
            [
             0,
             "#0d0887"
            ],
            [
             0.1111111111111111,
             "#46039f"
            ],
            [
             0.2222222222222222,
             "#7201a8"
            ],
            [
             0.3333333333333333,
             "#9c179e"
            ],
            [
             0.4444444444444444,
             "#bd3786"
            ],
            [
             0.5555555555555556,
             "#d8576b"
            ],
            [
             0.6666666666666666,
             "#ed7953"
            ],
            [
             0.7777777777777778,
             "#fb9f3a"
            ],
            [
             0.8888888888888888,
             "#fdca26"
            ],
            [
             1,
             "#f0f921"
            ]
           ],
           "sequentialminus": [
            [
             0,
             "#0d0887"
            ],
            [
             0.1111111111111111,
             "#46039f"
            ],
            [
             0.2222222222222222,
             "#7201a8"
            ],
            [
             0.3333333333333333,
             "#9c179e"
            ],
            [
             0.4444444444444444,
             "#bd3786"
            ],
            [
             0.5555555555555556,
             "#d8576b"
            ],
            [
             0.6666666666666666,
             "#ed7953"
            ],
            [
             0.7777777777777778,
             "#fb9f3a"
            ],
            [
             0.8888888888888888,
             "#fdca26"
            ],
            [
             1,
             "#f0f921"
            ]
           ]
          },
          "colorway": [
           "#636efa",
           "#EF553B",
           "#00cc96",
           "#ab63fa",
           "#FFA15A",
           "#19d3f3",
           "#FF6692",
           "#B6E880",
           "#FF97FF",
           "#FECB52"
          ],
          "font": {
           "color": "#2a3f5f"
          },
          "geo": {
           "bgcolor": "white",
           "lakecolor": "white",
           "landcolor": "white",
           "showlakes": true,
           "showland": true,
           "subunitcolor": "#C8D4E3"
          },
          "hoverlabel": {
           "align": "left"
          },
          "hovermode": "closest",
          "mapbox": {
           "style": "light"
          },
          "paper_bgcolor": "white",
          "plot_bgcolor": "white",
          "polar": {
           "angularaxis": {
            "gridcolor": "#EBF0F8",
            "linecolor": "#EBF0F8",
            "ticks": ""
           },
           "bgcolor": "white",
           "radialaxis": {
            "gridcolor": "#EBF0F8",
            "linecolor": "#EBF0F8",
            "ticks": ""
           }
          },
          "scene": {
           "xaxis": {
            "backgroundcolor": "white",
            "gridcolor": "#DFE8F3",
            "gridwidth": 2,
            "linecolor": "#EBF0F8",
            "showbackground": true,
            "ticks": "",
            "zerolinecolor": "#EBF0F8"
           },
           "yaxis": {
            "backgroundcolor": "white",
            "gridcolor": "#DFE8F3",
            "gridwidth": 2,
            "linecolor": "#EBF0F8",
            "showbackground": true,
            "ticks": "",
            "zerolinecolor": "#EBF0F8"
           },
           "zaxis": {
            "backgroundcolor": "white",
            "gridcolor": "#DFE8F3",
            "gridwidth": 2,
            "linecolor": "#EBF0F8",
            "showbackground": true,
            "ticks": "",
            "zerolinecolor": "#EBF0F8"
           }
          },
          "shapedefaults": {
           "line": {
            "color": "#2a3f5f"
           }
          },
          "ternary": {
           "aaxis": {
            "gridcolor": "#DFE8F3",
            "linecolor": "#A2B1C6",
            "ticks": ""
           },
           "baxis": {
            "gridcolor": "#DFE8F3",
            "linecolor": "#A2B1C6",
            "ticks": ""
           },
           "bgcolor": "white",
           "caxis": {
            "gridcolor": "#DFE8F3",
            "linecolor": "#A2B1C6",
            "ticks": ""
           }
          },
          "title": {
           "x": 0.05
          },
          "xaxis": {
           "automargin": true,
           "gridcolor": "#EBF0F8",
           "linecolor": "#EBF0F8",
           "ticks": "",
           "title": {
            "standoff": 15
           },
           "zerolinecolor": "#EBF0F8",
           "zerolinewidth": 2
          },
          "yaxis": {
           "automargin": true,
           "gridcolor": "#EBF0F8",
           "linecolor": "#EBF0F8",
           "ticks": "",
           "title": {
            "standoff": 15
           },
           "zerolinecolor": "#EBF0F8",
           "zerolinewidth": 2
          }
         }
        },
        "title": {
         "text": "Title",
         "x": 0.5,
         "xanchor": "center",
         "yanchor": "top"
        },
        "width": 1680,
        "xaxis": {
         "autorange": true,
         "constrain": "domain",
         "dtick": 1,
         "linecolor": "black",
         "linewidth": 2,
         "mirror": true,
         "range": [
          1.5,
          166.5
         ],
         "scaleanchor": "y",
         "showline": true,
         "side": "top",
         "tickangle": 0,
         "tickfont": {
          "color": "black",
          "size": 10
         },
         "ticktext": [
          "T",
          "E",
          "Y",
          "K",
          "L",
          "V",
          "V",
          "V",
          "G",
          "A",
          "G",
          "G",
          "V",
          "G",
          "K",
          "S",
          "A",
          "L",
          "T",
          "I",
          "Q",
          "L",
          "I",
          "Q",
          "N",
          "H",
          "F",
          "V",
          "D",
          "E",
          "Y",
          "D",
          "P",
          "T",
          "I",
          "E",
          "D",
          "S",
          "Y",
          "R",
          "K",
          "Q",
          "V",
          "V",
          "I",
          "D",
          "G",
          "E",
          "T",
          "C",
          "L",
          "L",
          "D",
          "I",
          "L",
          "D",
          "T",
          "A",
          "G",
          "Q",
          "E",
          "E",
          "Y",
          "S",
          "A",
          "M",
          "R",
          "D",
          "Q",
          "Y",
          "M",
          "R",
          "T",
          "G",
          "E",
          "G",
          "F",
          "L",
          "C",
          "V",
          "F",
          "A",
          "I",
          "N",
          "N",
          "T",
          "K",
          "S",
          "F",
          "E",
          "D",
          "I",
          "H",
          "Q",
          "Y",
          "R",
          "E",
          "Q",
          "I",
          "K",
          "R",
          "V",
          "K",
          "D",
          "S",
          "D",
          "D",
          "V",
          "P",
          "M",
          "V",
          "L",
          "V",
          "G",
          "N",
          "K",
          "C",
          "D",
          "L",
          "A",
          "A",
          "R",
          "T",
          "V",
          "E",
          "S",
          "R",
          "Q",
          "A",
          "Q",
          "D",
          "L",
          "A",
          "R",
          "S",
          "Y",
          "G",
          "I",
          "P",
          "Y",
          "I",
          "E",
          "T",
          "S",
          "A",
          "K",
          "T",
          "R",
          "Q",
          "G",
          "V",
          "E",
          "D",
          "A",
          "F",
          "Y",
          "T",
          "L",
          "V",
          "R",
          "E",
          "I",
          "R",
          "Q",
          "H"
         ],
         "tickvals": [
          2,
          3,
          4,
          5,
          6,
          7,
          8,
          9,
          10,
          11,
          12,
          13,
          14,
          15,
          16,
          17,
          18,
          19,
          20,
          21,
          22,
          23,
          24,
          25,
          26,
          27,
          28,
          29,
          30,
          31,
          32,
          33,
          34,
          35,
          36,
          37,
          38,
          39,
          40,
          41,
          42,
          43,
          44,
          45,
          46,
          47,
          48,
          49,
          50,
          51,
          52,
          53,
          54,
          55,
          56,
          57,
          58,
          59,
          60,
          61,
          62,
          63,
          64,
          65,
          66,
          67,
          68,
          69,
          70,
          71,
          72,
          73,
          74,
          75,
          76,
          77,
          78,
          79,
          80,
          81,
          82,
          83,
          84,
          85,
          86,
          87,
          88,
          89,
          90,
          91,
          92,
          93,
          94,
          95,
          96,
          97,
          98,
          99,
          100,
          101,
          102,
          103,
          104,
          105,
          106,
          107,
          108,
          109,
          110,
          111,
          112,
          113,
          114,
          115,
          116,
          117,
          118,
          119,
          120,
          121,
          122,
          123,
          124,
          125,
          126,
          127,
          128,
          129,
          130,
          131,
          132,
          133,
          134,
          135,
          136,
          137,
          138,
          139,
          140,
          141,
          142,
          143,
          144,
          145,
          146,
          147,
          148,
          149,
          150,
          151,
          152,
          153,
          154,
          155,
          156,
          157,
          158,
          159,
          160,
          161,
          162,
          163,
          164,
          165,
          166
         ],
         "title": {
          "text": ""
         },
         "type": "linear"
        },
        "yaxis": {
         "autorange": true,
         "constrain": "domain",
         "dtick": 1,
         "linecolor": "black",
         "linewidth": 2,
         "mirror": true,
         "range": [
          20.5,
          -0.5
         ],
         "showline": true,
         "tickfont": {
          "color": "black",
          "size": 10
         },
         "title": {
          "text": ""
         },
         "type": "category"
        }
       }
      },
      "image/png": "[encoded data removed]",
      "text/html": [
       "<div>                            <div id=\"60856ba2-d7fe-4540-b6e5-6204a310ba46\" class=\"plotly-graph-div\" style=\"height:318.0px; width:1680.0px;\"></div>            <script type=\"text/javascript\">                require([\"plotly\"], function(Plotly) {                    window.PLOTLYENV=window.PLOTLYENV || {};                                    if (document.getElementById(\"60856ba2-d7fe-4540-b6e5-6204a310ba46\")) {                    Plotly.newPlot(                        \"60856ba2-d7fe-4540-b6e5-6204a310ba46\",                        [{\"coloraxis\": \"coloraxis\", \"hovertemplate\": \"Original: %{x}<br>Substitution: %{y}<br>Score: %{z}<extra></extra>\", \"type\": \"heatmap\", \"x\": [2, 3, 4, 5, 6, 7, 8, 9, 10, 11, 12, 13, 14, 15, 16, 17, 18, 19, 20, 21, 22, 23, 24, 25, 26, 27, 28, 29, 30, 31, 32, 33, 34, 35, 36, 37, 38, 39, 40, 41, 42, 43, 44, 45, 46, 47, 48, 49, 50, 51, 52, 53, 54, 55, 56, 57, 58, 59, 60, 61, 62, 63, 64, 65, 66, 67, 68, 69, 70, 71, 72, 73, 74, 75, 76, 77, 78, 79, 80, 81, 82, 83, 84, 85, 86, 87, 88, 89, 90, 91, 92, 93, 94, 95, 96, 97, 98, 99, 100, 101, 102, 103, 104, 105, 106, 107, 108, 109, 110, 111, 112, 113, 114, 115, 116, 117, 118, 119, 120, 121, 122, 123, 124, 125, 126, 127, 128, 129, 130, 131, 132, 133, 134, 135, 136, 137, 138, 139, 140, 141, 142, 143, 144, 145, 146, 147, 148, 149, 150, 151, 152, 153, 154, 155, 156, 157, 158, 159, 160, 161, 162, 163, 164, 165, 166], \"y\": [\"D\", \"E\", \"K\", \"H\", \"R\", \"G\", \"N\", \"Q\", \"A\", \"S\", \"T\", \"P\", \"C\", \"V\", \"Y\", \"M\", \"I\", \"L\", \"F\", \"W\", \"*\"], \"z\": [[-0.12058293537568054, -0.10014426559554661, -1.0163000598250878, -0.956973454240822, -1.948930688843147, -1.5119982693146572, -1.948930688843147, -1.9437018877857712, -1.239462133870544, -0.04830664657970678, -0.03943826911174404, 0.24618038178392196, -0.3966706000293375, -1.3542915038045888, -1.9380037633380294, -1.514617557652126, -0.7784556694639182, -1.0002429065099085, -1.0006591396694509, -1.215433545663818, 0.22938573566055953, -1.0157831958300898, -0.450792434611547, -0.37669904543689164, -0.0545298134628793, 0.18900637908132067, -1.0581818006458703, 0.01090503524072455, -0.013558388515735752, -0.32535629521038956, -1.0155678416998375, -0.013558388515735752, -1.9380037633380294, -1.9437018877857712, -1.5184750088300947, 0.22946565817041142, 0.07145096292905549, -0.8197966410460426, -1.9650864154056407, -0.9059886979048586, 0.1610241913132984, 0.091095915156011, -0.03717757118979347, 0.06898660797064202, -0.1664762580953662, 0.11976093606850878, -0.19415919079639343, -0.07210755710996511, -0.07433465274024713, 0.10477230394807181, 0.31890117844952465, -1.9650864154056407, -0.013558388515735752, -1.9380037633380294, 0.3471857364102648, -0.07161929109991279, -0.7427073699525759, -0.8398099631173878, -0.8884177627542318, 0.12769455260829568, 0.23421613194796612, 0.09252349184737957, -0.004383694186040454, -0.2042305118818594, -0.1466399078599838, 0.0224557965499523, 0.12301449355794547, 0.04069024290125134, -0.005041934129199772, 0.3852148085861888, 0.12552372996450362, -0.08623732929599243, 0.22399997651237155, -0.7078290508644839, 0.04943836405450891, -1.4655807943119308, -1.7547471022885353, -1.4673993566875474, -1.823128947894525, -1.7547471022885353, -1.7547471022885353, 0.28965566236367624, -0.16303484116904987, -0.061481454637107635, 0.028905250789047876, 0.0034114824577318294, -0.46867458917778687, -0.0075097338856197566, -1.5045830846395176, -0.03829159621296422, 0.04069024290125134, -1.150960415603912, 0.1640642602449818, -0.17021120923468458, -0.5140336451378192, -0.962935273071064, -0.23227692962905552, -0.03811162294103223, -0.7161358672600409, -0.641429689933764, -0.16862750220614994, -0.2323509564346888, -0.722725220980263, 0.04069024290125134, -0.2928496921115672, -0.13383233465164637, 0.04069024290125134, -1.2454385828046484, -0.6359362432387228, -1.823128947894525, -1.344715808918929, -1.6355002471910236, -1.9225329325043614, -1.1361516098428837, -0.8806583371612935, -0.8270963534410054, 0.1230840473323388, 0.0374462870021183, 0.5027021519875684, 0.06135066171409979, 0.21160311000846152, 0.18181923451164758, 0.10778871357934937, 0.2751002338965099, 0.057567757614583805, 0.03421216489098059, 0.05239174347969786, -0.1688635009241259, -0.7541335463165616, -0.2673540352078518, 0.0374462870021183, -0.5141495266772204, -0.8209291826277191, -0.1941669612053554, -0.07845134646691776, -0.690956400034298, -0.12122539120210714, -0.4684374909885177, -0.37229889699405727, -1.115971531869683, -1.2749626752519645, -0.21838931535992662, -1.0807838342043365, 0.5613456032690103, -1.5079082728029818, 0.2835133438178634, 0.2710435509666743, 0.03888347924415965, -0.004526189754627818, 0.19421922859552213, -0.2709322234367411, -0.04358272373861646, 0.14605402778308574, -1.1328689048140475, -1.1042192848623045, 0.19945948633873778, -0.22268388385529203, -1.9225329325043614, -1.9345839265275018, 0.08046358421974774, -0.27605412177986693, -1.0345784306988495, 0.07233258084606074, 0.07772236985705168, 0.0812648656894642], [-0.07052598969994102, 0.15356331097227466, -1.1264180962467052, -0.5876731505243055, -0.9685704989947294, -1.9380037633380294, -1.3078043324264808, -0.9103300586390124, -1.9650864154056407, -0.2529242156588957, -0.18047062373294676, 0.15828574775339918, -0.022031178238279048, -1.427375121781773, -1.948930688843147, -1.0637581461923982, -1.2176778540500879, -1.9650864154056407, -0.35667462595178556, -0.6896720664276448, 0.048119337152642126, 0.11871333493181106, -1.098543180751405, -1.9650864154056407, 0.026348526480949826, 0.12278885438396032, -0.8704709138684299, 0.15051118582885353, 0.0027433154572231166, -0.0250396798276271, -0.5889333806311462, -0.061178666887960025, -0.3122002060417616, -1.948930688843147, -0.9134945067323201, -0.013558388515735752, -0.9176013131077448, -0.5465987051908784, -1.948930688843147, -0.6202516414964829, 0.044682953069653336, 0.17048447752871407, -0.19730310020217365, -0.10856807223879472, -0.41916148927365976, 0.013287837967254607, -0.0845546614768569, -0.013558388515735752, -0.03311194032345024, -0.155556908493908, 0.33150932449036913, -1.9380037633380294, -0.008997866427066094, -1.9650864154056407, 0.6755647000191709, -1.093467829500388, -1.2165641348225045, -0.43666174775971583, -0.9764032030541058, 0.2874483776771466, 0.04069024290125134, 0.04069024290125134, -0.106065310211754, -0.035420591619143245, -0.1622930971000817, -0.014381595394439025, 0.10306242623839636, -0.12738983968748985, 0.18526074729276376, 0.3056935398999804, -0.04325812731624564, -0.0579680025249146, 0.4545154862003091, -0.43120457921797134, 0.04069024290125134, -1.17588873318854, -1.708046294543099, -1.1187720115715525, -1.585684537258705, -1.3911685832030638, -1.489418649872789, 0.13869739693636035, 0.1248002074307388, 0.048962762210158224, -0.24390665466880476, 0.24025993898251352, -0.04783879594745, -0.08785340944887694, -0.337042790177186, 0.04069024290125134, -0.00490751600944126, -1.4538017482653522, 0.04424669494606265, -0.2804186334666371, -0.41442981764519865, -0.2634665571852243, 0.04069024290125134, 0.2761800212708102, -1.823128947894525, -0.20619296395802847, -0.4700301827362492, 0.02454298267834157, -0.5805404566048605, -0.03778271443885007, -0.10602331752807836, 0.08681846704758533, 0.1402553139726146, -1.2320288196852403, -0.5297634654687182, -1.4979413159023103, -1.9225329325043614, -1.1605537162911876, -1.0662227567000997, -0.5766325650337912, -0.8687236965478432, -0.13111586451881257, 0.03856321154344627, 0.20645044262644827, 0.4563929463468006, 0.08149814981133274, 0.1430953019535957, 0.06735934691972889, -0.09441289577790053, 0.06687245402467164, -0.06874441713665366, -0.22518486393875356, 0.16127342502850658, 0.10130643886403662, -0.5483845052956996, 0.1188613524011992, 0.073540856128322, -0.27795639046603604, -0.5656763038938197, 0.08753418345063907, 0.15535921366401564, -0.12404813522786783, -0.34588144965992207, -0.6424645233933912, 0.02444761409406198, -1.4505763185986833, -0.6145597989883896, 0.19234386681027393, -1.0348085784824024, 0.5376007909724185, -1.3289992949001974, 0.28258720803082543, 0.17033411761255746, 0.25230175128732824, 0.07547848343705045, 0.32981587181005595, 0.0453901083343744, 0.0374462870021183, 0.09972268957302673, -0.6628674758136106, -0.9739582426229394, 0.24316882337980109, 0.02545892021509864, -1.9708045191242638, -1.0157230507301125, 0.09173986244264742, 0.0374462870021183, -1.1302357536427758, 0.07027160176881324, 0.08915421571582675, 0.009914797867812268], [0.06608207998197975, -0.7846212598820802, 0.1414527933625928, -0.013558388515735752, -1.5967208373163795, -0.6259661577536844, -1.241397712493991, -0.7055153608904332, -1.9650864154056407, -0.12439317368602547, 0.6149532982695085, 0.0394640468557093, -1.3186122566012386, -1.3934678300727041, -0.013558388515735752, -1.0433659091556653, -0.63881534531346, -0.9206313515380594, -1.9380037633380294, -1.2151772125156324, 0.09843338549346059, 0.28299419238098084, -0.08914320267108158, -0.5991352153640009, 0.17121042241049708, -0.7378486331915948, -1.9380037633380294, -0.88992910685473, -0.1877807809423545, -1.0379172282149784, -1.094672647384837, -1.9380037633380294, -0.3690184972773536, -0.9867615613030708, -1.2440622279064684, -1.9380037633380294, -1.9650864154056407, -0.5728093829985278, -1.9650864154056407, -0.9067778950704097, -0.013558388515735752, -0.01657404311215814, -0.2540304022190485, -0.7224044593900143, -0.38729638192803095, 0.24557980537434188, -0.27276438394456054, 0.10897066460311973, 0.06309556239171889, 0.16386747468928523, -0.2775167483431256, -1.493988849849001, -0.5442404562138017, -1.9437018877857712, -0.9957451681375509, -1.708046294543099, -1.823128947894525, -0.36188240104959374, -0.13338846753970718, 0.5363880107781004, 0.17281125479198164, 0.2258012599933437, -0.048721666315986296, -0.4069255426843488, 0.42381204639468006, -0.15579547689530263, 0.27604065724311916, -0.18688443991547748, -0.25127099070154196, -0.32364174366969234, 0.05415846490665894, -0.01367048931133181, -0.11257332403147256, -0.2954082976958028, -0.23138584846113677, -0.8544571185304677, -0.6184565972426496, -0.5420917164416458, -1.0747046959169628, -1.7547471022885353, -1.5253229769263645, -0.0481765811622048, -0.0024024280080618236, -0.30605458742148006, -0.08548244866926306, 0.09373522243519938, 0.04069024290125134, -1.708046294543099, -0.28743699942641976, 0.027760007567564873, 0.39627947817685566, -1.823128947894525, 0.13494271034839833, 0.1845974150503358, 0.0067936626401543755, -0.29133235369823907, -0.07755954839871088, 0.1442052924396727, -1.2036267108577958, 0.08367293521981563, -0.10952516167337982, 0.027781226389430973, 0.04069024290125134, 0.20437058851371714, 0.004565257026023162, 0.07834033658006725, 0.181611822178382, -0.5819492238480825, -0.18906701186702501, -0.7194482204951782, -1.9225329325043614, -1.7923988715379702, -1.46525473005603, -1.011012302368329, -1.9708045191242638, 0.0374462870021183, -0.20515120993305072, -0.7536864554003166, 0.30173684964561104, 0.15807096333722004, 0.05462376368343614, 0.03326138125270856, -0.005283995761008155, 0.030185548164000403, -0.1661730153917917, -0.04383950963443315, 0.2754771635238262, 0.0032866523629997793, -0.20377045680486988, -0.13557267875459808, -0.18730579434201142, -0.2501852162297109, -1.1168592136243929, 0.18031219470224596, 0.20691962392540242, -0.12194108696479936, -0.3563589733828356, -0.5129028831220687, -0.048697740873244584, -1.2520046538606484, -0.3958736350158165, -0.6145915432555448, -1.1987394421195954, -0.17809414159084055, -0.613434005004036, 0.0374462870021183, 0.19769773532357357, -0.048094674210960336, -0.06323157311739813, -0.2998765253872496, -0.5458889038892629, -0.15485454882926863, -0.07593644088402969, -1.2198913085762306, -1.4168697318478687, 0.3341961324466979, 0.151391132756932, -1.0203188844884106, -0.5451077675715676, 0.20688020853875796, 0.08188716330406595, -0.5859363555829272, 0.1868883356229889, 0.1271473156273688, 0.23226050469284942], [0.012108938923514513, -0.5583461173607258, 0.0550892960457076, 0.311504764571076, -1.001477435321473, -0.10978212662878484, -1.0928487594854495, -0.34499927415409554, -1.9437018877857712, -0.24419018864198974, 0.2629077587493079, 0.13176237093192855, -0.1702569160807819, -1.9650864154056407, -1.9650864154056407, -1.0798702045390969, -0.9806731447890796, -0.9281413615601616, -1.948930688843147, -0.39875960447363173, 0.23672264262834394, 0.36027550475151787, -0.21955534142356958, -0.1064610731118754, 0.052518047722766394, -0.03780376162015564, -0.38155960091296015, 0.0042164386841016515, null, -1.0688037096246832, -0.16810560939957309, -0.7877327964185374, -1.275987808068643, -1.9437018877857712, -0.5922821659446018, -0.40326775444525365, -1.1777276096221725, -0.9446927049952105, -1.211428916642963, -0.44020148072325016, 0.10782792224809314, -0.10807862399981892, 0.333033278518278, -0.015329995469453987, -0.07552300689513927, 0.15750885967744077, -0.0929424281599533, 0.11261706407355036, -0.03938505830725663, 0.015618443448792126, -0.02252890996299936, -1.948930688843147, -0.9246674676156548, -1.7063376228462717, -0.10355685299723334, -1.1593151008227613, -0.7272041873272274, -0.42037354675672073, -0.43978896055837174, 0.2791089365574499, 0.27148396914452727, 0.564501061847845, 0.0636807327599972, -0.16722153787368668, -0.17833563473352315, 0.16301771905059073, 0.23208404655170312, -0.27568190776668533, 0.07124334298258449, 0.02661060897486825, -0.11697695750778841, 0.04715753652077885, 0.10485402469220662, -0.19851609336411616, -0.22590544676323746, -1.199715600775016, -0.512487339945385, -1.1621490660188887, -0.9015470487347298, -0.9503180169316078, -0.7552785836377378, 0.08715558018447146, 0.1663205408414621, 0.12440540456287351, -0.08569951120411638, 0.09258452185702842, -0.16994763175595007, -0.2785086673549453, -0.4084752111022043, -0.008810799991692944, 0.04380393300849892, -0.5775857130686041, 0.04069024290125134, 0.17349185199642655, -0.04020536622544954, -0.09924835332248459, -0.25481179897146894, 0.19418778876728182, -1.0115449457429357, -0.5196320801273786, -0.48462681161511934, -0.29420276337360657, 0.008945770968746478, -0.03920212010844499, -0.11813738710831405, -0.06478113468476712, 0.005970320101943936, -0.5679784242705055, -0.1756125089555607, -1.34662990772581, -1.9708045191242638, -1.9225329325043614, -1.4954709616700315, -0.9197731666600003, 0.35691754268281645, 0.5562663333945859, -0.11454849168621056, -0.9058559559160834, 0.3787784810355624, 0.010322609589802653, 0.052894491145694056, 0.11830343316696262, -0.04438292261344604, 0.08026279218330644, -0.2292343264875969, 0.004415804056275401, -0.041391066093899496, 0.04056842344586621, -0.3367214004427322, 0.18901158545258578, -0.28246002578390567, -0.3763953476732215, -0.5550833794336388, -0.07198623804228757, 0.07352549632754604, -0.2517661954630205, -0.14821228229002603, -0.4094092192646093, -0.11176379067547859, -0.6658076510430845, -0.2887201394319542, -0.6581975892733416, -1.6266746671780135, 0.2308422961463878, -1.1265790537686948, 0.2805404611171107, 0.2172465939061836, 2.3634647959812827, -0.1086700273687472, -0.2143236264408019, 0.2533687814348199, -0.20224842812652666, -0.23863428426671676, -1.2740784496645752, -0.8652661027716769, 0.0678441515229469, 0.08175524570944424, -1.862210351861319, -0.461855606364453, 0.04389791352091709, -0.09047532625996679, -0.7757692613008077, 0.015655279903471552, -0.1829641324814093, 0.0374462870021183], [0.06623219751806211, -0.7086235474682098, 0.3009795241538469, 0.006319164495554727, -1.436222600546826, -0.9688117795619752, -1.743705359392158, -0.5704694271734148, -1.9650864154056407, -0.12280232666246393, 0.4286878712308559, 0.005797948187100046, -1.6352562720716317, -1.4201058289458084, -1.3050143676220956, -1.9650864154056407, -1.032197151440517, -1.7640327720037796, -1.7135213177595585, -1.0811171813788345, -0.036768047477617534, -0.10768652708312888, -1.0076762019099934, -0.4318249590460585, 0.08988604023783818, -0.8820150033129638, -1.415407522844018, -1.0388689315763233, -0.06443098069923207, -1.0005121030273731, -1.2627884308927844, -1.4134751502851195, -0.45351635606302615, -1.732630555649127, -1.2508274303405236, -1.5195536627908217, -1.756192725133932, -0.6871284326689235, -1.578873999890306, 0.0927178240250477, 0.12909467642980746, -0.14879346321524106, 0.11151644608821859, 0.02788201954508798, -0.18837669934471757, 0.12330102247435377, -0.15980742343318882, -0.11769426924149712, 0.004703084859891636, -0.20992515030364337, -0.15564873807579194, -1.6785303793386257, -1.3460871531387817, -1.461094140563714, -0.6542735417851707, -1.3060913336199393, -1.348055384258795, 0.05538060867214659, -0.6431927454837196, 0.3985096038748212, 0.34991103709854077, 0.17257157213355284, 0.06740039888348232, -0.09778648264944116, -0.08338112397218367, 0.07069856888892, -0.0023946072646078534, -0.39320638316130185, 0.020385097290153285, -0.3869503350709217, -0.1846141246494525, 0.0738639108580351, -0.021971789701682527, -0.3925126721429543, -0.36221301463757904, -1.1782293563867505, -1.3383455593473503, -1.501028679451687, -1.6133718832266901, -1.5891497211909436, -1.6088984456584614, -0.19074832431881236, -0.31208515674433407, -0.36417785456558976, -0.29900038855114425, 0.056663387073543424, -0.11375444494486409, -1.212696289888167, -0.4992937778543647, -0.10451970295824467, 0.37205932312403905, -1.4680016882058764, 0.09348878255516455, 0.31828273972370924, -0.1833454488818919, 0.080311015763362, -0.11347916979374666, 0.2042106428228414, -1.0495775464812902, -0.01679947843413217, 0.045897246306982865, -0.3600091819288364, 0.04176214414886371, 0.06922803568631247, -0.03277161409171227, -0.05941287445231067, 0.05855370432976074, -0.47038073195809715, -0.09562100757650915, -1.2101619196130309, -1.6182277637220146, -1.3103916426201618, -1.651808679991526, -0.5425414174551288, -1.5977064251431994, 0.36107835099531155, -0.15534722174612844, -0.9955469791054204, 0.2141133784304515, -0.20326316441084522, -0.230483623440657, -0.04057457029383758, -0.2084932331415581, -0.059890314993380954, -0.16060989495413583, -0.08877994341727817, 0.07498999548234386, 0.05866178853465635, -0.5085472893752626, -0.03808425068855425, -0.16448304470923825, -0.2121194885116655, -0.5594241915110737, 0.06189299875140924, 0.07274212819884357, -0.40223160686522424, -0.48689914821334485, -0.9677859336925015, -0.12064933370265504, -1.589544429087346, -0.37574180784207734, -1.2676194547941413, -1.2690265470868216, -0.2516731800122252, -1.6490451386637528, 0.0883428419989088, -0.023296205735172756, 0.09748020028612088, -0.15141103940398096, -0.17297537082727693, -0.9264156194394187, -0.01746877305179142, -0.2995889028559678, -1.5681873814488203, -1.2362253400840424, 0.34536090927926094, 0.026152241957278322, -1.3479322579021726, -0.34507445713972457, -0.018896585087675243, 0.034454303165396154, -0.2764112206712538, 0.08374107328723764, 0.0738733397317164, 0.12050981409642388], [-0.05958489600158953, -0.47166347193845043, -0.8791058297757229, -0.25884994101230385, -1.1181117295050313, -0.8818679195022657, -1.193726315800074, -1.0781226428455215, 0.003615660002446579, 0.002042987210243217, -0.04102565837265071, 0.0621535499308706, 0.1433134053607248, -0.02482338103903442, -1.0413922369210216, -1.543269191795577, 0.13589355141412937, -0.5956837165597967, -0.4299245799869157, -0.6808545776524605, 0.19928301053451145, -0.031022370714457986, 0.3678348127410488, 0.6828005091076284, -0.14564186818407046, 0.23613930195805863, -0.9890356368774951, -0.44266895491726704, -0.22556622009800395, -0.4526235827028306, -1.5333836943990427, -0.958271530078132, -1.0345981584070147, -1.3100921750519057, -1.134096713649955, -1.0748748854939039, -1.3399957111692749, -0.30803868387153543, -1.9380037633380294, -0.31387470528594263, 0.22047455885210165, 0.04003529169985393, -0.04130266659706689, -0.06529893355439749, -0.3158233295257063, 0.004459112515701879, -0.03782058084190212, -0.25340181920096705, -0.1514546616912014, -0.10908098391877333, -0.01446621272938392, -1.0517058364213432, -0.6238208987220745, -1.700913235935252, -0.047052733280600806, -1.6093035979095127, -0.5500716707555335, -0.039381794499385586, 0.05855960955430466, 0.23309551462329445, 0.2239697288716552, 0.3247565670488914, 0.029168212644908424, 0.539102675319001, -0.019099195466859877, 0.06166009214258409, 0.22113355248862887, -0.2747190924357007, -0.09826206586544746, -0.034502718893981356, -0.28101387826089613, -0.00037543581158514666, 0.15355739842780095, 0.07694684055235035, -0.2977634607625799, -0.025210804566414308, -1.441712825557204, -1.3917427434307885, -0.8891706436114989, -1.1852587584466834, -0.5111110471562916, 0.08926943548136773, 0.1794709287002918, 0.23707690895239922, -0.10774400748026151, -0.06656661927087446, -0.11434261113347562, -0.10539029396444155, -0.4145082595578657, -0.1342308253053738, -0.12708062420857422, -1.334800675578612, -0.10149813621260399, -0.21580820546347157, -0.4489411595617348, -0.2793976645604908, -0.44033962908371566, -0.14804541303323196, -1.1869686734093619, -0.3752690741159677, -0.3705666513328363, -0.41252239030991755, -0.39326465811520245, 0.1728485713896969, 0.10850616534170425, -0.021343102620185628, -0.1331070658581153, -1.0210425514032708, -0.7595346395474264, -1.297933429018891, -1.0414659157166106, -1.5914010337526943, -1.5877126198402767, 0.0127203196905118, -0.017263412699964033, 0.4991271510788399, 0.08110117898065487, -0.5469010432359567, 0.47069402249423065, 0.09623151202551429, 0.09302842639407383, 0.20142263668606888, 0.0462753576493961, 0.02995709737751822, -0.09158829595278416, -0.025734640462913058, 0.016488630604297047, -0.264569405382859, -0.028370469096077666, -0.2582458227734849, -0.35402798734647867, -0.6160825364465183, -0.44551655779539123, -0.35093490213362877, -0.20320741317499458, -0.3088686193909066, -0.01093417219583255, -0.7056781513932466, -0.5184564492797921, -1.0894866261325944, -1.1620140432886237, -0.893691005702355, -0.07417327886107196, 0.21620336561517983, 0.301419807750932, 0.44407653454709256, 0.17157984043868543, 0.09739195411692281, 0.16536660542348935, -0.0021690542082345907, 0.01632201130723038, -0.18828355560669938, -0.3861983953673383, -0.35740355598966295, -1.4011326469907357, 0.19722350361585272, -0.4668315554399667, -1.0468133699651752, -1.0871680350401753, -0.013699562394155367, -0.004312113443160254, -0.7827555207437792, 0.017601487473082066, 0.22903390834933038, 0.1893774781868399], [-0.028544598398035644, -0.40687005905170454, -0.23153040264875893, 0.2621936908973414, -1.948930688843147, -0.34282633520398065, -1.9380037633380294, -1.2845654750196462, -1.072057932713248, -0.25783579142317303, 0.21421464473677165, 0.2093910275318107, 0.07556019843273973, -1.9380037633380294, -1.6893935981755834, -1.948930688843147, 0.06234677624042519, -0.31697377804557164, 0.04974900352842587, -0.8358209512564455, 0.3665693104233697, 0.2073475574530399, 0.3849495506338638, 0.26982857552645106, -0.013558388515735752, -0.06620970643128239, -1.126182994073897, -0.34348138168961057, -0.10129516368440401, -0.6571519634694244, -0.7747749762733043, -0.7615385595575664, -1.07271234113912, -1.9650864154056407, -0.5272905992162689, -0.9009744659844634, -1.9380037633380294, -0.6793989056223527, -1.9650864154056407, -0.39402498052241475, 0.32112591238900245, 0.12529852561119326, -0.01369457244950026, 0.08280604233558193, -0.17292123197072265, -0.03364461171916912, -0.10039738293717698, 0.07292063677617537, 0.16698970280151348, -0.24389943930201136, 0.03246725973220592, -0.8372707871659387, -0.4974959930784613, -0.8572442004216946, 0.19049995332298608, -0.7683576928472685, -1.035546993390071, 0.031148584470162485, -0.8238758478043504, 0.2804968545076549, 0.20980714418072693, 0.44218635943087453, 0.17547823989381742, -0.06986028824299802, -0.04181450260531891, -0.03299028375481078, 0.0718683479647471, -0.08302485864956254, -0.04090804739499298, -0.03299025149363114, 0.010995691092604676, -0.005774243886274404, 0.008784648940902673, -0.6283488484190626, -0.03381408156569378, -1.1939409394216884, -1.5534602717283754, -1.2331811600663463, -1.0216802025850031, -1.2025818671944988, -0.7277412338051621, 0.3777240950438352, 0.027955620878442347, 0.04069024290125134, 0.04069024290125134, 0.025686260613319467, -0.07116082097868727, -0.07569775692145372, -1.1356781617181058, 0.01569610949283289, 0.1266447222583188, -1.1583591567708784, 0.11631180786466196, 0.1132602145631029, -0.5773904855841145, -0.4742012223851921, -0.06160875096611876, 0.056820608115810335, -0.7259911322978219, -0.3672762393693723, -0.3752581357730693, -0.422974454437441, -0.38739775651210245, 0.06722324152934468, null, -0.10400101471632166, 0.13449129175609298, null, -0.1509034780292504, -1.2204638458808559, -1.191584454280209, -1.0663424369545953, -1.862210351861319, -0.22288966905332946, 0.0374462870021183, 0.21987215056781753, 0.09238852222763683, -0.4131274662166458, 0.511759328185383, 0.01096393642823923, 0.08285666968200002, 0.2831932904253807, -0.023492333980394187, 0.10123028983113015, -0.00155796610989791, -0.01546652163851991, 0.06326497053911367, -0.23809370564120122, -0.48864841394278463, -0.32402226907431775, -0.16535785568589292, -0.32010042908179714, -0.608054034854834, -0.16749409460333417, 0.06057245034885827, -0.31748259151482355, -0.17638650438154505, -0.23111058998049852, -0.21855416327299884, -0.7940802418060825, -0.6641989992216738, -0.6187519923024225, -0.05531613187245694, 0.3905914466291251, -0.1397519041947338, 0.46736188727553946, 0.10608115083794523, 0.12081406087266787, 0.030310855724823674, -0.2663684959996645, -0.174494960858288, -0.2549921974945058, -0.1563144531236695, -1.0283434858548206, -1.0415205971214279, null, -0.11621583756446996, -1.862210351861319, -0.8047541819888996, 0.12962747209568204, 0.011771147178674855, -1.0381608462080838, 0.0011314973820328589, 0.21296609371825106, 0.10012706659606153], [-0.30963880888393147, -0.6812433754241707, -0.4329152539329229, 0.18044299672451658, -1.9650864154056407, -0.5114539736599163, -0.7674701619210101, -1.2236390395799863, -1.9380037633380294, -0.6386720074484187, 0.037894889205783905, -0.1269142179431615, 0.12231342460999672, -0.8899359754366891, -1.3101517066798911, -1.9650864154056407, 0.025423247246479583, -0.2896908446297799, -0.3546760754728598, -0.5422967706262102, -0.013558388515735752, 0.40639467039748944, 0.03123261275308095, -0.013558388515735752, 0.0862424493214957, 0.06900913050245798, -1.2664529323288238, -0.3378110842174018, null, -0.5972125677565487, -0.6774327899734711, -0.7634634876717189, -0.7887316779402361, -1.9650864154056407, -1.0709875177970842, -1.4146063137055418, -1.206157306172969, -0.19445179752477318, -1.9650864154056407, -0.48879734225553495, 0.1533498682205803, -0.013558388515735752, -0.08102893687587198, -0.008371959163720655, -0.3668944430048508, -0.031285625321308796, -0.10992578130773756, -0.0717877514591316, -0.008532761983076629, -0.05613405336307073, 0.011866363845309466, -0.5931773467972613, -1.2236290707233974, -1.4623614670369696, -0.10875964967036855, -0.7528768729981173, -0.7048489941446384, -0.0862994678572671, -0.9722893738145354, 0.04069024290125134, 0.16726629851501104, 0.37304154956019003, 0.15180859714079686, 0.0012455449255193048, 0.1581019531029289, 0.12700344509435163, 0.19915721213325022, -0.13326599960646526, 0.04069024290125134, -0.032115164971686046, 0.028896877878706168, 0.009604516590508209, 0.35881826832630354, 0.008881520567032382, 0.0046681517078440635, -0.8455482444225471, -1.2983308297903218, -1.1614738104887488, -0.5875781194032178, -0.6568620460650321, -1.6426042709414574, 0.332686171262563, 0.0027859132260419106, -0.08269020590169707, -0.35769236161563156, -0.080508775052559, -0.23409053518023212, -0.26921177976547966, -0.22457654202118651, -0.08462708333181486, 0.2353254904625558, -0.9185123054078557, -0.1146544651175606, 0.04069024290125134, -0.013636768343096687, -0.1673141625660718, -0.026819006083733266, 0.04069024290125134, -0.8540451929318591, -0.008040363359406732, -0.20477127102002196, -0.1446491509143361, -0.3232188161026607, 0.04551507837879427, 0.1280716562271712, 0.08965185512218495, -0.031478604471759423, -0.9262161231300157, -0.5657965370528358, -1.1682721989573759, -1.9345839265275018, -1.2242479985133659, -1.862210351861319, -0.39559760849882486, 0.30646718467262846, 0.3830423090146915, 0.07221177913966369, -1.129214961873047, 0.396898898291201, -0.05952003443751622, -0.0164913388022041, 0.028781147660851446, 0.10346613499342996, -0.08510201297932742, 0.08307029174273611, -0.0333965272697933, -0.03428675149888894, 0.0374462870021183, -0.39699343582715513, 0.0374462870021183, 0.14028075561422484, -0.3163615162351235, -0.724323401288815, -0.05007705863323991, -0.07664324859112101, -0.3777639610516947, -0.16491258155534896, -0.4150441199922211, -0.07528124881363889, -0.5199597336395967, -0.5301295182696295, -0.7437287846229094, -1.070231733857427, 0.09570566807939043, -1.2350669170566213, 0.3331777179039291, 0.15136158576792724, 0.32145191526862255, 0.0374462870021183, 0.005689988028275722, -0.11058661175428314, -0.1151035866920307, -0.25072279687925986, -1.0510390816690578, -1.0765999843800156, 0.37098019369957236, 0.13618586047839004, -1.0841885111787133, -0.5428096632476204, 0.19193255194394068, -0.061747825509983846, -0.29885214623148376, 0.07191398722189715, 0.0374462870021183, 0.14569723769424342], [-0.09092610657615414, -0.6443032552829792, -0.21283575715839978, -0.1200796836937303, -1.021855388782094, -0.4772472099642895, -0.17807077952422407, -0.5705805343914118, -1.2061149480285385, -0.050840397969141776, 0.1758581427771806, 0.06401537416394584, 0.1406514556369182, -1.3475910968486031, -1.0789013425607616, -1.5579740513307725, -0.08346141122938945, 0.17358130581727615, 0.027492005647693513, -0.24283298320012386, 0.2170905435755264, 0.1889323834207027, -0.3616753280553303, 0.3741138235150674, 0.09751903849822366, 0.154438345682536, -1.0154819919346063, -0.3347074743704361, -0.04556079943624019, -0.31826079328508056, -0.805101669552418, -0.4649441674153485, -0.3704794771618967, -1.649970018093622, -0.9751783940835039, -1.4180093052936609, -1.3105618417498353, -0.4139968807714777, -1.948930688843147, -0.24282031963033957, 0.24825227995428625, 0.076268481537129, -0.07799471966925128, -0.15882768271867825, -0.10277094991062916, -0.04174098165621481, -0.04853513786725298, 0.09492235582093904, -0.012493256808949513, -0.09805990988428082, -0.008970322948091794, -0.06505326892097262, -0.722904767223683, -0.4006611716346984, -0.1318559903590375, -1.5975969903206344, -0.5447773476999009, 0.016212542797887714, -0.5087853086501194, 0.28614196328891534, 0.18307423752957006, 0.3097005140540719, 0.007743885952452449, -0.25026920053638635, 0.07471313136044466, 0.10412304098175976, 0.14711971127437343, -0.2702434152210689, 0.02776705993701759, -0.18230952546090182, -0.29235840110680744, 0.17580141115642822, 0.2242726650706126, 0.2128796423072394, -0.028035758706615715, 0.1099299129810936, -1.0650301041190806, -0.22869649932703176, -0.3253129417870989, -0.397380306717423, -0.18237266266658847, -0.011919101478315755, 0.23692935317526306, 0.07540119287227609, -0.270687890393822, -0.06829926570480764, -0.18263339433886838, -0.02518566134562342, -0.1348886918906885, 0.012404105557624313, 0.1623967647824207, -0.16722092302889174, 0.010843356529103851, 0.07421691938784737, 0.1517777103647214, -0.0989219537528873, -0.12179392153421145, -0.02108275398873268, -0.6101625058234975, -0.17281184320626614, -0.10749464123102885, -0.03950587987141049, -0.16043475110921906, -0.11531193800578654, -0.08575259537257406, 0.10224276536570254, 0.07219486284309436, -0.3138914103840178, -0.1527875134265854, -0.5655123125202641, -0.9655385802540348, -0.6954591940175869, -0.36197344033028955, -0.044710279153148264, 0.4273053550289916, 0.4577244995899727, 0.06946101240677045, -0.6171192744854032, 0.3975487228638819, 0.06652117097485215, 0.04339877883945175, 0.10214759350932595, -0.09573158960269139, 0.02429133106844128, 0.05599046596347457, -0.02175068314897011, 1.196918205002027, -0.038382688674945084, -0.04543987287173227, 0.06025022897939824, -0.009372138350406579, -0.24597272863945616, -0.0039898281899259785, -0.009390152431556954, -0.05118772654297491, -0.07668806249265232, -0.44284112718202195, -0.29032942830826075, -0.1800937815897066, -1.2892703336002984, -0.34789405291042935, -0.49361531850696855, 0.0997860781993704, 0.2627942587183305, 0.029772153924770183, 0.305577221055215, 0.18333044215002062, -0.015096470678408257, -0.27124019248227543, -0.044860799296885336, 0.1941818067287878, -0.0029673967104293054, -0.12280225001800438, -0.015417882540275069, -0.5300223164608661, 0.24403560870694746, 0.12947078127477424, -0.5642143124682452, -0.40828026752369756, -0.031322316523035736, 0.05281457127925083, -0.455481570562773, -0.053670735774048385, -0.08235320237852471, 0.12519155206758661], [-0.05253675947575528, -0.5693836165516776, -0.1497145620357951, -0.03609786678512438, -1.384448555035262, -0.5934015430712236, -1.2354779201282875, -1.0049375306765724, -1.661634659612839, -0.019654880787192797, 0.2414999658028395, 0.16443418683141214, 0.19711313044015072, -1.6434312740682806, -0.9101765724029381, 0.04912624739216145, -0.6180336286844583, -0.2973669405395242, 0.13985282162258691, -0.8143337622922852, 0.2426901366638091, 0.1470544728880689, -0.22287347403245575, 0.3492286259630587, 0.17962601717305834, 0.12825963261688508, -0.9880682904681415, -0.11148506607401701, -0.14813929500455428, -0.29142291019190497, -0.8552168192210939, -0.771491056316472, -0.5095404177996614, -1.2108974207085734, -1.2863115365558466, -1.297666899878995, -1.7035282937884133, 0.023508968138880985, -1.9093517606456407, -0.4535948190424504, 0.1404337121029146, 0.04789660901379246, -0.1163444166768205, 0.013276781273421462, -0.20150629863429306, -0.06870848830020158, -0.011625136954094152, 0.06780015213767702, -0.02617884723321627, -0.13946828538171935, 0.08956986693300033, -0.6466373447446914, -0.7756653817101314, -0.8766495057137066, -0.01782947879734028, -1.2533381706003635, -0.014726074458461504, 0.17041894696090834, -0.47671939322096873, 0.16653977253104993, 0.05008992388133443, 0.39529912935083433, 0.12294601964642471, 0.027957400880630427, -0.023731694569689748, -0.008278823412854255, 0.22859499241933912, -0.3016430240493521, 0.06521645960533533, -0.0721065683215526, -0.2539410623046615, -0.006738922029110926, 0.14387582579525648, 0.08463892303568503, -0.09180396573303046, -1.1654735406071348, -1.1806253087425593, -1.2617605639736351, -0.9733181443071214, -0.7756649179364239, -0.5494825313516827, 0.15411399664191416, 0.0953690421950354, 0.02512051630141028, 0.008844209830674429, 0.033024312928857075, -0.0672226342674319, 0.31347412936265484, -0.7861712697104036, -0.07296791121223338, -0.022993680412464263, -0.8683449685298891, -0.09447197766543568, -0.10138743778119552, -0.21713281207156174, -0.24237246656507008, -0.10218603664989041, 0.021934310885623146, -1.0624323654827608, -0.18130189032626526, -0.28290767869974837, -0.205260234062037, -0.19692907371932725, -0.004985542323988128, -0.002570910792508147, -0.19159782637229794, -0.11505978297134627, -0.2743836765464166, -0.35756939407267163, -0.9656737758697104, -1.2868195406729177, -1.3585172758633755, -1.2194385358260384, -0.19375454625872685, 0.26725133641770066, 0.4287617087485562, 0.00032881064319697134, -0.5358441136447287, 0.3819644131277024, 0.0874631015183856, -0.19761273497137444, 0.10001447694176831, 0.060400130163406084, 0.013615836066375465, 0.023655525787204295, -0.022137883252645405, -0.02605987952880354, -0.008440039618338517, -0.4506905983014029, -0.19402419067337162, -0.013072866995843738, -0.3432903913097645, -0.26407211653034346, -0.14145145567588044, 0.0115837932807094, -0.2016353257353266, -0.3669124565895449, -0.2981916807379278, -0.0959217965695562, -1.0404795248544851, -0.6463339398629947, -0.5618343253863527, -0.09502827035346384, 0.046216347934424605, 0.306272048501141, 0.41518572573553514, 0.2072964221624336, -0.05897022747956363, -0.0389890372649778, 0.07353955979823401, 0.01491887453571014, -0.007314115133684106, -0.2856524378107132, -0.3439725182637758, -1.054994271324977, 0.1871196073361715, -0.06859427371463463, -1.0255426570533726, -0.6594720459860172, 0.017693812839002912, -0.02767292927315511, -0.31509850439221493, 0.054372973639017975, 0.04134024616835539, 0.1310072654270408], [0.018380701048083408, -0.9237289863271076, 0.025956376023137228, -0.13346918745769054, -0.7891409121460322, -0.33675552647467333, -0.44820662001714434, -0.6479803834241354, -1.948930688843147, -0.07413360892535753, 0.05271692572893913, 0.1033493514517641, 0.2374980585680628, -1.5015381183018377, -1.0477619744091862, 0.027955676625518372, -0.3280085446416551, -0.3256476037865847, 0.0167633665674954, -0.4799614203572738, 0.12966075861027654, 0.2231478154530946, -0.5692238496280864, 0.2079044637435788, 0.09377717205136303, 0.03558033533606884, -0.8989782822120617, -0.2423822859515702, -0.0574107957853047, -0.3295965444629948, -1.1362343474106866, -0.6198246120339646, -0.8674119431787627, -0.16670924600899575, -1.0549446507145293, -1.5876173260960182, -1.4405715778124455, 0.18603840788005754, -1.948930688843147, 0.23067773021234458, 0.07133538954103458, -0.007700736018386406, -0.1632543354230138, 0.04926942947683547, -0.02018970328004509, -0.15859310276569297, -0.09679352603642644, -0.013781916037556036, -0.03273147416657087, -0.07352298545119593, 0.19505418515334433, -0.18191484468119845, -0.9174753048162463, 0.01833306487711777, 0.16390401814422842, -0.9261929233838964, -0.06674111798156544, -0.10216381085168343, -1.3867571324831018, 0.3854541372608011, 0.11899798591988871, 0.3683152609500476, -0.030979994354339135, -0.2006387190429097, -0.09736466897866711, 0.014775841130970713, 0.19584927096063384, -0.22750856371255507, -0.2011808292665298, 0.027867933385623794, 0.004034648781642947, -0.0066931829698583835, -0.0036220843392855626, -0.004991163312666356, -0.13761430252156787, -0.7642702168102561, -0.6785760752417377, -1.5350462211531493, -0.43645667297501106, -0.540618662536816, -0.284163392792368, 0.12737402608967976, 0.1971458439040493, -0.02936367232505914, -0.1838413359155763, -0.04538289345633448, -0.12006779149811612, -0.1300701524962875, -0.5889027568369297, -0.07828805788880458, -0.07543605612097602, -0.8612870070646809, -0.10417479550195748, 0.05851937290942507, 0.11404250486728068, 0.054448813066071466, -0.18241920616258822, 0.14733879695096644, -0.9120302457861378, -0.2673609223778827, -0.36354879979292226, -0.49389449042481537, -0.02047492275430181, -0.17323055975120172, 0.13913606843489368, 0.018758210450618446, -0.0024959689001033463, -0.3024123444750707, -0.30332117894133315, -0.7059848886755903, -0.8518706498614451, -1.4749701559371915, -1.43937079512457, -1.0562703473178752, 0.4583679154468691, -0.037094920170039104, -0.06687132130088576, -0.8208723155996384, 0.40629184506377314, -0.08450099388575483, 0.05499169511608815, 0.12037456915917599, 0.024271769175599686, -0.021037891208299672, 0.006505710852910934, -0.10151623517660513, 0.09418738324022269, -0.05330739301315836, -0.19688281831967513, -0.33648296072550427, -0.15962111574921714, -0.21358739779254302, -0.5480976055741554, -0.05814430320305242, -0.02688913003014896, -0.1687453226847927, -0.49995826078634975, -0.4800405405744679, -0.08729128942193495, -1.1301835255564183, -0.35456466238923334, -0.4456466124089163, 0.02387348724367222, 0.14417552390609042, -0.08329829904776015, 0.19758206014420723, -0.007684496991517634, 0.056229934577777925, -0.017269393463072557, 0.15065602314906712, 0.08027535393017439, -0.0606121566714162, -0.1173517825997731, -0.0496867228132395, -0.53136709833458, 0.17898946107540525, 0.06994737913466471, -0.8090125627606957, -0.41985857353520295, -0.0688831927874804, -0.0023568813291651607, -0.46283766757915284, -0.09358878703201438, -0.06700091711275595, 0.015132841604972991], [0.08184755346867255, -0.47951627109586253, -0.1249469724991628, -0.314641430269725, -1.1961624469648586, -1.540775307669031, -1.5990459984995455, -1.528688561488887, -1.5038220929757395, -0.19845160487432978, -0.1951091600311351, 0.07374459795211318, -0.42004994892256736, -1.5833602131432842, -1.5766705218862977, -1.5133798945890218, -1.06262651695532, -1.9650864154056407, -1.0942293606240616, -1.545563586285013, -1.4579439295816383, -1.9650864154056407, -1.5260962223285102, -1.6431580898329432, -0.06342565300283586, -1.0532124555288283, -1.2634366861849642, -0.19171171674253698, null, -0.5069903729698133, -0.9138517727588177, -1.2684622752025279, -0.0799836081814167, -1.4991064603075888, -1.5663194299843137, -1.4032254869638545, -1.1162805252055197, -1.9650864154056407, -1.9650864154056407, -1.2357507481542875, 0.2174964299438157, 0.08625757167452391, -0.16854924617510464, 0.011015469919073859, -0.4231347721277188, -0.6035156466763504, -0.10047642924670473, -0.13571763816084398, -0.019728185782435303, -0.08948921186546803, -0.23491227842051615, -0.4953854534926623, -0.919616979357118, -1.9380037633380294, -1.3195377015456153, -1.6379518702108509, -1.3758237207007986, 0.04236949298759296, -0.14237885855841267, 0.19887507675925872, 0.12858748445903403, 0.45317932394942934, 0.1286359995521864, 0.013340418712959642, 0.23382911513963656, 0.10908713723899596, 0.25477183088379074, -0.2873412400621644, -0.07014046320543972, -0.0750460324116952, -0.19273433276806043, -0.13720281100340298, -0.009013028778782644, -0.31413943643696496, -0.8052426034881511, -1.4755819629733151, -1.6466730654542605, -1.5236971963306314, -1.648734837131899, -1.4517611142600355, -1.823128947894525, -0.5829827181460204, 0.06292770797989206, -0.21192179617703402, -1.3130800581202624, 0.1961996451635825, -0.11857959797400462, -0.6830839099756074, -0.9047738964544404, -0.22397969845735788, -0.24868077695840954, -1.3997603493522093, -0.1265473410541642, -0.882254075063746, -0.7734477296368576, -0.6114046476512719, -1.3284955087562784, -1.1683340369157955, -1.3209881378258828, -1.5059429637248143, -0.8217719031314159, -0.5663614298667558, -0.8769162530351755, -0.12817657313054845, -0.05137873756379498, -0.02413100589827898, -0.22185274100951577, -0.0009438514551254976, 0.098459075048987, -1.449396040811243, -1.7599948546966617, -1.4716188941481307, -1.4712087867294288, -1.3829951370004914, -1.8012315803123775, -1.7622331789239178, -0.7939635164461796, -1.511828166224533, 0.13863583265575627, -0.0443317776521225, 0.12816691962895904, 0.16906083628564753, -0.0027520922558238537, -0.03639244384872119, 0.009949297926076179, -0.13483560160986452, -0.1707183138295019, -0.25512461289758626, -0.3207902820060535, -0.3352148028600726, -0.9197613336274383, -0.7236828516929119, -0.8017364747684637, -0.9478330855890656, -0.5771231367626186, -0.5970027259705707, -0.9282878562335712, -1.5309707735171767, 0.05039137873741606, -1.9708045191242638, -1.5903731798367833, -0.41393803481850916, -0.3493106436996054, -1.5624097116869469, 0.017900570725050233, 0.16338993189644407, -0.3724164084873404, 0.1922849911683169, -0.042094011022558595, -0.016960354173031086, -0.01709046826731839, -0.35679228616634306, -0.4839442606561511, 0.07266332909601529, -1.6386130557608705, -0.35534184361185206, -0.6185658760462254, -1.6726536664419207, -1.5457911146986667, -1.045914243479259, -1.040758890123482, -0.853621575378964, -0.2640598604969554, -0.19638184556981933, 0.1882230783871225], [0.08459133396281392, -0.621788900638409, 0.021096490096072413, -0.08973497770667264, -0.776281368162479, 0.06263951604039082, -0.3219877730314626, -0.007562122179389584, -1.9380037633380294, -0.004728697677856499, 0.14575064927328082, 0.11570621780553493, 0.3539013971896985, -1.5130205233267386, -1.044067686507561, -1.9650864154056407, -0.1700883502678102, -0.11270205997573665, 0.09668390887975134, -0.4860537155090792, -0.09240852475742095, 0.21114006551952247, -0.6581879663008379, 0.14332138186732152, 0.04103777173361276, 0.17832180696257013, -0.499779475777752, -0.07822172909095028, -0.17681941456965355, -0.6302744767333354, -0.6341839747289942, -0.47518290167222405, -0.4861929289161077, -0.8988340256019758, -0.48737637456973437, -0.9637665141178867, -0.8760698725795271, -0.19918448958210133, -1.330709079512867, -0.3511170375015765, 0.21667029977824262, -0.02401444577916381, -0.10215658929274447, -0.11689844697583178, 0.14865036539878554, -0.09431515063665503, -0.268820071310609, null, 0.0826090006513588, -0.013558388515735752, 0.25349645856143377, -0.08191356984485555, -0.8228023442779095, -0.22554417941777044, 0.016103552861739843, -1.5030195129496924, -0.05532271529610555, -0.2892971118643511, -0.5888354354650697, 0.27014455700217627, 0.3585893329323549, 0.2982153545790274, 0.004701315760766396, 0.07291539063198683, 0.12437376890381562, 0.0481069950341636, 0.44647813807788556, -0.6351565332048206, -0.09255195821622773, 0.1392534758796466, -0.3755773717935893, -0.006639017209980534, 0.11172071150975536, 0.024866114084834103, -0.07428268073200046, 0.040997165401633666, -0.6603798950586828, -0.4134145589713545, 0.0388813633076488, -0.11835550255023332, -0.13181025164730953, 0.1923595840286586, 0.3782901756720626, 0.16505933182264387, -0.0889813619274266, -0.02415251860877123, 0.021643148588646906, -0.10418333438942029, -0.3438210269111567, -0.5206468689909958, 0.01583285276913257, -0.2733401804288844, 0.007537781262028077, -0.21858354376079872, 0.19058102593774745, 0.19137170750517474, -0.24022663092546073, 0.22332288523853044, -0.34299307331788204, -0.05181755900064952, -0.5554565236753545, -0.14748783501686366, 0.006920544402561178, 0.15922475686286156, 0.035130218820039825, 0.03944512588796891, 0.041260918076694256, -0.17491572227506952, -0.17360823976274706, -0.7139070564738086, -0.7657662393546127, -0.31672401879413997, -0.21470130904969972, -0.14195094312577325, 0.5463602443835892, 0.4287040442785448, 0.005598406170616449, 0.06759057478726317, 0.33193730430581847, -0.3071689858889399, -0.050181352253717726, 0.1442260896081413, -0.08779534337236632, -0.04511686153262466, 0.09129628248048113, -0.025608335047853533, -0.05958145471012142, -0.292004669482036, -0.1243718849231868, -0.30394242017009443, -0.2673353010478492, -0.3641171719990168, -0.15132122723455346, -0.47102883000759665, -0.06016362228875984, 0.009250582770793908, -0.21835797897231146, 0.015516539526277705, -0.15448642985522157, -0.45295151879864637, -0.23777627988108638, -0.5819740103104639, 0.2315630397406063, 0.22563151233191, 0.14480681493972578, 0.4693142130661161, 0.03447786673963309, 0.1759385304133955, 5.1057177882266394e-05, -0.2612397050177371, 0.07473714426823744, -0.10026586613579465, -0.5939170564787315, 0.037223698038182505, -0.21297985140720602, 0.35676337990765405, -0.09633394272754621, -0.38483506780123955, -0.3247758782810917, 0.09123513740403148, 0.04777538541030043, -0.22411184203856696, 0.09393235723238359, -0.07540316870198747, 0.1198730847513829], [-0.007195190377810996, -0.4220974111556786, 0.007561149881439369, -0.7301066118181566, 0.08917028534987301, -0.01239651172607669, 0.0034797579905403546, 0.020005880263965305, -1.516804800983275, -0.06508130378799544, 0.19584454113711813, 0.14981774035795514, 0.0027058190260569855, -1.6944439793320456, -1.9437018877857712, -1.5385967580684157, 0.04742662217896721, 0.029363177557271265, 0.04681228256878553, 0.0486244483642036, -0.34841447274424775, 0.06002608299363701, -0.5095062085860788, 0.4303023048594327, -0.26907326327241227, -0.0061070125106335305, -0.5690483961826146, 0.09938348591961985, -0.4398779342939152, -0.467610870288508, -0.6870568365810052, -0.5975039554952981, -0.6536333609533618, -1.6698847445240972, -0.38739187026130395, -1.4159486548762077, -1.545411306296358, 0.34892619887413834, -1.5584189328444118, 0.059293402650385, 0.2994437935792845, -0.15739861067323646, -0.06842192727922904, -0.03633328783581752, 0.10943510519269434, 0.036167284674768735, -0.10620682809680594, 0.08558187003143984, -0.020593721569994658, 0.05997654435914091, 0.16552058804253858, 0.1768273272614617, -1.1689336812721256, -0.01599798962970809, 0.03419582848802809, -1.5224560308103428, -0.31562945952443583, -0.8537677585687136, -0.9794997371934322, 0.4009866962173006, 0.2317199614186595, 0.3762455523699487, -0.025828716599985712, -0.05699983502354547, -0.018342800836679173, 0.17493773972402438, 0.19109654642613477, -0.5740787354069576, -0.40183396596585264, 0.11343769328132836, -0.010676785041931612, -0.13032245642827453, -0.0686348628175293, 0.11077920050209841, -0.012932871277014165, 0.14040981240827902, -0.12590707470713508, -0.08268876331276356, 0.19504313796559036, 0.33910986291316414, -0.11005436803206799, -0.4247067118923549, 0.16153303152044315, -0.40102829269996426, -0.40290126489793854, 0.014959661811801514, -0.09559199889322008, -0.730418988410225, -0.08817398866351536, -0.08046427817657625, 0.06774431148609651, -0.18994153409427197, 0.11274385109536382, -0.2151400863724346, 0.22398112092377498, -0.05640703735625506, -0.255611106838169, 0.14296767946503325, -0.20217653161375193, -0.3610860223776504, -0.21913835624172592, 0.03851660797096504, -0.1733922084616292, -0.052716830148614634, 0.1451686388934059, 0.1490667167539385, 0.06440567594141626, -0.07435398987921762, -0.15237326764534304, -0.28357137983554254, 0.014733394450091891, -0.13197092664586627, 0.10279874158962077, -0.16155528960564175, 0.21388988840841203, 0.37133077892798694, -0.10994931575932913, -1.1320074897433205, 0.1325145049784001, -0.04494904555348102, 0.06806372714874216, -0.09074807075002166, -0.059235703758395986, 0.0020293469868986197, 0.06754299783304656, -0.10057836652740372, -0.09117614962497694, -0.10635914296721971, 0.016874666177032715, -0.11810991118246993, -0.21895298128750826, -0.0289754994876756, -0.31531826696473947, -0.14279133321838114, -0.196478876473775, -0.032622882644727624, -0.8864941154720367, -0.06857452059295491, -0.42249940931951085, -0.11606376226744347, -0.06475002498393356, -0.30050747567851877, 0.38271976074404024, 0.15109615121873823, -0.25634414593770116, 0.1531305494817235, 0.004744778303348923, 0.14668519484982082, -0.09580342594767721, -0.016019954933793146, -0.044638831348527024, 0.06295755355062614, -0.08930140179031548, 0.2650310068332527, 0.1595725401484851, 0.32900406016242156, 0.10166379250723316, -0.055893051375640025, 0.016148842996110854, -0.3555306989123836, 0.02187569103584114, -0.23527680481845012, -0.13040006678712782, -0.3097771714004238, 0.0663390152801231], [-0.20607570367594696, -0.494849315442762, 0.17832347682008587, -0.21969570041363334, -1.9650864154056407, -0.24702339328823236, -1.109339160933442, 0.1395420115392008, -0.921565289185031, -0.3532783526200969, 0.11141099276856259, 0.1229052291043905, -0.8635612490187455, -1.2717287333775094, -1.948930688843147, -1.2545980662654515, -1.1669150951790617, -0.6049979061913365, -1.1180690383875824, -0.4974504993402354, -0.10893700938288216, -0.2547803970751116, 0.15241343134668217, -0.5023633583143327, -0.28169917310198306, 0.16238333210921763, 0.15381093708040497, 0.16519531690241082, -0.11674161719649666, -0.5567428555623705, -0.013558388515735752, -0.8368045391865593, -1.1661093673680498, -1.0666317893001358, -0.20695352703793218, -0.6054766944772172, -1.9650864154056407, -0.8388684783831285, -0.013558388515735752, -0.26896565790199295, 0.04938887215040792, -0.24165134660104332, 0.1636228374543411, 0.0024370062113167287, -0.06446584749079562, -0.06636099164300087, -0.2949188711766675, -0.054219235155235246, -0.3481537459455404, 0.09831150504110661, -0.028193894862927865, 0.0413459726413001, -0.613368037013003, -1.0116225496581819, -0.2630731630852223, -0.6009785168673187, -0.9184681546865499, -0.9854639657857923, -0.7274014605239557, 0.31697918802428926, 0.47317987562705394, 0.6504413217969967, 0.04069024290125134, -0.36889645657595715, -0.12864598975082212, 0.26163800442683044, -0.06590051345206999, -0.44460729818424555, 0.08646954899441382, 0.04069024290125134, 0.01902728564321566, 0.13973851807706963, 0.019242206573017447, -0.11505958439998076, -0.17225767354855873, -0.39174646145565756, -0.010855298104852362, -0.3090554715557165, 0.45321369440716036, -1.4575461460660184, -0.19123739851711186, -1.708046294543099, 0.16795356514662393, -0.3362967298222036, -0.33742084903807434, 0.12437249444624976, -0.29949861924093873, -0.549268457049519, -0.048090277452541116, -0.22560182694944417, 0.08303971846782508, -0.43563300252702347, -0.022167798516254875, 0.11753503094977853, 0.04069024290125134, 0.04708795380207581, -0.3207334050789086, 0.3745329312430135, -0.9309958584800405, -0.31109251264375265, -0.576561763794458, 0.041039584879374987, 0.058685267181404877, -0.10614748058397755, -0.32452164806855266, -0.07496128118046512, -0.012703506774331581, -0.19642472151782547, -0.1801694766795239, -0.8493432003027387, -0.9469354487787349, -0.542884440421913, -1.6203692868541406, -0.451478528031241, -0.827618638453777, 0.3727801159441386, -0.3678162431644293, -1.0606193443921241, 0.319133799869989, -0.2499047905099131, -0.10185185844698054, 0.013667167205245908, -0.15007650563200928, -0.02763426158082485, -0.09764064067532881, -0.00777578276583828, -0.113316107235577, -0.2728463476125081, 0.1382903323110208, -0.22332738532595883, -0.12927862398279885, -0.07275435720660511, -0.4523555995324833, -0.012013964785687715, -0.001687455809984889, 0.0374462870021183, -0.673085873885806, -0.6358657888992701, -0.3936299119028064, 0.0374462870021183, -0.008134374936256383, -0.4391613728045829, -1.140294936884622, -0.12004176787003921, -1.2402612463180696, 0.1941401999373673, -0.15898339122371116, 0.2133587567668042, -0.2173270833722667, -0.2130285782356515, 0.2769459851282612, 0.19421207254593903, -0.06701347390295656, -1.23478673496846, -0.0860141850317629, 0.0374462870021183, 0.08465527213404131, -1.4904688106058206, -0.7600210959846128, 0.010945179484798376, 0.0019795820889741598, -0.5520333044145752, 0.025425472680182432, -0.586032094760661, 0.12994299797425424], [0.17994617334325025, -0.26719146342235506, 0.23565775136135597, -0.1965758176448439, 0.06584706516902603, 0.10826922506014292, -0.06859072675584287, -0.0802852928685121, -1.1069405292406485, -0.18586386171634728, 0.16943542945803855, 0.08215213521080818, 0.2651342668120917, -1.3021008833718286, -1.9380037633380294, -1.9380037633380294, -0.08196129117808655, 0.12836371227550414, -0.5178485330356993, -0.9671147316370478, -0.13136694453502082, -0.033902935345646014, 0.3622813983105105, 0.043080053704733265, -0.03554382506041125, 0.44553711562004333, -0.3929533629294713, 0.09799406681867351, -0.2649438109486959, -0.3712328281456, -0.20845628959329351, -0.7456434423945941, -0.7200982545916635, -1.9650864154056407, -0.8470396359504602, -1.2746379319489403, -1.9380037633380294, -0.13754114316041555, -1.3115661258693352, -0.19072587343466496, 0.0335611666910629, -0.0922638777127331, 0.10178576036111624, 0.031910656348740435, -0.10229737804426103, 0.04497476291035576, -0.23807968091134044, 0.266730503439361, 0.03654433644648425, -0.3002200345394299, 0.13851184410759945, 0.07126666144898755, -0.4107078238366544, 0.20512697227156518, -0.031039545552606115, -0.8874087538692429, -0.2161993449383279, -0.03831448193484307, -0.8892250099059417, 0.26447182570629635, 0.6523596765246343, 0.4155007768844748, -0.11390072917380731, 0.011659852598360446, 0.15419210927240057, 0.04069024290125134, 0.27045676417188264, -0.2806345903889333, -0.05756232276641413, 0.3282033747886623, 0.04069024290125134, -0.03549034443720617, 0.1354004652319194, -0.05927589568162128, -0.005188856379658173, 0.08795965690124741, -0.6659321008974928, 0.011565649542383996, 0.15867810912309405, 0.11822940602558014, -0.11523890811305028, 0.0692101554397212, 0.2708865809285875, -0.18578815887712938, -0.8828247388508867, 0.24433199239945322, -0.06662632857470636, -0.2527126396391329, -0.06423729186338263, -0.03618544492562772, 0.41302744178389844, -0.13078382859961754, -0.0017927488796268395, 0.13015149165512893, 0.2745178154559176, 0.2511960345600621, -0.046943005398902136, 0.24894837620112908, -0.1935200351895127, -0.08221182396315119, -0.03006064040381056, 0.10733545822970109, 0.023171530955944458, 0.09952341277956668, -0.05840726526101165, -0.07229291651141447, -0.06509542008408173, -0.3239109993689057, -0.2853638551431342, 0.04069024290125134, -0.39125925135569756, -0.03493844370512804, -0.03406442478311477, -0.13624045348173386, 0.5290205669430339, 0.33203573213905274, 0.08822246538535969, -0.6895136492237016, 0.3087330650143077, 0.026081399209383346, 0.08190843648789134, 0.014640443356804464, -0.0702353875669111, -0.09015676835452723, -0.09867462539669478, -0.27844553742584854, -0.30863369793658835, 0.0939634745905974, -0.1192683992088236, 0.07938269697957241, -0.2782200394936786, -0.06859222269923675, -0.30215984092655124, -0.000868674509675732, -0.0017576257666525597, 0.04098562523589218, -0.2215470910405198, -0.18714478641738008, -0.14776197805614175, -0.20390815489040182, -0.2459031762965478, -0.4953063924542942, 0.27449810679894, 0.11088201479832155, -0.5108851601437014, 0.24338835426448432, 0.13941739841788228, 0.643074465978227, -0.1361962704595097, -0.2458054940404334, 0.21353420990728011, 0.1913406846672031, -0.29524255297937113, 0.21994137598345972, 0.029903153634182306, 0.13867920522753488, 0.02365619004550627, -0.1287229493538498, 0.7323050405576336, -0.023760756078741313, 0.20480641384622156, 0.14229118966662643, -0.009867225544023474, -0.3123592378437359, 0.14787774388483746], [-0.16238513445343267, -0.9123555195430968, -0.2573042467310189, -1.0543728627627735, 0.13031297159604563, 0.0008687841504461885, 0.151307687184039, 0.08701420350707878, -0.8152888251005908, -0.013640594545926537, 0.050806788069151156, 0.1511193686204412, 0.2968910263631156, -1.9380037633380294, -1.4531945820168506, -0.9265681213029314, -0.36326763723569594, 0.0600635226332509, 0.0541688973327152, -0.013558388515735752, -0.1986063065135264, -0.17679431020534778, -0.013558388515735752, 0.3650002471972873, -0.29980169567032916, 0.1907775081501032, -0.9710058614188933, 0.0010864083508005755, -0.42180490339463816, -0.49078388815593454, -0.3738642701764985, -0.9513497957657497, -1.0744651640943144, -1.0944086707574376, 0.076223224145061, -0.6005748306752916, -1.439093761720577, 0.0777982750365883, -1.5476147182843727, -0.056388526731002635, 0.20928822179114306, 0.04191263182370985, 0.07334435373868493, 0.023266577324096538, -0.09118498838207069, -0.2039990333279731, -0.24086513837222145, -0.0383840880180217, -0.028367978862037447, -0.08763607689072585, 0.17579358835112688, 0.07120656095253357, -1.9437018877857712, -0.013558388515735752, -0.08207884522129351, -1.7547471022885353, -0.043694784895466444, -1.1067236738864474, -1.0479262922591797, 0.35074684941275774, 0.35805083331345133, 0.2628911727767311, 0.19965089993845106, -0.22044389094256842, 0.19620872457308922, 0.14379548529092337, 0.3493675854830886, -0.5678323578224972, -0.17401272366366657, 0.307466784660594, 0.05831097210553392, -0.13157108125870054, -0.09975422930591217, 0.18668090926236447, -0.024533706753889536, 0.20880724390116537, 0.43673502976632717, 0.07271342293438778, 0.12396354274841818, -0.028289114891126853, -0.2043848640941033, -0.8832004935351971, 0.04069024290125134, -0.2505642556384266, -0.18161541111828675, 0.0024675904832422626, -0.3729776366680894, -0.06999317553096313, -0.08418933428029589, -0.09501975948761943, -0.00643413753190702, 0.04069024290125134, -0.05059560685074433, -0.2037937539906516, 0.19258487514460307, 0.37411437420740246, -0.5107234628551951, 0.031822155995761055, 0.04069024290125134, -0.11091281839280022, -0.09595962678265339, 0.20176581194534576, 0.03250740159913315, -0.3629260104809994, -0.04763460972310582, -0.16042887836050024, -0.3206301776789985, 0.13802115017958122, -0.25218993299241993, -0.14569298053920024, 0.18565777331068578, -0.0026550265475538495, -0.07197994147874723, -0.5464415830898347, -0.535283425022094, 0.42908574094086954, -0.22572161728001183, -1.3762761108738257, 0.05872171579701888, 0.03835413864271146, 0.06302088921296899, -0.15109580343516113, -0.12876278199355862, -0.010645467671326765, -0.1900927806326234, -0.08855055307571987, -0.1476171386700702, -0.04299461767040791, 0.06546311923663506, 0.136066865972057, -0.07670571642116346, -0.05485378388684579, -0.32513237668756884, 0.0018905305130811068, 0.12051097414923506, 0.06241748898950399, -1.0045454984567233, 0.0374462870021183, -0.5324084684769056, -0.1715542742554477, 0.0374462870021183, -0.5308931672025797, 0.4042009107323192, 0.04596525984408306, -0.9536450842296135, 0.10857248889580959, -0.08843457045992663, 0.0513619243767464, -0.032588418832297614, 0.06346012429704471, 0.34714397249929396, 0.24299853027621618, -0.44485081179825176, 0.3327853825466297, 0.2606648147511685, 0.19003729556632032, -0.03513145976769772, 0.9635095664860476, 0.22398479056013096, -0.49021987076838835, 0.11400145363616077, 0.0374462870021183, -0.06845199584101429, -0.5122429589310634, 0.005415691832122954], [-0.3097653850438158, -0.25885398817828026, 0.06775993190194247, -0.28823020688904744, -0.0312897502746983, 0.05045013349131311, 0.10838194628635711, 0.044394420569348364, -1.7226401134034226, -0.08278366286703935, 0.4329563658047694, 0.00211449124617036, -0.1337918849065687, -1.6945428588737315, -1.4212932812145749, -1.8521614204958816, -1.2590646434201458, 0.14361230505675818, -0.07313280531671555, -0.3759164216502818, -0.22176741563273375, -0.0009727473198596209, 0.4854220732503775, -0.15080766246197386, -0.07916061456246719, 0.3701250907094371, -0.6893297922454639, -0.07829008862555868, -0.3830246092112652, -0.4180450458911648, -0.06964151355111835, -0.6109173382166264, -1.3109910162383374, -1.5749497041261271, -0.4302954381284072, -0.46398765182366514, -1.5325415807254659, 0.29242592033821574, -1.444267521944531, -0.3953175987451752, 0.15607281678969745, -0.10144711520036792, 0.16442255270903017, -0.10486062012827328, -0.16918260656850803, 0.07868352560679247, -0.2423213095968899, -0.41417445653894114, -0.1507116319512382, -0.11961950667321312, 0.06318948138379041, 0.010068199002333562, -1.0722599459495388, 0.03835016371445415, 0.13240139036216333, -1.4715978637415128, 0.2044543962693001, -1.3338956783349252, -1.5121760734879732, 0.25418626190536847, 0.4247673966346092, 0.3362565990724214, -0.021258289871339823, 0.01865849145804849, 0.19220474788338068, 0.031379254713207426, 0.22129819607976897, -0.2989398468206509, -0.2290569085344306, 0.3074403313706766, 0.27046746227118207, -0.1402992800131977, 0.005669131791576437, -0.4398882322899251, -0.03827065244973547, 0.24548224223785262, -0.5300865211569816, 0.025046608241063573, 0.23309220679301754, -0.04450024629647444, -0.17645294257068367, -1.0154547225958253, 0.10696000727040764, -0.31583135733185047, -0.4721290225482213, 0.1681449934868002, -0.07725198781149001, -1.0609922640149339, -0.05480308611242424, 0.06715549195965656, 0.2719892215880259, -0.12650262472260232, 0.13687753862839933, 0.06162380012990399, 0.26260703733318047, 0.008447108181298624, -0.199887653616192, 0.3637853868412345, 0.00585889701945061, 0.1663007118053643, -0.10250718115269643, 0.18379358425371095, 0.12353221508259021, -0.009917340491778684, -0.07435738432385895, 0.36811748523732923, -0.09238092563055353, -0.2331114766795715, -0.31986999251270154, -0.2590790455933169, -0.3048785422035212, -0.04084728295235287, 0.04368168788460334, -0.1857593802149462, 0.46916805151888535, 0.27340146764318507, -0.15567943815349417, -1.5737249560006896, -0.001832506934709333, -0.12074858398450372, -0.12775279087823083, 0.03352936834850644, -0.04995299961031603, -0.026756503738305796, -0.12039064608160503, -0.01994102729632903, -0.18104215549283031, 0.008577995838165639, 0.2096664864588833, -0.02882825449484647, -0.2292066834491944, 0.03608814619118483, -0.21814270747966957, 0.010374247229952878, 0.09674242607444489, 0.12900466691566156, -0.9479486406322373, -0.13517155079630197, -0.2595398563075068, -0.08529707142671335, -0.020948666830883145, -0.4310961856436534, 0.29643297168146177, -1.2276308958241415, -1.1607156825664315, 0.27400564596734744, -0.10012151304569508, 0.34729876616601885, -0.19401202755836355, -0.07847884932282351, 0.1027689624967224, 0.16772510374278773, -0.21825222298957062, 0.3925935133685414, -0.03298415727128159, 0.1315942194169559, 0.061759063762659314, 0.027511799138353766, 0.1750154409460538, -0.19245635266538952, 0.1118244532674551, 0.0002606995252325906, 0.1271678763914761, -0.3596795462627433, 0.12657757161935956], [-0.017037689902018177, -0.2802477315093637, 0.17279166236284565, -0.4770480301857858, -0.1313440957986721, -0.20323804429587333, -0.43366715730873234, -0.09783836567520135, -1.4124579257796226, -0.1483859382123253, -0.02613043720470076, 0.16987874234708158, -1.0176965076912845, -1.9650864154056407, -1.9650864154056407, -1.9380037633380294, -1.9650864154056407, 0.3469603472391356, -0.8413780754903964, -0.8329508718769372, -0.11526851551490332, 0.06434334453125487, 0.6546168914702695, -0.553627559648536, -0.44961197445576345, 0.3198019523548662, -0.07976449902351102, 0.09989840501892527, -0.15964063785374513, -1.1083961416540398, -0.541282089517837, -0.5964539913246177, -0.681039269866672, -1.9380037633380294, -0.4282172444573167, -0.242541691958457, -0.9160692746628749, -0.6610451130798584, -0.4737843066972576, -0.15404701782858585, 0.14816941143804477, -0.35009835194701117, 0.13642303163194736, -0.1736674066764668, -0.1272307471807879, -0.2035890502056472, 0.030321129406160142, -0.1410519133967873, -0.4270311433667229, 0.17577132249716543, 0.012676994315607436, 0.07737334446074598, -1.2306908179368259, -0.32659979930491967, -0.16145133519043253, -1.4226743999905984, -0.45102748082757405, -0.6803943851474722, -0.5560754675324522, 0.11761081937943235, 0.39624364287605196, 0.6392599069380975, 0.004432753296888338, 0.043312236182889874, -0.060189282796807575, 0.1384158527448609, 0.1866799277028743, -0.19193039463191158, -0.13245429871026018, 0.07681593191262015, 0.050503442259688724, 0.02188557737545337, 0.05268744459254691, -0.08911226208389, -0.380198611669639, null, 0.04069024290125134, -0.26707221649134355, 0.40324376427297937, 0.1065875937634303, 0.07144963133970404, -1.708046294543099, 0.21046037926866115, -0.29247789616833253, -0.7188023379683506, -0.047957984318826696, -0.5503225764237233, -0.17124749245624063, -0.04495338872618453, -0.3819556201945335, 0.10832981984713166, 0.030275300390415802, -0.2275933395939479, 0.3067303421329578, -0.05746044752033902, 0.13438448491220897, -0.47930648477370985, 0.28874046819933635, -0.006117824741939513, -0.044650364225676406, -0.40589344658636545, -0.03706630248188721, 0.16751032867618734, -0.01674434117573461, 0.08397840993680485, 0.08214077004711606, -0.13375045101204483, 0.31323560457608607, -0.14533809325055105, 0.20899189688350975, -0.5180436758435506, -0.05184977779973554, -0.9490783419416312, -0.44390369767369364, -1.9708045191242638, 0.4792153346829115, -0.26623430863756953, -1.189070674201823, 0.2998002135020454, 0.05058192975745272, -0.09954801804981493, 0.1242426730591705, -0.23020268087142912, -0.07800214158027907, -0.042783256877849396, 0.23318579258527686, -0.02988923032838677, -0.22462335569845895, 0.11536572801324861, 0.07187270865176192, -0.5808152233648896, -0.00635486433130732, -0.3984275213412643, -0.17328045817427162, -0.1956112072887971, -0.10093494668740421, -1.1112946966986945, 0.04558423653353069, -0.2822936390389942, -0.1202745596680429, 0.13956586555705472, -0.3478630469903799, -0.9886443746097783, -0.509582834875942, -1.6301998099364738, 0.36114176931342534, -0.26593471744943015, 0.09084486588143337, -0.052892725900798944, -0.5176941567122978, 0.3733760344664882, 0.15972996310411922, -0.3151035212264034, -0.40524495497222374, 0.0374462870021183, 0.06623322100995666, 0.06198495505733944, -0.6232695690914911, -0.04350330442554626, -0.21955850010072112, -0.07911487970559562, 0.04988066469535077, 0.03939238103770792, -0.34919197047630474, 0.19493115811040312], [-0.25515523114180577, -1.0192847771282645, 0.1828363021055631, -1.0417535109002618, -0.38266480548805226, -0.2556780666187756, -0.27567397353797063, 0.16965881862901008, -1.948930688843147, -0.14929905985063766, 0.2029270382182828, -0.0641682650149995, -1.948930688843147, -1.9650864154056407, -1.0379526593344612, -1.9650864154056407, -0.5691631359759892, -0.7210380746785867, -1.3259197469593862, -0.3751144757318069, 0.19974194611596716, 0.004731368480376207, -0.4173507711392581, -0.27511632329574237, -0.0408259370906031, 0.4130960744906018, 0.26646007174778863, 0.16204901208544184, -0.091637106381258, -0.7746951793709642, -0.6351077769327524, -0.3829919791823325, -1.0357742086580601, -1.9437018877857712, -0.35781007951982613, -0.3674032056878124, -1.9650864154056407, -0.9127230712652379, -0.6421723349546982, -0.2468120675441283, -0.017661851275889887, -0.5066531360428136, 0.05730063958761865, 0.11791040398339218, -0.23786774981528558, -0.22237293771352154, -0.39974663318997306, -0.411113183900078, -0.5449832991922874, 0.22667388712230538, -0.34952040762344644, -0.12777002083417657, -1.0803030338762643, -0.6237064514626545, 0.26058536898066037, -1.0163402011092115, -0.5291988320686972, -1.708046294543099, -0.6799283256373783, 0.18905264166117813, -0.05503290523586927, 0.5835965308289438, 0.21592932340082086, 0.06540786280616172, 0.046871104778838345, 0.2827772545913172, 0.23824567328404828, -0.22731312750757623, -0.06486403089657312, -0.007434218882705207, 0.3738937895856574, -0.09206826819714153, 0.2321293954693499, -0.42226241007619714, -0.21227074182226127, -0.965798024360109, -0.15911557788562522, -0.91043199019894, -0.13713861466853064, -1.1316598420188921, -0.12384820940321688, -0.5589601953293486, 0.03325952548922362, -0.5726074658278953, -1.129609989796089, -0.2588177478613329, -0.320680624414235, -0.12680407975889255, 0.14680660997194184, -0.30695762169068697, 0.1666400336915931, -0.0904257636511777, -0.18076567549090658, 0.5990504286548444, -0.17728079413036826, -0.0021009414322295597, -0.7875147033185647, 0.3120098942836617, -0.6727018501866223, -0.26160913838597305, -0.5497930177393212, 0.1125792113452675, -0.02976723026019421, -0.1412972517547913, -0.2643113839706518, 0.035749943915409255, 0.004718792780941041, 0.00821344316027501, -0.2818827682169817, -0.24772484749329637, -1.020872682557226, -0.18661862021409878, -1.9225329325043614, -0.9463349134541028, -1.9225329325043614, 0.3981868662948716, -0.12277710046722737, -1.696207300940835, 0.18192197282765799, -0.11559019379251596, -0.506330544306467, 0.0603847135919208, -0.14160674488860042, -0.16600984258433693, -0.36549169965058115, -0.05633943350083057, -0.05042185985464072, 0.06586599819789912, 0.11695499556063992, -0.3540297159989747, -0.4390348741305897, 0.0711714032479874, -0.6288314660832086, -0.43581649961867747, -0.1747379502000679, 0.1531471942383304, -0.8382392661501983, -0.22141199824891858, -0.7137009336829436, -0.6301121826515766, -0.060006605772030576, -1.0990350631110994, -1.9708045191242638, -0.49453975483046864, -1.2223215535399126, 0.275462740159181, 0.021738787026874384, 0.4013689432457892, -0.2401339984514527, 0.2070771196193438, 0.09949507026009029, 0.0788401729943036, -0.38025908509706957, -1.1415064205451333, 0.030045545074257773, 0.17903674440654585, -0.02054402475804348, 0.06295713274469962, -0.013141496765832763, -0.21798094709623736, 0.1028542422638049, -0.40051241802918014, -0.09427915086213036, -0.2796037863066724, 0.02391399879640736], [-1.948930688843147, -1.948930688843147, -1.1528077972422024, -1.2640465801503284, -1.9437018877857712, -1.9650864154056407, -1.9650864154056407, -0.8712222859744103, -1.9380037633380294, -1.1913581807981208, -1.9380037633380294, -1.9380037633380294, -1.4752362130937167, -1.9380037633380294, -1.9437018877857712, -1.5020404967952816, -1.9437018877857712, -1.0360740792617784, -1.9437018877857712, -1.948930688843147, -1.3260265307982795, -1.4902161333071788, -1.1337516030576884, -0.48262871237265215, -1.3550969193243902, -1.9650864154056407, -1.9380037633380294, -1.9437018877857712, -1.400046887946648, -1.2959486719428726, -1.948930688843147, -1.948930688843147, -1.948930688843147, -1.0415540100432144, -1.1658438394560373, -1.9380037633380294, -1.1566624745829397, -1.2338646553125654, -1.228535501787052, -1.1717823269161138, -1.948930688843147, -1.0354609703976267, -1.0778736747904005, -1.1737973557854837, -1.3936700706060587, -1.948930688843147, -1.0884640705589386, -1.1549624195217973, -1.9437018877857712, -1.9437018877857712, -1.4730926493387173, -1.9380037633380294, -1.9650864154056407, -1.9650864154056407, -0.8415702150321277, -1.7547471022885353, -0.996697107654749, -1.1130625755181671, -1.2215273300298601, -1.7547471022885353, -1.527697357410944, -1.6018630919261632, -1.4702746917401404, -1.823128947894525, -1.2335937692072856, -1.7547471022885353, -0.996722841227664, -1.1507151493439562, -1.026731961725638, -0.4419470403565925, -0.9307779736713473, -1.733066064427982, -1.0658822340711456, -1.2727118369438866, -1.4797056113525724, -1.7547471022885353, -1.0309445885264412, -1.4939181203426006, -1.150460305394833, -0.6252774977108274, -0.8111905885375376, -1.7547471022885353, -0.8418505032572635, -1.5956374190773197, -1.6131842083427195, -1.1077106756124129, -1.7547471022885353, -1.0544705820010964, -1.134404902713286, -1.708046294543099, -1.491060822042824, -1.3333117483522057, -1.823128947894525, -1.7547471022885353, -1.7547471022885353, -1.823128947894525, -1.823128947894525, -0.7748093883466255, -1.2182259913013953, -0.9185157682566891, -1.3319580858514957, -1.708046294543099, -1.4791291266473043, -1.6250046629567276, -1.1154797904347622, -1.7547471022885353, -1.1254964047666003, -1.4995601802761025, -1.104811366248297, -1.823128947894525, -1.6439598495582812, -1.862210351861319, -1.371465550171571, -1.862210351861319, -1.9708045191242638, -1.13071850789097, -1.1397403917603957, -1.6706509964404133, -1.2003732382438457, -1.9345839265275018, -1.6942322160211478, -1.9345839265275018, -1.6540549626274335, -1.2276249886474804, -1.1150160621743321, -1.9225329325043614, -1.2212800206431211, -1.9345839265275018, -0.6837452516967556, -1.1756591483358503, -1.0659382712526306, -1.9225329325043614, -1.2526788481162003, -1.9345839265275018, -1.862210351861319, -1.9225329325043614, -1.9225329325043614, -1.862210351861319, -1.4901869341983514, -1.235692697207391, -1.2904740443376834, -1.6429031767693971, -1.9708045191242638, -0.8360202837577959, -1.066304703108455, -1.4702279729208427, -1.1690400962040595, -1.0907701617312582, -1.608832002032581, -1.2272764231884858, -1.862210351861319, -1.5447089248456713, -1.8041210588051946, -1.2910605049469466, -1.9708045191242638, -1.015759161081843, -0.9186412229488035, -1.6587777253728302, -1.9708045191242638, -1.9708045191242638, -0.842408016762199, -1.9708045191242638, -0.43628025505398305, -0.20149788710544095, -0.013268426463439065]]}],                        {\"coloraxis\": {\"cmax\": 1, \"cmin\": -1, \"colorbar\": {\"len\": 0.65, \"outlinecolor\": \"rgb(0,0,0)\", \"outlinewidth\": 2, \"showticklabels\": true, \"thickness\": 20, \"title\": {\"text\": \"Fitness\"}}, \"colorscale\": [[0.0, \"rgb(0, 0, 127)\"], [0.003937007874015748, \"rgb(0, 3, 130)\"], [0.007874015748031496, \"rgb(0, 6, 134)\"], [0.011811023622047244, \"rgb(0, 10, 137)\"], [0.015748031496062992, \"rgb(0, 13, 140)\"], [0.01968503937007874, \"rgb(0, 16, 144)\"], [0.023622047244094488, \"rgb(0, 20, 147)\"], [0.027559055118110236, \"rgb(0, 23, 150)\"], [0.031496062992125984, \"rgb(0, 26, 154)\"], [0.03543307086614173, \"rgb(0, 30, 157)\"], [0.03937007874015748, \"rgb(0, 33, 160)\"], [0.04330708661417323, \"rgb(0, 36, 164)\"], [0.047244094488188976, \"rgb(0, 40, 167)\"], [0.051181102362204724, \"rgb(0, 43, 170)\"], [0.05511811023622047, \"rgb(0, 46, 174)\"], [0.05905511811023622, \"rgb(0, 50, 177)\"], [0.06299212598425197, \"rgb(0, 53, 180)\"], [0.06692913385826771, \"rgb(0, 56, 184)\"], [0.07086614173228346, \"rgb(0, 60, 187)\"], [0.07480314960629922, \"rgb(0, 63, 190)\"], [0.07874015748031496, \"rgb(0, 66, 194)\"], [0.0826771653543307, \"rgb(0, 70, 197)\"], [0.08661417322834646, \"rgb(0, 73, 200)\"], [0.09055118110236221, \"rgb(0, 76, 204)\"], [0.09448818897637795, \"rgb(0, 80, 207)\"], [0.09842519685039369, \"rgb(0, 83, 210)\"], [0.10236220472440945, \"rgb(0, 86, 214)\"], [0.1062992125984252, \"rgb(0, 90, 217)\"], [0.11023622047244094, \"rgb(0, 93, 220)\"], [0.11417322834645668, \"rgb(0, 96, 224)\"], [0.11811023622047244, \"rgb(0, 100, 227)\"], [0.1220472440944882, \"rgb(0, 103, 230)\"], [0.12598425196850394, \"rgb(0, 106, 234)\"], [0.12992125984251968, \"rgb(0, 109, 237)\"], [0.13385826771653542, \"rgb(0, 113, 240)\"], [0.1377952755905512, \"rgb(0, 116, 244)\"], [0.14173228346456693, \"rgb(0, 120, 247)\"], [0.14566929133858267, \"rgb(0, 123, 250)\"], [0.14960629921259844, \"rgb(0, 126, 254)\"], [0.15354330708661418, \"rgb(2, 128, 255)\"], [0.15748031496062992, \"rgb(5, 130, 255)\"], [0.16141732283464566, \"rgb(8, 131, 255)\"], [0.1653543307086614, \"rgb(11, 133, 255)\"], [0.16929133858267717, \"rgb(14, 134, 255)\"], [0.1732283464566929, \"rgb(17, 136, 255)\"], [0.17716535433070865, \"rgb(20, 137, 255)\"], [0.18110236220472442, \"rgb(23, 139, 255)\"], [0.18503937007874016, \"rgb(26, 140, 255)\"], [0.1889763779527559, \"rgb(30, 142, 255)\"], [0.19291338582677164, \"rgb(33, 144, 255)\"], [0.19685039370078738, \"rgb(36, 145, 255)\"], [0.20078740157480315, \"rgb(39, 147, 255)\"], [0.2047244094488189, \"rgb(42, 148, 255)\"], [0.20866141732283464, \"rgb(45, 150, 255)\"], [0.2125984251968504, \"rgb(48, 151, 255)\"], [0.21653543307086615, \"rgb(51, 153, 255)\"], [0.2204724409448819, \"rgb(54, 154, 255)\"], [0.22440944881889763, \"rgb(57, 156, 255)\"], [0.22834645669291337, \"rgb(60, 157, 255)\"], [0.23228346456692914, \"rgb(63, 159, 255)\"], [0.23622047244094488, \"rgb(66, 160, 255)\"], [0.24015748031496062, \"rgb(69, 162, 255)\"], [0.2440944881889764, \"rgb(73, 164, 255)\"], [0.24803149606299213, \"rgb(76, 165, 255)\"], [0.25196850393700787, \"rgb(79, 167, 255)\"], [0.2559055118110236, \"rgb(82, 168, 255)\"], [0.25984251968503935, \"rgb(85, 170, 255)\"], [0.2637795275590551, \"rgb(88, 171, 255)\"], [0.26771653543307083, \"rgb(91, 173, 255)\"], [0.27165354330708663, \"rgb(94, 174, 255)\"], [0.2755905511811024, \"rgb(97, 176, 255)\"], [0.2795275590551181, \"rgb(100, 177, 255)\"], [0.28346456692913385, \"rgb(103, 179, 255)\"], [0.2874015748031496, \"rgb(106, 180, 255)\"], [0.29133858267716534, \"rgb(109, 182, 255)\"], [0.2952755905511811, \"rgb(113, 184, 255)\"], [0.2992125984251969, \"rgb(116, 185, 255)\"], [0.3031496062992126, \"rgb(119, 187, 255)\"], [0.30708661417322836, \"rgb(122, 188, 255)\"], [0.3110236220472441, \"rgb(125, 190, 255)\"], [0.31496062992125984, \"rgb(128, 191, 255)\"], [0.3188976377952756, \"rgb(131, 193, 255)\"], [0.3228346456692913, \"rgb(134, 194, 255)\"], [0.32677165354330706, \"rgb(137, 196, 255)\"], [0.3307086614173228, \"rgb(140, 197, 255)\"], [0.3346456692913386, \"rgb(143, 199, 255)\"], [0.33858267716535434, \"rgb(146, 200, 255)\"], [0.3425196850393701, \"rgb(150, 202, 255)\"], [0.3464566929133858, \"rgb(153, 204, 255)\"], [0.35039370078740156, \"rgb(156, 205, 255)\"], [0.3543307086614173, \"rgb(159, 207, 255)\"], [0.35826771653543305, \"rgb(162, 208, 255)\"], [0.36220472440944884, \"rgb(165, 210, 255)\"], [0.3661417322834646, \"rgb(168, 211, 255)\"], [0.3700787401574803, \"rgb(171, 213, 255)\"], [0.37401574803149606, \"rgb(174, 214, 255)\"], [0.3779527559055118, \"rgb(177, 216, 255)\"], [0.38188976377952755, \"rgb(180, 217, 255)\"], [0.3858267716535433, \"rgb(183, 219, 255)\"], [0.38976377952755903, \"rgb(186, 220, 255)\"], [0.39370078740157477, \"rgb(190, 222, 255)\"], [0.39763779527559057, \"rgb(193, 224, 255)\"], [0.4015748031496063, \"rgb(196, 225, 255)\"], [0.40551181102362205, \"rgb(199, 227, 255)\"], [0.4094488188976378, \"rgb(202, 228, 255)\"], [0.41338582677165353, \"rgb(205, 230, 255)\"], [0.41732283464566927, \"rgb(208, 231, 255)\"], [0.421259842519685, \"rgb(211, 233, 255)\"], [0.4251968503937008, \"rgb(214, 234, 255)\"], [0.42913385826771655, \"rgb(217, 236, 255)\"], [0.4330708661417323, \"rgb(220, 237, 255)\"], [0.43700787401574803, \"rgb(223, 239, 255)\"], [0.4409448818897638, \"rgb(226, 240, 255)\"], [0.4448818897637795, \"rgb(230, 242, 255)\"], [0.44881889763779526, \"rgb(233, 244, 255)\"], [0.452755905511811, \"rgb(236, 245, 255)\"], [0.45669291338582674, \"rgb(239, 247, 255)\"], [0.46062992125984253, \"rgb(242, 248, 255)\"], [0.4645669291338583, \"rgb(245, 250, 255)\"], [0.468503937007874, \"rgb(248, 251, 255)\"], [0.47244094488188976, \"rgb(251, 253, 255)\"], [0.4763779527559055, \"rgb(254, 254, 255)\"], [0.48031496062992124, \"rgb(255, 255, 255)\"], [0.484251968503937, \"rgb(255, 255, 255)\"], [0.4881889763779528, \"rgb(255, 255, 255)\"], [0.4921259842519685, \"rgb(255, 255, 255)\"], [0.49606299212598426, \"rgb(255, 255, 255)\"], [0.5, \"rgb(255, 255, 255)\"], [0.5039370078740157, \"rgb(255, 255, 255)\"], [0.5078740157480315, \"rgb(255, 255, 255)\"], [0.5118110236220472, \"rgb(255, 255, 255)\"], [0.515748031496063, \"rgb(255, 255, 255)\"], [0.5196850393700787, \"rgb(255, 255, 255)\"], [0.5236220472440944, \"rgb(255, 254, 254)\"], [0.5275590551181102, \"rgb(255, 251, 251)\"], [0.5314960629921259, \"rgb(255, 248, 248)\"], [0.5354330708661417, \"rgb(255, 245, 245)\"], [0.5393700787401575, \"rgb(255, 242, 242)\"], [0.5433070866141733, \"rgb(255, 239, 239)\"], [0.547244094488189, \"rgb(255, 236, 236)\"], [0.5511811023622047, \"rgb(255, 233, 233)\"], [0.5551181102362205, \"rgb(255, 230, 230)\"], [0.5590551181102362, \"rgb(255, 226, 226)\"], [0.562992125984252, \"rgb(255, 223, 223)\"], [0.5669291338582677, \"rgb(255, 220, 220)\"], [0.5708661417322834, \"rgb(255, 217, 217)\"], [0.5748031496062992, \"rgb(255, 214, 214)\"], [0.5787401574803149, \"rgb(255, 211, 211)\"], [0.5826771653543307, \"rgb(255, 208, 208)\"], [0.5866141732283464, \"rgb(255, 205, 205)\"], [0.5905511811023622, \"rgb(255, 202, 202)\"], [0.5944881889763779, \"rgb(255, 199, 199)\"], [0.5984251968503937, \"rgb(255, 196, 196)\"], [0.6023622047244095, \"rgb(255, 193, 193)\"], [0.6062992125984252, \"rgb(255, 190, 190)\"], [0.610236220472441, \"rgb(255, 186, 186)\"], [0.6141732283464567, \"rgb(255, 183, 183)\"], [0.6181102362204725, \"rgb(255, 180, 180)\"], [0.6220472440944882, \"rgb(255, 177, 177)\"], [0.6259842519685039, \"rgb(255, 174, 174)\"], [0.6299212598425197, \"rgb(255, 171, 171)\"], [0.6338582677165354, \"rgb(255, 168, 168)\"], [0.6377952755905512, \"rgb(255, 165, 165)\"], [0.6417322834645669, \"rgb(255, 162, 162)\"], [0.6456692913385826, \"rgb(255, 159, 159)\"], [0.6496062992125984, \"rgb(255, 156, 156)\"], [0.6535433070866141, \"rgb(255, 153, 153)\"], [0.6574803149606299, \"rgb(255, 150, 150)\"], [0.6614173228346456, \"rgb(255, 146, 146)\"], [0.6653543307086615, \"rgb(255, 143, 143)\"], [0.6692913385826772, \"rgb(255, 140, 140)\"], [0.6732283464566929, \"rgb(255, 137, 137)\"], [0.6771653543307087, \"rgb(255, 134, 134)\"], [0.6811023622047244, \"rgb(255, 131, 131)\"], [0.6850393700787402, \"rgb(255, 128, 128)\"], [0.6889763779527559, \"rgb(255, 125, 125)\"], [0.6929133858267716, \"rgb(255, 122, 122)\"], [0.6968503937007874, \"rgb(255, 119, 119)\"], [0.7007874015748031, \"rgb(255, 116, 116)\"], [0.7047244094488189, \"rgb(255, 113, 113)\"], [0.7086614173228346, \"rgb(255, 110, 110)\"], [0.7125984251968503, \"rgb(255, 106, 106)\"], [0.7165354330708661, \"rgb(255, 103, 103)\"], [0.7204724409448818, \"rgb(255, 100, 100)\"], [0.7244094488188977, \"rgb(255, 97, 97)\"], [0.7283464566929134, \"rgb(255, 94, 94)\"], [0.7322834645669292, \"rgb(255, 91, 91)\"], [0.7362204724409449, \"rgb(255, 88, 88)\"], [0.7401574803149606, \"rgb(255, 85, 85)\"], [0.7440944881889764, \"rgb(255, 82, 82)\"], [0.7480314960629921, \"rgb(255, 79, 79)\"], [0.7519685039370079, \"rgb(255, 76, 76)\"], [0.7559055118110236, \"rgb(255, 73, 73)\"], [0.7598425196850394, \"rgb(255, 70, 70)\"], [0.7637795275590551, \"rgb(255, 66, 66)\"], [0.7677165354330708, \"rgb(255, 63, 63)\"], [0.7716535433070866, \"rgb(255, 60, 60)\"], [0.7755905511811023, \"rgb(255, 57, 57)\"], [0.7795275590551181, \"rgb(255, 54, 54)\"], [0.7834645669291338, \"rgb(255, 51, 51)\"], [0.7874015748031495, \"rgb(255, 48, 48)\"], [0.7913385826771654, \"rgb(255, 45, 45)\"], [0.7952755905511811, \"rgb(255, 42, 42)\"], [0.7992125984251969, \"rgb(255, 39, 39)\"], [0.8031496062992126, \"rgb(255, 36, 36)\"], [0.8070866141732284, \"rgb(255, 33, 33)\"], [0.8110236220472441, \"rgb(255, 30, 30)\"], [0.8149606299212598, \"rgb(255, 26, 26)\"], [0.8188976377952756, \"rgb(255, 23, 23)\"], [0.8228346456692913, \"rgb(255, 20, 20)\"], [0.8267716535433071, \"rgb(255, 17, 17)\"], [0.8307086614173228, \"rgb(255, 14, 14)\"], [0.8346456692913385, \"rgb(255, 11, 11)\"], [0.8385826771653543, \"rgb(255, 8, 8)\"], [0.84251968503937, \"rgb(255, 5, 5)\"], [0.8464566929133858, \"rgb(255, 2, 2)\"], [0.8503937007874016, \"rgb(254, 0, 0)\"], [0.8543307086614174, \"rgb(253, 0, 0)\"], [0.8582677165354331, \"rgb(252, 0, 0)\"], [0.8622047244094488, \"rgb(250, 0, 0)\"], [0.8661417322834646, \"rgb(249, 0, 0)\"], [0.8700787401574803, \"rgb(248, 0, 0)\"], [0.8740157480314961, \"rgb(246, 0, 0)\"], [0.8779527559055118, \"rgb(245, 0, 0)\"], [0.8818897637795275, \"rgb(244, 0, 0)\"], [0.8858267716535433, \"rgb(242, 0, 0)\"], [0.889763779527559, \"rgb(241, 0, 0)\"], [0.8937007874015748, \"rgb(240, 0, 0)\"], [0.8976377952755905, \"rgb(238, 0, 0)\"], [0.9015748031496063, \"rgb(237, 0, 0)\"], [0.905511811023622, \"rgb(236, 0, 0)\"], [0.9094488188976377, \"rgb(234, 0, 0)\"], [0.9133858267716535, \"rgb(233, 0, 0)\"], [0.9173228346456693, \"rgb(232, 0, 0)\"], [0.9212598425196851, \"rgb(230, 0, 0)\"], [0.9251968503937008, \"rgb(229, 0, 0)\"], [0.9291338582677166, \"rgb(228, 0, 0)\"], [0.9330708661417323, \"rgb(226, 0, 0)\"], [0.937007874015748, \"rgb(225, 0, 0)\"], [0.9409448818897638, \"rgb(224, 0, 0)\"], [0.9448818897637795, \"rgb(222, 0, 0)\"], [0.9488188976377953, \"rgb(221, 0, 0)\"], [0.952755905511811, \"rgb(220, 0, 0)\"], [0.9566929133858267, \"rgb(218, 0, 0)\"], [0.9606299212598425, \"rgb(217, 0, 0)\"], [0.9645669291338582, \"rgb(216, 0, 0)\"], [0.968503937007874, \"rgb(214, 0, 0)\"], [0.9724409448818897, \"rgb(213, 0, 0)\"], [0.9763779527559056, \"rgb(212, 0, 0)\"], [0.9803149606299213, \"rgb(210, 0, 0)\"], [0.984251968503937, \"rgb(209, 0, 0)\"], [0.9881889763779528, \"rgb(208, 0, 0)\"], [0.9921259842519685, \"rgb(206, 0, 0)\"], [0.9960629921259843, \"rgb(205, 0, 0)\"], [1.0, \"rgb(204, 0, 0)\"]]}, \"font\": {\"color\": \"black\", \"family\": \"Arial, monospace\", \"size\": 12}, \"height\": 318.0, \"margin\": {\"t\": 60}, \"template\": {\"data\": {\"bar\": [{\"error_x\": {\"color\": \"#2a3f5f\"}, \"error_y\": {\"color\": \"#2a3f5f\"}, \"marker\": {\"line\": {\"color\": \"white\", \"width\": 0.5}}, \"type\": \"bar\"}], \"barpolar\": [{\"marker\": {\"line\": {\"color\": \"white\", \"width\": 0.5}}, \"type\": \"barpolar\"}], \"carpet\": [{\"aaxis\": {\"endlinecolor\": \"#2a3f5f\", \"gridcolor\": \"#C8D4E3\", \"linecolor\": \"#C8D4E3\", \"minorgridcolor\": \"#C8D4E3\", \"startlinecolor\": \"#2a3f5f\"}, \"baxis\": {\"endlinecolor\": \"#2a3f5f\", \"gridcolor\": \"#C8D4E3\", \"linecolor\": \"#C8D4E3\", \"minorgridcolor\": \"#C8D4E3\", \"startlinecolor\": \"#2a3f5f\"}, \"type\": \"carpet\"}], \"choropleth\": [{\"colorbar\": {\"outlinewidth\": 0, \"ticks\": \"\"}, \"type\": \"choropleth\"}], \"contour\": [{\"colorbar\": {\"outlinewidth\": 0, \"ticks\": \"\"}, \"colorscale\": [[0.0, \"#0d0887\"], [0.1111111111111111, \"#46039f\"], [0.2222222222222222, \"#7201a8\"], [0.3333333333333333, \"#9c179e\"], [0.4444444444444444, \"#bd3786\"], [0.5555555555555556, \"#d8576b\"], [0.6666666666666666, \"#ed7953\"], [0.7777777777777778, \"#fb9f3a\"], [0.8888888888888888, \"#fdca26\"], [1.0, \"#f0f921\"]], \"type\": \"contour\"}], \"contourcarpet\": [{\"colorbar\": {\"outlinewidth\": 0, \"ticks\": \"\"}, \"type\": \"contourcarpet\"}], \"heatmap\": [{\"colorbar\": {\"outlinewidth\": 0, \"ticks\": \"\"}, \"colorscale\": [[0.0, \"#0d0887\"], [0.1111111111111111, \"#46039f\"], [0.2222222222222222, \"#7201a8\"], [0.3333333333333333, \"#9c179e\"], [0.4444444444444444, \"#bd3786\"], [0.5555555555555556, \"#d8576b\"], [0.6666666666666666, \"#ed7953\"], [0.7777777777777778, \"#fb9f3a\"], [0.8888888888888888, \"#fdca26\"], [1.0, \"#f0f921\"]], \"type\": \"heatmap\"}], \"heatmapgl\": [{\"colorbar\": {\"outlinewidth\": 0, \"ticks\": \"\"}, \"colorscale\": [[0.0, \"#0d0887\"], [0.1111111111111111, \"#46039f\"], [0.2222222222222222, \"#7201a8\"], [0.3333333333333333, \"#9c179e\"], [0.4444444444444444, \"#bd3786\"], [0.5555555555555556, \"#d8576b\"], [0.6666666666666666, \"#ed7953\"], [0.7777777777777778, \"#fb9f3a\"], [0.8888888888888888, \"#fdca26\"], [1.0, \"#f0f921\"]], \"type\": \"heatmapgl\"}], \"histogram\": [{\"marker\": {\"colorbar\": {\"outlinewidth\": 0, \"ticks\": \"\"}}, \"type\": \"histogram\"}], \"histogram2d\": [{\"colorbar\": {\"outlinewidth\": 0, \"ticks\": \"\"}, \"colorscale\": [[0.0, \"#0d0887\"], [0.1111111111111111, \"#46039f\"], [0.2222222222222222, \"#7201a8\"], [0.3333333333333333, \"#9c179e\"], [0.4444444444444444, \"#bd3786\"], [0.5555555555555556, \"#d8576b\"], [0.6666666666666666, \"#ed7953\"], [0.7777777777777778, \"#fb9f3a\"], [0.8888888888888888, \"#fdca26\"], [1.0, \"#f0f921\"]], \"type\": \"histogram2d\"}], \"histogram2dcontour\": [{\"colorbar\": {\"outlinewidth\": 0, \"ticks\": \"\"}, \"colorscale\": [[0.0, \"#0d0887\"], [0.1111111111111111, \"#46039f\"], [0.2222222222222222, \"#7201a8\"], [0.3333333333333333, \"#9c179e\"], [0.4444444444444444, \"#bd3786\"], [0.5555555555555556, \"#d8576b\"], [0.6666666666666666, \"#ed7953\"], [0.7777777777777778, \"#fb9f3a\"], [0.8888888888888888, \"#fdca26\"], [1.0, \"#f0f921\"]], \"type\": \"histogram2dcontour\"}], \"mesh3d\": [{\"colorbar\": {\"outlinewidth\": 0, \"ticks\": \"\"}, \"type\": \"mesh3d\"}], \"parcoords\": [{\"line\": {\"colorbar\": {\"outlinewidth\": 0, \"ticks\": \"\"}}, \"type\": \"parcoords\"}], \"pie\": [{\"automargin\": true, \"type\": \"pie\"}], \"scatter\": [{\"marker\": {\"colorbar\": {\"outlinewidth\": 0, \"ticks\": \"\"}}, \"type\": \"scatter\"}], \"scatter3d\": [{\"line\": {\"colorbar\": {\"outlinewidth\": 0, \"ticks\": \"\"}}, \"marker\": {\"colorbar\": {\"outlinewidth\": 0, \"ticks\": \"\"}}, \"type\": \"scatter3d\"}], \"scattercarpet\": [{\"marker\": {\"colorbar\": {\"outlinewidth\": 0, \"ticks\": \"\"}}, \"type\": \"scattercarpet\"}], \"scattergeo\": [{\"marker\": {\"colorbar\": {\"outlinewidth\": 0, \"ticks\": \"\"}}, \"type\": \"scattergeo\"}], \"scattergl\": [{\"marker\": {\"colorbar\": {\"outlinewidth\": 0, \"ticks\": \"\"}}, \"type\": \"scattergl\"}], \"scattermapbox\": [{\"marker\": {\"colorbar\": {\"outlinewidth\": 0, \"ticks\": \"\"}}, \"type\": \"scattermapbox\"}], \"scatterpolar\": [{\"marker\": {\"colorbar\": {\"outlinewidth\": 0, \"ticks\": \"\"}}, \"type\": \"scatterpolar\"}], \"scatterpolargl\": [{\"marker\": {\"colorbar\": {\"outlinewidth\": 0, \"ticks\": \"\"}}, \"type\": \"scatterpolargl\"}], \"scatterternary\": [{\"marker\": {\"colorbar\": {\"outlinewidth\": 0, \"ticks\": \"\"}}, \"type\": \"scatterternary\"}], \"surface\": [{\"colorbar\": {\"outlinewidth\": 0, \"ticks\": \"\"}, \"colorscale\": [[0.0, \"#0d0887\"], [0.1111111111111111, \"#46039f\"], [0.2222222222222222, \"#7201a8\"], [0.3333333333333333, \"#9c179e\"], [0.4444444444444444, \"#bd3786\"], [0.5555555555555556, \"#d8576b\"], [0.6666666666666666, \"#ed7953\"], [0.7777777777777778, \"#fb9f3a\"], [0.8888888888888888, \"#fdca26\"], [1.0, \"#f0f921\"]], \"type\": \"surface\"}], \"table\": [{\"cells\": {\"fill\": {\"color\": \"#EBF0F8\"}, \"line\": {\"color\": \"white\"}}, \"header\": {\"fill\": {\"color\": \"#C8D4E3\"}, \"line\": {\"color\": \"white\"}}, \"type\": \"table\"}]}, \"layout\": {\"annotationdefaults\": {\"arrowcolor\": \"#2a3f5f\", \"arrowhead\": 0, \"arrowwidth\": 1}, \"coloraxis\": {\"colorbar\": {\"outlinewidth\": 0, \"ticks\": \"\"}}, \"colorscale\": {\"diverging\": [[0, \"#8e0152\"], [0.1, \"#c51b7d\"], [0.2, \"#de77ae\"], [0.3, \"#f1b6da\"], [0.4, \"#fde0ef\"], [0.5, \"#f7f7f7\"], [0.6, \"#e6f5d0\"], [0.7, \"#b8e186\"], [0.8, \"#7fbc41\"], [0.9, \"#4d9221\"], [1, \"#276419\"]], \"sequential\": [[0.0, \"#0d0887\"], [0.1111111111111111, \"#46039f\"], [0.2222222222222222, \"#7201a8\"], [0.3333333333333333, \"#9c179e\"], [0.4444444444444444, \"#bd3786\"], [0.5555555555555556, \"#d8576b\"], [0.6666666666666666, \"#ed7953\"], [0.7777777777777778, \"#fb9f3a\"], [0.8888888888888888, \"#fdca26\"], [1.0, \"#f0f921\"]], \"sequentialminus\": [[0.0, \"#0d0887\"], [0.1111111111111111, \"#46039f\"], [0.2222222222222222, \"#7201a8\"], [0.3333333333333333, \"#9c179e\"], [0.4444444444444444, \"#bd3786\"], [0.5555555555555556, \"#d8576b\"], [0.6666666666666666, \"#ed7953\"], [0.7777777777777778, \"#fb9f3a\"], [0.8888888888888888, \"#fdca26\"], [1.0, \"#f0f921\"]]}, \"colorway\": [\"#636efa\", \"#EF553B\", \"#00cc96\", \"#ab63fa\", \"#FFA15A\", \"#19d3f3\", \"#FF6692\", \"#B6E880\", \"#FF97FF\", \"#FECB52\"], \"font\": {\"color\": \"#2a3f5f\"}, \"geo\": {\"bgcolor\": \"white\", \"lakecolor\": \"white\", \"landcolor\": \"white\", \"showlakes\": true, \"showland\": true, \"subunitcolor\": \"#C8D4E3\"}, \"hoverlabel\": {\"align\": \"left\"}, \"hovermode\": \"closest\", \"mapbox\": {\"style\": \"light\"}, \"paper_bgcolor\": \"white\", \"plot_bgcolor\": \"white\", \"polar\": {\"angularaxis\": {\"gridcolor\": \"#EBF0F8\", \"linecolor\": \"#EBF0F8\", \"ticks\": \"\"}, \"bgcolor\": \"white\", \"radialaxis\": {\"gridcolor\": \"#EBF0F8\", \"linecolor\": \"#EBF0F8\", \"ticks\": \"\"}}, \"scene\": {\"xaxis\": {\"backgroundcolor\": \"white\", \"gridcolor\": \"#DFE8F3\", \"gridwidth\": 2, \"linecolor\": \"#EBF0F8\", \"showbackground\": true, \"ticks\": \"\", \"zerolinecolor\": \"#EBF0F8\"}, \"yaxis\": {\"backgroundcolor\": \"white\", \"gridcolor\": \"#DFE8F3\", \"gridwidth\": 2, \"linecolor\": \"#EBF0F8\", \"showbackground\": true, \"ticks\": \"\", \"zerolinecolor\": \"#EBF0F8\"}, \"zaxis\": {\"backgroundcolor\": \"white\", \"gridcolor\": \"#DFE8F3\", \"gridwidth\": 2, \"linecolor\": \"#EBF0F8\", \"showbackground\": true, \"ticks\": \"\", \"zerolinecolor\": \"#EBF0F8\"}}, \"shapedefaults\": {\"line\": {\"color\": \"#2a3f5f\"}}, \"ternary\": {\"aaxis\": {\"gridcolor\": \"#DFE8F3\", \"linecolor\": \"#A2B1C6\", \"ticks\": \"\"}, \"baxis\": {\"gridcolor\": \"#DFE8F3\", \"linecolor\": \"#A2B1C6\", \"ticks\": \"\"}, \"bgcolor\": \"white\", \"caxis\": {\"gridcolor\": \"#DFE8F3\", \"linecolor\": \"#A2B1C6\", \"ticks\": \"\"}}, \"title\": {\"x\": 0.05}, \"xaxis\": {\"automargin\": true, \"gridcolor\": \"#EBF0F8\", \"linecolor\": \"#EBF0F8\", \"ticks\": \"\", \"title\": {\"standoff\": 15}, \"zerolinecolor\": \"#EBF0F8\", \"zerolinewidth\": 2}, \"yaxis\": {\"automargin\": true, \"gridcolor\": \"#EBF0F8\", \"linecolor\": \"#EBF0F8\", \"ticks\": \"\", \"title\": {\"standoff\": 15}, \"zerolinecolor\": \"#EBF0F8\", \"zerolinewidth\": 2}}}, \"title\": {\"text\": \"Title\", \"x\": 0.5, \"xanchor\": \"center\", \"yanchor\": \"top\"}, \"width\": 1680.0, \"xaxis\": {\"constrain\": \"domain\", \"dtick\": 1, \"linecolor\": \"black\", \"linewidth\": 2, \"mirror\": true, \"scaleanchor\": \"y\", \"showline\": true, \"side\": \"top\", \"tickangle\": 0, \"tickfont\": {\"color\": \"black\", \"size\": 10}, \"ticktext\": [\"T\", \"E\", \"Y\", \"K\", \"L\", \"V\", \"V\", \"V\", \"G\", \"A\", \"G\", \"G\", \"V\", \"G\", \"K\", \"S\", \"A\", \"L\", \"T\", \"I\", \"Q\", \"L\", \"I\", \"Q\", \"N\", \"H\", \"F\", \"V\", \"D\", \"E\", \"Y\", \"D\", \"P\", \"T\", \"I\", \"E\", \"D\", \"S\", \"Y\", \"R\", \"K\", \"Q\", \"V\", \"V\", \"I\", \"D\", \"G\", \"E\", \"T\", \"C\", \"L\", \"L\", \"D\", \"I\", \"L\", \"D\", \"T\", \"A\", \"G\", \"Q\", \"E\", \"E\", \"Y\", \"S\", \"A\", \"M\", \"R\", \"D\", \"Q\", \"Y\", \"M\", \"R\", \"T\", \"G\", \"E\", \"G\", \"F\", \"L\", \"C\", \"V\", \"F\", \"A\", \"I\", \"N\", \"N\", \"T\", \"K\", \"S\", \"F\", \"E\", \"D\", \"I\", \"H\", \"Q\", \"Y\", \"R\", \"E\", \"Q\", \"I\", \"K\", \"R\", \"V\", \"K\", \"D\", \"S\", \"D\", \"D\", \"V\", \"P\", \"M\", \"V\", \"L\", \"V\", \"G\", \"N\", \"K\", \"C\", \"D\", \"L\", \"A\", \"A\", \"R\", \"T\", \"V\", \"E\", \"S\", \"R\", \"Q\", \"A\", \"Q\", \"D\", \"L\", \"A\", \"R\", \"S\", \"Y\", \"G\", \"I\", \"P\", \"Y\", \"I\", \"E\", \"T\", \"S\", \"A\", \"K\", \"T\", \"R\", \"Q\", \"G\", \"V\", \"E\", \"D\", \"A\", \"F\", \"Y\", \"T\", \"L\", \"V\", \"R\", \"E\", \"I\", \"R\", \"Q\", \"H\"], \"tickvals\": [2, 3, 4, 5, 6, 7, 8, 9, 10, 11, 12, 13, 14, 15, 16, 17, 18, 19, 20, 21, 22, 23, 24, 25, 26, 27, 28, 29, 30, 31, 32, 33, 34, 35, 36, 37, 38, 39, 40, 41, 42, 43, 44, 45, 46, 47, 48, 49, 50, 51, 52, 53, 54, 55, 56, 57, 58, 59, 60, 61, 62, 63, 64, 65, 66, 67, 68, 69, 70, 71, 72, 73, 74, 75, 76, 77, 78, 79, 80, 81, 82, 83, 84, 85, 86, 87, 88, 89, 90, 91, 92, 93, 94, 95, 96, 97, 98, 99, 100, 101, 102, 103, 104, 105, 106, 107, 108, 109, 110, 111, 112, 113, 114, 115, 116, 117, 118, 119, 120, 121, 122, 123, 124, 125, 126, 127, 128, 129, 130, 131, 132, 133, 134, 135, 136, 137, 138, 139, 140, 141, 142, 143, 144, 145, 146, 147, 148, 149, 150, 151, 152, 153, 154, 155, 156, 157, 158, 159, 160, 161, 162, 163, 164, 165, 166], \"title\": {\"text\": \"\"}}, \"yaxis\": {\"autorange\": \"reversed\", \"constrain\": \"domain\", \"dtick\": 1, \"linecolor\": \"black\", \"linewidth\": 2, \"mirror\": true, \"showline\": true, \"tickfont\": {\"color\": \"black\", \"size\": 10}, \"title\": {\"text\": \"\"}}},                        {\"responsive\": true}                    ).then(function(){\n",
       "                            \n",
       "var gd = document.getElementById('60856ba2-d7fe-4540-b6e5-6204a310ba46');\n",
       "var x = new MutationObserver(function (mutations, observer) {{\n",
       "        var display = window.getComputedStyle(gd).display;\n",
       "        if (!display || display === 'none') {{\n",
       "            console.log([gd, 'removed!']);\n",
       "            Plotly.purge(gd);\n",
       "            observer.disconnect();\n",
       "        }}\n",
       "}});\n",
       "\n",
       "// Listen for the removal of the full notebook cells\n",
       "var notebookContainer = gd.closest('#notebook-container');\n",
       "if (notebookContainer) {{\n",
       "    x.observe(notebookContainer, {childList: true});\n",
       "}}\n",
       "\n",
       "// Listen for the clearing of the current output cell\n",
       "var outputEl = gd.closest('.output');\n",
       "if (outputEl) {{\n",
       "    x.observe(outputEl, {childList: true});\n",
       "}}\n",
       "\n",
       "                        })                };                });            </script>        </div>"
      ]
     },
     "metadata": {},
     "output_type": "display_data"
    }
   ],
   "source": [
    "fig = plot_heatmap_plotly(mut.hras_RBD(), return_plot_object=True,)\n",
    "fig.show()"
   ]
  },
  {
   "cell_type": "code",
   "execution_count": 319,
   "metadata": {
    "execution": {
     "iopub.execute_input": "2020-12-02T06:00:39.157551Z",
     "iopub.status.busy": "2020-12-02T06:00:39.157310Z",
     "iopub.status.idle": "2020-12-02T06:00:39.408349Z",
     "shell.execute_reply": "2020-12-02T06:00:39.407656Z",
     "shell.execute_reply.started": "2020-12-02T06:00:39.157526Z"
    }
   },
   "outputs": [
    {
     "data": {
      "text/plain": [
       "'TEYKLVVVGAGGVGKSALTIQLIQNHFVDEYDPTIEDSYRKQVVIDGETCLLDILDTAGQEEYSAMRDQYMRTGEGFLCVFAINNTKSFEDIHQYREQIKRVKDSDDVPMVLVGNKCDLAARTVESRQAQDLARSYGIPYIETSAKTRQGVEDAFYTLVREIRQH'"
      ]
     },
     "execution_count": 319,
     "metadata": {},
     "output_type": "execute_result"
    }
   ],
   "source": [
    "mut.hras_RBD().sequence"
   ]
  },
  {
   "cell_type": "code",
   "execution_count": 318,
   "metadata": {
    "execution": {
     "iopub.execute_input": "2020-12-02T05:57:39.260732Z",
     "iopub.status.busy": "2020-12-02T05:57:39.256565Z",
     "iopub.status.idle": "2020-12-02T05:57:39.335557Z",
     "shell.execute_reply": "2020-12-02T05:57:39.334828Z",
     "shell.execute_reply.started": "2020-12-02T05:57:39.260688Z"
    }
   },
   "outputs": [
    {
     "data": {
      "application/vnd.plotly.v1+json": {
       "config": {
        "plotlyServerURL": "https://plot.ly"
       },
       "data": [
        {
         "colorbar": {
          "thickness": 20
         },
         "colorscale": [
          [
           0,
           "rgb(247,252,245)"
          ],
          [
           0.125,
           "rgb(229,245,224)"
          ],
          [
           0.25,
           "rgb(199,233,192)"
          ],
          [
           0.375,
           "rgb(161,217,155)"
          ],
          [
           0.5,
           "rgb(116,196,118)"
          ],
          [
           0.625,
           "rgb(65,171,93)"
          ],
          [
           0.75,
           "rgb(35,139,69)"
          ],
          [
           0.875,
           "rgb(0,109,44)"
          ],
          [
           1,
           "rgb(0,68,27)"
          ]
         ],
         "type": "heatmap",
         "x": [
          0,
          0.08333333333333333,
          0.16666666666666666,
          0.25,
          0.3333333333333333,
          0.41666666666666663,
          0.5,
          0.5833333333333333,
          0.6666666666666666,
          0.75,
          0.8333333333333333,
          0.9166666666666666,
          1,
          1.0833333333333333,
          1.1666666666666665,
          1.25,
          1.3333333333333333,
          1.4166666666666665,
          1.5,
          1.5833333333333333,
          1.6666666666666665,
          1.75,
          1.8333333333333333,
          1.9166666666666665,
          2
         ],
         "y": [
          -1,
          -0.9166666666666666,
          -0.8333333333333334,
          -0.75,
          -0.6666666666666667,
          -0.5833333333333334,
          -0.5,
          -0.41666666666666674,
          -0.33333333333333337,
          -0.25,
          -0.16666666666666674,
          -0.08333333333333337,
          0,
          0.08333333333333326,
          0.16666666666666652,
          0.25,
          0.33333333333333326,
          0.4166666666666665,
          0.5,
          0.5833333333333333,
          0.6666666666666665,
          0.75,
          0.8333333333333333,
          0.9166666666666665,
          1
         ],
         "z": [
          [
           0.0213405572505333,
           0.24429426116466624,
           0.804927791715193,
           0.17023026605791158,
           0.500386634534434,
           0.21835886437552166,
           0.7441461389873644,
           0.3485958015073376,
           0.3753312284129021,
           0.500281784891191,
           0.16028966304838554,
           0.5848859607338024,
           0.8076529308104408,
           0.9215707026608563,
           0.7765786310048803,
           0.4289895571718746,
           0.778971483881782,
           0.6688585301418514,
           0.32620321079534664,
           0.90280024341892,
           0.010713250325717238,
           0.1727760767332538,
           0.5196814268509791,
           0.12827406221760473,
           0.3737797008022389
          ],
          [
           0.14019140415761322,
           0.6249716615074917,
           0.8206047003085116,
           0.3304379984745571,
           0.7234491636177454,
           0.6874445316783863,
           0.15405031856153673,
           0.1392821630631752,
           0.4518936530337071,
           0.6470714532237712,
           0.03998126131419144,
           0.06417878095039142,
           0.3264456572737473,
           0.1617704134387703,
           0.2646779641365331,
           0.1476149037055935,
           0.34669618477515685,
           0.7521158741557563,
           0.3429718973339897,
           0.40265804140986894,
           0.8460885940631651,
           0.010251418348096064,
           0.20943293714560896,
           0.16903694534867497,
           0.08432671539026593
          ],
          [
           0.29615615243022175,
           0.8962428733340096,
           0.5307662784695126,
           0.9796528869512979,
           0.4720348321088781,
           0.3096656211844311,
           0.9705112865853206,
           0.01935088263476492,
           0.3064169224721788,
           0.9076712585420926,
           0.5096039540082858,
           0.22757326772173503,
           0.8357209738401896,
           0.12073384763296069,
           0.569125707889283,
           0.20177699293067874,
           0.5773833823841528,
           0.5619352483135711,
           0.46649015832838747,
           0.0803264040093481,
           0.004104844374549166,
           0.03680917249472426,
           0.09938116914402695,
           0.5246789772306184,
           0.9088469406767744
          ],
          [
           0.285149247153502,
           0.31132114117712417,
           0.9678864938203015,
           0.7276711761328902,
           0.27902316134584604,
           0.8602351857858542,
           0.03381087016347739,
           0.7316978464427454,
           0.06600797801301816,
           0.3297140304665429,
           0.868002204915678,
           0.561918865487428,
           0.6125020342315144,
           0.8228367678608387,
           0.6829158500600347,
           0.1669565216635187,
           0.34210458592447,
           0.21639879985420618,
           0.06643117355992945,
           0.7557011406396004,
           0.7922805613494962,
           0.6006438807553366,
           0.5890604204571787,
           0.0038847089104582233,
           0.3641625709218994
          ],
          [
           0.3906915041836595,
           0.934874678841542,
           0.08234005989071502,
           0.33242729196925536,
           0.7663473186547274,
           0.5783979894183839,
           0.5792952908049648,
           0.11580578587710999,
           0.8856007808135833,
           0.22840441129488387,
           0.024779671861668295,
           0.5152904262549864,
           0.5687818462308297,
           0.23314435283320922,
           0.01147454103843637,
           0.9206654910964456,
           0.12082067127691021,
           0.7478075609357888,
           0.422581094728822,
           0.2781412412279639,
           0.6022602587227197,
           0.8839981913273279,
           0.22934156642506498,
           0.45114306505656554,
           0.4848382943732825
          ],
          [
           0.43159358300996487,
           0.12688626210342102,
           0.8746243682272216,
           0.8644563669310655,
           0.25465673453326654,
           0.36812244777935554,
           0.9266217324925196,
           0.6472968057245404,
           0.9708550033680006,
           0.03285598902708331,
           0.6702881455685017,
           0.9758608628029495,
           0.8625249052709887,
           0.23981690111509346,
           0.939444786593324,
           0.413833761270211,
           0.5221367224247889,
           0.31655054670661154,
           0.5708175340353446,
           0.9304765371288125,
           0.337716111595626,
           0.746931120106971,
           0.7175704051374374,
           0.1171274058831443,
           0.42397660139190907
          ],
          [
           0.9864762927240968,
           0.878138538355749,
           0.10272417197700812,
           0.6276601272218342,
           0.6903233221298417,
           0.7249443378234252,
           0.8507932494046792,
           0.7599361566648829,
           0.23439509210244147,
           0.7341763853756892,
           0.5620813519639909,
           0.17401764309171752,
           0.8173578031530547,
           0.0596472877822789,
           0.11603873978060597,
           0.8033616574685689,
           0.6658635480454762,
           0.4434485483928218,
           0.2224389936489728,
           0.935507626598375,
           0.43964587604426486,
           0.8669086064418492,
           0.32295409235759254,
           0.9133025331824891,
           0.6693321173887767
          ],
          [
           0.5231447528428985,
           0.7477105113435848,
           0.27280964069247515,
           0.6233518311856497,
           0.09143206731685771,
           0.5670603374240454,
           0.918737646794913,
           0.30065168308430923,
           0.9255398966546874,
           0.7940713602281634,
           0.5472769468632033,
           0.45341211488928024,
           0.29185784148667826,
           0.02355926338180625,
           0.9124323064842856,
           0.29576500804410366,
           0.74982906480843,
           0.42199604155521964,
           0.626510652642803,
           0.29834352387966134,
           0.216720019208675,
           0.08405886008763952,
           0.09484937564624285,
           0.42196347378429133,
           0.41800624832201194
          ],
          [
           0.6796901001454378,
           0.3564934752953921,
           0.3253448905191223,
           0.3017738892744203,
           0.09380767801297152,
           0.05775850985354225,
           0.5406100702450343,
           0.874981025650889,
           0.6499068740490849,
           0.7172251506590896,
           0.8293762966593774,
           0.4574747783592341,
           0.9584243892033433,
           0.6279481866771671,
           0.46525340020692474,
           0.8696088080246503,
           0.41285084028141183,
           0.7222086377777337,
           0.5772356027155932,
           0.4657871269928743,
           0.6451663869648268,
           0.414359911202165,
           0.5939674963722685,
           0.13111665906773573,
           0.3903855147741899
          ],
          [
           0.6968489445241534,
           0.08180440304128123,
           0.785952374736022,
           0.626266831309478,
           0.31750431220373665,
           0.6202805107291326,
           0.3771657307421262,
           0.92405615593379,
           0.643792107165224,
           0.6204109479984159,
           0.8916593455004426,
           0.4381536758068717,
           0.21547199668459027,
           0.38818146754315097,
           0.8093698596196413,
           0.3348948682164512,
           0.610353427138299,
           0.05939817411783954,
           0.6845102214983283,
           0.5291533325079569,
           0.8655721841884926,
           0.15999945480745803,
           0.5150977037068135,
           0.025796549792324597,
           0.23862489138083287
          ],
          [
           0.3818256531526475,
           0.6798710564264507,
           0.7424319458981712,
           0.6379841513343012,
           0.7739721641284859,
           0.33626371691737833,
           0.7896633299053177,
           0.9040091790538639,
           0.8061196665942887,
           0.5559936063714342,
           0.6846012794811827,
           0.2505331996486918,
           0.9911427873958752,
           0.8746260870847049,
           0.4836443228122609,
           0.5017866975298471,
           0.6779689196365428,
           0.8019928355794497,
           0.5947672659293356,
           0.17957137169581383,
           0.0032620532014372428,
           0.1192191573500293,
           0.17986105266450092,
           0.2773108833353618,
           0.5025028188195062
          ],
          [
           0.7638166896182199,
           0.11236453568820548,
           0.037569523439197616,
           0.6582769326465098,
           0.03242179121797695,
           0.33294615206879374,
           0.39377433540976337,
           0.7808194373838435,
           0.9254617156289802,
           0.694385847312077,
           0.592659753012484,
           0.6701644412017541,
           0.011829881429811229,
           0.5115165303726478,
           0.12688644003493266,
           0.006117483999457662,
           0.07802673277429895,
           0.2985018448285165,
           0.9406499819055686,
           0.12738582070637416,
           0.7925439429348949,
           0.9493264270706181,
           0.2620124397764064,
           0.7900936354300556,
           0.18703520870007517
          ],
          [
           0.05620841629650086,
           0.4135943173962148,
           0.442177815736961,
           0.1501342712339857,
           0.1467139238693772,
           0.5727947889828404,
           0.046596452300320945,
           0.7639317760786309,
           0.6649446196562202,
           0.2083331232928135,
           0.931970261531551,
           0.39352793582108136,
           0.08912692750498041,
           0.6419119718006036,
           0.7051836129491718,
           0.08242970219595125,
           0.36447086427347586,
           0.7222745606806462,
           0.8273296501998993,
           0.5080493937164097,
           0.823733786193824,
           0.8612463382023628,
           0.3675556136667032,
           0.33345110896916164,
           0.615741008295782
          ],
          [
           0.6692179906146316,
           0.22445603436782346,
           0.3945152544700067,
           0.6366354168615554,
           0.11094193291319154,
           0.8452617411776568,
           0.9567647739176306,
           0.6893129307068572,
           0.9684422511696149,
           0.6174548705369444,
           0.013388498922030645,
           0.2981493896260764,
           0.37408520702206705,
           0.6812313663557436,
           0.6536054821545052,
           0.15939149698203658,
           0.9569269264103508,
           0.872784096133491,
           0.0781493808287308,
           0.9866669922452189,
           0.7621542920794472,
           0.7240115481020408,
           0.07927061190867424,
           0.6118797816553457,
           0.242365803292242
          ],
          [
           0.14055558917792987,
           0.6509979336900674,
           0.2728679677937266,
           0.6828706077660456,
           0.07731920543181958,
           0.9512118093289751,
           0.753629574381746,
           0.935421183448688,
           0.6297999693770564,
           0.8830179021667633,
           0.2947364781137696,
           0.6133730581013344,
           0.5387986934802022,
           0.9321706339892561,
           0.2653575233483244,
           0.10991484339100677,
           0.9740988333091795,
           0.920007797505945,
           0.7765335893496355,
           0.04129138943430799,
           0.38895650687918226,
           0.12108362904632419,
           0.8822344142146216,
           0.11018383087630412,
           0.21897537491223218
          ],
          [
           0.8817414278707453,
           0.09190268321942985,
           0.5302970902988524,
           0.2722389038472923,
           0.8652952042010835,
           0.06433032541353711,
           0.41126973051524773,
           0.6995674089635979,
           0.06312559553509578,
           0.2712777594624691,
           0.15034429332459043,
           0.9912262156361586,
           0.011872787695455855,
           0.1853786995754121,
           0.2990128208618317,
           0.34295167759172573,
           0.999120522006365,
           0.5787976936014517,
           0.13230358379683826,
           0.259768058687034,
           0.5881321608217001,
           0.9875625229123223,
           0.3752557173571557,
           0.17673195049546508,
           0.6908955181261944
          ],
          [
           0.9368996103883234,
           0.513911010763299,
           0.24857032165619375,
           0.7270203233681747,
           0.6879573510693023,
           0.797934549901446,
           0.015042806048655377,
           0.26876255936898286,
           0.26703147490258017,
           0.3357397097110645,
           0.9137763069292795,
           0.5471671033361116,
           0.7036002066913782,
           0.6681737040875956,
           0.049003565569588514,
           0.7863512251127124,
           0.19267272093869225,
           0.617470166714148,
           0.238341633173205,
           0.9099506669184296,
           0.23122527025788164,
           0.6490365800475701,
           0.39636761454190306,
           0.13291887135731106,
           0.6699787924186239
          ],
          [
           0.558115055278247,
           0.28977727916691265,
           0.14746512597336936,
           0.16096738274023314,
           0.44849638777967216,
           0.8426726498111945,
           0.3863092975521868,
           0.002883444693278392,
           0.05529491579851609,
           0.35149303837788026,
           0.022706946609481693,
           0.0408576874922183,
           0.39211106040399735,
           0.613045030997969,
           0.17575090186591258,
           0.6435488454362964,
           0.9180479894548669,
           0.21268250473922445,
           0.5963896016822912,
           0.5808302864397299,
           0.021065771827759594,
           0.6123470502894509,
           0.9464673659670808,
           0.6333111701166075,
           0.687279705829034
          ],
          [
           0.36239512901914717,
           0.14369523296287956,
           0.25129397581910706,
           0.4906376484345568,
           0.7176084760021785,
           0.9473893836560399,
           0.3493947173894084,
           0.26606051907378836,
           0.6391931356553399,
           0.30610503471860706,
           0.6942260141637657,
           0.7660839892259793,
           0.9991528234446762,
           0.5686931372779601,
           0.6535160327786446,
           0.3725997339603807,
           0.5434428591135088,
           0.09140294555583839,
           0.8218619126187644,
           0.779297755577956,
           0.7175349879016502,
           0.8627901564129472,
           0.0496961753082531,
           0.7823233045100761,
           0.7869228505163254
          ],
          [
           0.27418487124887714,
           0.3484699844452416,
           0.7635913469569577,
           0.3315646649669368,
           0.6214103455663181,
           0.48624003368549296,
           0.4738259002515133,
           0.17698093876032017,
           0.223676010685821,
           0.06324311123088944,
           0.2730806129966381,
           0.35134185040922594,
           0.1130140068139096,
           0.9938352881555107,
           0.47774625370951396,
           0.008185007293555868,
           0.8783118102490262,
           0.3011110286774358,
           0.703294973840968,
           0.9527241883125356,
           0.6893751050141504,
           0.021313602819853616,
           0.9811585800043281,
           0.3875676198815138,
           0.21963617057650753
          ],
          [
           0.8237395881782418,
           0.5636025189192876,
           0.6225090743606497,
           0.06919632062133219,
           0.5549554591291564,
           0.9761190078050038,
           0.8490009430422972,
           0.6423077598107784,
           0.4253991914501002,
           0.6448705460477087,
           0.9011213205154124,
           0.7678722255132661,
           0.5196612895397296,
           0.5052211036462546,
           0.793306876454927,
           0.5926910048641425,
           0.25529294966567373,
           0.06315109225274484,
           0.5261289768199263,
           0.44775605895991977,
           0.9246131627285709,
           0.7747914509860832,
           0.09025285311913889,
           0.39124039427214086,
           0.839919893171628
          ],
          [
           0.9537473356224618,
           0.7443095619227693,
           0.5406380147619884,
           0.21303601232730596,
           0.8183989300050758,
           0.47030232902051916,
           0.704676833420984,
           0.993863542655439,
           0.9773592915750426,
           0.48575540628259584,
           0.7119358961175232,
           0.9348455848507934,
           0.3847448536447917,
           0.29560487725465756,
           0.7312197012620609,
           0.4158655202412007,
           0.9052129833453116,
           0.0447739475219463,
           0.6551711365009434,
           0.32423360970129256,
           0.7705703825848549,
           0.8024340142780974,
           0.16929087472532245,
           0.7261150082964594,
           0.3076684282090685
          ],
          [
           0.7413051927026453,
           0.6589562957580628,
           0.7762729913697548,
           0.23643531787239702,
           0.20073833907575322,
           0.48112127061903254,
           0.886292776416791,
           0.7661628187107702,
           0.4717262224117603,
           0.1286291990426287,
           0.6773317610477546,
           0.8476510019675707,
           0.9795589244788988,
           0.22624651271201246,
           0.5683464153999097,
           0.6303245639426357,
           0.015184362518889993,
           0.825701164957958,
           0.7075312023688703,
           0.9305701311424419,
           0.3009610757179454,
           0.07838517134391976,
           0.07614254382067964,
           0.7507148868949622,
           0.7391284149921299
          ],
          [
           0.1435129036799403,
           0.9470545422180039,
           0.9893374081318971,
           0.7162404410787615,
           0.905534657009126,
           0.3080581626604538,
           0.946315210966247,
           0.5348321852961332,
           0.9406266159388922,
           0.24853268001113404,
           0.26390031507301015,
           0.701870297519962,
           0.49724869681616124,
           0.5703247508032334,
           0.3142157206483478,
           0.2861003453114469,
           0.680372113491043,
           0.9755111029641707,
           0.9354546993597012,
           0.6327374470602286,
           0.2575974698905362,
           0.9934745518088454,
           0.732529988588331,
           0.07864275949533994,
           0.7248225637025202
          ],
          [
           0.7088368530450971,
           0.9875670009658308,
           0.45172966900136047,
           0.21183535397472475,
           0.5813953626806414,
           0.3872953348125966,
           0.25428214441362684,
           0.529163949509329,
           0.8289262721446005,
           0.6456836544286363,
           0.8715126513282571,
           0.8580470355926758,
           0.6165321774635819,
           0.7809718750622755,
           0.26719702071852613,
           0.46853784672923493,
           0.055723054729943544,
           0.9416331730545129,
           0.12304820486571377,
           0.2953823279004393,
           0.6329677490205944,
           0.8533986514211842,
           0.7859242586495081,
           0.36362053619444124,
           0.747836310220204
          ],
          [
           0.724533481031927,
           0.8873340991247762,
           0.8720343016937427,
           0.42452756494902666,
           0.18209230378815644,
           0.5564148741362515,
           0.2893322101467577,
           0.3410811783688188,
           0.6384059044614161,
           0.23772447543799846,
           0.5691273637763286,
           0.7820842490512407,
           0.9875236406961017,
           0.6104500826626788,
           0.6768053424906451,
           0.79681693680373,
           0.5277107777237643,
           0.17812418584834155,
           0.4017138064979551,
           0.7673458505057693,
           0.617705587372129,
           0.4618076152426246,
           0.9360236508487175,
           0.5009022170869255,
           0.448235056434526
          ],
          [
           0.023669815995444266,
           0.8318803876786351,
           0.12891258464416067,
           0.6575075660301442,
           0.5276274072604247,
           0.867790195731054,
           0.7196556612510109,
           0.2348498519748613,
           0.7032222526458145,
           0.7747896142237367,
           0.4928421668248998,
           0.7423725961164682,
           0.8586175148860916,
           0.4968093145180362,
           0.39020357925378235,
           0.4502610559549387,
           0.24948213754933013,
           0.3765870994722751,
           0.2509088952003885,
           0.8487897399613031,
           0.9601164978307327,
           0.557866006843781,
           0.3708957156531616,
           0.4190798658364503,
           0.8101149228789993
          ],
          [
           0.366022029864176,
           0.9213886340626263,
           0.23972893555169494,
           0.4114910269537714,
           0.14075092530166844,
           0.4335118599745851,
           0.37415706182129005,
           0.3116254427996974,
           0.9759270513445156,
           0.28710283148817395,
           0.6486259791584054,
           0.8124891451162628,
           0.9151702539020206,
           0.4788364458716938,
           0.28373052759208506,
           0.056663710704157544,
           0.8817016647126181,
           0.2990631922252953,
           0.9277118974464613,
           0.5536540102655823,
           0.6849716323766768,
           0.7789172024134885,
           0.04976566705452001,
           0.8228106995955049,
           0.6054455537696578
          ],
          [
           0.011794817939389524,
           0.07560404070401838,
           0.1236598025676473,
           0.9994989162819452,
           0.004202139994413323,
           0.753306950432155,
           0.798210481376315,
           0.5330853907520949,
           0.19525112844263237,
           0.7752496425989411,
           0.44515194244083367,
           0.14005890913590258,
           0.9323246766675688,
           0.503689663534799,
           0.8352859773190736,
           0.8597619318992705,
           0.7936642038216638,
           0.4041077548730835,
           0.5396643429576027,
           0.4862121115618445,
           0.774059974578336,
           0.5855540375948477,
           0.1217714405469652,
           0.16872427940401236,
           0.09849792295990145
          ],
          [
           0.6516768917020487,
           0.9547509209595527,
           0.9251290047844818,
           0.07035565160741153,
           0.4271712192608236,
           0.2276696654001098,
           0.37212445524394255,
           0.6204885388222898,
           0.024061906245832487,
           0.27936804419879213,
           0.9480883318501147,
           0.6344668521013597,
           0.8100441238254423,
           0.8045997019888267,
           0.5270440440399283,
           0.4365173395098215,
           0.12841591271768238,
           0.006777470771111238,
           0.357545415609408,
           0.9150983860640522,
           0.3756540387334294,
           0.12817623983000603,
           0.4641162532565797,
           0.5890469609728455,
           0.37451103605750946
          ],
          [
           0.8070326073740215,
           0.8040301941036123,
           0.17759936537063747,
           0.33087033522695697,
           0.05565119713368982,
           0.15567083640816726,
           0.792621143273908,
           0.4675933305290956,
           0.20497277610700793,
           0.7455297056858026,
           0.8365591142108252,
           0.722758850683606,
           0.12320093517334763,
           0.6704104986454007,
           0.6182326681448481,
           0.7866701337894187,
           0.6533798241725217,
           0.2597061877819762,
           0.28969658348666594,
           0.4003600057625556,
           0.4089894047774796,
           0.971124483433809,
           0.7457461347512186,
           0.7721619078806248,
           0.9042312757014078
          ],
          [
           0.26391757493162427,
           0.4179279807363101,
           0.9265464994824745,
           0.7757742778768535,
           0.26065914523665845,
           0.6179045369049857,
           0.47034899959802756,
           0.04679359325766086,
           0.20676512717599593,
           0.949556997204927,
           0.054783474065833504,
           0.5940464568543622,
           0.16368166708345389,
           0.8140850471287274,
           0.6091626615238916,
           0.7279256546285362,
           0.2272978195964207,
           0.9557182535067517,
           0.3894944272223235,
           0.7928514413568596,
           0.43601192619067397,
           0.6816791526442302,
           0.7593150923025306,
           0.5198185942475407,
           0.6672558100404353
          ],
          [
           0.8347165086639105,
           0.1318487431664842,
           0.30438405816573966,
           0.1047162924970807,
           0.45717023816593416,
           0.00083288042216767,
           0.7666438997392171,
           0.2051376067283397,
           0.8769679227098629,
           0.8930953101309332,
           0.15500764360912933,
           0.8760916690364619,
           0.5351945387184247,
           0.43743887835812156,
           0.6334786250590804,
           0.6218184238772291,
           0.4901606803189067,
           0.39123987066404,
           0.9081826473011522,
           0.6939797779363672,
           0.6417082622123291,
           0.38086500968099146,
           0.5104919441343733,
           0.3083035097506577,
           0.15775279105131101
          ],
          [
           0.0497493095677799,
           0.08048402794368092,
           0.8746566225878527,
           0.08796315584395342,
           0.5924253610590282,
           0.08534564826148905,
           0.04767887391408676,
           0.43412088008173855,
           0.9952241002546931,
           0.3656043691318648,
           0.0030386946355110966,
           0.4316961788300542,
           0.10214464209344165,
           0.12936682707791192,
           0.274735407830616,
           0.629249353401932,
           0.01825253435330021,
           0.6950302279592717,
           0.27167405871008277,
           0.9026998378702663,
           0.31726483919583304,
           0.30326614431839616,
           0.4622459772746128,
           0.4626923205186412,
           0.8459709739111286
          ],
          [
           0.6285265901058609,
           0.23217471310119553,
           0.9340019093213505,
           0.834108429443558,
           0.7955566894548372,
           0.8781710417890984,
           0.5616164266116184,
           0.794802006060829,
           0.6917593216540094,
           0.5749284575670885,
           0.797440951069371,
           0.7138300231739609,
           0.4942360991210826,
           0.8359889690022466,
           0.7024729626291277,
           0.4112952726661778,
           0.37009650993174226,
           0.9212395540572126,
           0.6546150650920686,
           0.512161268356908,
           0.996266053156364,
           0.37915826762660987,
           0.4750158674792716,
           0.0757409429146243,
           0.1308535167867304
          ],
          [
           0.871550637261036,
           0.04136576790823698,
           0.6934899559589093,
           0.20399798798595026,
           0.12750106345895762,
           0.8198038851324497,
           0.06927675227587327,
           0.785321715717821,
           0.8526203154648168,
           0.8966680914977977,
           0.5859257623163971,
           0.509697480282996,
           0.599866031103781,
           0.44860904801232104,
           0.3733168711089534,
           0.1262802953207337,
           0.1930250568247175,
           0.29015752173878784,
           0.8194316732915299,
           0.2978224605783564,
           0.8297261126565504,
           0.3402330780309135,
           0.2510080309197903,
           0.9808861988723112,
           0.3543120517200058
          ],
          [
           0.9967803259737009,
           0.7332896907704777,
           0.7889063626308196,
           0.9790126081941418,
           0.8874606416783065,
           0.17763648048874203,
           0.36335036673663346,
           0.8112151480301659,
           0.9137628627290186,
           0.18303742864691908,
           0.057459012305196344,
           0.8720599069224136,
           0.7432767266605462,
           0.571859997114901,
           0.09436835506807129,
           0.14864954429311927,
           0.8114540069886902,
           0.7336566755517783,
           0.1676462780840262,
           0.0448749631381683,
           0.9754197890306021,
           0.8219409875267332,
           0.670904389065943,
           0.799086499476976,
           0.7437300660335195
          ],
          [
           0.5591103948949627,
           0.3236850058407754,
           0.6448289984690071,
           0.5290960619854992,
           0.2060478907250457,
           0.9401739905971512,
           0.04733450345478374,
           0.8055714874384502,
           0.30095419253661215,
           0.8905336305351602,
           0.9394129730789582,
           0.8273175253415578,
           0.7094822888756077,
           0.9726989576673312,
           0.9326345680385868,
           0.5985976531592722,
           0.14740161148440645,
           0.9808000012232246,
           0.7180989867757767,
           0.7399768203516031,
           0.9771945542032402,
           0.8849339035481512,
           0.8840032148791195,
           0.8973679187006585,
           0.8553641427143752
          ],
          [
           0.04655454260050251,
           0.9403331705466831,
           0.13170670334532963,
           0.9902044896476055,
           0.843776457296208,
           0.09395887597119845,
           0.8279125981658721,
           0.7074246941039675,
           0.23501976019820248,
           0.29282170802143026,
           0.41633568085011785,
           0.8974380623964613,
           0.649995223278551,
           0.6357286598059664,
           0.251818778837928,
           0.5433507375849685,
           0.28207789427260577,
           0.7384410426649377,
           0.10655440552805118,
           0.45858813721727487,
           0.8885140499172662,
           0.8625443071445846,
           0.050922090751502225,
           0.4182624555713381,
           0.8193787761317857
          ],
          [
           0.06661270498830696,
           0.3911073108793348,
           0.43551011915161086,
           0.3732827690033641,
           0.45421319701979446,
           0.028458937102138537,
           0.7060533267461915,
           0.4081552702637843,
           0.09276572806763506,
           0.0033135011740799136,
           0.7480676384282661,
           0.6331362873353839,
           0.3257692724475494,
           0.8585416516876687,
           0.45071735960936343,
           0.8538994992022939,
           0.6521648534334282,
           0.3600586221693165,
           0.5066314878854159,
           0.2607358268430652,
           0.40388645259552913,
           0.790535869804212,
           0.5957849748487346,
           0.9021605778183558,
           0.715287157546197
          ],
          [
           0.36167782945795734,
           0.6551240154327548,
           0.3431989106131009,
           0.6771432664003885,
           0.3948121319297009,
           0.5325634229417983,
           0.6888557567074637,
           0.659693386767675,
           0.35637122780262376,
           0.8657500523979255,
           0.7638317530910124,
           0.12147089643520226,
           0.6689828235693281,
           0.26237683859061867,
           0.8945416804163544,
           0.39862910760435233,
           0.5053692247283496,
           0.9841657693841,
           0.2775584772898221,
           0.9108559299088126,
           0.8408813028061263,
           0.30040649598583,
           0.7612064815405066,
           0.8418297704028369,
           0.4396512087038924
          ],
          [
           0.2338361879155636,
           0.7428517356761252,
           0.8963865687643182,
           0.04620067307769826,
           0.41897555563828803,
           0.4331785764911643,
           0.7110517970416241,
           0.8507409415854198,
           0.4762710655889826,
           0.41250153695077074,
           0.45057868191745254,
           0.4441508157163746,
           0.6835592745455721,
           0.6223496381226535,
           0.09558561525589471,
           0.900084343370514,
           0.11137710330525619,
           0.7215818411017274,
           0.674474870980068,
           0.028165620982522732,
           0.2727641880593267,
           0.0882332316010167,
           0.8334627763368443,
           0.001040596987167297,
           0.7824878855135025
          ],
          [
           0.5792055953368562,
           0.038341484897491895,
           0.2508991588296806,
           0.8774094394458307,
           0.7494690063373182,
           0.07966990796259876,
           0.7912688594688153,
           0.9166202006910941,
           0.660519857922181,
           0.25664357974875174,
           0.38593125285132257,
           0.9487639553832815,
           0.5759400662982246,
           0.5331598778342647,
           0.4053452424561399,
           0.8962000079502251,
           0.43573597554895704,
           0.19572848845905078,
           0.47409541643379316,
           0.6489294053170411,
           0.025814841659545618,
           0.5728369427679677,
           0.1726216024353162,
           0.16220769695107118,
           0.2928444377387075
          ],
          [
           0.19713847347849056,
           0.3634973131982767,
           0.8458948385904728,
           0.8789199939969957,
           0.9149324035230034,
           0.8195195868828643,
           0.2947384145091494,
           0.684401244690031,
           0.2239921975561624,
           0.24251202791557214,
           0.7249321060725126,
           0.5885612903924672,
           0.7362131230127571,
           0.38279080639483387,
           0.336332214133379,
           0.05755051236610531,
           0.49960858526092056,
           0.2231543411537361,
           0.4064058175627826,
           0.9595214649009002,
           0.9865184495557756,
           0.5741163750388029,
           0.23294876940010767,
           0.07456544487070715,
           0.1785491901505386
          ],
          [
           0.39014675415976663,
           0.11149677707604466,
           0.7909323527469538,
           0.33487657161549667,
           0.2581943706681722,
           0.2794775523082871,
           0.3826613676361418,
           0.6994824064871928,
           0.225668763921671,
           0.8063841674301409,
           0.4214313685651979,
           0.8097064247791415,
           0.27268939249579804,
           0.7069515407979667,
           0.4660820951973915,
           0.3187097013279192,
           0.6327035204125738,
           0.04784847334887954,
           0.4491948416928101,
           0.20249761726672189,
           0.7993744019038228,
           0.7182061978853634,
           0.40728034510396016,
           0.6846474460372531,
           0.14942184113945423
          ],
          [
           0.3139879915953272,
           0.7687411875691883,
           0.31481041685855826,
           0.3468137357530674,
           0.04524593303612112,
           0.3306187111136485,
           0.6083248179793588,
           0.8392514686454213,
           0.45043837641871676,
           0.009565949270105234,
           0.33438117287896163,
           0.23478441508467962,
           0.1422344456463599,
           0.7090286572599686,
           0.48845176609353746,
           0.9828124163474642,
           0.9762975706217895,
           0.864894998479838,
           0.14441049192412225,
           0.8169717422536912,
           0.7810479049112241,
           0.5568561533357838,
           0.5467360978005747,
           0.6279229833892364,
           0.551238942789314
          ],
          [
           0.8627776430494181,
           0.49803185719796716,
           0.15361790437019573,
           0.21639989985785757,
           0.5792113171271916,
           0.40998546915539813,
           0.6552846490820109,
           0.8540759558647296,
           0.5653143646496488,
           0.11056908711928326,
           0.24255738557357287,
           0.20750442897128407,
           0.6112000784613278,
           0.8430672872819336,
           0.7709565154028168,
           0.34545785732872836,
           0.8296765333946688,
           0.729741564773171,
           0.4160504873071965,
           0.737232056050236,
           0.7012352862750244,
           0.8739088868621241,
           0.7034792515755861,
           0.5677072852212904,
           0.7461662405164288
          ],
          [
           0.21723471352920487,
           0.0591792751240775,
           0.8046400596381473,
           0.5298059460196106,
           0.27450340867864,
           0.2981475284094587,
           0.5768541953665005,
           0.12237226123617517,
           0.2569560612904668,
           0.9216298124322739,
           0.6825483770100763,
           0.3162008935280163,
           0.7009024698459867,
           0.9735372851855769,
           0.09564510067981957,
           0.8782785203666635,
           0.20515526982289778,
           0.2422196999816012,
           0.9140440289971513,
           0.36203851819859034,
           0.7321032860475879,
           0.46548839409379417,
           0.516347340250072,
           0.27262956190769005,
           0.8735206093726026
          ],
          [
           0.13657728687615855,
           0.7113188616294528,
           0.5080901537113933,
           0.5217990161575977,
           0.8348516809507464,
           0.12820148824099797,
           0.970266162447523,
           0.965608409556802,
           0.5038265440540373,
           0.9564857736166262,
           0.9804684784747995,
           0.14093863138968088,
           0.5572146901931311,
           0.0341904613377918,
           0.16171249547721378,
           0.841532757855035,
           0.174068829284865,
           0.9771330353935861,
           0.026815237439690942,
           0.3799135370977802,
           0.9162759105722759,
           0.7915124729802144,
           0.8758246922678098,
           0.04620292044115726,
           0.2297397834240953
          ],
          [
           0.9238103183364185,
           0.2549709735641239,
           0.06230369097394528,
           0.07034253347498165,
           0.41806534948795504,
           0.010367583569698358,
           0.23789018765475867,
           0.8269177783628159,
           0.24420767859127424,
           0.08640995239221305,
           0.5564743755377315,
           0.6202570717722171,
           0.45465652924387834,
           0.3024859598476146,
           0.31868980393812796,
           0.6252779183865362,
           0.42118138168261454,
           0.3733566536408466,
           0.8005662612070237,
           0.3364659523911703,
           0.9910459947293969,
           0.16281859432504875,
           0.8777804545695406,
           0.8569226270516787,
           0.5413893274599516
          ]
         ]
        },
        {
         "line": {
          "color": "black",
          "width": 2.5
         },
         "mode": "lines",
         "type": "scatter",
         "x": [
          0.5,
          1.25,
          null,
          1.65,
          1.65
         ],
         "y": [
          -0.67,
          -0.67,
          null,
          -1,
          1
         ]
        }
       ],
       "layout": {
        "height": 600,
        "template": {
         "data": {
          "bar": [
           {
            "error_x": {
             "color": "#2a3f5f"
            },
            "error_y": {
             "color": "#2a3f5f"
            },
            "marker": {
             "line": {
              "color": "white",
              "width": 0.5
             }
            },
            "type": "bar"
           }
          ],
          "barpolar": [
           {
            "marker": {
             "line": {
              "color": "white",
              "width": 0.5
             }
            },
            "type": "barpolar"
           }
          ],
          "carpet": [
           {
            "aaxis": {
             "endlinecolor": "#2a3f5f",
             "gridcolor": "#C8D4E3",
             "linecolor": "#C8D4E3",
             "minorgridcolor": "#C8D4E3",
             "startlinecolor": "#2a3f5f"
            },
            "baxis": {
             "endlinecolor": "#2a3f5f",
             "gridcolor": "#C8D4E3",
             "linecolor": "#C8D4E3",
             "minorgridcolor": "#C8D4E3",
             "startlinecolor": "#2a3f5f"
            },
            "type": "carpet"
           }
          ],
          "choropleth": [
           {
            "colorbar": {
             "outlinewidth": 0,
             "ticks": ""
            },
            "type": "choropleth"
           }
          ],
          "contour": [
           {
            "colorbar": {
             "outlinewidth": 0,
             "ticks": ""
            },
            "colorscale": [
             [
              0,
              "#0d0887"
             ],
             [
              0.1111111111111111,
              "#46039f"
             ],
             [
              0.2222222222222222,
              "#7201a8"
             ],
             [
              0.3333333333333333,
              "#9c179e"
             ],
             [
              0.4444444444444444,
              "#bd3786"
             ],
             [
              0.5555555555555556,
              "#d8576b"
             ],
             [
              0.6666666666666666,
              "#ed7953"
             ],
             [
              0.7777777777777778,
              "#fb9f3a"
             ],
             [
              0.8888888888888888,
              "#fdca26"
             ],
             [
              1,
              "#f0f921"
             ]
            ],
            "type": "contour"
           }
          ],
          "contourcarpet": [
           {
            "colorbar": {
             "outlinewidth": 0,
             "ticks": ""
            },
            "type": "contourcarpet"
           }
          ],
          "heatmap": [
           {
            "colorbar": {
             "outlinewidth": 0,
             "ticks": ""
            },
            "colorscale": [
             [
              0,
              "#0d0887"
             ],
             [
              0.1111111111111111,
              "#46039f"
             ],
             [
              0.2222222222222222,
              "#7201a8"
             ],
             [
              0.3333333333333333,
              "#9c179e"
             ],
             [
              0.4444444444444444,
              "#bd3786"
             ],
             [
              0.5555555555555556,
              "#d8576b"
             ],
             [
              0.6666666666666666,
              "#ed7953"
             ],
             [
              0.7777777777777778,
              "#fb9f3a"
             ],
             [
              0.8888888888888888,
              "#fdca26"
             ],
             [
              1,
              "#f0f921"
             ]
            ],
            "type": "heatmap"
           }
          ],
          "heatmapgl": [
           {
            "colorbar": {
             "outlinewidth": 0,
             "ticks": ""
            },
            "colorscale": [
             [
              0,
              "#0d0887"
             ],
             [
              0.1111111111111111,
              "#46039f"
             ],
             [
              0.2222222222222222,
              "#7201a8"
             ],
             [
              0.3333333333333333,
              "#9c179e"
             ],
             [
              0.4444444444444444,
              "#bd3786"
             ],
             [
              0.5555555555555556,
              "#d8576b"
             ],
             [
              0.6666666666666666,
              "#ed7953"
             ],
             [
              0.7777777777777778,
              "#fb9f3a"
             ],
             [
              0.8888888888888888,
              "#fdca26"
             ],
             [
              1,
              "#f0f921"
             ]
            ],
            "type": "heatmapgl"
           }
          ],
          "histogram": [
           {
            "marker": {
             "colorbar": {
              "outlinewidth": 0,
              "ticks": ""
             }
            },
            "type": "histogram"
           }
          ],
          "histogram2d": [
           {
            "colorbar": {
             "outlinewidth": 0,
             "ticks": ""
            },
            "colorscale": [
             [
              0,
              "#0d0887"
             ],
             [
              0.1111111111111111,
              "#46039f"
             ],
             [
              0.2222222222222222,
              "#7201a8"
             ],
             [
              0.3333333333333333,
              "#9c179e"
             ],
             [
              0.4444444444444444,
              "#bd3786"
             ],
             [
              0.5555555555555556,
              "#d8576b"
             ],
             [
              0.6666666666666666,
              "#ed7953"
             ],
             [
              0.7777777777777778,
              "#fb9f3a"
             ],
             [
              0.8888888888888888,
              "#fdca26"
             ],
             [
              1,
              "#f0f921"
             ]
            ],
            "type": "histogram2d"
           }
          ],
          "histogram2dcontour": [
           {
            "colorbar": {
             "outlinewidth": 0,
             "ticks": ""
            },
            "colorscale": [
             [
              0,
              "#0d0887"
             ],
             [
              0.1111111111111111,
              "#46039f"
             ],
             [
              0.2222222222222222,
              "#7201a8"
             ],
             [
              0.3333333333333333,
              "#9c179e"
             ],
             [
              0.4444444444444444,
              "#bd3786"
             ],
             [
              0.5555555555555556,
              "#d8576b"
             ],
             [
              0.6666666666666666,
              "#ed7953"
             ],
             [
              0.7777777777777778,
              "#fb9f3a"
             ],
             [
              0.8888888888888888,
              "#fdca26"
             ],
             [
              1,
              "#f0f921"
             ]
            ],
            "type": "histogram2dcontour"
           }
          ],
          "mesh3d": [
           {
            "colorbar": {
             "outlinewidth": 0,
             "ticks": ""
            },
            "type": "mesh3d"
           }
          ],
          "parcoords": [
           {
            "line": {
             "colorbar": {
              "outlinewidth": 0,
              "ticks": ""
             }
            },
            "type": "parcoords"
           }
          ],
          "pie": [
           {
            "automargin": true,
            "type": "pie"
           }
          ],
          "scatter": [
           {
            "marker": {
             "colorbar": {
              "outlinewidth": 0,
              "ticks": ""
             }
            },
            "type": "scatter"
           }
          ],
          "scatter3d": [
           {
            "line": {
             "colorbar": {
              "outlinewidth": 0,
              "ticks": ""
             }
            },
            "marker": {
             "colorbar": {
              "outlinewidth": 0,
              "ticks": ""
             }
            },
            "type": "scatter3d"
           }
          ],
          "scattercarpet": [
           {
            "marker": {
             "colorbar": {
              "outlinewidth": 0,
              "ticks": ""
             }
            },
            "type": "scattercarpet"
           }
          ],
          "scattergeo": [
           {
            "marker": {
             "colorbar": {
              "outlinewidth": 0,
              "ticks": ""
             }
            },
            "type": "scattergeo"
           }
          ],
          "scattergl": [
           {
            "marker": {
             "colorbar": {
              "outlinewidth": 0,
              "ticks": ""
             }
            },
            "type": "scattergl"
           }
          ],
          "scattermapbox": [
           {
            "marker": {
             "colorbar": {
              "outlinewidth": 0,
              "ticks": ""
             }
            },
            "type": "scattermapbox"
           }
          ],
          "scatterpolar": [
           {
            "marker": {
             "colorbar": {
              "outlinewidth": 0,
              "ticks": ""
             }
            },
            "type": "scatterpolar"
           }
          ],
          "scatterpolargl": [
           {
            "marker": {
             "colorbar": {
              "outlinewidth": 0,
              "ticks": ""
             }
            },
            "type": "scatterpolargl"
           }
          ],
          "scatterternary": [
           {
            "marker": {
             "colorbar": {
              "outlinewidth": 0,
              "ticks": ""
             }
            },
            "type": "scatterternary"
           }
          ],
          "surface": [
           {
            "colorbar": {
             "outlinewidth": 0,
             "ticks": ""
            },
            "colorscale": [
             [
              0,
              "#0d0887"
             ],
             [
              0.1111111111111111,
              "#46039f"
             ],
             [
              0.2222222222222222,
              "#7201a8"
             ],
             [
              0.3333333333333333,
              "#9c179e"
             ],
             [
              0.4444444444444444,
              "#bd3786"
             ],
             [
              0.5555555555555556,
              "#d8576b"
             ],
             [
              0.6666666666666666,
              "#ed7953"
             ],
             [
              0.7777777777777778,
              "#fb9f3a"
             ],
             [
              0.8888888888888888,
              "#fdca26"
             ],
             [
              1,
              "#f0f921"
             ]
            ],
            "type": "surface"
           }
          ],
          "table": [
           {
            "cells": {
             "fill": {
              "color": "#EBF0F8"
             },
             "line": {
              "color": "white"
             }
            },
            "header": {
             "fill": {
              "color": "#C8D4E3"
             },
             "line": {
              "color": "white"
             }
            },
            "type": "table"
           }
          ]
         },
         "layout": {
          "annotationdefaults": {
           "arrowcolor": "#2a3f5f",
           "arrowhead": 0,
           "arrowwidth": 1
          },
          "coloraxis": {
           "colorbar": {
            "outlinewidth": 0,
            "ticks": ""
           }
          },
          "colorscale": {
           "diverging": [
            [
             0,
             "#8e0152"
            ],
            [
             0.1,
             "#c51b7d"
            ],
            [
             0.2,
             "#de77ae"
            ],
            [
             0.3,
             "#f1b6da"
            ],
            [
             0.4,
             "#fde0ef"
            ],
            [
             0.5,
             "#f7f7f7"
            ],
            [
             0.6,
             "#e6f5d0"
            ],
            [
             0.7,
             "#b8e186"
            ],
            [
             0.8,
             "#7fbc41"
            ],
            [
             0.9,
             "#4d9221"
            ],
            [
             1,
             "#276419"
            ]
           ],
           "sequential": [
            [
             0,
             "#0d0887"
            ],
            [
             0.1111111111111111,
             "#46039f"
            ],
            [
             0.2222222222222222,
             "#7201a8"
            ],
            [
             0.3333333333333333,
             "#9c179e"
            ],
            [
             0.4444444444444444,
             "#bd3786"
            ],
            [
             0.5555555555555556,
             "#d8576b"
            ],
            [
             0.6666666666666666,
             "#ed7953"
            ],
            [
             0.7777777777777778,
             "#fb9f3a"
            ],
            [
             0.8888888888888888,
             "#fdca26"
            ],
            [
             1,
             "#f0f921"
            ]
           ],
           "sequentialminus": [
            [
             0,
             "#0d0887"
            ],
            [
             0.1111111111111111,
             "#46039f"
            ],
            [
             0.2222222222222222,
             "#7201a8"
            ],
            [
             0.3333333333333333,
             "#9c179e"
            ],
            [
             0.4444444444444444,
             "#bd3786"
            ],
            [
             0.5555555555555556,
             "#d8576b"
            ],
            [
             0.6666666666666666,
             "#ed7953"
            ],
            [
             0.7777777777777778,
             "#fb9f3a"
            ],
            [
             0.8888888888888888,
             "#fdca26"
            ],
            [
             1,
             "#f0f921"
            ]
           ]
          },
          "colorway": [
           "#636efa",
           "#EF553B",
           "#00cc96",
           "#ab63fa",
           "#FFA15A",
           "#19d3f3",
           "#FF6692",
           "#B6E880",
           "#FF97FF",
           "#FECB52"
          ],
          "font": {
           "color": "#2a3f5f"
          },
          "geo": {
           "bgcolor": "white",
           "lakecolor": "white",
           "landcolor": "white",
           "showlakes": true,
           "showland": true,
           "subunitcolor": "#C8D4E3"
          },
          "hoverlabel": {
           "align": "left"
          },
          "hovermode": "closest",
          "mapbox": {
           "style": "light"
          },
          "paper_bgcolor": "white",
          "plot_bgcolor": "white",
          "polar": {
           "angularaxis": {
            "gridcolor": "#EBF0F8",
            "linecolor": "#EBF0F8",
            "ticks": ""
           },
           "bgcolor": "white",
           "radialaxis": {
            "gridcolor": "#EBF0F8",
            "linecolor": "#EBF0F8",
            "ticks": ""
           }
          },
          "scene": {
           "xaxis": {
            "backgroundcolor": "white",
            "gridcolor": "#DFE8F3",
            "gridwidth": 2,
            "linecolor": "#EBF0F8",
            "showbackground": true,
            "ticks": "",
            "zerolinecolor": "#EBF0F8"
           },
           "yaxis": {
            "backgroundcolor": "white",
            "gridcolor": "#DFE8F3",
            "gridwidth": 2,
            "linecolor": "#EBF0F8",
            "showbackground": true,
            "ticks": "",
            "zerolinecolor": "#EBF0F8"
           },
           "zaxis": {
            "backgroundcolor": "white",
            "gridcolor": "#DFE8F3",
            "gridwidth": 2,
            "linecolor": "#EBF0F8",
            "showbackground": true,
            "ticks": "",
            "zerolinecolor": "#EBF0F8"
           }
          },
          "shapedefaults": {
           "line": {
            "color": "#2a3f5f"
           }
          },
          "ternary": {
           "aaxis": {
            "gridcolor": "#DFE8F3",
            "linecolor": "#A2B1C6",
            "ticks": ""
           },
           "baxis": {
            "gridcolor": "#DFE8F3",
            "linecolor": "#A2B1C6",
            "ticks": ""
           },
           "bgcolor": "white",
           "caxis": {
            "gridcolor": "#DFE8F3",
            "linecolor": "#A2B1C6",
            "ticks": ""
           }
          },
          "title": {
           "x": 0.05
          },
          "xaxis": {
           "automargin": true,
           "gridcolor": "#EBF0F8",
           "linecolor": "#EBF0F8",
           "ticks": "",
           "title": {
            "standoff": 15
           },
           "zerolinecolor": "#EBF0F8",
           "zerolinewidth": 2
          },
          "yaxis": {
           "automargin": true,
           "gridcolor": "#EBF0F8",
           "linecolor": "#EBF0F8",
           "ticks": "",
           "title": {
            "standoff": 15
           },
           "zerolinecolor": "#EBF0F8",
           "zerolinewidth": 2
          }
         }
        },
        "width": 600,
        "xaxis": {
         "range": [
          0,
          2
         ],
         "type": "linear"
        },
        "yaxis": {
         "range": [
          -1,
          1
         ],
         "type": "linear"
        }
       }
      },
      "image/png": "[encoded data removed]",
      "text/html": [
       "<div>                            <div id=\"2b2cec0c-5b38-4cc9-b97b-c8ea301ccaba\" class=\"plotly-graph-div\" style=\"height:600px; width:600px;\"></div>            <script type=\"text/javascript\">                require([\"plotly\"], function(Plotly) {                    window.PLOTLYENV=window.PLOTLYENV || {};                                    if (document.getElementById(\"2b2cec0c-5b38-4cc9-b97b-c8ea301ccaba\")) {                    Plotly.newPlot(                        \"2b2cec0c-5b38-4cc9-b97b-c8ea301ccaba\",                        [{\"colorbar\": {\"thickness\": 20}, \"colorscale\": [[0.0, \"rgb(247,252,245)\"], [0.125, \"rgb(229,245,224)\"], [0.25, \"rgb(199,233,192)\"], [0.375, \"rgb(161,217,155)\"], [0.5, \"rgb(116,196,118)\"], [0.625, \"rgb(65,171,93)\"], [0.75, \"rgb(35,139,69)\"], [0.875, \"rgb(0,109,44)\"], [1.0, \"rgb(0,68,27)\"]], \"type\": \"heatmap\", \"x\": [0.0, 0.08333333333333333, 0.16666666666666666, 0.25, 0.3333333333333333, 0.41666666666666663, 0.5, 0.5833333333333333, 0.6666666666666666, 0.75, 0.8333333333333333, 0.9166666666666666, 1.0, 1.0833333333333333, 1.1666666666666665, 1.25, 1.3333333333333333, 1.4166666666666665, 1.5, 1.5833333333333333, 1.6666666666666665, 1.75, 1.8333333333333333, 1.9166666666666665, 2.0], \"y\": [-1.0, -0.9166666666666666, -0.8333333333333334, -0.75, -0.6666666666666667, -0.5833333333333334, -0.5, -0.41666666666666674, -0.33333333333333337, -0.25, -0.16666666666666674, -0.08333333333333337, 0.0, 0.08333333333333326, 0.16666666666666652, 0.25, 0.33333333333333326, 0.4166666666666665, 0.5, 0.5833333333333333, 0.6666666666666665, 0.75, 0.8333333333333333, 0.9166666666666665, 1.0], \"z\": [[0.0213405572505333, 0.24429426116466624, 0.804927791715193, 0.17023026605791158, 0.500386634534434, 0.21835886437552166, 0.7441461389873644, 0.3485958015073376, 0.3753312284129021, 0.500281784891191, 0.16028966304838554, 0.5848859607338024, 0.8076529308104408, 0.9215707026608563, 0.7765786310048803, 0.4289895571718746, 0.778971483881782, 0.6688585301418514, 0.32620321079534664, 0.90280024341892, 0.010713250325717238, 0.1727760767332538, 0.5196814268509791, 0.12827406221760473, 0.3737797008022389], [0.14019140415761322, 0.6249716615074917, 0.8206047003085116, 0.3304379984745571, 0.7234491636177454, 0.6874445316783863, 0.15405031856153673, 0.1392821630631752, 0.4518936530337071, 0.6470714532237712, 0.03998126131419144, 0.06417878095039142, 0.3264456572737473, 0.1617704134387703, 0.2646779641365331, 0.1476149037055935, 0.34669618477515685, 0.7521158741557563, 0.3429718973339897, 0.40265804140986894, 0.8460885940631651, 0.010251418348096064, 0.20943293714560896, 0.16903694534867497, 0.08432671539026593], [0.29615615243022175, 0.8962428733340096, 0.5307662784695126, 0.9796528869512979, 0.4720348321088781, 0.3096656211844311, 0.9705112865853206, 0.01935088263476492, 0.3064169224721788, 0.9076712585420926, 0.5096039540082858, 0.22757326772173503, 0.8357209738401896, 0.12073384763296069, 0.569125707889283, 0.20177699293067874, 0.5773833823841528, 0.5619352483135711, 0.46649015832838747, 0.0803264040093481, 0.004104844374549166, 0.03680917249472426, 0.09938116914402695, 0.5246789772306184, 0.9088469406767744], [0.285149247153502, 0.31132114117712417, 0.9678864938203015, 0.7276711761328902, 0.27902316134584604, 0.8602351857858542, 0.03381087016347739, 0.7316978464427454, 0.06600797801301816, 0.3297140304665429, 0.868002204915678, 0.561918865487428, 0.6125020342315144, 0.8228367678608387, 0.6829158500600347, 0.1669565216635187, 0.34210458592447, 0.21639879985420618, 0.06643117355992945, 0.7557011406396004, 0.7922805613494962, 0.6006438807553366, 0.5890604204571787, 0.0038847089104582233, 0.3641625709218994], [0.3906915041836595, 0.934874678841542, 0.08234005989071502, 0.33242729196925536, 0.7663473186547274, 0.5783979894183839, 0.5792952908049648, 0.11580578587710999, 0.8856007808135833, 0.22840441129488387, 0.024779671861668295, 0.5152904262549864, 0.5687818462308297, 0.23314435283320922, 0.01147454103843637, 0.9206654910964456, 0.12082067127691021, 0.7478075609357888, 0.422581094728822, 0.2781412412279639, 0.6022602587227197, 0.8839981913273279, 0.22934156642506498, 0.45114306505656554, 0.4848382943732825], [0.43159358300996487, 0.12688626210342102, 0.8746243682272216, 0.8644563669310655, 0.25465673453326654, 0.36812244777935554, 0.9266217324925196, 0.6472968057245404, 0.9708550033680006, 0.03285598902708331, 0.6702881455685017, 0.9758608628029495, 0.8625249052709887, 0.23981690111509346, 0.939444786593324, 0.413833761270211, 0.5221367224247889, 0.31655054670661154, 0.5708175340353446, 0.9304765371288125, 0.337716111595626, 0.746931120106971, 0.7175704051374374, 0.1171274058831443, 0.42397660139190907], [0.9864762927240968, 0.878138538355749, 0.10272417197700812, 0.6276601272218342, 0.6903233221298417, 0.7249443378234252, 0.8507932494046792, 0.7599361566648829, 0.23439509210244147, 0.7341763853756892, 0.5620813519639909, 0.17401764309171752, 0.8173578031530547, 0.0596472877822789, 0.11603873978060597, 0.8033616574685689, 0.6658635480454762, 0.4434485483928218, 0.2224389936489728, 0.935507626598375, 0.43964587604426486, 0.8669086064418492, 0.32295409235759254, 0.9133025331824891, 0.6693321173887767], [0.5231447528428985, 0.7477105113435848, 0.27280964069247515, 0.6233518311856497, 0.09143206731685771, 0.5670603374240454, 0.918737646794913, 0.30065168308430923, 0.9255398966546874, 0.7940713602281634, 0.5472769468632033, 0.45341211488928024, 0.29185784148667826, 0.02355926338180625, 0.9124323064842856, 0.29576500804410366, 0.74982906480843, 0.42199604155521964, 0.626510652642803, 0.29834352387966134, 0.216720019208675, 0.08405886008763952, 0.09484937564624285, 0.42196347378429133, 0.41800624832201194], [0.6796901001454378, 0.3564934752953921, 0.3253448905191223, 0.3017738892744203, 0.09380767801297152, 0.05775850985354225, 0.5406100702450343, 0.874981025650889, 0.6499068740490849, 0.7172251506590896, 0.8293762966593774, 0.4574747783592341, 0.9584243892033433, 0.6279481866771671, 0.46525340020692474, 0.8696088080246503, 0.41285084028141183, 0.7222086377777337, 0.5772356027155932, 0.4657871269928743, 0.6451663869648268, 0.414359911202165, 0.5939674963722685, 0.13111665906773573, 0.3903855147741899], [0.6968489445241534, 0.08180440304128123, 0.785952374736022, 0.626266831309478, 0.31750431220373665, 0.6202805107291326, 0.3771657307421262, 0.92405615593379, 0.643792107165224, 0.6204109479984159, 0.8916593455004426, 0.4381536758068717, 0.21547199668459027, 0.38818146754315097, 0.8093698596196413, 0.3348948682164512, 0.610353427138299, 0.05939817411783954, 0.6845102214983283, 0.5291533325079569, 0.8655721841884926, 0.15999945480745803, 0.5150977037068135, 0.025796549792324597, 0.23862489138083287], [0.3818256531526475, 0.6798710564264507, 0.7424319458981712, 0.6379841513343012, 0.7739721641284859, 0.33626371691737833, 0.7896633299053177, 0.9040091790538639, 0.8061196665942887, 0.5559936063714342, 0.6846012794811827, 0.2505331996486918, 0.9911427873958752, 0.8746260870847049, 0.4836443228122609, 0.5017866975298471, 0.6779689196365428, 0.8019928355794497, 0.5947672659293356, 0.17957137169581383, 0.0032620532014372428, 0.1192191573500293, 0.17986105266450092, 0.2773108833353618, 0.5025028188195062], [0.7638166896182199, 0.11236453568820548, 0.037569523439197616, 0.6582769326465098, 0.03242179121797695, 0.33294615206879374, 0.39377433540976337, 0.7808194373838435, 0.9254617156289802, 0.694385847312077, 0.592659753012484, 0.6701644412017541, 0.011829881429811229, 0.5115165303726478, 0.12688644003493266, 0.006117483999457662, 0.07802673277429895, 0.2985018448285165, 0.9406499819055686, 0.12738582070637416, 0.7925439429348949, 0.9493264270706181, 0.2620124397764064, 0.7900936354300556, 0.18703520870007517], [0.05620841629650086, 0.4135943173962148, 0.442177815736961, 0.1501342712339857, 0.1467139238693772, 0.5727947889828404, 0.046596452300320945, 0.7639317760786309, 0.6649446196562202, 0.2083331232928135, 0.931970261531551, 0.39352793582108136, 0.08912692750498041, 0.6419119718006036, 0.7051836129491718, 0.08242970219595125, 0.36447086427347586, 0.7222745606806462, 0.8273296501998993, 0.5080493937164097, 0.823733786193824, 0.8612463382023628, 0.3675556136667032, 0.33345110896916164, 0.615741008295782], [0.6692179906146316, 0.22445603436782346, 0.3945152544700067, 0.6366354168615554, 0.11094193291319154, 0.8452617411776568, 0.9567647739176306, 0.6893129307068572, 0.9684422511696149, 0.6174548705369444, 0.013388498922030645, 0.2981493896260764, 0.37408520702206705, 0.6812313663557436, 0.6536054821545052, 0.15939149698203658, 0.9569269264103508, 0.872784096133491, 0.0781493808287308, 0.9866669922452189, 0.7621542920794472, 0.7240115481020408, 0.07927061190867424, 0.6118797816553457, 0.242365803292242], [0.14055558917792987, 0.6509979336900674, 0.2728679677937266, 0.6828706077660456, 0.07731920543181958, 0.9512118093289751, 0.753629574381746, 0.935421183448688, 0.6297999693770564, 0.8830179021667633, 0.2947364781137696, 0.6133730581013344, 0.5387986934802022, 0.9321706339892561, 0.2653575233483244, 0.10991484339100677, 0.9740988333091795, 0.920007797505945, 0.7765335893496355, 0.04129138943430799, 0.38895650687918226, 0.12108362904632419, 0.8822344142146216, 0.11018383087630412, 0.21897537491223218], [0.8817414278707453, 0.09190268321942985, 0.5302970902988524, 0.2722389038472923, 0.8652952042010835, 0.06433032541353711, 0.41126973051524773, 0.6995674089635979, 0.06312559553509578, 0.2712777594624691, 0.15034429332459043, 0.9912262156361586, 0.011872787695455855, 0.1853786995754121, 0.2990128208618317, 0.34295167759172573, 0.999120522006365, 0.5787976936014517, 0.13230358379683826, 0.259768058687034, 0.5881321608217001, 0.9875625229123223, 0.3752557173571557, 0.17673195049546508, 0.6908955181261944], [0.9368996103883234, 0.513911010763299, 0.24857032165619375, 0.7270203233681747, 0.6879573510693023, 0.797934549901446, 0.015042806048655377, 0.26876255936898286, 0.26703147490258017, 0.3357397097110645, 0.9137763069292795, 0.5471671033361116, 0.7036002066913782, 0.6681737040875956, 0.049003565569588514, 0.7863512251127124, 0.19267272093869225, 0.617470166714148, 0.238341633173205, 0.9099506669184296, 0.23122527025788164, 0.6490365800475701, 0.39636761454190306, 0.13291887135731106, 0.6699787924186239], [0.558115055278247, 0.28977727916691265, 0.14746512597336936, 0.16096738274023314, 0.44849638777967216, 0.8426726498111945, 0.3863092975521868, 0.002883444693278392, 0.05529491579851609, 0.35149303837788026, 0.022706946609481693, 0.0408576874922183, 0.39211106040399735, 0.613045030997969, 0.17575090186591258, 0.6435488454362964, 0.9180479894548669, 0.21268250473922445, 0.5963896016822912, 0.5808302864397299, 0.021065771827759594, 0.6123470502894509, 0.9464673659670808, 0.6333111701166075, 0.687279705829034], [0.36239512901914717, 0.14369523296287956, 0.25129397581910706, 0.4906376484345568, 0.7176084760021785, 0.9473893836560399, 0.3493947173894084, 0.26606051907378836, 0.6391931356553399, 0.30610503471860706, 0.6942260141637657, 0.7660839892259793, 0.9991528234446762, 0.5686931372779601, 0.6535160327786446, 0.3725997339603807, 0.5434428591135088, 0.09140294555583839, 0.8218619126187644, 0.779297755577956, 0.7175349879016502, 0.8627901564129472, 0.0496961753082531, 0.7823233045100761, 0.7869228505163254], [0.27418487124887714, 0.3484699844452416, 0.7635913469569577, 0.3315646649669368, 0.6214103455663181, 0.48624003368549296, 0.4738259002515133, 0.17698093876032017, 0.223676010685821, 0.06324311123088944, 0.2730806129966381, 0.35134185040922594, 0.1130140068139096, 0.9938352881555107, 0.47774625370951396, 0.008185007293555868, 0.8783118102490262, 0.3011110286774358, 0.703294973840968, 0.9527241883125356, 0.6893751050141504, 0.021313602819853616, 0.9811585800043281, 0.3875676198815138, 0.21963617057650753], [0.8237395881782418, 0.5636025189192876, 0.6225090743606497, 0.06919632062133219, 0.5549554591291564, 0.9761190078050038, 0.8490009430422972, 0.6423077598107784, 0.4253991914501002, 0.6448705460477087, 0.9011213205154124, 0.7678722255132661, 0.5196612895397296, 0.5052211036462546, 0.793306876454927, 0.5926910048641425, 0.25529294966567373, 0.06315109225274484, 0.5261289768199263, 0.44775605895991977, 0.9246131627285709, 0.7747914509860832, 0.09025285311913889, 0.39124039427214086, 0.839919893171628], [0.9537473356224618, 0.7443095619227693, 0.5406380147619884, 0.21303601232730596, 0.8183989300050758, 0.47030232902051916, 0.704676833420984, 0.993863542655439, 0.9773592915750426, 0.48575540628259584, 0.7119358961175232, 0.9348455848507934, 0.3847448536447917, 0.29560487725465756, 0.7312197012620609, 0.4158655202412007, 0.9052129833453116, 0.0447739475219463, 0.6551711365009434, 0.32423360970129256, 0.7705703825848549, 0.8024340142780974, 0.16929087472532245, 0.7261150082964594, 0.3076684282090685], [0.7413051927026453, 0.6589562957580628, 0.7762729913697548, 0.23643531787239702, 0.20073833907575322, 0.48112127061903254, 0.886292776416791, 0.7661628187107702, 0.4717262224117603, 0.1286291990426287, 0.6773317610477546, 0.8476510019675707, 0.9795589244788988, 0.22624651271201246, 0.5683464153999097, 0.6303245639426357, 0.015184362518889993, 0.825701164957958, 0.7075312023688703, 0.9305701311424419, 0.3009610757179454, 0.07838517134391976, 0.07614254382067964, 0.7507148868949622, 0.7391284149921299], [0.1435129036799403, 0.9470545422180039, 0.9893374081318971, 0.7162404410787615, 0.905534657009126, 0.3080581626604538, 0.946315210966247, 0.5348321852961332, 0.9406266159388922, 0.24853268001113404, 0.26390031507301015, 0.701870297519962, 0.49724869681616124, 0.5703247508032334, 0.3142157206483478, 0.2861003453114469, 0.680372113491043, 0.9755111029641707, 0.9354546993597012, 0.6327374470602286, 0.2575974698905362, 0.9934745518088454, 0.732529988588331, 0.07864275949533994, 0.7248225637025202], [0.7088368530450971, 0.9875670009658308, 0.45172966900136047, 0.21183535397472475, 0.5813953626806414, 0.3872953348125966, 0.25428214441362684, 0.529163949509329, 0.8289262721446005, 0.6456836544286363, 0.8715126513282571, 0.8580470355926758, 0.6165321774635819, 0.7809718750622755, 0.26719702071852613, 0.46853784672923493, 0.055723054729943544, 0.9416331730545129, 0.12304820486571377, 0.2953823279004393, 0.6329677490205944, 0.8533986514211842, 0.7859242586495081, 0.36362053619444124, 0.747836310220204], [0.724533481031927, 0.8873340991247762, 0.8720343016937427, 0.42452756494902666, 0.18209230378815644, 0.5564148741362515, 0.2893322101467577, 0.3410811783688188, 0.6384059044614161, 0.23772447543799846, 0.5691273637763286, 0.7820842490512407, 0.9875236406961017, 0.6104500826626788, 0.6768053424906451, 0.79681693680373, 0.5277107777237643, 0.17812418584834155, 0.4017138064979551, 0.7673458505057693, 0.617705587372129, 0.4618076152426246, 0.9360236508487175, 0.5009022170869255, 0.448235056434526], [0.023669815995444266, 0.8318803876786351, 0.12891258464416067, 0.6575075660301442, 0.5276274072604247, 0.867790195731054, 0.7196556612510109, 0.2348498519748613, 0.7032222526458145, 0.7747896142237367, 0.4928421668248998, 0.7423725961164682, 0.8586175148860916, 0.4968093145180362, 0.39020357925378235, 0.4502610559549387, 0.24948213754933013, 0.3765870994722751, 0.2509088952003885, 0.8487897399613031, 0.9601164978307327, 0.557866006843781, 0.3708957156531616, 0.4190798658364503, 0.8101149228789993], [0.366022029864176, 0.9213886340626263, 0.23972893555169494, 0.4114910269537714, 0.14075092530166844, 0.4335118599745851, 0.37415706182129005, 0.3116254427996974, 0.9759270513445156, 0.28710283148817395, 0.6486259791584054, 0.8124891451162628, 0.9151702539020206, 0.4788364458716938, 0.28373052759208506, 0.056663710704157544, 0.8817016647126181, 0.2990631922252953, 0.9277118974464613, 0.5536540102655823, 0.6849716323766768, 0.7789172024134885, 0.04976566705452001, 0.8228106995955049, 0.6054455537696578], [0.011794817939389524, 0.07560404070401838, 0.1236598025676473, 0.9994989162819452, 0.004202139994413323, 0.753306950432155, 0.798210481376315, 0.5330853907520949, 0.19525112844263237, 0.7752496425989411, 0.44515194244083367, 0.14005890913590258, 0.9323246766675688, 0.503689663534799, 0.8352859773190736, 0.8597619318992705, 0.7936642038216638, 0.4041077548730835, 0.5396643429576027, 0.4862121115618445, 0.774059974578336, 0.5855540375948477, 0.1217714405469652, 0.16872427940401236, 0.09849792295990145], [0.6516768917020487, 0.9547509209595527, 0.9251290047844818, 0.07035565160741153, 0.4271712192608236, 0.2276696654001098, 0.37212445524394255, 0.6204885388222898, 0.024061906245832487, 0.27936804419879213, 0.9480883318501147, 0.6344668521013597, 0.8100441238254423, 0.8045997019888267, 0.5270440440399283, 0.4365173395098215, 0.12841591271768238, 0.006777470771111238, 0.357545415609408, 0.9150983860640522, 0.3756540387334294, 0.12817623983000603, 0.4641162532565797, 0.5890469609728455, 0.37451103605750946], [0.8070326073740215, 0.8040301941036123, 0.17759936537063747, 0.33087033522695697, 0.05565119713368982, 0.15567083640816726, 0.792621143273908, 0.4675933305290956, 0.20497277610700793, 0.7455297056858026, 0.8365591142108252, 0.722758850683606, 0.12320093517334763, 0.6704104986454007, 0.6182326681448481, 0.7866701337894187, 0.6533798241725217, 0.2597061877819762, 0.28969658348666594, 0.4003600057625556, 0.4089894047774796, 0.971124483433809, 0.7457461347512186, 0.7721619078806248, 0.9042312757014078], [0.26391757493162427, 0.4179279807363101, 0.9265464994824745, 0.7757742778768535, 0.26065914523665845, 0.6179045369049857, 0.47034899959802756, 0.04679359325766086, 0.20676512717599593, 0.949556997204927, 0.054783474065833504, 0.5940464568543622, 0.16368166708345389, 0.8140850471287274, 0.6091626615238916, 0.7279256546285362, 0.2272978195964207, 0.9557182535067517, 0.3894944272223235, 0.7928514413568596, 0.43601192619067397, 0.6816791526442302, 0.7593150923025306, 0.5198185942475407, 0.6672558100404353], [0.8347165086639105, 0.1318487431664842, 0.30438405816573966, 0.1047162924970807, 0.45717023816593416, 0.00083288042216767, 0.7666438997392171, 0.2051376067283397, 0.8769679227098629, 0.8930953101309332, 0.15500764360912933, 0.8760916690364619, 0.5351945387184247, 0.43743887835812156, 0.6334786250590804, 0.6218184238772291, 0.4901606803189067, 0.39123987066404, 0.9081826473011522, 0.6939797779363672, 0.6417082622123291, 0.38086500968099146, 0.5104919441343733, 0.3083035097506577, 0.15775279105131101], [0.0497493095677799, 0.08048402794368092, 0.8746566225878527, 0.08796315584395342, 0.5924253610590282, 0.08534564826148905, 0.04767887391408676, 0.43412088008173855, 0.9952241002546931, 0.3656043691318648, 0.0030386946355110966, 0.4316961788300542, 0.10214464209344165, 0.12936682707791192, 0.274735407830616, 0.629249353401932, 0.01825253435330021, 0.6950302279592717, 0.27167405871008277, 0.9026998378702663, 0.31726483919583304, 0.30326614431839616, 0.4622459772746128, 0.4626923205186412, 0.8459709739111286], [0.6285265901058609, 0.23217471310119553, 0.9340019093213505, 0.834108429443558, 0.7955566894548372, 0.8781710417890984, 0.5616164266116184, 0.794802006060829, 0.6917593216540094, 0.5749284575670885, 0.797440951069371, 0.7138300231739609, 0.4942360991210826, 0.8359889690022466, 0.7024729626291277, 0.4112952726661778, 0.37009650993174226, 0.9212395540572126, 0.6546150650920686, 0.512161268356908, 0.996266053156364, 0.37915826762660987, 0.4750158674792716, 0.0757409429146243, 0.1308535167867304], [0.871550637261036, 0.04136576790823698, 0.6934899559589093, 0.20399798798595026, 0.12750106345895762, 0.8198038851324497, 0.06927675227587327, 0.785321715717821, 0.8526203154648168, 0.8966680914977977, 0.5859257623163971, 0.509697480282996, 0.599866031103781, 0.44860904801232104, 0.3733168711089534, 0.1262802953207337, 0.1930250568247175, 0.29015752173878784, 0.8194316732915299, 0.2978224605783564, 0.8297261126565504, 0.3402330780309135, 0.2510080309197903, 0.9808861988723112, 0.3543120517200058], [0.9967803259737009, 0.7332896907704777, 0.7889063626308196, 0.9790126081941418, 0.8874606416783065, 0.17763648048874203, 0.36335036673663346, 0.8112151480301659, 0.9137628627290186, 0.18303742864691908, 0.057459012305196344, 0.8720599069224136, 0.7432767266605462, 0.571859997114901, 0.09436835506807129, 0.14864954429311927, 0.8114540069886902, 0.7336566755517783, 0.1676462780840262, 0.0448749631381683, 0.9754197890306021, 0.8219409875267332, 0.670904389065943, 0.799086499476976, 0.7437300660335195], [0.5591103948949627, 0.3236850058407754, 0.6448289984690071, 0.5290960619854992, 0.2060478907250457, 0.9401739905971512, 0.04733450345478374, 0.8055714874384502, 0.30095419253661215, 0.8905336305351602, 0.9394129730789582, 0.8273175253415578, 0.7094822888756077, 0.9726989576673312, 0.9326345680385868, 0.5985976531592722, 0.14740161148440645, 0.9808000012232246, 0.7180989867757767, 0.7399768203516031, 0.9771945542032402, 0.8849339035481512, 0.8840032148791195, 0.8973679187006585, 0.8553641427143752], [0.04655454260050251, 0.9403331705466831, 0.13170670334532963, 0.9902044896476055, 0.843776457296208, 0.09395887597119845, 0.8279125981658721, 0.7074246941039675, 0.23501976019820248, 0.29282170802143026, 0.41633568085011785, 0.8974380623964613, 0.649995223278551, 0.6357286598059664, 0.251818778837928, 0.5433507375849685, 0.28207789427260577, 0.7384410426649377, 0.10655440552805118, 0.45858813721727487, 0.8885140499172662, 0.8625443071445846, 0.050922090751502225, 0.4182624555713381, 0.8193787761317857], [0.06661270498830696, 0.3911073108793348, 0.43551011915161086, 0.3732827690033641, 0.45421319701979446, 0.028458937102138537, 0.7060533267461915, 0.4081552702637843, 0.09276572806763506, 0.0033135011740799136, 0.7480676384282661, 0.6331362873353839, 0.3257692724475494, 0.8585416516876687, 0.45071735960936343, 0.8538994992022939, 0.6521648534334282, 0.3600586221693165, 0.5066314878854159, 0.2607358268430652, 0.40388645259552913, 0.790535869804212, 0.5957849748487346, 0.9021605778183558, 0.715287157546197], [0.36167782945795734, 0.6551240154327548, 0.3431989106131009, 0.6771432664003885, 0.3948121319297009, 0.5325634229417983, 0.6888557567074637, 0.659693386767675, 0.35637122780262376, 0.8657500523979255, 0.7638317530910124, 0.12147089643520226, 0.6689828235693281, 0.26237683859061867, 0.8945416804163544, 0.39862910760435233, 0.5053692247283496, 0.9841657693841, 0.2775584772898221, 0.9108559299088126, 0.8408813028061263, 0.30040649598583, 0.7612064815405066, 0.8418297704028369, 0.4396512087038924], [0.2338361879155636, 0.7428517356761252, 0.8963865687643182, 0.04620067307769826, 0.41897555563828803, 0.4331785764911643, 0.7110517970416241, 0.8507409415854198, 0.4762710655889826, 0.41250153695077074, 0.45057868191745254, 0.4441508157163746, 0.6835592745455721, 0.6223496381226535, 0.09558561525589471, 0.900084343370514, 0.11137710330525619, 0.7215818411017274, 0.674474870980068, 0.028165620982522732, 0.2727641880593267, 0.0882332316010167, 0.8334627763368443, 0.001040596987167297, 0.7824878855135025], [0.5792055953368562, 0.038341484897491895, 0.2508991588296806, 0.8774094394458307, 0.7494690063373182, 0.07966990796259876, 0.7912688594688153, 0.9166202006910941, 0.660519857922181, 0.25664357974875174, 0.38593125285132257, 0.9487639553832815, 0.5759400662982246, 0.5331598778342647, 0.4053452424561399, 0.8962000079502251, 0.43573597554895704, 0.19572848845905078, 0.47409541643379316, 0.6489294053170411, 0.025814841659545618, 0.5728369427679677, 0.1726216024353162, 0.16220769695107118, 0.2928444377387075], [0.19713847347849056, 0.3634973131982767, 0.8458948385904728, 0.8789199939969957, 0.9149324035230034, 0.8195195868828643, 0.2947384145091494, 0.684401244690031, 0.2239921975561624, 0.24251202791557214, 0.7249321060725126, 0.5885612903924672, 0.7362131230127571, 0.38279080639483387, 0.336332214133379, 0.05755051236610531, 0.49960858526092056, 0.2231543411537361, 0.4064058175627826, 0.9595214649009002, 0.9865184495557756, 0.5741163750388029, 0.23294876940010767, 0.07456544487070715, 0.1785491901505386], [0.39014675415976663, 0.11149677707604466, 0.7909323527469538, 0.33487657161549667, 0.2581943706681722, 0.2794775523082871, 0.3826613676361418, 0.6994824064871928, 0.225668763921671, 0.8063841674301409, 0.4214313685651979, 0.8097064247791415, 0.27268939249579804, 0.7069515407979667, 0.4660820951973915, 0.3187097013279192, 0.6327035204125738, 0.04784847334887954, 0.4491948416928101, 0.20249761726672189, 0.7993744019038228, 0.7182061978853634, 0.40728034510396016, 0.6846474460372531, 0.14942184113945423], [0.3139879915953272, 0.7687411875691883, 0.31481041685855826, 0.3468137357530674, 0.04524593303612112, 0.3306187111136485, 0.6083248179793588, 0.8392514686454213, 0.45043837641871676, 0.009565949270105234, 0.33438117287896163, 0.23478441508467962, 0.1422344456463599, 0.7090286572599686, 0.48845176609353746, 0.9828124163474642, 0.9762975706217895, 0.864894998479838, 0.14441049192412225, 0.8169717422536912, 0.7810479049112241, 0.5568561533357838, 0.5467360978005747, 0.6279229833892364, 0.551238942789314], [0.8627776430494181, 0.49803185719796716, 0.15361790437019573, 0.21639989985785757, 0.5792113171271916, 0.40998546915539813, 0.6552846490820109, 0.8540759558647296, 0.5653143646496488, 0.11056908711928326, 0.24255738557357287, 0.20750442897128407, 0.6112000784613278, 0.8430672872819336, 0.7709565154028168, 0.34545785732872836, 0.8296765333946688, 0.729741564773171, 0.4160504873071965, 0.737232056050236, 0.7012352862750244, 0.8739088868621241, 0.7034792515755861, 0.5677072852212904, 0.7461662405164288], [0.21723471352920487, 0.0591792751240775, 0.8046400596381473, 0.5298059460196106, 0.27450340867864, 0.2981475284094587, 0.5768541953665005, 0.12237226123617517, 0.2569560612904668, 0.9216298124322739, 0.6825483770100763, 0.3162008935280163, 0.7009024698459867, 0.9735372851855769, 0.09564510067981957, 0.8782785203666635, 0.20515526982289778, 0.2422196999816012, 0.9140440289971513, 0.36203851819859034, 0.7321032860475879, 0.46548839409379417, 0.516347340250072, 0.27262956190769005, 0.8735206093726026], [0.13657728687615855, 0.7113188616294528, 0.5080901537113933, 0.5217990161575977, 0.8348516809507464, 0.12820148824099797, 0.970266162447523, 0.965608409556802, 0.5038265440540373, 0.9564857736166262, 0.9804684784747995, 0.14093863138968088, 0.5572146901931311, 0.0341904613377918, 0.16171249547721378, 0.841532757855035, 0.174068829284865, 0.9771330353935861, 0.026815237439690942, 0.3799135370977802, 0.9162759105722759, 0.7915124729802144, 0.8758246922678098, 0.04620292044115726, 0.2297397834240953], [0.9238103183364185, 0.2549709735641239, 0.06230369097394528, 0.07034253347498165, 0.41806534948795504, 0.010367583569698358, 0.23789018765475867, 0.8269177783628159, 0.24420767859127424, 0.08640995239221305, 0.5564743755377315, 0.6202570717722171, 0.45465652924387834, 0.3024859598476146, 0.31868980393812796, 0.6252779183865362, 0.42118138168261454, 0.3733566536408466, 0.8005662612070237, 0.3364659523911703, 0.9910459947293969, 0.16281859432504875, 0.8777804545695406, 0.8569226270516787, 0.5413893274599516]]}, {\"line\": {\"color\": \"black\", \"width\": 2.5}, \"mode\": \"lines\", \"type\": \"scatter\", \"x\": [0.5, 1.25, null, 1.65, 1.65], \"y\": [-0.67, -0.67, null, -1, 1]}],                        {\"height\": 600, \"template\": {\"data\": {\"bar\": [{\"error_x\": {\"color\": \"#2a3f5f\"}, \"error_y\": {\"color\": \"#2a3f5f\"}, \"marker\": {\"line\": {\"color\": \"white\", \"width\": 0.5}}, \"type\": \"bar\"}], \"barpolar\": [{\"marker\": {\"line\": {\"color\": \"white\", \"width\": 0.5}}, \"type\": \"barpolar\"}], \"carpet\": [{\"aaxis\": {\"endlinecolor\": \"#2a3f5f\", \"gridcolor\": \"#C8D4E3\", \"linecolor\": \"#C8D4E3\", \"minorgridcolor\": \"#C8D4E3\", \"startlinecolor\": \"#2a3f5f\"}, \"baxis\": {\"endlinecolor\": \"#2a3f5f\", \"gridcolor\": \"#C8D4E3\", \"linecolor\": \"#C8D4E3\", \"minorgridcolor\": \"#C8D4E3\", \"startlinecolor\": \"#2a3f5f\"}, \"type\": \"carpet\"}], \"choropleth\": [{\"colorbar\": {\"outlinewidth\": 0, \"ticks\": \"\"}, \"type\": \"choropleth\"}], \"contour\": [{\"colorbar\": {\"outlinewidth\": 0, \"ticks\": \"\"}, \"colorscale\": [[0.0, \"#0d0887\"], [0.1111111111111111, \"#46039f\"], [0.2222222222222222, \"#7201a8\"], [0.3333333333333333, \"#9c179e\"], [0.4444444444444444, \"#bd3786\"], [0.5555555555555556, \"#d8576b\"], [0.6666666666666666, \"#ed7953\"], [0.7777777777777778, \"#fb9f3a\"], [0.8888888888888888, \"#fdca26\"], [1.0, \"#f0f921\"]], \"type\": \"contour\"}], \"contourcarpet\": [{\"colorbar\": {\"outlinewidth\": 0, \"ticks\": \"\"}, \"type\": \"contourcarpet\"}], \"heatmap\": [{\"colorbar\": {\"outlinewidth\": 0, \"ticks\": \"\"}, \"colorscale\": [[0.0, \"#0d0887\"], [0.1111111111111111, \"#46039f\"], [0.2222222222222222, \"#7201a8\"], [0.3333333333333333, \"#9c179e\"], [0.4444444444444444, \"#bd3786\"], [0.5555555555555556, \"#d8576b\"], [0.6666666666666666, \"#ed7953\"], [0.7777777777777778, \"#fb9f3a\"], [0.8888888888888888, \"#fdca26\"], [1.0, \"#f0f921\"]], \"type\": \"heatmap\"}], \"heatmapgl\": [{\"colorbar\": {\"outlinewidth\": 0, \"ticks\": \"\"}, \"colorscale\": [[0.0, \"#0d0887\"], [0.1111111111111111, \"#46039f\"], [0.2222222222222222, \"#7201a8\"], [0.3333333333333333, \"#9c179e\"], [0.4444444444444444, \"#bd3786\"], [0.5555555555555556, \"#d8576b\"], [0.6666666666666666, \"#ed7953\"], [0.7777777777777778, \"#fb9f3a\"], [0.8888888888888888, \"#fdca26\"], [1.0, \"#f0f921\"]], \"type\": \"heatmapgl\"}], \"histogram\": [{\"marker\": {\"colorbar\": {\"outlinewidth\": 0, \"ticks\": \"\"}}, \"type\": \"histogram\"}], \"histogram2d\": [{\"colorbar\": {\"outlinewidth\": 0, \"ticks\": \"\"}, \"colorscale\": [[0.0, \"#0d0887\"], [0.1111111111111111, \"#46039f\"], [0.2222222222222222, \"#7201a8\"], [0.3333333333333333, \"#9c179e\"], [0.4444444444444444, \"#bd3786\"], [0.5555555555555556, \"#d8576b\"], [0.6666666666666666, \"#ed7953\"], [0.7777777777777778, \"#fb9f3a\"], [0.8888888888888888, \"#fdca26\"], [1.0, \"#f0f921\"]], \"type\": \"histogram2d\"}], \"histogram2dcontour\": [{\"colorbar\": {\"outlinewidth\": 0, \"ticks\": \"\"}, \"colorscale\": [[0.0, \"#0d0887\"], [0.1111111111111111, \"#46039f\"], [0.2222222222222222, \"#7201a8\"], [0.3333333333333333, \"#9c179e\"], [0.4444444444444444, \"#bd3786\"], [0.5555555555555556, \"#d8576b\"], [0.6666666666666666, \"#ed7953\"], [0.7777777777777778, \"#fb9f3a\"], [0.8888888888888888, \"#fdca26\"], [1.0, \"#f0f921\"]], \"type\": \"histogram2dcontour\"}], \"mesh3d\": [{\"colorbar\": {\"outlinewidth\": 0, \"ticks\": \"\"}, \"type\": \"mesh3d\"}], \"parcoords\": [{\"line\": {\"colorbar\": {\"outlinewidth\": 0, \"ticks\": \"\"}}, \"type\": \"parcoords\"}], \"pie\": [{\"automargin\": true, \"type\": \"pie\"}], \"scatter\": [{\"marker\": {\"colorbar\": {\"outlinewidth\": 0, \"ticks\": \"\"}}, \"type\": \"scatter\"}], \"scatter3d\": [{\"line\": {\"colorbar\": {\"outlinewidth\": 0, \"ticks\": \"\"}}, \"marker\": {\"colorbar\": {\"outlinewidth\": 0, \"ticks\": \"\"}}, \"type\": \"scatter3d\"}], \"scattercarpet\": [{\"marker\": {\"colorbar\": {\"outlinewidth\": 0, \"ticks\": \"\"}}, \"type\": \"scattercarpet\"}], \"scattergeo\": [{\"marker\": {\"colorbar\": {\"outlinewidth\": 0, \"ticks\": \"\"}}, \"type\": \"scattergeo\"}], \"scattergl\": [{\"marker\": {\"colorbar\": {\"outlinewidth\": 0, \"ticks\": \"\"}}, \"type\": \"scattergl\"}], \"scattermapbox\": [{\"marker\": {\"colorbar\": {\"outlinewidth\": 0, \"ticks\": \"\"}}, \"type\": \"scattermapbox\"}], \"scatterpolar\": [{\"marker\": {\"colorbar\": {\"outlinewidth\": 0, \"ticks\": \"\"}}, \"type\": \"scatterpolar\"}], \"scatterpolargl\": [{\"marker\": {\"colorbar\": {\"outlinewidth\": 0, \"ticks\": \"\"}}, \"type\": \"scatterpolargl\"}], \"scatterternary\": [{\"marker\": {\"colorbar\": {\"outlinewidth\": 0, \"ticks\": \"\"}}, \"type\": \"scatterternary\"}], \"surface\": [{\"colorbar\": {\"outlinewidth\": 0, \"ticks\": \"\"}, \"colorscale\": [[0.0, \"#0d0887\"], [0.1111111111111111, \"#46039f\"], [0.2222222222222222, \"#7201a8\"], [0.3333333333333333, \"#9c179e\"], [0.4444444444444444, \"#bd3786\"], [0.5555555555555556, \"#d8576b\"], [0.6666666666666666, \"#ed7953\"], [0.7777777777777778, \"#fb9f3a\"], [0.8888888888888888, \"#fdca26\"], [1.0, \"#f0f921\"]], \"type\": \"surface\"}], \"table\": [{\"cells\": {\"fill\": {\"color\": \"#EBF0F8\"}, \"line\": {\"color\": \"white\"}}, \"header\": {\"fill\": {\"color\": \"#C8D4E3\"}, \"line\": {\"color\": \"white\"}}, \"type\": \"table\"}]}, \"layout\": {\"annotationdefaults\": {\"arrowcolor\": \"#2a3f5f\", \"arrowhead\": 0, \"arrowwidth\": 1}, \"coloraxis\": {\"colorbar\": {\"outlinewidth\": 0, \"ticks\": \"\"}}, \"colorscale\": {\"diverging\": [[0, \"#8e0152\"], [0.1, \"#c51b7d\"], [0.2, \"#de77ae\"], [0.3, \"#f1b6da\"], [0.4, \"#fde0ef\"], [0.5, \"#f7f7f7\"], [0.6, \"#e6f5d0\"], [0.7, \"#b8e186\"], [0.8, \"#7fbc41\"], [0.9, \"#4d9221\"], [1, \"#276419\"]], \"sequential\": [[0.0, \"#0d0887\"], [0.1111111111111111, \"#46039f\"], [0.2222222222222222, \"#7201a8\"], [0.3333333333333333, \"#9c179e\"], [0.4444444444444444, \"#bd3786\"], [0.5555555555555556, \"#d8576b\"], [0.6666666666666666, \"#ed7953\"], [0.7777777777777778, \"#fb9f3a\"], [0.8888888888888888, \"#fdca26\"], [1.0, \"#f0f921\"]], \"sequentialminus\": [[0.0, \"#0d0887\"], [0.1111111111111111, \"#46039f\"], [0.2222222222222222, \"#7201a8\"], [0.3333333333333333, \"#9c179e\"], [0.4444444444444444, \"#bd3786\"], [0.5555555555555556, \"#d8576b\"], [0.6666666666666666, \"#ed7953\"], [0.7777777777777778, \"#fb9f3a\"], [0.8888888888888888, \"#fdca26\"], [1.0, \"#f0f921\"]]}, \"colorway\": [\"#636efa\", \"#EF553B\", \"#00cc96\", \"#ab63fa\", \"#FFA15A\", \"#19d3f3\", \"#FF6692\", \"#B6E880\", \"#FF97FF\", \"#FECB52\"], \"font\": {\"color\": \"#2a3f5f\"}, \"geo\": {\"bgcolor\": \"white\", \"lakecolor\": \"white\", \"landcolor\": \"white\", \"showlakes\": true, \"showland\": true, \"subunitcolor\": \"#C8D4E3\"}, \"hoverlabel\": {\"align\": \"left\"}, \"hovermode\": \"closest\", \"mapbox\": {\"style\": \"light\"}, \"paper_bgcolor\": \"white\", \"plot_bgcolor\": \"white\", \"polar\": {\"angularaxis\": {\"gridcolor\": \"#EBF0F8\", \"linecolor\": \"#EBF0F8\", \"ticks\": \"\"}, \"bgcolor\": \"white\", \"radialaxis\": {\"gridcolor\": \"#EBF0F8\", \"linecolor\": \"#EBF0F8\", \"ticks\": \"\"}}, \"scene\": {\"xaxis\": {\"backgroundcolor\": \"white\", \"gridcolor\": \"#DFE8F3\", \"gridwidth\": 2, \"linecolor\": \"#EBF0F8\", \"showbackground\": true, \"ticks\": \"\", \"zerolinecolor\": \"#EBF0F8\"}, \"yaxis\": {\"backgroundcolor\": \"white\", \"gridcolor\": \"#DFE8F3\", \"gridwidth\": 2, \"linecolor\": \"#EBF0F8\", \"showbackground\": true, \"ticks\": \"\", \"zerolinecolor\": \"#EBF0F8\"}, \"zaxis\": {\"backgroundcolor\": \"white\", \"gridcolor\": \"#DFE8F3\", \"gridwidth\": 2, \"linecolor\": \"#EBF0F8\", \"showbackground\": true, \"ticks\": \"\", \"zerolinecolor\": \"#EBF0F8\"}}, \"shapedefaults\": {\"line\": {\"color\": \"#2a3f5f\"}}, \"ternary\": {\"aaxis\": {\"gridcolor\": \"#DFE8F3\", \"linecolor\": \"#A2B1C6\", \"ticks\": \"\"}, \"baxis\": {\"gridcolor\": \"#DFE8F3\", \"linecolor\": \"#A2B1C6\", \"ticks\": \"\"}, \"bgcolor\": \"white\", \"caxis\": {\"gridcolor\": \"#DFE8F3\", \"linecolor\": \"#A2B1C6\", \"ticks\": \"\"}}, \"title\": {\"x\": 0.05}, \"xaxis\": {\"automargin\": true, \"gridcolor\": \"#EBF0F8\", \"linecolor\": \"#EBF0F8\", \"ticks\": \"\", \"title\": {\"standoff\": 15}, \"zerolinecolor\": \"#EBF0F8\", \"zerolinewidth\": 2}, \"yaxis\": {\"automargin\": true, \"gridcolor\": \"#EBF0F8\", \"linecolor\": \"#EBF0F8\", \"ticks\": \"\", \"title\": {\"standoff\": 15}, \"zerolinecolor\": \"#EBF0F8\", \"zerolinewidth\": 2}}}, \"width\": 600, \"xaxis\": {\"range\": [0, 2]}, \"yaxis\": {\"range\": [-1, 1]}},                        {\"responsive\": true}                    ).then(function(){\n",
       "                            \n",
       "var gd = document.getElementById('2b2cec0c-5b38-4cc9-b97b-c8ea301ccaba');\n",
       "var x = new MutationObserver(function (mutations, observer) {{\n",
       "        var display = window.getComputedStyle(gd).display;\n",
       "        if (!display || display === 'none') {{\n",
       "            console.log([gd, 'removed!']);\n",
       "            Plotly.purge(gd);\n",
       "            observer.disconnect();\n",
       "        }}\n",
       "}});\n",
       "\n",
       "// Listen for the removal of the full notebook cells\n",
       "var notebookContainer = gd.closest('#notebook-container');\n",
       "if (notebookContainer) {{\n",
       "    x.observe(notebookContainer, {childList: true});\n",
       "}}\n",
       "\n",
       "// Listen for the clearing of the current output cell\n",
       "var outputEl = gd.closest('.output');\n",
       "if (outputEl) {{\n",
       "    x.observe(outputEl, {childList: true});\n",
       "}}\n",
       "\n",
       "                        })                };                });            </script>        </div>"
      ]
     },
     "metadata": {},
     "output_type": "display_data"
    }
   ],
   "source": []
  },
  {
   "cell_type": "code",
   "execution_count": 302,
   "metadata": {
    "execution": {
     "iopub.execute_input": "2020-12-02T05:44:20.540102Z",
     "iopub.status.busy": "2020-12-02T05:44:20.539889Z",
     "iopub.status.idle": "2020-12-02T05:44:20.932816Z",
     "shell.execute_reply": "2020-12-02T05:44:20.931543Z",
     "shell.execute_reply.started": "2020-12-02T05:44:20.540081Z"
    }
   },
   "outputs": [
    {
     "data": {
      "text/html": [
       "<div>\n",
       "<style scoped>\n",
       "    .dataframe tbody tr th:only-of-type {\n",
       "        vertical-align: middle;\n",
       "    }\n",
       "\n",
       "    .dataframe tbody tr th {\n",
       "        vertical-align: top;\n",
       "    }\n",
       "\n",
       "    .dataframe thead th {\n",
       "        text-align: right;\n",
       "    }\n",
       "</style>\n",
       "<table border=\"1\" class=\"dataframe\">\n",
       "  <thead>\n",
       "    <tr style=\"text-align: right;\">\n",
       "      <th></th>\n",
       "      <th>Sequence</th>\n",
       "      <th>Position</th>\n",
       "      <th>Aminoacid</th>\n",
       "      <th>Variant</th>\n",
       "      <th>Score</th>\n",
       "      <th>Score_NaN</th>\n",
       "    </tr>\n",
       "  </thead>\n",
       "  <tbody>\n",
       "    <tr>\n",
       "      <th>0</th>\n",
       "      <td>T</td>\n",
       "      <td>2</td>\n",
       "      <td>A</td>\n",
       "      <td>T2A</td>\n",
       "      <td>-0.090926</td>\n",
       "      <td>-0.090926</td>\n",
       "    </tr>\n",
       "    <tr>\n",
       "      <th>1</th>\n",
       "      <td>T</td>\n",
       "      <td>2</td>\n",
       "      <td>C</td>\n",
       "      <td>T2C</td>\n",
       "      <td>0.084591</td>\n",
       "      <td>0.084591</td>\n",
       "    </tr>\n",
       "    <tr>\n",
       "      <th>2</th>\n",
       "      <td>T</td>\n",
       "      <td>2</td>\n",
       "      <td>D</td>\n",
       "      <td>T2D</td>\n",
       "      <td>-0.120583</td>\n",
       "      <td>-0.120583</td>\n",
       "    </tr>\n",
       "    <tr>\n",
       "      <th>3</th>\n",
       "      <td>T</td>\n",
       "      <td>2</td>\n",
       "      <td>E</td>\n",
       "      <td>T2E</td>\n",
       "      <td>-0.070526</td>\n",
       "      <td>-0.070526</td>\n",
       "    </tr>\n",
       "    <tr>\n",
       "      <th>4</th>\n",
       "      <td>T</td>\n",
       "      <td>2</td>\n",
       "      <td>F</td>\n",
       "      <td>T2F</td>\n",
       "      <td>-0.017038</td>\n",
       "      <td>-0.017038</td>\n",
       "    </tr>\n",
       "    <tr>\n",
       "      <th>...</th>\n",
       "      <td>...</td>\n",
       "      <td>...</td>\n",
       "      <td>...</td>\n",
       "      <td>...</td>\n",
       "      <td>...</td>\n",
       "      <td>...</td>\n",
       "    </tr>\n",
       "    <tr>\n",
       "      <th>3460</th>\n",
       "      <td>H</td>\n",
       "      <td>166</td>\n",
       "      <td>T</td>\n",
       "      <td>H166T</td>\n",
       "      <td>0.015133</td>\n",
       "      <td>0.015133</td>\n",
       "    </tr>\n",
       "    <tr>\n",
       "      <th>3461</th>\n",
       "      <td>H</td>\n",
       "      <td>166</td>\n",
       "      <td>V</td>\n",
       "      <td>H166V</td>\n",
       "      <td>0.066339</td>\n",
       "      <td>0.066339</td>\n",
       "    </tr>\n",
       "    <tr>\n",
       "      <th>3462</th>\n",
       "      <td>H</td>\n",
       "      <td>166</td>\n",
       "      <td>W</td>\n",
       "      <td>H166W</td>\n",
       "      <td>0.023914</td>\n",
       "      <td>0.023914</td>\n",
       "    </tr>\n",
       "    <tr>\n",
       "      <th>3463</th>\n",
       "      <td>H</td>\n",
       "      <td>166</td>\n",
       "      <td>Y</td>\n",
       "      <td>H166Y</td>\n",
       "      <td>0.129943</td>\n",
       "      <td>0.129943</td>\n",
       "    </tr>\n",
       "    <tr>\n",
       "      <th>3464</th>\n",
       "      <td>H</td>\n",
       "      <td>166</td>\n",
       "      <td>*</td>\n",
       "      <td>H166*</td>\n",
       "      <td>-0.013268</td>\n",
       "      <td>-0.013268</td>\n",
       "    </tr>\n",
       "  </tbody>\n",
       "</table>\n",
       "<p>3465 rows × 6 columns</p>\n",
       "</div>"
      ],
      "text/plain": [
       "     Sequence  Position Aminoacid Variant     Score  Score_NaN\n",
       "0           T         2         A     T2A -0.090926  -0.090926\n",
       "1           T         2         C     T2C  0.084591   0.084591\n",
       "2           T         2         D     T2D -0.120583  -0.120583\n",
       "3           T         2         E     T2E -0.070526  -0.070526\n",
       "4           T         2         F     T2F -0.017038  -0.017038\n",
       "...       ...       ...       ...     ...       ...        ...\n",
       "3460        H       166         T   H166T  0.015133   0.015133\n",
       "3461        H       166         V   H166V  0.066339   0.066339\n",
       "3462        H       166         W   H166W  0.023914   0.023914\n",
       "3463        H       166         Y   H166Y  0.129943   0.129943\n",
       "3464        H       166         *   H166* -0.013268  -0.013268\n",
       "\n",
       "[3465 rows x 6 columns]"
      ]
     },
     "execution_count": 302,
     "metadata": {},
     "output_type": "execute_result"
    }
   ],
   "source": [
    "mut.hras_RBD().dataframe_stopcodons"
   ]
  },
  {
   "cell_type": "code",
   "execution_count": 293,
   "metadata": {
    "execution": {
     "iopub.execute_input": "2020-12-02T05:35:48.495430Z",
     "iopub.status.busy": "2020-12-02T05:35:48.495194Z",
     "iopub.status.idle": "2020-12-02T05:35:49.042986Z",
     "shell.execute_reply": "2020-12-02T05:35:49.042195Z",
     "shell.execute_reply.started": "2020-12-02T05:35:48.495407Z"
    }
   },
   "outputs": [
    {
     "data": {
      "text/html": [
       "<div>\n",
       "<style scoped>\n",
       "    .dataframe tbody tr th:only-of-type {\n",
       "        vertical-align: middle;\n",
       "    }\n",
       "\n",
       "    .dataframe tbody tr th {\n",
       "        vertical-align: top;\n",
       "    }\n",
       "\n",
       "    .dataframe thead th {\n",
       "        text-align: right;\n",
       "    }\n",
       "</style>\n",
       "<table border=\"1\" class=\"dataframe\">\n",
       "  <thead>\n",
       "    <tr style=\"text-align: right;\">\n",
       "      <th>Position</th>\n",
       "      <th>2</th>\n",
       "      <th>3</th>\n",
       "      <th>4</th>\n",
       "      <th>5</th>\n",
       "      <th>6</th>\n",
       "      <th>7</th>\n",
       "      <th>8</th>\n",
       "      <th>9</th>\n",
       "      <th>10</th>\n",
       "      <th>11</th>\n",
       "      <th>...</th>\n",
       "      <th>157</th>\n",
       "      <th>158</th>\n",
       "      <th>159</th>\n",
       "      <th>160</th>\n",
       "      <th>161</th>\n",
       "      <th>162</th>\n",
       "      <th>163</th>\n",
       "      <th>164</th>\n",
       "      <th>165</th>\n",
       "      <th>166</th>\n",
       "    </tr>\n",
       "    <tr>\n",
       "      <th>Aminoacid</th>\n",
       "      <th></th>\n",
       "      <th></th>\n",
       "      <th></th>\n",
       "      <th></th>\n",
       "      <th></th>\n",
       "      <th></th>\n",
       "      <th></th>\n",
       "      <th></th>\n",
       "      <th></th>\n",
       "      <th></th>\n",
       "      <th></th>\n",
       "      <th></th>\n",
       "      <th></th>\n",
       "      <th></th>\n",
       "      <th></th>\n",
       "      <th></th>\n",
       "      <th></th>\n",
       "      <th></th>\n",
       "      <th></th>\n",
       "      <th></th>\n",
       "      <th></th>\n",
       "    </tr>\n",
       "  </thead>\n",
       "  <tbody>\n",
       "    <tr>\n",
       "      <th>D</th>\n",
       "      <td>-0.120583</td>\n",
       "      <td>-0.100144</td>\n",
       "      <td>-1.016300</td>\n",
       "      <td>-0.956973</td>\n",
       "      <td>-1.948931</td>\n",
       "      <td>-1.511998</td>\n",
       "      <td>-1.948931</td>\n",
       "      <td>-1.943702</td>\n",
       "      <td>-1.239462</td>\n",
       "      <td>-0.048307</td>\n",
       "      <td>...</td>\n",
       "      <td>0.199459</td>\n",
       "      <td>-0.222684</td>\n",
       "      <td>-1.922533</td>\n",
       "      <td>-1.934584</td>\n",
       "      <td>0.080464</td>\n",
       "      <td>-0.276054</td>\n",
       "      <td>-1.034578</td>\n",
       "      <td>0.072333</td>\n",
       "      <td>0.077722</td>\n",
       "      <td>0.081265</td>\n",
       "    </tr>\n",
       "    <tr>\n",
       "      <th>E</th>\n",
       "      <td>-0.070526</td>\n",
       "      <td>0.153563</td>\n",
       "      <td>-1.126418</td>\n",
       "      <td>-0.587673</td>\n",
       "      <td>-0.968570</td>\n",
       "      <td>-1.938004</td>\n",
       "      <td>-1.307804</td>\n",
       "      <td>-0.910330</td>\n",
       "      <td>-1.965086</td>\n",
       "      <td>-0.252924</td>\n",
       "      <td>...</td>\n",
       "      <td>0.243169</td>\n",
       "      <td>0.025459</td>\n",
       "      <td>-1.970805</td>\n",
       "      <td>-1.015723</td>\n",
       "      <td>0.091740</td>\n",
       "      <td>0.037446</td>\n",
       "      <td>-1.130236</td>\n",
       "      <td>0.070272</td>\n",
       "      <td>0.089154</td>\n",
       "      <td>0.009915</td>\n",
       "    </tr>\n",
       "    <tr>\n",
       "      <th>K</th>\n",
       "      <td>0.066082</td>\n",
       "      <td>-0.784621</td>\n",
       "      <td>0.141453</td>\n",
       "      <td>-0.013558</td>\n",
       "      <td>-1.596721</td>\n",
       "      <td>-0.625966</td>\n",
       "      <td>-1.241398</td>\n",
       "      <td>-0.705515</td>\n",
       "      <td>-1.965086</td>\n",
       "      <td>-0.124393</td>\n",
       "      <td>...</td>\n",
       "      <td>0.334196</td>\n",
       "      <td>0.151391</td>\n",
       "      <td>-1.020319</td>\n",
       "      <td>-0.545108</td>\n",
       "      <td>0.206880</td>\n",
       "      <td>0.081887</td>\n",
       "      <td>-0.585936</td>\n",
       "      <td>0.186888</td>\n",
       "      <td>0.127147</td>\n",
       "      <td>0.232261</td>\n",
       "    </tr>\n",
       "    <tr>\n",
       "      <th>H</th>\n",
       "      <td>0.012109</td>\n",
       "      <td>-0.558346</td>\n",
       "      <td>0.055089</td>\n",
       "      <td>0.311505</td>\n",
       "      <td>-1.001477</td>\n",
       "      <td>-0.109782</td>\n",
       "      <td>-1.092849</td>\n",
       "      <td>-0.344999</td>\n",
       "      <td>-1.943702</td>\n",
       "      <td>-0.244190</td>\n",
       "      <td>...</td>\n",
       "      <td>0.067844</td>\n",
       "      <td>0.081755</td>\n",
       "      <td>-1.862210</td>\n",
       "      <td>-0.461856</td>\n",
       "      <td>0.043898</td>\n",
       "      <td>-0.090475</td>\n",
       "      <td>-0.775769</td>\n",
       "      <td>0.015655</td>\n",
       "      <td>-0.182964</td>\n",
       "      <td>0.037446</td>\n",
       "    </tr>\n",
       "    <tr>\n",
       "      <th>R</th>\n",
       "      <td>0.066232</td>\n",
       "      <td>-0.708624</td>\n",
       "      <td>0.300980</td>\n",
       "      <td>0.006319</td>\n",
       "      <td>-1.436223</td>\n",
       "      <td>-0.968812</td>\n",
       "      <td>-1.743705</td>\n",
       "      <td>-0.570469</td>\n",
       "      <td>-1.965086</td>\n",
       "      <td>-0.122802</td>\n",
       "      <td>...</td>\n",
       "      <td>0.345361</td>\n",
       "      <td>0.026152</td>\n",
       "      <td>-1.347932</td>\n",
       "      <td>-0.345074</td>\n",
       "      <td>-0.018897</td>\n",
       "      <td>0.034454</td>\n",
       "      <td>-0.276411</td>\n",
       "      <td>0.083741</td>\n",
       "      <td>0.073873</td>\n",
       "      <td>0.120510</td>\n",
       "    </tr>\n",
       "    <tr>\n",
       "      <th>G</th>\n",
       "      <td>-0.059585</td>\n",
       "      <td>-0.471663</td>\n",
       "      <td>-0.879106</td>\n",
       "      <td>-0.258850</td>\n",
       "      <td>-1.118112</td>\n",
       "      <td>-0.881868</td>\n",
       "      <td>-1.193726</td>\n",
       "      <td>-1.078123</td>\n",
       "      <td>0.003616</td>\n",
       "      <td>0.002043</td>\n",
       "      <td>...</td>\n",
       "      <td>0.197224</td>\n",
       "      <td>-0.466832</td>\n",
       "      <td>-1.046813</td>\n",
       "      <td>-1.087168</td>\n",
       "      <td>-0.013700</td>\n",
       "      <td>-0.004312</td>\n",
       "      <td>-0.782756</td>\n",
       "      <td>0.017601</td>\n",
       "      <td>0.229034</td>\n",
       "      <td>0.189377</td>\n",
       "    </tr>\n",
       "    <tr>\n",
       "      <th>N</th>\n",
       "      <td>-0.028545</td>\n",
       "      <td>-0.406870</td>\n",
       "      <td>-0.231530</td>\n",
       "      <td>0.262194</td>\n",
       "      <td>-1.948931</td>\n",
       "      <td>-0.342826</td>\n",
       "      <td>-1.938004</td>\n",
       "      <td>-1.284565</td>\n",
       "      <td>-1.072058</td>\n",
       "      <td>-0.257836</td>\n",
       "      <td>...</td>\n",
       "      <td>NaN</td>\n",
       "      <td>-0.116216</td>\n",
       "      <td>-1.862210</td>\n",
       "      <td>-0.804754</td>\n",
       "      <td>0.129627</td>\n",
       "      <td>0.011771</td>\n",
       "      <td>-1.038161</td>\n",
       "      <td>0.001131</td>\n",
       "      <td>0.212966</td>\n",
       "      <td>0.100127</td>\n",
       "    </tr>\n",
       "    <tr>\n",
       "      <th>Q</th>\n",
       "      <td>-0.309639</td>\n",
       "      <td>-0.681243</td>\n",
       "      <td>-0.432915</td>\n",
       "      <td>0.180443</td>\n",
       "      <td>-1.965086</td>\n",
       "      <td>-0.511454</td>\n",
       "      <td>-0.767470</td>\n",
       "      <td>-1.223639</td>\n",
       "      <td>-1.938004</td>\n",
       "      <td>-0.638672</td>\n",
       "      <td>...</td>\n",
       "      <td>0.370980</td>\n",
       "      <td>0.136186</td>\n",
       "      <td>-1.084189</td>\n",
       "      <td>-0.542810</td>\n",
       "      <td>0.191933</td>\n",
       "      <td>-0.061748</td>\n",
       "      <td>-0.298852</td>\n",
       "      <td>0.071914</td>\n",
       "      <td>0.037446</td>\n",
       "      <td>0.145697</td>\n",
       "    </tr>\n",
       "    <tr>\n",
       "      <th>A</th>\n",
       "      <td>-0.090926</td>\n",
       "      <td>-0.644303</td>\n",
       "      <td>-0.212836</td>\n",
       "      <td>-0.120080</td>\n",
       "      <td>-1.021855</td>\n",
       "      <td>-0.477247</td>\n",
       "      <td>-0.178071</td>\n",
       "      <td>-0.570581</td>\n",
       "      <td>-1.206115</td>\n",
       "      <td>-0.050840</td>\n",
       "      <td>...</td>\n",
       "      <td>0.244036</td>\n",
       "      <td>0.129471</td>\n",
       "      <td>-0.564214</td>\n",
       "      <td>-0.408280</td>\n",
       "      <td>-0.031322</td>\n",
       "      <td>0.052815</td>\n",
       "      <td>-0.455482</td>\n",
       "      <td>-0.053671</td>\n",
       "      <td>-0.082353</td>\n",
       "      <td>0.125192</td>\n",
       "    </tr>\n",
       "    <tr>\n",
       "      <th>S</th>\n",
       "      <td>-0.052537</td>\n",
       "      <td>-0.569384</td>\n",
       "      <td>-0.149715</td>\n",
       "      <td>-0.036098</td>\n",
       "      <td>-1.384449</td>\n",
       "      <td>-0.593402</td>\n",
       "      <td>-1.235478</td>\n",
       "      <td>-1.004938</td>\n",
       "      <td>-1.661635</td>\n",
       "      <td>-0.019655</td>\n",
       "      <td>...</td>\n",
       "      <td>0.187120</td>\n",
       "      <td>-0.068594</td>\n",
       "      <td>-1.025543</td>\n",
       "      <td>-0.659472</td>\n",
       "      <td>0.017694</td>\n",
       "      <td>-0.027673</td>\n",
       "      <td>-0.315099</td>\n",
       "      <td>0.054373</td>\n",
       "      <td>0.041340</td>\n",
       "      <td>0.131007</td>\n",
       "    </tr>\n",
       "    <tr>\n",
       "      <th>T</th>\n",
       "      <td>0.018381</td>\n",
       "      <td>-0.923729</td>\n",
       "      <td>0.025956</td>\n",
       "      <td>-0.133469</td>\n",
       "      <td>-0.789141</td>\n",
       "      <td>-0.336756</td>\n",
       "      <td>-0.448207</td>\n",
       "      <td>-0.647980</td>\n",
       "      <td>-1.948931</td>\n",
       "      <td>-0.074134</td>\n",
       "      <td>...</td>\n",
       "      <td>0.178989</td>\n",
       "      <td>0.069947</td>\n",
       "      <td>-0.809013</td>\n",
       "      <td>-0.419859</td>\n",
       "      <td>-0.068883</td>\n",
       "      <td>-0.002357</td>\n",
       "      <td>-0.462838</td>\n",
       "      <td>-0.093589</td>\n",
       "      <td>-0.067001</td>\n",
       "      <td>0.015133</td>\n",
       "    </tr>\n",
       "    <tr>\n",
       "      <th>P</th>\n",
       "      <td>0.081848</td>\n",
       "      <td>-0.479516</td>\n",
       "      <td>-0.124947</td>\n",
       "      <td>-0.314641</td>\n",
       "      <td>-1.196162</td>\n",
       "      <td>-1.540775</td>\n",
       "      <td>-1.599046</td>\n",
       "      <td>-1.528689</td>\n",
       "      <td>-1.503822</td>\n",
       "      <td>-0.198452</td>\n",
       "      <td>...</td>\n",
       "      <td>-0.355342</td>\n",
       "      <td>-0.618566</td>\n",
       "      <td>-1.672654</td>\n",
       "      <td>-1.545791</td>\n",
       "      <td>-1.045914</td>\n",
       "      <td>-1.040759</td>\n",
       "      <td>-0.853622</td>\n",
       "      <td>-0.264060</td>\n",
       "      <td>-0.196382</td>\n",
       "      <td>0.188223</td>\n",
       "    </tr>\n",
       "    <tr>\n",
       "      <th>C</th>\n",
       "      <td>0.084591</td>\n",
       "      <td>-0.621789</td>\n",
       "      <td>0.021096</td>\n",
       "      <td>-0.089735</td>\n",
       "      <td>-0.776281</td>\n",
       "      <td>0.062640</td>\n",
       "      <td>-0.321988</td>\n",
       "      <td>-0.007562</td>\n",
       "      <td>-1.938004</td>\n",
       "      <td>-0.004729</td>\n",
       "      <td>...</td>\n",
       "      <td>0.356763</td>\n",
       "      <td>-0.096334</td>\n",
       "      <td>-0.384835</td>\n",
       "      <td>-0.324776</td>\n",
       "      <td>0.091235</td>\n",
       "      <td>0.047775</td>\n",
       "      <td>-0.224112</td>\n",
       "      <td>0.093932</td>\n",
       "      <td>-0.075403</td>\n",
       "      <td>0.119873</td>\n",
       "    </tr>\n",
       "    <tr>\n",
       "      <th>V</th>\n",
       "      <td>-0.007195</td>\n",
       "      <td>-0.422097</td>\n",
       "      <td>0.007561</td>\n",
       "      <td>-0.730107</td>\n",
       "      <td>0.089170</td>\n",
       "      <td>-0.012397</td>\n",
       "      <td>0.003480</td>\n",
       "      <td>0.020006</td>\n",
       "      <td>-1.516805</td>\n",
       "      <td>-0.065081</td>\n",
       "      <td>...</td>\n",
       "      <td>0.329004</td>\n",
       "      <td>0.101664</td>\n",
       "      <td>-0.055893</td>\n",
       "      <td>0.016149</td>\n",
       "      <td>-0.355531</td>\n",
       "      <td>0.021876</td>\n",
       "      <td>-0.235277</td>\n",
       "      <td>-0.130400</td>\n",
       "      <td>-0.309777</td>\n",
       "      <td>0.066339</td>\n",
       "    </tr>\n",
       "    <tr>\n",
       "      <th>Y</th>\n",
       "      <td>-0.206076</td>\n",
       "      <td>-0.494849</td>\n",
       "      <td>0.178323</td>\n",
       "      <td>-0.219696</td>\n",
       "      <td>-1.965086</td>\n",
       "      <td>-0.247023</td>\n",
       "      <td>-1.109339</td>\n",
       "      <td>0.139542</td>\n",
       "      <td>-0.921565</td>\n",
       "      <td>-0.353278</td>\n",
       "      <td>...</td>\n",
       "      <td>0.037446</td>\n",
       "      <td>0.084655</td>\n",
       "      <td>-1.490469</td>\n",
       "      <td>-0.760021</td>\n",
       "      <td>0.010945</td>\n",
       "      <td>0.001980</td>\n",
       "      <td>-0.552033</td>\n",
       "      <td>0.025425</td>\n",
       "      <td>-0.586032</td>\n",
       "      <td>0.129943</td>\n",
       "    </tr>\n",
       "    <tr>\n",
       "      <th>M</th>\n",
       "      <td>0.179946</td>\n",
       "      <td>-0.267191</td>\n",
       "      <td>0.235658</td>\n",
       "      <td>-0.196576</td>\n",
       "      <td>0.065847</td>\n",
       "      <td>0.108269</td>\n",
       "      <td>-0.068591</td>\n",
       "      <td>-0.080285</td>\n",
       "      <td>-1.106941</td>\n",
       "      <td>-0.185864</td>\n",
       "      <td>...</td>\n",
       "      <td>0.138679</td>\n",
       "      <td>0.023656</td>\n",
       "      <td>-0.128723</td>\n",
       "      <td>0.732305</td>\n",
       "      <td>-0.023761</td>\n",
       "      <td>0.204806</td>\n",
       "      <td>0.142291</td>\n",
       "      <td>-0.009867</td>\n",
       "      <td>-0.312359</td>\n",
       "      <td>0.147878</td>\n",
       "    </tr>\n",
       "    <tr>\n",
       "      <th>I</th>\n",
       "      <td>-0.162385</td>\n",
       "      <td>-0.912356</td>\n",
       "      <td>-0.257304</td>\n",
       "      <td>-1.054373</td>\n",
       "      <td>0.130313</td>\n",
       "      <td>0.000869</td>\n",
       "      <td>0.151308</td>\n",
       "      <td>0.087014</td>\n",
       "      <td>-0.815289</td>\n",
       "      <td>-0.013641</td>\n",
       "      <td>...</td>\n",
       "      <td>0.190037</td>\n",
       "      <td>-0.035131</td>\n",
       "      <td>0.963510</td>\n",
       "      <td>0.223985</td>\n",
       "      <td>-0.490220</td>\n",
       "      <td>0.114001</td>\n",
       "      <td>0.037446</td>\n",
       "      <td>-0.068452</td>\n",
       "      <td>-0.512243</td>\n",
       "      <td>0.005416</td>\n",
       "    </tr>\n",
       "    <tr>\n",
       "      <th>L</th>\n",
       "      <td>-0.309765</td>\n",
       "      <td>-0.258854</td>\n",
       "      <td>0.067760</td>\n",
       "      <td>-0.288230</td>\n",
       "      <td>-0.031290</td>\n",
       "      <td>0.050450</td>\n",
       "      <td>0.108382</td>\n",
       "      <td>0.044394</td>\n",
       "      <td>-1.722640</td>\n",
       "      <td>-0.082784</td>\n",
       "      <td>...</td>\n",
       "      <td>0.131594</td>\n",
       "      <td>0.061759</td>\n",
       "      <td>0.027512</td>\n",
       "      <td>0.175015</td>\n",
       "      <td>-0.192456</td>\n",
       "      <td>0.111824</td>\n",
       "      <td>0.000261</td>\n",
       "      <td>0.127168</td>\n",
       "      <td>-0.359680</td>\n",
       "      <td>0.126578</td>\n",
       "    </tr>\n",
       "    <tr>\n",
       "      <th>F</th>\n",
       "      <td>-0.017038</td>\n",
       "      <td>-0.280248</td>\n",
       "      <td>0.172792</td>\n",
       "      <td>-0.477048</td>\n",
       "      <td>-0.131344</td>\n",
       "      <td>-0.203238</td>\n",
       "      <td>-0.433667</td>\n",
       "      <td>-0.097838</td>\n",
       "      <td>-1.412458</td>\n",
       "      <td>-0.148386</td>\n",
       "      <td>...</td>\n",
       "      <td>0.066233</td>\n",
       "      <td>0.061985</td>\n",
       "      <td>-0.623270</td>\n",
       "      <td>-0.043503</td>\n",
       "      <td>-0.219559</td>\n",
       "      <td>-0.079115</td>\n",
       "      <td>0.049881</td>\n",
       "      <td>0.039392</td>\n",
       "      <td>-0.349192</td>\n",
       "      <td>0.194931</td>\n",
       "    </tr>\n",
       "    <tr>\n",
       "      <th>W</th>\n",
       "      <td>-0.255155</td>\n",
       "      <td>-1.019285</td>\n",
       "      <td>0.182836</td>\n",
       "      <td>-1.041754</td>\n",
       "      <td>-0.382665</td>\n",
       "      <td>-0.255678</td>\n",
       "      <td>-0.275674</td>\n",
       "      <td>0.169659</td>\n",
       "      <td>-1.948931</td>\n",
       "      <td>-0.149299</td>\n",
       "      <td>...</td>\n",
       "      <td>0.179037</td>\n",
       "      <td>-0.020544</td>\n",
       "      <td>0.062957</td>\n",
       "      <td>-0.013141</td>\n",
       "      <td>-0.217981</td>\n",
       "      <td>0.102854</td>\n",
       "      <td>-0.400512</td>\n",
       "      <td>-0.094279</td>\n",
       "      <td>-0.279604</td>\n",
       "      <td>0.023914</td>\n",
       "    </tr>\n",
       "    <tr>\n",
       "      <th>*</th>\n",
       "      <td>-1.948931</td>\n",
       "      <td>-1.948931</td>\n",
       "      <td>-1.152808</td>\n",
       "      <td>-1.264047</td>\n",
       "      <td>-1.943702</td>\n",
       "      <td>-1.965086</td>\n",
       "      <td>-1.965086</td>\n",
       "      <td>-0.871222</td>\n",
       "      <td>-1.938004</td>\n",
       "      <td>-1.191358</td>\n",
       "      <td>...</td>\n",
       "      <td>-1.015759</td>\n",
       "      <td>-0.918641</td>\n",
       "      <td>-1.658778</td>\n",
       "      <td>-1.970805</td>\n",
       "      <td>-1.970805</td>\n",
       "      <td>-0.842408</td>\n",
       "      <td>-1.970805</td>\n",
       "      <td>-0.436280</td>\n",
       "      <td>-0.201498</td>\n",
       "      <td>-0.013268</td>\n",
       "    </tr>\n",
       "  </tbody>\n",
       "</table>\n",
       "<p>21 rows × 165 columns</p>\n",
       "</div>"
      ],
      "text/plain": [
       "Position        2         3         4         5         6         7    \\\n",
       "Aminoacid                                                               \n",
       "D         -0.120583 -0.100144 -1.016300 -0.956973 -1.948931 -1.511998   \n",
       "E         -0.070526  0.153563 -1.126418 -0.587673 -0.968570 -1.938004   \n",
       "K          0.066082 -0.784621  0.141453 -0.013558 -1.596721 -0.625966   \n",
       "H          0.012109 -0.558346  0.055089  0.311505 -1.001477 -0.109782   \n",
       "R          0.066232 -0.708624  0.300980  0.006319 -1.436223 -0.968812   \n",
       "G         -0.059585 -0.471663 -0.879106 -0.258850 -1.118112 -0.881868   \n",
       "N         -0.028545 -0.406870 -0.231530  0.262194 -1.948931 -0.342826   \n",
       "Q         -0.309639 -0.681243 -0.432915  0.180443 -1.965086 -0.511454   \n",
       "A         -0.090926 -0.644303 -0.212836 -0.120080 -1.021855 -0.477247   \n",
       "S         -0.052537 -0.569384 -0.149715 -0.036098 -1.384449 -0.593402   \n",
       "T          0.018381 -0.923729  0.025956 -0.133469 -0.789141 -0.336756   \n",
       "P          0.081848 -0.479516 -0.124947 -0.314641 -1.196162 -1.540775   \n",
       "C          0.084591 -0.621789  0.021096 -0.089735 -0.776281  0.062640   \n",
       "V         -0.007195 -0.422097  0.007561 -0.730107  0.089170 -0.012397   \n",
       "Y         -0.206076 -0.494849  0.178323 -0.219696 -1.965086 -0.247023   \n",
       "M          0.179946 -0.267191  0.235658 -0.196576  0.065847  0.108269   \n",
       "I         -0.162385 -0.912356 -0.257304 -1.054373  0.130313  0.000869   \n",
       "L         -0.309765 -0.258854  0.067760 -0.288230 -0.031290  0.050450   \n",
       "F         -0.017038 -0.280248  0.172792 -0.477048 -0.131344 -0.203238   \n",
       "W         -0.255155 -1.019285  0.182836 -1.041754 -0.382665 -0.255678   \n",
       "*         -1.948931 -1.948931 -1.152808 -1.264047 -1.943702 -1.965086   \n",
       "\n",
       "Position        8         9         10        11   ...       157       158  \\\n",
       "Aminoacid                                          ...                       \n",
       "D         -1.948931 -1.943702 -1.239462 -0.048307  ...  0.199459 -0.222684   \n",
       "E         -1.307804 -0.910330 -1.965086 -0.252924  ...  0.243169  0.025459   \n",
       "K         -1.241398 -0.705515 -1.965086 -0.124393  ...  0.334196  0.151391   \n",
       "H         -1.092849 -0.344999 -1.943702 -0.244190  ...  0.067844  0.081755   \n",
       "R         -1.743705 -0.570469 -1.965086 -0.122802  ...  0.345361  0.026152   \n",
       "G         -1.193726 -1.078123  0.003616  0.002043  ...  0.197224 -0.466832   \n",
       "N         -1.938004 -1.284565 -1.072058 -0.257836  ...       NaN -0.116216   \n",
       "Q         -0.767470 -1.223639 -1.938004 -0.638672  ...  0.370980  0.136186   \n",
       "A         -0.178071 -0.570581 -1.206115 -0.050840  ...  0.244036  0.129471   \n",
       "S         -1.235478 -1.004938 -1.661635 -0.019655  ...  0.187120 -0.068594   \n",
       "T         -0.448207 -0.647980 -1.948931 -0.074134  ...  0.178989  0.069947   \n",
       "P         -1.599046 -1.528689 -1.503822 -0.198452  ... -0.355342 -0.618566   \n",
       "C         -0.321988 -0.007562 -1.938004 -0.004729  ...  0.356763 -0.096334   \n",
       "V          0.003480  0.020006 -1.516805 -0.065081  ...  0.329004  0.101664   \n",
       "Y         -1.109339  0.139542 -0.921565 -0.353278  ...  0.037446  0.084655   \n",
       "M         -0.068591 -0.080285 -1.106941 -0.185864  ...  0.138679  0.023656   \n",
       "I          0.151308  0.087014 -0.815289 -0.013641  ...  0.190037 -0.035131   \n",
       "L          0.108382  0.044394 -1.722640 -0.082784  ...  0.131594  0.061759   \n",
       "F         -0.433667 -0.097838 -1.412458 -0.148386  ...  0.066233  0.061985   \n",
       "W         -0.275674  0.169659 -1.948931 -0.149299  ...  0.179037 -0.020544   \n",
       "*         -1.965086 -0.871222 -1.938004 -1.191358  ... -1.015759 -0.918641   \n",
       "\n",
       "Position        159       160       161       162       163       164  \\\n",
       "Aminoacid                                                               \n",
       "D         -1.922533 -1.934584  0.080464 -0.276054 -1.034578  0.072333   \n",
       "E         -1.970805 -1.015723  0.091740  0.037446 -1.130236  0.070272   \n",
       "K         -1.020319 -0.545108  0.206880  0.081887 -0.585936  0.186888   \n",
       "H         -1.862210 -0.461856  0.043898 -0.090475 -0.775769  0.015655   \n",
       "R         -1.347932 -0.345074 -0.018897  0.034454 -0.276411  0.083741   \n",
       "G         -1.046813 -1.087168 -0.013700 -0.004312 -0.782756  0.017601   \n",
       "N         -1.862210 -0.804754  0.129627  0.011771 -1.038161  0.001131   \n",
       "Q         -1.084189 -0.542810  0.191933 -0.061748 -0.298852  0.071914   \n",
       "A         -0.564214 -0.408280 -0.031322  0.052815 -0.455482 -0.053671   \n",
       "S         -1.025543 -0.659472  0.017694 -0.027673 -0.315099  0.054373   \n",
       "T         -0.809013 -0.419859 -0.068883 -0.002357 -0.462838 -0.093589   \n",
       "P         -1.672654 -1.545791 -1.045914 -1.040759 -0.853622 -0.264060   \n",
       "C         -0.384835 -0.324776  0.091235  0.047775 -0.224112  0.093932   \n",
       "V         -0.055893  0.016149 -0.355531  0.021876 -0.235277 -0.130400   \n",
       "Y         -1.490469 -0.760021  0.010945  0.001980 -0.552033  0.025425   \n",
       "M         -0.128723  0.732305 -0.023761  0.204806  0.142291 -0.009867   \n",
       "I          0.963510  0.223985 -0.490220  0.114001  0.037446 -0.068452   \n",
       "L          0.027512  0.175015 -0.192456  0.111824  0.000261  0.127168   \n",
       "F         -0.623270 -0.043503 -0.219559 -0.079115  0.049881  0.039392   \n",
       "W          0.062957 -0.013141 -0.217981  0.102854 -0.400512 -0.094279   \n",
       "*         -1.658778 -1.970805 -1.970805 -0.842408 -1.970805 -0.436280   \n",
       "\n",
       "Position        165       166  \n",
       "Aminoacid                      \n",
       "D          0.077722  0.081265  \n",
       "E          0.089154  0.009915  \n",
       "K          0.127147  0.232261  \n",
       "H         -0.182964  0.037446  \n",
       "R          0.073873  0.120510  \n",
       "G          0.229034  0.189377  \n",
       "N          0.212966  0.100127  \n",
       "Q          0.037446  0.145697  \n",
       "A         -0.082353  0.125192  \n",
       "S          0.041340  0.131007  \n",
       "T         -0.067001  0.015133  \n",
       "P         -0.196382  0.188223  \n",
       "C         -0.075403  0.119873  \n",
       "V         -0.309777  0.066339  \n",
       "Y         -0.586032  0.129943  \n",
       "M         -0.312359  0.147878  \n",
       "I         -0.512243  0.005416  \n",
       "L         -0.359680  0.126578  \n",
       "F         -0.349192  0.194931  \n",
       "W         -0.279604  0.023914  \n",
       "*         -0.201498 -0.013268  \n",
       "\n",
       "[21 rows x 165 columns]"
      ]
     },
     "execution_count": 293,
     "metadata": {},
     "output_type": "execute_result"
    }
   ],
   "source": [
    "fig = plot_heatmap_plotly(mut.hras_RBD(), return_plot_object=True)\n",
    "fig"
   ]
  },
  {
   "cell_type": "code",
   "execution_count": 281,
   "metadata": {
    "execution": {
     "iopub.execute_input": "2020-12-02T05:26:50.732953Z",
     "iopub.status.busy": "2020-12-02T05:26:50.732498Z",
     "iopub.status.idle": "2020-12-02T05:26:50.796534Z",
     "shell.execute_reply": "2020-12-02T05:26:50.795524Z",
     "shell.execute_reply.started": "2020-12-02T05:26:50.732916Z"
    }
   },
   "outputs": [
    {
     "data": {
      "application/vnd.plotly.v1+json": {
       "config": {
        "plotlyServerURL": "https://plot.ly"
       },
       "data": [
        {
         "coloraxis": "coloraxis",
         "hovertemplate": "x: %{x}<br>y: %{y}<br>color: %{z}<extra></extra>",
         "type": "heatmap",
         "z": [
          [
           1,
           20,
           30
          ],
          [
           20,
           1,
           60
          ],
          [
           30,
           60,
           1
          ]
         ]
        }
       ],
       "layout": {
        "autosize": true,
        "coloraxis": {
         "colorscale": [
          [
           0,
           "#0d0887"
          ],
          [
           0.1111111111111111,
           "#46039f"
          ],
          [
           0.2222222222222222,
           "#7201a8"
          ],
          [
           0.3333333333333333,
           "#9c179e"
          ],
          [
           0.4444444444444444,
           "#bd3786"
          ],
          [
           0.5555555555555556,
           "#d8576b"
          ],
          [
           0.6666666666666666,
           "#ed7953"
          ],
          [
           0.7777777777777778,
           "#fb9f3a"
          ],
          [
           0.8888888888888888,
           "#fdca26"
          ],
          [
           1,
           "#f0f921"
          ]
         ]
        },
        "margin": {
         "t": 60
        },
        "template": {
         "data": {
          "bar": [
           {
            "error_x": {
             "color": "#2a3f5f"
            },
            "error_y": {
             "color": "#2a3f5f"
            },
            "marker": {
             "line": {
              "color": "white",
              "width": 0.5
             }
            },
            "type": "bar"
           }
          ],
          "barpolar": [
           {
            "marker": {
             "line": {
              "color": "white",
              "width": 0.5
             }
            },
            "type": "barpolar"
           }
          ],
          "carpet": [
           {
            "aaxis": {
             "endlinecolor": "#2a3f5f",
             "gridcolor": "#C8D4E3",
             "linecolor": "#C8D4E3",
             "minorgridcolor": "#C8D4E3",
             "startlinecolor": "#2a3f5f"
            },
            "baxis": {
             "endlinecolor": "#2a3f5f",
             "gridcolor": "#C8D4E3",
             "linecolor": "#C8D4E3",
             "minorgridcolor": "#C8D4E3",
             "startlinecolor": "#2a3f5f"
            },
            "type": "carpet"
           }
          ],
          "choropleth": [
           {
            "colorbar": {
             "outlinewidth": 0,
             "ticks": ""
            },
            "type": "choropleth"
           }
          ],
          "contour": [
           {
            "colorbar": {
             "outlinewidth": 0,
             "ticks": ""
            },
            "colorscale": [
             [
              0,
              "#0d0887"
             ],
             [
              0.1111111111111111,
              "#46039f"
             ],
             [
              0.2222222222222222,
              "#7201a8"
             ],
             [
              0.3333333333333333,
              "#9c179e"
             ],
             [
              0.4444444444444444,
              "#bd3786"
             ],
             [
              0.5555555555555556,
              "#d8576b"
             ],
             [
              0.6666666666666666,
              "#ed7953"
             ],
             [
              0.7777777777777778,
              "#fb9f3a"
             ],
             [
              0.8888888888888888,
              "#fdca26"
             ],
             [
              1,
              "#f0f921"
             ]
            ],
            "type": "contour"
           }
          ],
          "contourcarpet": [
           {
            "colorbar": {
             "outlinewidth": 0,
             "ticks": ""
            },
            "type": "contourcarpet"
           }
          ],
          "heatmap": [
           {
            "colorbar": {
             "outlinewidth": 0,
             "ticks": ""
            },
            "colorscale": [
             [
              0,
              "#0d0887"
             ],
             [
              0.1111111111111111,
              "#46039f"
             ],
             [
              0.2222222222222222,
              "#7201a8"
             ],
             [
              0.3333333333333333,
              "#9c179e"
             ],
             [
              0.4444444444444444,
              "#bd3786"
             ],
             [
              0.5555555555555556,
              "#d8576b"
             ],
             [
              0.6666666666666666,
              "#ed7953"
             ],
             [
              0.7777777777777778,
              "#fb9f3a"
             ],
             [
              0.8888888888888888,
              "#fdca26"
             ],
             [
              1,
              "#f0f921"
             ]
            ],
            "type": "heatmap"
           }
          ],
          "heatmapgl": [
           {
            "colorbar": {
             "outlinewidth": 0,
             "ticks": ""
            },
            "colorscale": [
             [
              0,
              "#0d0887"
             ],
             [
              0.1111111111111111,
              "#46039f"
             ],
             [
              0.2222222222222222,
              "#7201a8"
             ],
             [
              0.3333333333333333,
              "#9c179e"
             ],
             [
              0.4444444444444444,
              "#bd3786"
             ],
             [
              0.5555555555555556,
              "#d8576b"
             ],
             [
              0.6666666666666666,
              "#ed7953"
             ],
             [
              0.7777777777777778,
              "#fb9f3a"
             ],
             [
              0.8888888888888888,
              "#fdca26"
             ],
             [
              1,
              "#f0f921"
             ]
            ],
            "type": "heatmapgl"
           }
          ],
          "histogram": [
           {
            "marker": {
             "colorbar": {
              "outlinewidth": 0,
              "ticks": ""
             }
            },
            "type": "histogram"
           }
          ],
          "histogram2d": [
           {
            "colorbar": {
             "outlinewidth": 0,
             "ticks": ""
            },
            "colorscale": [
             [
              0,
              "#0d0887"
             ],
             [
              0.1111111111111111,
              "#46039f"
             ],
             [
              0.2222222222222222,
              "#7201a8"
             ],
             [
              0.3333333333333333,
              "#9c179e"
             ],
             [
              0.4444444444444444,
              "#bd3786"
             ],
             [
              0.5555555555555556,
              "#d8576b"
             ],
             [
              0.6666666666666666,
              "#ed7953"
             ],
             [
              0.7777777777777778,
              "#fb9f3a"
             ],
             [
              0.8888888888888888,
              "#fdca26"
             ],
             [
              1,
              "#f0f921"
             ]
            ],
            "type": "histogram2d"
           }
          ],
          "histogram2dcontour": [
           {
            "colorbar": {
             "outlinewidth": 0,
             "ticks": ""
            },
            "colorscale": [
             [
              0,
              "#0d0887"
             ],
             [
              0.1111111111111111,
              "#46039f"
             ],
             [
              0.2222222222222222,
              "#7201a8"
             ],
             [
              0.3333333333333333,
              "#9c179e"
             ],
             [
              0.4444444444444444,
              "#bd3786"
             ],
             [
              0.5555555555555556,
              "#d8576b"
             ],
             [
              0.6666666666666666,
              "#ed7953"
             ],
             [
              0.7777777777777778,
              "#fb9f3a"
             ],
             [
              0.8888888888888888,
              "#fdca26"
             ],
             [
              1,
              "#f0f921"
             ]
            ],
            "type": "histogram2dcontour"
           }
          ],
          "mesh3d": [
           {
            "colorbar": {
             "outlinewidth": 0,
             "ticks": ""
            },
            "type": "mesh3d"
           }
          ],
          "parcoords": [
           {
            "line": {
             "colorbar": {
              "outlinewidth": 0,
              "ticks": ""
             }
            },
            "type": "parcoords"
           }
          ],
          "pie": [
           {
            "automargin": true,
            "type": "pie"
           }
          ],
          "scatter": [
           {
            "marker": {
             "colorbar": {
              "outlinewidth": 0,
              "ticks": ""
             }
            },
            "type": "scatter"
           }
          ],
          "scatter3d": [
           {
            "line": {
             "colorbar": {
              "outlinewidth": 0,
              "ticks": ""
             }
            },
            "marker": {
             "colorbar": {
              "outlinewidth": 0,
              "ticks": ""
             }
            },
            "type": "scatter3d"
           }
          ],
          "scattercarpet": [
           {
            "marker": {
             "colorbar": {
              "outlinewidth": 0,
              "ticks": ""
             }
            },
            "type": "scattercarpet"
           }
          ],
          "scattergeo": [
           {
            "marker": {
             "colorbar": {
              "outlinewidth": 0,
              "ticks": ""
             }
            },
            "type": "scattergeo"
           }
          ],
          "scattergl": [
           {
            "marker": {
             "colorbar": {
              "outlinewidth": 0,
              "ticks": ""
             }
            },
            "type": "scattergl"
           }
          ],
          "scattermapbox": [
           {
            "marker": {
             "colorbar": {
              "outlinewidth": 0,
              "ticks": ""
             }
            },
            "type": "scattermapbox"
           }
          ],
          "scatterpolar": [
           {
            "marker": {
             "colorbar": {
              "outlinewidth": 0,
              "ticks": ""
             }
            },
            "type": "scatterpolar"
           }
          ],
          "scatterpolargl": [
           {
            "marker": {
             "colorbar": {
              "outlinewidth": 0,
              "ticks": ""
             }
            },
            "type": "scatterpolargl"
           }
          ],
          "scatterternary": [
           {
            "marker": {
             "colorbar": {
              "outlinewidth": 0,
              "ticks": ""
             }
            },
            "type": "scatterternary"
           }
          ],
          "surface": [
           {
            "colorbar": {
             "outlinewidth": 0,
             "ticks": ""
            },
            "colorscale": [
             [
              0,
              "#0d0887"
             ],
             [
              0.1111111111111111,
              "#46039f"
             ],
             [
              0.2222222222222222,
              "#7201a8"
             ],
             [
              0.3333333333333333,
              "#9c179e"
             ],
             [
              0.4444444444444444,
              "#bd3786"
             ],
             [
              0.5555555555555556,
              "#d8576b"
             ],
             [
              0.6666666666666666,
              "#ed7953"
             ],
             [
              0.7777777777777778,
              "#fb9f3a"
             ],
             [
              0.8888888888888888,
              "#fdca26"
             ],
             [
              1,
              "#f0f921"
             ]
            ],
            "type": "surface"
           }
          ],
          "table": [
           {
            "cells": {
             "fill": {
              "color": "#EBF0F8"
             },
             "line": {
              "color": "white"
             }
            },
            "header": {
             "fill": {
              "color": "#C8D4E3"
             },
             "line": {
              "color": "white"
             }
            },
            "type": "table"
           }
          ]
         },
         "layout": {
          "annotationdefaults": {
           "arrowcolor": "#2a3f5f",
           "arrowhead": 0,
           "arrowwidth": 1
          },
          "coloraxis": {
           "colorbar": {
            "outlinewidth": 0,
            "ticks": ""
           }
          },
          "colorscale": {
           "diverging": [
            [
             0,
             "#8e0152"
            ],
            [
             0.1,
             "#c51b7d"
            ],
            [
             0.2,
             "#de77ae"
            ],
            [
             0.3,
             "#f1b6da"
            ],
            [
             0.4,
             "#fde0ef"
            ],
            [
             0.5,
             "#f7f7f7"
            ],
            [
             0.6,
             "#e6f5d0"
            ],
            [
             0.7,
             "#b8e186"
            ],
            [
             0.8,
             "#7fbc41"
            ],
            [
             0.9,
             "#4d9221"
            ],
            [
             1,
             "#276419"
            ]
           ],
           "sequential": [
            [
             0,
             "#0d0887"
            ],
            [
             0.1111111111111111,
             "#46039f"
            ],
            [
             0.2222222222222222,
             "#7201a8"
            ],
            [
             0.3333333333333333,
             "#9c179e"
            ],
            [
             0.4444444444444444,
             "#bd3786"
            ],
            [
             0.5555555555555556,
             "#d8576b"
            ],
            [
             0.6666666666666666,
             "#ed7953"
            ],
            [
             0.7777777777777778,
             "#fb9f3a"
            ],
            [
             0.8888888888888888,
             "#fdca26"
            ],
            [
             1,
             "#f0f921"
            ]
           ],
           "sequentialminus": [
            [
             0,
             "#0d0887"
            ],
            [
             0.1111111111111111,
             "#46039f"
            ],
            [
             0.2222222222222222,
             "#7201a8"
            ],
            [
             0.3333333333333333,
             "#9c179e"
            ],
            [
             0.4444444444444444,
             "#bd3786"
            ],
            [
             0.5555555555555556,
             "#d8576b"
            ],
            [
             0.6666666666666666,
             "#ed7953"
            ],
            [
             0.7777777777777778,
             "#fb9f3a"
            ],
            [
             0.8888888888888888,
             "#fdca26"
            ],
            [
             1,
             "#f0f921"
            ]
           ]
          },
          "colorway": [
           "#636efa",
           "#EF553B",
           "#00cc96",
           "#ab63fa",
           "#FFA15A",
           "#19d3f3",
           "#FF6692",
           "#B6E880",
           "#FF97FF",
           "#FECB52"
          ],
          "font": {
           "color": "#2a3f5f"
          },
          "geo": {
           "bgcolor": "white",
           "lakecolor": "white",
           "landcolor": "white",
           "showlakes": true,
           "showland": true,
           "subunitcolor": "#C8D4E3"
          },
          "hoverlabel": {
           "align": "left"
          },
          "hovermode": "closest",
          "mapbox": {
           "style": "light"
          },
          "paper_bgcolor": "white",
          "plot_bgcolor": "white",
          "polar": {
           "angularaxis": {
            "gridcolor": "#EBF0F8",
            "linecolor": "#EBF0F8",
            "ticks": ""
           },
           "bgcolor": "white",
           "radialaxis": {
            "gridcolor": "#EBF0F8",
            "linecolor": "#EBF0F8",
            "ticks": ""
           }
          },
          "scene": {
           "xaxis": {
            "backgroundcolor": "white",
            "gridcolor": "#DFE8F3",
            "gridwidth": 2,
            "linecolor": "#EBF0F8",
            "showbackground": true,
            "ticks": "",
            "zerolinecolor": "#EBF0F8"
           },
           "yaxis": {
            "backgroundcolor": "white",
            "gridcolor": "#DFE8F3",
            "gridwidth": 2,
            "linecolor": "#EBF0F8",
            "showbackground": true,
            "ticks": "",
            "zerolinecolor": "#EBF0F8"
           },
           "zaxis": {
            "backgroundcolor": "white",
            "gridcolor": "#DFE8F3",
            "gridwidth": 2,
            "linecolor": "#EBF0F8",
            "showbackground": true,
            "ticks": "",
            "zerolinecolor": "#EBF0F8"
           }
          },
          "shapedefaults": {
           "line": {
            "color": "#2a3f5f"
           }
          },
          "ternary": {
           "aaxis": {
            "gridcolor": "#DFE8F3",
            "linecolor": "#A2B1C6",
            "ticks": ""
           },
           "baxis": {
            "gridcolor": "#DFE8F3",
            "linecolor": "#A2B1C6",
            "ticks": ""
           },
           "bgcolor": "white",
           "caxis": {
            "gridcolor": "#DFE8F3",
            "linecolor": "#A2B1C6",
            "ticks": ""
           }
          },
          "title": {
           "x": 0.05
          },
          "xaxis": {
           "automargin": true,
           "gridcolor": "#EBF0F8",
           "linecolor": "#EBF0F8",
           "ticks": "",
           "title": {
            "standoff": 15
           },
           "zerolinecolor": "#EBF0F8",
           "zerolinewidth": 2
          },
          "yaxis": {
           "automargin": true,
           "gridcolor": "#EBF0F8",
           "linecolor": "#EBF0F8",
           "ticks": "",
           "title": {
            "standoff": 15
           },
           "zerolinecolor": "#EBF0F8",
           "zerolinewidth": 2
          }
         }
        },
        "xaxis": {
         "autorange": true,
         "constrain": "domain",
         "domain": [
          0.22072072072072074,
          0.7792792792792793
         ],
         "range": [
          -0.5,
          2.5
         ],
         "scaleanchor": "y"
        },
        "yaxis": {
         "autorange": true,
         "constrain": "domain",
         "domain": [
          0,
          1
         ],
         "range": [
          2.5,
          -0.5
         ],
         "showticklabels": true,
         "ticktext": [
          1,
          2,
          3
         ],
         "tickvals": [
          11,
          12,
          13
         ]
        }
       }
      },
      "image/png": "[encoded data removed]",
      "text/html": [
       "<div>                            <div id=\"b5578fd6-d8f2-4e45-a754-3cf00d974402\" class=\"plotly-graph-div\" style=\"height:525px; width:100%;\"></div>            <script type=\"text/javascript\">                require([\"plotly\"], function(Plotly) {                    window.PLOTLYENV=window.PLOTLYENV || {};                                    if (document.getElementById(\"b5578fd6-d8f2-4e45-a754-3cf00d974402\")) {                    Plotly.newPlot(                        \"b5578fd6-d8f2-4e45-a754-3cf00d974402\",                        [{\"coloraxis\": \"coloraxis\", \"hovertemplate\": \"x: %{x}<br>y: %{y}<br>color: %{z}<extra></extra>\", \"type\": \"heatmap\", \"z\": [[1, 20, 30], [20, 1, 60], [30, 60, 1]]}],                        {\"coloraxis\": {\"colorscale\": [[0.0, \"#0d0887\"], [0.1111111111111111, \"#46039f\"], [0.2222222222222222, \"#7201a8\"], [0.3333333333333333, \"#9c179e\"], [0.4444444444444444, \"#bd3786\"], [0.5555555555555556, \"#d8576b\"], [0.6666666666666666, \"#ed7953\"], [0.7777777777777778, \"#fb9f3a\"], [0.8888888888888888, \"#fdca26\"], [1.0, \"#f0f921\"]]}, \"margin\": {\"t\": 60}, \"template\": {\"data\": {\"bar\": [{\"error_x\": {\"color\": \"#2a3f5f\"}, \"error_y\": {\"color\": \"#2a3f5f\"}, \"marker\": {\"line\": {\"color\": \"white\", \"width\": 0.5}}, \"type\": \"bar\"}], \"barpolar\": [{\"marker\": {\"line\": {\"color\": \"white\", \"width\": 0.5}}, \"type\": \"barpolar\"}], \"carpet\": [{\"aaxis\": {\"endlinecolor\": \"#2a3f5f\", \"gridcolor\": \"#C8D4E3\", \"linecolor\": \"#C8D4E3\", \"minorgridcolor\": \"#C8D4E3\", \"startlinecolor\": \"#2a3f5f\"}, \"baxis\": {\"endlinecolor\": \"#2a3f5f\", \"gridcolor\": \"#C8D4E3\", \"linecolor\": \"#C8D4E3\", \"minorgridcolor\": \"#C8D4E3\", \"startlinecolor\": \"#2a3f5f\"}, \"type\": \"carpet\"}], \"choropleth\": [{\"colorbar\": {\"outlinewidth\": 0, \"ticks\": \"\"}, \"type\": \"choropleth\"}], \"contour\": [{\"colorbar\": {\"outlinewidth\": 0, \"ticks\": \"\"}, \"colorscale\": [[0.0, \"#0d0887\"], [0.1111111111111111, \"#46039f\"], [0.2222222222222222, \"#7201a8\"], [0.3333333333333333, \"#9c179e\"], [0.4444444444444444, \"#bd3786\"], [0.5555555555555556, \"#d8576b\"], [0.6666666666666666, \"#ed7953\"], [0.7777777777777778, \"#fb9f3a\"], [0.8888888888888888, \"#fdca26\"], [1.0, \"#f0f921\"]], \"type\": \"contour\"}], \"contourcarpet\": [{\"colorbar\": {\"outlinewidth\": 0, \"ticks\": \"\"}, \"type\": \"contourcarpet\"}], \"heatmap\": [{\"colorbar\": {\"outlinewidth\": 0, \"ticks\": \"\"}, \"colorscale\": [[0.0, \"#0d0887\"], [0.1111111111111111, \"#46039f\"], [0.2222222222222222, \"#7201a8\"], [0.3333333333333333, \"#9c179e\"], [0.4444444444444444, \"#bd3786\"], [0.5555555555555556, \"#d8576b\"], [0.6666666666666666, \"#ed7953\"], [0.7777777777777778, \"#fb9f3a\"], [0.8888888888888888, \"#fdca26\"], [1.0, \"#f0f921\"]], \"type\": \"heatmap\"}], \"heatmapgl\": [{\"colorbar\": {\"outlinewidth\": 0, \"ticks\": \"\"}, \"colorscale\": [[0.0, \"#0d0887\"], [0.1111111111111111, \"#46039f\"], [0.2222222222222222, \"#7201a8\"], [0.3333333333333333, \"#9c179e\"], [0.4444444444444444, \"#bd3786\"], [0.5555555555555556, \"#d8576b\"], [0.6666666666666666, \"#ed7953\"], [0.7777777777777778, \"#fb9f3a\"], [0.8888888888888888, \"#fdca26\"], [1.0, \"#f0f921\"]], \"type\": \"heatmapgl\"}], \"histogram\": [{\"marker\": {\"colorbar\": {\"outlinewidth\": 0, \"ticks\": \"\"}}, \"type\": \"histogram\"}], \"histogram2d\": [{\"colorbar\": {\"outlinewidth\": 0, \"ticks\": \"\"}, \"colorscale\": [[0.0, \"#0d0887\"], [0.1111111111111111, \"#46039f\"], [0.2222222222222222, \"#7201a8\"], [0.3333333333333333, \"#9c179e\"], [0.4444444444444444, \"#bd3786\"], [0.5555555555555556, \"#d8576b\"], [0.6666666666666666, \"#ed7953\"], [0.7777777777777778, \"#fb9f3a\"], [0.8888888888888888, \"#fdca26\"], [1.0, \"#f0f921\"]], \"type\": \"histogram2d\"}], \"histogram2dcontour\": [{\"colorbar\": {\"outlinewidth\": 0, \"ticks\": \"\"}, \"colorscale\": [[0.0, \"#0d0887\"], [0.1111111111111111, \"#46039f\"], [0.2222222222222222, \"#7201a8\"], [0.3333333333333333, \"#9c179e\"], [0.4444444444444444, \"#bd3786\"], [0.5555555555555556, \"#d8576b\"], [0.6666666666666666, \"#ed7953\"], [0.7777777777777778, \"#fb9f3a\"], [0.8888888888888888, \"#fdca26\"], [1.0, \"#f0f921\"]], \"type\": \"histogram2dcontour\"}], \"mesh3d\": [{\"colorbar\": {\"outlinewidth\": 0, \"ticks\": \"\"}, \"type\": \"mesh3d\"}], \"parcoords\": [{\"line\": {\"colorbar\": {\"outlinewidth\": 0, \"ticks\": \"\"}}, \"type\": \"parcoords\"}], \"pie\": [{\"automargin\": true, \"type\": \"pie\"}], \"scatter\": [{\"marker\": {\"colorbar\": {\"outlinewidth\": 0, \"ticks\": \"\"}}, \"type\": \"scatter\"}], \"scatter3d\": [{\"line\": {\"colorbar\": {\"outlinewidth\": 0, \"ticks\": \"\"}}, \"marker\": {\"colorbar\": {\"outlinewidth\": 0, \"ticks\": \"\"}}, \"type\": \"scatter3d\"}], \"scattercarpet\": [{\"marker\": {\"colorbar\": {\"outlinewidth\": 0, \"ticks\": \"\"}}, \"type\": \"scattercarpet\"}], \"scattergeo\": [{\"marker\": {\"colorbar\": {\"outlinewidth\": 0, \"ticks\": \"\"}}, \"type\": \"scattergeo\"}], \"scattergl\": [{\"marker\": {\"colorbar\": {\"outlinewidth\": 0, \"ticks\": \"\"}}, \"type\": \"scattergl\"}], \"scattermapbox\": [{\"marker\": {\"colorbar\": {\"outlinewidth\": 0, \"ticks\": \"\"}}, \"type\": \"scattermapbox\"}], \"scatterpolar\": [{\"marker\": {\"colorbar\": {\"outlinewidth\": 0, \"ticks\": \"\"}}, \"type\": \"scatterpolar\"}], \"scatterpolargl\": [{\"marker\": {\"colorbar\": {\"outlinewidth\": 0, \"ticks\": \"\"}}, \"type\": \"scatterpolargl\"}], \"scatterternary\": [{\"marker\": {\"colorbar\": {\"outlinewidth\": 0, \"ticks\": \"\"}}, \"type\": \"scatterternary\"}], \"surface\": [{\"colorbar\": {\"outlinewidth\": 0, \"ticks\": \"\"}, \"colorscale\": [[0.0, \"#0d0887\"], [0.1111111111111111, \"#46039f\"], [0.2222222222222222, \"#7201a8\"], [0.3333333333333333, \"#9c179e\"], [0.4444444444444444, \"#bd3786\"], [0.5555555555555556, \"#d8576b\"], [0.6666666666666666, \"#ed7953\"], [0.7777777777777778, \"#fb9f3a\"], [0.8888888888888888, \"#fdca26\"], [1.0, \"#f0f921\"]], \"type\": \"surface\"}], \"table\": [{\"cells\": {\"fill\": {\"color\": \"#EBF0F8\"}, \"line\": {\"color\": \"white\"}}, \"header\": {\"fill\": {\"color\": \"#C8D4E3\"}, \"line\": {\"color\": \"white\"}}, \"type\": \"table\"}]}, \"layout\": {\"annotationdefaults\": {\"arrowcolor\": \"#2a3f5f\", \"arrowhead\": 0, \"arrowwidth\": 1}, \"coloraxis\": {\"colorbar\": {\"outlinewidth\": 0, \"ticks\": \"\"}}, \"colorscale\": {\"diverging\": [[0, \"#8e0152\"], [0.1, \"#c51b7d\"], [0.2, \"#de77ae\"], [0.3, \"#f1b6da\"], [0.4, \"#fde0ef\"], [0.5, \"#f7f7f7\"], [0.6, \"#e6f5d0\"], [0.7, \"#b8e186\"], [0.8, \"#7fbc41\"], [0.9, \"#4d9221\"], [1, \"#276419\"]], \"sequential\": [[0.0, \"#0d0887\"], [0.1111111111111111, \"#46039f\"], [0.2222222222222222, \"#7201a8\"], [0.3333333333333333, \"#9c179e\"], [0.4444444444444444, \"#bd3786\"], [0.5555555555555556, \"#d8576b\"], [0.6666666666666666, \"#ed7953\"], [0.7777777777777778, \"#fb9f3a\"], [0.8888888888888888, \"#fdca26\"], [1.0, \"#f0f921\"]], \"sequentialminus\": [[0.0, \"#0d0887\"], [0.1111111111111111, \"#46039f\"], [0.2222222222222222, \"#7201a8\"], [0.3333333333333333, \"#9c179e\"], [0.4444444444444444, \"#bd3786\"], [0.5555555555555556, \"#d8576b\"], [0.6666666666666666, \"#ed7953\"], [0.7777777777777778, \"#fb9f3a\"], [0.8888888888888888, \"#fdca26\"], [1.0, \"#f0f921\"]]}, \"colorway\": [\"#636efa\", \"#EF553B\", \"#00cc96\", \"#ab63fa\", \"#FFA15A\", \"#19d3f3\", \"#FF6692\", \"#B6E880\", \"#FF97FF\", \"#FECB52\"], \"font\": {\"color\": \"#2a3f5f\"}, \"geo\": {\"bgcolor\": \"white\", \"lakecolor\": \"white\", \"landcolor\": \"white\", \"showlakes\": true, \"showland\": true, \"subunitcolor\": \"#C8D4E3\"}, \"hoverlabel\": {\"align\": \"left\"}, \"hovermode\": \"closest\", \"mapbox\": {\"style\": \"light\"}, \"paper_bgcolor\": \"white\", \"plot_bgcolor\": \"white\", \"polar\": {\"angularaxis\": {\"gridcolor\": \"#EBF0F8\", \"linecolor\": \"#EBF0F8\", \"ticks\": \"\"}, \"bgcolor\": \"white\", \"radialaxis\": {\"gridcolor\": \"#EBF0F8\", \"linecolor\": \"#EBF0F8\", \"ticks\": \"\"}}, \"scene\": {\"xaxis\": {\"backgroundcolor\": \"white\", \"gridcolor\": \"#DFE8F3\", \"gridwidth\": 2, \"linecolor\": \"#EBF0F8\", \"showbackground\": true, \"ticks\": \"\", \"zerolinecolor\": \"#EBF0F8\"}, \"yaxis\": {\"backgroundcolor\": \"white\", \"gridcolor\": \"#DFE8F3\", \"gridwidth\": 2, \"linecolor\": \"#EBF0F8\", \"showbackground\": true, \"ticks\": \"\", \"zerolinecolor\": \"#EBF0F8\"}, \"zaxis\": {\"backgroundcolor\": \"white\", \"gridcolor\": \"#DFE8F3\", \"gridwidth\": 2, \"linecolor\": \"#EBF0F8\", \"showbackground\": true, \"ticks\": \"\", \"zerolinecolor\": \"#EBF0F8\"}}, \"shapedefaults\": {\"line\": {\"color\": \"#2a3f5f\"}}, \"ternary\": {\"aaxis\": {\"gridcolor\": \"#DFE8F3\", \"linecolor\": \"#A2B1C6\", \"ticks\": \"\"}, \"baxis\": {\"gridcolor\": \"#DFE8F3\", \"linecolor\": \"#A2B1C6\", \"ticks\": \"\"}, \"bgcolor\": \"white\", \"caxis\": {\"gridcolor\": \"#DFE8F3\", \"linecolor\": \"#A2B1C6\", \"ticks\": \"\"}}, \"title\": {\"x\": 0.05}, \"xaxis\": {\"automargin\": true, \"gridcolor\": \"#EBF0F8\", \"linecolor\": \"#EBF0F8\", \"ticks\": \"\", \"title\": {\"standoff\": 15}, \"zerolinecolor\": \"#EBF0F8\", \"zerolinewidth\": 2}, \"yaxis\": {\"automargin\": true, \"gridcolor\": \"#EBF0F8\", \"linecolor\": \"#EBF0F8\", \"ticks\": \"\", \"title\": {\"standoff\": 15}, \"zerolinecolor\": \"#EBF0F8\", \"zerolinewidth\": 2}}}, \"xaxis\": {\"constrain\": \"domain\", \"scaleanchor\": \"y\"}, \"yaxis\": {\"autorange\": \"reversed\", \"constrain\": \"domain\", \"showticklabels\": true, \"ticktext\": [1, 2, 3], \"tickvals\": [11, 12, 13]}},                        {\"responsive\": true}                    ).then(function(){\n",
       "                            \n",
       "var gd = document.getElementById('b5578fd6-d8f2-4e45-a754-3cf00d974402');\n",
       "var x = new MutationObserver(function (mutations, observer) {{\n",
       "        var display = window.getComputedStyle(gd).display;\n",
       "        if (!display || display === 'none') {{\n",
       "            console.log([gd, 'removed!']);\n",
       "            Plotly.purge(gd);\n",
       "            observer.disconnect();\n",
       "        }}\n",
       "}});\n",
       "\n",
       "// Listen for the removal of the full notebook cells\n",
       "var notebookContainer = gd.closest('#notebook-container');\n",
       "if (notebookContainer) {{\n",
       "    x.observe(notebookContainer, {childList: true});\n",
       "}}\n",
       "\n",
       "// Listen for the clearing of the current output cell\n",
       "var outputEl = gd.closest('.output');\n",
       "if (outputEl) {{\n",
       "    x.observe(outputEl, {childList: true});\n",
       "}}\n",
       "\n",
       "                        })                };                });            </script>        </div>"
      ]
     },
     "metadata": {},
     "output_type": "display_data"
    }
   ],
   "source": [
    "fig = px.imshow([[1, 20, 30], [20, 1, 60], [30, 60, 1]])\n",
    "\n",
    "fig['layout']['yaxis']['ticktext'] = [1,2,3]\n",
    "fig['layout']['yaxis']['tickvals'] = [11,12,13]\n",
    "fig['layout']['yaxis']['showticklabels']=True\n",
    "fig['layout']['yaxis'].update\n",
    "#fig.add_trace(colorbar_trace)\n",
    "fig.show()"
   ]
  },
  {
   "cell_type": "code",
   "execution_count": 265,
   "metadata": {
    "execution": {
     "iopub.execute_input": "2020-12-02T05:17:14.127107Z",
     "iopub.status.busy": "2020-12-02T05:17:14.126874Z",
     "iopub.status.idle": "2020-12-02T05:17:14.151289Z",
     "shell.execute_reply": "2020-12-02T05:17:14.149983Z",
     "shell.execute_reply.started": "2020-12-02T05:17:14.127084Z"
    }
   },
   "outputs": [
    {
     "data": {
      "text/plain": [
       "<bound method BaseFigure.show of Figure({\n",
       "    'data': [{'coloraxis': 'coloraxis',\n",
       "              'hovertemplate': 'x: %{x}<br>y: %{y}<br>color: %{z}<extra></extra>',\n",
       "              'type': 'heatmap',\n",
       "              'z': array([[ 1, 20, 30],\n",
       "                          [20,  1, 60],\n",
       "                          [30, 60,  1]])}],\n",
       "    'layout': {'coloraxis': {'colorscale': [[0.0, '#0d0887'], [0.1111111111111111,\n",
       "                                            '#46039f'], [0.2222222222222222,\n",
       "                                            '#7201a8'], [0.3333333333333333,\n",
       "                                            '#9c179e'], [0.4444444444444444,\n",
       "                                            '#bd3786'], [0.5555555555555556,\n",
       "                                            '#d8576b'], [0.6666666666666666,\n",
       "                                            '#ed7953'], [0.7777777777777778,\n",
       "                                            '#fb9f3a'], [0.8888888888888888,\n",
       "                                            '#fdca26'], [1.0, '#f0f921']]},\n",
       "               'margin': {'t': 60},\n",
       "               'template': '...',\n",
       "               'xaxis': {'constrain': 'domain', 'scaleanchor': 'y'},\n",
       "               'xaxis2': {'anchor': 'free',\n",
       "                          'overlaying': 'x',\n",
       "                          'position': 0.85,\n",
       "                          'side': 'top',\n",
       "                          'title': {'text': 'yaxis title'}},\n",
       "               'yaxis': {'autorange': 'reversed', 'constrain': 'domain'}}\n",
       "})>"
      ]
     },
     "execution_count": 265,
     "metadata": {},
     "output_type": "execute_result"
    }
   ],
   "source": [
    "fig.show"
   ]
  },
  {
   "cell_type": "markdown",
   "metadata": {},
   "source": [
    "## Histogram"
   ]
  },
  {
   "cell_type": "code",
   "execution_count": 2,
   "metadata": {
    "execution": {
     "iopub.execute_input": "2020-12-02T03:16:21.120123Z",
     "iopub.status.busy": "2020-12-02T03:16:21.119816Z",
     "iopub.status.idle": "2020-12-02T03:16:24.457875Z",
     "shell.execute_reply": "2020-12-02T03:16:24.456840Z",
     "shell.execute_reply.started": "2020-12-02T03:16:21.120097Z"
    }
   },
   "outputs": [],
   "source": [
    "try:\n",
    "    import mutagenesis_visualization as mut\n",
    "except ModuleNotFoundError:  # This step is only for when I run the notebooks locally\n",
    "    import sys\n",
    "    sys.path.append('../../../')\n",
    "    import mutagenesis_visualization as mut"
   ]
  },
  {
   "cell_type": "code",
   "execution_count": 24,
   "metadata": {
    "execution": {
     "iopub.execute_input": "2020-12-01T02:37:57.556649Z",
     "iopub.status.busy": "2020-12-01T02:37:57.556421Z",
     "iopub.status.idle": "2020-12-01T02:37:57.569860Z",
     "shell.execute_reply": "2020-12-01T02:37:57.568828Z",
     "shell.execute_reply.started": "2020-12-01T02:37:57.556626Z"
    }
   },
   "outputs": [],
   "source": [
    "#https://plotly.com/python/histograms/\n",
    "def plot_histogram_plotly(\n",
    "    self,\n",
    "    mode='pointmutant',\n",
    "    output_html: Union[None, str, Path] = None,\n",
    "    **kwargs\n",
    "):\n",
    "    '''\n",
    "    Generate a plotly histogram plot.\n",
    "\n",
    "    Parameters\n",
    "    ----------\n",
    "    self : object from class *Screen*\n",
    "\n",
    "    mode : str, default 'pointmutant'. \n",
    "        Alternative set to \"mean\" for the mean of each position.\n",
    "        \n",
    "    output_html : str, default None\n",
    "        If you want to export the generated graph into html, add the path and name of the file.\n",
    "        Example: 'path/filename.html'.\n",
    "        \n",
    "    **kwargs : other keyword arguments\n",
    "\n",
    "    Returns\n",
    "    ----------\n",
    "    fig : plotly object\n",
    "\n",
    "    '''\n",
    "    # update kwargs\n",
    "    temp_kwargs = copy.deepcopy(code_kwargs.kwargs())\n",
    "    temp_kwargs.update(kwargs)\n",
    "    temp_kwargs['figsize'] = kwargs.get('figsize', (4, 3))\n",
    "    temp_kwargs['x_label'] = kwargs.get('x_label', 'Enrichment score')\n",
    "    temp_kwargs['y_label'] = kwargs.get('y_label', 'Probability density')\n",
    "\n",
    "    # Copy dataframe\n",
    "    df = self.dataframe.copy()\n",
    "\n",
    "    # Chose mode:\n",
    "    if mode == 'mean':\n",
    "        df = df.groupby(by=['Position'], as_index=False).mean()\n",
    "        df['Variant'] = df['Position']  # change of name, makes things easier\n",
    "\n",
    "    # Create figure\n",
    "    fig = px.histogram(data_frame=df, x='Score', histnorm='probability density')\n",
    "\n",
    "    # Style\n",
    "    pio.templates.default = \"plotly_white\"\n",
    "\n",
    "    # UPDATE AXES\n",
    "    fig.update_xaxes(\n",
    "        title_text=temp_kwargs['x_label'],\n",
    "        showline=True,\n",
    "        linewidth=2,\n",
    "        linecolor='black',\n",
    "        ticks=\"outside\",\n",
    "        mirror=True\n",
    "    )\n",
    "    fig.update_yaxes(\n",
    "        title_text=temp_kwargs['y_label'],\n",
    "        showline=True,\n",
    "        linewidth=2,\n",
    "        linecolor='black',\n",
    "        ticks=\"outside\",\n",
    "        mirror=True\n",
    "    )\n",
    "\n",
    "    # Layout and title parameters https://plotly.com/python/figure-labels/\n",
    "    fig.update_layout(\n",
    "        width=temp_kwargs['figsize'][0] * 120,\n",
    "        height=temp_kwargs['figsize'][1] * 120,\n",
    "        font=dict(family=\"Arial, monospace\", size=12, color=\"black\"),\n",
    "        title={\n",
    "            'text': temp_kwargs['title'], 'xanchor': 'center', 'yanchor': 'top',\n",
    "            'x': 0.5\n",
    "        }\n",
    "    )\n",
    "\n",
    "    # save fig to html\n",
    "    _save_html(fig, output_html)\n",
    "\n",
    "    # return plotly object\n",
    "    if temp_kwargs['return_plot_object']:\n",
    "        return fig\n",
    "\n",
    "    if temp_kwargs['show']:\n",
    "        fig.show()"
   ]
  },
  {
   "cell_type": "markdown",
   "metadata": {},
   "source": [
    "## Mean"
   ]
  },
  {
   "cell_type": "code",
   "execution_count": 52,
   "metadata": {
    "execution": {
     "iopub.execute_input": "2020-12-01T04:05:55.939572Z",
     "iopub.status.busy": "2020-12-01T04:05:55.939039Z",
     "iopub.status.idle": "2020-12-01T04:05:55.953464Z",
     "shell.execute_reply": "2020-12-01T04:05:55.951841Z",
     "shell.execute_reply.started": "2020-12-01T04:05:55.939451Z"
    }
   },
   "outputs": [],
   "source": [
    "def plot_mean_plotly(\n",
    "    self, mode='mean', output_html: Union[None, str, Path] = None, **kwargs\n",
    "):\n",
    "    '''\n",
    "    Generate a plotlu mean plot.\n",
    "\n",
    "    Parameters\n",
    "    ----------\n",
    "    self : object from class *Screen*\n",
    "\n",
    "    mode : str, default 'mean'\n",
    "        Specify what enrichment scores to show. If mode = 'mean', it will show the mean of \n",
    "        each position. If mode = 'A', it will show the alanine substitution profile. Can be \n",
    "        used for each amino acid. Use the one-letter code and upper case.\n",
    "        \n",
    "    output_html : str, default None\n",
    "        If you want to export the generated graph into html, add the path and name of the file.\n",
    "        Example: 'path/filename.html'.\n",
    "        \n",
    "    **kwargs : other keyword arguments\n",
    "\n",
    "    Returns\n",
    "    ----------\n",
    "    fig : plotly object\n",
    "\n",
    "    '''\n",
    "    # update kwargs\n",
    "    temp_kwargs = copy.deepcopy(code_kwargs.kwargs())\n",
    "    temp_kwargs.update(kwargs)\n",
    "    temp_kwargs['figsize'] = kwargs.get('figsize', (4.5, 3))\n",
    "    temp_kwargs['x_label'] = kwargs.get('x_label', 'Position')\n",
    "    temp_kwargs['y_label'] = kwargs.get('y_label', 'Enrichment score')\n",
    "    temp_kwargs['title'] = kwargs.get('title', 'Grouped by: {}'.format(mode))\n",
    "\n",
    "    # Chose mode:\n",
    "    df = _select_grouping(self, mode)\n",
    "\n",
    "    # Calculate colors\n",
    "    df['Color'] = df.apply(\n",
    "        code_utils._color_data,\n",
    "        axis=1,\n",
    "        args=(temp_kwargs['color_gof'], temp_kwargs['color_lof'])\n",
    "    )\n",
    "\n",
    "    # Create figure\n",
    "    fig = px.bar(data_frame=df, x='Position', y='Score', color='Color')\n",
    "\n",
    "    # Style\n",
    "    pio.templates.default = \"plotly_white\"\n",
    "\n",
    "    # UPDATE AXES\n",
    "    fig.update_xaxes(\n",
    "        title_text=temp_kwargs['x_label'],\n",
    "        showline=True,\n",
    "        linewidth=2,\n",
    "        linecolor='black',\n",
    "        ticks=\"outside\",\n",
    "        mirror=True\n",
    "    )\n",
    "    fig.update_yaxes(\n",
    "        title_text=temp_kwargs['y_label'],\n",
    "        showline=True,\n",
    "        linewidth=2,\n",
    "        linecolor='black',\n",
    "        ticks=\"outside\",\n",
    "        mirror=True\n",
    "    )\n",
    "\n",
    "    # Color and width of bars\n",
    "    fig.update_traces(marker_line_width=0, )\n",
    "\n",
    "    # Layout and title parameters https://plotly.com/python/figure-labels/\n",
    "    fig.update_layout(\n",
    "        width=temp_kwargs['figsize'][0] * 120,\n",
    "        height=temp_kwargs['figsize'][1] * 120,\n",
    "        showlegend=False,\n",
    "        font=dict(family=\"Arial, monospace\", size=12, color=\"black\"),\n",
    "        title={\n",
    "            'text': temp_kwargs['title'], 'xanchor': 'center', 'yanchor': 'top',\n",
    "            'x': 0.5\n",
    "        }\n",
    "    )\n",
    "\n",
    "    # save fig to html\n",
    "    _save_html(fig, output_html)\n",
    "\n",
    "    # return plotly object\n",
    "    if temp_kwargs['return_plot_object']:\n",
    "        return fig\n",
    "\n",
    "    if temp_kwargs['show']:\n",
    "        fig.show()\n",
    "\n",
    "\n",
    "def _select_grouping(self, mode):\n",
    "    '''\n",
    "    Choose the subset of substitutions based on mode input.\n",
    "    For example, if mode=='A', then return data for Alanine.\n",
    "\n",
    "    '''\n",
    "    # convert to upper case\n",
    "    mode = mode.upper()\n",
    "\n",
    "    # Select grouping\n",
    "    if mode == 'MEAN':\n",
    "        df = self.dataframe.groupby('Position', as_index=False).mean()\n",
    "    else:\n",
    "        df = self.dataframe.loc[self.dataframe['Aminoacid'] == mode].copy()\n",
    "\n",
    "    return df"
   ]
  },
  {
   "cell_type": "markdown",
   "metadata": {},
   "source": [
    "## 3D"
   ]
  },
  {
   "cell_type": "code",
   "execution_count": 20,
   "metadata": {
    "execution": {
     "iopub.execute_input": "2020-12-02T03:26:11.644949Z",
     "iopub.status.busy": "2020-12-02T03:26:11.644666Z",
     "iopub.status.idle": "2020-12-02T03:26:11.673385Z",
     "shell.execute_reply": "2020-12-02T03:26:11.672683Z",
     "shell.execute_reply.started": "2020-12-02T03:26:11.644924Z"
    }
   },
   "outputs": [],
   "source": [
    "def plot_scatter_3D_plotly(\n",
    "    self,\n",
    "    mode='mean',\n",
    "    pdb_path=None,\n",
    "    df_coordinates=None,\n",
    "    position_correction=0,\n",
    "    chain='A',\n",
    "    squared=False,\n",
    "    output_html: Union[None, str, Path] = None,\n",
    "    **kwargs\n",
    "):\n",
    "    \"\"\"\n",
    "    Generates a 3-D scatter plot of the x,y,z coordinates of the C-alpha atoms\n",
    "    of the residues, color coded by the enrichment scores. PDBs may have atoms\n",
    "    missing, you should fix the PDB before using this method. Use matplotlib\n",
    "    for interactive plot.\n",
    "\n",
    "    Parameters\n",
    "    -----------\n",
    "    self : object from class *Screen*\n",
    "        **kwargs : other keyword arguments.\n",
    "\n",
    "    mode : str, default 'mean'\n",
    "        Specify what enrichment scores to use. If mode = 'mean', it will use the mean of\n",
    "        each position to classify the residues. If mode = 'A', it will use the Alanine substitution profile.\n",
    "        Can be used for each amino acid. Use the one-letter code and upper case.\n",
    "\n",
    "    pdb : str, default None\n",
    "        User should specify the path PDB chain.\n",
    "\n",
    "    df_coordinates: pandas dataframe, default None\n",
    "        If no pdb is included, the user must pass the 3-D coordinates of the residues to plot.\n",
    "        In here you have more flexibility and you can select other atoms besides the C-alpha.\n",
    "\n",
    "    position_correction : int, default 0\n",
    "        If the pdb structure has a different numbering of positions than you dataset,\n",
    "        you can correct for that. If your start_position = 2, but in the PDB that same residue\n",
    "        is at position 20, position_correction needs to be set at 18.\n",
    "\n",
    "    chain : str, default 'A'\n",
    "        Chain of the PDB file to get the coordinates and SASA from.\n",
    "\n",
    "    squared : boolean, False\n",
    "        If this parameter is True, the algorithm will center the data, and plot the square value of the\n",
    "        distance.\n",
    "\n",
    "    output_html : str, default None\n",
    "        If you want to export the generated graph into html, add the path and name of the file.\n",
    "        Example: 'path/filename.html'.\n",
    "\n",
    "    **kwargs : other keyword arguments\n",
    "\n",
    "    Returns\n",
    "    ---------\n",
    "    fig : plotly object\n",
    "\n",
    "    \"\"\"\n",
    "\n",
    "    # update kwargs\n",
    "    temp_kwargs = copy.deepcopy(code_kwargs.kwargs())\n",
    "    temp_kwargs.update(kwargs)\n",
    "\n",
    "    # Get Scores and colors\n",
    "    df = _color_3D_scatter(\n",
    "        self.dataframe, mode, temp_kwargs['lof'], temp_kwargs['gof']\n",
    "    )\n",
    "\n",
    "    # If coordinates is not an input, get it from the pdb\n",
    "    if df_coordinates is None:\n",
    "        df_coordinates = _parse_pdbcoordinates(\n",
    "            self, pdb_path, position_correction, chain\n",
    "        )\n",
    "\n",
    "    # Plot figure\n",
    "    x, y, z = ('x', 'y', 'z')\n",
    "    if squared is True:\n",
    "        x, y, z = ('x_cent', 'y_cent', 'z_cent')\n",
    "    fig = px.scatter_3d(\n",
    "        df_coordinates,\n",
    "        x=x,\n",
    "        y=y,\n",
    "        z=z,\n",
    "        color=df['Score'],\n",
    "        color_continuous_scale=_matplotlib_to_plotly(temp_kwargs['colormap'], ),\n",
    "        range_color=temp_kwargs['colorbar_scale']\n",
    "    )\n",
    "\n",
    "    # update axes\n",
    "    fig = _update_axes(fig, temp_kwargs)\n",
    "\n",
    "    # for the clickable part\n",
    "    fig.update_traces(\n",
    "        hovertext=df['Position'], hovertemplate='Position: %{hovertext}'\n",
    "    )\n",
    "    # title\n",
    "    fig = _update_title(fig, temp_kwargs)\n",
    "\n",
    "    # save fig to html\n",
    "    _save_html(fig, output_html)\n",
    "\n",
    "    # return plotly object\n",
    "    if temp_kwargs['return_plot_object']:\n",
    "        return fig\n",
    "\n",
    "    # show only if asked\n",
    "    if temp_kwargs['show']:\n",
    "        fig.show()\n",
    "\n",
    "\n",
    "def _update_title(fig, temp_kwargs):\n",
    "    fig.update_layout(\n",
    "        font=dict(family=\"Arial, monospace\", size=12, color=\"black\"),\n",
    "        title={\n",
    "            'text': temp_kwargs['title'], 'xanchor': 'center', 'yanchor': 'top',\n",
    "            'x': 0.5\n",
    "        },\n",
    "        coloraxis_colorbar=dict(title=\"Enrichment Score\")  # colorbar\n",
    "    )\n",
    "    return fig\n",
    "\n",
    "\n",
    "def _update_axes(fig, temp_kwargs):\n",
    "    '''Separeated this portion of the code because it is clumsy. It changes the\n",
    "    axes looks.'''\n",
    "    # Layout and title parameters https://plotly.com/python/figure-labels/\n",
    "    fig.update_layout(\n",
    "        scene=dict(\n",
    "            xaxis=dict(\n",
    "                title_text=temp_kwargs['x_label'],\n",
    "                showline=True,\n",
    "                linewidth=2,\n",
    "                linecolor='black',\n",
    "                ticks=\"outside\",\n",
    "                mirror=True,\n",
    "                backgroundcolor='#9467bd',\n",
    "            ),\n",
    "            yaxis=dict(\n",
    "                title_text=temp_kwargs['y_label'],\n",
    "                showline=True,\n",
    "                linewidth=2,\n",
    "                linecolor='black',\n",
    "                ticks=\"outside\",\n",
    "                mirror=True,\n",
    "                backgroundcolor='#9467bd',\n",
    "            ),\n",
    "            zaxis=dict(\n",
    "                title_text=temp_kwargs['z_label'],\n",
    "                showline=True,\n",
    "                linewidth=2,\n",
    "                linecolor='black',\n",
    "                ticks=\"outside\",\n",
    "                mirror=True,\n",
    "                backgroundcolor='#9467bd',  #change the color of axis\n",
    "            )\n",
    "        )\n",
    "    )\n",
    "    return fig"
   ]
  },
  {
   "cell_type": "markdown",
   "metadata": {},
   "source": [
    "# PDB properties"
   ]
  },
  {
   "cell_type": "code",
   "execution_count": 5,
   "metadata": {
    "execution": {
     "iopub.execute_input": "2020-11-26T19:31:18.819182Z",
     "iopub.status.busy": "2020-11-26T19:31:18.818279Z",
     "iopub.status.idle": "2020-11-26T19:31:18.832047Z",
     "shell.execute_reply": "2020-11-26T19:31:18.831158Z",
     "shell.execute_reply.started": "2020-11-26T19:31:18.819153Z"
    }
   },
   "outputs": [],
   "source": [
    "def plot_scatter_3D_pdbprop_plotly(\n",
    "    self,\n",
    "    plot=['Distance', 'SASA', 'B-factor'],\n",
    "    mode='mean',\n",
    "    pdb_path=None,\n",
    "    custom=None,\n",
    "    position_correction=0,\n",
    "    chain='A',\n",
    "    output_df=False,\n",
    "    output_html: Union[None, str, Path] = None,\n",
    "    **kwargs\n",
    "):\n",
    "    \"\"\"\n",
    "    Generates a 3-D scatter plot of different properties obtained from the PDB.\n",
    "    PDBs may have atoms missing, you should fix the PDB before using this\n",
    "    method. We recommend you use matplotlib for interactive plot.\n",
    "\n",
    "    Parameters\n",
    "    -----------\n",
    "    self : object from class *Screen*\n",
    "        **kwargs : other keyword arguments.\n",
    "\n",
    "    plot : list, default ['Distance', 'SASA', 'B-factor']\n",
    "        List of 3 elements to plot. Other options are 'Score' and Custom. If custom, add the\n",
    "        label to the third element of the list ie ['Distance', 'SASA', 'Conservation'].\n",
    "\n",
    "    mode : str, default 'mean'\n",
    "        Specify what enrichment scores to use. If mode = 'mean', it will use the mean of\n",
    "        each position to classify the residues. If mode = 'A', it will use the Alanine substitution profile. \n",
    "        Can be used for each amino acid. Use the one-letter code and upper case.\n",
    "\n",
    "    pdb_path : str, default None\n",
    "        User should specify the path PDB.\n",
    "\n",
    "    custom : list or dataframe or np.array, default None\n",
    "        If you want to add a custom dataset to plot, use custom. On the parameter\n",
    "        plot, the 3rd item of the list will be the label for your custom dataset.\n",
    "\n",
    "    df_color : pandas dataframe, default None\n",
    "        The color of each residue can also be included. You must label that label column.\n",
    "\n",
    "    color_by_score : boolean, default True\n",
    "        If set to False, the points in the scatter will not be colored based on the enrichment score.\n",
    "\n",
    "    position_correction : int, default 0\n",
    "        If the pdb structure has a different numbering of positions than you dataset,\n",
    "        you can correct for that. If your start_position = 2, but in the PDB that same residue\n",
    "        is at position 20, position_correction needs to be set at 18.\n",
    "\n",
    "    chain : str, default 'A'\n",
    "        Chain of the PDB file to get the coordinates and SASA from.\n",
    "\n",
    "    output_df : boolean, default False\n",
    "        If true, this method will return the dataframe with the data.\n",
    "        Set return_plot_object for this to work.\n",
    "\n",
    "    output_html : str, default None\n",
    "        If you want to export the generated graph into html, add the path and name of the file.\n",
    "        Example: 'path/filename.html'.\n",
    "\n",
    "    **kwargs : other keyword arguments\n",
    "\n",
    "    Returns\n",
    "    ---------\n",
    "    fig : plotly object\n",
    "\n",
    "    df_items : pandas dataframe\n",
    "        Contains the plotted data. Needs to have output_df set to true.\n",
    "\n",
    "    \"\"\"\n",
    "    # Update kwargs\n",
    "    temp_kwargs = copy.deepcopy(code_kwargs.kwargs())\n",
    "    temp_kwargs.update(kwargs)\n",
    "    temp_kwargs['x_label'] = kwargs.get('x_label', plot[0])\n",
    "    temp_kwargs['y_label'] = kwargs.get('y_label', plot[1])\n",
    "    temp_kwargs['z_label'] = kwargs.get('z_label', plot[2])\n",
    "\n",
    "    # Get Scores and colors\n",
    "    df_scores = _color_3D_scatter(\n",
    "        self.dataframe, mode, temp_kwargs['lof'], temp_kwargs['gof']\n",
    "    )\n",
    "\n",
    "    # If coordinates is not an input, get it from the pdb\n",
    "    df_items = _parse_pdbcoordinates(\n",
    "        self, pdb_path, position_correction, chain, sasa=True\n",
    "    )\n",
    "\n",
    "    # Add scores\n",
    "    df_items['Score'] = list(df_scores['Score'])\n",
    "\n",
    "    # Custom data\n",
    "    if custom is not None:\n",
    "        df_items[plot[2]] = custom\n",
    "\n",
    "        # Plot figure\n",
    "    fig = px.scatter_3d(\n",
    "        df_items,\n",
    "        x=plot[0],\n",
    "        y=plot[1],\n",
    "        z=plot[2],\n",
    "        color='Score',\n",
    "        color_continuous_scale=_matplotlib_to_plotly(temp_kwargs['colormap'], ),\n",
    "        range_color=temp_kwargs['colorbar_scale'],\n",
    "    )\n",
    "\n",
    "    # update axes\n",
    "    fig = _update_axes(fig, temp_kwargs)\n",
    "\n",
    "    # for the clickable part\n",
    "    fig.update_traces(\n",
    "        hovertext=df_items['Position'], hovertemplate='Position: %{hovertext}'\n",
    "    )\n",
    "    # title\n",
    "    fig = _update_title(fig, temp_kwargs)\n",
    "\n",
    "    # save fig to html\n",
    "    _save_html(fig, output_html)\n",
    "\n",
    "    # return plotly object\n",
    "    if temp_kwargs['return_plot_object']:\n",
    "        return fig\n",
    "\n",
    "    # show only if asked\n",
    "    if temp_kwargs['show']:\n",
    "        fig.show()\n",
    "\n",
    "    if output_df:\n",
    "        return df_items, df_scores"
   ]
  },
  {
   "cell_type": "markdown",
   "metadata": {},
   "source": [
    "## Aux functions (stolen from code_3D)"
   ]
  },
  {
   "cell_type": "code",
   "execution_count": 23,
   "metadata": {
    "execution": {
     "iopub.execute_input": "2020-12-02T03:26:25.798319Z",
     "iopub.status.busy": "2020-12-02T03:26:25.798126Z",
     "iopub.status.idle": "2020-12-02T03:26:25.813099Z",
     "shell.execute_reply": "2020-12-02T03:26:25.812386Z",
     "shell.execute_reply.started": "2020-12-02T03:26:25.798300Z"
    }
   },
   "outputs": [],
   "source": [
    "def _color_3D_scatter(df, mode, lof, gof):\n",
    "    \"\"\"\n",
    "    Color the data points by enrichment scores.\n",
    "\n",
    "    Parameters\n",
    "    -----------\n",
    "    df : pandas dataframe\n",
    "        The input is a dataframe that has colum with ['Position', 'Aminoacid', 'Score'].\n",
    "\n",
    "    mode : str\n",
    "        Specify what enrichment scores to use. If mode = 'mean', it will use the mean of\n",
    "        each position to classify the residues. If mode = 'A', it will use the Alanine substitution profile.\n",
    "        Can be used for each amino acid. Use the one-letter code and upper case.\n",
    "\n",
    "    gof : int, default is 1\n",
    "        cutoff for determining gain of function mutations based on mutagenesis data.\n",
    "\n",
    "    lof : int, default is -1\n",
    "        cutoff for determining loss of function mutations based on mutagenesis data.\n",
    "\n",
    "    Returns\n",
    "    ---------\n",
    "    df_grouped: pandas dataframe\n",
    "        New dataframe with added column of ['Color'] and the ['Score'] values of the\n",
    "        mode you chose.\n",
    "\n",
    "    \"\"\"\n",
    "\n",
    "    # Copy df\n",
    "    df_grouped = df.copy()\n",
    "\n",
    "    # Select grouping.\n",
    "    if mode == 'mean':\n",
    "        df_grouped = df_grouped.groupby(['Position'], as_index=False).mean()\n",
    "    else:\n",
    "        df_grouped = df_grouped.loc[df_grouped['Aminoacid'] == mode]\n",
    "\n",
    "    # Select colors based on Score values\n",
    "    df_grouped['Color'] = 'green'\n",
    "    df_grouped.loc[df_grouped['Score'] < lof, 'Color'] = 'blue'\n",
    "    df_grouped.loc[df_grouped['Score'] > gof, 'Color'] = 'red'\n",
    "\n",
    "    return df_grouped\n",
    "\n",
    "\n",
    "def _centroid(df):\n",
    "    '''\n",
    "    Find center of x,y,z using centroid method. \n",
    "    The input is a dataframe with columns x, y, z.\n",
    "    Returns the center of each of the three dimensions\n",
    "    '''\n",
    "    return df['x'].mean(), df['y'].mean(), df['z'].mean()\n",
    "\n",
    "\n",
    "def _parse_pdbcoordinates(\n",
    "    self, pdb_path, position_correction, chain, sasa=False\n",
    "):\n",
    "    '''parse coordinate of CA atoms. Will also return the bfactor and SASA using freesasa.\n",
    "    If PDB is missing atoms, it can handle it.'''\n",
    "\n",
    "    # Get structure from PDB\n",
    "    structure = PDBParser().get_structure('pdb', pdb_path)\n",
    "\n",
    "    coordinates = []\n",
    "    commands = []\n",
    "    bfactors = []\n",
    "    positions_worked = []  # positions present in pdb\n",
    "\n",
    "    # Iterate over each CA atom and geet coordinates\n",
    "    for i in np.arange(self.start_position + position_correction,\n",
    "                       self.end_position + position_correction):\n",
    "        # first check if atom exists\n",
    "        try:\n",
    "            structure[0][chain][int(i)].has_id(\"CA\")\n",
    "            # Get atom from pdb and geet coordinates\n",
    "            atom = list(structure[0][chain][int(i)][\"CA\"].get_vector()) + [i]\n",
    "            coordinates.append(atom)\n",
    "            # Get SASA command for each residue and bfactor\n",
    "            residue = \"s{}, chain {} and resi {}\".format(str(i), chain, str(i))\n",
    "            commands.append(residue)\n",
    "            bfactor = (structure[0][chain][int(i)][\"CA\"].get_bfactor())\n",
    "            bfactors.append(np.log10(bfactor))\n",
    "            positions_worked.append(i)\n",
    "        except:\n",
    "            print(\"residue {} not found\".format(str(i)))\n",
    "            coordinates.append([np.nan, np.nan, np.nan, i])\n",
    "\n",
    "    # Convert to df\n",
    "    df_coordinates = pd.DataFrame(\n",
    "        columns=['x', 'y', 'z', 'Position'], data=coordinates\n",
    "    )\n",
    "\n",
    "    # Center data\n",
    "    x, y, z = _centroid(df_coordinates)\n",
    "    df_coordinates['x_cent'] = (df_coordinates['x'] - x).abs()**2\n",
    "    df_coordinates['y_cent'] = (df_coordinates['y'] - y).abs()**2\n",
    "    df_coordinates['z_cent'] = (df_coordinates['z'] - z).abs()**2\n",
    "    df_coordinates['Distance'] = df_coordinates['x_cent'] + \\\n",
    "        df_coordinates['y_cent']+df_coordinates['z_cent']\n",
    "\n",
    "    # Add sasa values\n",
    "    if sasa:\n",
    "        # Get structure for SASA\n",
    "        structure_sasa = freesasa.Structure(pdb_path)\n",
    "        result = freesasa.calc(structure_sasa)\n",
    "        # Calculate sasa\n",
    "        sasa = freesasa.selectArea(commands, structure_sasa, result)\n",
    "        df_sasa = pd.DataFrame(columns=['SASA'], data=sasa.values())\n",
    "        df_sasa['log B-factor'] = bfactors\n",
    "        df_sasa['Position'] = positions_worked\n",
    "\n",
    "        # Merge\n",
    "        df_coordinates = df_coordinates.merge(\n",
    "            df_sasa, how='outer', on='Position'\n",
    "        )\n",
    "\n",
    "    return df_coordinates\n",
    "\n",
    "\n",
    "def _matplotlib_to_plotly(cmap, pl_entries=255):\n",
    "    '''convert a matplotlib colorscale into plotly rgb format'''\n",
    "    h = 1.0 / (pl_entries - 1)\n",
    "    pl_colorscale = []\n",
    "\n",
    "    for k in range(pl_entries):\n",
    "        C = list(map(np.uint8, np.array(cmap(k * h)[:3]) * 255))\n",
    "        pl_colorscale.append([k * h, 'rgb' + str((C[0], C[1], C[2]))])\n",
    "\n",
    "    return pl_colorscale"
   ]
  },
  {
   "cell_type": "code",
   "execution_count": null,
   "metadata": {},
   "outputs": [],
   "source": []
  }
 ],
 "metadata": {
  "kernelspec": {
   "display_name": "Python 3",
   "language": "python",
   "name": "python3"
  },
  "language_info": {
   "codemirror_mode": {
    "name": "ipython",
    "version": 3
   },
   "file_extension": ".py",
   "mimetype": "text/x-python",
   "name": "python",
   "nbconvert_exporter": "python",
   "pygments_lexer": "ipython3",
   "version": "3.8.3"
  },
  "toc": {
   "base_numbering": 1,
   "nav_menu": {},
   "number_sections": true,
   "sideBar": true,
   "skip_h1_title": false,
   "title_cell": "Table of Contents",
   "title_sidebar": "Contents",
   "toc_cell": false,
   "toc_position": {
    "height": "100px",
    "left": "21px",
    "top": "69.2px",
    "width": "165px"
   },
   "toc_section_display": true,
   "toc_window_display": true
  },
  "toc-autonumbering": true,
  "toc-showcode": false,
  "varInspector": {
   "cols": {
    "lenName": 16,
    "lenType": 16,
    "lenVar": 40
   },
   "kernels_config": {
    "python": {
     "delete_cmd_postfix": "",
     "delete_cmd_prefix": "del ",
     "library": "var_list.py",
     "varRefreshCmd": "print(var_dic_list())"
    },
    "r": {
     "delete_cmd_postfix": ") ",
     "delete_cmd_prefix": "rm(",
     "library": "var_list.r",
     "varRefreshCmd": "cat(var_dic_list()) "
    }
   },
   "oldHeight": 122.4,
   "position": {
    "height": "423.4px",
    "left": "944.6px",
    "right": "20px",
    "top": "119px",
    "width": "315.4px"
   },
   "types_to_exclude": [
    "module",
    "function",
    "builtin_function_or_method",
    "instance",
    "_Feature"
   ],
   "varInspector_section_display": "block",
   "window_display": false
  }
 },
 "nbformat": 4,
 "nbformat_minor": 4
}
