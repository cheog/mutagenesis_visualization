{
 "cells": [
  {
   "cell_type": "markdown",
   "metadata": {},
   "source": [
    "# Import Modules"
   ]
  },
  {
   "cell_type": "code",
   "execution_count": 2,
   "metadata": {
    "ExecuteTime": {
     "end_time": "2020-10-12T22:36:10.914292Z",
     "start_time": "2020-10-12T22:36:06.031777Z"
    },
    "execution": {
     "iopub.execute_input": "2020-12-01T03:43:44.792492Z",
     "iopub.status.busy": "2020-12-01T03:43:44.792149Z",
     "iopub.status.idle": "2020-12-01T03:43:46.783336Z",
     "shell.execute_reply": "2020-12-01T03:43:46.782016Z",
     "shell.execute_reply.started": "2020-12-01T03:43:44.792458Z"
    }
   },
   "outputs": [
    {
     "name": "stdout",
     "output_type": "stream",
     "text": [
      "importing Jupyter notebook from code_kwargs.ipynb\n",
      "importing Jupyter notebook from code_utils.ipynb\n"
     ]
    }
   ],
   "source": [
    "import numpy as np\n",
    "import pandas as pd\n",
    "import copy\n",
    "from os import path\n",
    "import os\n",
    "from pathlib import Path\n",
    "from typing import Union\n",
    "import plotly.express as px\n",
    "import plotly.io as pio\n",
    "import plotly.graph_objects as go\n",
    "from Bio.PDB import PDBParser\n",
    "import freesasa\n",
    "\n",
    "# local modules\n",
    "try:\n",
    "    import mutagenesis_visualization.main.scripts.code_kwargs as code_kwargs\n",
    "    import mutagenesis_visualization.main.scripts.code_utils as code_utils\n",
    "except ModuleNotFoundError:\n",
    "    import import_notebook\n",
    "    import code_kwargs\n",
    "    import code_utils"
   ]
  },
  {
   "cell_type": "markdown",
   "metadata": {},
   "source": [
    "# Plotly plots"
   ]
  },
  {
   "cell_type": "markdown",
   "metadata": {},
   "source": [
    "## Rank"
   ]
  },
  {
   "cell_type": "code",
   "execution_count": 12,
   "metadata": {
    "ExecuteTime": {
     "end_time": "2020-10-12T23:15:41.370822Z",
     "start_time": "2020-10-12T23:15:41.359971Z"
    },
    "execution": {
     "iopub.execute_input": "2020-12-01T03:52:49.312173Z",
     "iopub.status.busy": "2020-12-01T03:52:49.311853Z",
     "iopub.status.idle": "2020-12-01T03:52:49.324737Z",
     "shell.execute_reply": "2020-12-01T03:52:49.323545Z",
     "shell.execute_reply.started": "2020-12-01T03:52:49.312151Z"
    }
   },
   "outputs": [],
   "source": [
    "def plot_rank_plotly(\n",
    "    self,\n",
    "    mode='pointmutant',\n",
    "    outdf=False,\n",
    "    output_html: Union[None, str, Path] = None,\n",
    "    **kwargs\n",
    "):\n",
    "    '''\n",
    "    Generate a plotly rank plot so every mutation/residue is sorted based \n",
    "    on enrichment score.\n",
    "\n",
    "    Parameters\n",
    "    ----------\n",
    "    self : object from class *Screen*\n",
    "\n",
    "    mode : str, default 'pointmutant'. \n",
    "        Alternative set to \"mean\" for the mean of each position.\n",
    "\n",
    "    outdf : boolean, default False\n",
    "        If set to true, will return the df with the rank of mutations.\n",
    "        \n",
    "    output_html : str, default None\n",
    "        If you want to export the generated graph into html, add the path and name of the file.\n",
    "        Example: 'path/filename.html'.\n",
    "        \n",
    "    **kwargs : other keyword arguments\n",
    "\n",
    "    Returns\n",
    "    ----------\n",
    "    df : Pandas dataframe\n",
    "    fig : plotly object\n",
    "\n",
    "    '''\n",
    "    # update kwargs\n",
    "    temp_kwargs = copy.deepcopy(code_kwargs.kwargs())\n",
    "    temp_kwargs.update(kwargs)\n",
    "    temp_kwargs['figsize'] = kwargs.get('figsize', (4, 3))\n",
    "    temp_kwargs['x_label'] = kwargs.get('x_label', 'Rank')\n",
    "    temp_kwargs['y_label'] = kwargs.get('y_label', r'$∆E^i_x$')\n",
    "\n",
    "    # Sort by enrichment scores\n",
    "    df = self.dataframe.sort_values(by=['Score']).copy()\n",
    "\n",
    "    # Chose mode:\n",
    "    if mode == 'mean':\n",
    "        df = df.groupby(by=['Position'], as_index=False).mean()\n",
    "        df.sort_values(by=['Score'], inplace=True)\n",
    "        df['Variant'] = df['Position']\n",
    "\n",
    "    # Create figure\n",
    "    fig = px.scatter(\n",
    "        x=np.arange(len(df), 0, -1), y=df['Score'], text=df['Variant']\n",
    "    )\n",
    "\n",
    "    # Style\n",
    "    pio.templates.default = \"plotly_white\"\n",
    "\n",
    "    # Axes https://plotly.com/python/axes/\n",
    "    fig.update_traces(\n",
    "        mode=\"markers\",\n",
    "        hovertemplate=\n",
    "        'Position: %{x}<br>Score: %{y}<br>Variant: %{text}<extra></extra>'\n",
    "    )\n",
    "    fig.update_xaxes(\n",
    "        title_text=temp_kwargs['x_label'],\n",
    "        showline=True,\n",
    "        linewidth=2,\n",
    "        linecolor='black',\n",
    "        ticks=\"outside\",\n",
    "        mirror=True\n",
    "    )\n",
    "    fig.update_yaxes(\n",
    "        title_text=temp_kwargs['y_label'],\n",
    "        showline=True,\n",
    "        linewidth=2,\n",
    "        linecolor='black',\n",
    "        ticks=\"outside\",\n",
    "        mirror=True\n",
    "    )\n",
    "\n",
    "    # Layout and title parameters https://plotly.com/python/figure-labels/\n",
    "    fig.update_layout(\n",
    "        width=temp_kwargs['figsize'][0] * 120,\n",
    "        height=temp_kwargs['figsize'][1] * 120,\n",
    "        font=dict(family=\"Arial, monospace\", size=12, color=\"black\"),\n",
    "        title={\n",
    "            'text': temp_kwargs['title'], 'xanchor': 'center', 'yanchor': 'top',\n",
    "            'x': 0.5\n",
    "        }\n",
    "    )\n",
    "\n",
    "    # save fig to html\n",
    "    _save_html(fig, output_html)\n",
    "\n",
    "    # return plotly object\n",
    "    if temp_kwargs['return_plot_object']:\n",
    "        return fig\n",
    "\n",
    "    if temp_kwargs['show']:\n",
    "        fig.show()\n",
    "\n",
    "    # return dataframe\n",
    "    if outdf:\n",
    "        return df\n",
    "\n",
    "\n",
    "# save file html\n",
    "def _save_html(fig, output_html):\n",
    "    '''save to html'''\n",
    "    if output_html:\n",
    "        fig.write_html(str(Path(output_html)))"
   ]
  },
  {
   "cell_type": "markdown",
   "metadata": {},
   "source": [
    "## Scatter"
   ]
  },
  {
   "cell_type": "code",
   "execution_count": 13,
   "metadata": {
    "execution": {
     "iopub.execute_input": "2020-12-01T03:52:50.049963Z",
     "iopub.status.busy": "2020-12-01T03:52:50.049738Z",
     "iopub.status.idle": "2020-12-01T03:52:50.068046Z",
     "shell.execute_reply": "2020-12-01T03:52:50.067096Z",
     "shell.execute_reply.started": "2020-12-01T03:52:50.049942Z"
    }
   },
   "outputs": [],
   "source": [
    "def plot_scatter_plotly(\n",
    "    self,\n",
    "    obj2,\n",
    "    mode='pointmutant',\n",
    "    show_results=False,\n",
    "    output_html: Union[None, str, Path] = None,\n",
    "    **kwargs\n",
    "):\n",
    "    '''\n",
    "    Generate a scatter plot between object and a second object of the \n",
    "    same class.\n",
    "\n",
    "    Parameters\n",
    "    ----------\n",
    "    self : object from class *Screen*\n",
    "\n",
    "    obj2 : object from class *Screen* to do the scatter with\n",
    "\n",
    "    mode : str, default 'pointmutant'. \n",
    "        Alternative set to \"mean\" for the mean of each position.\n",
    "    \n",
    "    show_results : boolean, default False\n",
    "        If set to true, will export the details of the linear fit.\n",
    "        \n",
    "    output_html : str, default None\n",
    "        If you want to export the generated graph into html, add \n",
    "        the path and name of the file. Example: 'path/filename.html'.\n",
    "        \n",
    "    **kwargs : other keyword arguments\n",
    "\n",
    "    Returns\n",
    "    ----------\n",
    "    fig : plotly object\n",
    "\n",
    "    '''\n",
    "\n",
    "    # update kwargs\n",
    "    temp_kwargs = copy.deepcopy(code_kwargs.kwargs())\n",
    "    temp_kwargs.update(kwargs)\n",
    "    temp_kwargs['figsize'] = kwargs.get('figsize', (4, 3))\n",
    "\n",
    "    # Chose mode:\n",
    "    if mode == 'pointmutant':\n",
    "        df = code_utils._process_bypointmutant(self, obj2)\n",
    "    else:\n",
    "        df = code_utils._process_meanresidue(self, obj2)\n",
    "        df['Variant'] = df['Position']\n",
    "\n",
    "    # Style\n",
    "    pio.templates.default = \"plotly_white\"\n",
    "\n",
    "    # create figure\n",
    "    fig = px.scatter(\n",
    "        x=df['dataset_1'],\n",
    "        y=df['dataset_2'],\n",
    "        trendline=\"ols\",\n",
    "        trendline_color_override=\"red\"\n",
    "    )\n",
    "\n",
    "    # Titles\n",
    "    # hide text labels\n",
    "    fig.update_traces(\n",
    "        hovertext=df['Variant'],\n",
    "        hovertemplate=\n",
    "        'Position: %{x}<br>Score: %{y}<br>Variant: %{hovertext}<extra></extra>'\n",
    "    )\n",
    "    fig.update_xaxes(\n",
    "        title_text=temp_kwargs['x_label'],\n",
    "        showline=True,\n",
    "        linewidth=2,\n",
    "        linecolor='black',\n",
    "        ticks=\"outside\",\n",
    "        mirror=True\n",
    "    )\n",
    "    fig.update_yaxes(\n",
    "        title_text=temp_kwargs['y_label'],\n",
    "        showline=True,\n",
    "        linewidth=2,\n",
    "        linecolor='black',\n",
    "        ticks=\"outside\",\n",
    "        mirror=True\n",
    "    )\n",
    "\n",
    "    # Layout and title parameters https://plotly.com/python/figure-labels/\n",
    "    fig.update_layout(\n",
    "        width=temp_kwargs['figsize'][0] * 120,\n",
    "        height=temp_kwargs['figsize'][1] * 120,\n",
    "        font=dict(family=\"Arial, monospace\", size=12, color=\"black\"),\n",
    "        title={\n",
    "            'text': temp_kwargs['title'], 'xanchor': 'center', 'yanchor': 'top',\n",
    "            'x': 0.5\n",
    "        }\n",
    "    )\n",
    "\n",
    "    if show_results:\n",
    "        px.get_trendline_results(fig).px_fit_results.iloc[0].summary()\n",
    "\n",
    "    # save fig to html\n",
    "    _save_html(fig, output_html)\n",
    "\n",
    "    # return plotly object\n",
    "    if temp_kwargs['return_plot_object']:\n",
    "        return fig\n",
    "\n",
    "    if temp_kwargs['show']:\n",
    "        fig.show()"
   ]
  },
  {
   "cell_type": "markdown",
   "metadata": {},
   "source": [
    "## Histogram"
   ]
  },
  {
   "cell_type": "code",
   "execution_count": 3,
   "metadata": {
    "execution": {
     "iopub.execute_input": "2020-12-01T03:43:59.612855Z",
     "iopub.status.busy": "2020-12-01T03:43:59.612485Z",
     "iopub.status.idle": "2020-12-01T03:44:02.262943Z",
     "shell.execute_reply": "2020-12-01T03:44:02.262296Z",
     "shell.execute_reply.started": "2020-12-01T03:43:59.612823Z"
    }
   },
   "outputs": [],
   "source": [
    "'''try:\n",
    "    import mutagenesis_visualization as mut\n",
    "except ModuleNotFoundError:  # This step is only for when I run the notebooks locally\n",
    "    import sys\n",
    "    sys.path.append('../../../')\n",
    "    import mutagenesis_visualization as mut'''"
   ]
  },
  {
   "cell_type": "code",
   "execution_count": 25,
   "metadata": {
    "execution": {
     "iopub.execute_input": "2020-12-01T02:37:59.959869Z",
     "iopub.status.busy": "2020-12-01T02:37:59.959637Z",
     "iopub.status.idle": "2020-12-01T02:38:00.417063Z",
     "shell.execute_reply": "2020-12-01T02:38:00.414828Z",
     "shell.execute_reply.started": "2020-12-01T02:37:59.959840Z"
    }
   },
   "outputs": [
    {
     "data": {
      "application/vnd.plotly.v1+json": {
       "config": {
        "plotlyServerURL": "https://plot.ly"
       },
       "data": [
        {
         "alignmentgroup": "True",
         "bingroup": "x",
         "histnorm": "probability density",
         "hovertemplate": "Score=%{x}<br>count=%{y}<extra></extra>",
         "legendgroup": "",
         "marker": {
          "color": "#636efa"
         },
         "name": "",
         "offsetgroup": "",
         "orientation": "v",
         "showlegend": false,
         "type": "histogram",
         "x": [
          -0.05903827253797709,
          -0.5225775011012225,
          -0.15207832133694926,
          -0.2879200102066062,
          -0.968849715535961,
          -0.5167499134664589,
          -0.8320388905988028,
          -0.5769300311141693,
          -1.4894001814628053,
          -0.15166116633623386,
          0.14278455763886067,
          0.09305950125540982,
          -0.30458876599820134,
          -1.4916512047308719,
          -1.4288636270603186,
          -1.4248180637255714,
          -0.6022202819075158,
          -0.5462688888125455,
          -0.6140722732344068,
          -0.6620679159013149,
          -0.037867137389863005,
          -0.06554640528888933,
          -0.23527158997240286,
          -0.1876129052474586,
          -0.04473533603748429,
          0.01160341436813343,
          -0.7996435397219404,
          -0.16491592326304255,
          -0.1447744571279137,
          -0.5714334518272783,
          -0.6994607559597122,
          -0.7509396198479558,
          -0.8100243912641745,
          -1.5237087866594032,
          -0.8101565563767714,
          -0.9338114884950672,
          -1.3988809254855517,
          -0.4476331537649112,
          -1.5315986996348896,
          -0.364138372644266,
          0.1448236118245423,
          -0.05444913173863911,
          -0.00899047919801917,
          -0.05408999348816301,
          -0.1687109205440554,
          -0.045220123634810844,
          -0.15352197331252976,
          -0.04637244849262488,
          -0.07819253363866288,
          -0.042558972673865395,
          0.03483998101997836,
          -0.6328640251955091,
          -0.8430463649745124,
          -0.9102638165572804,
          -0.10479067285166152,
          -1.2031690174741603,
          -0.6237641159677227,
          -0.4483472953034349,
          -0.7157252623186351,
          0.2692310941338419,
          0.24953916266662168,
          0.36624867741571765,
          0.04305641105294954,
          -0.06425465917786433,
          0.03222344013692989,
          0.07915581455236487,
          0.19440121261124663,
          -0.2870355702667083,
          -0.06610540201565286,
          0.04557990832323366,
          -0.03573242166793937,
          -0.019149969689934914,
          0.09569791650796321,
          -0.16964376878370163,
          -0.15194587593043724,
          -0.5933927881989277,
          -0.8235671284571877,
          -0.8000188172376967,
          -0.5705855735441543,
          -0.7933341094090085,
          -0.6917923578014902,
          -0.2636997667036015,
          0.09931081203035158,
          -0.13467836838853786,
          -0.35414899646215914,
          0.03520778499329081,
          -0.17144646138666858,
          -0.3667700125738137,
          -0.3903896612713436,
          -0.11144205691475202,
          0.10091352815529356,
          -0.7178712644751598,
          -0.00812574292538934,
          -0.005472354753945382,
          -0.09798642395849004,
          -0.1203870570774412,
          -0.2871022857966684,
          0.08480618273715824,
          -0.7389294152701478,
          -0.26177320504488755,
          -0.3124301024640672,
          -0.13094653007152288,
          -0.16806679508691272,
          -0.016490738717658552,
          -0.04070800656178435,
          0.007177465347986614,
          -0.019220084975432938,
          -0.3739956225882569,
          -0.28041247646655265,
          -0.8110091586908963,
          -1.077901827555794,
          -0.9006211468206218,
          -1.1035830374816382,
          -0.5241636558814493,
          -0.43902165567941964,
          0.16352592770948396,
          -0.10065501753724163,
          -0.8317964476331131,
          0.30942234697442256,
          -0.02712689985532992,
          -0.012630002592404191,
          0.07570049786050179,
          -0.0525107552632614,
          -0.0011599790236551234,
          -0.06187016175735145,
          -0.05090338418285334,
          0.03404288560478748,
          -0.07779662103732529,
          -0.19301990224872778,
          -0.11121734862457036,
          -0.21118718535117204,
          -0.24491360854637417,
          -0.49027256481713055,
          -0.14426369285921817,
          -0.04229913167138789,
          -0.16702180087879043,
          -0.497516168249049,
          -0.4050993458428893,
          -0.2330245062500808,
          -0.7825442163064669,
          -0.4352936714225567,
          -0.5481748411908344,
          -0.5120381301596725,
          -0.06624610236135968,
          -0.6929142086134531,
          0.2688968590805122,
          0.0429739483130473,
          0.2744036579056251,
          -0.06788660628173204,
          -0.06626715246491684,
          0.00012053481518156106,
          -0.018461763323689647,
          -0.22876547066840902,
          -0.5082528286033925,
          -0.6342567262831171,
          0.17209152232445243,
          -0.03454100094202571,
          -0.8908822663734455,
          -0.4882233175375396,
          -0.09069036517019705,
          -0.037950113697305575,
          -0.45958971907022556,
          0.0072754541074519,
          -0.1212153128028041,
          0.10955120257807131
         ],
         "xaxis": "x",
         "yaxis": "y"
        }
       ],
       "layout": {
        "barmode": "relative",
        "font": {
         "color": "black",
         "family": "Arial, monospace",
         "size": 12
        },
        "height": 300,
        "legend": {
         "tracegroupgap": 0
        },
        "margin": {
         "t": 60
        },
        "template": {
         "data": {
          "bar": [
           {
            "error_x": {
             "color": "#2a3f5f"
            },
            "error_y": {
             "color": "#2a3f5f"
            },
            "marker": {
             "line": {
              "color": "white",
              "width": 0.5
             }
            },
            "type": "bar"
           }
          ],
          "barpolar": [
           {
            "marker": {
             "line": {
              "color": "white",
              "width": 0.5
             }
            },
            "type": "barpolar"
           }
          ],
          "carpet": [
           {
            "aaxis": {
             "endlinecolor": "#2a3f5f",
             "gridcolor": "#C8D4E3",
             "linecolor": "#C8D4E3",
             "minorgridcolor": "#C8D4E3",
             "startlinecolor": "#2a3f5f"
            },
            "baxis": {
             "endlinecolor": "#2a3f5f",
             "gridcolor": "#C8D4E3",
             "linecolor": "#C8D4E3",
             "minorgridcolor": "#C8D4E3",
             "startlinecolor": "#2a3f5f"
            },
            "type": "carpet"
           }
          ],
          "choropleth": [
           {
            "colorbar": {
             "outlinewidth": 0,
             "ticks": ""
            },
            "type": "choropleth"
           }
          ],
          "contour": [
           {
            "colorbar": {
             "outlinewidth": 0,
             "ticks": ""
            },
            "colorscale": [
             [
              0,
              "#0d0887"
             ],
             [
              0.1111111111111111,
              "#46039f"
             ],
             [
              0.2222222222222222,
              "#7201a8"
             ],
             [
              0.3333333333333333,
              "#9c179e"
             ],
             [
              0.4444444444444444,
              "#bd3786"
             ],
             [
              0.5555555555555556,
              "#d8576b"
             ],
             [
              0.6666666666666666,
              "#ed7953"
             ],
             [
              0.7777777777777778,
              "#fb9f3a"
             ],
             [
              0.8888888888888888,
              "#fdca26"
             ],
             [
              1,
              "#f0f921"
             ]
            ],
            "type": "contour"
           }
          ],
          "contourcarpet": [
           {
            "colorbar": {
             "outlinewidth": 0,
             "ticks": ""
            },
            "type": "contourcarpet"
           }
          ],
          "heatmap": [
           {
            "colorbar": {
             "outlinewidth": 0,
             "ticks": ""
            },
            "colorscale": [
             [
              0,
              "#0d0887"
             ],
             [
              0.1111111111111111,
              "#46039f"
             ],
             [
              0.2222222222222222,
              "#7201a8"
             ],
             [
              0.3333333333333333,
              "#9c179e"
             ],
             [
              0.4444444444444444,
              "#bd3786"
             ],
             [
              0.5555555555555556,
              "#d8576b"
             ],
             [
              0.6666666666666666,
              "#ed7953"
             ],
             [
              0.7777777777777778,
              "#fb9f3a"
             ],
             [
              0.8888888888888888,
              "#fdca26"
             ],
             [
              1,
              "#f0f921"
             ]
            ],
            "type": "heatmap"
           }
          ],
          "heatmapgl": [
           {
            "colorbar": {
             "outlinewidth": 0,
             "ticks": ""
            },
            "colorscale": [
             [
              0,
              "#0d0887"
             ],
             [
              0.1111111111111111,
              "#46039f"
             ],
             [
              0.2222222222222222,
              "#7201a8"
             ],
             [
              0.3333333333333333,
              "#9c179e"
             ],
             [
              0.4444444444444444,
              "#bd3786"
             ],
             [
              0.5555555555555556,
              "#d8576b"
             ],
             [
              0.6666666666666666,
              "#ed7953"
             ],
             [
              0.7777777777777778,
              "#fb9f3a"
             ],
             [
              0.8888888888888888,
              "#fdca26"
             ],
             [
              1,
              "#f0f921"
             ]
            ],
            "type": "heatmapgl"
           }
          ],
          "histogram": [
           {
            "marker": {
             "colorbar": {
              "outlinewidth": 0,
              "ticks": ""
             }
            },
            "type": "histogram"
           }
          ],
          "histogram2d": [
           {
            "colorbar": {
             "outlinewidth": 0,
             "ticks": ""
            },
            "colorscale": [
             [
              0,
              "#0d0887"
             ],
             [
              0.1111111111111111,
              "#46039f"
             ],
             [
              0.2222222222222222,
              "#7201a8"
             ],
             [
              0.3333333333333333,
              "#9c179e"
             ],
             [
              0.4444444444444444,
              "#bd3786"
             ],
             [
              0.5555555555555556,
              "#d8576b"
             ],
             [
              0.6666666666666666,
              "#ed7953"
             ],
             [
              0.7777777777777778,
              "#fb9f3a"
             ],
             [
              0.8888888888888888,
              "#fdca26"
             ],
             [
              1,
              "#f0f921"
             ]
            ],
            "type": "histogram2d"
           }
          ],
          "histogram2dcontour": [
           {
            "colorbar": {
             "outlinewidth": 0,
             "ticks": ""
            },
            "colorscale": [
             [
              0,
              "#0d0887"
             ],
             [
              0.1111111111111111,
              "#46039f"
             ],
             [
              0.2222222222222222,
              "#7201a8"
             ],
             [
              0.3333333333333333,
              "#9c179e"
             ],
             [
              0.4444444444444444,
              "#bd3786"
             ],
             [
              0.5555555555555556,
              "#d8576b"
             ],
             [
              0.6666666666666666,
              "#ed7953"
             ],
             [
              0.7777777777777778,
              "#fb9f3a"
             ],
             [
              0.8888888888888888,
              "#fdca26"
             ],
             [
              1,
              "#f0f921"
             ]
            ],
            "type": "histogram2dcontour"
           }
          ],
          "mesh3d": [
           {
            "colorbar": {
             "outlinewidth": 0,
             "ticks": ""
            },
            "type": "mesh3d"
           }
          ],
          "parcoords": [
           {
            "line": {
             "colorbar": {
              "outlinewidth": 0,
              "ticks": ""
             }
            },
            "type": "parcoords"
           }
          ],
          "pie": [
           {
            "automargin": true,
            "type": "pie"
           }
          ],
          "scatter": [
           {
            "marker": {
             "colorbar": {
              "outlinewidth": 0,
              "ticks": ""
             }
            },
            "type": "scatter"
           }
          ],
          "scatter3d": [
           {
            "line": {
             "colorbar": {
              "outlinewidth": 0,
              "ticks": ""
             }
            },
            "marker": {
             "colorbar": {
              "outlinewidth": 0,
              "ticks": ""
             }
            },
            "type": "scatter3d"
           }
          ],
          "scattercarpet": [
           {
            "marker": {
             "colorbar": {
              "outlinewidth": 0,
              "ticks": ""
             }
            },
            "type": "scattercarpet"
           }
          ],
          "scattergeo": [
           {
            "marker": {
             "colorbar": {
              "outlinewidth": 0,
              "ticks": ""
             }
            },
            "type": "scattergeo"
           }
          ],
          "scattergl": [
           {
            "marker": {
             "colorbar": {
              "outlinewidth": 0,
              "ticks": ""
             }
            },
            "type": "scattergl"
           }
          ],
          "scattermapbox": [
           {
            "marker": {
             "colorbar": {
              "outlinewidth": 0,
              "ticks": ""
             }
            },
            "type": "scattermapbox"
           }
          ],
          "scatterpolar": [
           {
            "marker": {
             "colorbar": {
              "outlinewidth": 0,
              "ticks": ""
             }
            },
            "type": "scatterpolar"
           }
          ],
          "scatterpolargl": [
           {
            "marker": {
             "colorbar": {
              "outlinewidth": 0,
              "ticks": ""
             }
            },
            "type": "scatterpolargl"
           }
          ],
          "scatterternary": [
           {
            "marker": {
             "colorbar": {
              "outlinewidth": 0,
              "ticks": ""
             }
            },
            "type": "scatterternary"
           }
          ],
          "surface": [
           {
            "colorbar": {
             "outlinewidth": 0,
             "ticks": ""
            },
            "colorscale": [
             [
              0,
              "#0d0887"
             ],
             [
              0.1111111111111111,
              "#46039f"
             ],
             [
              0.2222222222222222,
              "#7201a8"
             ],
             [
              0.3333333333333333,
              "#9c179e"
             ],
             [
              0.4444444444444444,
              "#bd3786"
             ],
             [
              0.5555555555555556,
              "#d8576b"
             ],
             [
              0.6666666666666666,
              "#ed7953"
             ],
             [
              0.7777777777777778,
              "#fb9f3a"
             ],
             [
              0.8888888888888888,
              "#fdca26"
             ],
             [
              1,
              "#f0f921"
             ]
            ],
            "type": "surface"
           }
          ],
          "table": [
           {
            "cells": {
             "fill": {
              "color": "#EBF0F8"
             },
             "line": {
              "color": "white"
             }
            },
            "header": {
             "fill": {
              "color": "#C8D4E3"
             },
             "line": {
              "color": "white"
             }
            },
            "type": "table"
           }
          ]
         },
         "layout": {
          "annotationdefaults": {
           "arrowcolor": "#2a3f5f",
           "arrowhead": 0,
           "arrowwidth": 1
          },
          "coloraxis": {
           "colorbar": {
            "outlinewidth": 0,
            "ticks": ""
           }
          },
          "colorscale": {
           "diverging": [
            [
             0,
             "#8e0152"
            ],
            [
             0.1,
             "#c51b7d"
            ],
            [
             0.2,
             "#de77ae"
            ],
            [
             0.3,
             "#f1b6da"
            ],
            [
             0.4,
             "#fde0ef"
            ],
            [
             0.5,
             "#f7f7f7"
            ],
            [
             0.6,
             "#e6f5d0"
            ],
            [
             0.7,
             "#b8e186"
            ],
            [
             0.8,
             "#7fbc41"
            ],
            [
             0.9,
             "#4d9221"
            ],
            [
             1,
             "#276419"
            ]
           ],
           "sequential": [
            [
             0,
             "#0d0887"
            ],
            [
             0.1111111111111111,
             "#46039f"
            ],
            [
             0.2222222222222222,
             "#7201a8"
            ],
            [
             0.3333333333333333,
             "#9c179e"
            ],
            [
             0.4444444444444444,
             "#bd3786"
            ],
            [
             0.5555555555555556,
             "#d8576b"
            ],
            [
             0.6666666666666666,
             "#ed7953"
            ],
            [
             0.7777777777777778,
             "#fb9f3a"
            ],
            [
             0.8888888888888888,
             "#fdca26"
            ],
            [
             1,
             "#f0f921"
            ]
           ],
           "sequentialminus": [
            [
             0,
             "#0d0887"
            ],
            [
             0.1111111111111111,
             "#46039f"
            ],
            [
             0.2222222222222222,
             "#7201a8"
            ],
            [
             0.3333333333333333,
             "#9c179e"
            ],
            [
             0.4444444444444444,
             "#bd3786"
            ],
            [
             0.5555555555555556,
             "#d8576b"
            ],
            [
             0.6666666666666666,
             "#ed7953"
            ],
            [
             0.7777777777777778,
             "#fb9f3a"
            ],
            [
             0.8888888888888888,
             "#fdca26"
            ],
            [
             1,
             "#f0f921"
            ]
           ]
          },
          "colorway": [
           "#636efa",
           "#EF553B",
           "#00cc96",
           "#ab63fa",
           "#FFA15A",
           "#19d3f3",
           "#FF6692",
           "#B6E880",
           "#FF97FF",
           "#FECB52"
          ],
          "font": {
           "color": "#2a3f5f"
          },
          "geo": {
           "bgcolor": "white",
           "lakecolor": "white",
           "landcolor": "white",
           "showlakes": true,
           "showland": true,
           "subunitcolor": "#C8D4E3"
          },
          "hoverlabel": {
           "align": "left"
          },
          "hovermode": "closest",
          "mapbox": {
           "style": "light"
          },
          "paper_bgcolor": "white",
          "plot_bgcolor": "white",
          "polar": {
           "angularaxis": {
            "gridcolor": "#EBF0F8",
            "linecolor": "#EBF0F8",
            "ticks": ""
           },
           "bgcolor": "white",
           "radialaxis": {
            "gridcolor": "#EBF0F8",
            "linecolor": "#EBF0F8",
            "ticks": ""
           }
          },
          "scene": {
           "xaxis": {
            "backgroundcolor": "white",
            "gridcolor": "#DFE8F3",
            "gridwidth": 2,
            "linecolor": "#EBF0F8",
            "showbackground": true,
            "ticks": "",
            "zerolinecolor": "#EBF0F8"
           },
           "yaxis": {
            "backgroundcolor": "white",
            "gridcolor": "#DFE8F3",
            "gridwidth": 2,
            "linecolor": "#EBF0F8",
            "showbackground": true,
            "ticks": "",
            "zerolinecolor": "#EBF0F8"
           },
           "zaxis": {
            "backgroundcolor": "white",
            "gridcolor": "#DFE8F3",
            "gridwidth": 2,
            "linecolor": "#EBF0F8",
            "showbackground": true,
            "ticks": "",
            "zerolinecolor": "#EBF0F8"
           }
          },
          "shapedefaults": {
           "line": {
            "color": "#2a3f5f"
           }
          },
          "ternary": {
           "aaxis": {
            "gridcolor": "#DFE8F3",
            "linecolor": "#A2B1C6",
            "ticks": ""
           },
           "baxis": {
            "gridcolor": "#DFE8F3",
            "linecolor": "#A2B1C6",
            "ticks": ""
           },
           "bgcolor": "white",
           "caxis": {
            "gridcolor": "#DFE8F3",
            "linecolor": "#A2B1C6",
            "ticks": ""
           }
          },
          "title": {
           "x": 0.05
          },
          "xaxis": {
           "automargin": true,
           "gridcolor": "#EBF0F8",
           "linecolor": "#EBF0F8",
           "ticks": "",
           "title": {
            "standoff": 15
           },
           "zerolinecolor": "#EBF0F8",
           "zerolinewidth": 2
          },
          "yaxis": {
           "automargin": true,
           "gridcolor": "#EBF0F8",
           "linecolor": "#EBF0F8",
           "ticks": "",
           "title": {
            "standoff": 15
           },
           "zerolinecolor": "#EBF0F8",
           "zerolinewidth": 2
          }
         }
        },
        "title": {
         "text": "",
         "x": 0.5,
         "xanchor": "center",
         "yanchor": "top"
        },
        "width": 400,
        "xaxis": {
         "anchor": "y",
         "autorange": true,
         "domain": [
          0,
          1
         ],
         "linecolor": "black",
         "linewidth": 2,
         "mirror": true,
         "range": [
          -1.5999999999999999,
          0.3999999999999999
         ],
         "showline": true,
         "ticks": "outside",
         "title": {
          "text": "Enrichment score"
         },
         "type": "linear"
        },
        "yaxis": {
         "anchor": "x",
         "autorange": true,
         "domain": [
          0,
          1
         ],
         "linecolor": "black",
         "linewidth": 2,
         "mirror": true,
         "range": [
          0,
          1.8500797448165869
         ],
         "showline": true,
         "ticks": "outside",
         "title": {
          "text": "Probability density"
         }
        }
       }
      },
      "image/png": "[encoded data removed]",
      "text/html": [
       "<div>                            <div id=\"4d1649af-39d1-4452-bcf2-1daa5a858e50\" class=\"plotly-graph-div\" style=\"height:300px; width:400px;\"></div>            <script type=\"text/javascript\">                require([\"plotly\"], function(Plotly) {                    window.PLOTLYENV=window.PLOTLYENV || {};                                    if (document.getElementById(\"4d1649af-39d1-4452-bcf2-1daa5a858e50\")) {                    Plotly.newPlot(                        \"4d1649af-39d1-4452-bcf2-1daa5a858e50\",                        [{\"alignmentgroup\": \"True\", \"bingroup\": \"x\", \"histnorm\": \"probability density\", \"hovertemplate\": \"Score=%{x}<br>count=%{y}<extra></extra>\", \"legendgroup\": \"\", \"marker\": {\"color\": \"#636efa\"}, \"name\": \"\", \"offsetgroup\": \"\", \"orientation\": \"v\", \"showlegend\": false, \"type\": \"histogram\", \"x\": [-0.05903827253797709, -0.5225775011012225, -0.15207832133694926, -0.2879200102066062, -0.968849715535961, -0.5167499134664589, -0.8320388905988028, -0.5769300311141693, -1.4894001814628053, -0.15166116633623386, 0.14278455763886067, 0.09305950125540982, -0.30458876599820134, -1.4916512047308719, -1.4288636270603186, -1.4248180637255714, -0.6022202819075158, -0.5462688888125455, -0.6140722732344068, -0.6620679159013149, -0.037867137389863005, -0.06554640528888933, -0.23527158997240286, -0.1876129052474586, -0.04473533603748429, 0.01160341436813343, -0.7996435397219404, -0.16491592326304255, -0.1447744571279137, -0.5714334518272783, -0.6994607559597122, -0.7509396198479558, -0.8100243912641745, -1.5237087866594032, -0.8101565563767714, -0.9338114884950672, -1.3988809254855517, -0.4476331537649112, -1.5315986996348896, -0.364138372644266, 0.1448236118245423, -0.05444913173863911, -0.00899047919801917, -0.05408999348816301, -0.1687109205440554, -0.045220123634810844, -0.15352197331252976, -0.04637244849262488, -0.07819253363866288, -0.042558972673865395, 0.03483998101997836, -0.6328640251955091, -0.8430463649745124, -0.9102638165572804, -0.10479067285166152, -1.2031690174741603, -0.6237641159677227, -0.4483472953034349, -0.7157252623186351, 0.2692310941338419, 0.24953916266662168, 0.36624867741571765, 0.04305641105294954, -0.06425465917786433, 0.03222344013692989, 0.07915581455236487, 0.19440121261124663, -0.2870355702667083, -0.06610540201565286, 0.04557990832323366, -0.03573242166793937, -0.019149969689934914, 0.09569791650796321, -0.16964376878370163, -0.15194587593043724, -0.5933927881989277, -0.8235671284571877, -0.8000188172376967, -0.5705855735441543, -0.7933341094090085, -0.6917923578014902, -0.2636997667036015, 0.09931081203035158, -0.13467836838853786, -0.35414899646215914, 0.03520778499329081, -0.17144646138666858, -0.3667700125738137, -0.3903896612713436, -0.11144205691475202, 0.10091352815529356, -0.7178712644751598, -0.00812574292538934, -0.005472354753945382, -0.09798642395849004, -0.1203870570774412, -0.2871022857966684, 0.08480618273715824, -0.7389294152701478, -0.26177320504488755, -0.3124301024640672, -0.13094653007152288, -0.16806679508691272, -0.016490738717658552, -0.04070800656178435, 0.007177465347986614, -0.019220084975432938, -0.3739956225882569, -0.28041247646655265, -0.8110091586908963, -1.077901827555794, -0.9006211468206218, -1.1035830374816382, -0.5241636558814493, -0.43902165567941964, 0.16352592770948396, -0.10065501753724163, -0.8317964476331131, 0.30942234697442256, -0.02712689985532992, -0.012630002592404191, 0.07570049786050179, -0.0525107552632614, -0.0011599790236551234, -0.06187016175735145, -0.05090338418285334, 0.03404288560478748, -0.07779662103732529, -0.19301990224872778, -0.11121734862457036, -0.21118718535117204, -0.24491360854637417, -0.49027256481713055, -0.14426369285921817, -0.04229913167138789, -0.16702180087879043, -0.497516168249049, -0.4050993458428893, -0.2330245062500808, -0.7825442163064669, -0.4352936714225567, -0.5481748411908344, -0.5120381301596725, -0.06624610236135968, -0.6929142086134531, 0.2688968590805122, 0.0429739483130473, 0.2744036579056251, -0.06788660628173204, -0.06626715246491684, 0.00012053481518156106, -0.018461763323689647, -0.22876547066840902, -0.5082528286033925, -0.6342567262831171, 0.17209152232445243, -0.03454100094202571, -0.8908822663734455, -0.4882233175375396, -0.09069036517019705, -0.037950113697305575, -0.45958971907022556, 0.0072754541074519, -0.1212153128028041, 0.10955120257807131], \"xaxis\": \"x\", \"yaxis\": \"y\"}],                        {\"barmode\": \"relative\", \"font\": {\"color\": \"black\", \"family\": \"Arial, monospace\", \"size\": 12}, \"height\": 300, \"legend\": {\"tracegroupgap\": 0}, \"margin\": {\"t\": 60}, \"template\": {\"data\": {\"bar\": [{\"error_x\": {\"color\": \"#2a3f5f\"}, \"error_y\": {\"color\": \"#2a3f5f\"}, \"marker\": {\"line\": {\"color\": \"white\", \"width\": 0.5}}, \"type\": \"bar\"}], \"barpolar\": [{\"marker\": {\"line\": {\"color\": \"white\", \"width\": 0.5}}, \"type\": \"barpolar\"}], \"carpet\": [{\"aaxis\": {\"endlinecolor\": \"#2a3f5f\", \"gridcolor\": \"#C8D4E3\", \"linecolor\": \"#C8D4E3\", \"minorgridcolor\": \"#C8D4E3\", \"startlinecolor\": \"#2a3f5f\"}, \"baxis\": {\"endlinecolor\": \"#2a3f5f\", \"gridcolor\": \"#C8D4E3\", \"linecolor\": \"#C8D4E3\", \"minorgridcolor\": \"#C8D4E3\", \"startlinecolor\": \"#2a3f5f\"}, \"type\": \"carpet\"}], \"choropleth\": [{\"colorbar\": {\"outlinewidth\": 0, \"ticks\": \"\"}, \"type\": \"choropleth\"}], \"contour\": [{\"colorbar\": {\"outlinewidth\": 0, \"ticks\": \"\"}, \"colorscale\": [[0.0, \"#0d0887\"], [0.1111111111111111, \"#46039f\"], [0.2222222222222222, \"#7201a8\"], [0.3333333333333333, \"#9c179e\"], [0.4444444444444444, \"#bd3786\"], [0.5555555555555556, \"#d8576b\"], [0.6666666666666666, \"#ed7953\"], [0.7777777777777778, \"#fb9f3a\"], [0.8888888888888888, \"#fdca26\"], [1.0, \"#f0f921\"]], \"type\": \"contour\"}], \"contourcarpet\": [{\"colorbar\": {\"outlinewidth\": 0, \"ticks\": \"\"}, \"type\": \"contourcarpet\"}], \"heatmap\": [{\"colorbar\": {\"outlinewidth\": 0, \"ticks\": \"\"}, \"colorscale\": [[0.0, \"#0d0887\"], [0.1111111111111111, \"#46039f\"], [0.2222222222222222, \"#7201a8\"], [0.3333333333333333, \"#9c179e\"], [0.4444444444444444, \"#bd3786\"], [0.5555555555555556, \"#d8576b\"], [0.6666666666666666, \"#ed7953\"], [0.7777777777777778, \"#fb9f3a\"], [0.8888888888888888, \"#fdca26\"], [1.0, \"#f0f921\"]], \"type\": \"heatmap\"}], \"heatmapgl\": [{\"colorbar\": {\"outlinewidth\": 0, \"ticks\": \"\"}, \"colorscale\": [[0.0, \"#0d0887\"], [0.1111111111111111, \"#46039f\"], [0.2222222222222222, \"#7201a8\"], [0.3333333333333333, \"#9c179e\"], [0.4444444444444444, \"#bd3786\"], [0.5555555555555556, \"#d8576b\"], [0.6666666666666666, \"#ed7953\"], [0.7777777777777778, \"#fb9f3a\"], [0.8888888888888888, \"#fdca26\"], [1.0, \"#f0f921\"]], \"type\": \"heatmapgl\"}], \"histogram\": [{\"marker\": {\"colorbar\": {\"outlinewidth\": 0, \"ticks\": \"\"}}, \"type\": \"histogram\"}], \"histogram2d\": [{\"colorbar\": {\"outlinewidth\": 0, \"ticks\": \"\"}, \"colorscale\": [[0.0, \"#0d0887\"], [0.1111111111111111, \"#46039f\"], [0.2222222222222222, \"#7201a8\"], [0.3333333333333333, \"#9c179e\"], [0.4444444444444444, \"#bd3786\"], [0.5555555555555556, \"#d8576b\"], [0.6666666666666666, \"#ed7953\"], [0.7777777777777778, \"#fb9f3a\"], [0.8888888888888888, \"#fdca26\"], [1.0, \"#f0f921\"]], \"type\": \"histogram2d\"}], \"histogram2dcontour\": [{\"colorbar\": {\"outlinewidth\": 0, \"ticks\": \"\"}, \"colorscale\": [[0.0, \"#0d0887\"], [0.1111111111111111, \"#46039f\"], [0.2222222222222222, \"#7201a8\"], [0.3333333333333333, \"#9c179e\"], [0.4444444444444444, \"#bd3786\"], [0.5555555555555556, \"#d8576b\"], [0.6666666666666666, \"#ed7953\"], [0.7777777777777778, \"#fb9f3a\"], [0.8888888888888888, \"#fdca26\"], [1.0, \"#f0f921\"]], \"type\": \"histogram2dcontour\"}], \"mesh3d\": [{\"colorbar\": {\"outlinewidth\": 0, \"ticks\": \"\"}, \"type\": \"mesh3d\"}], \"parcoords\": [{\"line\": {\"colorbar\": {\"outlinewidth\": 0, \"ticks\": \"\"}}, \"type\": \"parcoords\"}], \"pie\": [{\"automargin\": true, \"type\": \"pie\"}], \"scatter\": [{\"marker\": {\"colorbar\": {\"outlinewidth\": 0, \"ticks\": \"\"}}, \"type\": \"scatter\"}], \"scatter3d\": [{\"line\": {\"colorbar\": {\"outlinewidth\": 0, \"ticks\": \"\"}}, \"marker\": {\"colorbar\": {\"outlinewidth\": 0, \"ticks\": \"\"}}, \"type\": \"scatter3d\"}], \"scattercarpet\": [{\"marker\": {\"colorbar\": {\"outlinewidth\": 0, \"ticks\": \"\"}}, \"type\": \"scattercarpet\"}], \"scattergeo\": [{\"marker\": {\"colorbar\": {\"outlinewidth\": 0, \"ticks\": \"\"}}, \"type\": \"scattergeo\"}], \"scattergl\": [{\"marker\": {\"colorbar\": {\"outlinewidth\": 0, \"ticks\": \"\"}}, \"type\": \"scattergl\"}], \"scattermapbox\": [{\"marker\": {\"colorbar\": {\"outlinewidth\": 0, \"ticks\": \"\"}}, \"type\": \"scattermapbox\"}], \"scatterpolar\": [{\"marker\": {\"colorbar\": {\"outlinewidth\": 0, \"ticks\": \"\"}}, \"type\": \"scatterpolar\"}], \"scatterpolargl\": [{\"marker\": {\"colorbar\": {\"outlinewidth\": 0, \"ticks\": \"\"}}, \"type\": \"scatterpolargl\"}], \"scatterternary\": [{\"marker\": {\"colorbar\": {\"outlinewidth\": 0, \"ticks\": \"\"}}, \"type\": \"scatterternary\"}], \"surface\": [{\"colorbar\": {\"outlinewidth\": 0, \"ticks\": \"\"}, \"colorscale\": [[0.0, \"#0d0887\"], [0.1111111111111111, \"#46039f\"], [0.2222222222222222, \"#7201a8\"], [0.3333333333333333, \"#9c179e\"], [0.4444444444444444, \"#bd3786\"], [0.5555555555555556, \"#d8576b\"], [0.6666666666666666, \"#ed7953\"], [0.7777777777777778, \"#fb9f3a\"], [0.8888888888888888, \"#fdca26\"], [1.0, \"#f0f921\"]], \"type\": \"surface\"}], \"table\": [{\"cells\": {\"fill\": {\"color\": \"#EBF0F8\"}, \"line\": {\"color\": \"white\"}}, \"header\": {\"fill\": {\"color\": \"#C8D4E3\"}, \"line\": {\"color\": \"white\"}}, \"type\": \"table\"}]}, \"layout\": {\"annotationdefaults\": {\"arrowcolor\": \"#2a3f5f\", \"arrowhead\": 0, \"arrowwidth\": 1}, \"coloraxis\": {\"colorbar\": {\"outlinewidth\": 0, \"ticks\": \"\"}}, \"colorscale\": {\"diverging\": [[0, \"#8e0152\"], [0.1, \"#c51b7d\"], [0.2, \"#de77ae\"], [0.3, \"#f1b6da\"], [0.4, \"#fde0ef\"], [0.5, \"#f7f7f7\"], [0.6, \"#e6f5d0\"], [0.7, \"#b8e186\"], [0.8, \"#7fbc41\"], [0.9, \"#4d9221\"], [1, \"#276419\"]], \"sequential\": [[0.0, \"#0d0887\"], [0.1111111111111111, \"#46039f\"], [0.2222222222222222, \"#7201a8\"], [0.3333333333333333, \"#9c179e\"], [0.4444444444444444, \"#bd3786\"], [0.5555555555555556, \"#d8576b\"], [0.6666666666666666, \"#ed7953\"], [0.7777777777777778, \"#fb9f3a\"], [0.8888888888888888, \"#fdca26\"], [1.0, \"#f0f921\"]], \"sequentialminus\": [[0.0, \"#0d0887\"], [0.1111111111111111, \"#46039f\"], [0.2222222222222222, \"#7201a8\"], [0.3333333333333333, \"#9c179e\"], [0.4444444444444444, \"#bd3786\"], [0.5555555555555556, \"#d8576b\"], [0.6666666666666666, \"#ed7953\"], [0.7777777777777778, \"#fb9f3a\"], [0.8888888888888888, \"#fdca26\"], [1.0, \"#f0f921\"]]}, \"colorway\": [\"#636efa\", \"#EF553B\", \"#00cc96\", \"#ab63fa\", \"#FFA15A\", \"#19d3f3\", \"#FF6692\", \"#B6E880\", \"#FF97FF\", \"#FECB52\"], \"font\": {\"color\": \"#2a3f5f\"}, \"geo\": {\"bgcolor\": \"white\", \"lakecolor\": \"white\", \"landcolor\": \"white\", \"showlakes\": true, \"showland\": true, \"subunitcolor\": \"#C8D4E3\"}, \"hoverlabel\": {\"align\": \"left\"}, \"hovermode\": \"closest\", \"mapbox\": {\"style\": \"light\"}, \"paper_bgcolor\": \"white\", \"plot_bgcolor\": \"white\", \"polar\": {\"angularaxis\": {\"gridcolor\": \"#EBF0F8\", \"linecolor\": \"#EBF0F8\", \"ticks\": \"\"}, \"bgcolor\": \"white\", \"radialaxis\": {\"gridcolor\": \"#EBF0F8\", \"linecolor\": \"#EBF0F8\", \"ticks\": \"\"}}, \"scene\": {\"xaxis\": {\"backgroundcolor\": \"white\", \"gridcolor\": \"#DFE8F3\", \"gridwidth\": 2, \"linecolor\": \"#EBF0F8\", \"showbackground\": true, \"ticks\": \"\", \"zerolinecolor\": \"#EBF0F8\"}, \"yaxis\": {\"backgroundcolor\": \"white\", \"gridcolor\": \"#DFE8F3\", \"gridwidth\": 2, \"linecolor\": \"#EBF0F8\", \"showbackground\": true, \"ticks\": \"\", \"zerolinecolor\": \"#EBF0F8\"}, \"zaxis\": {\"backgroundcolor\": \"white\", \"gridcolor\": \"#DFE8F3\", \"gridwidth\": 2, \"linecolor\": \"#EBF0F8\", \"showbackground\": true, \"ticks\": \"\", \"zerolinecolor\": \"#EBF0F8\"}}, \"shapedefaults\": {\"line\": {\"color\": \"#2a3f5f\"}}, \"ternary\": {\"aaxis\": {\"gridcolor\": \"#DFE8F3\", \"linecolor\": \"#A2B1C6\", \"ticks\": \"\"}, \"baxis\": {\"gridcolor\": \"#DFE8F3\", \"linecolor\": \"#A2B1C6\", \"ticks\": \"\"}, \"bgcolor\": \"white\", \"caxis\": {\"gridcolor\": \"#DFE8F3\", \"linecolor\": \"#A2B1C6\", \"ticks\": \"\"}}, \"title\": {\"x\": 0.05}, \"xaxis\": {\"automargin\": true, \"gridcolor\": \"#EBF0F8\", \"linecolor\": \"#EBF0F8\", \"ticks\": \"\", \"title\": {\"standoff\": 15}, \"zerolinecolor\": \"#EBF0F8\", \"zerolinewidth\": 2}, \"yaxis\": {\"automargin\": true, \"gridcolor\": \"#EBF0F8\", \"linecolor\": \"#EBF0F8\", \"ticks\": \"\", \"title\": {\"standoff\": 15}, \"zerolinecolor\": \"#EBF0F8\", \"zerolinewidth\": 2}}}, \"title\": {\"text\": \"\", \"x\": 0.5, \"xanchor\": \"center\", \"yanchor\": \"top\"}, \"width\": 400, \"xaxis\": {\"anchor\": \"y\", \"domain\": [0.0, 1.0], \"linecolor\": \"black\", \"linewidth\": 2, \"mirror\": true, \"showline\": true, \"ticks\": \"outside\", \"title\": {\"text\": \"Enrichment score\"}}, \"yaxis\": {\"anchor\": \"x\", \"domain\": [0.0, 1.0], \"linecolor\": \"black\", \"linewidth\": 2, \"mirror\": true, \"showline\": true, \"ticks\": \"outside\", \"title\": {\"text\": \"Probability density\"}}},                        {\"responsive\": true}                    ).then(function(){\n",
       "                            \n",
       "var gd = document.getElementById('4d1649af-39d1-4452-bcf2-1daa5a858e50');\n",
       "var x = new MutationObserver(function (mutations, observer) {{\n",
       "        var display = window.getComputedStyle(gd).display;\n",
       "        if (!display || display === 'none') {{\n",
       "            console.log([gd, 'removed!']);\n",
       "            Plotly.purge(gd);\n",
       "            observer.disconnect();\n",
       "        }}\n",
       "}});\n",
       "\n",
       "// Listen for the removal of the full notebook cells\n",
       "var notebookContainer = gd.closest('#notebook-container');\n",
       "if (notebookContainer) {{\n",
       "    x.observe(notebookContainer, {childList: true});\n",
       "}}\n",
       "\n",
       "// Listen for the clearing of the current output cell\n",
       "var outputEl = gd.closest('.output');\n",
       "if (outputEl) {{\n",
       "    x.observe(outputEl, {childList: true});\n",
       "}}\n",
       "\n",
       "                        })                };                });            </script>        </div>"
      ]
     },
     "metadata": {},
     "output_type": "display_data"
    }
   ],
   "source": [
    "'''plot_histogram_plotly(mut.hras_RBD(), mode='mean', x_label='Enrichment score', title='') '''"
   ]
  },
  {
   "cell_type": "code",
   "execution_count": 24,
   "metadata": {
    "execution": {
     "iopub.execute_input": "2020-12-01T02:37:57.556649Z",
     "iopub.status.busy": "2020-12-01T02:37:57.556421Z",
     "iopub.status.idle": "2020-12-01T02:37:57.569860Z",
     "shell.execute_reply": "2020-12-01T02:37:57.568828Z",
     "shell.execute_reply.started": "2020-12-01T02:37:57.556626Z"
    }
   },
   "outputs": [],
   "source": [
    "#https://plotly.com/python/histograms/\n",
    "def plot_histogram_plotly(\n",
    "    self,\n",
    "    mode='pointmutant',\n",
    "    output_html: Union[None, str, Path] = None,\n",
    "    **kwargs\n",
    "):\n",
    "    '''\n",
    "    Generate a plotly histogram plot.\n",
    "\n",
    "    Parameters\n",
    "    ----------\n",
    "    self : object from class *Screen*\n",
    "\n",
    "    mode : str, default 'pointmutant'. \n",
    "        Alternative set to \"mean\" for the mean of each position.\n",
    "        \n",
    "    output_html : str, default None\n",
    "        If you want to export the generated graph into html, add the path and name of the file.\n",
    "        Example: 'path/filename.html'.\n",
    "        \n",
    "    **kwargs : other keyword arguments\n",
    "\n",
    "    Returns\n",
    "    ----------\n",
    "    fig : plotly object\n",
    "\n",
    "    '''\n",
    "    # update kwargs\n",
    "    temp_kwargs = copy.deepcopy(code_kwargs.kwargs())\n",
    "    temp_kwargs.update(kwargs)\n",
    "    temp_kwargs['figsize'] = kwargs.get('figsize', (4, 3))\n",
    "    temp_kwargs['x_label'] = kwargs.get('x_label', 'Enrichment score')\n",
    "    temp_kwargs['y_label'] = kwargs.get('y_label', 'Probability density')\n",
    "\n",
    "    # Copy dataframe\n",
    "    df = self.dataframe.copy()\n",
    "\n",
    "    # Chose mode:\n",
    "    if mode == 'mean':\n",
    "        df = df.groupby(by=['Position'], as_index=False).mean()\n",
    "        df['Variant'] = df['Position']  # change of name, makes things easier\n",
    "\n",
    "    # Create figure\n",
    "    fig = px.histogram(data_frame=df, x='Score', histnorm= 'probability density')\n",
    "\n",
    "    # Style\n",
    "    pio.templates.default = \"plotly_white\"\n",
    "    \n",
    "    # UPDATE AXES\n",
    "    fig.update_xaxes(\n",
    "        title_text=temp_kwargs['x_label'],\n",
    "        showline=True,\n",
    "        linewidth=2,\n",
    "        linecolor='black',\n",
    "        ticks=\"outside\",\n",
    "        mirror=True\n",
    "    )\n",
    "    fig.update_yaxes(\n",
    "        title_text=temp_kwargs['y_label'],\n",
    "        showline=True,\n",
    "        linewidth=2,\n",
    "        linecolor='black',\n",
    "        ticks=\"outside\",\n",
    "        mirror=True\n",
    "    )\n",
    "\n",
    "    # Layout and title parameters https://plotly.com/python/figure-labels/\n",
    "    fig.update_layout(\n",
    "        width=temp_kwargs['figsize'][0] * 120,\n",
    "        height=temp_kwargs['figsize'][1] * 120,\n",
    "        font=dict(family=\"Arial, monospace\", size=12, color=\"black\"),\n",
    "        title={\n",
    "            'text': temp_kwargs['title'], 'xanchor': 'center', 'yanchor': 'top',\n",
    "            'x': 0.5\n",
    "        }\n",
    "    )\n",
    "\n",
    "    # save fig to html\n",
    "    _save_html(fig, output_html)\n",
    "\n",
    "    # return plotly object\n",
    "    if temp_kwargs['return_plot_object']:\n",
    "        return fig\n",
    "\n",
    "    if temp_kwargs['show']:\n",
    "        fig.show()"
   ]
  },
  {
   "cell_type": "markdown",
   "metadata": {},
   "source": [
    "## Mean"
   ]
  },
  {
   "cell_type": "code",
   "execution_count": 52,
   "metadata": {
    "execution": {
     "iopub.execute_input": "2020-12-01T04:05:55.939572Z",
     "iopub.status.busy": "2020-12-01T04:05:55.939039Z",
     "iopub.status.idle": "2020-12-01T04:05:55.953464Z",
     "shell.execute_reply": "2020-12-01T04:05:55.951841Z",
     "shell.execute_reply.started": "2020-12-01T04:05:55.939451Z"
    }
   },
   "outputs": [],
   "source": [
    "def plot_mean_plotly(\n",
    "    self,\n",
    "    mode='mean',\n",
    "    output_html: Union[None, str, Path] = None,\n",
    "    **kwargs\n",
    "):\n",
    "    '''\n",
    "    Generate a plotlu mean plot.\n",
    "\n",
    "    Parameters\n",
    "    ----------\n",
    "    self : object from class *Screen*\n",
    "\n",
    "    mode : str, default 'mean'\n",
    "        Specify what enrichment scores to show. If mode = 'mean', it will show the mean of \n",
    "        each position. If mode = 'A', it will show the alanine substitution profile. Can be \n",
    "        used for each amino acid. Use the one-letter code and upper case.\n",
    "        \n",
    "    output_html : str, default None\n",
    "        If you want to export the generated graph into html, add the path and name of the file.\n",
    "        Example: 'path/filename.html'.\n",
    "        \n",
    "    **kwargs : other keyword arguments\n",
    "\n",
    "    Returns\n",
    "    ----------\n",
    "    fig : plotly object\n",
    "\n",
    "    '''\n",
    "    # update kwargs\n",
    "    temp_kwargs = copy.deepcopy(code_kwargs.kwargs())\n",
    "    temp_kwargs.update(kwargs)\n",
    "    temp_kwargs['figsize'] = kwargs.get('figsize', (4.5, 3))\n",
    "    temp_kwargs['x_label'] = kwargs.get('x_label', 'Position')\n",
    "    temp_kwargs['y_label'] = kwargs.get('y_label', 'Enrichment score')\n",
    "    temp_kwargs['title'] = kwargs.get('title', 'Grouped by: {}'.format(mode))\n",
    "\n",
    "    # Chose mode:\n",
    "    df = _select_grouping(self, mode)\n",
    "    \n",
    "    # Calculate colors\n",
    "    df['Color'] = df.apply(\n",
    "    code_utils._color_data,\n",
    "    axis=1,\n",
    "    args=(temp_kwargs['color_gof'], temp_kwargs['color_lof'])\n",
    ")\n",
    "\n",
    "    # Create figure\n",
    "    fig = px.bar(data_frame=df, x='Position', y='Score', color='Color')\n",
    "\n",
    "    # Style\n",
    "    pio.templates.default = \"plotly_white\"\n",
    "    \n",
    "    # UPDATE AXES\n",
    "    fig.update_xaxes(\n",
    "        title_text=temp_kwargs['x_label'],\n",
    "        showline=True,\n",
    "        linewidth=2,\n",
    "        linecolor='black',\n",
    "        ticks=\"outside\",\n",
    "        mirror=True\n",
    "    )\n",
    "    fig.update_yaxes(\n",
    "        title_text=temp_kwargs['y_label'],\n",
    "        showline=True,\n",
    "        linewidth=2,\n",
    "        linecolor='black',\n",
    "        ticks=\"outside\",\n",
    "        mirror=True\n",
    "    )\n",
    "\n",
    "    # Color and width of bars\n",
    "    fig.update_traces(\n",
    "                  marker_line_width=0,\n",
    "    )\n",
    "    \n",
    "    # Layout and title parameters https://plotly.com/python/figure-labels/\n",
    "    fig.update_layout(\n",
    "        width=temp_kwargs['figsize'][0] * 120,\n",
    "        height=temp_kwargs['figsize'][1] * 120,\n",
    "        showlegend=False,\n",
    "        font=dict(family=\"Arial, monospace\", size=12, color=\"black\"),\n",
    "        title={\n",
    "            'text': temp_kwargs['title'], 'xanchor': 'center', 'yanchor': 'top',\n",
    "            'x': 0.5\n",
    "        }\n",
    "    )\n",
    "\n",
    "    # save fig to html\n",
    "    _save_html(fig, output_html)\n",
    "\n",
    "    # return plotly object\n",
    "    if temp_kwargs['return_plot_object']:\n",
    "        return fig\n",
    "\n",
    "    if temp_kwargs['show']:\n",
    "        fig.show()\n",
    "\n",
    "def _select_grouping(self, mode):\n",
    "    '''\n",
    "    Choose the subset of substitutions based on mode input.\n",
    "    For example, if mode=='A', then return data for Alanine.\n",
    "\n",
    "    '''\n",
    "    # convert to upper case\n",
    "    mode = mode.upper()\n",
    "    \n",
    "    # Select grouping\n",
    "    if mode == 'MEAN':\n",
    "        df = self.dataframe.groupby('Position', as_index=False).mean()\n",
    "    else:\n",
    "        df = self.dataframe.loc[self.dataframe['Aminoacid'] == mode].copy()\n",
    "        \n",
    "    return df"
   ]
  },
  {
   "cell_type": "markdown",
   "metadata": {},
   "source": [
    "## 3D"
   ]
  },
  {
   "cell_type": "code",
   "execution_count": 4,
   "metadata": {
    "execution": {
     "iopub.execute_input": "2020-11-26T19:31:18.794136Z",
     "iopub.status.busy": "2020-11-26T19:31:18.793902Z",
     "iopub.status.idle": "2020-11-26T19:31:18.812951Z",
     "shell.execute_reply": "2020-11-26T19:31:18.812170Z",
     "shell.execute_reply.started": "2020-11-26T19:31:18.794109Z"
    }
   },
   "outputs": [],
   "source": [
    "def plot_scatter_3D_plotly(\n",
    "    self,\n",
    "    mode='mean',\n",
    "    pdb_path=None,\n",
    "    df_coordinates=None,\n",
    "    position_correction=0,\n",
    "    chain='A',\n",
    "    squared=False,\n",
    "    output_html: Union[None, str, Path] = None,\n",
    "    **kwargs\n",
    "):\n",
    "    \"\"\"\n",
    "    Generates a 3-D scatter plot of the x,y,z coordinates of the C-alpha atoms\n",
    "    of the residues, color coded by the enrichment scores. PDBs may have atoms\n",
    "    missing, you should fix the PDB before using this method. Use matplotlib\n",
    "    for interactive plot.\n",
    "\n",
    "    Parameters\n",
    "    -----------\n",
    "    self : object from class *Screen*\n",
    "        **kwargs : other keyword arguments.\n",
    "\n",
    "    mode : str, default 'mean'\n",
    "        Specify what enrichment scores to use. If mode = 'mean', it will use the mean of\n",
    "        each position to classify the residues. If mode = 'A', it will use the Alanine substitution profile.\n",
    "        Can be used for each amino acid. Use the one-letter code and upper case.\n",
    "\n",
    "    pdb : str, default None\n",
    "        User should specify the path PDB chain.\n",
    "\n",
    "    df_coordinates: pandas dataframe, default None\n",
    "        If no pdb is included, the user must pass the 3-D coordinates of the residues to plot.\n",
    "        In here you have more flexibility and you can select other atoms besides the C-alpha.\n",
    "\n",
    "    position_correction : int, default 0\n",
    "        If the pdb structure has a different numbering of positions than you dataset,\n",
    "        you can correct for that. If your start_position = 2, but in the PDB that same residue\n",
    "        is at position 20, position_correction needs to be set at 18.\n",
    "\n",
    "    chain : str, default 'A'\n",
    "        Chain of the PDB file to get the coordinates and SASA from.\n",
    "\n",
    "    squared : boolean, False\n",
    "        If this parameter is True, the algorithm will center the data, and plot the square value of the\n",
    "        distance.\n",
    "\n",
    "    output_html : str, default None\n",
    "        If you want to export the generated graph into html, add the path and name of the file.\n",
    "        Example: 'path/filename.html'.\n",
    "\n",
    "    **kwargs : other keyword arguments\n",
    "\n",
    "    Returns\n",
    "    ---------\n",
    "    fig : plotly object\n",
    "\n",
    "    \"\"\"\n",
    "\n",
    "    # update kwargs\n",
    "    temp_kwargs = copy.deepcopy(code_kwargs.kwargs())\n",
    "    temp_kwargs.update(kwargs)\n",
    "\n",
    "    # Get Scores and colors\n",
    "    df = _color_3D_scatter(\n",
    "        self.dataframe, mode, temp_kwargs['lof'], temp_kwargs['gof']\n",
    "    )\n",
    "\n",
    "    # If coordinates is not an input, get it from the pdb\n",
    "    if df_coordinates is None:\n",
    "        df_coordinates = _parse_pdbcoordinates(\n",
    "            self, pdb_path, position_correction, chain\n",
    "        )\n",
    "\n",
    "    # Plot figure\n",
    "    x, y, z = ('x', 'y', 'z')\n",
    "    if squared is True:\n",
    "        x, y, z = ('x_cent', 'y_cent', 'z_cent')\n",
    "    fig = px.scatter_3d(\n",
    "        df_coordinates,\n",
    "        x=x,\n",
    "        y=y,\n",
    "        z=z,\n",
    "        color=df['Score'],\n",
    "        color_continuous_scale=_matplotlib_to_plotly(temp_kwargs['colormap'], ),\n",
    "        range_color=temp_kwargs['colorbar_scale']\n",
    "    )\n",
    "\n",
    "    # update axes\n",
    "    fig = _update_axes(fig, temp_kwargs)\n",
    "\n",
    "    # for the clickable part\n",
    "    fig.update_traces(\n",
    "        hovertext=df['Position'], hovertemplate='Position: %{hovertext}'\n",
    "    )\n",
    "    # title\n",
    "    fig = _update_title(fig, temp_kwargs)\n",
    "\n",
    "    # save fig to html\n",
    "    _save_html(fig, output_html)\n",
    "\n",
    "    # return plotly object\n",
    "    if temp_kwargs['return_plot_object']:\n",
    "        return fig\n",
    "\n",
    "    # show only if asked\n",
    "    if temp_kwargs['show']:\n",
    "        fig.show()\n",
    "\n",
    "\n",
    "def _update_title(fig, temp_kwargs):\n",
    "    fig.update_layout(\n",
    "        font=dict(family=\"Arial, monospace\", size=12, color=\"black\"),\n",
    "        title={\n",
    "            'text': temp_kwargs['title'], 'xanchor': 'center', 'yanchor': 'top',\n",
    "            'x': 0.5\n",
    "        },\n",
    "        coloraxis_colorbar=dict(title=\"Enrichment Score\")  # colorbar\n",
    "    )\n",
    "    return fig\n",
    "\n",
    "\n",
    "def _update_axes(fig, temp_kwargs):\n",
    "    '''Separeated this portion of the code because it is clumsy. It changes the\n",
    "    axes looks.'''\n",
    "    # Layout and title parameters https://plotly.com/python/figure-labels/\n",
    "    fig.update_layout(\n",
    "        scene=dict(\n",
    "            xaxis=dict(\n",
    "                title_text=temp_kwargs['x_label'],\n",
    "                showline=True,\n",
    "                linewidth=2,\n",
    "                linecolor='black',\n",
    "                ticks=\"outside\",\n",
    "                mirror=True,\n",
    "                backgroundcolor='#9467bd',\n",
    "            ),\n",
    "            yaxis=dict(\n",
    "                title_text=temp_kwargs['y_label'],\n",
    "                showline=True,\n",
    "                linewidth=2,\n",
    "                linecolor='black',\n",
    "                ticks=\"outside\",\n",
    "                mirror=True,\n",
    "                backgroundcolor='#9467bd',\n",
    "            ),\n",
    "            zaxis=dict(\n",
    "                title_text=temp_kwargs['z_label'],\n",
    "                showline=True,\n",
    "                linewidth=2,\n",
    "                linecolor='black',\n",
    "                ticks=\"outside\",\n",
    "                mirror=True,\n",
    "                backgroundcolor='#9467bd',  #change the color of axis\n",
    "            )\n",
    "        )\n",
    "    )\n",
    "    return fig"
   ]
  },
  {
   "cell_type": "markdown",
   "metadata": {},
   "source": [
    "# PDB properties"
   ]
  },
  {
   "cell_type": "code",
   "execution_count": 5,
   "metadata": {
    "execution": {
     "iopub.execute_input": "2020-11-26T19:31:18.819182Z",
     "iopub.status.busy": "2020-11-26T19:31:18.818279Z",
     "iopub.status.idle": "2020-11-26T19:31:18.832047Z",
     "shell.execute_reply": "2020-11-26T19:31:18.831158Z",
     "shell.execute_reply.started": "2020-11-26T19:31:18.819153Z"
    }
   },
   "outputs": [],
   "source": [
    "def plot_scatter_3D_pdbprop_plotly(\n",
    "    self,\n",
    "    plot=['Distance', 'SASA', 'B-factor'],\n",
    "    mode='mean',\n",
    "    pdb_path=None,\n",
    "    custom=None,\n",
    "    position_correction=0,\n",
    "    chain='A',\n",
    "    output_df=False,\n",
    "    output_html: Union[None, str, Path] = None,\n",
    "    **kwargs\n",
    "):\n",
    "    \"\"\"\n",
    "    Generates a 3-D scatter plot of different properties obtained from the PDB.\n",
    "    PDBs may have atoms missing, you should fix the PDB before using this\n",
    "    method. We recommend you use matplotlib for interactive plot.\n",
    "\n",
    "    Parameters\n",
    "    -----------\n",
    "    self : object from class *Screen*\n",
    "        **kwargs : other keyword arguments.\n",
    "\n",
    "    plot : list, default ['Distance', 'SASA', 'B-factor']\n",
    "        List of 3 elements to plot. Other options are 'Score' and Custom. If custom, add the\n",
    "        label to the third element of the list ie ['Distance', 'SASA', 'Conservation'].\n",
    "\n",
    "    mode : str, default 'mean'\n",
    "        Specify what enrichment scores to use. If mode = 'mean', it will use the mean of\n",
    "        each position to classify the residues. If mode = 'A', it will use the Alanine substitution profile. \n",
    "        Can be used for each amino acid. Use the one-letter code and upper case.\n",
    "\n",
    "    pdb_path : str, default None\n",
    "        User should specify the path PDB.\n",
    "\n",
    "    custom : list or dataframe or np.array, default None\n",
    "        If you want to add a custom dataset to plot, use custom. On the parameter\n",
    "        plot, the 3rd item of the list will be the label for your custom dataset.\n",
    "\n",
    "    df_color : pandas dataframe, default None\n",
    "        The color of each residue can also be included. You must label that label column.\n",
    "\n",
    "    color_by_score : boolean, default True\n",
    "        If set to False, the points in the scatter will not be colored based on the enrichment score.\n",
    "\n",
    "    position_correction : int, default 0\n",
    "        If the pdb structure has a different numbering of positions than you dataset,\n",
    "        you can correct for that. If your start_position = 2, but in the PDB that same residue\n",
    "        is at position 20, position_correction needs to be set at 18.\n",
    "\n",
    "    chain : str, default 'A'\n",
    "        Chain of the PDB file to get the coordinates and SASA from.\n",
    "\n",
    "    output_df : boolean, default False\n",
    "        If true, this method will return the dataframe with the data.\n",
    "        Set return_plot_object for this to work.\n",
    "\n",
    "    output_html : str, default None\n",
    "        If you want to export the generated graph into html, add the path and name of the file.\n",
    "        Example: 'path/filename.html'.\n",
    "\n",
    "    **kwargs : other keyword arguments\n",
    "\n",
    "    Returns\n",
    "    ---------\n",
    "    fig : plotly object\n",
    "\n",
    "    df_items : pandas dataframe\n",
    "        Contains the plotted data. Needs to have output_df set to true.\n",
    "\n",
    "    \"\"\"\n",
    "    # Update kwargs\n",
    "    temp_kwargs = copy.deepcopy(code_kwargs.kwargs())\n",
    "    temp_kwargs.update(kwargs)\n",
    "    temp_kwargs['x_label'] = kwargs.get('x_label', plot[0])\n",
    "    temp_kwargs['y_label'] = kwargs.get('y_label', plot[1])\n",
    "    temp_kwargs['z_label'] = kwargs.get('z_label', plot[2])\n",
    "\n",
    "    # Get Scores and colors\n",
    "    df_scores = _color_3D_scatter(\n",
    "        self.dataframe, mode, temp_kwargs['lof'], temp_kwargs['gof']\n",
    "    )\n",
    "\n",
    "    # If coordinates is not an input, get it from the pdb\n",
    "    df_items = _parse_pdbcoordinates(\n",
    "        self, pdb_path, position_correction, chain, sasa=True\n",
    "    )\n",
    "\n",
    "    # Add scores\n",
    "    df_items['Score'] = list(df_scores['Score'])\n",
    "\n",
    "    # Custom data\n",
    "    if custom is not None:\n",
    "        df_items[plot[2]] = custom\n",
    "\n",
    "        # Plot figure\n",
    "    fig = px.scatter_3d(\n",
    "        df_items,\n",
    "        x=plot[0],\n",
    "        y=plot[1],\n",
    "        z=plot[2],\n",
    "        color='Score',\n",
    "        color_continuous_scale=_matplotlib_to_plotly(temp_kwargs['colormap'], ),\n",
    "        range_color=temp_kwargs['colorbar_scale'],\n",
    "    )\n",
    "\n",
    "    # update axes\n",
    "    fig = _update_axes(fig, temp_kwargs)\n",
    "\n",
    "    # for the clickable part\n",
    "    fig.update_traces(\n",
    "        hovertext=df_items['Position'], hovertemplate='Position: %{hovertext}'\n",
    "    )\n",
    "    # title\n",
    "    fig = _update_title(fig, temp_kwargs)\n",
    "\n",
    "    # save fig to html\n",
    "    _save_html(fig, output_html)\n",
    "\n",
    "    # return plotly object\n",
    "    if temp_kwargs['return_plot_object']:\n",
    "        return fig\n",
    "\n",
    "    # show only if asked\n",
    "    if temp_kwargs['show']:\n",
    "        fig.show()\n",
    "\n",
    "    if output_df:\n",
    "        return df_items, df_scores"
   ]
  },
  {
   "cell_type": "markdown",
   "metadata": {},
   "source": [
    "## Aux functions (stolen from code_3D)"
   ]
  },
  {
   "cell_type": "code",
   "execution_count": 6,
   "metadata": {
    "execution": {
     "iopub.execute_input": "2020-11-26T19:31:18.834796Z",
     "iopub.status.busy": "2020-11-26T19:31:18.834278Z",
     "iopub.status.idle": "2020-11-26T19:31:18.851662Z",
     "shell.execute_reply": "2020-11-26T19:31:18.850436Z",
     "shell.execute_reply.started": "2020-11-26T19:31:18.834767Z"
    }
   },
   "outputs": [],
   "source": [
    "def _color_3D_scatter(df, mode, lof, gof):\n",
    "    \"\"\"\n",
    "    Color the data points by enrichment scores.\n",
    "\n",
    "    Parameters\n",
    "    -----------\n",
    "    df : pandas dataframe\n",
    "        The input is a dataframe that has colum with ['Position', 'Aminoacid', 'Score'].\n",
    "\n",
    "    mode : str\n",
    "        Specify what enrichment scores to use. If mode = 'mean', it will use the mean of\n",
    "        each position to classify the residues. If mode = 'A', it will use the Alanine substitution profile.\n",
    "        Can be used for each amino acid. Use the one-letter code and upper case.\n",
    "\n",
    "    gof : int, default is 1\n",
    "        cutoff for determining gain of function mutations based on mutagenesis data.\n",
    "\n",
    "    lof : int, default is -1\n",
    "        cutoff for determining loss of function mutations based on mutagenesis data.\n",
    "\n",
    "    Returns\n",
    "    ---------\n",
    "    df_grouped: pandas dataframe\n",
    "        New dataframe with added column of ['Color'] and the ['Score'] values of the\n",
    "        mode you chose.\n",
    "\n",
    "    \"\"\"\n",
    "\n",
    "    # Copy df\n",
    "    df_grouped = df.copy()\n",
    "\n",
    "    # Select grouping.\n",
    "    if mode == 'mean':\n",
    "        df_grouped = df_grouped.groupby(['Position'], as_index=False).mean()\n",
    "    else:\n",
    "        df_grouped = df_grouped.loc[df_grouped['Aminoacid'] == mode]\n",
    "\n",
    "    # Select colors based on Score values\n",
    "    df_grouped['Color'] = 'green'\n",
    "    df_grouped.loc[df_grouped['Score'] < lof, 'Color'] = 'blue'\n",
    "    df_grouped.loc[df_grouped['Score'] > gof, 'Color'] = 'red'\n",
    "\n",
    "    return df_grouped\n",
    "\n",
    "\n",
    "def _centroid(df):\n",
    "    '''\n",
    "    Find center of x,y,z using centroid method. \n",
    "    The input is a dataframe with columns x, y, z.\n",
    "    Returns the center of each of the three dimensions\n",
    "    '''\n",
    "    return df['x'].mean(), df['y'].mean(), df['z'].mean()\n",
    "\n",
    "\n",
    "def _parse_pdbcoordinates(\n",
    "    self, pdb_path, position_correction, chain, sasa=False\n",
    "):\n",
    "    '''parse coordinate of CA atoms. Will also return the bfactor and SASA using freesasa.\n",
    "    If PDB is missing atoms, it can handle it.'''\n",
    "\n",
    "    # Get structure from PDB\n",
    "    structure = PDBParser().get_structure('pdb', pdb_path)\n",
    "\n",
    "    coordinates = []\n",
    "    commands = []\n",
    "    bfactors = []\n",
    "    positions_worked = []  # positions present in pdb\n",
    "\n",
    "    # Iterate over each CA atom and geet coordinates\n",
    "    for i in np.arange(self.start_position + position_correction,\n",
    "                       self.end_position + position_correction):\n",
    "        # first check if atom exists\n",
    "        try:\n",
    "            structure[0][chain][int(i)].has_id(\"CA\")\n",
    "            # Get atom from pdb and geet coordinates\n",
    "            atom = list(structure[0][chain][int(i)][\"CA\"].get_vector()) + [i]\n",
    "            coordinates.append(atom)\n",
    "            # Get SASA command for each residue and bfactor\n",
    "            residue = \"s{}, chain {} and resi {}\".format(str(i), chain, str(i))\n",
    "            commands.append(residue)\n",
    "            bfactor = (structure[0][chain][int(i)][\"CA\"].get_bfactor())\n",
    "            bfactors.append(np.log10(bfactor))\n",
    "            positions_worked.append(i)\n",
    "        except:\n",
    "            print(\"residue {} not found\".format(str(i)))\n",
    "            coordinates.append([np.nan, np.nan, np.nan, i])\n",
    "\n",
    "    # Convert to df\n",
    "    df_coordinates = pd.DataFrame(\n",
    "        columns=['x', 'y', 'z', 'Position'], data=coordinates\n",
    "    )\n",
    "\n",
    "    # Center data\n",
    "    x, y, z = _centroid(df_coordinates)\n",
    "    df_coordinates['x_cent'] = (df_coordinates['x'] - x).abs()**2\n",
    "    df_coordinates['y_cent'] = (df_coordinates['y'] - y).abs()**2\n",
    "    df_coordinates['z_cent'] = (df_coordinates['z'] - z).abs()**2\n",
    "    df_coordinates['Distance'] = df_coordinates['x_cent'] + \\\n",
    "        df_coordinates['y_cent']+df_coordinates['z_cent']\n",
    "\n",
    "    # Add sasa values\n",
    "    if sasa:\n",
    "        # Get structure for SASA\n",
    "        structure_sasa = freesasa.Structure(pdb_path)\n",
    "        result = freesasa.calc(structure_sasa)\n",
    "        # Calculate sasa\n",
    "        sasa = freesasa.selectArea(commands, structure_sasa, result)\n",
    "        df_sasa = pd.DataFrame(columns=['SASA'], data=sasa.values())\n",
    "        df_sasa['log B-factor'] = bfactors\n",
    "        df_sasa['Position'] = positions_worked\n",
    "\n",
    "        # Merge\n",
    "        df_coordinates = df_coordinates.merge(\n",
    "            df_sasa, how='outer', on='Position'\n",
    "        )\n",
    "\n",
    "    return df_coordinates\n",
    "\n",
    "\n",
    "def _matplotlib_to_plotly(cmap, pl_entries=255):\n",
    "    '''convert a matplotlib colorscale into plotly rgb format'''\n",
    "    h = 1.0 / (pl_entries - 1)\n",
    "    pl_colorscale = []\n",
    "\n",
    "    for k in range(pl_entries):\n",
    "        C = list(map(np.uint8, np.array(cmap(k * h)[:3]) * 255))\n",
    "        pl_colorscale.append([k * h, 'rgb' + str((C[0], C[1], C[2]))])\n",
    "\n",
    "    return pl_colorscale"
   ]
  }
 ],
 "metadata": {
  "kernelspec": {
   "display_name": "Python 3",
   "language": "python",
   "name": "python3"
  },
  "language_info": {
   "codemirror_mode": {
    "name": "ipython",
    "version": 3
   },
   "file_extension": ".py",
   "mimetype": "text/x-python",
   "name": "python",
   "nbconvert_exporter": "python",
   "pygments_lexer": "ipython3",
   "version": "3.8.3"
  },
  "toc": {
   "base_numbering": 1,
   "nav_menu": {},
   "number_sections": true,
   "sideBar": true,
   "skip_h1_title": false,
   "title_cell": "Table of Contents",
   "title_sidebar": "Contents",
   "toc_cell": false,
   "toc_position": {
    "height": "100px",
    "left": "21px",
    "top": "69.2px",
    "width": "165px"
   },
   "toc_section_display": true,
   "toc_window_display": true
  },
  "toc-autonumbering": true,
  "toc-showcode": false,
  "varInspector": {
   "cols": {
    "lenName": 16,
    "lenType": 16,
    "lenVar": 40
   },
   "kernels_config": {
    "python": {
     "delete_cmd_postfix": "",
     "delete_cmd_prefix": "del ",
     "library": "var_list.py",
     "varRefreshCmd": "print(var_dic_list())"
    },
    "r": {
     "delete_cmd_postfix": ") ",
     "delete_cmd_prefix": "rm(",
     "library": "var_list.r",
     "varRefreshCmd": "cat(var_dic_list()) "
    }
   },
   "oldHeight": 122.4,
   "position": {
    "height": "423.4px",
    "left": "944.6px",
    "right": "20px",
    "top": "119px",
    "width": "315.4px"
   },
   "types_to_exclude": [
    "module",
    "function",
    "builtin_function_or_method",
    "instance",
    "_Feature"
   ],
   "varInspector_section_display": "block",
   "window_display": false
  }
 },
 "nbformat": 4,
 "nbformat_minor": 4
}
