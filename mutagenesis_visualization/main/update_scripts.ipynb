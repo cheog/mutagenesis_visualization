{
 "cells": [
  {
   "cell_type": "markdown",
   "metadata": {},
   "source": [
    "# Convert the ipynb to py files"
   ]
  },
  {
   "cell_type": "code",
   "execution_count": 3,
   "metadata": {
    "execution": {
     "iopub.execute_input": "2020-11-20T04:38:15.607594Z",
     "iopub.status.busy": "2020-11-20T04:38:15.607128Z",
     "iopub.status.idle": "2020-11-20T04:38:17.768964Z",
     "shell.execute_reply": "2020-11-20T04:38:17.767546Z",
     "shell.execute_reply.started": "2020-11-20T04:38:15.607554Z"
    }
   },
   "outputs": [
    {
     "name": "stdout",
     "output_type": "stream",
     "text": [
      "[NbConvertApp] Converting notebook code_3D.ipynb to script\n",
      "[NbConvertApp] Writing 19782 bytes to code_3D.py\n",
      "[NbConvertApp] Converting notebook code_PCA.ipynb to script\n",
      "[NbConvertApp] Writing 15799 bytes to code_PCA.py\n",
      "[NbConvertApp] Converting notebook code_bar.ipynb to script\n",
      "[NbConvertApp] Writing 13247 bytes to code_bar.py\n",
      "[NbConvertApp] Converting notebook code_class.ipynb to script\n",
      "[NbConvertApp] Writing 7384 bytes to code_class.py\n",
      "[NbConvertApp] Converting notebook code_createobjects.ipynb to script\n",
      "[NbConvertApp] Writing 15923 bytes to code_createobjects.py\n",
      "[NbConvertApp] Converting notebook code_demo.ipynb to script\n",
      "[NbConvertApp] Writing 7971 bytes to code_demo.py\n",
      "[NbConvertApp] Converting notebook code_heatmaps.ipynb to script\n",
      "[NbConvertApp] Writing 21458 bytes to code_heatmaps.py\n",
      "[NbConvertApp] Converting notebook code_kernel.ipynb to script\n",
      "[NbConvertApp] Writing 8393 bytes to code_kernel.py\n",
      "[NbConvertApp] Converting notebook code_kwargs.ipynb to script\n",
      "[NbConvertApp] Writing 5348 bytes to code_kwargs.py\n",
      "[NbConvertApp] Converting notebook code_other.ipynb to script\n",
      "[NbConvertApp] Writing 22657 bytes to code_other.py\n",
      "[NbConvertApp] Converting notebook code_plotly.ipynb to script\n",
      "[NbConvertApp] Writing 5692 bytes to code_plotly.py\n",
      "[NbConvertApp] Converting notebook code_process_data.ipynb to script\n",
      "[NbConvertApp] Writing 33578 bytes to code_process_data.py\n",
      "[NbConvertApp] Converting notebook code_scatter.ipynb to script\n",
      "[NbConvertApp] Writing 3268 bytes to code_scatter.py\n",
      "[NbConvertApp] Converting notebook code_synthesis.ipynb to script\n",
      "[NbConvertApp] Writing 10035 bytes to code_synthesis.py\n",
      "[NbConvertApp] Converting notebook code_utils.ipynb to script\n",
      "[NbConvertApp] Writing 15186 bytes to code_utils.py\n"
     ]
    }
   ],
   "source": [
    "!jupyter nbconvert --output-dir='py' --to script notebooks/code_*.ipynb"
   ]
  },
  {
   "cell_type": "code",
   "execution_count": 2,
   "metadata": {
    "execution": {
     "iopub.execute_input": "2020-11-20T05:15:15.618646Z",
     "iopub.status.busy": "2020-11-20T05:15:15.614889Z",
     "iopub.status.idle": "2020-11-20T05:15:16.851709Z",
     "shell.execute_reply": "2020-11-20T05:15:16.850466Z",
     "shell.execute_reply.started": "2020-11-20T05:15:15.618614Z"
    }
   },
   "outputs": [
    {
     "name": "stdout",
     "output_type": "stream",
     "text": [
      "[NbConvertApp] Converting notebook ../tests/notebooks/test_demo.ipynb to script\n",
      "[NbConvertApp] Writing 1963 bytes to ../tests/py/test_demo.py\n",
      "[NbConvertApp] Converting notebook ../tests/notebooks/test_heatmaps.ipynb to script\n",
      "[NbConvertApp] Writing 1662 bytes to ../tests/py/test_heatmaps.py\n",
      "[NbConvertApp] Converting notebook ../tests/notebooks/test_kwargs.ipynb to script\n",
      "[NbConvertApp] Writing 1178 bytes to ../tests/py/test_kwargs.py\n",
      "[NbConvertApp] Converting notebook ../tests/notebooks/test_process_data.ipynb to script\n",
      "[NbConvertApp] Writing 3842 bytes to ../tests/py/test_process_data.py\n",
      "[NbConvertApp] Converting notebook ../tests/notebooks/test_synthesis.ipynb to script\n",
      "[NbConvertApp] Writing 4690 bytes to ../tests/py/test_synthesis.py\n",
      "[NbConvertApp] Converting notebook ../tests/notebooks/test_utils.ipynb to script\n",
      "[NbConvertApp] Writing 6401 bytes to ../tests/py/test_utils.py\n"
     ]
    }
   ],
   "source": [
    "!jupyter nbconvert --output-dir='../tests/py' --to script ../tests/notebooks/test_*.ipynb"
   ]
  },
  {
   "cell_type": "markdown",
   "metadata": {},
   "source": [
    "# Run tests"
   ]
  },
  {
   "cell_type": "code",
   "execution_count": null,
   "metadata": {},
   "outputs": [],
   "source": [
    "!python -m pytest"
   ]
  },
  {
   "cell_type": "code",
   "execution_count": null,
   "metadata": {},
   "outputs": [],
   "source": []
  }
 ],
 "metadata": {
  "kernelspec": {
   "display_name": "Python 3",
   "language": "python",
   "name": "python3"
  },
  "language_info": {
   "codemirror_mode": {
    "name": "ipython",
    "version": 3
   },
   "file_extension": ".py",
   "mimetype": "text/x-python",
   "name": "python",
   "nbconvert_exporter": "python",
   "pygments_lexer": "ipython3",
   "version": "3.8.3"
  }
 },
 "nbformat": 4,
 "nbformat_minor": 4
}
