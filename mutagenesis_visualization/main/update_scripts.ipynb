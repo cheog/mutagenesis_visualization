{
 "cells": [
  {
   "cell_type": "markdown",
   "metadata": {},
   "source": [
    "# Convert the ipynb to py files"
   ]
  },
  {
   "cell_type": "code",
   "execution_count": 1,
   "metadata": {
    "execution": {
     "iopub.execute_input": "2020-11-21T05:07:46.032154Z",
     "iopub.status.busy": "2020-11-21T05:07:46.031771Z",
     "iopub.status.idle": "2020-11-21T05:07:48.971594Z",
     "shell.execute_reply": "2020-11-21T05:07:48.971041Z",
     "shell.execute_reply.started": "2020-11-21T05:07:46.032123Z"
    }
   },
   "outputs": [
    {
     "name": "stdout",
     "output_type": "stream",
     "text": [
      "[NbConvertApp] Converting notebook notebooks/code_3D.ipynb to script\n",
      "[NbConvertApp] Writing 19877 bytes to scripts/code_3D.py\n",
      "[NbConvertApp] Converting notebook notebooks/code_PCA.ipynb to script\n",
      "[NbConvertApp] Writing 15869 bytes to scripts/code_PCA.py\n",
      "[NbConvertApp] Converting notebook notebooks/code_bar.ipynb to script\n",
      "[NbConvertApp] Writing 13317 bytes to scripts/code_bar.py\n",
      "[NbConvertApp] Converting notebook notebooks/code_class.ipynb to script\n",
      "[NbConvertApp] Writing 7454 bytes to scripts/code_class.py\n",
      "[NbConvertApp] Converting notebook notebooks/code_createobjects.ipynb to script\n",
      "[NbConvertApp] Writing 15993 bytes to scripts/code_createobjects.py\n",
      "[NbConvertApp] Converting notebook notebooks/code_demo.ipynb to script\n",
      "[NbConvertApp] Writing 8041 bytes to scripts/code_demo.py\n",
      "[NbConvertApp] Converting notebook notebooks/code_heatmaps.ipynb to script\n",
      "[NbConvertApp] Writing 21528 bytes to scripts/code_heatmaps.py\n",
      "[NbConvertApp] Converting notebook notebooks/code_kernel.ipynb to script\n",
      "[NbConvertApp] Writing 8463 bytes to scripts/code_kernel.py\n",
      "[NbConvertApp] Converting notebook notebooks/code_kwargs.ipynb to script\n",
      "[NbConvertApp] Writing 5348 bytes to scripts/code_kwargs.py\n",
      "[NbConvertApp] Converting notebook notebooks/code_other.ipynb to script\n",
      "[NbConvertApp] Writing 22727 bytes to scripts/code_other.py\n",
      "[NbConvertApp] Converting notebook notebooks/code_plotly.ipynb to script\n",
      "[NbConvertApp] Writing 5762 bytes to scripts/code_plotly.py\n",
      "[NbConvertApp] Converting notebook notebooks/code_process_data.ipynb to script\n",
      "[NbConvertApp] Writing 33578 bytes to scripts/code_process_data.py\n",
      "[NbConvertApp] Converting notebook notebooks/code_scatter.ipynb to script\n",
      "[NbConvertApp] Writing 3338 bytes to scripts/code_scatter.py\n",
      "[NbConvertApp] Converting notebook notebooks/code_synthesis.ipynb to script\n",
      "[NbConvertApp] Writing 10035 bytes to scripts/code_synthesis.py\n",
      "[NbConvertApp] Converting notebook notebooks/code_utils.ipynb to script\n",
      "[NbConvertApp] Writing 15186 bytes to scripts/code_utils.py\n"
     ]
    }
   ],
   "source": [
    "!jupyter nbconvert --output-dir='scripts' --to script notebooks/code_*.ipynb"
   ]
  },
  {
   "cell_type": "code",
   "execution_count": 5,
   "metadata": {
    "execution": {
     "iopub.execute_input": "2020-11-21T05:18:43.901810Z",
     "iopub.status.busy": "2020-11-21T05:18:43.900993Z",
     "iopub.status.idle": "2020-11-21T05:18:46.163368Z",
     "shell.execute_reply": "2020-11-21T05:18:46.162267Z",
     "shell.execute_reply.started": "2020-11-21T05:18:43.901772Z"
    }
   },
   "outputs": [
    {
     "name": "stdout",
     "output_type": "stream",
     "text": [
      "[NbConvertApp] Converting notebook ../tests/notebooks/test_3D.ipynb to script\n",
      "[NbConvertApp] Writing 2251 bytes to ../tests/scripts/test_3D.py\n",
      "[NbConvertApp] Converting notebook ../tests/notebooks/test_demo.ipynb to script\n",
      "[NbConvertApp] Writing 1962 bytes to ../tests/scripts/test_demo.py\n",
      "[NbConvertApp] Converting notebook ../tests/notebooks/test_heatmaps.ipynb to script\n",
      "[NbConvertApp] Writing 1661 bytes to ../tests/scripts/test_heatmaps.py\n",
      "[NbConvertApp] Converting notebook ../tests/notebooks/test_kwargs.ipynb to script\n",
      "[NbConvertApp] Writing 1177 bytes to ../tests/scripts/test_kwargs.py\n",
      "[NbConvertApp] Converting notebook ../tests/notebooks/test_process_data.ipynb to script\n",
      "[NbConvertApp] Writing 3841 bytes to ../tests/scripts/test_process_data.py\n",
      "[NbConvertApp] Converting notebook ../tests/notebooks/test_synthesis.ipynb to script\n",
      "[NbConvertApp] Writing 4689 bytes to ../tests/scripts/test_synthesis.py\n",
      "[NbConvertApp] Converting notebook ../tests/notebooks/test_utils.ipynb to script\n",
      "[NbConvertApp] Writing 6400 bytes to ../tests/scripts/test_utils.py\n"
     ]
    }
   ],
   "source": [
    "!jupyter nbconvert --output-dir='../tests/scripts' --to script ../tests/notebooks/test_*.ipynb"
   ]
  },
  {
   "cell_type": "markdown",
   "metadata": {},
   "source": [
    "# Run tests"
   ]
  },
  {
   "cell_type": "code",
   "execution_count": null,
   "metadata": {},
   "outputs": [],
   "source": [
    "!python -m pytest"
   ]
  },
  {
   "cell_type": "code",
   "execution_count": null,
   "metadata": {},
   "outputs": [],
   "source": []
  }
 ],
 "metadata": {
  "kernelspec": {
   "display_name": "Python 3",
   "language": "python",
   "name": "python3"
  },
  "language_info": {
   "codemirror_mode": {
    "name": "ipython",
    "version": 3
   },
   "file_extension": ".py",
   "mimetype": "text/x-python",
   "name": "python",
   "nbconvert_exporter": "python",
   "pygments_lexer": "ipython3",
   "version": "3.8.3"
  }
 },
 "nbformat": 4,
 "nbformat_minor": 4
}
