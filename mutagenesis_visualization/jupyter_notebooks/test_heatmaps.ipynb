{
 "cells": [
  {
   "cell_type": "markdown",
   "metadata": {
    "execution": {
     "iopub.execute_input": "2020-11-13T04:23:34.797446Z",
     "iopub.status.busy": "2020-11-13T04:23:34.796905Z",
     "iopub.status.idle": "2020-11-13T04:23:35.479407Z",
     "shell.execute_reply": "2020-11-13T04:23:35.478761Z",
     "shell.execute_reply.started": "2020-11-13T04:23:34.797414Z"
    }
   },
   "source": [
    "# Test of code_heatmaps\n"
   ]
  },
  {
   "cell_type": "markdown",
   "metadata": {},
   "source": [
    "## Import modules"
   ]
  },
  {
   "cell_type": "code",
   "execution_count": null,
   "metadata": {},
   "outputs": [],
   "source": [
    "# kwargs and parameters\n",
    "try:\n",
    "    import import_notebook\n",
    "except ModuleNotFoundError:\n",
    "    pass\n",
    "\n",
    "import pandas as pd\n",
    "import code_heatmaps\n"
   ]
  },
  {
   "cell_type": "markdown",
   "metadata": {},
   "source": [
    "## Test main functions"
   ]
  },
  {
   "cell_type": "code",
   "execution_count": null,
   "metadata": {},
   "outputs": [],
   "source": []
  },
  {
   "cell_type": "markdown",
   "metadata": {
    "execution": {
     "iopub.execute_input": "2020-11-13T04:38:18.165953Z",
     "iopub.status.busy": "2020-11-13T04:38:18.165758Z",
     "iopub.status.idle": "2020-11-13T04:38:18.169695Z",
     "shell.execute_reply": "2020-11-13T04:38:18.168850Z",
     "shell.execute_reply.started": "2020-11-13T04:38:18.165933Z"
    }
   },
   "source": [
    "## Test aux functions"
   ]
  },
  {
   "cell_type": "code",
   "execution_count": 13,
   "metadata": {
    "execution": {
     "iopub.execute_input": "2020-11-13T04:27:41.543900Z",
     "iopub.status.busy": "2020-11-13T04:27:41.543681Z",
     "iopub.status.idle": "2020-11-13T04:27:41.549051Z",
     "shell.execute_reply": "2020-11-13T04:27:41.547973Z",
     "shell.execute_reply.started": "2020-11-13T04:27:41.543879Z"
    }
   },
   "outputs": [],
   "source": [
    "def test_hierarchical_sort():\n",
    "    df = pd.DataFrame([[1,7,6,2],[0,0,0,0],[10,10,10,10],[1,1,1,1]])\n",
    "    result = code_heatmaps._hierarchical_sort(df.T)\n",
    "    assert (result == [2,0,1,3]).all(), 'columns are not properly sorted out'\n",
    "    "
   ]
  },
  {
   "cell_type": "code",
   "execution_count": 14,
   "metadata": {
    "execution": {
     "iopub.execute_input": "2020-11-13T04:27:42.178979Z",
     "iopub.status.busy": "2020-11-13T04:27:42.178766Z",
     "iopub.status.idle": "2020-11-13T04:27:42.183798Z",
     "shell.execute_reply": "2020-11-13T04:27:42.182862Z",
     "shell.execute_reply.started": "2020-11-13T04:27:42.178959Z"
    }
   },
   "outputs": [],
   "source": [
    "test_hierarchical_sort()"
   ]
  },
  {
   "cell_type": "code",
   "execution_count": null,
   "metadata": {},
   "outputs": [],
   "source": [
    "# Will need to convert this ipynb to a .py file before runnin pytest"
   ]
  }
 ],
 "metadata": {
  "kernelspec": {
   "display_name": "Python 3",
   "language": "python",
   "name": "python3"
  },
  "language_info": {
   "codemirror_mode": {
    "name": "ipython",
    "version": 3
   },
   "file_extension": ".py",
   "mimetype": "text/x-python",
   "name": "python",
   "nbconvert_exporter": "python",
   "pygments_lexer": "ipython3",
   "version": "3.8.3"
  }
 },
 "nbformat": 4,
 "nbformat_minor": 4
}
