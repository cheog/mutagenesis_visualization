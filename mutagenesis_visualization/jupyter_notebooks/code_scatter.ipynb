{
 "cells": [
  {
   "cell_type": "markdown",
   "metadata": {},
   "source": [
    "# Import Modules"
   ]
  },
  {
   "cell_type": "code",
   "execution_count": 2,
   "metadata": {
    "ExecuteTime": {
     "end_time": "2020-10-12T22:36:10.914292Z",
     "start_time": "2020-10-12T22:36:06.031777Z"
    },
    "execution": {
     "iopub.execute_input": "2020-11-17T19:41:47.096889Z",
     "iopub.status.busy": "2020-11-17T19:41:47.096357Z",
     "iopub.status.idle": "2020-11-17T19:41:47.313948Z",
     "shell.execute_reply": "2020-11-17T19:41:47.312434Z",
     "shell.execute_reply.started": "2020-11-17T19:41:47.096860Z"
    }
   },
   "outputs": [
    {
     "name": "stdout",
     "output_type": "stream",
     "text": [
      "importing Jupyter notebook from code_utils.ipynb\n",
      "importing Jupyter notebook from code_heatmaps.ipynb\n"
     ]
    }
   ],
   "source": [
    "import numpy as np\n",
    "import seaborn as sns\n",
    "import pandas as pd\n",
    "import itertools\n",
    "import copy\n",
    "from scipy import stats\n",
    "from matplotlib import rcParams\n",
    "import matplotlib.pyplot as plt\n",
    "import matplotlib.gridspec as gridspec\n",
    "import matplotlib.patches as patches\n",
    "import matplotlib.ticker as ticker\n",
    "from os import path\n",
    "import os\n",
    "import logomaker\n",
    "from pathlib import Path\n",
    "from typing import Union\n",
    "from collections import defaultdict\n",
    "\n",
    "# kwargs and parameters\n",
    "try:\n",
    "    import import_notebook\n",
    "except ModuleNotFoundError:\n",
    "    pass\n",
    "import code_kwargs\n",
    "import code_utils\n",
    "import code_heatmaps"
   ]
  },
  {
   "cell_type": "markdown",
   "metadata": {},
   "source": [
    "# Plot Functions"
   ]
  },
  {
   "cell_type": "markdown",
   "metadata": {},
   "source": [
    "## Scatter"
   ]
  },
  {
   "cell_type": "code",
   "execution_count": null,
   "metadata": {
    "ExecuteTime": {
     "end_time": "2020-10-06T23:17:05.097076Z",
     "start_time": "2020-10-06T23:17:05.074077Z"
    },
    "execution": {
     "iopub.execute_input": "2020-10-11T02:23:58.396433Z",
     "iopub.status.busy": "2020-10-11T02:23:58.396132Z",
     "iopub.status.idle": "2020-10-11T02:23:58.458867Z",
     "shell.execute_reply": "2020-10-11T02:23:58.458223Z",
     "shell.execute_reply.started": "2020-10-11T02:23:58.396405Z"
    }
   },
   "outputs": [],
   "source": [
    "def plot_scatter(self, obj2, mode='pointmutant',\n",
    "                 output_file: Union[None, str, Path] = None, **kwargs):\n",
    "    '''\n",
    "    Generate a scatter plot between object and a second object of the same class.\n",
    "\n",
    "    Parameters\n",
    "    ----------\n",
    "    self : object from class *Screen*\n",
    "\n",
    "    obj2 : object from class *Screen* to do the scatter with\n",
    "\n",
    "    mode : str, default 'pointmutant'. \n",
    "        Alternative set to \"mean\" for the mean of each position\n",
    "\n",
    "    output_file : str, default None\n",
    "        If you want to export the generated graph, add the path and name of the file.\n",
    "        Example: 'path/filename.png' or 'path/filename.svg'. \n",
    "\n",
    "    **kwargs : other keyword arguments\n",
    "\n",
    "    Returns\n",
    "    ----------\n",
    "    None.\n",
    "    '''\n",
    "\n",
    "    # update kwargs\n",
    "    temp_kwargs = copy.deepcopy(code_kwargs.kwargs())\n",
    "    temp_kwargs.update(kwargs)\n",
    "    temp_kwargs['figsize'] = kwargs.get('figsize', (2, 2))\n",
    "\n",
    "    # Chose mode:\n",
    "    if mode == 'pointmutant':\n",
    "        df = code_utils._process_bypointmutant(self, obj2)\n",
    "    else:\n",
    "        df = code_utils._process_meanresidue(self, obj2)\n",
    "\n",
    "    # create figure\n",
    "    fig, ax = plt.subplots(figsize=temp_kwargs['figsize'])\n",
    "\n",
    "    # import parameters\n",
    "    code_kwargs._parameters()\n",
    "\n",
    "    # Scatter data points\n",
    "    plt.scatter(df['dataset_1'], df['dataset_2'], c='k', s=8,\n",
    "                alpha=0.5, rasterized=True, label='_nolegend_')\n",
    "\n",
    "    # Titles\n",
    "    plt.title(temp_kwargs['title'], fontsize=12,\n",
    "              fontname='Arial', color='k', pad=8)\n",
    "    plt.ylabel(temp_kwargs['y_label'], fontsize=10,\n",
    "               fontname=\"Arial\", color='k', labelpad=0)\n",
    "    plt.xlabel(temp_kwargs['x_label'], fontsize=10,\n",
    "               fontname=\"Arial\", color='k')\n",
    "\n",
    "    # correlation and R2\n",
    "    slope, intercept, r_value, p_value, std_err = stats.linregress(\n",
    "        df['dataset_1'], df['dataset_2'])\n",
    "    R2 = str(round(r_value**2, 2))\n",
    "    legend_label = \"$R^2$ = {}\".format(R2)\n",
    "    # fit and graph line\n",
    "    fit = np.polyfit(df['dataset_1'], df['dataset_2'], 1)\n",
    "    plt.plot(np.unique(df['dataset_1']), np.poly1d(fit)(\n",
    "        np.unique(df['dataset_1'])), color='r', linewidth=1, label=legend_label)\n",
    "    plt.grid()\n",
    "\n",
    "    # other graph parameters\n",
    "    plt.xlim(temp_kwargs['xscale'])\n",
    "    plt.ylim(temp_kwargs['yscale'])\n",
    "    ax.xaxis.set_major_locator(\n",
    "        ticker.MultipleLocator(temp_kwargs['tick_spacing']))\n",
    "    ax.yaxis.set_major_locator(\n",
    "        ticker.MultipleLocator(temp_kwargs['tick_spacing']))\n",
    "    plt.gca().set_aspect('equal', adjustable='box')\n",
    "    plt.draw()\n",
    "\n",
    "    # Legend\n",
    "    plt.legend(loc='upper left', handlelength=0,\n",
    "               handletextpad=0, frameon=False, fontsize=10)\n",
    "\n",
    "    # save file\n",
    "    code_utils._save_work(fig, output_file, temp_kwargs)\n",
    "\n",
    "    if temp_kwargs['show']:\n",
    "        plt.show()\n",
    "\n",
    "    return"
   ]
  }
 ],
 "metadata": {
  "kernelspec": {
   "display_name": "Python 3",
   "language": "python",
   "name": "python3"
  },
  "language_info": {
   "codemirror_mode": {
    "name": "ipython",
    "version": 3
   },
   "file_extension": ".py",
   "mimetype": "text/x-python",
   "name": "python",
   "nbconvert_exporter": "python",
   "pygments_lexer": "ipython3",
   "version": "3.8.3"
  },
  "toc": {
   "base_numbering": 1,
   "nav_menu": {},
   "number_sections": true,
   "sideBar": true,
   "skip_h1_title": false,
   "title_cell": "Table of Contents",
   "title_sidebar": "Contents",
   "toc_cell": false,
   "toc_position": {
    "height": "100px",
    "left": "21px",
    "top": "69.2px",
    "width": "165px"
   },
   "toc_section_display": true,
   "toc_window_display": true
  },
  "toc-autonumbering": true,
  "toc-showcode": false,
  "varInspector": {
   "cols": {
    "lenName": 16,
    "lenType": 16,
    "lenVar": 40
   },
   "kernels_config": {
    "python": {
     "delete_cmd_postfix": "",
     "delete_cmd_prefix": "del ",
     "library": "var_list.py",
     "varRefreshCmd": "print(var_dic_list())"
    },
    "r": {
     "delete_cmd_postfix": ") ",
     "delete_cmd_prefix": "rm(",
     "library": "var_list.r",
     "varRefreshCmd": "cat(var_dic_list()) "
    }
   },
   "oldHeight": 122.4,
   "position": {
    "height": "423.4px",
    "left": "944.6px",
    "right": "20px",
    "top": "119px",
    "width": "315.4px"
   },
   "types_to_exclude": [
    "module",
    "function",
    "builtin_function_or_method",
    "instance",
    "_Feature"
   ],
   "varInspector_section_display": "block",
   "window_display": false
  }
 },
 "nbformat": 4,
 "nbformat_minor": 4
}
