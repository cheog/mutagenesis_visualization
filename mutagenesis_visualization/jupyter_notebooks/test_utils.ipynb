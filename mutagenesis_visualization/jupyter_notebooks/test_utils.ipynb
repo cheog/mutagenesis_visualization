{
 "cells": [
  {
   "cell_type": "markdown",
   "metadata": {},
   "source": [
    "# Test of code_utils\n"
   ]
  },
  {
   "cell_type": "code",
   "execution_count": 1,
   "metadata": {
    "execution": {
     "iopub.execute_input": "2020-11-14T03:16:23.868393Z",
     "iopub.status.busy": "2020-11-14T03:16:23.867717Z",
     "iopub.status.idle": "2020-11-14T03:16:24.377482Z",
     "shell.execute_reply": "2020-11-14T03:16:24.376725Z",
     "shell.execute_reply.started": "2020-11-14T03:16:23.868354Z"
    }
   },
   "outputs": [
    {
     "name": "stdout",
     "output_type": "stream",
     "text": [
      "importing Jupyter notebook from code_utils.ipynb\n"
     ]
    }
   ],
   "source": [
    "try:\n",
    "    import import_notebook\n",
    "except ModuleNotFoundError:\n",
    "    pass\n",
    "\n",
    "import pandas as pd\n",
    "import numpy as np\n",
    "import code_utils"
   ]
  },
  {
   "cell_type": "markdown",
   "metadata": {},
   "source": [
    "## Internal functions"
   ]
  },
  {
   "cell_type": "markdown",
   "metadata": {},
   "source": [
    "### Parse dataset"
   ]
  },
  {
   "cell_type": "code",
   "execution_count": null,
   "metadata": {},
   "outputs": [],
   "source": [
    "def test_common():\n",
    "    # lists\n",
    "    list_a = list('abcde')\n",
    "    list_b = list('efghi')\n",
    "    list_c = list('jklmn')\n",
    "    list_d = list('mklj')\n",
    "\n",
    "    # error message\n",
    "    error_message = '_common not returning the common elements of two lists'\n",
    "\n",
    "    # assert\n",
    "    assert code_utils._common(list_a, list_b) == ['e'], error_message\n",
    "    assert code_utils._common(list_a, list_c) == [], error_message\n",
    "    assert code_utils._common(list_c, list_d) == list('jklm'), error_message"
   ]
  },
  {
   "cell_type": "markdown",
   "metadata": {},
   "source": [
    "### SNV internal"
   ]
  },
  {
   "cell_type": "code",
   "execution_count": 2,
   "metadata": {
    "execution": {
     "iopub.execute_input": "2020-11-14T03:16:26.502684Z",
     "iopub.status.busy": "2020-11-14T03:16:26.502421Z",
     "iopub.status.idle": "2020-11-14T03:16:26.509770Z",
     "shell.execute_reply": "2020-11-14T03:16:26.508371Z",
     "shell.execute_reply.started": "2020-11-14T03:16:26.502658Z"
    }
   },
   "outputs": [],
   "source": [
    "def test_aminoacids_snv():\n",
    "    '''testing full capabilities of function'''\n",
    "    \n",
    "    # Create dict with codons\n",
    "    codontable = code_utils._dict_codontoaa()\n",
    "    \n",
    "    # Create input arguments\n",
    "    pairs = [['F', 'L'], ['I', 'M'], ['T', 'A'], ['S', 'R'],\n",
    "         ['F', 'P'], ['I', 'G'], ['T', 'L'], ['S', 'H'], ['A','A']]\n",
    "    \n",
    "    # Expected answer\n",
    "    expected_answer = [True]*4 + [False]*5\n",
    "    \n",
    "    # Calculate answer and assert\n",
    "    for pair, exp_ans in zip(pairs, expected_answer):\n",
    "        calculated_answer = code_utils._aminoacids_snv(\n",
    "            pair[0], pair[1], codontable, same_aa_SNV=False)\n",
    "        assert exp_ans == calculated_answer, 'Error in determining SNV'\n",
    "    \n",
    "    # Now change the same_aa_SNV parameter\n",
    "    expected_answer = code_utils._aminoacids_snv('A', 'A', codontable, same_aa_SNV=True)\n",
    "    \n",
    "    assert  expected_answer == True, 'Error in determining SNV when the two amino acids are the same'"
   ]
  },
  {
   "cell_type": "code",
   "execution_count": 19,
   "metadata": {
    "execution": {
     "iopub.execute_input": "2020-11-14T03:17:51.375803Z",
     "iopub.status.busy": "2020-11-14T03:17:51.375571Z",
     "iopub.status.idle": "2020-11-14T03:17:51.382633Z",
     "shell.execute_reply": "2020-11-14T03:17:51.381364Z",
     "shell.execute_reply.started": "2020-11-14T03:17:51.375781Z"
    }
   },
   "outputs": [],
   "source": [
    "def test_codons_snv():\n",
    "    '''testing full capabilities of function'''\n",
    "    \n",
    "    # Create input arguments\n",
    "    pairs = [['AAA', 'AAT'], ['ACA', 'ACT'], ['ATA', 'TTA'], ['CCC', 'CCT'],\n",
    "         ['AAA', 'ACC'], ['CAA', 'CCC'], ['ATA', 'TTT'], ['CCC', 'AAA'], ['AAA','AAA']]\n",
    "    \n",
    "    # Expected answer\n",
    "    expected_answer = [True]*4 + [False]*5\n",
    "    \n",
    "    # Calculate answer and assert\n",
    "    for pair, exp_ans in zip(pairs, expected_answer):\n",
    "        calculated_answer = code_utils._codons_pointmutants(\n",
    "            pair[0], pair[1], same_codon_SNV=False)\n",
    "        assert exp_ans == calculated_answer, 'Error in determining SNV'\n",
    "    \n",
    "    # Now change the same_aa_SNV parameter\n",
    "    expected_answer = code_utils._codons_pointmutants('CAA', 'CAA', same_codon_SNV=True)\n",
    "    \n",
    "    assert  expected_answer == True, 'Error in determining SNV when the two codons are the same'"
   ]
  },
  {
   "cell_type": "markdown",
   "metadata": {},
   "source": [
    "### Scatter Internal"
   ]
  },
  {
   "cell_type": "code",
   "execution_count": null,
   "metadata": {},
   "outputs": [],
   "source": [
    "def test_process_bypointmutant():\n",
    "    '''testing that output type is a dataframe'''\n",
    "    # Create mock objects\n",
    "    self = type('', (), {})()\n",
    "    obj = type('', (), {})()\n",
    "\n",
    "    # Create dataframes as attributes of the objects\n",
    "    self.dataframe = pd.DataFrame(np.array([[1, 2], [4, 5], [7, 8]]),\n",
    "                                  columns=['Score_NaN', 'Variant'])\n",
    "    obj.dataframe = pd.DataFrame(np.array([[7, 8], [9, 0]]),\n",
    "                                 columns=['Score_NaN', 'Variant'])\n",
    "\n",
    "    # Call the function we are testing\n",
    "    df = code_utils._process_bypointmutant(self, obj)\n",
    "\n",
    "    # Assert\n",
    "    assert len(df) == 2, 'truncation of longer dataset is not working properly'"
   ]
  },
  {
   "cell_type": "code",
   "execution_count": null,
   "metadata": {},
   "outputs": [],
   "source": [
    "def test_process_meanresidue():\n",
    "    '''testing full capabilities of function'''\n",
    "    # Create mock objects\n",
    "    self = type('', (), {})()\n",
    "    obj = type('', (), {})()\n",
    "\n",
    "    # Create dataframes as attributes of the objects\n",
    "    self.dataframe = pd.DataFrame(np.array([[1, 2], [1, 6], [2, 8], [2, 4]]),\n",
    "                                  columns=['Position', 'Score'])\n",
    "    obj.dataframe = pd.DataFrame(np.array([[7, 8], [9, 0], [1, 6]]),\n",
    "                                 columns=['Position', 'Score'])\n",
    "    expected_answer = pd.DataFrame(np.array([[4, 6, 1, -2], [6, 8, 2, -2]]),\n",
    "                                   columns=['dataset_1', 'dataset_2', 'Position', 'd1 - d2'])\n",
    "    # Call the function we are testing\n",
    "    df = code_utils._process_meanresidue(self, obj)\n",
    "\n",
    "    # Assert\n",
    "    assert df.equals(expected_answer), 'error in _process_meanresidue'"
   ]
  },
  {
   "cell_type": "code",
   "execution_count": null,
   "metadata": {},
   "outputs": [],
   "source": [
    "def test_color_data():\n",
    "    '''testing full capabilities of function'''\n",
    "    df = pd.DataFrame()\n",
    "    df['Score'] = [1, 2, 3, 0, -1, -2, -3]\n",
    "    df['Expected_Answer'] = ['red']*3+['blue']*4\n",
    "    df['Calculated_answer'] = [code_utils._color_data(\n",
    "        df.loc[i], 'red', 'blue') for i in range(0, len(df['Score']))]\n",
    "    assert (df['Expected_Answer'] == df['Calculated_answer']\n",
    "            ).all(), 'error when assigning a color'"
   ]
  },
  {
   "cell_type": "markdown",
   "metadata": {},
   "source": [
    "## To manipulate reads"
   ]
  },
  {
   "cell_type": "code",
   "execution_count": null,
   "metadata": {},
   "outputs": [],
   "source": [
    "def test_translate_codons():\n",
    "    '''testing full capabilities of function'''\n",
    "    list_codons = ['AAA', 'AAC', 'AAG', 'AAT', 'ACA', 'ACC', 'ACG', 'ACT', 'AGA', 'AGC', 'AGG', 'AGT', 'ATA', 'ATC', 'ATG', 'ATT', 'CAA', 'CAC', 'CAG', 'CAT', 'CCA', 'CCC', 'CCG', 'CCT', 'CGA', 'CGC', 'CGG', 'CGT', 'CTA', 'CTC', 'CTG',\n",
    "                   'CTT', 'GAA', 'GAC', 'GAG', 'GAT', 'GCA', 'GCC', 'GCG', 'GCT', 'GGA', 'GGC', 'GGG', 'GGT', 'GTA', 'GTC', 'GTG', 'GTT', 'TAA', 'TAC', 'TAG', 'TAT', 'TCA', 'TCC', 'TCG', 'TCT', 'TGA', 'TGC', 'TGG', 'TGT', 'TTA', 'TTC', 'TTG', 'TTT']\n",
    "    list_aminoacids = ['K', 'N', 'K', 'N', 'T', 'T', 'T', 'T', 'R', 'S', 'R', 'S', 'I', 'I', 'M', 'I', 'Q', 'H', 'Q', 'H', 'P', 'P', 'P', 'P', 'R', 'R', 'R', 'R', 'L', 'L',\n",
    "                       'L', 'L', 'E', 'D', 'E', 'D', 'A', 'A', 'A', 'A', 'G', 'G', 'G', 'G', 'V', 'V', 'V', 'V', '*', 'Y', '*', 'Y', 'S', 'S', 'S', 'S', '*', 'C', 'W', 'C', 'L', 'F', 'L', 'F']\n",
    "    df = pd.DataFrame(index=list_codons)\n",
    "    translation = code_utils._translate_codons(df)\n",
    "    assert (translation ==\n",
    "            list_aminoacids), 'error when translating the codons of the dataframe index'"
   ]
  },
  {
   "cell_type": "code",
   "execution_count": 34,
   "metadata": {
    "execution": {
     "iopub.execute_input": "2020-11-14T03:32:38.997064Z",
     "iopub.status.busy": "2020-11-14T03:32:38.996822Z",
     "iopub.status.idle": "2020-11-14T03:32:39.006546Z",
     "shell.execute_reply": "2020-11-14T03:32:39.005917Z",
     "shell.execute_reply.started": "2020-11-14T03:32:38.997040Z"
    }
   },
   "outputs": [],
   "source": [
    "def test_is_DNA():\n",
    "    '''testing full capabilities of function'''\n",
    "    df = pd.DataFrame(index=['A', 'C', 'T', 'G', 'P', 'L'])\n",
    "    df2 = pd.DataFrame(index=['ATA', 'CAT', 'TGG', 'TGT'])\n",
    "    assert (code_utils._is_DNA(\n",
    "        df) == False), 'error determining if the index of the dataframe contains DNA'\n",
    "    assert (code_utils._is_DNA(df2) ==\n",
    "            True), 'error determining if the index of the dataframe contains DNA'"
   ]
  },
  {
   "cell_type": "code",
   "execution_count": 27,
   "metadata": {
    "execution": {
     "iopub.execute_input": "2020-11-14T03:27:58.745831Z",
     "iopub.status.busy": "2020-11-14T03:27:58.745576Z",
     "iopub.status.idle": "2020-11-14T03:28:00.656326Z",
     "shell.execute_reply": "2020-11-14T03:28:00.654829Z",
     "shell.execute_reply.started": "2020-11-14T03:27:58.745803Z"
    }
   },
   "outputs": [
    {
     "name": "stdout",
     "output_type": "stream",
     "text": [
      "\u001b[1m============================= test session starts ==============================\u001b[0m\n",
      "platform darwin -- Python 3.8.3, pytest-5.4.3, py-1.9.0, pluggy-0.13.1\n",
      "rootdir: /Users/fx/Dropbox/AKuriyanLab/Code/Python/Python_Scripts/mv_repo\n",
      "plugins: dash-1.16.3\n",
      "collected 9 items                                                              \u001b[0m\u001b[1m\n",
      "\n",
      "../py_scripts/test_heatmaps.py \u001b[32m.\u001b[0m\u001b[33m                                         [ 11%]\u001b[0m\n",
      "../py_scripts/test_utils.py \u001b[32m.\u001b[0m\u001b[32m.\u001b[0m\u001b[32m.\u001b[0m\u001b[32m.\u001b[0m\u001b[32m.\u001b[0m\u001b[32m.\u001b[0m\u001b[32m.\u001b[0m\u001b[32m.\u001b[0m\u001b[33m                                     [100%]\u001b[0m\n",
      "\n",
      "\u001b[33m=============================== warnings summary ===============================\u001b[0m\n",
      "/Users/fx/opt/anaconda3/lib/python3.8/site-packages/Bio/Alphabet/__init__.py:22\n",
      "  /Users/fx/opt/anaconda3/lib/python3.8/site-packages/Bio/Alphabet/__init__.py:22: PendingDeprecationWarning: We intend to remove or replace Bio.Alphabet in 2020, ideally avoid using it explicitly in your code. Please get in touch if you will be adversely affected by this. https://github.com/biopython/biopython/issues/2046\n",
      "    warnings.warn(\n",
      "\n",
      "-- Docs: https://docs.pytest.org/en/latest/warnings.html\n",
      "\u001b[33m========================= \u001b[32m9 passed\u001b[0m, \u001b[33m\u001b[1m1 warning\u001b[0m\u001b[33m in 0.96s\u001b[0m\u001b[33m =========================\u001b[0m\n"
     ]
    }
   ],
   "source": [
    "#!pytest ../py_scripts"
   ]
  },
  {
   "cell_type": "code",
   "execution_count": null,
   "metadata": {},
   "outputs": [],
   "source": []
  }
 ],
 "metadata": {
  "kernelspec": {
   "display_name": "Python 3",
   "language": "python",
   "name": "python3"
  },
  "language_info": {
   "codemirror_mode": {
    "name": "ipython",
    "version": 3
   },
   "file_extension": ".py",
   "mimetype": "text/x-python",
   "name": "python",
   "nbconvert_exporter": "python",
   "pygments_lexer": "ipython3",
   "version": "3.8.3"
  }
 },
 "nbformat": 4,
 "nbformat_minor": 4
}
