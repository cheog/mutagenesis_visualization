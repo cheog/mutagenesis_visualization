{
 "cells": [
  {
   "cell_type": "markdown",
   "metadata": {},
   "source": [
    "# Test of code_utils\n"
   ]
  },
  {
   "cell_type": "code",
   "execution_count": 9,
   "metadata": {
    "execution": {
     "iopub.execute_input": "2020-11-13T21:40:58.794065Z",
     "iopub.status.busy": "2020-11-13T21:40:58.793836Z",
     "iopub.status.idle": "2020-11-13T21:40:58.982661Z",
     "shell.execute_reply": "2020-11-13T21:40:58.977263Z",
     "shell.execute_reply.started": "2020-11-13T21:40:58.794021Z"
    }
   },
   "outputs": [
    {
     "name": "stdout",
     "output_type": "stream",
     "text": [
      "importing Jupyter notebook from code_utils.ipynb\n"
     ]
    }
   ],
   "source": [
    "try:\n",
    "    import import_notebook\n",
    "except ModuleNotFoundError:\n",
    "    pass\n",
    "\n",
    "import pandas as pd\n",
    "import code_utils"
   ]
  },
  {
   "cell_type": "markdown",
   "metadata": {},
   "source": [
    "## Internal functions"
   ]
  },
  {
   "cell_type": "markdown",
   "metadata": {},
   "source": [
    "### Parse dataset"
   ]
  },
  {
   "cell_type": "code",
   "execution_count": 83,
   "metadata": {
    "execution": {
     "iopub.execute_input": "2020-11-13T23:46:46.089136Z",
     "iopub.status.busy": "2020-11-13T23:46:46.088888Z",
     "iopub.status.idle": "2020-11-13T23:46:46.097784Z",
     "shell.execute_reply": "2020-11-13T23:46:46.095165Z",
     "shell.execute_reply.started": "2020-11-13T23:46:46.089107Z"
    }
   },
   "outputs": [],
   "source": [
    "def test_common():\n",
    "    # lists\n",
    "    list_a = list('abcde')\n",
    "    list_b = list('efghi')\n",
    "    list_c = list('jklmn')\n",
    "    list_d = list('mklj')\n",
    "    \n",
    "    # error message\n",
    "    error_message = '_common not returning the common elements of two lists'\n",
    "    \n",
    "    # assert\n",
    "    assert code_utils._common(list_a, list_b) == ['e'], error_message\n",
    "    assert code_utils._common(list_a, list_c) == [], error_message\n",
    "    assert code_utils._common(list_c, list_d) == list('jklm'), error_message"
   ]
  },
  {
   "cell_type": "code",
   "execution_count": 84,
   "metadata": {
    "execution": {
     "iopub.execute_input": "2020-11-13T23:46:50.043679Z",
     "iopub.status.busy": "2020-11-13T23:46:50.043339Z",
     "iopub.status.idle": "2020-11-13T23:46:50.055520Z",
     "shell.execute_reply": "2020-11-13T23:46:50.054834Z",
     "shell.execute_reply.started": "2020-11-13T23:46:50.043652Z"
    }
   },
   "outputs": [],
   "source": [
    "test_common()"
   ]
  },
  {
   "cell_type": "markdown",
   "metadata": {},
   "source": [
    "### Scatter Internal"
   ]
  },
  {
   "cell_type": "code",
   "execution_count": 58,
   "metadata": {
    "execution": {
     "iopub.execute_input": "2020-11-13T23:27:06.047448Z",
     "iopub.status.busy": "2020-11-13T23:27:06.047043Z",
     "iopub.status.idle": "2020-11-13T23:27:06.054148Z",
     "shell.execute_reply": "2020-11-13T23:27:06.052807Z",
     "shell.execute_reply.started": "2020-11-13T23:27:06.047417Z"
    }
   },
   "outputs": [],
   "source": [
    "def test_color_data():\n",
    "    df = pd.DataFrame()\n",
    "    df['Score'] = [1, 2, 3, 0, -1, -2, -3]\n",
    "    df['Expected_Answer'] = ['red']*3+['blue']*4\n",
    "    df['Calculated_answer'] = [code_utils._color_data(\n",
    "        df.loc[i], 'red', 'blue') for i in range(0, len(list_rows))]\n",
    "    assert (df['Expected_Answer'] == df['Calculated_answer']).all(), 'error when assigning a color'"
   ]
  },
  {
   "cell_type": "markdown",
   "metadata": {},
   "source": [
    "## To manipulate reads"
   ]
  },
  {
   "cell_type": "code",
   "execution_count": 23,
   "metadata": {
    "execution": {
     "iopub.execute_input": "2020-11-13T21:48:40.636628Z",
     "iopub.status.busy": "2020-11-13T21:48:40.636374Z",
     "iopub.status.idle": "2020-11-13T21:48:40.648798Z",
     "shell.execute_reply": "2020-11-13T21:48:40.647278Z",
     "shell.execute_reply.started": "2020-11-13T21:48:40.636599Z"
    }
   },
   "outputs": [],
   "source": [
    "def test_translate_codons():\n",
    "    list_codons = ['AAA', 'AAC', 'AAG', 'AAT', 'ACA', 'ACC', 'ACG', 'ACT', 'AGA', 'AGC', 'AGG', 'AGT', 'ATA', 'ATC', 'ATG', 'ATT', 'CAA', 'CAC', 'CAG', 'CAT', 'CCA', 'CCC', 'CCG', 'CCT', 'CGA', 'CGC', 'CGG', 'CGT', 'CTA', 'CTC', 'CTG',\n",
    "                   'CTT', 'GAA', 'GAC', 'GAG', 'GAT', 'GCA', 'GCC', 'GCG', 'GCT', 'GGA', 'GGC', 'GGG', 'GGT', 'GTA', 'GTC', 'GTG', 'GTT', 'TAA', 'TAC', 'TAG', 'TAT', 'TCA', 'TCC', 'TCG', 'TCT', 'TGA', 'TGC', 'TGG', 'TGT', 'TTA', 'TTC', 'TTG', 'TTT']\n",
    "    list_aminoacids = ['K', 'N', 'K', 'N', 'T', 'T', 'T', 'T', 'R', 'S', 'R', 'S', 'I', 'I', 'M', 'I', 'Q', 'H', 'Q', 'H', 'P', 'P', 'P', 'P', 'R', 'R', 'R', 'R', 'L', 'L',\n",
    "                       'L', 'L', 'E', 'D', 'E', 'D', 'A', 'A', 'A', 'A', 'G', 'G', 'G', 'G', 'V', 'V', 'V', 'V', '*', 'Y', '*', 'Y', 'S', 'S', 'S', 'S', '*', 'C', 'W', 'C', 'L', 'F', 'L', 'F']\n",
    "    df = pd.DataFrame(index=list_codons)\n",
    "    translation = code_utils._translate_codons(df)\n",
    "    assert (translation ==\n",
    "            list_aminoacids), 'error when translating the codons of the dataframe index'"
   ]
  },
  {
   "cell_type": "code",
   "execution_count": 26,
   "metadata": {
    "execution": {
     "iopub.execute_input": "2020-11-13T21:52:09.652168Z",
     "iopub.status.busy": "2020-11-13T21:52:09.651687Z",
     "iopub.status.idle": "2020-11-13T21:52:09.661054Z",
     "shell.execute_reply": "2020-11-13T21:52:09.660295Z",
     "shell.execute_reply.started": "2020-11-13T21:52:09.652137Z"
    }
   },
   "outputs": [],
   "source": [
    "def test_is_DNA():\n",
    "    df = pd.DataFrame(index=['A', 'C', 'T', 'G', 'P', 'L'])\n",
    "    df2 = pd.DataFrame(index=['ATA', 'CAT', 'TGG', 'TGT'])\n",
    "    assert (code_utils._translate_codons(\n",
    "        df) == False), 'error determining if the index of the dataframe contains DNA'\n",
    "    assert (code_utils._translate_codons(df2) ==\n",
    "            True), 'error determining if the index of the dataframe contains DNA'"
   ]
  },
  {
   "cell_type": "code",
   "execution_count": null,
   "metadata": {},
   "outputs": [],
   "source": []
  }
 ],
 "metadata": {
  "kernelspec": {
   "display_name": "Python 3",
   "language": "python",
   "name": "python3"
  },
  "language_info": {
   "codemirror_mode": {
    "name": "ipython",
    "version": 3
   },
   "file_extension": ".py",
   "mimetype": "text/x-python",
   "name": "python",
   "nbconvert_exporter": "python",
   "pygments_lexer": "ipython3",
   "version": "3.8.3"
  }
 },
 "nbformat": 4,
 "nbformat_minor": 4
}
