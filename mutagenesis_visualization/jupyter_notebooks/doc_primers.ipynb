{
 "cells": [
  {
   "cell_type": "markdown",
   "metadata": {},
   "source": [
    "In this section we will generate the primers that are used to do saturation mutagenesis on proteins. There are other methods to generate DNA libraries that you may want to consider (ie. Twist Bioscience)."
   ]
  },
  {
   "cell_type": "code",
   "execution_count": 1,
   "metadata": {
    "execution": {
     "iopub.execute_input": "2020-10-25T04:46:43.393457Z",
     "iopub.status.busy": "2020-10-25T04:46:43.393238Z",
     "iopub.status.idle": "2020-10-25T04:46:44.165878Z",
     "shell.execute_reply": "2020-10-25T04:46:44.164783Z",
     "shell.execute_reply.started": "2020-10-25T04:46:43.393436Z"
    }
   },
   "outputs": [],
   "source": [
    "# Run only if you are using the code from jupyter notebooks instead of pypi\n",
    "import import_notebook"
   ]
  },
  {
   "cell_type": "code",
   "execution_count": 2,
   "metadata": {
    "execution": {
     "iopub.execute_input": "2020-10-25T04:46:44.167571Z",
     "iopub.status.busy": "2020-10-25T04:46:44.167371Z",
     "iopub.status.idle": "2020-10-25T04:46:45.092720Z",
     "shell.execute_reply": "2020-10-25T04:46:45.092024Z",
     "shell.execute_reply.started": "2020-10-25T04:46:44.167548Z"
    }
   },
   "outputs": [
    {
     "name": "stdout",
     "output_type": "stream",
     "text": [
      "importing Jupyter notebook from code_primers.ipynb\n"
     ]
    }
   ],
   "source": [
    "import code_primers"
   ]
  },
  {
   "cell_type": "markdown",
   "metadata": {},
   "source": [
    "Now we will define the dna sequence, the beginning and end of the mutable part."
   ]
  },
  {
   "cell_type": "code",
   "execution_count": 7,
   "metadata": {
    "execution": {
     "iopub.execute_input": "2020-10-25T04:50:39.962419Z",
     "iopub.status.busy": "2020-10-25T04:50:39.962180Z",
     "iopub.status.idle": "2020-10-25T04:50:39.966927Z",
     "shell.execute_reply": "2020-10-25T04:50:39.965636Z",
     "shell.execute_reply.started": "2020-10-25T04:50:39.962394Z"
    }
   },
   "outputs": [],
   "source": [
    "# DNA\n",
    "dna = 'TGTACAGTAATACAAGGGGTGTTATGGAAAAAATTATGCCGGAAGAAGAATACAGCGAATTTAAAGAACTGATTCTGCAGAAGGAACTGCACGTGGTGTATGCACTGAGCCACGTGTGTGGCCAGGATCGTACCCTGCTGGCCAGTATCTTACTGCGCATCTTTCTGCACGAGAAGCTGGAGAGCCTGTTACTGTGCACACTGAACGATCGCGAGATCAGCATGGAAGATGAAGCCACCACCCTGTTCCGCGCAACAACCCTGGCCAGCACCCTGATGGAGCAGTATATGAAAGCCACCGCCACCCAGTTCGTGCATCATGCCCTGAAAGATAGCATTTTAAAAATTATGGAAAGCAAACAGAGCTGCGAACTGAGCCCGAGCAAGCTGGAGAAAAACGAGGACGTGAACACCAACCTGACCCACCTGCTGAACATTCTGAGCGAACTGGTGGAAAAAATCTTTATGGCAAGCGAAATCCTGCCTCCGACCCTGCGTTACATCTACGGCTGCCTGCAGAAGAGCGTGCAGCATAAATGGCCGACCAATACCACCATGCGCACACGTGTGGTGAGCGGTTTTGTGTTCCTGCGTCTGATCTGCCCGGCAATCCTGAACCCGCGCATGTTCAACATCATTAGCGACAGCCCGAGTCCTATCGCAGCACGTACCCTGATCCTGGTGGCAAAAAGCGTGCAAAATCTGGCCAACCTGGTGGAATTTGGCGCCAAAGAGCCGTACATGGAAGGCGTGAATCCGTTTATCAAAAGTAACAAACATCGCATGATCATGTTCCTGGACGAACTGGGCAACGTTCCGGAACTGCCGGATACAACCGAACATAGTCGCACAGACCTGAGTCGTGACCTGGCCGCCCTGCATGAAATCTGCGTGGCCCATAGCGATGAGCTGCGCACACTGAGCAACGAGCGTGGCGCCCAGCAGCACGTGCTGAAGAAACTGCTGGCCATTACCGAACTGCTGCAACAAAAGCAGAACCAGTACACCAAAACCAACGACGTGCGTtatccgtatgatgtgccggattatgcgTAAccatcacttggctagaggcatc'\n",
    "\n",
    "# Start of protein. Note 'ATG' codon\n",
    "start = ('ATGGAAAAAATTATGCCGGAAGAA')\n",
    "\n",
    "# The 'tat' codon will be the first codon that is not mutated\n",
    "end = ('tatccgtatgatgtgccggattatgcg')"
   ]
  },
  {
   "cell_type": "markdown",
   "metadata": {},
   "source": [
    "Set all primers to have the same base pair length."
   ]
  },
  {
   "cell_type": "code",
   "execution_count": 8,
   "metadata": {
    "execution": {
     "iopub.execute_input": "2020-10-25T04:51:12.840283Z",
     "iopub.status.busy": "2020-10-25T04:51:12.839976Z",
     "iopub.status.idle": "2020-10-25T04:51:12.848565Z",
     "shell.execute_reply": "2020-10-25T04:51:12.847314Z",
     "shell.execute_reply.started": "2020-10-25T04:51:12.840251Z"
    }
   },
   "outputs": [],
   "source": [
    "df_primers = code_primers.generate_primers(dna, start, end, output_file=None,\n",
    "                                           codon='NNS', length_primer=15, return_df=True)"
   ]
  },
  {
   "cell_type": "markdown",
   "metadata": {},
   "source": [
    "Set all primers to have the same melting temperature."
   ]
  },
  {
   "cell_type": "code",
   "execution_count": null,
   "metadata": {},
   "outputs": [],
   "source": [
    "df_primers_tm = code_primers.generate_primers(dna, start, end, output_file=None,\n",
    "                                              codon='NNS', tm=60, return_df=True)"
   ]
  },
  {
   "cell_type": "markdown",
   "metadata": {},
   "source": [
    "If you just want to export the file to excel:"
   ]
  },
  {
   "cell_type": "code",
   "execution_count": null,
   "metadata": {},
   "outputs": [],
   "source": [
    "code_primers.generate_primers(dna, start, end, output_file='primers.xlsx',\n",
    "                              codon='NNS', tm=60, return_df=False)"
   ]
  }
 ],
 "metadata": {
  "kernelspec": {
   "display_name": "Python 3",
   "language": "python",
   "name": "python3"
  },
  "language_info": {
   "codemirror_mode": {
    "name": "ipython",
    "version": 3
   },
   "file_extension": ".py",
   "mimetype": "text/x-python",
   "name": "python",
   "nbconvert_exporter": "python",
   "pygments_lexer": "ipython3",
   "version": "3.8.3"
  }
 },
 "nbformat": 4,
 "nbformat_minor": 4
}
