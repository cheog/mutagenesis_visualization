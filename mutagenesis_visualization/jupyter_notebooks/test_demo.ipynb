{
 "cells": [
  {
   "cell_type": "code",
   "execution_count": null,
   "metadata": {},
   "outputs": [],
   "source": [
    "# Package libraries\n",
    "try:\n",
    "    import import_notebook\n",
    "except ModuleNotFoundError:\n",
    "    pass\n",
    "\n",
    "from code_demo import (demo, demo_datasets, demo_pdbs, demo_fasta) "
   ]
  },
  {
   "cell_type": "code",
   "execution_count": null,
   "metadata": {},
   "outputs": [],
   "source": [
    "def _test_output_demo(argument):\n",
    "    '''\n",
    "    Aux function for test_demo.\n",
    "    Will try to run a demo function, will return True if there is an error.\n",
    "    '''\n",
    "    error = False\n",
    "    try:\n",
    "        demo(argument, show=False)\n",
    "    except:\n",
    "        error = True\n",
    "    return error"
   ]
  },
  {
   "cell_type": "code",
   "execution_count": null,
   "metadata": {},
   "outputs": [],
   "source": [
    "def test_demo():\n",
    "    '''\n",
    "    This function will test that demo is capable of generating the \n",
    "    types of figures ('heatmap', 'miniheatmap', 'mean', 'kernel', 'pca',\n",
    "    'position', 'secondary_mean', 'correlation', 'individual_correlation') that demo()\n",
    "    is supposed to. Will raise an error if at least one of the plots does not work.\n",
    "    '''\n",
    "    \n",
    "    arguments = ['heatmap', 'miniheatmap', 'mean', 'kernel', 'pca',\n",
    "                'position', 'secondary_mean', 'correlation', 'individual_correlation']\n",
    "    solutions = [_test_output_demo(argument) for argument in arguments]\n",
    "    assert any(solutions)==False, 'error when running the demo figures'"
   ]
  },
  {
   "cell_type": "code",
   "execution_count": null,
   "metadata": {},
   "outputs": [],
   "source": [
    "def test_demo_pdbs():\n",
    "    '''test that function returns dictionary'''\n",
    "    assert (str(type(demo_pdbs()))) == \"<class 'dict'>\", \"function demo_pdbs failed\""
   ]
  },
  {
   "cell_type": "code",
   "execution_count": null,
   "metadata": {},
   "outputs": [],
   "source": [
    "def test_demo_datasets():\n",
    "    '''test that function returns dictionary'''\n",
    "    assert (str(type(demo_datasets()))) == \"<class 'dict'>\", \"function demo_datasets failed\""
   ]
  },
  {
   "cell_type": "code",
   "execution_count": null,
   "metadata": {},
   "outputs": [],
   "source": [
    "def test_demo_fasta():\n",
    "    '''test that function returns dictionary'''\n",
    "    assert (str(type(demo_fasta()))) == \"<class 'dict'>\", \"function demo_fasta failed\""
   ]
  }
 ],
 "metadata": {
  "kernelspec": {
   "display_name": "Python 3",
   "language": "python",
   "name": "python3"
  },
  "language_info": {
   "codemirror_mode": {
    "name": "ipython",
    "version": 3
   },
   "file_extension": ".py",
   "mimetype": "text/x-python",
   "name": "python",
   "nbconvert_exporter": "python",
   "pygments_lexer": "ipython3",
   "version": "3.8.3"
  }
 },
 "nbformat": 4,
 "nbformat_minor": 4
}
