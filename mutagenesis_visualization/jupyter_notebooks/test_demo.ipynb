{
 "cells": [
  {
   "cell_type": "code",
   "execution_count": null,
   "metadata": {},
   "outputs": [],
   "source": [
    "# Package libraries\n",
    "try:\n",
    "    import import_notebook\n",
    "except ModuleNotFoundError:\n",
    "    pass\n",
    "\n",
    "# Package libraries\n",
    "try:\n",
    "    from code_demo import (demo, demo_datasets, demo_pdbs, demo_fasta)\n",
    "except ModuleNotFoundError:\n",
    "    from code_demo import (demo, demo_datasets, demo_pdbs, demo_fasta)\n"
   ]
  },
  {
   "cell_type": "code",
   "execution_count": 4,
   "metadata": {
    "execution": {
     "iopub.execute_input": "2020-11-20T00:13:26.921137Z",
     "iopub.status.busy": "2020-11-20T00:13:26.920942Z",
     "iopub.status.idle": "2020-11-20T00:13:26.930034Z",
     "shell.execute_reply": "2020-11-20T00:13:26.928978Z",
     "shell.execute_reply.started": "2020-11-20T00:13:26.921118Z"
    }
   },
   "outputs": [
    {
     "ename": "ImportError",
     "evalue": "attempted relative import with no known parent package",
     "output_type": "error",
     "traceback": [
      "\u001b[0;31m---------------------------------------------------------------------------\u001b[0m",
      "\u001b[0;31mImportError\u001b[0m                               Traceback (most recent call last)",
      "\u001b[0;32m<ipython-input-4-0fcfca41f766>\u001b[0m in \u001b[0;36m<module>\u001b[0;34m\u001b[0m\n\u001b[0;32m----> 1\u001b[0;31m \u001b[0;32mfrom\u001b[0m \u001b[0;34m.\u001b[0m\u001b[0mmutagenesis_visualization\u001b[0m\u001b[0;34m.\u001b[0m\u001b[0mmain\u001b[0m\u001b[0;34m.\u001b[0m\u001b[0mcode_demo\u001b[0m \u001b[0;32mimport\u001b[0m \u001b[0;34m(\u001b[0m\u001b[0mdemo\u001b[0m\u001b[0;34m,\u001b[0m \u001b[0mdemo_datasets\u001b[0m\u001b[0;34m,\u001b[0m \u001b[0mdemo_pdbs\u001b[0m\u001b[0;34m,\u001b[0m \u001b[0mdemo_fasta\u001b[0m\u001b[0;34m)\u001b[0m\u001b[0;34m\u001b[0m\u001b[0;34m\u001b[0m\u001b[0m\n\u001b[0m",
      "\u001b[0;31mImportError\u001b[0m: attempted relative import with no known parent package"
     ]
    }
   ],
   "source": [
    "from .mutagenesis_visualization.main.code_demo import (demo, demo_datasets, demo_pdbs, demo_fasta)"
   ]
  },
  {
   "cell_type": "code",
   "execution_count": null,
   "metadata": {},
   "outputs": [],
   "source": [
    "def _test_output_demo(argument):\n",
    "    '''\n",
    "    Aux function for test_demo.\n",
    "    Will try to run a demo function, will return True if there is an error.\n",
    "    '''\n",
    "    error = False\n",
    "    try:\n",
    "        demo(argument, show=False)\n",
    "    except:\n",
    "        error = True\n",
    "    return error"
   ]
  },
  {
   "cell_type": "code",
   "execution_count": null,
   "metadata": {},
   "outputs": [],
   "source": [
    "def test_demo():\n",
    "    '''\n",
    "    This function will test that demo is capable of generating the \n",
    "    types of figures ('heatmap', 'miniheatmap', 'mean', 'kernel', 'pca',\n",
    "    'position', 'secondary_mean', 'correlation', 'individual_correlation') that demo()\n",
    "    is supposed to. Will raise an error if at least one of the plots does not work.\n",
    "    '''\n",
    "\n",
    "    arguments = ['heatmap', 'miniheatmap', 'mean', 'kernel', 'pca',\n",
    "                 'position', 'secondary_mean', 'correlation', 'individual_correlation']\n",
    "    solutions = [_test_output_demo(argument) for argument in arguments]\n",
    "    assert any(solutions) == False, 'error when running the demo figures'"
   ]
  },
  {
   "cell_type": "code",
   "execution_count": null,
   "metadata": {},
   "outputs": [],
   "source": [
    "def test_demo_pdbs():\n",
    "    '''test that function returns dictionary'''\n",
    "    assert (str(type(demo_pdbs()))\n",
    "            ) == \"<class 'dict'>\", \"function demo_pdbs failed\""
   ]
  },
  {
   "cell_type": "code",
   "execution_count": null,
   "metadata": {},
   "outputs": [],
   "source": [
    "def test_demo_datasets():\n",
    "    '''test that function returns dictionary'''\n",
    "    assert (str(type(demo_datasets()))\n",
    "            ) == \"<class 'dict'>\", \"function demo_datasets failed\""
   ]
  },
  {
   "cell_type": "code",
   "execution_count": null,
   "metadata": {},
   "outputs": [],
   "source": [
    "def test_demo_fasta():\n",
    "    '''test that function returns dictionary'''\n",
    "    assert (str(type(demo_fasta()))\n",
    "            ) == \"<class 'dict'>\", \"function demo_fasta failed\""
   ]
  }
 ],
 "metadata": {
  "kernelspec": {
   "display_name": "Python 3",
   "language": "python",
   "name": "python3"
  },
  "language_info": {
   "codemirror_mode": {
    "name": "ipython",
    "version": 3
   },
   "file_extension": ".py",
   "mimetype": "text/x-python",
   "name": "python",
   "nbconvert_exporter": "python",
   "pygments_lexer": "ipython3",
   "version": "3.8.3"
  }
 },
 "nbformat": 4,
 "nbformat_minor": 4
}
