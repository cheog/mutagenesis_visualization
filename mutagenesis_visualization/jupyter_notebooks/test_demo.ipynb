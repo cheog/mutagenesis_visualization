{
 "cells": [
  {
   "cell_type": "code",
   "execution_count": 5,
   "metadata": {
    "execution": {
     "iopub.execute_input": "2020-11-17T19:09:31.611216Z",
     "iopub.status.busy": "2020-11-17T19:09:31.610817Z",
     "iopub.status.idle": "2020-11-17T19:09:31.616235Z",
     "shell.execute_reply": "2020-11-17T19:09:31.615402Z",
     "shell.execute_reply.started": "2020-11-17T19:09:31.611189Z"
    }
   },
   "outputs": [],
   "source": [
    "# Package libraries\n",
    "try:\n",
    "    import import_notebook\n",
    "except ModuleNotFoundError:\n",
    "    pass\n",
    "\n",
    "from code_demo import (demo, demo_datasets, demo_pdbs, demo_fasta) "
   ]
  },
  {
   "cell_type": "code",
   "execution_count": null,
   "metadata": {},
   "outputs": [],
   "source": [
    "def _test_output_demo(argument):\n",
    "    '''Will try to run a demo function, will return True if there is an error'''\n",
    "    error = False\n",
    "    try:\n",
    "        demo(argument)\n",
    "    except:\n",
    "        error = True\n",
    "    return error"
   ]
  },
  {
   "cell_type": "code",
   "execution_count": null,
   "metadata": {},
   "outputs": [],
   "source": [
    "def test_demo():\n",
    "    '''This function will test that demo is capable of generating the \n",
    "    5 types of figures ('heatmap', 'miniheatmap', 'mean', 'kernel' and 'pca')'''\n",
    "    \n",
    "    arguments = ['heatmaps', 'miniheatmap', 'mean', 'kernel', 'pca']\n",
    "    solutions = [_test_output_demo(argument) for argument in arguments]\n",
    "    assert any(solutions)==False, 'error when running the demo figures'"
   ]
  },
  {
   "cell_type": "code",
   "execution_count": 3,
   "metadata": {
    "execution": {
     "iopub.execute_input": "2020-11-17T19:09:07.743465Z",
     "iopub.status.busy": "2020-11-17T19:09:07.742919Z",
     "iopub.status.idle": "2020-11-17T19:09:08.055225Z",
     "shell.execute_reply": "2020-11-17T19:09:08.036934Z",
     "shell.execute_reply.started": "2020-11-17T19:09:07.743430Z"
    }
   },
   "outputs": [
    {
     "data": {
      "text/plain": [
       "dict"
      ]
     },
     "execution_count": 3,
     "metadata": {},
     "output_type": "execute_result"
    }
   ],
   "source": [
    "type(demo_datasets())"
   ]
  },
  {
   "cell_type": "code",
   "execution_count": 6,
   "metadata": {
    "execution": {
     "iopub.execute_input": "2020-11-17T19:09:34.074084Z",
     "iopub.status.busy": "2020-11-17T19:09:34.073731Z",
     "iopub.status.idle": "2020-11-17T19:09:34.092021Z",
     "shell.execute_reply": "2020-11-17T19:09:34.087284Z",
     "shell.execute_reply.started": "2020-11-17T19:09:34.074054Z"
    }
   },
   "outputs": [
    {
     "data": {
      "text/plain": [
       "{'ras': '/Users/fx/Dropbox/AKuriyanLab/Code/Python/Python_Scripts/mv_repo/mutagenesis_visualization/jupyter_notebooks/../data/Ras_family_trimmed.fasta'}"
      ]
     },
     "execution_count": 6,
     "metadata": {},
     "output_type": "execute_result"
    }
   ],
   "source": [
    "demo_fasta()"
   ]
  },
  {
   "cell_type": "code",
   "execution_count": null,
   "metadata": {},
   "outputs": [],
   "source": []
  }
 ],
 "metadata": {
  "kernelspec": {
   "display_name": "Python 3",
   "language": "python",
   "name": "python3"
  },
  "language_info": {
   "codemirror_mode": {
    "name": "ipython",
    "version": 3
   },
   "file_extension": ".py",
   "mimetype": "text/x-python",
   "name": "python",
   "nbconvert_exporter": "python",
   "pygments_lexer": "ipython3",
   "version": "3.8.3"
  }
 },
 "nbformat": 4,
 "nbformat_minor": 4
}
