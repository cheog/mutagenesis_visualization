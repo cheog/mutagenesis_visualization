{
 "cells": [
  {
   "cell_type": "code",
   "execution_count": 2,
   "metadata": {},
   "outputs": [
    {
     "name": "stdout",
     "output_type": "stream",
     "text": [
      "importing Jupyter notebook from code_demo.ipynb\n",
      "importing Jupyter notebook from code_class.ipynb\n",
      "importing Jupyter notebook from code_kernel.ipynb\n",
      "importing Jupyter notebook from code_kwargs.ipynb\n",
      "importing Jupyter notebook from code_utils.ipynb\n",
      "importing Jupyter notebook from code_heatmaps.ipynb\n",
      "importing Jupyter notebook from code_bar.ipynb\n",
      "importing Jupyter notebook from code_scatter.ipynb\n",
      "importing Jupyter notebook from code_PCA.ipynb\n",
      "importing Jupyter notebook from code_other.ipynb\n",
      "importing Jupyter notebook from code_3D.ipynb\n",
      "importing Jupyter notebook from code_plotly.ipynb\n"
     ]
    }
   ],
   "source": [
    "# Package libraries\n",
    "try:\n",
    "    import import_notebook\n",
    "except ModuleNotFoundError:\n",
    "    pass\n",
    "\n",
    "from code_demo import (demo, demo_datasets, demo_pdbs, demo_fasta) "
   ]
  },
  {
   "cell_type": "code",
   "execution_count": null,
   "metadata": {},
   "outputs": [],
   "source": [
    "def _test_output_demo(argument):\n",
    "    '''\n",
    "    Aux function for test_demo.\n",
    "    Will try to run a demo function, will return True if there is an error.\n",
    "    '''\n",
    "    error = False\n",
    "    try:\n",
    "        demo(argument)\n",
    "    except:\n",
    "        error = True\n",
    "    return error"
   ]
  },
  {
   "cell_type": "code",
   "execution_count": null,
   "metadata": {},
   "outputs": [],
   "source": [
    "def test_demo():\n",
    "    '''\n",
    "    This function will test that demo is capable of generating the \n",
    "    types of figures ('heatmap', 'miniheatmap', 'mean', 'kernel', 'pca',\n",
    "    'position', 'secondary_mean', 'correlation', 'individual_correlation') that demo()\n",
    "    is supposed to. Will raise an error if at least one of the plots does not work.\n",
    "    '''\n",
    "    \n",
    "    arguments = ['heatmap', 'miniheatmap', 'mean', 'kernel', 'pca',\n",
    "                'position', 'secondary_mean', 'correlation', 'individual_correlation']\n",
    "    solutions = [_test_output_demo(argument) for argument in arguments]\n",
    "    assert any(solutions)==False, 'error when running the demo figures'"
   ]
  },
  {
   "cell_type": "code",
   "execution_count": 19,
   "metadata": {},
   "outputs": [
    {
     "data": {
      "text/plain": [
       "dict"
      ]
     },
     "execution_count": 19,
     "metadata": {},
     "output_type": "execute_result"
    }
   ],
   "source": [
    "type(demo_pdbs())"
   ]
  },
  {
   "cell_type": "code",
   "execution_count": 28,
   "metadata": {},
   "outputs": [],
   "source": [
    "def test_demo_pdbs():\n",
    "    '''test that function returns dictionary'''\n",
    "    assert (str(type(demo_pdbs()))) == \"<class 'dict'>\", \"function demo_pdbs failed\""
   ]
  },
  {
   "cell_type": "code",
   "execution_count": 29,
   "metadata": {},
   "outputs": [
    {
     "ename": "AssertionError",
     "evalue": "function demo_pdbs failed",
     "output_type": "error",
     "traceback": [
      "\u001b[0;31m---------------------------------------------------------------------------\u001b[0m",
      "\u001b[0;31mAssertionError\u001b[0m                            Traceback (most recent call last)",
      "\u001b[0;32m<ipython-input-29-1f9970f2f0fa>\u001b[0m in \u001b[0;36m<module>\u001b[0;34m\u001b[0m\n\u001b[0;32m----> 1\u001b[0;31m \u001b[0mtest_demo_pdbs\u001b[0m\u001b[0;34m(\u001b[0m\u001b[0;34m)\u001b[0m\u001b[0;34m\u001b[0m\u001b[0;34m\u001b[0m\u001b[0m\n\u001b[0m",
      "\u001b[0;32m<ipython-input-28-846367947520>\u001b[0m in \u001b[0;36mtest_demo_pdbs\u001b[0;34m()\u001b[0m\n\u001b[1;32m      1\u001b[0m \u001b[0;32mdef\u001b[0m \u001b[0mtest_demo_pdbs\u001b[0m\u001b[0;34m(\u001b[0m\u001b[0;34m)\u001b[0m\u001b[0;34m:\u001b[0m\u001b[0;34m\u001b[0m\u001b[0;34m\u001b[0m\u001b[0m\n\u001b[1;32m      2\u001b[0m     \u001b[0;34m'''test that function returns dictionary'''\u001b[0m\u001b[0;34m\u001b[0m\u001b[0;34m\u001b[0m\u001b[0m\n\u001b[0;32m----> 3\u001b[0;31m     \u001b[0;32massert\u001b[0m \u001b[0;34m(\u001b[0m\u001b[0mstr\u001b[0m\u001b[0;34m(\u001b[0m\u001b[0mtype\u001b[0m\u001b[0;34m(\u001b[0m\u001b[0mdemo_pdbs\u001b[0m\u001b[0;34m(\u001b[0m\u001b[0;34m)\u001b[0m\u001b[0;34m)\u001b[0m\u001b[0;34m)\u001b[0m\u001b[0;34m)\u001b[0m \u001b[0;34m==\u001b[0m \u001b[0;34m\"<cla ss 'dict'>\"\u001b[0m\u001b[0;34m,\u001b[0m \u001b[0;34m\"function demo_pdbs failed\"\u001b[0m\u001b[0;34m\u001b[0m\u001b[0;34m\u001b[0m\u001b[0m\n\u001b[0m",
      "\u001b[0;31mAssertionError\u001b[0m: function demo_pdbs failed"
     ]
    }
   ],
   "source": [
    "test_demo_pdbs()"
   ]
  },
  {
   "cell_type": "code",
   "execution_count": 14,
   "metadata": {},
   "outputs": [],
   "source": [
    "def test_demo_datasets():\n",
    "    '''test that function returns dictionary'''\n",
    "    assert (str(type(demo_datasets()))) == \"<class 'dict'>\", \"function demo_datasets failed\""
   ]
  },
  {
   "cell_type": "code",
   "execution_count": 11,
   "metadata": {},
   "outputs": [],
   "source": [
    "def test_demo_fasta():\n",
    "    '''test that function returns dictionary'''\n",
    "    assert (str(type(demo_fasta()))) == \"<class 'dict'>\", \"function demo_fasta failed\""
   ]
  }
 ],
 "metadata": {
  "kernelspec": {
   "display_name": "Python 3",
   "language": "python",
   "name": "python3"
  },
  "language_info": {
   "codemirror_mode": {
    "name": "ipython",
    "version": 3
   },
   "file_extension": ".py",
   "mimetype": "text/x-python",
   "name": "python",
   "nbconvert_exporter": "python",
   "pygments_lexer": "ipython3",
   "version": "3.8.3"
  }
 },
 "nbformat": 4,
 "nbformat_minor": 4
}
