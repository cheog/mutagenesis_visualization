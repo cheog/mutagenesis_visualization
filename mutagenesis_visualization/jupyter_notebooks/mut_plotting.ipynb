{
 "cells": [
  {
   "cell_type": "markdown",
   "metadata": {},
   "source": [
    "# Creating plots"
   ]
  },
  {
   "cell_type": "raw",
   "metadata": {},
   "source": [
    "This section shows how to use the mutagenesis_visualization package. The plotting functions can be used regardless of how you process your data. For the examples, we are using two datasets that are derived from Pradeep’s legacy. [#Pradeep2017]_"
   ]
  },
  {
   "cell_type": "markdown",
   "metadata": {},
   "source": [
    "## Import modules"
   ]
  },
  {
   "cell_type": "code",
   "execution_count": null,
   "metadata": {
    "ExecuteTime": {
     "end_time": "2020-09-15T20:01:26.228519Z",
     "start_time": "2020-09-15T20:01:19.643908Z"
    }
   },
   "outputs": [],
   "source": [
    "# Import Modules\n",
    "import import_notebook\n",
    "import mutagenesis_visualization as mut\n",
    "import numpy as np\n",
    "import pandas as pd\n",
    "import matplotlib as plt\n",
    "import copy"
   ]
  },
  {
   "cell_type": "markdown",
   "metadata": {},
   "source": [
    "## Create object of class Screen"
   ]
  },
  {
   "cell_type": "raw",
   "metadata": {},
   "source": [
    "Class reviewed in this section:\n",
    "    - :class:`mutagenesis_visualization.Screen`\n"
   ]
  },
  {
   "cell_type": "markdown",
   "metadata": {},
   "source": [
    "In order to create plots, the first step is to create a ``Screen.object``. The enrichment scores will be passed using the parameter ``dataset`` . The protein sequence ``sequence`` and the amino acid substitutions order ``aminoacids`` need to be defined for the object to be created. Adding the secondary structure ``secondary`` is optional, but without it some plots will not work. In this example, we are importing two datasets and creating two objects named ``hras_GAPGEF`` and ``hras_RBD``."
   ]
  },
  {
   "cell_type": "code",
   "execution_count": null,
   "metadata": {
    "ExecuteTime": {
     "end_time": "2020-09-15T02:45:50.119629Z",
     "start_time": "2020-09-15T02:45:49.694915Z"
    }
   },
   "outputs": [],
   "source": [
    "# Load enrichment scores\n",
    "hras_enrichment_GAPGEF = np.genfromtxt('../data/HRas166_GAPGEF.csv',\n",
    "                                       delimiter=',')\n",
    "\n",
    "hras_enrichment_RBD = np.genfromtxt('../data/HRas166_RBD.csv',\n",
    "                                    delimiter=',')\n",
    "\n",
    "# Define protein sequence\n",
    "hras_sequence = 'MTEYKLVVVGAGGVGKSALTIQLIQNHFVDEYDPTIEDSYRKQVVIDGETCLLDILDTAGQEEY'\\\n",
    "                + 'SAMRDQYMRTGEGFLCVFAINNTKSFEDIHQYREQIKRVKDSDDVPMVLVGNKCDLAARTVES'\\\n",
    "                + 'RQAQDLARSYGIPYIETSAKTRQGVEDAFYTLVREIRQHKLRKLNPPDESGPG'\n",
    "\n",
    "# Order of amino acid substitutions in the hras_enrichment dataset\n",
    "aminoacids = list('ACDEFGHIKLMNPQRSTVWY*')\n",
    "\n",
    "# First residue of the hras_enrichment dataset. Because 1-Met was not mutated, the dataset starts at residue 2\n",
    "start_position = 2\n",
    "\n",
    "# Define secondary structure\n",
    "secondary = [['L0'], ['β1']*(9-1), ['L1']*(15-9), ['α1']*(25-15), ['L2']*(36-25),\n",
    "             ['β2']*(46-36), ['L3']*(48-46), ['β3']*(58-48), ['L4'] * (64-58), \n",
    "             ['α2']*(74-64), ['L5']*(76-74), ['β4']*(83-76), ['L6']*(86-83), \n",
    "             ['α3']*(103-86), ['L7']*(110-103), ['β5']*(116-110), ['L8']*(126-116), \n",
    "             ['α4']*(137-126), ['L9']*(140-137), ['β6']*(143-140), ['L10']*(151-143), \n",
    "             ['α5']*(172-151), ['L11']*(190-172)]\n",
    "\n",
    "# Substitute Nan values with 0\n",
    "fillna = 0\n",
    "\n",
    "# Create objects\n",
    "hras_GAPGEF = mut.Screen(hras_enrichment_GAPGEF, hras_sequence,\n",
    "                         aminoacids, start_position, fillna, secondary)\n",
    "hras_RBD = mut.Screen(hras_enrichment_RBD, hras_sequence,\n",
    "                      aminoacids, start_position, fillna, secondary)\n",
    "\n",
    "# Parameters to save output images, will be the same for each plot\n",
    "outputfilepath = '../../example/exported_images/'\n",
    "outputformat = 'png'\n",
    "savefile = True\n"
   ]
  },
  {
   "cell_type": "markdown",
   "metadata": {},
   "source": [
    "## Heatmaps"
   ]
  },
  {
   "cell_type": "raw",
   "metadata": {},
   "source": [
    "Methods reviewed in this section:\n",
    "    - :meth:`mutagenesis_visualization.Screen.heatmap`\n",
    "    - :meth:`mutagenesis_visualization.Screen.heatmap_rows`\n",
    "    - :meth:`mutagenesis_visualization.Screen.heatmap_columns`\n",
    "    - :meth:`mutagenesis_visualization.Screen.miniheatmap`"
   ]
  },
  {
   "cell_type": "markdown",
   "metadata": {},
   "source": [
    "Once the object ``hras_RBD`` is created, we will plot a heatmap of the enrichment scores using the method ``object.heatmap``."
   ]
  },
  {
   "cell_type": "code",
   "execution_count": null,
   "metadata": {
    "ExecuteTime": {
     "end_time": "2020-08-31T06:29:00.638130Z",
     "start_time": "2020-08-31T06:28:24.981773Z"
    }
   },
   "outputs": [],
   "source": [
    "# Create full heatmap\n",
    "hras_RBD.heatmap(title='H-Ras 2-166', outputfilename='hras_fullheatmap',\n",
    "                 outputfilepath=outputfilepath, show_cartoon=True,\n",
    "                 outputformat=outputformat, savefile=savefile)\n"
   ]
  },
  {
   "cell_type": "raw",
   "metadata": {},
   "source": [
    ".. image:: ../example/exported_images/hras_fullheatmap.png"
   ]
  },
  {
   "cell_type": "markdown",
   "metadata": {},
   "source": [
    "You can change the scale and the color map using the parameters ``colorbar_scale`` and ``colormap``."
   ]
  },
  {
   "cell_type": "code",
   "execution_count": null,
   "metadata": {
    "ExecuteTime": {
     "end_time": "2020-09-15T02:46:31.643582Z",
     "start_time": "2020-09-15T02:46:06.798309Z"
    }
   },
   "outputs": [],
   "source": [
    "# Load a color map from matplotlib\n",
    "colormap = copy.copy((plt.cm.get_cmap('PuOr')))\n",
    "\n",
    "# Change scale and colormap\n",
    "hras_RBD.heatmap(title='H-Ras 2-166', colorbar_scale=(-2, 2), \n",
    "                 outputfilename='hras_fullheatmap_colormap', colormap=colormap,\n",
    "                 outputfilepath=outputfilepath, show_cartoon=True,\n",
    "                 outputformat=outputformat, savefile=savefile)\n"
   ]
  },
  {
   "cell_type": "raw",
   "metadata": {},
   "source": [
    ".. image:: ../example/exported_images/hras_fullheatmap_colormap.png"
   ]
  },
  {
   "cell_type": "markdown",
   "metadata": {},
   "source": [
    "If you set the parameter ``show_snv=True``, the algorithm will color green every mutation that is not a single nucleotide variant (SNV) of the wild-type protein. You will notice how many mutations are not accessible through a nucleotide change. This option may be useful to you so you can quickly evaluate which mutations are accessible through random DNA mutations. In the example of Ras, the frequency of non-SNV substitutions at residues 12 and 13 is dramatically lower."
   ]
  },
  {
   "cell_type": "code",
   "execution_count": null,
   "metadata": {
    "ExecuteTime": {
     "end_time": "2020-09-11T23:25:55.051096Z",
     "start_time": "2020-09-11T23:25:32.590329Z"
    }
   },
   "outputs": [],
   "source": [
    "# Create full heatmap showing only SNV mutants\n",
    "hras_RBD.heatmap(title='H-Ras 2-166', outputfilename='hras_fullheatmap_snv',\n",
    "                 outputfilepath=outputfilepath, show_cartoon=True,\n",
    "                 outputformat=outputformat, show_snv=True, savefile=savefile)"
   ]
  },
  {
   "cell_type": "raw",
   "metadata": {},
   "source": [
    ".. image:: ../example/exported_images/hras_fullheatmap_snv.png"
   ]
  },
  {
   "cell_type": "markdown",
   "metadata": {},
   "source": [
    "We can slice the full heatmap by either showing only some columns or some rows. To show only a few amino acid mutational profiles (rows), we will use the method ``object.heatmap_rows``. Note that we need to specify which amino acids to show with ``selection``."
   ]
  },
  {
   "cell_type": "code",
   "execution_count": null,
   "metadata": {},
   "outputs": [],
   "source": [
    "# Create heatmap of selected aminoacid substitutions\n",
    "hras_RBD.heatmap_rows(title='H-Ras 2-166', outputfilename='hras_selectionheatmap',\n",
    "                      outputfilepath=outputfilepath, \n",
    "                      selection=['E', 'Q', 'A', 'P', 'V', 'Y'],\n",
    "                      outputformat=outputformat, savefile=savefile)"
   ]
  },
  {
   "cell_type": "raw",
   "metadata": {},
   "source": [
    ".. image:: ../example/exported_images/hras_selectionheatmap.png"
   ]
  },
  {
   "cell_type": "markdown",
   "metadata": {},
   "source": [
    "If we want to display only a few positions in the protein (columns), we will use the method ``object.heatmap_columns``. The parameter ``segment`` will indicate which are the contigous columns to show."
   ]
  },
  {
   "cell_type": "code",
   "execution_count": null,
   "metadata": {},
   "outputs": [],
   "source": [
    "# Create a heatmap of a subset region in the protein\n",
    "hras_RBD.heatmap_columns(segment=[20, 40], outputfilename='hras_subsetheatmap',\n",
    "                        outputfilepath=outputfilepath, outputformat=outputformat,\n",
    "                        savefile=savefile)"
   ]
  },
  {
   "cell_type": "raw",
   "metadata": {},
   "source": [
    ".. image:: ../example/exported_images/hras_subsetheatmap.png\n",
    "   :width: 200px\n",
    "   :align: center"
   ]
  },
  {
   "cell_type": "markdown",
   "metadata": {},
   "source": [
    "A summarized heatmap can also be generated. It is useful to evaluate global trends in the data. The command to use is ``object.miniheatmap``."
   ]
  },
  {
   "cell_type": "code",
   "execution_count": null,
   "metadata": {},
   "outputs": [],
   "source": [
    "# Condensed heatmap\n",
    "hras_RBD.miniheatmap(title='Wt residue H-Ras', outputfilename='hras_miniheatmap',\n",
    "                     outputfilepath=outputfilepath, outputformat=outputformat, \n",
    "                     savefile=savefile)"
   ]
  },
  {
   "cell_type": "raw",
   "metadata": {},
   "source": [
    ".. image:: ../example/exported_images/hras_miniheatmap.png\n",
    "   :width: 250px\n",
    "   :align: center"
   ]
  },
  {
   "cell_type": "markdown",
   "metadata": {},
   "source": [
    "## Histogram, scatter and more"
   ]
  },
  {
   "cell_type": "raw",
   "metadata": {},
   "source": [
    "Methods reviewed in this section:\n",
    "    - :meth:`mutagenesis_visualization.Screen.kernel`\n",
    "    - :meth:`mutagenesis_visualization.Screen.histogram`\n",
    "    - :meth:`mutagenesis_visualization.Screen.scatter`\n",
    "    - :meth:`mutagenesis_visualization.Screen.rank`\n",
    "    - :meth:`mutagenesis_visualization.Screen.cumulative`"
   ]
  },
  {
   "cell_type": "markdown",
   "metadata": {},
   "source": [
    "There are different tools to analyze the data. The package can plot the kernel density estimation (``object.kernel``). There is the option to fit other functions to the data (see Implementation for more). You could also only plot a histogram (``object.histogram``). For the histograms, we can select to plot only the single nucleotide variants (SNVs) or the non-SNVs. In the example, it actually changes the shape of the population. Non-SNVs are more sensitive to mutations than SNVs because there is a higher proportion of non-conservative amino acid replacements. "
   ]
  },
  {
   "cell_type": "code",
   "execution_count": null,
   "metadata": {
    "ExecuteTime": {
     "end_time": "2020-09-07T07:04:12.328897Z",
     "start_time": "2020-09-07T07:04:11.061480Z"
    }
   },
   "outputs": [],
   "source": [
    "# Plot kernel dist using sns.distplot.\n",
    "hras_RBD.kernel(histogram=True, title='H-Ras 2-166', xscale=[-2, 1],\n",
    "                outputfilename='hras_kde', outputfilepath=outputfilepath,\n",
    "                outputformat=outputformat, savefile=savefile)\n",
    "\n",
    "# Plot histogram of SNVs\n",
    "hras_RBD.histogram(population='SNV', title='H-Ras 2-166 SNV', xscale=[-2, 1],\n",
    "                   outputfilename='hras_histsnv', outputfilepath=outputfilepath,\n",
    "                   outputformat=outputformat, savefile=savefile)\n",
    "\n",
    "# Plot histogram of non-SNVs\n",
    "hras_RBD.histogram(population='nonSNV', title='H-Ras 2-166 non-SNV', xscale=[-2, 1],\n",
    "                   outputfilename='hras_histnonsnv', outputfilepath=outputfilepath,\n",
    "                   outputformat=outputformat, savefile=savefile)"
   ]
  },
  {
   "cell_type": "raw",
   "metadata": {},
   "source": [
    ".. image:: ../example/exported_images/hras_kde.png\n",
    "   :width: 240px\n",
    "\n",
    ".. image:: ../example/exported_images/hras_histsnv.png\n",
    "   :width: 200px\n",
    "\n",
    ".. image:: ../example/exported_images/hras_histnonsnv.png\n",
    "   :width: 200px"
   ]
  },
  {
   "cell_type": "markdown",
   "metadata": {},
   "source": [
    "If you have multiple datasets and want to compare them, you can do it with the method ``object.scatter``. We give the option to do the comparison at a mutation by mutation level ``mode=pointmutant``, or at a position level ``mode=mean``."
   ]
  },
  {
   "cell_type": "code",
   "execution_count": null,
   "metadata": {
    "ExecuteTime": {
     "end_time": "2020-09-01T03:56:00.190429Z",
     "start_time": "2020-09-01T03:55:59.508246Z"
    }
   },
   "outputs": [],
   "source": [
    "# Plot a scatter plot of each mutation\n",
    "hras_RBD.scatter(hras_GAPGEF, title='Individual mutations', mode='pointmutant',\n",
    "                 xscale=(-2.5, 1.5), yscale=(-2.5, 1.5), x_label='H-Ras Unregulated',\n",
    "                 y_label='H-Ras Regulated', outputfilename='hras_scatter',\n",
    "                 outputfilepath=outputfilepath, outputformat=outputformat, savefile=savefile)\n",
    "\n",
    "# Plot a scatter plot of the mean position\n",
    "hras_RBD.scatter(hras_GAPGEF, title='Positional average', mode='mean', xscale=(-2, 1), \n",
    "                 yscale=(-2, 1),x_label='H-Ras Unregulated', y_label='H-Ras Regulated', \n",
    "                 outputfilename='hras_scatter_mean',outputfilepath=outputfilepath, \n",
    "                 outputformat=outputformat, savefile=savefile)\n"
   ]
  },
  {
   "cell_type": "raw",
   "metadata": {},
   "source": [
    ".. image:: ../example/exported_images/hras_scatter.png\n",
    "   :width: 200px\n",
    "\n",
    ".. image:: ../example/exported_images/hras_scatter_mean.png\n",
    "   :width: 200px"
   ]
  },
  {
   "cell_type": "markdown",
   "metadata": {},
   "source": [
    "The method ``object.rank`` sorts each mutation (or position) by its enrichment score. If ``outdf=True``, it will return a dataframe with the mutations ranked."
   ]
  },
  {
   "cell_type": "code",
   "execution_count": null,
   "metadata": {
    "ExecuteTime": {
     "end_time": "2020-09-03T03:49:58.371975Z",
     "start_time": "2020-09-03T03:49:58.249054Z"
    }
   },
   "outputs": [],
   "source": [
    "# Rank plot\n",
    "hras_RBD.rank(mode='pointmutant', outdf=True, title='Rank of mutations',\n",
    "              outputfilename='hras_rank', outputfilepath=outputfilepath,\n",
    "              outputformat=outputformat, savefile=savefile)\n"
   ]
  },
  {
   "cell_type": "raw",
   "metadata": {},
   "source": [
    ".. image:: ../example/exported_images/hras_rank.png\n",
    "   :width: 400px\n",
    "   \n",
    ".. image:: ../example/exported_images/hras_ranktable.png\n",
    "   :width: 200px"
   ]
  },
  {
   "cell_type": "markdown",
   "metadata": {},
   "source": [
    "The method ``object.cumulative`` draws a cumulative plot that sums the mean enrichment score of every position. This  plot is useful to determine if the sensitivity to mutations is constant throughout the protein or not. In the example, we see that the cumulative function follows the x=y line, suggestion a homogeneous mutational tolerance. \n"
   ]
  },
  {
   "cell_type": "code",
   "execution_count": null,
   "metadata": {},
   "outputs": [],
   "source": [
    "# Cumulative plot\n",
    "hras_RBD.cumulative(mode='all', title='Cumulative Score',\n",
    "                    outputfilename='hras_cumulative', outputfilepath=outputfilepath,\n",
    "                    outputformat=outputformat, savefile=savefile)\n"
   ]
  },
  {
   "cell_type": "raw",
   "metadata": {},
   "source": [
    ".. image:: ../example/exported_images/hras_cumulative.png\n",
    "   :width: 300px\n",
    "   :align: center"
   ]
  },
  {
   "cell_type": "markdown",
   "metadata": {},
   "source": [
    "## Bar and line charts"
   ]
  },
  {
   "cell_type": "raw",
   "metadata": {},
   "source": [
    "Methods reviewed in this section:\n",
    "    - :meth:`mutagenesis_visualization.Screen.mean`\n",
    "    - :meth:`mutagenesis_visualization.Screen.differential`\n",
    "    - :meth:`mutagenesis_visualization.Screen.position`\n",
    "    - :meth:`mutagenesis_visualization.Screen.secondary_mean`"
   ]
  },
  {
   "cell_type": "markdown",
   "metadata": {},
   "source": [
    "The method ``object.mean`` will plot the mean enrichment score for every position on a bar chart. It will be colored blue for loss of function and red for gain of function. Additionally, setting the parameter ``mode`` to an amino acid (using the one letter code) will plot the enrichment for that particular amino acid along the protein. In this example, we are showing the mean enrichment scores (top) and an alanine scan (bottom)"
   ]
  },
  {
   "cell_type": "code",
   "execution_count": null,
   "metadata": {
    "ExecuteTime": {
     "end_time": "2020-09-03T18:49:19.123879Z",
     "start_time": "2020-09-03T18:49:17.053705Z"
    }
   },
   "outputs": [],
   "source": [
    "# Plot a bar graph with the mean enrichment score\n",
    "hras_RBD.mean(figsize=[6, 2.5], mode='mean', show_cartoon=True, yscale=[-2, 0.5],\n",
    "              outputfilename='hras_bar_mean', title='', outputfilepath=outputfilepath,\n",
    "              outputformat=outputformat, savefile=savefile)\n",
    "\n",
    "# Plot a bar graph with the alanine enrichment score\n",
    "hras_RBD.mean(figsize=[6, 2.5], mode='A', show_cartoon=True, yscale=[-2, 0.5],\n",
    "              outputfilename='hras_bar_alanine', title='',outputfilepath=outputfilepath, \n",
    "              outputformat=outputformat, savefile=savefile)\n"
   ]
  },
  {
   "cell_type": "raw",
   "metadata": {},
   "source": [
    ".. image:: ../example/exported_images/hras_bar_mean.png\n",
    "   :width: 500px\n",
    "   :align: center\n",
    "   \n",
    ".. image:: ../example/exported_images/hras_bar_alanine.png\n",
    "   :width: 500px\n",
    "   :align: center"
   ]
  },
  {
   "cell_type": "markdown",
   "metadata": {},
   "source": [
    "The mean differential effect between the two example datasets is displayed using the method ``object.differential``. This plot is useful to compare either orthologs/paralogs or the same protein with different effectors, and determine which areas of the protein have a different sensitivity to mutations."
   ]
  },
  {
   "cell_type": "code",
   "execution_count": null,
   "metadata": {},
   "outputs": [],
   "source": [
    "# Plot the difference between H-Ras unregulated and H-Ras regulated datasets\n",
    "# The subtraction is hras_RBD - hrasGAPGEF\n",
    "hras_RBD.differential(hras_GAPGEF, figsize=[6, 2.5], show_cartoon=True,\n",
    "                      yscale=[-1, 1], outputfilename='hras_diffenrichment',\n",
    "                      title='', outputfilepath=outputfilepath, \n",
    "                      outputformat=outputformat, savefile=savefile)"
   ]
  },
  {
   "cell_type": "raw",
   "metadata": {
    "ExecuteTime": {
     "end_time": "2020-09-01T03:12:53.467153Z",
     "start_time": "2020-09-01T03:12:53.462676Z"
    }
   },
   "source": [
    ".. image:: ../example/exported_images/hras_diffenrichment.png\n",
    "   :width: 500px\n",
    "   :align: center"
   ]
  },
  {
   "cell_type": "markdown",
   "metadata": {},
   "source": [
    "You can check the individual mutational profile of a residue by using ``object.position``."
   ]
  },
  {
   "cell_type": "code",
   "execution_count": null,
   "metadata": {
    "ExecuteTime": {
     "end_time": "2020-09-04T23:33:31.506735Z",
     "start_time": "2020-09-04T23:33:31.133041Z"
    }
   },
   "outputs": [],
   "source": [
    "# Create plot for position 117\n",
    "hras_RBD.position(position = 117, yscale = (-1.5, 0.8), figsize = (3.5,2), \n",
    "                  title = 'Position 117', outputfilename='hras_position117',\n",
    "                  outputfilepath=outputfilepath, outputformat=outputformat, \n",
    "                  savefile=savefile)\n"
   ]
  },
  {
   "cell_type": "raw",
   "metadata": {},
   "source": [
    ".. image:: ../example/exported_images/hras_position117.png\n",
    "   :width: 350px\n",
    "   :align: center"
   ]
  },
  {
   "cell_type": "markdown",
   "metadata": {},
   "source": [
    "If you added the secondary structure as an attribute of the object, you can plot the mean enrichment score for each alpha and beta motif in the protein (``object.secondary_mean``)."
   ]
  },
  {
   "cell_type": "code",
   "execution_count": null,
   "metadata": {
    "ExecuteTime": {
     "end_time": "2020-09-04T23:34:47.875560Z",
     "start_time": "2020-09-04T23:34:47.560204Z"
    }
   },
   "outputs": [],
   "source": [
    "# Graph bar of the mean of each secondary motif\n",
    "hras_RBD.secondary_mean(yscale=[-1, 0], figsize=[3, 2], title='Mean of secondary motifs',\n",
    "                           outputfilename='hras_secondary', outputfilepath=outputfilepath,\n",
    "                           outputformat=outputformat, savefile=savefile)\n"
   ]
  },
  {
   "cell_type": "raw",
   "metadata": {},
   "source": [
    ".. image:: ../example/exported_images/hras_secondary.png\n",
    "   :width: 300px\n",
    "   :align: center"
   ]
  },
  {
   "cell_type": "markdown",
   "metadata": {},
   "source": [
    "## Correlation, PCA and ROC AUC"
   ]
  },
  {
   "cell_type": "raw",
   "metadata": {},
   "source": [
    "Methods and functions reviewed in this section:\n",
    "    - :meth:`mutagenesis_visualization.Screen.correlation`\n",
    "    - :meth:`mutagenesis_visualization.Screen.individual_correlation`\n",
    "    - :meth:`mutagenesis_visualization.Screen.group_correlation`\n",
    "    - :meth:`mutagenesis_visualization.Screen.pca`\n",
    "    - :meth:`mutagenesis_visualization.Screen.roc`\n",
    "    - :func:`mutagenesis_visualization.msa_enrichment`\n",
    "    - :func:`mutagenesis_visualization.plot_box`"
   ]
  },
  {
   "cell_type": "markdown",
   "metadata": {},
   "source": [
    "The correlation of amino acid substitution profiles can be calculated for each amino acid and graphed using ``object.correlation``. In the example we observe that polar amino acids have high correlation between themselves but low correlation with hydrophobic amino acids."
   ]
  },
  {
   "cell_type": "code",
   "execution_count": null,
   "metadata": {
    "ExecuteTime": {
     "end_time": "2020-08-31T06:29:06.866140Z",
     "start_time": "2020-08-31T06:29:05.515555Z"
    }
   },
   "outputs": [],
   "source": [
    "# Correlation between amino acids\n",
    "hras_RBD.correlation(colorbar_scale=[0.5, 1], title='Correlation',\n",
    "                     outputfilename='hras_correlation', outputfilepath=outputfilepath,\n",
    "                     outputformat=outputformat, savefile=savefile)"
   ]
  },
  {
   "cell_type": "raw",
   "metadata": {
    "ExecuteTime": {
     "end_time": "2020-09-01T03:16:24.018490Z",
     "start_time": "2020-09-01T03:16:24.013197Z"
    }
   },
   "source": [
    ".. image:: ../example/exported_images/hras_correlation.png\n",
    "   :width: 250px\n",
    "   :align: center"
   ]
  },
  {
   "cell_type": "markdown",
   "metadata": {},
   "source": [
    "The method ``object.individual_correlation`` will tell you how a single amino acid substitution profile (row of the heatmap) correlates to the rest of the dataset."
   ]
  },
  {
   "cell_type": "code",
   "execution_count": null,
   "metadata": {
    "ExecuteTime": {
     "end_time": "2020-08-31T06:29:07.410011Z",
     "start_time": "2020-08-31T06:29:06.869128Z"
    }
   },
   "outputs": [],
   "source": [
    "# Explained variability by amino acid\n",
    "hras_RBD.individual_correlation(yscale=[0, 0.6], title='Explained variability by amino acid',\n",
    "                                outputfilename='hras_variability', outputfilepath=outputfilepath,\n",
    "                                outputformat=outputformat, savefile=savefile)"
   ]
  },
  {
   "cell_type": "raw",
   "metadata": {},
   "source": [
    ".. image:: ../example/exported_images/hras_variability.png\n",
    "   :width: 300px\n",
    "   :align: center"
   ]
  },
  {
   "cell_type": "raw",
   "metadata": {},
   "source": [
    "Grouping amino acids improves the predictive power. ``object.group_correlation`` lets you manually group amino acids. The algorithm picks one amino acid per group and evaluates the predictive power of the subset. Such operation will be done for every possible combination. In the example, 8 amino acids explain 0.75 of the data. A sequence logo [#Tareen2019]_ will show for each group which is the most represented amino acid in of the subset that has an R2 value greater than the cutoff that you have set using the parameter ``r2``. Such plot will let you see if there is any preference for a particular amino acid within a group."
   ]
  },
  {
   "cell_type": "code",
   "execution_count": null,
   "metadata": {
    "ExecuteTime": {
     "end_time": "2020-09-10T03:37:18.505064Z",
     "start_time": "2020-09-10T03:37:13.362113Z"
    }
   },
   "outputs": [],
   "source": [
    "# Define groups of amino acids. The algorithm will pool one of each group and evaluate\n",
    "# how well that subset correlates to the entires dataset\n",
    "groups = ['DE', 'HKR', 'QN', 'CST', 'AG', 'ILMV', 'WYF', 'P']\n",
    "\n",
    "# Get list of all combinations and their associated R2 value\n",
    "df_r2 = hras_RBD.group_correlation(r2=0.75, groups=groups, output=False, title='',\n",
    "                                   outputfilename='hras_logo', outputfilepath=outputfilepath,\n",
    "                                   outputformat=outputformat, savefile=False)\n",
    "\n",
    "# Only show the top 5\n",
    "df_r2.sort_values(by='R2', ascending=False).head()"
   ]
  },
  {
   "cell_type": "raw",
   "metadata": {},
   "source": [
    ".. image:: ../example/exported_images/hras_logo.png\n",
    "   :align: center\n",
    "\n",
    ".. image:: ../example/exported_images/hras_meanrepresentatives_rank.png\n",
    "   :width: 200px\n",
    "   :align: center\n"
   ]
  },
  {
   "cell_type": "markdown",
   "metadata": {},
   "source": [
    "The package can perform principal component analysis (PCA) using the method ``object.pca``. The parameter ``mode`` can be set to ``aminoacid``, in which will cluster amino acids based on their similarity, ``individual`` in which will do the same for each individual residue and ``secondary``, in which will cluster for each motif. By default, the first two dimensions will be plotted (0 and 1 in Python notation), but that can be changed by ``dimensions`` parameter."
   ]
  },
  {
   "cell_type": "code",
   "execution_count": null,
   "metadata": {
    "ExecuteTime": {
     "end_time": "2020-08-31T06:29:12.526068Z",
     "start_time": "2020-08-31T06:29:08.576223Z"
    }
   },
   "outputs": [],
   "source": [
    "# PCA by amino acid substitution\n",
    "hras_RBD.pca(title='', dimensions=[0, 1], figsize=(2, 2), adjustlabels=True,\n",
    "             outputfilename='hras_pcaaminoacid', outputfilepath=outputfilepath,\n",
    "             outputformat=outputformat, savefile=savefile)\n",
    "\n",
    "# PCA by secondary structure motif\n",
    "hras_RBD.pca(title='', mode='secondary', dimensions=[0, 1], figsize=(2, 2),\n",
    "             adjustlabels=True, outputfilename='hras_pcasecondary',\n",
    "             outputfilepath=outputfilepath, outputformat=outputformat, savefile=savefile)\n",
    "\n",
    "# PCA by each individual residue. Don't set adjustlabels = True unless really big figsize\n",
    "hras_RBD.pca(title='', mode='individual', dimensions=[0, 1], figsize=(5, 5),\n",
    "             adjustlabels=False, outputfilename='hras_pcaindividual',\n",
    "             outputfilepath=outputfilepath, outputformat=outputformat, savefile=savefile)"
   ]
  },
  {
   "cell_type": "raw",
   "metadata": {},
   "source": [
    ".. image:: ../example/exported_images/hras_pcaaminoacid.png\n",
    "   :width: 200px\n",
    "\n",
    ".. image:: ../example/exported_images/hras_pcasecondary.png\n",
    "   :width: 200px\n",
    "\n",
    ".. image:: ../example/exported_images/hras_pcaindividual.png\n",
    "   :width: 250px"
   ]
  },
  {
   "cell_type": "markdown",
   "metadata": {},
   "source": [
    "Another type of plot that can be done is a receiver operating characteristic (ROC) curve for classification. You will use the method ``object.roc`` and as an input you will pass a dataframe that contains the label for each variant. In this example, we are using it to evaluate whether we can use evolutionary conservation data to predict the mutational tolerance of the protein. The area under the curve (AUC) is above 0.5, implying that there is a small relationship between enrichment/conservation."
   ]
  },
  {
   "cell_type": "code",
   "execution_count": null,
   "metadata": {
    "ExecuteTime": {
     "end_time": "2020-08-31T06:29:13.682686Z",
     "start_time": "2020-08-31T06:29:12.528217Z"
    }
   },
   "outputs": [],
   "source": [
    "# Calculate conservation score from MSA\n",
    "path = '../data/Ras_family_trimmed.fasta'\n",
    "df_shannon, df_freq = mut.msa_enrichment(hras_RBD, path, start_position=1,\n",
    "                                         threshold=0.1)\n",
    "\n",
    "# Plot ROC curve\n",
    "hras_RBD.roc(df_freq[['Variant', 'Class']], title='MSA predictive power',\n",
    "             outputfilename='hras_roc', outputfilepath=outputfilepath,\n",
    "             outputformat=outputformat, savefile=savefile)"
   ]
  },
  {
   "cell_type": "raw",
   "metadata": {},
   "source": [
    ".. image:: ../example/exported_images/hras_roc.png\n",
    "   :width: 250px\n",
    "   :align: center"
   ]
  },
  {
   "cell_type": "markdown",
   "metadata": {},
   "source": [
    "The package also allows to do a boxplot using the function ``plot_box``. Note that the data needs to be binned separately. In this example, we have used it to study if the Shannon entropy is related to the mutational tolerance. Although there is high variability, on average residues with a lower enrichment score are more conserved."
   ]
  },
  {
   "cell_type": "code",
   "execution_count": null,
   "metadata": {},
   "outputs": [],
   "source": [
    "# Bin data\n",
    "binned_shannon = (2*df_shannon['Shannon']).round(0)/2\n",
    "\n",
    "# Plot box plot.\n",
    "mut.plot_box(binned_x=binned_shannon, y=df_shannon['Score'],\n",
    "             title='Shannon vs Enrichment', x_label='Shannon Entropy',\n",
    "             y_label=r'$∆E^i_x$', outputfilename='hras_shannon',\n",
    "             outputfilepath=outputfilepath, outputformat=outputformat, \n",
    "             savefile=savefile)"
   ]
  },
  {
   "cell_type": "raw",
   "metadata": {
    "ExecuteTime": {
     "end_time": "2020-09-01T03:14:26.895627Z",
     "start_time": "2020-09-01T03:14:26.890662Z"
    }
   },
   "source": [
    ".. image:: ../example/exported_images/hras_shannon.png\n",
    "   :width: 300px\n",
    "   :align: center"
   ]
  },
  {
   "cell_type": "markdown",
   "metadata": {},
   "source": [
    "## 3-D scatter"
   ]
  },
  {
   "cell_type": "raw",
   "metadata": {},
   "source": [
    "Methods reviewed in this section:\n",
    "    - :meth:`mutagenesis_visualization.Screen.scatter_3D`\n",
    "    - :meth:`mutagenesis_visualization.Screen.scatter_3D_pdbprop`\n"
   ]
  },
  {
   "cell_type": "markdown",
   "metadata": {},
   "source": [
    "The user can plot a 3-D scatter using the atomic coordinates of the C-alpha atoms of a PDB file. The method ``object.scatter_3D`` will take as an input either a PDB file or the x,y,z coordinates and plot a color-coded scatter. In the example, we can appreciate how mutation at the inner residues (hydrophobic) are loss of function (blue), and surface residues (green) are more tolerant to mutations. For the second plot, we have centered and squared the data. The closer to (0,0,0), the higher the amoung of blue residues. We have colored in lightblue the residues of Switch I of Ras, which are known to interact with RBD, the effector used in the assay. They are all loss of function and away from the origin."
   ]
  },
  {
   "cell_type": "code",
   "execution_count": null,
   "metadata": {
    "ExecuteTime": {
     "end_time": "2020-09-14T17:55:29.063070Z",
     "start_time": "2020-09-14T17:55:28.614119Z"
    }
   },
   "outputs": [],
   "source": [
    "%matplotlib widget\n",
    "\n",
    "# Plot 3-D plot\n",
    "hras_RBD.scatter_3D(mode='mean', pdb_path='../data/5p21.pdb', squared=False,\n",
    "                    lof=-0.5, gof=0.15)\n",
    "\n",
    "# Plot 3-D plot, centering and squaring the distances\n",
    "hras_RBD.scatter_3D(mode='mean', pdb_path='../data/5p21.pdb', squared=True,\n",
    "                    lof=-0.5, gof=0.15)\n",
    "\n",
    "# Calculate conservation score from MSA\n",
    "path = '../data/Ras_family_trimmed.fasta'\n",
    "df_shannon, df_freq = mut.msa_enrichment(hras_RBD, path, start_position=1,\n",
    "                                         threshold=0.1)\n",
    "\n",
    "# Plot 3-D SASA, B-factor and Shannon Entropy\n",
    "hras_RBD.scatter_3D_pdbprop(plot=['SASA', 'Score', 'Shannon'],custom = df_shannon['Shannon'],\n",
    "                            pdb_path='../data/5p21.pdb', color_by_score=True,\n",
    "                            gof=0.15, lof=-0.5)\n"
   ]
  },
  {
   "cell_type": "raw",
   "metadata": {},
   "source": [
    ".. image:: ../example/exported_images/hras_3dscatter.png\n",
    "   :width: 500px\n",
    "   :align: center\n",
    "   \n",
    ".. image:: ../example/exported_images/hras_3dscatter_squared.png\n",
    "   :width: 500px\n",
    "   :align: center\n",
    "   \n",
    ".. image:: ../example/exported_images/hras_3dscatter_shannon.png\n",
    "   :width: 500px\n",
    "   :align: center"
   ]
  },
  {
   "cell_type": "markdown",
   "metadata": {},
   "source": [
    "## Pymol"
   ]
  },
  {
   "cell_type": "raw",
   "metadata": {
    "ExecuteTime": {
     "end_time": "2020-09-15T23:51:23.133650Z",
     "start_time": "2020-09-15T23:51:23.128545Z"
    }
   },
   "source": [
    "Method reviewed in this section:\n",
    "    - :meth:`mutagenesis_visualization.Screen.pymol`\n"
   ]
  },
  {
   "cell_type": "markdown",
   "metadata": {},
   "source": [
    "The data can be graphed on a Pymol object using ``object.pymol``. The parameter ``pdb`` will fetch the pdb that you want to use. Note that the protein chain needs to be specified (see example). Red for gain of function and blue for loss of function. ``mode`` lets you specifiy whether to plot the mean or an individual amino acid profile (left - Leucine, right - Aspartate)."
   ]
  },
  {
   "cell_type": "code",
   "execution_count": null,
   "metadata": {
    "ExecuteTime": {
     "end_time": "2020-09-01T04:28:34.435490Z",
     "start_time": "2020-09-01T04:28:34.272020Z"
    }
   },
   "outputs": [],
   "source": [
    "# Start pymol and color residues. Cut offs are set with gof and lof parameters.\n",
    "hras_RBD.pymol(pdb='5p21_A', mode = 'mean', gof=0.2, lof=-0.5)\n",
    "\n",
    "# Now check the mutational profile of Leucine (left image)\n",
    "hras_RBD.pymol(pdb='5p21_A', mode = 'L', gof=0.2, lof=-0.5)\n",
    "\n",
    "# Now check the mutational profile of Aspartate (right image)\n",
    "hras_RBD.pymol(pdb='5p21_A', mode = 'D', gof=0.2, lof=-0.5)"
   ]
  },
  {
   "cell_type": "raw",
   "metadata": {},
   "source": [
    ".. image:: ../example/exported_images/hras_pymol_combLD.png\n",
    "   :align: center"
   ]
  },
  {
   "cell_type": "markdown",
   "metadata": {},
   "source": [
    "## Art"
   ]
  },
  {
   "cell_type": "markdown",
   "metadata": {},
   "source": [
    "The heatmap method can be used to generate artistic plots such as the one in the documentation overview. In here we show how that is done. On an Excel we have defined the color for each square in the heatmap (also available with the package, see ``logo.xlsx``). The first step is to import the excel file, and then we perform the same steps as in a normal dataset."
   ]
  },
  {
   "cell_type": "code",
   "execution_count": null,
   "metadata": {},
   "outputs": [],
   "source": [
    "# Read excel file\n",
    "path = '../../example/exported_images/logo.xlsx'\n",
    "usecols='A:BL'\n",
    "df_logo = pd.read_excel(path, 'logo', usecols=usecols, nrows=21)\n",
    "df_faded = pd.read_excel(path, 'logo_faded', usecols=usecols, nrows=21)\n",
    "\n",
    "# Combine two dataframes\n",
    "df_mixed = df_logo*1.2 - df_faded\n",
    "\n",
    "# Aminoacids\n",
    "aminoacids = list('ACDEFGHIKLMNPQRSTVWY*')\n",
    "\n",
    "# Define protein sequence\n",
    "sequence_logo = \"FUNNY THAT YOU ARE READING THIS SEQUENCE. NO SECRET CODE FOR NOW\"\n",
    "\n",
    "# Define secondary structure\n",
    "secondary = [['L0']*5, ['β1']*(9-1), ['L1']*(15-9), ['α1']*(25-20), ['L2']*(32-25),\n",
    "             ['β2']*(42-32), ['L3']*(54-42),['α2']*(74-64)]\n",
    "\n",
    "# Create object\n",
    "logo_obj = mut.Screen(df_mixed, sequence_logo, start_position=1, fillna=0, secondary=secondary)\n",
    "\n",
    "# Parameters to save output images, will be the same for each plot\n",
    "outputfilepath = '../../example/exported_images/'\n",
    "outputformat = 'png'\n",
    "savefile = False\n",
    "\n",
    "# Create hetmap\n",
    "logo_obj.heatmap(show_cartoon=True, title = '', \n",
    "                 neworder_aminoacids='ACDEFGHIKLMNPQRSTVWY*',\n",
    "                 outputfilename='heatmap_intro',\n",
    "                 outputfilepath=outputfilepath,outputformat=outputformat, \n",
    "                 savefile=savefile)\n"
   ]
  },
  {
   "cell_type": "raw",
   "metadata": {},
   "source": [
    ".. image:: ../example/exported_images/heatmap_intro.png\n",
    "   :width: 350px\n",
    "   :align: center"
   ]
  },
  {
   "cell_type": "markdown",
   "metadata": {},
   "source": [
    "## Reference"
   ]
  },
  {
   "cell_type": "raw",
   "metadata": {},
   "source": [
    ".. [#Pradeep2017] Bandaru, P., Shah, N. H., Bhattacharyya, M., Barton, J. P., Kondo, Y., Cofsky, J. C., … Kuriyan, J. (2017). Deconstruction of the Ras switching cycle through saturation mutagenesis. ELife, 6. `DOI: 10.7554/eLife.27810  <https://elifesciences.org/articles/27810>`_\n",
    "\n",
    ".. [#Tareen2019] Tareen, A., & Kinney, J. B. (2020). Logomaker: beautiful sequence logos in Python. Bioinformatics, 36(7), 2272–2274. `doi:10.1093/bioinformatics/btz921 <https://academic.oup.com/bioinformatics/article/36/7/2272/5671693>`_"
   ]
  }
 ],
 "metadata": {
  "kernelspec": {
   "display_name": "Python 3",
   "language": "python",
   "name": "python3"
  },
  "language_info": {
   "codemirror_mode": {
    "name": "ipython",
    "version": 3
   },
   "file_extension": ".py",
   "mimetype": "text/x-python",
   "name": "python",
   "nbconvert_exporter": "python",
   "pygments_lexer": "ipython3",
   "version": "3.8.3"
  },
  "toc": {
   "base_numbering": 1,
   "nav_menu": {},
   "number_sections": true,
   "sideBar": true,
   "skip_h1_title": false,
   "title_cell": "Table of Contents",
   "title_sidebar": "Contents",
   "toc_cell": false,
   "toc_position": {
    "height": "calc(100% - 180px)",
    "left": "10px",
    "top": "150px",
    "width": "165px"
   },
   "toc_section_display": true,
   "toc_window_display": true
  }
 },
 "nbformat": 4,
 "nbformat_minor": 4
}
