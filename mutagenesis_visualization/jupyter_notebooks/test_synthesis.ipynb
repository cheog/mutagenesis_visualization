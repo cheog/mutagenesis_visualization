{
 "cells": [
  {
   "cell_type": "markdown",
   "metadata": {},
   "source": [
    "# Import modules"
   ]
  },
  {
   "cell_type": "code",
   "execution_count": 1,
   "metadata": {},
   "outputs": [
    {
     "name": "stdout",
     "output_type": "stream",
     "text": [
      "importing Jupyter notebook from code_synthesis.ipynb\n"
     ]
    }
   ],
   "source": [
    "from Bio.Seq import Seq\n",
    "from Bio.SeqUtils import MeltingTemp as mt\n",
    "from Bio.Alphabet import IUPAC\n",
    "from pathlib import Path\n",
    "from typing import Union\n",
    "import pandas as pd\n",
    "\n",
    "try:\n",
    "    import import_notebook\n",
    "except ModuleNotFoundError:\n",
    "    pass\n",
    "\n",
    "import code_synthesis"
   ]
  },
  {
   "cell_type": "markdown",
   "metadata": {},
   "source": [
    "# Data Process Functions"
   ]
  },
  {
   "cell_type": "markdown",
   "metadata": {},
   "source": [
    "# Generate NNS primers"
   ]
  },
  {
   "cell_type": "code",
   "execution_count": 2,
   "metadata": {},
   "outputs": [],
   "source": [
    "def test_generate_primers(): \n",
    "    dna = 'GGCAATGCGcccccaATGaaaaaaTAAaaACGGGGTTTTaaa'\n",
    "    start = ('GGCAATGCGccccca')\n",
    "    end = ('aaACGGGGTTTTaaa')\n",
    "    \n",
    "    df_prim = code_synthesis.generate_primers(dna, start, end, output_file=None,\n",
    "                           codon='NNS', length_primer=18, tm=60, return_df=True)\n",
    "    assert len(df_prim)== 9, 'error the primer length does not match'\n",
    "    assert df_prim.iloc[1, 1] == 'NNSGCGCCCCCAATGAAAAAATAAAAACGGG', 'error the first primer is not mutated at Met'\n",
    "    assert df_prim.iloc[8, 1] == 'CGCCCCCAATGAAAAAANNSAAACGGGGTTTTAA', 'error the last primer is not mutated at the stop codon'\n"
   ]
  },
  {
   "cell_type": "code",
   "execution_count": 3,
   "metadata": {},
   "outputs": [],
   "source": [
    "test_generate_primers()"
   ]
  },
  {
   "cell_type": "code",
   "execution_count": 83,
   "metadata": {},
   "outputs": [],
   "source": [
    "def test_primerdesign(): \n",
    "    dna = 'GGCAATGCGcccccaATGaaaaaaTAAaaACGGGGTTTTaaa' #42 codons \n",
    "    primers0 = code_synthesis._primerdesign(dna, codon = 'NNS', codonposition = 0, \n",
    "                                            length_primer=None, tm = 60)\n",
    "    primers1 = code_synthesis._primerdesign(dna, codon = 'NNS', codonposition = 1, \n",
    "                                            length_primer=None, tm = 60) \n",
    "    primers2 = code_synthesis._primerdesign(dna, codon = 'NNS', codonposition = 2, \n",
    "                                            length_primer=None, tm = 60)  \n",
    "    primers3 = code_synthesis._primerdesign(dna, codon = 'NNS', codonposition = 3, \n",
    "                                            length_primer=None, tm = 60)\n",
    "    primers21 = code_synthesis._primerdesign(dna, codon = 'NNS', codonposition = 21, \n",
    "                                           length_primer = 18, tm = None)\n",
    "    assert type(primers3) == tuple, 'error the output is not a tuple'\n",
    "    \n",
    "    assert primers0 == ('NNSAATGCGcccccaATGaaaaaaTAAaaACGG', 'CCGTttTTAttttttCATtgggggCGCATTSNN'), 'error the output is not the forward and reverse primers at codon position 0'\n",
    "    assert primers1 == ('NNSATGCGcccccaATGaaaaaaTAAaaACGGG', 'CCCGTttTTAttttttCATtgggggCGCATSNN'), 'error the output is not the forward and reverse primers at codon position 1'\n",
    "    assert primers2 == ('NNSTGCGcccccaATGaaaaaaTAAaaACGGG', 'CCCGTttTTAttttttCATtgggggCGCASNN'), 'error the output is not the forward and reverse primers at codon position 2'\n",
    "    assert primers3 == ('NNSGCGcccccaATGaaaaaaTAAaaACGGG', 'CCCGTttTTAttttttCATtgggggCGCSNN'), 'error the output is not the forward and reverse primers at codon position 3'\n",
    "\n",
    "    assert primers21 == ('AATGCGcccccaATGaaaNNSTAAaaACGGGGTTTTaaa', 'tttAAAACCCCGTttTTASNNtttCATtgggggCGCATT'), 'error the codon is not replaced after position 21'\n"
   ]
  },
  {
   "cell_type": "code",
   "execution_count": 84,
   "metadata": {},
   "outputs": [],
   "source": [
    "test_primerdesign()"
   ]
  },
  {
   "cell_type": "code",
   "execution_count": 107,
   "metadata": {},
   "outputs": [],
   "source": [
    "def test_create_primers_list(): \n",
    "    dna = 'GGCAATGCGcccccaATGaaaaaaTAAaaACGGGGTTTTaaa'\n",
    "\n",
    "    primerslist = code_synthesis._create_primers_list(dna, start_codon = 3, end_codon = 6, \n",
    "                                                      codon = 'NNS', length_primer = 15, \n",
    "                                                      tm = 60)\n",
    "    assert type(primerslist[0]) == list, 'error the type is not a list' "
   ]
  },
  {
   "cell_type": "code",
   "execution_count": 108,
   "metadata": {},
   "outputs": [],
   "source": [
    "test_create_primers_list()"
   ]
  }
 ],
 "metadata": {
  "kernelspec": {
   "display_name": "Python 3",
   "language": "python",
   "name": "python3"
  },
  "language_info": {
   "codemirror_mode": {
    "name": "ipython",
    "version": 3
   },
   "file_extension": ".py",
   "mimetype": "text/x-python",
   "name": "python",
   "nbconvert_exporter": "python",
   "pygments_lexer": "ipython3",
   "version": "3.7.4"
  }
 },
 "nbformat": 4,
 "nbformat_minor": 2
}
