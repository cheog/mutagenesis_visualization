{
 "cells": [
  {
   "cell_type": "markdown",
   "metadata": {},
   "source": [
    "# Creating plots"
   ]
  },
  {
   "cell_type": "raw",
   "metadata": {},
   "source": [
    "This section shows how to use the mutagenesis_visualization package. The plotting functions can be used regardless of how you process your data. For the examples, we are using two datasets that are derived from Pradeep’s legacy. [#Pradeep2017]_"
   ]
  },
  {
   "cell_type": "markdown",
   "metadata": {},
   "source": [
    "## Import modules"
   ]
  },
  {
   "cell_type": "code",
   "execution_count": 1,
   "metadata": {
    "ExecuteTime": {
     "end_time": "2020-10-01T18:51:26.629721Z",
     "start_time": "2020-10-01T18:51:26.011552Z"
    },
    "execution": {
     "iopub.execute_input": "2020-10-20T23:12:54.130443Z",
     "iopub.status.busy": "2020-10-20T23:12:54.130209Z",
     "iopub.status.idle": "2020-10-20T23:12:54.366143Z",
     "shell.execute_reply": "2020-10-20T23:12:54.355531Z",
     "shell.execute_reply.started": "2020-10-20T23:12:54.130418Z"
    }
   },
   "outputs": [],
   "source": [
    "# Run only if you are using the code from jupyter notebooks instead of pypi\n",
    "import import_notebook"
   ]
  },
  {
   "cell_type": "code",
   "execution_count": 2,
   "metadata": {
    "ExecuteTime": {
     "end_time": "2020-10-01T18:51:30.904574Z",
     "start_time": "2020-10-01T18:51:26.632247Z"
    },
    "execution": {
     "iopub.execute_input": "2020-10-20T23:12:55.296694Z",
     "iopub.status.busy": "2020-10-20T23:12:55.296460Z",
     "iopub.status.idle": "2020-10-20T23:12:57.028597Z",
     "shell.execute_reply": "2020-10-20T23:12:57.026112Z",
     "shell.execute_reply.started": "2020-10-20T23:12:55.296671Z"
    }
   },
   "outputs": [
    {
     "name": "stdout",
     "output_type": "stream",
     "text": [
      "importing Jupyter notebook from code_class.ipynb\n",
      "importing Jupyter notebook from code_3D.ipynb\n",
      "importing Jupyter notebook from code_kwargs.ipynb\n",
      "importing Jupyter notebook from code_utils.ipynb\n",
      "importing Jupyter notebook from code_bar.ipynb\n",
      "importing Jupyter notebook from code_heatmaps.ipynb\n",
      "importing Jupyter notebook from code_kernel.ipynb\n",
      "importing Jupyter notebook from code_scatter.ipynb\n",
      "importing Jupyter notebook from code_PCA.ipynb\n",
      "importing Jupyter notebook from code_other.ipynb\n",
      "importing Jupyter notebook from code_plotly.ipynb\n",
      "importing Jupyter notebook from code_process_data.ipynb\n"
     ]
    }
   ],
   "source": [
    "# Import Modules\n",
    "import code_class as mut\n",
    "import code_process_data\n",
    "import numpy as np\n",
    "import pandas as pd\n",
    "import matplotlib as plt\n",
    "import copy"
   ]
  },
  {
   "cell_type": "markdown",
   "metadata": {},
   "source": [
    "## Create object of class Screen"
   ]
  },
  {
   "cell_type": "raw",
   "metadata": {},
   "source": [
    "Class reviewed in this section:\n",
    "    - :class:`mutagenesis_visualization.Screen`\n",
    "    - :func:`mutagenesis_visualization.demo_datasets`\n"
   ]
  },
  {
   "cell_type": "markdown",
   "metadata": {},
   "source": [
    "We will first load the sample datasets. They are part of the package. You would ignore this step if you are trying to use your own dataset."
   ]
  },
  {
   "cell_type": "code",
   "execution_count": null,
   "metadata": {
    "ExecuteTime": {
     "end_time": "2020-10-01T18:21:49.995844Z",
     "start_time": "2020-10-01T18:21:49.776704Z"
    }
   },
   "outputs": [],
   "source": [
    "data_dict = mut.demo_datasets()  # load example datasets\n",
    "hras_enrichment_GAPGEF = data_dict['array_hras_GAPGEF']\n",
    "hras_enrichment_RBD = data_dict['array_hras_RBD']"
   ]
  },
  {
   "cell_type": "markdown",
   "metadata": {},
   "source": [
    "In order to create plots, the first step is to create a ``Screen.object``. The enrichment scores will be passed using the parameter ``dataset`` . The protein sequence ``sequence`` and the amino acid substitutions order ``aminoacids`` need to be defined for the object to be created. Adding the secondary structure ``secondary`` is optional, but without it some plots will not work. In this example, we are importing two datasets and creating two objects named ``hras_GAPGEF`` and ``hras_RBD``."
   ]
  },
  {
   "cell_type": "code",
   "execution_count": 3,
   "metadata": {
    "ExecuteTime": {
     "end_time": "2020-10-01T18:51:31.468756Z",
     "start_time": "2020-10-01T18:51:30.907726Z"
    },
    "execution": {
     "iopub.execute_input": "2020-10-20T23:13:00.605723Z",
     "iopub.status.busy": "2020-10-20T23:13:00.605419Z",
     "iopub.status.idle": "2020-10-20T23:13:01.183828Z",
     "shell.execute_reply": "2020-10-20T23:13:01.183043Z",
     "shell.execute_reply.started": "2020-10-20T23:13:00.605689Z"
    }
   },
   "outputs": [],
   "source": [
    "# Load enrichment scores. This is how you would load them from a local file.\n",
    "hras_enrichment_GAPGEF = np.genfromtxt('../data/HRas166_GAPGEF.csv',\n",
    "                                       delimiter=',')\n",
    "\n",
    "hras_enrichment_RBD = np.genfromtxt('../data/HRas166_RBD.csv',\n",
    "                                    delimiter=',')\n",
    "\n",
    "\n",
    "# Define protein sequence\n",
    "hras_sequence = 'MTEYKLVVVGAGGVGKSALTIQLIQNHFVDEYDPTIEDSYRKQVVIDGETCLLDILDTAGQEEY'\\\n",
    "                + 'SAMRDQYMRTGEGFLCVFAINNTKSFEDIHQYREQIKRVKDSDDVPMVLVGNKCDLAARTVES'\\\n",
    "                + 'RQAQDLARSYGIPYIETSAKTRQGVEDAFYTLVREIRQHKLRKLNPPDESGPG'\n",
    "\n",
    "# Order of amino acid substitutions in the hras_enrichment dataset\n",
    "aminoacids = list('ACDEFGHIKLMNPQRSTVWY*')\n",
    "\n",
    "# First residue of the hras_enrichment dataset. Because 1-Met was not mutated, the dataset starts at residue 2\n",
    "start_position = 2\n",
    "\n",
    "# Define secondary structure\n",
    "secondary = [['L0'], ['β1']*(9-1), ['L1']*(15-9), ['α1']*(25-15), ['L2']*(36-25),\n",
    "             ['β2']*(46-36), ['L3']*(48-46), ['β3']*(58-48), ['L4'] * (64-58),\n",
    "             ['α2']*(74-64), ['L5']*(76-74), ['β4']*(83-76), ['L6']*(86-83),\n",
    "             ['α3']*(103-86), ['L7']*(110-103), ['β5'] *\n",
    "             (116-110), ['L8']*(126-116),\n",
    "             ['α4']*(137-126), ['L9']*(140-137), ['β6'] *\n",
    "             (143-140), ['L10']*(151-143),\n",
    "             ['α5']*(172-151), ['L11']*(190-172)]\n",
    "\n",
    "# Substitute Nan values with 0\n",
    "fillna = 0\n",
    "\n",
    "# Create objects\n",
    "hras_GAPGEF = mut.Screen(hras_enrichment_GAPGEF, hras_sequence,\n",
    "                         aminoacids, start_position, fillna, secondary)\n",
    "hras_RBD = mut.Screen(hras_enrichment_RBD, hras_sequence,\n",
    "                      aminoacids, start_position, fillna, secondary)"
   ]
  },
  {
   "cell_type": "markdown",
   "metadata": {},
   "source": [
    "## Heatmaps"
   ]
  },
  {
   "cell_type": "raw",
   "metadata": {},
   "source": [
    "Methods reviewed in this section:\n",
    "    - :meth:`mutagenesis_visualization.Screen.heatmap`\n",
    "    - :meth:`mutagenesis_visualization.Screen.heatmap_rows`\n",
    "    - :meth:`mutagenesis_visualization.Screen.heatmap_columns`\n",
    "    - :meth:`mutagenesis_visualization.Screen.miniheatmap`"
   ]
  },
  {
   "cell_type": "markdown",
   "metadata": {},
   "source": [
    "Once the object ``hras_RBD`` is created, we will plot a heatmap of the enrichment scores using the method ``object.heatmap``."
   ]
  },
  {
   "cell_type": "code",
   "execution_count": null,
   "metadata": {
    "ExecuteTime": {
     "end_time": "2020-10-01T18:19:29.786531Z",
     "start_time": "2020-10-01T18:19:17.186087Z"
    }
   },
   "outputs": [],
   "source": [
    "# Create full heatmap\n",
    "hras_RBD.heatmap(title='H-Ras 2-166', show_cartoon=True, output_file=None)"
   ]
  },
  {
   "cell_type": "raw",
   "metadata": {},
   "source": [
    ".. image:: ../example/exported_images/hras_fullheatmap.png"
   ]
  },
  {
   "cell_type": "markdown",
   "metadata": {},
   "source": [
    "You can change the scale and the color map using the parameters ``colorbar_scale`` and ``colormap``."
   ]
  },
  {
   "cell_type": "code",
   "execution_count": null,
   "metadata": {
    "ExecuteTime": {
     "end_time": "2020-10-01T18:19:42.501073Z",
     "start_time": "2020-10-01T18:19:29.788483Z"
    }
   },
   "outputs": [],
   "source": [
    "# Load a color map from matplotlib\n",
    "colormap = copy.copy((plt.cm.get_cmap('PuOr')))\n",
    "\n",
    "# Change scale and colormap\n",
    "hras_RBD.heatmap(title='H-Ras 2-166', colorbar_scale=(-2, 2),\n",
    "                 colormap=colormap, show_cartoon=True, output_file=None)"
   ]
  },
  {
   "cell_type": "raw",
   "metadata": {},
   "source": [
    ".. image:: ../example/exported_images/hras_fullheatmap_colormap.png"
   ]
  },
  {
   "cell_type": "markdown",
   "metadata": {},
   "source": [
    "If you set the parameter ``show_snv=True``, the algorithm will color green every mutation that is not a single nucleotide variant (SNV) of the wild-type protein. You will notice how many mutations are not accessible through a nucleotide change. This option may be useful to you so you can quickly evaluate which mutations are accessible through random DNA mutations. In the example of Ras, the frequency of non-SNV substitutions at residues 12 and 13 is dramatically lower."
   ]
  },
  {
   "cell_type": "code",
   "execution_count": null,
   "metadata": {
    "ExecuteTime": {
     "end_time": "2020-10-01T18:19:54.628958Z",
     "start_time": "2020-10-01T18:19:42.506024Z"
    }
   },
   "outputs": [],
   "source": [
    "# Create full heatmap showing only SNV mutants\n",
    "hras_RBD.heatmap(title='H-Ras 2-166', show_cartoon=True,\n",
    "                 show_snv=True, output_file=None)"
   ]
  },
  {
   "cell_type": "raw",
   "metadata": {},
   "source": [
    ".. image:: ../example/exported_images/hras_fullheatmap_snv.png"
   ]
  },
  {
   "cell_type": "markdown",
   "metadata": {},
   "source": [
    "We can slice the full heatmap by either showing only some columns or some rows. To show only a few amino acid mutational profiles (rows), we will use the method ``object.heatmap_rows``. Note that we need to specify which amino acids to show with ``selection``."
   ]
  },
  {
   "cell_type": "code",
   "execution_count": 4,
   "metadata": {
    "ExecuteTime": {
     "end_time": "2020-10-01T18:20:01.399239Z",
     "start_time": "2020-10-01T18:19:54.647958Z"
    },
    "execution": {
     "iopub.execute_input": "2020-10-20T23:04:24.656669Z",
     "iopub.status.busy": "2020-10-20T23:04:24.656471Z",
     "iopub.status.idle": "2020-10-20T23:04:31.173473Z",
     "shell.execute_reply": "2020-10-20T23:04:31.172749Z",
     "shell.execute_reply.started": "2020-10-20T23:04:24.656648Z"
    }
   },
   "outputs": [
    {
     "data": {
      "image/png": "[encoded data removed]",
      "text/plain": [
       "<Figure size 1008x41.1429 with 4 Axes>"
      ]
     },
     "metadata": {
      "needs_background": "light"
     },
     "output_type": "display_data"
    }
   ],
   "source": [
    "# Create heatmap of selected aminoacid substitutions\n",
    "hras_RBD.heatmap_rows(title='H-Ras 2-166', selection=['E', 'Q', 'A', 'P', 'V', 'Y'],\n",
    "                      output_file=None)"
   ]
  },
  {
   "cell_type": "raw",
   "metadata": {},
   "source": [
    ".. image:: ../example/exported_images/hras_selectionheatmap.png"
   ]
  },
  {
   "cell_type": "markdown",
   "metadata": {},
   "source": [
    "If we want to display only a few positions in the protein (columns), we will use the method ``object.heatmap_columns``. The parameter ``segment`` will indicate which are the contigous columns to show."
   ]
  },
  {
   "cell_type": "code",
   "execution_count": null,
   "metadata": {
    "ExecuteTime": {
     "end_time": "2020-10-01T18:20:01.962306Z",
     "start_time": "2020-10-01T18:20:01.403781Z"
    }
   },
   "outputs": [],
   "source": [
    "# Create a heatmap of a subset region in the protein\n",
    "hras_RBD.heatmap_columns(segment=[20, 40], output_file=None)"
   ]
  },
  {
   "cell_type": "raw",
   "metadata": {},
   "source": [
    ".. image:: ../example/exported_images/hras_subsetheatmap.png\n",
    "   :width: 200px\n",
    "   :align: center"
   ]
  },
  {
   "cell_type": "markdown",
   "metadata": {},
   "source": [
    "A summarized heatmap can also be generated. It is useful to evaluate global trends in the data. The command to use is ``object.miniheatmap``."
   ]
  },
  {
   "cell_type": "code",
   "execution_count": 4,
   "metadata": {
    "ExecuteTime": {
     "end_time": "2020-10-01T18:22:03.734679Z",
     "start_time": "2020-10-01T18:22:03.243012Z"
    },
    "execution": {
     "iopub.execute_input": "2020-10-20T23:06:13.185192Z",
     "iopub.status.busy": "2020-10-20T23:06:13.184969Z",
     "iopub.status.idle": "2020-10-20T23:06:13.812715Z",
     "shell.execute_reply": "2020-10-20T23:06:13.811552Z",
     "shell.execute_reply.started": "2020-10-20T23:06:13.185169Z"
    }
   },
   "outputs": [
    {
     "data": {
      "image/png": "[encoded data removed]",
      "text/plain": [
       "<Figure size 189x180 with 2 Axes>"
      ]
     },
     "metadata": {
      "needs_background": "light"
     },
     "output_type": "display_data"
    }
   ],
   "source": [
    "# Condensed heatmap\n",
    "hras_RBD.miniheatmap(title='Wt residue H-Ras', output_file=None)"
   ]
  },
  {
   "cell_type": "raw",
   "metadata": {},
   "source": [
    ".. image:: ../example/exported_images/hras_miniheatmap.png\n",
    "   :width: 250px\n",
    "   :align: center"
   ]
  },
  {
   "cell_type": "markdown",
   "metadata": {},
   "source": [
    "## Histogram, scatter and more"
   ]
  },
  {
   "cell_type": "raw",
   "metadata": {},
   "source": [
    "Methods reviewed in this section:\n",
    "    - :meth:`mutagenesis_visualization.Screen.kernel`\n",
    "    - :meth:`mutagenesis_visualization.Screen.histogram`\n",
    "    - :meth:`mutagenesis_visualization.Screen.scatter`\n",
    "    - :meth:`mutagenesis_visualization.Screen.rank`\n",
    "    - :meth:`mutagenesis_visualization.Screen.cumulative`"
   ]
  },
  {
   "cell_type": "markdown",
   "metadata": {},
   "source": [
    "There are different tools to analyze the data. The package can plot the kernel density estimation (``object.kernel``). There is the option to fit other functions to the data (see Implementation for more). You could also only plot a histogram (``object.histogram``). For the histograms, we can select to plot only the single nucleotide variants (SNVs) or the non-SNVs. In the example, it actually changes the shape of the population. Non-SNVs are more sensitive to mutations than SNVs because there is a higher proportion of non-conservative amino acid replacements. "
   ]
  },
  {
   "cell_type": "code",
   "execution_count": 5,
   "metadata": {
    "ExecuteTime": {
     "end_time": "2020-10-01T18:22:07.878691Z",
     "start_time": "2020-10-01T18:22:07.296679Z"
    },
    "execution": {
     "iopub.execute_input": "2020-10-20T23:06:17.801480Z",
     "iopub.status.busy": "2020-10-20T23:06:17.801254Z",
     "iopub.status.idle": "2020-10-20T23:06:18.483414Z",
     "shell.execute_reply": "2020-10-20T23:06:18.482403Z",
     "shell.execute_reply.started": "2020-10-20T23:06:17.801457Z"
    }
   },
   "outputs": [
    {
     "data": {
      "image/png": "[encoded data removed]",
      "text/plain": [
       "<Figure size 180x144 with 1 Axes>"
      ]
     },
     "metadata": {
      "needs_background": "light"
     },
     "output_type": "display_data"
    },
    {
     "name": "stderr",
     "output_type": "stream",
     "text": [
      "/Users/fx/opt/anaconda3/lib/python3.8/site-packages/numpy/lib/histograms.py:839: RuntimeWarning: invalid value encountered in greater_equal\n",
      "  keep = (tmp_a >= first_edge)\n",
      "/Users/fx/opt/anaconda3/lib/python3.8/site-packages/numpy/lib/histograms.py:840: RuntimeWarning: invalid value encountered in less_equal\n",
      "  keep &= (tmp_a <= last_edge)\n"
     ]
    },
    {
     "data": {
      "image/png": "[encoded data removed]",
      "text/plain": [
       "<Figure size 144x144 with 1 Axes>"
      ]
     },
     "metadata": {
      "needs_background": "light"
     },
     "output_type": "display_data"
    },
    {
     "data": {
      "image/png": "[encoded data removed]",
      "text/plain": [
       "<Figure size 144x144 with 1 Axes>"
      ]
     },
     "metadata": {
      "needs_background": "light"
     },
     "output_type": "display_data"
    }
   ],
   "source": [
    "# Plot kernel dist using sns.distplot.\n",
    "hras_RBD.kernel(histogram=True, title='H-Ras 2-166', xscale=[-2, 1],\n",
    "                output_file=None)\n",
    "\n",
    "# Plot histogram of SNVs\n",
    "hras_RBD.histogram(population='SNV', title='H-Ras 2-166 SNV', xscale=[-2, 1],\n",
    "                   output_file=None)\n",
    "\n",
    "# Plot histogram of non-SNVs\n",
    "hras_RBD.histogram(population='nonSNV', title='H-Ras 2-166 non-SNV', xscale=[-2, 1],\n",
    "                   output_file=None)"
   ]
  },
  {
   "cell_type": "raw",
   "metadata": {},
   "source": [
    ".. image:: ../example/exported_images/hras_kde.png\n",
    "   :width: 240px\n",
    "\n",
    ".. image:: ../example/exported_images/hras_histsnv.png\n",
    "   :width: 200px\n",
    "\n",
    ".. image:: ../example/exported_images/hras_histnonsnv.png\n",
    "   :width: 200px"
   ]
  },
  {
   "cell_type": "markdown",
   "metadata": {},
   "source": [
    "If you have multiple datasets and want to compare them, you can do it with the method ``object.scatter``. We give the option to do the comparison at a mutation by mutation level ``mode=pointmutant``, or at a position level ``mode=mean``."
   ]
  },
  {
   "cell_type": "code",
   "execution_count": 4,
   "metadata": {
    "ExecuteTime": {
     "end_time": "2020-10-01T18:22:09.876423Z",
     "start_time": "2020-10-01T18:22:09.594417Z"
    },
    "execution": {
     "iopub.execute_input": "2020-10-20T23:11:16.282034Z",
     "iopub.status.busy": "2020-10-20T23:11:16.281672Z",
     "iopub.status.idle": "2020-10-20T23:11:16.847917Z",
     "shell.execute_reply": "2020-10-20T23:11:16.846969Z",
     "shell.execute_reply.started": "2020-10-20T23:11:16.282005Z"
    }
   },
   "outputs": [
    {
     "data": {
      "image/png": "[encoded data removed]",
      "text/plain": [
       "<Figure size 144x144 with 1 Axes>"
      ]
     },
     "metadata": {
      "needs_background": "light"
     },
     "output_type": "display_data"
    },
    {
     "data": {
      "image/png": "[encoded data removed]",
      "text/plain": [
       "<Figure size 144x144 with 1 Axes>"
      ]
     },
     "metadata": {
      "needs_background": "light"
     },
     "output_type": "display_data"
    }
   ],
   "source": [
    "# Plot a scatter plot of each mutation\n",
    "hras_RBD.scatter(hras_GAPGEF, title='Individual mutations', mode='pointmutant',\n",
    "                 xscale=(-2.5, 1.5), yscale=(-2.5, 1.5), x_label='H-Ras Unregulated',\n",
    "                 y_label='H-Ras Regulated', output_file=None)\n",
    "\n",
    "# Plot a scatter plot of the mean position\n",
    "hras_RBD.scatter(hras_GAPGEF, title='Positional average', mode='mean', xscale=(-2, 1),\n",
    "                 yscale=(-2, 1), x_label='H-Ras Unregulated', y_label='H-Ras Regulated',\n",
    "                 output_file=None)"
   ]
  },
  {
   "cell_type": "raw",
   "metadata": {},
   "source": [
    ".. image:: ../example/exported_images/hras_scatter.png\n",
    "   :width: 200px\n",
    "\n",
    ".. image:: ../example/exported_images/hras_scatter_mean.png\n",
    "   :width: 200px"
   ]
  },
  {
   "cell_type": "markdown",
   "metadata": {},
   "source": [
    "The method ``object.rank`` sorts each mutation (or position) by its enrichment score. If ``outdf=True``, it will return a dataframe with the mutations ranked. This plot can now be done using plotly (see following chapter)."
   ]
  },
  {
   "cell_type": "code",
   "execution_count": 7,
   "metadata": {
    "ExecuteTime": {
     "end_time": "2020-10-01T18:22:11.403963Z",
     "start_time": "2020-10-01T18:22:11.175550Z"
    },
    "execution": {
     "iopub.execute_input": "2020-10-20T23:06:25.244481Z",
     "iopub.status.busy": "2020-10-20T23:06:25.244120Z",
     "iopub.status.idle": "2020-10-20T23:06:25.430104Z",
     "shell.execute_reply": "2020-10-20T23:06:25.427859Z",
     "shell.execute_reply.started": "2020-10-20T23:06:25.244445Z"
    }
   },
   "outputs": [
    {
     "data": {
      "image/png": "[encoded data removed]",
      "text/plain": [
       "<Figure size 288x144 with 1 Axes>"
      ]
     },
     "metadata": {
      "needs_background": "light"
     },
     "output_type": "display_data"
    },
    {
     "data": {
      "text/html": [
       "<div>\n",
       "<style scoped>\n",
       "    .dataframe tbody tr th:only-of-type {\n",
       "        vertical-align: middle;\n",
       "    }\n",
       "\n",
       "    .dataframe tbody tr th {\n",
       "        vertical-align: top;\n",
       "    }\n",
       "\n",
       "    .dataframe thead th {\n",
       "        text-align: right;\n",
       "    }\n",
       "</style>\n",
       "<table border=\"1\" class=\"dataframe\">\n",
       "  <thead>\n",
       "    <tr style=\"text-align: right;\">\n",
       "      <th></th>\n",
       "      <th>Sequence</th>\n",
       "      <th>Position</th>\n",
       "      <th>Aminoacid</th>\n",
       "      <th>Variant</th>\n",
       "      <th>Score</th>\n",
       "      <th>Score_NaN</th>\n",
       "    </tr>\n",
       "  </thead>\n",
       "  <tbody>\n",
       "    <tr>\n",
       "      <th>2316</th>\n",
       "      <td>V</td>\n",
       "      <td>112</td>\n",
       "      <td>H</td>\n",
       "      <td>V112H</td>\n",
       "      <td>-1.970805</td>\n",
       "      <td>-1.970805</td>\n",
       "    </tr>\n",
       "    <tr>\n",
       "      <th>3000</th>\n",
       "      <td>T</td>\n",
       "      <td>144</td>\n",
       "      <td>W</td>\n",
       "      <td>T144W</td>\n",
       "      <td>-1.970805</td>\n",
       "      <td>-1.970805</td>\n",
       "    </tr>\n",
       "    <tr>\n",
       "      <th>2402</th>\n",
       "      <td>N</td>\n",
       "      <td>116</td>\n",
       "      <td>K</td>\n",
       "      <td>N116K</td>\n",
       "      <td>-1.970805</td>\n",
       "      <td>-1.970805</td>\n",
       "    </tr>\n",
       "    <tr>\n",
       "      <th>2398</th>\n",
       "      <td>N</td>\n",
       "      <td>116</td>\n",
       "      <td>F</td>\n",
       "      <td>N116F</td>\n",
       "      <td>-1.970805</td>\n",
       "      <td>-1.970805</td>\n",
       "    </tr>\n",
       "    <tr>\n",
       "      <th>2931</th>\n",
       "      <td>Y</td>\n",
       "      <td>141</td>\n",
       "      <td>P</td>\n",
       "      <td>Y141P</td>\n",
       "      <td>-1.970805</td>\n",
       "      <td>-1.970805</td>\n",
       "    </tr>\n",
       "    <tr>\n",
       "      <th>...</th>\n",
       "      <td>...</td>\n",
       "      <td>...</td>\n",
       "      <td>...</td>\n",
       "      <td>...</td>\n",
       "      <td>...</td>\n",
       "      <td>...</td>\n",
       "    </tr>\n",
       "    <tr>\n",
       "      <th>488</th>\n",
       "      <td>Q</td>\n",
       "      <td>25</td>\n",
       "      <td>G</td>\n",
       "      <td>Q25G</td>\n",
       "      <td>0.682801</td>\n",
       "      <td>0.682801</td>\n",
       "    </tr>\n",
       "    <tr>\n",
       "      <th>3328</th>\n",
       "      <td>V</td>\n",
       "      <td>160</td>\n",
       "      <td>M</td>\n",
       "      <td>V160M</td>\n",
       "      <td>0.732305</td>\n",
       "      <td>0.732305</td>\n",
       "    </tr>\n",
       "    <tr>\n",
       "      <th>3304</th>\n",
       "      <td>L</td>\n",
       "      <td>159</td>\n",
       "      <td>I</td>\n",
       "      <td>L159I</td>\n",
       "      <td>0.963510</td>\n",
       "      <td>0.963510</td>\n",
       "    </tr>\n",
       "    <tr>\n",
       "      <th>2646</th>\n",
       "      <td>R</td>\n",
       "      <td>128</td>\n",
       "      <td>A</td>\n",
       "      <td>R128A</td>\n",
       "      <td>1.196918</td>\n",
       "      <td>1.196918</td>\n",
       "    </tr>\n",
       "    <tr>\n",
       "      <th>3093</th>\n",
       "      <td>R</td>\n",
       "      <td>149</td>\n",
       "      <td>H</td>\n",
       "      <td>R149H</td>\n",
       "      <td>2.363465</td>\n",
       "      <td>2.363465</td>\n",
       "    </tr>\n",
       "  </tbody>\n",
       "</table>\n",
       "<p>3300 rows × 6 columns</p>\n",
       "</div>"
      ],
      "text/plain": [
       "     Sequence  Position Aminoacid Variant     Score  Score_NaN\n",
       "2316        V       112         H   V112H -1.970805  -1.970805\n",
       "3000        T       144         W   T144W -1.970805  -1.970805\n",
       "2402        N       116         K   N116K -1.970805  -1.970805\n",
       "2398        N       116         F   N116F -1.970805  -1.970805\n",
       "2931        Y       141         P   Y141P -1.970805  -1.970805\n",
       "...       ...       ...       ...     ...       ...        ...\n",
       "488         Q        25         G    Q25G  0.682801   0.682801\n",
       "3328        V       160         M   V160M  0.732305   0.732305\n",
       "3304        L       159         I   L159I  0.963510   0.963510\n",
       "2646        R       128         A   R128A  1.196918   1.196918\n",
       "3093        R       149         H   R149H  2.363465   2.363465\n",
       "\n",
       "[3300 rows x 6 columns]"
      ]
     },
     "execution_count": 7,
     "metadata": {},
     "output_type": "execute_result"
    }
   ],
   "source": [
    "# Rank plot\n",
    "hras_RBD.rank(mode='pointmutant', outdf=True, title='Rank of mutations',\n",
    "              output_file=None)"
   ]
  },
  {
   "cell_type": "raw",
   "metadata": {},
   "source": [
    ".. image:: ../example/exported_images/hras_rank.png\n",
    "   :width: 400px\n",
    "   \n",
    ".. image:: ../example/exported_images/hras_ranktable.png\n",
    "   :width: 200px"
   ]
  },
  {
   "cell_type": "markdown",
   "metadata": {},
   "source": [
    "The method ``object.cumulative`` draws a cumulative plot that sums the mean enrichment score of every position. This  plot is useful to determine if the sensitivity to mutations is constant throughout the protein or not. In the example, we see that the cumulative function follows the x=y line, suggestion a homogeneous mutational tolerance. \n"
   ]
  },
  {
   "cell_type": "code",
   "execution_count": 8,
   "metadata": {
    "ExecuteTime": {
     "end_time": "2020-10-01T18:22:12.745267Z",
     "start_time": "2020-10-01T18:22:12.623974Z"
    },
    "execution": {
     "iopub.execute_input": "2020-10-20T23:06:28.736625Z",
     "iopub.status.busy": "2020-10-20T23:06:28.736389Z",
     "iopub.status.idle": "2020-10-20T23:06:28.865528Z",
     "shell.execute_reply": "2020-10-20T23:06:28.864738Z",
     "shell.execute_reply.started": "2020-10-20T23:06:28.736603Z"
    }
   },
   "outputs": [
    {
     "data": {
      "image/png": "[encoded data removed]",
      "text/plain": [
       "<Figure size 216x144 with 1 Axes>"
      ]
     },
     "metadata": {
      "needs_background": "light"
     },
     "output_type": "display_data"
    }
   ],
   "source": [
    "# Cumulative plot\n",
    "hras_RBD.cumulative(mode='all', title='Cumulative Score',\n",
    "                    output_file=None)"
   ]
  },
  {
   "cell_type": "raw",
   "metadata": {},
   "source": [
    ".. image:: ../example/exported_images/hras_cumulative.png\n",
    "   :width: 300px\n",
    "   :align: center"
   ]
  },
  {
   "cell_type": "markdown",
   "metadata": {},
   "source": [
    "## Bar and line charts"
   ]
  },
  {
   "cell_type": "raw",
   "metadata": {},
   "source": [
    "Methods reviewed in this section:\n",
    "    - :meth:`mutagenesis_visualization.Screen.mean`\n",
    "    - :meth:`mutagenesis_visualization.Screen.differential`\n",
    "    - :meth:`mutagenesis_visualization.Screen.position`\n",
    "    - :meth:`mutagenesis_visualization.Screen.secondary_mean`"
   ]
  },
  {
   "cell_type": "markdown",
   "metadata": {},
   "source": [
    "The method ``object.mean`` will plot the mean enrichment score for every position on a bar chart. It will be colored blue for loss of function and red for gain of function. Additionally, setting the parameter ``mode`` to an amino acid (using the one letter code) will plot the enrichment for that particular amino acid along the protein. In this example, we are showing the mean enrichment scores (top) and an alanine scan (bottom)"
   ]
  },
  {
   "cell_type": "code",
   "execution_count": 4,
   "metadata": {
    "ExecuteTime": {
     "end_time": "2020-10-01T18:25:52.438263Z",
     "start_time": "2020-10-01T18:25:51.339286Z"
    },
    "execution": {
     "iopub.execute_input": "2020-10-20T23:07:48.061162Z",
     "iopub.status.busy": "2020-10-20T23:07:48.060932Z",
     "iopub.status.idle": "2020-10-20T23:07:49.125335Z",
     "shell.execute_reply": "2020-10-20T23:07:49.124413Z",
     "shell.execute_reply.started": "2020-10-20T23:07:48.061139Z"
    }
   },
   "outputs": [
    {
     "data": {
      "image/png": "[encoded data removed]",
      "text/plain": [
       "<Figure size 432x180 with 2 Axes>"
      ]
     },
     "metadata": {
      "needs_background": "light"
     },
     "output_type": "display_data"
    },
    {
     "data": {
      "image/png": "[encoded data removed]",
      "text/plain": [
       "<Figure size 432x180 with 2 Axes>"
      ]
     },
     "metadata": {
      "needs_background": "light"
     },
     "output_type": "display_data"
    }
   ],
   "source": [
    "# Plot a bar graph with the mean enrichment score\n",
    "hras_RBD.mean(figsize=[6, 2.5], mode='mean', show_cartoon=True, yscale=[-2, 0.5],\n",
    "              title='', output_file=None)\n",
    "\n",
    "# Plot a bar graph with the alanine enrichment score\n",
    "hras_RBD.mean(figsize=[6, 2.5], mode='A', show_cartoon=True, yscale=[-2, 0.5],\n",
    "              title='', output_file=None)"
   ]
  },
  {
   "cell_type": "raw",
   "metadata": {},
   "source": [
    ".. image:: ../example/exported_images/hras_bar_mean.png\n",
    "   :width: 500px\n",
    "   :align: center\n",
    "   \n",
    ".. image:: ../example/exported_images/hras_bar_alanine.png\n",
    "   :width: 500px\n",
    "   :align: center"
   ]
  },
  {
   "cell_type": "markdown",
   "metadata": {},
   "source": [
    "The mean differential effect between the two example datasets is displayed using the method ``object.differential``. This plot is useful to compare either orthologs/paralogs or the same protein with different effectors, and determine which areas of the protein have a different sensitivity to mutations."
   ]
  },
  {
   "cell_type": "code",
   "execution_count": 5,
   "metadata": {
    "ExecuteTime": {
     "end_time": "2020-10-01T18:25:53.286188Z",
     "start_time": "2020-10-01T18:25:53.084308Z"
    },
    "execution": {
     "iopub.execute_input": "2020-10-20T23:11:22.688798Z",
     "iopub.status.busy": "2020-10-20T23:11:22.688561Z",
     "iopub.status.idle": "2020-10-20T23:11:22.965702Z",
     "shell.execute_reply": "2020-10-20T23:11:22.964780Z",
     "shell.execute_reply.started": "2020-10-20T23:11:22.688775Z"
    }
   },
   "outputs": [
    {
     "data": {
      "image/png": "[encoded data removed]",
      "text/plain": [
       "<Figure size 432x180 with 2 Axes>"
      ]
     },
     "metadata": {
      "needs_background": "light"
     },
     "output_type": "display_data"
    }
   ],
   "source": [
    "# Plot the difference between H-Ras unregulated and H-Ras regulated datasets\n",
    "# The subtraction is hras_RBD - hrasGAPGEF\n",
    "hras_RBD.differential(hras_GAPGEF, figsize=[6, 2.5], show_cartoon=True,\n",
    "                      yscale=[-1, 1], title='', output_file=None)"
   ]
  },
  {
   "cell_type": "raw",
   "metadata": {
    "ExecuteTime": {
     "end_time": "2020-09-01T03:12:53.467153Z",
     "start_time": "2020-09-01T03:12:53.462676Z"
    }
   },
   "source": [
    ".. image:: ../example/exported_images/hras_diffenrichment.png\n",
    "   :width: 500px\n",
    "   :align: center"
   ]
  },
  {
   "cell_type": "markdown",
   "metadata": {},
   "source": [
    "You can check the individual mutational profile of a residue by using ``object.position``."
   ]
  },
  {
   "cell_type": "code",
   "execution_count": 6,
   "metadata": {
    "ExecuteTime": {
     "end_time": "2020-10-01T18:25:55.049389Z",
     "start_time": "2020-10-01T18:25:54.882646Z"
    },
    "execution": {
     "iopub.execute_input": "2020-10-20T23:11:27.304252Z",
     "iopub.status.busy": "2020-10-20T23:11:27.303989Z",
     "iopub.status.idle": "2020-10-20T23:11:27.528095Z",
     "shell.execute_reply": "2020-10-20T23:11:27.526699Z",
     "shell.execute_reply.started": "2020-10-20T23:11:27.304225Z"
    }
   },
   "outputs": [
    {
     "data": {
      "image/png": "[encoded data removed]",
      "text/plain": [
       "<Figure size 252x144 with 1 Axes>"
      ]
     },
     "metadata": {
      "needs_background": "light"
     },
     "output_type": "display_data"
    }
   ],
   "source": [
    "# Create plot for position 117\n",
    "hras_RBD.position(position=117, yscale=(-1.5, 0.8), figsize=(3.5, 2),\n",
    "                  title='Position 117', output_file=None)"
   ]
  },
  {
   "cell_type": "raw",
   "metadata": {},
   "source": [
    ".. image:: ../example/exported_images/hras_position117.png\n",
    "   :width: 350px\n",
    "   :align: center"
   ]
  },
  {
   "cell_type": "markdown",
   "metadata": {},
   "source": [
    "If you added the secondary structure as an attribute of the object, you can plot the mean enrichment score for each alpha and beta motif in the protein (``object.secondary_mean``)."
   ]
  },
  {
   "cell_type": "code",
   "execution_count": 4,
   "metadata": {
    "ExecuteTime": {
     "end_time": "2020-10-01T18:25:56.793148Z",
     "start_time": "2020-10-01T18:25:56.651647Z"
    },
    "execution": {
     "iopub.execute_input": "2020-10-20T23:13:10.131306Z",
     "iopub.status.busy": "2020-10-20T23:13:10.131078Z",
     "iopub.status.idle": "2020-10-20T23:13:10.592073Z",
     "shell.execute_reply": "2020-10-20T23:13:10.591485Z",
     "shell.execute_reply.started": "2020-10-20T23:13:10.131282Z"
    }
   },
   "outputs": [
    {
     "data": {
      "image/png": "[encoded data removed]",
      "text/plain": [
       "<Figure size 216x144 with 1 Axes>"
      ]
     },
     "metadata": {
      "needs_background": "light"
     },
     "output_type": "display_data"
    }
   ],
   "source": [
    "# Graph bar of the mean of each secondary motif\n",
    "hras_RBD.secondary_mean(yscale=[-1, 0], figsize=[3, 2], title='Mean of secondary motifs',\n",
    "                        output_file=None)"
   ]
  },
  {
   "cell_type": "raw",
   "metadata": {},
   "source": [
    ".. image:: ../example/exported_images/hras_secondary.png\n",
    "   :width: 300px\n",
    "   :align: center"
   ]
  },
  {
   "cell_type": "markdown",
   "metadata": {},
   "source": [
    "## Correlation, PCA and ROC AUC"
   ]
  },
  {
   "cell_type": "raw",
   "metadata": {},
   "source": [
    "Methods and functions reviewed in this section:\n",
    "    - :meth:`mutagenesis_visualization.Screen.correlation`\n",
    "    - :meth:`mutagenesis_visualization.Screen.individual_correlation`\n",
    "    - :meth:`mutagenesis_visualization.Screen.group_correlation`\n",
    "    - :meth:`mutagenesis_visualization.Screen.pca`\n",
    "    - :meth:`mutagenesis_visualization.Screen.roc`\n",
    "    - :func:`mutagenesis_visualization.msa_enrichment`\n",
    "    - :func:`mutagenesis_visualization.plot_box`"
   ]
  },
  {
   "cell_type": "raw",
   "metadata": {},
   "source": [
    "If you want to know more about PCA and ROC, watch the following StatQuest videos on youtube:\n",
    "`PCA <https://www.youtube.com/watch?v=FgakZw6K1QQ&ab_channel=StatQuestwithJoshStarmer>`_\n",
    "`ROC and AUC <https://www.youtube.com/watch?v=4jRBRDbJemM&ab_channel=StatQuestwithJoshStarmer>`_"
   ]
  },
  {
   "cell_type": "markdown",
   "metadata": {},
   "source": [
    "The correlation of amino acid substitution profiles can be calculated for each amino acid and graphed using ``object.correlation``. In the example we observe that polar amino acids have high correlation between themselves but low correlation with hydrophobic amino acids."
   ]
  },
  {
   "cell_type": "code",
   "execution_count": 5,
   "metadata": {
    "ExecuteTime": {
     "end_time": "2020-10-01T18:26:00.985930Z",
     "start_time": "2020-10-01T18:26:00.637882Z"
    },
    "execution": {
     "iopub.execute_input": "2020-10-20T23:13:13.535212Z",
     "iopub.status.busy": "2020-10-20T23:13:13.534953Z",
     "iopub.status.idle": "2020-10-20T23:13:13.919809Z",
     "shell.execute_reply": "2020-10-20T23:13:13.919170Z",
     "shell.execute_reply.started": "2020-10-20T23:13:13.535186Z"
    }
   },
   "outputs": [
    {
     "data": {
      "image/png": "[encoded data removed]",
      "text/plain": [
       "<Figure size 208.895x180 with 2 Axes>"
      ]
     },
     "metadata": {
      "needs_background": "light"
     },
     "output_type": "display_data"
    }
   ],
   "source": [
    "# Correlation between amino acids\n",
    "hras_RBD.correlation(\n",
    "    colorbar_scale=[0.5, 1], title='Correlation', output_file=None)"
   ]
  },
  {
   "cell_type": "raw",
   "metadata": {
    "ExecuteTime": {
     "end_time": "2020-09-01T03:16:24.018490Z",
     "start_time": "2020-09-01T03:16:24.013197Z"
    }
   },
   "source": [
    ".. image:: ../example/exported_images/hras_correlation.png\n",
    "   :width: 250px\n",
    "   :align: center"
   ]
  },
  {
   "cell_type": "markdown",
   "metadata": {},
   "source": [
    "The method ``object.individual_correlation`` will tell you how a single amino acid substitution profile (row of the heatmap) correlates to the rest of the dataset."
   ]
  },
  {
   "cell_type": "code",
   "execution_count": 6,
   "metadata": {
    "ExecuteTime": {
     "end_time": "2020-10-01T18:26:02.207684Z",
     "start_time": "2020-10-01T18:26:02.037745Z"
    },
    "execution": {
     "iopub.execute_input": "2020-10-20T23:13:15.822082Z",
     "iopub.status.busy": "2020-10-20T23:13:15.821697Z",
     "iopub.status.idle": "2020-10-20T23:13:16.038356Z",
     "shell.execute_reply": "2020-10-20T23:13:16.037708Z",
     "shell.execute_reply.started": "2020-10-20T23:13:15.822047Z"
    }
   },
   "outputs": [
    {
     "data": {
      "image/png": "[encoded data removed]",
      "text/plain": [
       "<Figure size 252x144 with 1 Axes>"
      ]
     },
     "metadata": {
      "needs_background": "light"
     },
     "output_type": "display_data"
    }
   ],
   "source": [
    "# Explained variability by amino acid\n",
    "hras_RBD.individual_correlation(yscale=[0, 0.6], title='Explained variability by amino acid',\n",
    "                                output_file=None)"
   ]
  },
  {
   "cell_type": "raw",
   "metadata": {},
   "source": [
    ".. image:: ../example/exported_images/hras_variability.png\n",
    "   :width: 300px\n",
    "   :align: center"
   ]
  },
  {
   "cell_type": "raw",
   "metadata": {},
   "source": [
    "Grouping amino acids improves the predictive power. ``object.group_correlation`` lets you manually group amino acids. The algorithm picks one amino acid per group and evaluates the predictive power of the subset. Such operation will be done for every possible combination. In the example, 8 amino acids explain 0.75 of the data. A sequence logo [#Tareen2019]_ will show for each group which is the most represented amino acid in of the subset that has an R2 value greater than the cutoff that you have set using the parameter ``r2``. Such plot will let you see if there is any preference for a particular amino acid within a group."
   ]
  },
  {
   "cell_type": "code",
   "execution_count": 7,
   "metadata": {
    "ExecuteTime": {
     "end_time": "2020-10-01T18:26:08.728334Z",
     "start_time": "2020-10-01T18:26:03.207669Z"
    },
    "execution": {
     "iopub.execute_input": "2020-10-20T23:13:18.093172Z",
     "iopub.status.busy": "2020-10-20T23:13:18.092921Z",
     "iopub.status.idle": "2020-10-20T23:13:23.495620Z",
     "shell.execute_reply": "2020-10-20T23:13:23.494821Z",
     "shell.execute_reply.started": "2020-10-20T23:13:18.093150Z"
    }
   },
   "outputs": [
    {
     "data": {
      "image/png": "[encoded data removed]",
      "text/plain": [
       "<Figure size 259.2x72 with 1 Axes>"
      ]
     },
     "metadata": {
      "needs_background": "light"
     },
     "output_type": "display_data"
    },
    {
     "data": {
      "text/html": [
       "<div>\n",
       "<style scoped>\n",
       "    .dataframe tbody tr th:only-of-type {\n",
       "        vertical-align: middle;\n",
       "    }\n",
       "\n",
       "    .dataframe tbody tr th {\n",
       "        vertical-align: top;\n",
       "    }\n",
       "\n",
       "    .dataframe thead th {\n",
       "        text-align: right;\n",
       "    }\n",
       "</style>\n",
       "<table border=\"1\" class=\"dataframe\">\n",
       "  <thead>\n",
       "    <tr style=\"text-align: right;\">\n",
       "      <th></th>\n",
       "      <th>R2</th>\n",
       "      <th>Combinations</th>\n",
       "    </tr>\n",
       "  </thead>\n",
       "  <tbody>\n",
       "    <tr>\n",
       "      <th>417</th>\n",
       "      <td>0.778152</td>\n",
       "      <td>DRNTAVWP</td>\n",
       "    </tr>\n",
       "    <tr>\n",
       "      <th>777</th>\n",
       "      <td>0.778152</td>\n",
       "      <td>ERQTAVWP</td>\n",
       "    </tr>\n",
       "    <tr>\n",
       "      <th>345</th>\n",
       "      <td>0.778152</td>\n",
       "      <td>DRQTAVWP</td>\n",
       "    </tr>\n",
       "    <tr>\n",
       "      <th>849</th>\n",
       "      <td>0.778152</td>\n",
       "      <td>ERNTAVWP</td>\n",
       "    </tr>\n",
       "    <tr>\n",
       "      <th>861</th>\n",
       "      <td>0.778152</td>\n",
       "      <td>ERNTGVWP</td>\n",
       "    </tr>\n",
       "  </tbody>\n",
       "</table>\n",
       "</div>"
      ],
      "text/plain": [
       "           R2 Combinations\n",
       "417  0.778152     DRNTAVWP\n",
       "777  0.778152     ERQTAVWP\n",
       "345  0.778152     DRQTAVWP\n",
       "849  0.778152     ERNTAVWP\n",
       "861  0.778152     ERNTGVWP"
      ]
     },
     "execution_count": 7,
     "metadata": {},
     "output_type": "execute_result"
    }
   ],
   "source": [
    "# Define groups of amino acids. The algorithm will pool one of each group and evaluate\n",
    "# how well that subset correlates to the entires dataset\n",
    "groups = ['DE', 'HKR', 'QN', 'CST', 'AG', 'ILMV', 'WYF', 'P']\n",
    "\n",
    "# Get list of all combinations and their associated R2 value\n",
    "df_r2 = hras_RBD.group_correlation(r2=0.75, groups=groups, output=True, title='',\n",
    "                                   output_file=None)\n",
    "\n",
    "# Only show the top 5\n",
    "df_r2.sort_values(by='R2', ascending=False).head()"
   ]
  },
  {
   "cell_type": "raw",
   "metadata": {},
   "source": [
    ".. image:: ../example/exported_images/hras_logo.png\n",
    "   :align: center\n",
    "\n",
    ".. image:: ../example/exported_images/hras_meanrepresentatives_rank.png\n",
    "   :width: 200px\n",
    "   :align: center\n"
   ]
  },
  {
   "cell_type": "markdown",
   "metadata": {},
   "source": [
    "The package can perform principal component analysis (PCA) using the method ``object.pca``. The parameter ``mode`` can be set to ``aminoacid``, in which will cluster amino acids based on their similarity, ``individual`` in which will do the same for each individual residue and ``secondary``, in which will cluster for each motif. By default, the first two dimensions will be plotted (0 and 1 in Python notation), but that can be changed by ``dimensions`` parameter."
   ]
  },
  {
   "cell_type": "code",
   "execution_count": 8,
   "metadata": {
    "ExecuteTime": {
     "end_time": "2020-10-01T18:26:11.370548Z",
     "start_time": "2020-10-01T18:26:08.733299Z"
    },
    "execution": {
     "iopub.execute_input": "2020-10-20T23:13:27.575019Z",
     "iopub.status.busy": "2020-10-20T23:13:27.574594Z",
     "iopub.status.idle": "2020-10-20T23:13:29.895360Z",
     "shell.execute_reply": "2020-10-20T23:13:29.894735Z",
     "shell.execute_reply.started": "2020-10-20T23:13:27.574991Z"
    }
   },
   "outputs": [
    {
     "data": {
      "image/png": "[encoded data removed]",
      "text/plain": [
       "<Figure size 144x144 with 1 Axes>"
      ]
     },
     "metadata": {
      "needs_background": "light"
     },
     "output_type": "display_data"
    },
    {
     "data": {
      "image/png": "[encoded data removed]",
      "text/plain": [
       "<Figure size 144x144 with 1 Axes>"
      ]
     },
     "metadata": {
      "needs_background": "light"
     },
     "output_type": "display_data"
    },
    {
     "data": {
      "image/png": "[encoded data removed]",
      "text/plain": [
       "<Figure size 360x360 with 1 Axes>"
      ]
     },
     "metadata": {
      "needs_background": "light"
     },
     "output_type": "display_data"
    }
   ],
   "source": [
    "# PCA by amino acid substitution\n",
    "hras_RBD.pca(title='', dimensions=[0, 1], figsize=(2, 2), adjustlabels=True,\n",
    "             output_file=None)\n",
    "\n",
    "# PCA by secondary structure motif\n",
    "hras_RBD.pca(title='', mode='secondary', dimensions=[0, 1], figsize=(2, 2),\n",
    "             adjustlabels=True, output_file=None)\n",
    "\n",
    "# PCA by each individual residue. Don't set adjustlabels = True unless really big figsize\n",
    "hras_RBD.pca(title='', mode='individual', dimensions=[0, 1], figsize=(5, 5),\n",
    "             adjustlabels=False, output_file=None)"
   ]
  },
  {
   "cell_type": "raw",
   "metadata": {},
   "source": [
    ".. image:: ../example/exported_images/hras_pcaaminoacid.png\n",
    "   :width: 200px\n",
    "\n",
    ".. image:: ../example/exported_images/hras_pcasecondary.png\n",
    "   :width: 200px\n",
    "\n",
    ".. image:: ../example/exported_images/hras_pcaindividual.png\n",
    "   :width: 250px"
   ]
  },
  {
   "cell_type": "markdown",
   "metadata": {},
   "source": [
    "Another type of plot that can be done is a receiver operating characteristic (ROC) curve for classification. You will use the method ``object.roc`` and as an input you will pass a dataframe that contains the label for each variant. In this example, we are using it to evaluate whether we can use evolutionary conservation data to predict the mutational tolerance of the protein. The area under the curve (AUC) is above 0.5, implying that there is a small relationship between enrichment/conservation."
   ]
  },
  {
   "cell_type": "code",
   "execution_count": 9,
   "metadata": {
    "ExecuteTime": {
     "end_time": "2020-10-01T18:26:11.627124Z",
     "start_time": "2020-10-01T18:26:11.375327Z"
    },
    "execution": {
     "iopub.execute_input": "2020-10-20T23:13:32.675130Z",
     "iopub.status.busy": "2020-10-20T23:13:32.674793Z",
     "iopub.status.idle": "2020-10-20T23:13:32.993831Z",
     "shell.execute_reply": "2020-10-20T23:13:32.993050Z",
     "shell.execute_reply.started": "2020-10-20T23:13:32.675097Z"
    }
   },
   "outputs": [
    {
     "data": {
      "image/png": "[encoded data removed]",
      "text/plain": [
       "<Figure size 180x180 with 1 Axes>"
      ]
     },
     "metadata": {
      "needs_background": "light"
     },
     "output_type": "display_data"
    }
   ],
   "source": [
    "# Calculate conservation score from MSA\n",
    "path = '../data/Ras_family_trimmed.fasta'\n",
    "df_shannon, df_freq = code_process_data.msa_enrichment(hras_RBD, path, start_position=1,\n",
    "                                                       threshold=0.1)\n",
    "\n",
    "# Plot ROC curve\n",
    "hras_RBD.roc(df_freq[['Variant', 'Class']], title='MSA predictive power',\n",
    "             output_file=None)"
   ]
  },
  {
   "cell_type": "raw",
   "metadata": {},
   "source": [
    ".. image:: ../example/exported_images/hras_roc.png\n",
    "   :width: 250px\n",
    "   :align: center"
   ]
  },
  {
   "cell_type": "markdown",
   "metadata": {},
   "source": [
    "The package also allows to do a boxplot using the function ``plot_box``. Note that the data needs to be binned separately. In this example, we have used it to study if the Shannon entropy is related to the mutational tolerance. Although there is high variability, on average residues with a lower enrichment score are more conserved."
   ]
  },
  {
   "cell_type": "code",
   "execution_count": 10,
   "metadata": {
    "ExecuteTime": {
     "end_time": "2020-10-01T18:26:11.854340Z",
     "start_time": "2020-10-01T18:26:11.630686Z"
    },
    "execution": {
     "iopub.execute_input": "2020-10-20T23:13:35.795311Z",
     "iopub.status.busy": "2020-10-20T23:13:35.795058Z",
     "iopub.status.idle": "2020-10-20T23:13:36.064099Z",
     "shell.execute_reply": "2020-10-20T23:13:36.062510Z",
     "shell.execute_reply.started": "2020-10-20T23:13:35.795286Z"
    }
   },
   "outputs": [
    {
     "ename": "AttributeError",
     "evalue": "module 'code_class' has no attribute 'box'",
     "output_type": "error",
     "traceback": [
      "\u001b[0;31m---------------------------------------------------------------------------\u001b[0m",
      "\u001b[0;31mAttributeError\u001b[0m                            Traceback (most recent call last)",
      "\u001b[0;32m<ipython-input-10-bfc7ce07c4e8>\u001b[0m in \u001b[0;36m<module>\u001b[0;34m\u001b[0m\n\u001b[1;32m      3\u001b[0m \u001b[0;34m\u001b[0m\u001b[0m\n\u001b[1;32m      4\u001b[0m \u001b[0;31m# Plot box plot.\u001b[0m\u001b[0;34m\u001b[0m\u001b[0;34m\u001b[0m\u001b[0;34m\u001b[0m\u001b[0m\n\u001b[0;32m----> 5\u001b[0;31m mut.box(binned_x=binned_shannon, y=df_shannon['Score'],\n\u001b[0m\u001b[1;32m      6\u001b[0m         \u001b[0mtitle\u001b[0m\u001b[0;34m=\u001b[0m\u001b[0;34m'Shannon vs Enrichment'\u001b[0m\u001b[0;34m,\u001b[0m \u001b[0mx_label\u001b[0m\u001b[0;34m=\u001b[0m\u001b[0;34m'Shannon Entropy'\u001b[0m\u001b[0;34m,\u001b[0m\u001b[0;34m\u001b[0m\u001b[0;34m\u001b[0m\u001b[0m\n\u001b[1;32m      7\u001b[0m         y_label=r'$∆E^i_x$', output_file=None)\n",
      "\u001b[0;31mAttributeError\u001b[0m: module 'code_class' has no attribute 'box'"
     ]
    }
   ],
   "source": [
    "# Bin data\n",
    "binned_shannon = (2*df_shannon['Shannon']).round(0)/2\n",
    "\n",
    "# Plot box plot.\n",
    "mut.box(binned_x=binned_shannon, y=df_shannon['Score'],\n",
    "        title='Shannon vs Enrichment', x_label='Shannon Entropy',\n",
    "        y_label=r'$∆E^i_x$', output_file=None)"
   ]
  },
  {
   "cell_type": "code",
   "execution_count": null,
   "metadata": {},
   "outputs": [],
   "source": [
    "mut."
   ]
  },
  {
   "cell_type": "raw",
   "metadata": {
    "ExecuteTime": {
     "end_time": "2020-09-01T03:14:26.895627Z",
     "start_time": "2020-09-01T03:14:26.890662Z"
    }
   },
   "source": [
    ".. image:: ../example/exported_images/hras_shannon.png\n",
    "   :width: 300px\n",
    "   :align: center"
   ]
  },
  {
   "cell_type": "markdown",
   "metadata": {},
   "source": [
    "## 3-D scatter"
   ]
  },
  {
   "cell_type": "raw",
   "metadata": {},
   "source": [
    "Methods reviewed in this section:\n",
    "    - :meth:`mutagenesis_visualization.Screen.scatter_3D`\n",
    "    - :meth:`mutagenesis_visualization.Screen.scatter_3D_pdbprop`\n"
   ]
  },
  {
   "cell_type": "markdown",
   "metadata": {},
   "source": [
    "The user can plot a 3-D scatter using the atomic coordinates of the C-alpha atoms of a PDB file. The method ``object.scatter_3D`` will take as an input either a PDB file or the x,y,z coordinates and plot a color-coded scatter. In the example, we can appreciate how mutation at the inner residues (hydrophobic) are loss of function (blue), and surface residues (green) are more tolerant to mutations. For the second plot, we have centered and squared the data. The closer to (0,0,0), the higher the amoung of blue residues. We have colored in lightblue the residues of Switch I of Ras, which are known to interact with RBD, the effector used in the assay. They are all loss of function and away from the origin. If you want to use the example pdbs, use the command ``pdbs_dict = mut.demo_pdbs()`` to retrieve the pdb_paths. "
   ]
  },
  {
   "cell_type": "code",
   "execution_count": 11,
   "metadata": {
    "ExecuteTime": {
     "end_time": "2020-10-01T18:51:33.776592Z",
     "start_time": "2020-10-01T18:51:33.062723Z"
    },
    "execution": {
     "iopub.execute_input": "2020-10-20T23:13:45.564900Z",
     "iopub.status.busy": "2020-10-20T23:13:45.564690Z",
     "iopub.status.idle": "2020-10-20T23:13:46.105812Z",
     "shell.execute_reply": "2020-10-20T23:13:46.105031Z",
     "shell.execute_reply.started": "2020-10-20T23:13:45.564880Z"
    }
   },
   "outputs": [
    {
     "data": {
      "application/vnd.jupyter.widget-view+json": {
       "model_id": "c02218daf4e2441796d615261541fc9b",
       "version_major": 2,
       "version_minor": 0
      },
      "text/plain": [
       "Canvas(toolbar=Toolbar(toolitems=[('Home', 'Reset original view', 'home', 'home'), ('Back', 'Back to previous …"
      ]
     },
     "metadata": {},
     "output_type": "display_data"
    },
    {
     "data": {
      "application/vnd.jupyter.widget-view+json": {
       "model_id": "c24dab016af2432fac8536fe13d09e82",
       "version_major": 2,
       "version_minor": 0
      },
      "text/plain": [
       "Canvas(toolbar=Toolbar(toolitems=[('Home', 'Reset original view', 'home', 'home'), ('Back', 'Back to previous …"
      ]
     },
     "metadata": {},
     "output_type": "display_data"
    },
    {
     "data": {
      "application/vnd.jupyter.widget-view+json": {
       "model_id": "d5327cbe947a4ad4aab79f2282b2579c",
       "version_major": 2,
       "version_minor": 0
      },
      "text/plain": [
       "Canvas(toolbar=Toolbar(toolitems=[('Home', 'Reset original view', 'home', 'home'), ('Back', 'Back to previous …"
      ]
     },
     "metadata": {},
     "output_type": "display_data"
    }
   ],
   "source": [
    "%matplotlib widget\n",
    "\n",
    "# Plot 3-D plot\n",
    "hras_RBD.scatter_3D(mode='mean', pdb_path='../data/5p21.pdb', squared=False,\n",
    "                    lof=-0.5, gof=0.15)\n",
    "\n",
    "# Plot 3-D plot, centering and squaring the distances\n",
    "hras_RBD.scatter_3D(mode='mean', pdb_path='../data/5p21.pdb', squared=True,\n",
    "                    lof=-0.5, gof=0.15)\n",
    "\n",
    "# Calculate conservation score from MSA\n",
    "path = '../data/Ras_family_trimmed.fasta'\n",
    "\n",
    "# Load example MSA file (only if you are trying to reproduce the plots)\n",
    "#fasta_dict = demo_fasta()\n",
    "#path = fasta_dict['ras']\n",
    "\n",
    "df_shannon, df_freq = code_process_data.msa_enrichment(hras_RBD, path, start_position=1,\n",
    "                                         threshold=0.1)\n",
    "\n",
    "# Plot 3-D SASA, B-factor and Shannon Entropy\n",
    "hras_RBD.scatter_3D_pdbprop(plot=['SASA', 'Score', 'Shannon'], custom=df_shannon['Shannon'],\n",
    "                            pdb_path='../data/5p21.pdb', color_by_score=True,\n",
    "                            gof=0.15, lof=-0.5)"
   ]
  },
  {
   "cell_type": "raw",
   "metadata": {},
   "source": [
    ".. image:: ../example/exported_images/hras_3dscatter.png\n",
    "   :width: 500px\n",
    "   :align: center\n",
    "   \n",
    ".. image:: ../example/exported_images/hras_3dscatter_squared.png\n",
    "   :width: 500px\n",
    "   :align: center\n",
    "   \n",
    ".. image:: ../example/exported_images/hras_3dscatter_shannon.png\n",
    "   :width: 500px\n",
    "   :align: center"
   ]
  },
  {
   "cell_type": "markdown",
   "metadata": {},
   "source": [
    "## Pymol"
   ]
  },
  {
   "cell_type": "raw",
   "metadata": {
    "ExecuteTime": {
     "end_time": "2020-09-15T23:51:23.133650Z",
     "start_time": "2020-09-15T23:51:23.128545Z"
    }
   },
   "source": [
    "Method reviewed in this section:\n",
    "    - :meth:`mutagenesis_visualization.Screen.pymol`\n"
   ]
  },
  {
   "cell_type": "markdown",
   "metadata": {},
   "source": [
    "The data can be graphed on a Pymol object using ``object.pymol``. The parameter ``pdb`` will fetch the pdb that you want to use. Note that the protein chain needs to be specified (see example). Red for gain of function and blue for loss of function. ``mode`` lets you specifiy whether to plot the mean or an individual amino acid profile (left - Leucine, right - Aspartate)."
   ]
  },
  {
   "cell_type": "code",
   "execution_count": 12,
   "metadata": {
    "ExecuteTime": {
     "end_time": "2020-10-01T18:27:12.714186Z",
     "start_time": "2020-10-01T18:27:10.122402Z"
    },
    "execution": {
     "iopub.execute_input": "2020-10-20T23:13:48.293663Z",
     "iopub.status.busy": "2020-10-20T23:13:48.293360Z",
     "iopub.status.idle": "2020-10-20T23:13:50.079688Z",
     "shell.execute_reply": "2020-10-20T23:13:50.079137Z",
     "shell.execute_reply.started": "2020-10-20T23:13:48.293634Z"
    }
   },
   "outputs": [],
   "source": [
    "# Start pymol and color residues. Cut offs are set with gof and lof parameters.\n",
    "hras_RBD.pymol(pdb='5p21_A', mode='mean', gof=0.2, lof=-0.5)\n",
    "\n",
    "# Now check the mutational profile of Leucine (left image)\n",
    "hras_RBD.pymol(pdb='5p21_A', mode='L', gof=0.2, lof=-0.5)\n",
    "\n",
    "# Now check the mutational profile of Aspartate (right image)\n",
    "hras_RBD.pymol(pdb='5p21_A', mode='D', gof=0.2, lof=-0.5)"
   ]
  },
  {
   "cell_type": "raw",
   "metadata": {},
   "source": [
    ".. image:: ../example/exported_images/hras_pymol_combLD.png\n",
    "   :align: center"
   ]
  },
  {
   "cell_type": "markdown",
   "metadata": {},
   "source": [
    "## Art"
   ]
  },
  {
   "cell_type": "markdown",
   "metadata": {},
   "source": [
    "The heatmap method can be used to generate artistic plots such as the one in the documentation overview. In here we show how that is done. On an Excel we have defined the color for each square in the heatmap (also available with the package, see ``logo.xlsx``). The first step is to import the excel file, and then we perform the same steps as in a normal dataset."
   ]
  },
  {
   "cell_type": "code",
   "execution_count": null,
   "metadata": {
    "ExecuteTime": {
     "end_time": "2020-10-01T18:26:12.351727Z",
     "start_time": "2020-10-01T18:26:08.304Z"
    }
   },
   "outputs": [],
   "source": [
    "# Read excel file\n",
    "path = '../../example/exported_images/logo.xlsx'\n",
    "usecols = 'A:BL'\n",
    "#df_logo = pd.read_excel(path, 'logo', usecols=usecols, nrows=21)\n",
    "#df_faded = pd.read_excel(path, 'logo_faded', usecols=usecols, nrows=21)\n",
    "df_logo = pd.read_excel(path, 'logo_2', usecols=usecols, nrows=21)\n",
    "df_faded = pd.read_excel(path, 'logo_faded_2', usecols=usecols, nrows=21)\n",
    "\n",
    "# Combine two dataframes\n",
    "df_mixed = df_logo*1.2 - df_faded\n",
    "\n",
    "# Aminoacids\n",
    "aminoacids = list('ACDEFGHIKLMNPQRSTVWY*')\n",
    "\n",
    "# Define protein sequence\n",
    "sequence_logo = \"FUNNY THAT YOU ARE READING THIS SEQUENCE. NO SECRET CODE FOR NOW\"\n",
    "\n",
    "# Define secondary structure\n",
    "secondary = [['L0']*5, ['β1']*(9-1), ['L1']*(15-9), ['α1']*(25-20), ['L2']*(32-25),\n",
    "             ['β2']*(42-32), ['L3']*(50-42), ['α2']*(58-50), ['L4']*(70-58)]\n",
    "\n",
    "# Create object\n",
    "logo_obj = mut.Screen(df_mixed, sequence_logo,\n",
    "                      start_position=1, fillna=0, secondary=secondary)\n",
    "\n",
    "# Create hetmap\n",
    "logo_obj.heatmap(show_cartoon=True, title='',\n",
    "                 neworder_aminoacids='ACDEFGHIKLMNPQRSTVWY*', output_file=None)"
   ]
  },
  {
   "cell_type": "raw",
   "metadata": {},
   "source": [
    ".. image:: ../example/exported_images/heatmap_intro.png\n",
    "   :width: 350px\n",
    "   :align: center"
   ]
  },
  {
   "cell_type": "markdown",
   "metadata": {},
   "source": [
    "## Reference"
   ]
  },
  {
   "cell_type": "raw",
   "metadata": {},
   "source": [
    ".. [#Pradeep2017] Bandaru, P., Shah, N. H., Bhattacharyya, M., Barton, J. P., Kondo, Y., Cofsky, J. C., … Kuriyan, J. (2017). Deconstruction of the Ras switching cycle through saturation mutagenesis. ELife, 6. `DOI: 10.7554/eLife.27810  <https://elifesciences.org/articles/27810>`_\n",
    "\n",
    ".. [#Tareen2019] Tareen, A., & Kinney, J. B. (2020). Logomaker: beautiful sequence logos in Python. Bioinformatics, 36(7), 2272–2274. `doi:10.1093/bioinformatics/btz921 <https://academic.oup.com/bioinformatics/article/36/7/2272/5671693>`_"
   ]
  }
 ],
 "metadata": {
  "kernelspec": {
   "display_name": "Python 3",
   "language": "python",
   "name": "python3"
  },
  "language_info": {
   "codemirror_mode": {
    "name": "ipython",
    "version": 3
   },
   "file_extension": ".py",
   "mimetype": "text/x-python",
   "name": "python",
   "nbconvert_exporter": "python",
   "pygments_lexer": "ipython3",
   "version": "3.8.3"
  },
  "toc": {
   "base_numbering": 1,
   "nav_menu": {},
   "number_sections": true,
   "sideBar": true,
   "skip_h1_title": false,
   "title_cell": "Table of Contents",
   "title_sidebar": "Contents",
   "toc_cell": false,
   "toc_position": {
    "height": "calc(100% - 180px)",
    "left": "10px",
    "top": "150px",
    "width": "165px"
   },
   "toc_section_display": true,
   "toc_window_display": true
  },
  "toc-autonumbering": true,
  "toc-showmarkdowntxt": false,
  "toc-showtags": false
 },
 "nbformat": 4,
 "nbformat_minor": 4
}
