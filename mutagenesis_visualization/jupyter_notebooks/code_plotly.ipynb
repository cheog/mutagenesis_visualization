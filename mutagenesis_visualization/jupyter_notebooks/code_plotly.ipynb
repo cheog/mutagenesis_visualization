{
 "cells": [
  {
   "cell_type": "markdown",
   "metadata": {},
   "source": [
    "# Import Modules"
   ]
  },
  {
   "cell_type": "code",
   "execution_count": 1,
   "metadata": {
    "ExecuteTime": {
     "end_time": "2020-10-12T22:36:10.914292Z",
     "start_time": "2020-10-12T22:36:06.031777Z"
    },
    "execution": {
     "iopub.execute_input": "2020-10-20T20:28:40.047112Z",
     "iopub.status.busy": "2020-10-20T20:28:40.046663Z",
     "iopub.status.idle": "2020-10-20T20:28:40.542094Z",
     "shell.execute_reply": "2020-10-20T20:28:40.541276Z",
     "shell.execute_reply.started": "2020-10-20T20:28:40.047064Z"
    }
   },
   "outputs": [
    {
     "ename": "ModuleNotFoundError",
     "evalue": "No module named 'plotly'",
     "output_type": "error",
     "traceback": [
      "\u001b[1;31m---------------------------------------------------------------------------\u001b[0m",
      "\u001b[1;31mModuleNotFoundError\u001b[0m                       Traceback (most recent call last)",
      "\u001b[1;32m<ipython-input-1-99b911ab86c5>\u001b[0m in \u001b[0;36m<module>\u001b[1;34m\u001b[0m\n\u001b[0;32m      5\u001b[0m \u001b[1;32mfrom\u001b[0m \u001b[0mpathlib\u001b[0m \u001b[1;32mimport\u001b[0m \u001b[0mPath\u001b[0m\u001b[1;33m\u001b[0m\u001b[1;33m\u001b[0m\u001b[0m\n\u001b[0;32m      6\u001b[0m \u001b[1;32mfrom\u001b[0m \u001b[0mtyping\u001b[0m \u001b[1;32mimport\u001b[0m \u001b[0mUnion\u001b[0m\u001b[1;33m\u001b[0m\u001b[1;33m\u001b[0m\u001b[0m\n\u001b[1;32m----> 7\u001b[1;33m \u001b[1;32mimport\u001b[0m \u001b[0mplotly\u001b[0m\u001b[1;33m.\u001b[0m\u001b[0mexpress\u001b[0m \u001b[1;32mas\u001b[0m \u001b[0mpx\u001b[0m\u001b[1;33m\u001b[0m\u001b[1;33m\u001b[0m\u001b[0m\n\u001b[0m\u001b[0;32m      8\u001b[0m \u001b[1;32mimport\u001b[0m \u001b[0mplotly\u001b[0m\u001b[1;33m.\u001b[0m\u001b[0mio\u001b[0m \u001b[1;32mas\u001b[0m \u001b[0mpio\u001b[0m\u001b[1;33m\u001b[0m\u001b[1;33m\u001b[0m\u001b[0m\n\u001b[0;32m      9\u001b[0m \u001b[1;33m\u001b[0m\u001b[0m\n",
      "\u001b[1;31mModuleNotFoundError\u001b[0m: No module named 'plotly'"
     ]
    }
   ],
   "source": [
    "import numpy as np\n",
    "import pandas as pd\n",
    "from os import path\n",
    "import os\n",
    "from pathlib import Path\n",
    "from typing import Union\n",
    "import plotly.express as px\n",
    "import plotly.io as pio\n"
   ]
  },
  {
   "cell_type": "markdown",
   "metadata": {},
   "source": [
    "# Plot Functions"
   ]
  },
  {
   "cell_type": "markdown",
   "metadata": {},
   "source": [
    "## Plotly plots"
   ]
  },
  {
   "cell_type": "markdown",
   "metadata": {},
   "source": [
    "### Rank"
   ]
  },
  {
   "cell_type": "code",
   "execution_count": null,
   "metadata": {
    "ExecuteTime": {
     "end_time": "2020-10-12T23:15:41.370822Z",
     "start_time": "2020-10-12T23:15:41.359971Z"
    },
    "execution": {
     "iopub.execute_input": "2020-10-20T20:28:42.371006Z",
     "iopub.status.busy": "2020-10-20T20:28:42.370475Z",
     "iopub.status.idle": "2020-10-20T20:28:42.395321Z",
     "shell.execute_reply": "2020-10-20T20:28:42.389872Z",
     "shell.execute_reply.started": "2020-10-20T20:28:42.370967Z"
    }
   },
   "outputs": [],
   "source": [
    "def plot_rank_plotly(self, mode='pointmutant', outdf=False,\n",
    "                     output_file: Union[None, str, Path] = None, **kwargs):\n",
    "    '''\n",
    "    Generate a plotlu rank plot so every mutation/residue is sorted based on enrichment score.\n",
    "\n",
    "    Parameters\n",
    "    ----------\n",
    "    self : object from class *Screen*\n",
    "\n",
    "    mode : str, default 'pointmutant'. \n",
    "        Alternative set to \"mean\" for the mean of each position\n",
    "\n",
    "    outdf : boolean, default False\n",
    "        If set to true, will return the df with the rank of mutations\n",
    "\n",
    "    output_file : str, default None\n",
    "        If you want to export the generated graph, add the path and name of the file.\n",
    "        Example: 'path/filename.png' or 'path/filename.svg'. \n",
    "\n",
    "    **kwargs : other keyword arguments\n",
    "\n",
    "    Returns\n",
    "    ----------\n",
    "    Pandas dataframe\n",
    "    '''\n",
    "    # update kwargs\n",
    "    temp_kwargs = copy.deepcopy(code_kwargs.kwargs())\n",
    "    temp_kwargs.update(kwargs)\n",
    "    temp_kwargs['figsize'] = kwargs.get('figsize', (4, 3))\n",
    "    temp_kwargs['x_label'] = kwargs.get('x_label', 'Rank')\n",
    "    temp_kwargs['y_label'] = kwargs.get('y_label', r'$∆E^i_x$')\n",
    "\n",
    "    # Sort by enrichment scores\n",
    "    df = self.dataframe.sort_values(by=['Score']).copy()\n",
    "\n",
    "    # Chose mode:\n",
    "    if mode == 'mean':\n",
    "        df = df.groupby(by=['Position'], as_index=False).mean()\n",
    "        df.sort_values(by=['Score'], inplace=True)\n",
    "        df['Variant'] = df['Position']\n",
    "\n",
    "    # Create figure\n",
    "    fig = px.scatter(x=np.arange(len(df), 0, -1), y=df['Score'],\n",
    "                     text=df['Variant'])\n",
    "\n",
    "    # Style\n",
    "    pio.templates.default = \"plotly_white\"\n",
    "\n",
    "    # Axes https://plotly.com/python/axes/\n",
    "    fig.update_traces(mode=\"markers\",\n",
    "                      hovertemplate='Position: %{x}<br>Score: %{y}<br>Variant: %{text}<extra></extra>')\n",
    "    fig.update_xaxes(title_text=temp_kwargs['x_label'], showline=True,\n",
    "                     linewidth=2, linecolor='black', ticks=\"outside\", mirror=True)\n",
    "    fig.update_yaxes(title_text=temp_kwargs['y_label'], showline=True,\n",
    "                     linewidth=2, linecolor='black', ticks=\"outside\", mirror=True)\n",
    "    \n",
    "    # Layout and title parameters https://plotly.com/python/figure-labels/\n",
    "    fig.update_layout(width=temp_kwargs['figsize'][0]*120,\n",
    "                      height=temp_kwargs['figsize'][1]*120,\n",
    "                      font=dict(family=\"Arial, monospace\", size=12,\n",
    "                                color=\"black\"),\n",
    "                      title={'text': temp_kwargs['title'],\n",
    "                             'xanchor': 'center', 'yanchor': 'top', 'x':0.5})\n",
    "    \n",
    "    if temp_kwargs['show']:\n",
    "        fig.show()\n",
    "                          \n",
    "    if outdf:\n",
    "        return df\n",
    "                    "
   ]
  },
  {
   "cell_type": "code",
   "execution_count": null,
   "metadata": {},
   "outputs": [],
   "source": [
    "import plotly.graph_objects as go\n",
    "\n",
    "def plot_scatter_plotly(self, obj2, mode='pointmutant', \n",
    "                 output_file: Union[None, str, Path] = None,**kwargs):\n",
    "    '''\n",
    "    Generate a scatter plot between object and a second object of the same class.\n",
    "\n",
    "    Parameters\n",
    "    ----------\n",
    "    self : object from class *Screen*\n",
    "    \n",
    "    obj2 : object from class *Screen* to do the scatter with\n",
    "    \n",
    "    mode : str, default 'pointmutant'. \n",
    "        Alternative set to \"mean\" for the mean of each position\n",
    "    \n",
    "    output_file : str, default None\n",
    "        If you want to export the generated graph, add the path and name of the file.\n",
    "        Example: 'path/filename.png' or 'path/filename.svg'. \n",
    "                    \n",
    "    **kwargs : other keyword arguments\n",
    "\n",
    "    Returns\n",
    "    ----------\n",
    "    None.\n",
    "    '''\n",
    "\n",
    "    # update kwargs\n",
    "    temp_kwargs = copy.deepcopy(default_kwargs)\n",
    "    temp_kwargs.update(kwargs)\n",
    "    temp_kwargs['figsize'] = kwargs.get('figsize', (2, 2))\n",
    "\n",
    "    # Chose mode:\n",
    "    if mode == 'pointmutant':\n",
    "        df = _process_bypointmutant(self, obj2)\n",
    "        #df['Variant'] = df['Position']\n",
    "    else:\n",
    "        df = _process_meanresidue(self, obj2)\n",
    "        df['Variant'] = df['Position']\n",
    "        \n",
    "    # Style\n",
    "    pio.templates.default = \"plotly_white\"\n",
    "\n",
    "    # create figure\n",
    "    fig = px.scatter(x=df['dataset_1'], y=df['dataset_2'],\n",
    "                     text=df['Variant'], trendline=\"ols\", trendline_color_override=\"red\")\n",
    "\n",
    "\n",
    "\n",
    "    # import parameters\n",
    "    _parameters()\n",
    "\n",
    "    # Titles\n",
    "    fig.update_traces(selector=dict(mode=\"markers\"), mode=\"markers\", \n",
    "                      hovertemplate='Position: %{x}<br>Score: %{y}<br>Variant: %{text}<extra></extra>')  # hide text labels\n",
    "    fig.update_xaxes(title_text=temp_kwargs['x_label'], showline=True,\n",
    "                     linewidth=2, linecolor='black', ticks=\"outside\", mirror=True)\n",
    "    fig.update_yaxes(title_text=temp_kwargs['y_label'], showline=True,\n",
    "                     linewidth=2, linecolor='black', ticks=\"outside\", mirror=True)\n",
    "    \n",
    "    # Layout and title parameters https://plotly.com/python/figure-labels/\n",
    "    fig.update_layout(width=temp_kwargs['figsize'][0]*120,\n",
    "                      height=temp_kwargs['figsize'][1]*120,\n",
    "                      font=dict(family=\"Arial, monospace\", size=12,\n",
    "                                color=\"black\"),\n",
    "                      title={'text': temp_kwargs['title'],\n",
    "                             'xanchor': 'center', 'yanchor': 'top', 'x':0.5}, \n",
    "                      showlegend = True) \n",
    "    \n",
    "    if temp_kwargs['show']:\n",
    "        fig.show()"
   ]
  }
 ],
 "metadata": {
  "kernelspec": {
   "display_name": "Python 3",
   "language": "python",
   "name": "python3"
  },
  "language_info": {
   "codemirror_mode": {
    "name": "ipython",
    "version": 3
   },
   "file_extension": ".py",
   "mimetype": "text/x-python",
   "name": "python",
   "nbconvert_exporter": "python",
   "pygments_lexer": "ipython3",
   "version": "3.7.4"
  },
  "toc": {
   "base_numbering": 1,
   "nav_menu": {},
   "number_sections": true,
   "sideBar": true,
   "skip_h1_title": false,
   "title_cell": "Table of Contents",
   "title_sidebar": "Contents",
   "toc_cell": false,
   "toc_position": {
    "height": "100px",
    "left": "21px",
    "top": "69.2px",
    "width": "165px"
   },
   "toc_section_display": true,
   "toc_window_display": true
  },
  "toc-autonumbering": true,
  "toc-showcode": false,
  "varInspector": {
   "cols": {
    "lenName": 16,
    "lenType": 16,
    "lenVar": 40
   },
   "kernels_config": {
    "python": {
     "delete_cmd_postfix": "",
     "delete_cmd_prefix": "del ",
     "library": "var_list.py",
     "varRefreshCmd": "print(var_dic_list())"
    },
    "r": {
     "delete_cmd_postfix": ") ",
     "delete_cmd_prefix": "rm(",
     "library": "var_list.r",
     "varRefreshCmd": "cat(var_dic_list()) "
    }
   },
   "oldHeight": 122.4,
   "position": {
    "height": "423.4px",
    "left": "944.6px",
    "right": "20px",
    "top": "119px",
    "width": "315.4px"
   },
   "types_to_exclude": [
    "module",
    "function",
    "builtin_function_or_method",
    "instance",
    "_Feature"
   ],
   "varInspector_section_display": "block",
   "window_display": false
  }
 },
 "nbformat": 4,
 "nbformat_minor": 4
}
