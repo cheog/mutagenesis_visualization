{
 "cells": [
  {
   "cell_type": "markdown",
   "metadata": {},
   "source": [
    "# Processing DNA reads"
   ]
  },
  {
   "cell_type": "markdown",
   "metadata": {},
   "source": [
    "This section will teach you how to use the built-in data processing functions. If you already have your own processing pipeline built, you can skip this section and go to the plotting examples."
   ]
  },
  {
   "cell_type": "markdown",
   "metadata": {},
   "source": [
    "## Import module"
   ]
  },
  {
   "cell_type": "code",
   "execution_count": null,
   "metadata": {
    "ExecuteTime": {
     "end_time": "2020-10-01T17:53:42.924414Z",
     "start_time": "2020-10-01T17:53:42.646097Z"
    }
   },
   "outputs": [],
   "source": [
    "# Run only if you are using the code from jupyter notebooks instead of pypi\n",
    "import import_notebook"
   ]
  },
  {
   "cell_type": "code",
   "execution_count": null,
   "metadata": {
    "ExecuteTime": {
     "end_time": "2020-10-01T17:53:44.330651Z",
     "start_time": "2020-10-01T17:53:42.926379Z"
    }
   },
   "outputs": [],
   "source": [
    "import mutagenesis_visualization as mut\n",
    "import numpy as np\n",
    "import pandas as pd"
   ]
  },
  {
   "cell_type": "markdown",
   "metadata": {},
   "source": [
    "## Count DNA reads from fastq file"
   ]
  },
  {
   "cell_type": "raw",
   "metadata": {},
   "source": [
    "Methods and functions reviewed in this section:\n",
    "    - :meth:`mutagenesis_visualization.Screen.meancounts`\n",
    "    - :func:`mutagenesis_visualization.count_reads`"
   ]
  },
  {
   "cell_type": "markdown",
   "metadata": {},
   "source": [
    "After sequencing your DNA library, using other packages you will assemble the forward and reverse reads and trim the flanking bases. That will produce a trimmed fastq file that contains the DNA reads. This is where ``mutagenesis_visualization`` kicks in. The following function ``count_reads`` will read your trimmed fastq file and count the number of times a DNA sequence is present. You will have to pass as inputs a ``dna_sequence`` and a ``codon_list`` with the codons that were used to make the point mutant library. If ``savefile=True`` , it will export the results to txt files. Below there is a prettified example of the output file."
   ]
  },
  {
   "cell_type": "code",
   "execution_count": null,
   "metadata": {
    "ExecuteTime": {
     "end_time": "2020-10-01T17:58:49.554291Z",
     "start_time": "2020-10-01T17:58:49.522994Z"
    }
   },
   "outputs": [],
   "source": [
    "# H-Ras dna sequence\n",
    "hras_dnasequence = 'acggaatataagctggtggtggtgggcgccggcggtgtgggcaagagtgcgctgaccat'\\\n",
    "    + 'ccagctgatccagaaccattttgtggacgaatacgaccccactatagaggattcctaccggaagcaggtgg'\\\n",
    "    + 'tcattgatggggagacgtgcctgttggacatcctg'\n",
    "\n",
    "# Codons used to make the NNS library. I could also have used 'NNS' and the package will use the NNS codons\n",
    "codon_list = [\"GCC\", \"GCG\", \"TGC\", \"GAC\", \"GAG\", \"TTC\", \"GGC\", \"GGG\", \"CAC\", \"ATC\", \"AAG\",\n",
    "              \"CTC\", \"CTG\", \"TTG\", \"ATG\", \"AAC\", \"CCC\", \"CCG\", \"CAG\", \"CGC\", \"CGG\", \"AGG\",\n",
    "              \"TCC\", \"TCG\", \"AGC\", \"ACC\", \"ACG\", \"GTC\", \"GTG\", \"TGG\", \"TAC\", \"TAG\"]\n",
    "\n",
    "df_counts_pre, wt_counts_pre = mut.count_reads(hras_dnasequence, codon_list,\n",
    "                                              input_file = 'Trimmed/hras.fastq',\n",
    "                                              output_file = 'codonCounts/hras_counts')"
   ]
  },
  {
   "cell_type": "raw",
   "metadata": {
    "ExecuteTime": {
     "end_time": "2020-09-03T20:09:38.460580Z",
     "start_time": "2020-09-03T20:09:38.455250Z"
    }
   },
   "source": [
    ".. image:: ../example/exported_images/hras_tablecounts.png\n",
    "   :width: 450px\n",
    "   :align: center"
   ]
  },
  {
   "cell_type": "code",
   "execution_count": null,
   "metadata": {
    "ExecuteTime": {
     "end_time": "2020-10-01T17:53:45.991044Z",
     "start_time": "2020-10-01T17:53:45.751331Z"
    }
   },
   "outputs": [],
   "source": [
    "# Read counts from file (could be txt, csv, xlsx, etc...)\n",
    "df_counts_pre = pd.read_excel('../data/hrasGAPGEF_counts.xlsx',\n",
    "                              'R1_before', skiprows=1, index_col='Codons',\n",
    "                              usecols='E:FN', nrows=32)\n",
    "\n",
    "df_counts_sel = pd.read_excel('../data/hrasGAPGEF_counts.xlsx',\n",
    "                              'R1_after', skiprows=1, index_col='Codons',\n",
    "                              usecols='E:FN', nrows=32)"
   ]
  },
  {
   "cell_type": "markdown",
   "metadata": {},
   "source": [
    "Once the reads have been counted, the object ``meancounts`` can be used to evaluate the coverage by position. You can also manually inspect the exported files."
   ]
  },
  {
   "cell_type": "code",
   "execution_count": null,
   "metadata": {
    "ExecuteTime": {
     "end_time": "2020-10-01T17:54:23.074934Z",
     "start_time": "2020-10-01T17:54:22.429009Z"
    }
   },
   "outputs": [],
   "source": [
    "# Determine the positions (x axis)\n",
    "positions = np.arange(2, 167, 1)\n",
    "\n",
    "# Plot mean counts\n",
    "mut.plot_meancounts('',positions, df_counts_pre.mean(), show_cartoon=False,\n",
    "                    yscale=(0, 5.5), figsize=(6, 2.5), start_position = 2,\n",
    "                    title='Positional coverage pre-selected', output_file = None)\n",
    "\n",
    "mut.plot_meancounts('',positions, df_counts_sel.mean(), show_cartoon=False,\n",
    "                    yscale=(0, 5.5), figsize=(6, 2.5), start_position = 2, \n",
    "                    title='Positional coverage selected', output_file = None)\n",
    "\n",
    "# If you wanted to show the cartoon protein, you will need to use the method meancounts and create\n",
    "# a dummy object with the secondary structure"
   ]
  },
  {
   "cell_type": "raw",
   "metadata": {},
   "source": [
    ".. image:: ../example/exported_images/hras_countspre.png\n",
    "   :width: 400px\n",
    "   :align: center\n",
    "        \n",
    ".. image:: ../example/exported_images/hras_countssel.png\n",
    "   :width: 400px\n",
    "   :align: center"
   ]
  },
  {
   "cell_type": "markdown",
   "metadata": {},
   "source": [
    "## Calculate enrichment scores"
   ]
  },
  {
   "cell_type": "raw",
   "metadata": {},
   "source": [
    "Methods and functions reviewed in this section:\n",
    "    - :class:`mutagenesis_visualization.Screen`\n",
    "    - :meth:`mutagenesis_visualization.Screen.heatmap`\n",
    "    - :func:`mutagenesis_visualization.calculate_enrichment`"
   ]
  },
  {
   "cell_type": "markdown",
   "metadata": {},
   "source": [
    "If you are performing a selection experiment, where you sequence your library before and after selection, you will need to calculate the enrichment score of each mutant. The function to do so is ``calculate_enrichment``. This function allows for different parameters to tune how the data is processed and normalized."
   ]
  },
  {
   "cell_type": "raw",
   "metadata": {},
   "source": [
    "In this example, we show two different ways of using ``calculate_enrichment``. Note that the parameters of choice will have a say on the final result. In the example, the tonality of red of the two heatmaps is slightly different. A more detailed explanation of the parameters can be found in :ref:`Normalizing datasets`."
   ]
  },
  {
   "cell_type": "code",
   "execution_count": null,
   "metadata": {
    "ExecuteTime": {
     "end_time": "2020-10-01T18:01:51.229736Z",
     "start_time": "2020-10-01T18:01:51.222245Z"
    }
   },
   "outputs": [],
   "source": [
    "# Ras parameters to create an object\n",
    "\n",
    "# Define protein sequence\n",
    "hras_sequence = 'MTEYKLVVVGAGGVGKSALTIQLIQNHFVDEYDPTIEDSYRKQVVIDGETCLLDILDTAGQEEY'\\\n",
    "                + 'SAMRDQYMRTGEGFLCVFAINNTKSFEDIHQYREQIKRVKDSDDVPMVLVGNKCDLAARTVES'\\\n",
    "                + 'RQAQDLARSYGIPYIETSAKTRQGVEDAFYTLVREIRQHKLRKLNPPDESGPG'\n",
    "\n",
    "# Order of amino acid substitutions in the hras_enrichment dataset\n",
    "aminoacids = list('ACDEFGHIKLMNPQRSTVWY*')\n",
    "\n",
    "# First residue of the hras_enrichment dataset. Because 1-Met was not mutated, the dataset starts at residue 2\n",
    "start_position = 2\n",
    "\n",
    "# Define secondary structure\n",
    "secondary = [['L0'], ['β1']*(9-1), ['L1']*(15-9), ['α1']*(25-15), ['L2']*(36-25),\n",
    "             ['β2']*(46-36), ['L3']*(48-46), ['β3']*(58-48), ['L4'] * (64-58), \n",
    "             ['α2']*(74-64), ['L5']*(76-74), ['β4']*(83-76), ['L6']*(86-83), \n",
    "             ['α3']*(103-86), ['L7']*(110-103), ['β5']*(116-110), ['L8']*(126-116), \n",
    "             ['α4']*(137-126), ['L9']*(140-137), ['β6']*(143-140), ['L10']*(151-143), \n",
    "             ['α5']*(172-151), ['L11']*(190-172)]\n",
    "\n",
    "# Substitute Nan values with 0\n",
    "fillna = 0"
   ]
  },
  {
   "cell_type": "code",
   "execution_count": null,
   "metadata": {
    "ExecuteTime": {
     "end_time": "2020-10-01T18:18:09.541241Z",
     "start_time": "2020-10-01T18:17:51.526918Z"
    }
   },
   "outputs": [],
   "source": [
    "#Order of amino acids (from count_reads)\n",
    "aminoacids_NNS = list('AACDEFGGHIKLLLMNPPQRRRSSSTTVVWY*')\n",
    "\n",
    "# Different parameters can be used to calculate the enrichment scores. They are described in the implementation section\n",
    "\n",
    "# Zeroing using the median of the population, and not using stop codons to correct.\n",
    "frequencies = mut.calculate_enrichment(df_counts_pre.iloc[:,:54], df_counts_sel.iloc[:,:54], \n",
    "                                       aminoacids=aminoacids_NNS,\n",
    "                                       zeroing='population', how='median', norm_std=True,\n",
    "                                       stopcodon=True, min_counts=25, min_countswt=100,\n",
    "                                       mpop=2, mwt=2, infinite=3, std_scale=0.3)\n",
    "\n",
    "hras_example1 = mut.Screen(np.array(frequencies), hras_sequence,\n",
    "                           aminoacids, start_position, fillna, secondary)\n",
    "\n",
    "hras_example1.heatmap(title='Normal distribution zeroing', output_file = None)\n",
    "\n",
    "# Zeroing using the median of the population, and not using stop codons to correct.\n",
    "frequencies = mut.calculate_enrichment(df_counts_pre.iloc[:,:54], df_counts_sel.iloc[:,:54],\n",
    "                                       aminoacids=aminoacids_NNS,\n",
    "                                       zeroing='kernel', how='median', norm_std=True,\n",
    "                                       stopcodon=True, min_counts=25, min_countswt=100,\n",
    "                                       mpop=2, mwt=2, infinite=3, std_scale=0.15)\n",
    "\n",
    "hras_example2 = mut.Screen(np.array(frequencies), hras_sequence,\n",
    "                           aminoacids, start_position, fillna, secondary)\n",
    "\n",
    "hras_example2.heatmap(title='KDE zeroing', output_file = None)\n",
    "\n",
    "# Note that the two heatmaps look quite similar but the red tonality is slighly different. That is caused by\n",
    "# small differences in zeroing the data."
   ]
  },
  {
   "cell_type": "raw",
   "metadata": {},
   "source": [
    ".. image:: ../example/exported_images/hras_tableenrichment.png\n",
    "   :width: 450px\n",
    "   :align: center\n",
    "\n",
    ".. image:: ../example/exported_images/hras_zeronormal.png\n",
    "   :width: 300px\n",
    "   :align: center\n",
    "\n",
    ".. image:: ../example/exported_images/hras_zerokernel.png\n",
    "   :width: 300px\n",
    "   :align: center"
   ]
  },
  {
   "cell_type": "markdown",
   "metadata": {},
   "source": [
    "## Assemble multiple sublibraries"
   ]
  },
  {
   "cell_type": "raw",
   "metadata": {},
   "source": [
    "Function reviewed in this section:\n",
    "    - :func:`mutagenesis_visualization.assemble_avengers`"
   ]
  },
  {
   "cell_type": "raw",
   "metadata": {},
   "source": [
    "If you split your library into multiple pools, you can use ``assemble_avengers`` to use ``calculate_enrichment`` in an automated loop and return the assembled dataframe. To use this function, you need to import the data in an excel file in the same format as the provided in Example/hrasGAPGEF_counts.xlsx. Note that the parameters for normalization used in ``calculate_enrichment`` also apply here. See :ref:`Normalizing datasets` for more details."
   ]
  },
  {
   "cell_type": "code",
   "execution_count": null,
   "metadata": {
    "ExecuteTime": {
     "end_time": "2020-10-01T18:03:27.019127Z",
     "start_time": "2020-10-01T18:03:25.783154Z"
    }
   },
   "outputs": [],
   "source": [
    "# Sheet that stores input/preselected counts within the Excel file\n",
    "sheet_pre = 'R1_before'\n",
    "# Sheet that stores output/selected counts within the Excel file\n",
    "sheet_post = 'R1_after'\n",
    "# Columns of each sublibrary. In this example, there are three pools.\n",
    "columns = ['F:BG', 'BH:DK', 'DL:FN']\n",
    "# Columns of the wt pools (optional)\n",
    "columns_wt = ['A', 'B', 'C']\n",
    "# Path were the excel file is stored.\n",
    "excel_path = '../data/hrasGAPGEF_counts.xlsx'\n",
    "# Parameter for pd.read_excel function\n",
    "nrows_pop=32 # For nrows of the sublibrary\n",
    "nrows_wt = [50,37,57] # For nrows of each of the three wild-type columns\n",
    "skiprows = 1 # Skip one row when reading the columns specified in the list `columns`\n",
    "\n",
    "# Normalization parameters also need to be specified. In here we\n",
    "# are using the default ones.\n",
    "\n",
    "# Call the function and return a df\n",
    "df = mut.assemble_avengers(excel_path, sheet_pre, sheet_post, columns,\n",
    "                           nrows_pop, nrows_wt, columns_wt, output_file = None)\n",
    "\n",
    "# The output looks like calculate_enrichment"
   ]
  },
  {
   "cell_type": "markdown",
   "metadata": {},
   "source": [
    "## Combine MSA with enrichment scores"
   ]
  },
  {
   "cell_type": "raw",
   "metadata": {},
   "source": [
    "Function and class reviewed in this section:\n",
    "    - :class:`mutagenesis_visualization.Screen`\n",
    "    - :func:`mutagenesis_visualization.msa_enrichment`"
   ]
  },
  {
   "cell_type": "raw",
   "metadata": {},
   "source": [
    "Function ``msa_enrichment`` will calculate the frequency of each substitution in an input MSA. The frequency of each substitution will be merged into the enrichment score dataframe. The function also calculates the Shannon entropy for each position in the protein. This function has been used to generate the data that is plotted in box plot and the ROC AUC charts :ref:`Correlation, PCA and ROC AUC`. We will first need to create the object."
   ]
  },
  {
   "cell_type": "code",
   "execution_count": null,
   "metadata": {
    "ExecuteTime": {
     "end_time": "2020-10-01T18:03:52.325809Z",
     "start_time": "2020-10-01T18:03:52.139240Z"
    }
   },
   "outputs": [],
   "source": [
    "# Load enrichment scores\n",
    "hras_enrichment_RBD = np.genfromtxt('../data/HRas166_RBD.csv', delimiter=',')\n",
    "\n",
    "# Define protein sequence\n",
    "hras_sequence = 'MTEYKLVVVGAGGVGKSALTIQLIQNHFVDEYDPTIEDSYRKQVVIDGETCLLDILDTAGQEEYSAMRDQYMRTGEGFLCVFAINNTKSFEDIHQYREQIKRVKDSDDVPMVLVGNKCDLAARTVESRQAQDLARSYGIPYIETSAKTRQGVEDAFYTLVREIRQHKLRKLNPPDESGPG'\n",
    "\n",
    "# Create object (more detail about this in plotting examples)\n",
    "hras_RBD = mut.Screen(hras_enrichment_RBD, hras_sequence)"
   ]
  },
  {
   "cell_type": "markdown",
   "metadata": {},
   "source": [
    "Now we can get the frequency of each substituion in the MSA and the Shannon entropy. You can use the example fasta file by loading ``fasta_dict = demo_fasta()`` and then ``path = fasta_dict['ras']``."
   ]
  },
  {
   "cell_type": "code",
   "execution_count": null,
   "metadata": {
    "ExecuteTime": {
     "end_time": "2020-10-01T18:04:12.673422Z",
     "start_time": "2020-10-01T18:04:12.557239Z"
    }
   },
   "outputs": [],
   "source": [
    "# Calculate conservation score from MSA\n",
    "path = '../data/Ras_family_trimmed.fasta' # local file\n",
    "\n",
    "# Load example file (only if you are trying to reproduce the plots)\n",
    "fasta_dict = demo_fasta()\n",
    "path = fasta_dict['ras']\n",
    "\n",
    "# Calculate msa scores\n",
    "df_shannon, df_freq = mut.msa_enrichment(hras_RBD, path, \n",
    "                                         start_position=1, threshold=0.1)\n",
    "\n",
    "# In the example, for position 2, in 3.63% of the cases there was an Ala.\n",
    "df_freq.head(5)"
   ]
  },
  {
   "cell_type": "raw",
   "metadata": {},
   "source": [
    ".. image:: ../example/exported_images/hras_table_msa.png\n",
    "   :width: 300px\n",
    "   :align: center"
   ]
  },
  {
   "cell_type": "markdown",
   "metadata": {},
   "source": [
    "Note: The Shannon entropy is calculated using a script created by Joe R. J. Healey from Warwick University. Could not find the script on Github or Pypi so I included it in the package (shannon.py)."
   ]
  }
 ],
 "metadata": {
  "kernelspec": {
   "display_name": "Python 3",
   "language": "python",
   "name": "python3"
  },
  "language_info": {
   "codemirror_mode": {
    "name": "ipython",
    "version": 3
   },
   "file_extension": ".py",
   "mimetype": "text/x-python",
   "name": "python",
   "nbconvert_exporter": "python",
   "pygments_lexer": "ipython3",
   "version": "3.8.3"
  },
  "toc": {
   "base_numbering": 1,
   "nav_menu": {},
   "number_sections": true,
   "sideBar": true,
   "skip_h1_title": false,
   "title_cell": "Table of Contents",
   "title_sidebar": "Contents",
   "toc_cell": false,
   "toc_position": {
    "height": "calc(100% - 180px)",
    "left": "10px",
    "top": "150px",
    "width": "215px"
   },
   "toc_section_display": true,
   "toc_window_display": false
  }
 },
 "nbformat": 4,
 "nbformat_minor": 4
}
