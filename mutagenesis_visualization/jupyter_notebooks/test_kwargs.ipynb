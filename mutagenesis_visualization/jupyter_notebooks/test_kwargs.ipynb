{
 "cells": [
  {
   "cell_type": "markdown",
   "metadata": {},
   "source": [
    "# Import modules "
   ]
  },
  {
   "cell_type": "code",
   "execution_count": 46,
   "metadata": {},
   "outputs": [],
   "source": [
    "try:\n",
    "    import import_notebook\n",
    "except ModuleNotFoundError:\n",
    "    pass\n",
    "\n",
    "import matplotlib\n",
    "from matplotlib.colors import LinearSegmentedColormap\n",
    "from matplotlib import rcParams\n",
    "import code_kwargs"
   ]
  },
  {
   "cell_type": "markdown",
   "metadata": {},
   "source": [
    "# Kwargs"
   ]
  },
  {
   "cell_type": "code",
   "execution_count": 7,
   "metadata": {},
   "outputs": [],
   "source": [
    "#test that kwargs outputs a default dictionary\n",
    "def test_kwargs(): \n",
    "    dictionary = type(code_kwargs.kwargs())\n",
    "    assert dictionary == dict, 'error the kwarg type is not a dictionary'"
   ]
  },
  {
   "cell_type": "code",
   "execution_count": 8,
   "metadata": {},
   "outputs": [],
   "source": [
    "test_kwargs()"
   ]
  },
  {
   "cell_type": "code",
   "execution_count": 51,
   "metadata": {},
   "outputs": [],
   "source": [
    "#test that _generatecolormap creates a matplotlib color map\n",
    "def test_generatecolormap(): \n",
    "    colormap = type(code_kwargs._generatecolormap())\n",
    "    assert colormap == matplotlib.colors.LinearSegmentedColormap, 'error the colormap type is not a matplotlib color map'"
   ]
  },
  {
   "cell_type": "code",
   "execution_count": 50,
   "metadata": {},
   "outputs": [],
   "source": [
    "test_generatecolormap()"
   ]
  },
  {
   "cell_type": "code",
   "execution_count": 54,
   "metadata": {},
   "outputs": [
    {
     "name": "stdout",
     "output_type": "stream",
     "text": [
      "============================= test session starts =============================\n",
      "platform win32 -- Python 3.7.4, pytest-5.2.1, py-1.8.0, pluggy-0.13.0\n",
      "rootdir: C:\\Users\\15055\\Documents\\GitHub\\mutagenesis_visualization\n",
      "plugins: arraydiff-0.3, doctestplus-0.4.0, openfiles-0.4.0, remotedata-0.3.2\n",
      "collected 2 items\n",
      "\n",
      "..\\py_scripts\\test_kwargs.py ..                                          [100%]\n",
      "\n",
      "============================== 2 passed in 0.13s ==============================\n"
     ]
    }
   ],
   "source": [
    "#!pytest ../py_scripts/test_kwargs.py"
   ]
  }
 ],
 "metadata": {
  "kernelspec": {
   "display_name": "Python 3",
   "language": "python",
   "name": "python3"
  },
  "language_info": {
   "codemirror_mode": {
    "name": "ipython",
    "version": 3
   },
   "file_extension": ".py",
   "mimetype": "text/x-python",
   "name": "python",
   "nbconvert_exporter": "python",
   "pygments_lexer": "ipython3",
   "version": "3.7.4"
  }
 },
 "nbformat": 4,
 "nbformat_minor": 2
}
