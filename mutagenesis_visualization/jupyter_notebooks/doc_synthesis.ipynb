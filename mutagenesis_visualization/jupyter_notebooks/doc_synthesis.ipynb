{
 "cells": [
  {
   "cell_type": "markdown",
   "metadata": {},
   "source": [
    "In this section we will generate the primers that are used to do saturation mutagenesis on proteins (ie. NNS primers). \n",
    "\n",
    "We will also generate each possible point mutant sequence and export it to a Fasta file, which can be useful if you use Twist Bioscience to generate your site saturation library. "
   ]
  },
  {
   "cell_type": "code",
   "execution_count": 2,
   "metadata": {
    "execution": {
     "iopub.execute_input": "2020-10-26T19:07:06.705331Z",
     "iopub.status.busy": "2020-10-26T19:07:06.705019Z",
     "iopub.status.idle": "2020-10-26T19:07:06.940367Z",
     "shell.execute_reply": "2020-10-26T19:07:06.939512Z",
     "shell.execute_reply.started": "2020-10-26T19:07:06.705297Z"
    }
   },
   "outputs": [],
   "source": [
    "# Run only if you are using the code from jupyter notebooks instead of pypi\n",
    "import import_notebook"
   ]
  },
  {
   "cell_type": "code",
   "execution_count": 3,
   "metadata": {
    "execution": {
     "iopub.execute_input": "2020-10-26T19:07:06.945167Z",
     "iopub.status.busy": "2020-10-26T19:07:06.944642Z",
     "iopub.status.idle": "2020-10-26T19:07:07.260158Z",
     "shell.execute_reply": "2020-10-26T19:07:07.259033Z",
     "shell.execute_reply.started": "2020-10-26T19:07:06.945134Z"
    }
   },
   "outputs": [
    {
     "name": "stdout",
     "output_type": "stream",
     "text": [
      "importing Jupyter notebook from code_synthesis.ipynb\n"
     ]
    }
   ],
   "source": [
    "import code_synthesis"
   ]
  },
  {
   "cell_type": "markdown",
   "metadata": {},
   "source": [
    "# Create primers"
   ]
  },
  {
   "cell_type": "markdown",
   "metadata": {},
   "source": [
    "Now we will define the dna sequence, the beginning and end of the mutable part."
   ]
  },
  {
   "cell_type": "code",
   "execution_count": 7,
   "metadata": {
    "execution": {
     "iopub.execute_input": "2020-10-25T04:50:39.962419Z",
     "iopub.status.busy": "2020-10-25T04:50:39.962180Z",
     "iopub.status.idle": "2020-10-25T04:50:39.966927Z",
     "shell.execute_reply": "2020-10-25T04:50:39.965636Z",
     "shell.execute_reply.started": "2020-10-25T04:50:39.962394Z"
    }
   },
   "outputs": [],
   "source": [
    "# DNA\n",
    "dna = 'TGTACAGTAATACAAGGGGTGTTATGGAAAAAATTATGCCGGAAGAAGAATACAGCGAATTTAAAGAACTGATTCTGCAGAAGGAACTGCACGTGGTGTATGCACTGAGCCACGTGTGTGGCCAGGATCGTACCCTGCTGGCCAGTATCTTACTGCGCATCTTTCTGCACGAGAAGCTGGAGAGCCTGTTACTGTGCACACTGAACGATCGCGAGATCAGCATGGAAGATGAAGCCACCACCCTGTTCCGCGCAACAACCCTGGCCAGCACCCTGATGGAGCAGTATATGAAAGCCACCGCCACCCAGTTCGTGCATCATGCCCTGAAAGATAGCATTTTAAAAATTATGGAAAGCAAACAGAGCTGCGAACTGAGCCCGAGCAAGCTGGAGAAAAACGAGGACGTGAACACCAACCTGACCCACCTGCTGAACATTCTGAGCGAACTGGTGGAAAAAATCTTTATGGCAAGCGAAATCCTGCCTCCGACCCTGCGTTACATCTACGGCTGCCTGCAGAAGAGCGTGCAGCATAAATGGCCGACCAATACCACCATGCGCACACGTGTGGTGAGCGGTTTTGTGTTCCTGCGTCTGATCTGCCCGGCAATCCTGAACCCGCGCATGTTCAACATCATTAGCGACAGCCCGAGTCCTATCGCAGCACGTACCCTGATCCTGGTGGCAAAAAGCGTGCAAAATCTGGCCAACCTGGTGGAATTTGGCGCCAAAGAGCCGTACATGGAAGGCGTGAATCCGTTTATCAAAAGTAACAAACATCGCATGATCATGTTCCTGGACGAACTGGGCAACGTTCCGGAACTGCCGGATACAACCGAACATAGTCGCACAGACCTGAGTCGTGACCTGGCCGCCCTGCATGAAATCTGCGTGGCCCATAGCGATGAGCTGCGCACACTGAGCAACGAGCGTGGCGCCCAGCAGCACGTGCTGAAGAAACTGCTGGCCATTACCGAACTGCTGCAACAAAAGCAGAACCAGTACACCAAAACCAACGACGTGCGTtatccgtatgatgtgccggattatgcgTAAccatcacttggctagaggcatc'\n",
    "\n",
    "# Start of protein. Note 'ATG' codon\n",
    "start = ('ATGGAAAAAATTATGCCGGAAGAA')\n",
    "\n",
    "# The 'tat' codon will be the first codon that is not mutated\n",
    "end = ('tatccgtatgatgtgccggattatgcg')"
   ]
  },
  {
   "cell_type": "markdown",
   "metadata": {},
   "source": [
    "Set all primers to have the same base pair length."
   ]
  },
  {
   "cell_type": "code",
   "execution_count": 8,
   "metadata": {
    "execution": {
     "iopub.execute_input": "2020-10-25T04:51:12.840283Z",
     "iopub.status.busy": "2020-10-25T04:51:12.839976Z",
     "iopub.status.idle": "2020-10-25T04:51:12.848565Z",
     "shell.execute_reply": "2020-10-25T04:51:12.847314Z",
     "shell.execute_reply.started": "2020-10-25T04:51:12.840251Z"
    }
   },
   "outputs": [],
   "source": [
    "df_primers = code_synthesis.generate_primers(dna, start, end, output_file=None,\n",
    "                                             codon='NNS', length_primer=15, return_df=True)"
   ]
  },
  {
   "cell_type": "markdown",
   "metadata": {},
   "source": [
    "Set all primers to have the same melting temperature."
   ]
  },
  {
   "cell_type": "code",
   "execution_count": null,
   "metadata": {},
   "outputs": [],
   "source": [
    "df_primers_tm = code_synthesis.generate_primers(dna, start, end, output_file=None,\n",
    "                                                codon='NNS', tm=60, return_df=True)"
   ]
  },
  {
   "cell_type": "markdown",
   "metadata": {},
   "source": [
    "If you just want to export the file to excel:"
   ]
  },
  {
   "cell_type": "code",
   "execution_count": null,
   "metadata": {},
   "outputs": [],
   "source": [
    "code_synthesis.generate_primers(dna, start, end, output_file='primers.xlsx',\n",
    "                                codon='NNS', tm=60, return_df=False)"
   ]
  },
  {
   "cell_type": "markdown",
   "metadata": {},
   "source": [
    "# Create sequences"
   ]
  },
  {
   "cell_type": "markdown",
   "metadata": {},
   "source": [
    "Define dna sequence and the list of codons that we want to use to generate the mutants."
   ]
  },
  {
   "cell_type": "code",
   "execution_count": 1,
   "metadata": {
    "execution": {
     "iopub.execute_input": "2020-10-26T19:06:11.419407Z",
     "iopub.status.busy": "2020-10-26T19:06:11.419118Z",
     "iopub.status.idle": "2020-10-26T19:06:11.424496Z",
     "shell.execute_reply": "2020-10-26T19:06:11.423248Z",
     "shell.execute_reply.started": "2020-10-26T19:06:11.419377Z"
    }
   },
   "outputs": [],
   "source": [
    "codon_list = [\"GCC\", \"GCG\", \"TGC\", \"GAC\", \"GAG\", \"TTC\"]\n",
    "dna = 'ATGGCCGTG'"
   ]
  },
  {
   "cell_type": "markdown",
   "metadata": {},
   "source": [
    "Get a dataframe with the sequences:"
   ]
  },
  {
   "cell_type": "code",
   "execution_count": 6,
   "metadata": {
    "execution": {
     "iopub.execute_input": "2020-10-26T19:08:30.505868Z",
     "iopub.status.busy": "2020-10-26T19:08:30.505634Z",
     "iopub.status.idle": "2020-10-26T19:08:30.512187Z",
     "shell.execute_reply": "2020-10-26T19:08:30.510892Z",
     "shell.execute_reply.started": "2020-10-26T19:08:30.505845Z"
    }
   },
   "outputs": [],
   "source": [
    "df = code_synthesis.create_variants(\n",
    "    dna, codon_list, output_file=None, return_df=True)"
   ]
  },
  {
   "cell_type": "markdown",
   "metadata": {},
   "source": [
    "If you just want to export the file to fasta:"
   ]
  },
  {
   "cell_type": "code",
   "execution_count": null,
   "metadata": {},
   "outputs": [],
   "source": [
    "code_synthesis.create_variants(dna, codon_list, \n",
    "                               output_file='file.fasta')"
   ]
  },
  {
   "cell_type": "markdown",
   "metadata": {},
   "source": [
    "If you just want to export the file to excel:"
   ]
  },
  {
   "cell_type": "code",
   "execution_count": null,
   "metadata": {},
   "outputs": [],
   "source": [
    "code_synthesis.create_variants(dna, codon_list, \n",
    "                               output_file='file.xlsx')"
   ]
  }
 ],
 "metadata": {
  "kernelspec": {
   "display_name": "Python 3",
   "language": "python",
   "name": "python3"
  },
  "language_info": {
   "codemirror_mode": {
    "name": "ipython",
    "version": 3
   },
   "file_extension": ".py",
   "mimetype": "text/x-python",
   "name": "python",
   "nbconvert_exporter": "python",
   "pygments_lexer": "ipython3",
   "version": "3.8.3"
  }
 },
 "nbformat": 4,
 "nbformat_minor": 4
}
