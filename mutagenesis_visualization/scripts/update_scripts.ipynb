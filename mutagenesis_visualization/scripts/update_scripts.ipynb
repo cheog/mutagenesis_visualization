{
 "cells": [
  {
   "cell_type": "markdown",
   "metadata": {},
   "source": [
    "# Convert the ipynb to py files"
   ]
  },
  {
   "cell_type": "code",
   "execution_count": 1,
   "metadata": {
    "execution": {
     "iopub.execute_input": "2020-11-18T23:37:08.868950Z",
     "iopub.status.busy": "2020-11-18T23:37:08.868696Z",
     "iopub.status.idle": "2020-11-18T23:37:13.636056Z",
     "shell.execute_reply": "2020-11-18T23:37:13.634730Z",
     "shell.execute_reply.started": "2020-11-18T23:37:08.868906Z"
    }
   },
   "outputs": [
    {
     "name": "stdout",
     "output_type": "stream",
     "text": [
      "[NbConvertApp] Converting notebook ../jupyter_notebooks/code_3D.ipynb to script\n",
      "[NbConvertApp] Writing 19782 bytes to ../py_scripts/code_3D.py\n",
      "[NbConvertApp] Converting notebook ../jupyter_notebooks/code_PCA.ipynb to script\n",
      "[NbConvertApp] Writing 15799 bytes to ../py_scripts/code_PCA.py\n",
      "[NbConvertApp] Converting notebook ../jupyter_notebooks/code_bar.ipynb to script\n",
      "[NbConvertApp] Writing 13247 bytes to ../py_scripts/code_bar.py\n",
      "[NbConvertApp] Converting notebook ../jupyter_notebooks/code_class.ipynb to script\n",
      "[NbConvertApp] Writing 7364 bytes to ../py_scripts/code_class.py\n",
      "[NbConvertApp] Converting notebook ../jupyter_notebooks/code_demo.ipynb to script\n",
      "[NbConvertApp] Writing 7887 bytes to ../py_scripts/code_demo.py\n",
      "[NbConvertApp] Converting notebook ../jupyter_notebooks/code_heatmaps.ipynb to script\n",
      "[NbConvertApp] Writing 21458 bytes to ../py_scripts/code_heatmaps.py\n",
      "[NbConvertApp] Converting notebook ../jupyter_notebooks/code_kernel.ipynb to script\n",
      "[NbConvertApp] Writing 8393 bytes to ../py_scripts/code_kernel.py\n",
      "[NbConvertApp] Converting notebook ../jupyter_notebooks/code_kwargs.ipynb to script\n",
      "[NbConvertApp] Writing 5348 bytes to ../py_scripts/code_kwargs.py\n",
      "[NbConvertApp] Converting notebook ../jupyter_notebooks/code_other.ipynb to script\n",
      "[NbConvertApp] Writing 22657 bytes to ../py_scripts/code_other.py\n",
      "[NbConvertApp] Converting notebook ../jupyter_notebooks/code_plotly.ipynb to script\n",
      "[NbConvertApp] Writing 5692 bytes to ../py_scripts/code_plotly.py\n",
      "[NbConvertApp] Converting notebook ../jupyter_notebooks/code_process_data.ipynb to script\n",
      "[NbConvertApp] Writing 33578 bytes to ../py_scripts/code_process_data.py\n",
      "[NbConvertApp] Converting notebook ../jupyter_notebooks/code_scatter.ipynb to script\n",
      "[NbConvertApp] Writing 3268 bytes to ../py_scripts/code_scatter.py\n",
      "[NbConvertApp] Converting notebook ../jupyter_notebooks/code_synthesis.ipynb to script\n",
      "[NbConvertApp] Writing 10035 bytes to ../py_scripts/code_synthesis.py\n",
      "[NbConvertApp] Converting notebook ../jupyter_notebooks/code_utils.ipynb to script\n",
      "[NbConvertApp] Writing 15186 bytes to ../py_scripts/code_utils.py\n",
      "[NbConvertApp] Converting notebook ../jupyter_notebooks/doc_libraries.ipynb to script\n",
      "[NbConvertApp] Writing 3670 bytes to ../py_scripts/doc_libraries.py\n",
      "[NbConvertApp] Converting notebook ../jupyter_notebooks/doc_normalizing.ipynb to script\n",
      "[NbConvertApp] Writing 16066 bytes to ../py_scripts/doc_normalizing.py\n",
      "[NbConvertApp] Converting notebook ../jupyter_notebooks/doc_plotly.ipynb to script\n",
      "[NbConvertApp] Writing 2794 bytes to ../py_scripts/doc_plotly.py\n",
      "[NbConvertApp] Converting notebook ../jupyter_notebooks/doc_plotting.ipynb to script\n",
      "[NbConvertApp] Writing 24163 bytes to ../py_scripts/doc_plotting.py\n",
      "[NbConvertApp] Converting notebook ../jupyter_notebooks/doc_processing.ipynb to script\n",
      "[NbConvertApp] Writing 12997 bytes to ../py_scripts/doc_processing.py\n",
      "[NbConvertApp] Converting notebook ../jupyter_notebooks/doc_testing.ipynb to script\n",
      "[NbConvertApp] Writing 39520 bytes to ../py_scripts/doc_testing.py\n",
      "[NbConvertApp] Converting notebook ../jupyter_notebooks/mutagenesis_visualization.ipynb to script\n",
      "[NbConvertApp] Writing 124193 bytes to ../py_scripts/mutagenesis_visualization.py\n",
      "[NbConvertApp] Converting notebook ../jupyter_notebooks/test_demo.ipynb to script\n",
      "[NbConvertApp] Writing 1672 bytes to ../py_scripts/test_demo.py\n",
      "[NbConvertApp] Converting notebook ../jupyter_notebooks/test_heatmaps.ipynb to script\n",
      "[NbConvertApp] Writing 1313 bytes to ../py_scripts/test_heatmaps.py\n",
      "[NbConvertApp] Converting notebook ../jupyter_notebooks/test_kwargs.ipynb to script\n",
      "[NbConvertApp] Writing 872 bytes to ../py_scripts/test_kwargs.py\n",
      "[NbConvertApp] Converting notebook ../jupyter_notebooks/test_process_data.ipynb to script\n",
      "[NbConvertApp] Writing 3602 bytes to ../py_scripts/test_process_data.py\n",
      "[NbConvertApp] Converting notebook ../jupyter_notebooks/test_synthesis.ipynb to script\n",
      "[NbConvertApp] Writing 4289 bytes to ../py_scripts/test_synthesis.py\n",
      "[NbConvertApp] Converting notebook ../jupyter_notebooks/test_utils.ipynb to script\n",
      "[NbConvertApp] Writing 6170 bytes to ../py_scripts/test_utils.py\n"
     ]
    }
   ],
   "source": [
    "!jupyter nbconvert --output-dir='../py_scripts' --to script ../jupyter_notebooks/*.ipynb"
   ]
  },
  {
   "cell_type": "markdown",
   "metadata": {},
   "source": [
    "# Run tests"
   ]
  },
  {
   "cell_type": "code",
   "execution_count": 2,
   "metadata": {
    "execution": {
     "iopub.execute_input": "2020-11-18T23:37:15.404751Z",
     "iopub.status.busy": "2020-11-18T23:37:15.404521Z",
     "iopub.status.idle": "2020-11-18T23:37:26.807173Z",
     "shell.execute_reply": "2020-11-18T23:37:26.806378Z",
     "shell.execute_reply.started": "2020-11-18T23:37:15.404725Z"
    }
   },
   "outputs": [
    {
     "name": "stdout",
     "output_type": "stream",
     "text": [
      "\u001b[1m============================= test session starts ==============================\u001b[0m\n",
      "platform darwin -- Python 3.8.3, pytest-5.4.3, py-1.9.0, pluggy-0.13.1\n",
      "rootdir: /Users/fx/Dropbox/AKuriyanLab/Code/Python/Python_Scripts/mv_repo\n",
      "plugins: dash-1.16.3\n",
      "collected 24 items                                                             \u001b[0m\u001b[1m\n",
      "\n",
      "test_demo.py \u001b[32m.\u001b[0m\u001b[32m.\u001b[0m\u001b[32m.\u001b[0m\u001b[32m.\u001b[0m\u001b[33m                                                        [ 16%]\u001b[0m\n",
      "test_heatmaps.py \u001b[32m.\u001b[0m\u001b[32m.\u001b[0m\u001b[32m.\u001b[0m\u001b[32m.\u001b[0m\u001b[32m.\u001b[0m\u001b[33m                                                   [ 37%]\u001b[0m\n",
      "test_kwargs.py \u001b[32m.\u001b[0m\u001b[32m.\u001b[0m\u001b[33m                                                        [ 45%]\u001b[0m\n",
      "test_process_data.py \u001b[32m.\u001b[0m\u001b[33m                                                   [ 50%]\u001b[0m\n",
      "test_synthesis.py \u001b[32m.\u001b[0m\u001b[32m.\u001b[0m\u001b[32m.\u001b[0m\u001b[32m.\u001b[0m\u001b[33m                                                   [ 66%]\u001b[0m\n",
      "test_utils.py \u001b[32m.\u001b[0m\u001b[32m.\u001b[0m\u001b[32m.\u001b[0m\u001b[32m.\u001b[0m\u001b[32m.\u001b[0m\u001b[32m.\u001b[0m\u001b[32m.\u001b[0m\u001b[32m.\u001b[0m\u001b[33m                                                   [100%]\u001b[0m\n",
      "\n",
      "\u001b[33m=============================== warnings summary ===============================\u001b[0m\n",
      "/Users/fx/opt/anaconda3/lib/python3.8/site-packages/Bio/Alphabet/__init__.py:22\n",
      "  /Users/fx/opt/anaconda3/lib/python3.8/site-packages/Bio/Alphabet/__init__.py:22: PendingDeprecationWarning: We intend to remove or replace Bio.Alphabet in 2020, ideally avoid using it explicitly in your code. Please get in touch if you will be adversely affected by this. https://github.com/biopython/biopython/issues/2046\n",
      "    warnings.warn(\n",
      "\n",
      "code_utils.py:229\n",
      "  /Users/fx/Dropbox/AKuriyanLab/Code/Python/Python_Scripts/mv_repo/mutagenesis_visualization/py_scripts/code_utils.py:229: DeprecationWarning: invalid escape sequence \\d\n",
      "    df['Position'] = df[col_variant].str.extract('(\\d+)').astype(int)\n",
      "\n",
      "-- Docs: https://docs.pytest.org/en/latest/warnings.html\n",
      "\u001b[33m======================= \u001b[32m24 passed\u001b[0m, \u001b[33m\u001b[1m2 warnings\u001b[0m\u001b[33m in 10.01s\u001b[0m\u001b[33m ========================\u001b[0m\n"
     ]
    }
   ],
   "source": [
    "!python -m pytest"
   ]
  },
  {
   "cell_type": "code",
   "execution_count": null,
   "metadata": {},
   "outputs": [],
   "source": []
  }
 ],
 "metadata": {
  "kernelspec": {
   "display_name": "Python 3",
   "language": "python",
   "name": "python3"
  },
  "language_info": {
   "codemirror_mode": {
    "name": "ipython",
    "version": 3
   },
   "file_extension": ".py",
   "mimetype": "text/x-python",
   "name": "python",
   "nbconvert_exporter": "python",
   "pygments_lexer": "ipython3",
   "version": "3.8.3"
  }
 },
 "nbformat": 4,
 "nbformat_minor": 4
}
