{
 "cells": [
  {
   "cell_type": "markdown",
   "metadata": {},
   "source": [
    "# Convert the ipynb to py files"
   ]
  },
  {
   "cell_type": "markdown",
   "metadata": {},
   "source": [
    "Convert main scripts"
   ]
  },
  {
   "cell_type": "code",
   "execution_count": 1,
   "metadata": {
    "execution": {
     "iopub.execute_input": "2021-01-22T03:30:20.253795Z",
     "iopub.status.busy": "2021-01-22T03:30:20.253456Z",
     "iopub.status.idle": "2021-01-22T03:30:23.987079Z",
     "shell.execute_reply": "2021-01-22T03:30:23.985371Z",
     "shell.execute_reply.started": "2021-01-22T03:30:20.253764Z"
    }
   },
   "outputs": [],
   "source": [
    "%%capture\n",
    "!jupyter nbconvert --output-dir='mutagenesis_visualization/main/scripts' --to script mutagenesis_visualization/main/notebooks/code_*.ipynb"
   ]
  },
  {
   "cell_type": "markdown",
   "metadata": {},
   "source": [
    "Dashboard"
   ]
  },
  {
   "cell_type": "code",
   "execution_count": null,
   "metadata": {},
   "outputs": [],
   "source": [
    "!jupyter nbconvert --output-dir='../mv_dashboard/' --to script mutagenesis_visualization/main/notebooks/mv_dashboard.ipynb\n"
   ]
  },
  {
   "cell_type": "markdown",
   "metadata": {},
   "source": [
    "Convert tests"
   ]
  },
  {
   "cell_type": "code",
   "execution_count": 2,
   "metadata": {
    "execution": {
     "iopub.execute_input": "2021-01-22T03:30:23.989643Z",
     "iopub.status.busy": "2021-01-22T03:30:23.988947Z",
     "iopub.status.idle": "2021-01-22T03:30:26.293893Z",
     "shell.execute_reply": "2021-01-22T03:30:26.292778Z",
     "shell.execute_reply.started": "2021-01-22T03:30:23.989600Z"
    }
   },
   "outputs": [],
   "source": [
    "%%capture\n",
    "!jupyter nbconvert --output-dir='mutagenesis_visualization/tests/scripts' --to script mutagenesis_visualization/tests/notebooks/test_*"
   ]
  },
  {
   "cell_type": "markdown",
   "metadata": {},
   "source": [
    "# Convert the doc ipynb to rst files (and clean output)"
   ]
  },
  {
   "cell_type": "markdown",
   "metadata": {},
   "source": [
    "Clean output"
   ]
  },
  {
   "cell_type": "code",
   "execution_count": null,
   "metadata": {},
   "outputs": [],
   "source": [
    "%%capture\n",
    "!jupyter nbconvert --ClearOutputPreprocessor.enabled=True --clear-output --inplace mutagenesis_visualization/tutorial/doc*.ipynb"
   ]
  },
  {
   "cell_type": "markdown",
   "metadata": {},
   "source": [
    "Convert to rst"
   ]
  },
  {
   "cell_type": "code",
   "execution_count": null,
   "metadata": {},
   "outputs": [],
   "source": [
    "%%capture\n",
    "!jupyter nbconvert --output-dir='docs/' --to rst mutagenesis_visualization/tutorial/doc*.ipynb\n",
    "\n",
    "# edit image loading from doc0_intro.rst\n",
    "with open(\"docs/doc0_intro.rst\", \"r\") as f:\n",
    "    lines = f.readlines()\n",
    "with open(\"docs/doc0_intro.rst\", \"w\") as f:\n",
    "    for line in lines:\n",
    "        if line.strip(\"\\n\") == \".. |image1| image:: ../../docs/_static/workflow_v3.png\":\n",
    "            f.write(\".. |image1| image:: _static/workflow_v3.png\\n\")\n",
    "        else:\n",
    "            f.write(line)"
   ]
  },
  {
   "cell_type": "markdown",
   "metadata": {},
   "source": [
    "# Build documentation with Sphinx"
   ]
  },
  {
   "cell_type": "code",
   "execution_count": 2,
   "metadata": {
    "execution": {
     "iopub.execute_input": "2021-01-22T02:07:18.883514Z",
     "iopub.status.busy": "2021-01-22T02:07:18.883193Z",
     "iopub.status.idle": "2021-01-22T02:07:28.997993Z",
     "shell.execute_reply": "2021-01-22T02:07:28.997030Z",
     "shell.execute_reply.started": "2021-01-22T02:07:18.883484Z"
    }
   },
   "outputs": [],
   "source": [
    "%%capture\n",
    "! python3 -m sphinx docs build"
   ]
  },
  {
   "cell_type": "markdown",
   "metadata": {},
   "source": [
    "# Run all tests"
   ]
  },
  {
   "cell_type": "code",
   "execution_count": 3,
   "metadata": {
    "execution": {
     "iopub.execute_input": "2021-01-22T03:30:37.163246Z",
     "iopub.status.busy": "2021-01-22T03:30:37.162667Z",
     "iopub.status.idle": "2021-01-22T03:31:51.627911Z",
     "shell.execute_reply": "2021-01-22T03:31:51.627197Z",
     "shell.execute_reply.started": "2021-01-22T03:30:37.163208Z"
    }
   },
   "outputs": [
    {
     "name": "stdout",
     "output_type": "stream",
     "text": [
      "\u001b[1m============================= test session starts ==============================\u001b[0m\n",
      "platform darwin -- Python 3.8.3, pytest-5.4.3, py-1.9.0, pluggy-0.13.1\n",
      "rootdir: /Users/fx/Dropbox/AKuriyanLab/Code/Python/Python_Scripts/mv_repo\n",
      "plugins: dash-1.17.0\n",
      "collected 59 items                                                             \u001b[0m\u001b[1m\u001b[1m\u001b[1m\u001b[1m\u001b[1m\n",
      "\n",
      "mutagenesis_visualization/tests/scripts/test_3D.py \u001b[32m.\u001b[0m\u001b[32m.\u001b[0m\u001b[33m                    [  3%]\u001b[0m\n",
      "mutagenesis_visualization/tests/scripts/test_PCA.py \u001b[32m.\u001b[0m\u001b[32m.\u001b[0m\u001b[32m.\u001b[0m\u001b[32m.\u001b[0m\u001b[33m                 [ 10%]\u001b[0m\n",
      "mutagenesis_visualization/tests/scripts/test_bar.py \u001b[32m.\u001b[0m\u001b[32m.\u001b[0m\u001b[32m.\u001b[0m\u001b[32m.\u001b[0m\u001b[32m.\u001b[0m\u001b[33m                [ 18%]\u001b[0m\n",
      "mutagenesis_visualization/tests/scripts/test_class.py \u001b[32m.\u001b[0m\u001b[32m.\u001b[0m\u001b[33m                 [ 22%]\u001b[0m\n",
      "mutagenesis_visualization/tests/scripts/test_create_objects.py \u001b[32m.\u001b[0m\u001b[33m         [ 23%]\u001b[0m\n",
      "mutagenesis_visualization/tests/scripts/test_demo.py \u001b[32m.\u001b[0m\u001b[32m.\u001b[0m\u001b[32m.\u001b[0m\u001b[32m.\u001b[0m\u001b[33m                [ 30%]\u001b[0m\n",
      "mutagenesis_visualization/tests/scripts/test_heatmaps.py \u001b[32m.\u001b[0m\u001b[32m.\u001b[0m\u001b[32m.\u001b[0m\u001b[32m.\u001b[0m\u001b[32m.\u001b[0m\u001b[32m.\u001b[0m\u001b[32m.\u001b[0m\u001b[32m.\u001b[0m\u001b[33m        [ 44%]\u001b[0m\n",
      "mutagenesis_visualization/tests/scripts/test_kernel.py \u001b[32m.\u001b[0m\u001b[32m.\u001b[0m\u001b[32m.\u001b[0m\u001b[33m               [ 49%]\u001b[0m\n",
      "mutagenesis_visualization/tests/scripts/test_kwargs.py \u001b[32m.\u001b[0m\u001b[32m.\u001b[0m\u001b[33m                [ 52%]\u001b[0m\n",
      "mutagenesis_visualization/tests/scripts/test_other.py \u001b[32m.\u001b[0m\u001b[32m.\u001b[0m\u001b[32m.\u001b[0m\u001b[32m.\u001b[0m\u001b[32m.\u001b[0m\u001b[32m.\u001b[0m\u001b[33m             [ 62%]\u001b[0m\n",
      "mutagenesis_visualization/tests/scripts/test_plotly.py \u001b[32m.\u001b[0m\u001b[32m.\u001b[0m\u001b[32m.\u001b[0m\u001b[32m.\u001b[0m\u001b[32m.\u001b[0m\u001b[32m.\u001b[0m\u001b[32m.\u001b[0m\u001b[33m           [ 74%]\u001b[0m\n",
      "mutagenesis_visualization/tests/scripts/test_process_data.py \u001b[32m.\u001b[0m\u001b[33m           [ 76%]\u001b[0m\n",
      "mutagenesis_visualization/tests/scripts/test_pymol.py \u001b[32m.\u001b[0m\u001b[33m                  [ 77%]\u001b[0m\n",
      "mutagenesis_visualization/tests/scripts/test_scatter.py \u001b[32m.\u001b[0m\u001b[33m                [ 79%]\u001b[0m\n",
      "mutagenesis_visualization/tests/scripts/test_synthesis.py \u001b[32m.\u001b[0m\u001b[32m.\u001b[0m\u001b[32m.\u001b[0m\u001b[32m.\u001b[0m\u001b[33m           [ 86%]\u001b[0m\n",
      "mutagenesis_visualization/tests/scripts/test_utils.py \u001b[32m.\u001b[0m\u001b[32m.\u001b[0m\u001b[32m.\u001b[0m\u001b[32m.\u001b[0m\u001b[32m.\u001b[0m\u001b[32m.\u001b[0m\u001b[32m.\u001b[0m\u001b[32m.\u001b[0m\u001b[33m           [100%]\u001b[0m\n",
      "\n",
      "\u001b[33m=============================== warnings summary ===============================\u001b[0m\n",
      "/Users/fx/opt/anaconda3/lib/python3.8/site-packages/Bio/Alphabet/__init__.py:22\n",
      "  /Users/fx/opt/anaconda3/lib/python3.8/site-packages/Bio/Alphabet/__init__.py:22: PendingDeprecationWarning: We intend to remove or replace Bio.Alphabet in 2020, ideally avoid using it explicitly in your code. Please get in touch if you will be adversely affected by this. https://github.com/biopython/biopython/issues/2046\n",
      "    warnings.warn(\n",
      "\n",
      "mutagenesis_visualization/tests/scripts/test_PCA.py::test_plot_pca\n",
      "  /Users/fx/Dropbox/AKuriyanLab/Code/Python/Python_Scripts/mv_repo/mutagenesis_visualization/main/scripts/code_PCA.py:528: RuntimeWarning: More than 20 figures have been opened. Figures created through the pyplot interface (`matplotlib.pyplot.figure`) are retained until explicitly closed and may consume too much memory. (To control this warning, see the rcParam `figure.max_open_warning`).\n",
      "    fig, ax = plt.subplots(figsize=temp_kwargs['figsize'])\n",
      "\n",
      "mutagenesis_visualization/tests/scripts/test_kernel.py::test_plot_histogram\n",
      "  /Users/fx/opt/anaconda3/lib/python3.8/site-packages/numpy/lib/histograms.py:839: RuntimeWarning: invalid value encountered in greater_equal\n",
      "    keep = (tmp_a >= first_edge)\n",
      "\n",
      "mutagenesis_visualization/tests/scripts/test_kernel.py::test_plot_histogram\n",
      "  /Users/fx/opt/anaconda3/lib/python3.8/site-packages/numpy/lib/histograms.py:840: RuntimeWarning: invalid value encountered in less_equal\n",
      "    keep &= (tmp_a <= last_edge)\n",
      "\n",
      "mutagenesis_visualization/tests/scripts/test_plotly.py::test_plot_scatter_plotly\n",
      "  /Users/fx/opt/anaconda3/lib/python3.8/site-packages/patsy/constraint.py:13: DeprecationWarning:\n",
      "  \n",
      "  Using or importing the ABCs from 'collections' instead of from 'collections.abc' is deprecated since Python 3.3, and in 3.9 it will stop working\n",
      "\n",
      "mutagenesis_visualization/tests/scripts/test_plotly.py::test_plot_scatter_plotly\n",
      "  <frozen importlib._bootstrap>:219: RuntimeWarning:\n",
      "  \n",
      "  numpy.ufunc size changed, may indicate binary incompatibility. Expected 192 from C header, got 216 from PyObject\n",
      "\n",
      "-- Docs: https://docs.pytest.org/en/latest/warnings.html\n",
      "\u001b[33m================== \u001b[32m59 passed\u001b[0m, \u001b[33m\u001b[1m6 warnings\u001b[0m\u001b[33m in 71.31s (0:01:11)\u001b[0m\u001b[33m ===================\u001b[0m\n"
     ]
    }
   ],
   "source": [
    "!python -m pytest mutagenesis_visualization/"
   ]
  },
  {
   "cell_type": "markdown",
   "metadata": {},
   "source": [
    "# Run Test by test"
   ]
  },
  {
   "cell_type": "markdown",
   "metadata": {},
   "source": [
    "## test_3D"
   ]
  },
  {
   "cell_type": "code",
   "execution_count": 4,
   "metadata": {
    "execution": {
     "iopub.execute_input": "2021-01-20T02:48:36.671256Z",
     "iopub.status.busy": "2021-01-20T02:48:36.671026Z",
     "iopub.status.idle": "2021-01-20T02:48:39.888226Z",
     "shell.execute_reply": "2021-01-20T02:48:39.886856Z",
     "shell.execute_reply.started": "2021-01-20T02:48:36.671232Z"
    }
   },
   "outputs": [
    {
     "name": "stdout",
     "output_type": "stream",
     "text": [
      "\u001b[1m============================= test session starts ==============================\u001b[0m\n",
      "platform darwin -- Python 3.8.3, pytest-5.4.3, py-1.9.0, pluggy-0.13.1\n",
      "rootdir: /Users/fx/Dropbox/AKuriyanLab/Code/Python/Python_Scripts/mv_repo\n",
      "plugins: dash-1.17.0\n",
      "collected 2 items                                                              \u001b[0m\u001b[1m\n",
      "\n",
      "mutagenesis_visualization/tests/scripts/test_3D.py \u001b[32m.\u001b[0m\u001b[32m.\u001b[0m\n",
      "\n",
      "\u001b[33m=============================== warnings summary ===============================\u001b[0m\n",
      "/Users/fx/opt/anaconda3/lib/python3.8/site-packages/Bio/Alphabet/__init__.py:22\n",
      "  /Users/fx/opt/anaconda3/lib/python3.8/site-packages/Bio/Alphabet/__init__.py:22: PendingDeprecationWarning: We intend to remove or replace Bio.Alphabet in 2020, ideally avoid using it explicitly in your code. Please get in touch if you will be adversely affected by this. https://github.com/biopython/biopython/issues/2046\n",
      "    warnings.warn(\n",
      "\n",
      "-- Docs: https://docs.pytest.org/en/latest/warnings.html\n",
      "\u001b[33m========================= \u001b[32m2 passed\u001b[0m, \u001b[33m\u001b[1m1 warning\u001b[0m\u001b[33m in 2.02s\u001b[0m\u001b[33m =========================\u001b[0m\n"
     ]
    }
   ],
   "source": [
    "!python -m pytest -s mutagenesis_visualization/tests/scripts/test_3D.py"
   ]
  },
  {
   "cell_type": "markdown",
   "metadata": {},
   "source": [
    "## test_bar"
   ]
  },
  {
   "cell_type": "code",
   "execution_count": null,
   "metadata": {},
   "outputs": [],
   "source": [
    "!python -m pytest -s mutagenesis_visualization/tests/scripts/test_bar.py"
   ]
  },
  {
   "cell_type": "markdown",
   "metadata": {},
   "source": [
    "## test_class"
   ]
  },
  {
   "cell_type": "code",
   "execution_count": 5,
   "metadata": {
    "execution": {
     "iopub.execute_input": "2021-01-20T02:48:39.893104Z",
     "iopub.status.busy": "2021-01-20T02:48:39.892461Z",
     "iopub.status.idle": "2021-01-20T02:48:43.274677Z",
     "shell.execute_reply": "2021-01-20T02:48:43.273405Z",
     "shell.execute_reply.started": "2021-01-20T02:48:39.892858Z"
    }
   },
   "outputs": [
    {
     "name": "stdout",
     "output_type": "stream",
     "text": [
      "\u001b[1m============================= test session starts ==============================\u001b[0m\n",
      "platform darwin -- Python 3.8.3, pytest-5.4.3, py-1.9.0, pluggy-0.13.1\n",
      "rootdir: /Users/fx/Dropbox/AKuriyanLab/Code/Python/Python_Scripts/mv_repo\n",
      "plugins: dash-1.17.0\n",
      "collected 2 items                                                              \u001b[0m\u001b[1m\n",
      "\n",
      "mutagenesis_visualization/tests/scripts/test_class.py \u001b[32m.\u001b[0m\u001b[32m.\u001b[0m\n",
      "\n",
      "\u001b[33m=============================== warnings summary ===============================\u001b[0m\n",
      "/Users/fx/opt/anaconda3/lib/python3.8/site-packages/Bio/Alphabet/__init__.py:22\n",
      "  /Users/fx/opt/anaconda3/lib/python3.8/site-packages/Bio/Alphabet/__init__.py:22: PendingDeprecationWarning: We intend to remove or replace Bio.Alphabet in 2020, ideally avoid using it explicitly in your code. Please get in touch if you will be adversely affected by this. https://github.com/biopython/biopython/issues/2046\n",
      "    warnings.warn(\n",
      "\n",
      "-- Docs: https://docs.pytest.org/en/latest/warnings.html\n",
      "\u001b[33m========================= \u001b[32m2 passed\u001b[0m, \u001b[33m\u001b[1m1 warning\u001b[0m\u001b[33m in 2.09s\u001b[0m\u001b[33m =========================\u001b[0m\n"
     ]
    }
   ],
   "source": [
    "!python -m pytest -s mutagenesis_visualization/tests/scripts/test_class.py"
   ]
  },
  {
   "cell_type": "markdown",
   "metadata": {},
   "source": [
    "## test_create_objects"
   ]
  },
  {
   "cell_type": "code",
   "execution_count": 6,
   "metadata": {
    "execution": {
     "iopub.execute_input": "2021-01-20T02:48:43.278251Z",
     "iopub.status.busy": "2021-01-20T02:48:43.277561Z",
     "iopub.status.idle": "2021-01-20T02:48:49.550384Z",
     "shell.execute_reply": "2021-01-20T02:48:49.548929Z",
     "shell.execute_reply.started": "2021-01-20T02:48:43.278183Z"
    }
   },
   "outputs": [
    {
     "name": "stdout",
     "output_type": "stream",
     "text": [
      "\u001b[1m============================= test session starts ==============================\u001b[0m\n",
      "platform darwin -- Python 3.8.3, pytest-5.4.3, py-1.9.0, pluggy-0.13.1\n",
      "rootdir: /Users/fx/Dropbox/AKuriyanLab/Code/Python/Python_Scripts/mv_repo\n",
      "plugins: dash-1.17.0\n",
      "collected 1 item                                                               \u001b[0m\u001b[1m\n",
      "\n",
      "mutagenesis_visualization/tests/scripts/test_create_objects.py \u001b[32m.\u001b[0m\n",
      "\n",
      "\u001b[33m=============================== warnings summary ===============================\u001b[0m\n",
      "/Users/fx/opt/anaconda3/lib/python3.8/site-packages/Bio/Alphabet/__init__.py:22\n",
      "  /Users/fx/opt/anaconda3/lib/python3.8/site-packages/Bio/Alphabet/__init__.py:22: PendingDeprecationWarning: We intend to remove or replace Bio.Alphabet in 2020, ideally avoid using it explicitly in your code. Please get in touch if you will be adversely affected by this. https://github.com/biopython/biopython/issues/2046\n",
      "    warnings.warn(\n",
      "\n",
      "-- Docs: https://docs.pytest.org/en/latest/warnings.html\n",
      "\u001b[33m========================= \u001b[32m1 passed\u001b[0m, \u001b[33m\u001b[1m1 warning\u001b[0m\u001b[33m in 5.06s\u001b[0m\u001b[33m =========================\u001b[0m\n"
     ]
    }
   ],
   "source": [
    "!python -m pytest -s mutagenesis_visualization/tests/scripts/test_create_objects.py"
   ]
  },
  {
   "cell_type": "markdown",
   "metadata": {},
   "source": [
    "## test_demo"
   ]
  },
  {
   "cell_type": "code",
   "execution_count": 7,
   "metadata": {
    "execution": {
     "iopub.execute_input": "2021-01-20T02:48:53.264464Z",
     "iopub.status.busy": "2021-01-20T02:48:53.264206Z",
     "iopub.status.idle": "2021-01-20T02:49:00.681659Z",
     "shell.execute_reply": "2021-01-20T02:49:00.679399Z",
     "shell.execute_reply.started": "2021-01-20T02:48:53.264437Z"
    }
   },
   "outputs": [
    {
     "name": "stdout",
     "output_type": "stream",
     "text": [
      "\u001b[1m============================= test session starts ==============================\u001b[0m\n",
      "platform darwin -- Python 3.8.3, pytest-5.4.3, py-1.9.0, pluggy-0.13.1\n",
      "rootdir: /Users/fx/Dropbox/AKuriyanLab/Code/Python/Python_Scripts/mv_repo\n",
      "plugins: dash-1.17.0\n",
      "collected 4 items                                                              \u001b[0m\u001b[1m\n",
      "\n",
      "mutagenesis_visualization/tests/scripts/test_demo.py \u001b[32m.\u001b[0m\u001b[32m.\u001b[0m\u001b[32m.\u001b[0m/Users/fx/Dropbox/AKuriyanLab/Code/Python/Python_Scripts/mv_repo/mutagenesis_visualization/main/scripts\n",
      "\u001b[32m.\u001b[0m\n",
      "\n",
      "\u001b[33m=============================== warnings summary ===============================\u001b[0m\n",
      "/Users/fx/opt/anaconda3/lib/python3.8/site-packages/Bio/Alphabet/__init__.py:22\n",
      "  /Users/fx/opt/anaconda3/lib/python3.8/site-packages/Bio/Alphabet/__init__.py:22: PendingDeprecationWarning: We intend to remove or replace Bio.Alphabet in 2020, ideally avoid using it explicitly in your code. Please get in touch if you will be adversely affected by this. https://github.com/biopython/biopython/issues/2046\n",
      "    warnings.warn(\n",
      "\n",
      "-- Docs: https://docs.pytest.org/en/latest/warnings.html\n",
      "\u001b[33m========================= \u001b[32m4 passed\u001b[0m, \u001b[33m\u001b[1m1 warning\u001b[0m\u001b[33m in 6.29s\u001b[0m\u001b[33m =========================\u001b[0m\n"
     ]
    }
   ],
   "source": [
    "!python -m pytest -s mutagenesis_visualization/tests/scripts/test_demo.py"
   ]
  },
  {
   "cell_type": "markdown",
   "metadata": {},
   "source": [
    "## test_heatmaps"
   ]
  },
  {
   "cell_type": "code",
   "execution_count": 8,
   "metadata": {
    "execution": {
     "iopub.execute_input": "2021-01-20T02:49:04.281829Z",
     "iopub.status.busy": "2021-01-20T02:49:04.281557Z",
     "iopub.status.idle": "2021-01-20T02:49:16.813479Z",
     "shell.execute_reply": "2021-01-20T02:49:16.811934Z",
     "shell.execute_reply.started": "2021-01-20T02:49:04.281800Z"
    }
   },
   "outputs": [
    {
     "name": "stdout",
     "output_type": "stream",
     "text": [
      "\u001b[1m============================= test session starts ==============================\u001b[0m\n",
      "platform darwin -- Python 3.8.3, pytest-5.4.3, py-1.9.0, pluggy-0.13.1\n",
      "rootdir: /Users/fx/Dropbox/AKuriyanLab/Code/Python/Python_Scripts/mv_repo\n",
      "plugins: dash-1.17.0\n",
      "collected 6 items                                                              \u001b[0m\u001b[1m\n",
      "\n",
      "mutagenesis_visualization/tests/scripts/test_heatmaps.py \u001b[32m.\u001b[0m\u001b[32m.\u001b[0m\u001b[32m.\u001b[0m\u001b[32m.\u001b[0m\u001b[32m.\u001b[0m\u001b[32m.\u001b[0m\u001b[33m          [100%]\u001b[0m\n",
      "\n",
      "\u001b[33m=============================== warnings summary ===============================\u001b[0m\n",
      "/Users/fx/opt/anaconda3/lib/python3.8/site-packages/Bio/Alphabet/__init__.py:22\n",
      "  /Users/fx/opt/anaconda3/lib/python3.8/site-packages/Bio/Alphabet/__init__.py:22: PendingDeprecationWarning: We intend to remove or replace Bio.Alphabet in 2020, ideally avoid using it explicitly in your code. Please get in touch if you will be adversely affected by this. https://github.com/biopython/biopython/issues/2046\n",
      "    warnings.warn(\n",
      "\n",
      "-- Docs: https://docs.pytest.org/en/latest/warnings.html\n",
      "\u001b[33m======================== \u001b[32m6 passed\u001b[0m, \u001b[33m\u001b[1m1 warning\u001b[0m\u001b[33m in 11.18s\u001b[0m\u001b[33m =========================\u001b[0m\n"
     ]
    }
   ],
   "source": [
    "!python -m pytest mutagenesis_visualization/tests/scripts/test_heatmaps.py"
   ]
  },
  {
   "cell_type": "markdown",
   "metadata": {
    "execution": {
     "iopub.execute_input": "2021-01-20T00:27:30.604570Z",
     "iopub.status.busy": "2021-01-20T00:27:30.604026Z",
     "iopub.status.idle": "2021-01-20T00:27:30.609076Z",
     "shell.execute_reply": "2021-01-20T00:27:30.607775Z",
     "shell.execute_reply.started": "2021-01-20T00:27:30.604531Z"
    }
   },
   "source": [
    "## test_kernel"
   ]
  },
  {
   "cell_type": "code",
   "execution_count": 9,
   "metadata": {
    "execution": {
     "iopub.execute_input": "2021-01-20T02:49:16.817336Z",
     "iopub.status.busy": "2021-01-20T02:49:16.816560Z",
     "iopub.status.idle": "2021-01-20T02:49:20.186559Z",
     "shell.execute_reply": "2021-01-20T02:49:20.185469Z",
     "shell.execute_reply.started": "2021-01-20T02:49:16.817254Z"
    }
   },
   "outputs": [
    {
     "name": "stdout",
     "output_type": "stream",
     "text": [
      "\u001b[1m============================= test session starts ==============================\u001b[0m\n",
      "platform darwin -- Python 3.8.3, pytest-5.4.3, py-1.9.0, pluggy-0.13.1\n",
      "rootdir: /Users/fx/Dropbox/AKuriyanLab/Code/Python/Python_Scripts/mv_repo\n",
      "plugins: dash-1.17.0\n",
      "collected 2 items                                                              \u001b[0m\u001b[1m\n",
      "\n",
      "mutagenesis_visualization/tests/scripts/test_kernel.py \u001b[32m.\u001b[0m\u001b[32m.\u001b[0m\u001b[33m                [100%]\u001b[0m\n",
      "\n",
      "\u001b[33m=============================== warnings summary ===============================\u001b[0m\n",
      "/Users/fx/opt/anaconda3/lib/python3.8/site-packages/Bio/Alphabet/__init__.py:22\n",
      "  /Users/fx/opt/anaconda3/lib/python3.8/site-packages/Bio/Alphabet/__init__.py:22: PendingDeprecationWarning: We intend to remove or replace Bio.Alphabet in 2020, ideally avoid using it explicitly in your code. Please get in touch if you will be adversely affected by this. https://github.com/biopython/biopython/issues/2046\n",
      "    warnings.warn(\n",
      "\n",
      "mutagenesis_visualization/tests/scripts/test_kernel.py::test_plot_histogram\n",
      "  /Users/fx/opt/anaconda3/lib/python3.8/site-packages/numpy/lib/histograms.py:839: RuntimeWarning: invalid value encountered in greater_equal\n",
      "    keep = (tmp_a >= first_edge)\n",
      "\n",
      "mutagenesis_visualization/tests/scripts/test_kernel.py::test_plot_histogram\n",
      "  /Users/fx/opt/anaconda3/lib/python3.8/site-packages/numpy/lib/histograms.py:840: RuntimeWarning: invalid value encountered in less_equal\n",
      "    keep &= (tmp_a <= last_edge)\n",
      "\n",
      "-- Docs: https://docs.pytest.org/en/latest/warnings.html\n",
      "\u001b[33m======================== \u001b[32m2 passed\u001b[0m, \u001b[33m\u001b[1m3 warnings\u001b[0m\u001b[33m in 2.30s\u001b[0m\u001b[33m =========================\u001b[0m\n"
     ]
    }
   ],
   "source": [
    "!python -m pytest mutagenesis_visualization/tests/scripts/test_kernel.py"
   ]
  },
  {
   "cell_type": "markdown",
   "metadata": {},
   "source": [
    "## test_kwargs"
   ]
  },
  {
   "cell_type": "code",
   "execution_count": 10,
   "metadata": {
    "execution": {
     "iopub.execute_input": "2021-01-20T02:49:20.189790Z",
     "iopub.status.busy": "2021-01-20T02:49:20.188933Z",
     "iopub.status.idle": "2021-01-20T02:49:22.998046Z",
     "shell.execute_reply": "2021-01-20T02:49:22.996485Z",
     "shell.execute_reply.started": "2021-01-20T02:49:20.189746Z"
    }
   },
   "outputs": [
    {
     "name": "stdout",
     "output_type": "stream",
     "text": [
      "\u001b[1m============================= test session starts ==============================\u001b[0m\n",
      "platform darwin -- Python 3.8.3, pytest-5.4.3, py-1.9.0, pluggy-0.13.1\n",
      "rootdir: /Users/fx/Dropbox/AKuriyanLab/Code/Python/Python_Scripts/mv_repo\n",
      "plugins: dash-1.17.0\n",
      "collected 2 items                                                              \u001b[0m\u001b[1m\n",
      "\n",
      "mutagenesis_visualization/tests/scripts/test_kwargs.py \u001b[32m.\u001b[0m\u001b[32m.\u001b[0m\u001b[33m                [100%]\u001b[0m\n",
      "\n",
      "\u001b[33m=============================== warnings summary ===============================\u001b[0m\n",
      "/Users/fx/opt/anaconda3/lib/python3.8/site-packages/Bio/Alphabet/__init__.py:22\n",
      "  /Users/fx/opt/anaconda3/lib/python3.8/site-packages/Bio/Alphabet/__init__.py:22: PendingDeprecationWarning: We intend to remove or replace Bio.Alphabet in 2020, ideally avoid using it explicitly in your code. Please get in touch if you will be adversely affected by this. https://github.com/biopython/biopython/issues/2046\n",
      "    warnings.warn(\n",
      "\n",
      "-- Docs: https://docs.pytest.org/en/latest/warnings.html\n",
      "\u001b[33m========================= \u001b[32m2 passed\u001b[0m, \u001b[33m\u001b[1m1 warning\u001b[0m\u001b[33m in 1.74s\u001b[0m\u001b[33m =========================\u001b[0m\n"
     ]
    }
   ],
   "source": [
    "!python -m pytest mutagenesis_visualization/tests/scripts/test_kwargs.py"
   ]
  },
  {
   "cell_type": "markdown",
   "metadata": {},
   "source": [
    "## test_other"
   ]
  },
  {
   "cell_type": "code",
   "execution_count": 3,
   "metadata": {
    "execution": {
     "iopub.execute_input": "2021-01-20T02:47:55.665765Z",
     "iopub.status.busy": "2021-01-20T02:47:55.665458Z",
     "iopub.status.idle": "2021-01-20T02:48:05.710317Z",
     "shell.execute_reply": "2021-01-20T02:48:05.709599Z",
     "shell.execute_reply.started": "2021-01-20T02:47:55.665731Z"
    }
   },
   "outputs": [
    {
     "name": "stdout",
     "output_type": "stream",
     "text": [
      "\u001b[1m============================= test session starts ==============================\u001b[0m\n",
      "platform darwin -- Python 3.8.3, pytest-5.4.3, py-1.9.0, pluggy-0.13.1\n",
      "rootdir: /Users/fx/Dropbox/AKuriyanLab/Code/Python/Python_Scripts/mv_repo\n",
      "plugins: dash-1.17.0\n",
      "collected 6 items                                                              \u001b[0m\u001b[1m\n",
      "\n",
      "mutagenesis_visualization/tests/scripts/test_other.py \u001b[32m.\u001b[0m\u001b[32m.\u001b[0m\u001b[32m.\u001b[0m\u001b[32m.\u001b[0m\u001b[32m.\u001b[0m\u001b[32m.\u001b[0m\u001b[33m             [100%]\u001b[0m\n",
      "\n",
      "\u001b[33m=============================== warnings summary ===============================\u001b[0m\n",
      "/Users/fx/opt/anaconda3/lib/python3.8/site-packages/Bio/Alphabet/__init__.py:22\n",
      "  /Users/fx/opt/anaconda3/lib/python3.8/site-packages/Bio/Alphabet/__init__.py:22: PendingDeprecationWarning: We intend to remove or replace Bio.Alphabet in 2020, ideally avoid using it explicitly in your code. Please get in touch if you will be adversely affected by this. https://github.com/biopython/biopython/issues/2046\n",
      "    warnings.warn(\n",
      "\n",
      "-- Docs: https://docs.pytest.org/en/latest/warnings.html\n",
      "\u001b[33m========================= \u001b[32m6 passed\u001b[0m, \u001b[33m\u001b[1m1 warning\u001b[0m\u001b[33m in 8.64s\u001b[0m\u001b[33m =========================\u001b[0m\n"
     ]
    }
   ],
   "source": [
    "!python -m pytest mutagenesis_visualization/tests/scripts/test_other.py"
   ]
  },
  {
   "cell_type": "markdown",
   "metadata": {},
   "source": [
    "## test_PCA"
   ]
  },
  {
   "cell_type": "code",
   "execution_count": 11,
   "metadata": {
    "execution": {
     "iopub.execute_input": "2021-01-20T02:49:27.834372Z",
     "iopub.status.busy": "2021-01-20T02:49:27.833997Z",
     "iopub.status.idle": "2021-01-20T02:49:42.996529Z",
     "shell.execute_reply": "2021-01-20T02:49:42.994927Z",
     "shell.execute_reply.started": "2021-01-20T02:49:27.834337Z"
    }
   },
   "outputs": [
    {
     "name": "stdout",
     "output_type": "stream",
     "text": [
      "\u001b[1m============================= test session starts ==============================\u001b[0m\n",
      "platform darwin -- Python 3.8.3, pytest-5.4.3, py-1.9.0, pluggy-0.13.1\n",
      "rootdir: /Users/fx/Dropbox/AKuriyanLab/Code/Python/Python_Scripts/mv_repo\n",
      "plugins: dash-1.17.0\n",
      "collected 4 items                                                              \u001b[0m\u001b[1m\n",
      "\n",
      "mutagenesis_visualization/tests/scripts/test_PCA.py \u001b[32m.\u001b[0m\u001b[32m.\u001b[0m\u001b[32m.\u001b[0m\u001b[32m.\u001b[0m\u001b[33m                 [100%]\u001b[0m\n",
      "\n",
      "\u001b[33m=============================== warnings summary ===============================\u001b[0m\n",
      "/Users/fx/opt/anaconda3/lib/python3.8/site-packages/Bio/Alphabet/__init__.py:22\n",
      "  /Users/fx/opt/anaconda3/lib/python3.8/site-packages/Bio/Alphabet/__init__.py:22: PendingDeprecationWarning: We intend to remove or replace Bio.Alphabet in 2020, ideally avoid using it explicitly in your code. Please get in touch if you will be adversely affected by this. https://github.com/biopython/biopython/issues/2046\n",
      "    warnings.warn(\n",
      "\n",
      "-- Docs: https://docs.pytest.org/en/latest/warnings.html\n",
      "\u001b[33m======================== \u001b[32m4 passed\u001b[0m, \u001b[33m\u001b[1m1 warning\u001b[0m\u001b[33m in 13.96s\u001b[0m\u001b[33m =========================\u001b[0m\n"
     ]
    }
   ],
   "source": [
    "!python -m pytest mutagenesis_visualization/tests/scripts/test_PCA.py"
   ]
  },
  {
   "cell_type": "markdown",
   "metadata": {},
   "source": [
    "## test_plotly"
   ]
  },
  {
   "cell_type": "code",
   "execution_count": 25,
   "metadata": {
    "execution": {
     "iopub.execute_input": "2021-01-20T03:01:15.541451Z",
     "iopub.status.busy": "2021-01-20T03:01:15.541202Z",
     "iopub.status.idle": "2021-01-20T03:01:23.971903Z",
     "shell.execute_reply": "2021-01-20T03:01:23.970451Z",
     "shell.execute_reply.started": "2021-01-20T03:01:15.541423Z"
    }
   },
   "outputs": [
    {
     "name": "stdout",
     "output_type": "stream",
     "text": [
      "\u001b[1m============================= test session starts ==============================\u001b[0m\n",
      "platform darwin -- Python 3.8.3, pytest-5.4.3, py-1.9.0, pluggy-0.13.1\n",
      "rootdir: /Users/fx/Dropbox/AKuriyanLab/Code/Python/Python_Scripts/mv_repo\n",
      "plugins: dash-1.17.0\n",
      "collected 6 items                                                              \u001b[0m\u001b[1m\n",
      "\n",
      "mutagenesis_visualization/tests/scripts/test_plotly.py \u001b[32m.\u001b[0m\u001b[32m.\u001b[0m\u001b[32m.\u001b[0m\u001b[32m.\u001b[0m\u001b[32m.\u001b[0m\u001b[32m.\u001b[0m\u001b[33m            [100%]\u001b[0m\n",
      "\n",
      "\u001b[33m=============================== warnings summary ===============================\u001b[0m\n",
      "/Users/fx/opt/anaconda3/lib/python3.8/site-packages/Bio/Alphabet/__init__.py:22\n",
      "  /Users/fx/opt/anaconda3/lib/python3.8/site-packages/Bio/Alphabet/__init__.py:22: PendingDeprecationWarning: We intend to remove or replace Bio.Alphabet in 2020, ideally avoid using it explicitly in your code. Please get in touch if you will be adversely affected by this. https://github.com/biopython/biopython/issues/2046\n",
      "    warnings.warn(\n",
      "\n",
      "mutagenesis_visualization/tests/scripts/test_plotly.py::test_plot_scatter_plotly\n",
      "  /Users/fx/opt/anaconda3/lib/python3.8/site-packages/patsy/constraint.py:13: DeprecationWarning:\n",
      "  \n",
      "  Using or importing the ABCs from 'collections' instead of from 'collections.abc' is deprecated since Python 3.3, and in 3.9 it will stop working\n",
      "\n",
      "mutagenesis_visualization/tests/scripts/test_plotly.py::test_plot_scatter_plotly\n",
      "  <frozen importlib._bootstrap>:219: RuntimeWarning:\n",
      "  \n",
      "  numpy.ufunc size changed, may indicate binary incompatibility. Expected 192 from C header, got 216 from PyObject\n",
      "\n",
      "-- Docs: https://docs.pytest.org/en/latest/warnings.html\n",
      "\u001b[33m======================== \u001b[32m6 passed\u001b[0m, \u001b[33m\u001b[1m3 warnings\u001b[0m\u001b[33m in 6.91s\u001b[0m\u001b[33m =========================\u001b[0m\n"
     ]
    }
   ],
   "source": [
    "!python -m pytest mutagenesis_visualization/tests/scripts/test_plotly.py"
   ]
  },
  {
   "cell_type": "markdown",
   "metadata": {},
   "source": [
    "## test_process_data"
   ]
  },
  {
   "cell_type": "code",
   "execution_count": 13,
   "metadata": {
    "execution": {
     "iopub.execute_input": "2021-01-20T02:49:48.852049Z",
     "iopub.status.busy": "2021-01-20T02:49:48.851782Z",
     "iopub.status.idle": "2021-01-20T02:49:51.828301Z",
     "shell.execute_reply": "2021-01-20T02:49:51.826541Z",
     "shell.execute_reply.started": "2021-01-20T02:49:48.852015Z"
    }
   },
   "outputs": [
    {
     "name": "stdout",
     "output_type": "stream",
     "text": [
      "\u001b[1m============================= test session starts ==============================\u001b[0m\n",
      "platform darwin -- Python 3.8.3, pytest-5.4.3, py-1.9.0, pluggy-0.13.1\n",
      "rootdir: /Users/fx/Dropbox/AKuriyanLab/Code/Python/Python_Scripts/mv_repo\n",
      "plugins: dash-1.17.0\n",
      "collected 1 item                                                               \u001b[0m\u001b[1m\n",
      "\n",
      "mutagenesis_visualization/tests/scripts/test_process_data.py \u001b[32m.\u001b[0m\u001b[33m           [100%]\u001b[0m\n",
      "\n",
      "\u001b[33m=============================== warnings summary ===============================\u001b[0m\n",
      "/Users/fx/opt/anaconda3/lib/python3.8/site-packages/Bio/Alphabet/__init__.py:22\n",
      "  /Users/fx/opt/anaconda3/lib/python3.8/site-packages/Bio/Alphabet/__init__.py:22: PendingDeprecationWarning: We intend to remove or replace Bio.Alphabet in 2020, ideally avoid using it explicitly in your code. Please get in touch if you will be adversely affected by this. https://github.com/biopython/biopython/issues/2046\n",
      "    warnings.warn(\n",
      "\n",
      "-- Docs: https://docs.pytest.org/en/latest/warnings.html\n",
      "\u001b[33m========================= \u001b[32m1 passed\u001b[0m, \u001b[33m\u001b[1m1 warning\u001b[0m\u001b[33m in 1.87s\u001b[0m\u001b[33m =========================\u001b[0m\n"
     ]
    }
   ],
   "source": [
    "!python -m pytest mutagenesis_visualization/tests/scripts/test_process_data.py"
   ]
  },
  {
   "cell_type": "markdown",
   "metadata": {},
   "source": [
    "## test_pymol"
   ]
  },
  {
   "cell_type": "code",
   "execution_count": 14,
   "metadata": {
    "execution": {
     "iopub.execute_input": "2021-01-20T02:49:51.831789Z",
     "iopub.status.busy": "2021-01-20T02:49:51.831109Z",
     "iopub.status.idle": "2021-01-20T02:49:55.507124Z",
     "shell.execute_reply": "2021-01-20T02:49:55.505973Z",
     "shell.execute_reply.started": "2021-01-20T02:49:51.831712Z"
    }
   },
   "outputs": [
    {
     "name": "stdout",
     "output_type": "stream",
     "text": [
      "\u001b[1m============================= test session starts ==============================\u001b[0m\n",
      "platform darwin -- Python 3.8.3, pytest-5.4.3, py-1.9.0, pluggy-0.13.1\n",
      "rootdir: /Users/fx/Dropbox/AKuriyanLab/Code/Python/Python_Scripts/mv_repo\n",
      "plugins: dash-1.17.0\n",
      "\u001b[1mcollecting ... \u001b[0mxml-rpc server running on host localhost, port 9123\n",
      "collected 1 item                                                               \u001b[0m\u001b[1m\n",
      "\n",
      "mutagenesis_visualization/tests/scripts/test_pymol.py \u001b[32m.\u001b[0m\n",
      "\n",
      "\u001b[33m=============================== warnings summary ===============================\u001b[0m\n",
      "/Users/fx/opt/anaconda3/lib/python3.8/site-packages/Bio/Alphabet/__init__.py:22\n",
      "  /Users/fx/opt/anaconda3/lib/python3.8/site-packages/Bio/Alphabet/__init__.py:22: PendingDeprecationWarning: We intend to remove or replace Bio.Alphabet in 2020, ideally avoid using it explicitly in your code. Please get in touch if you will be adversely affected by this. https://github.com/biopython/biopython/issues/2046\n",
      "    warnings.warn(\n",
      "\n",
      "-- Docs: https://docs.pytest.org/en/latest/warnings.html\n",
      "\u001b[33m========================= \u001b[32m1 passed\u001b[0m, \u001b[33m\u001b[1m1 warning\u001b[0m\u001b[33m in 2.31s\u001b[0m\u001b[33m =========================\u001b[0m\n"
     ]
    }
   ],
   "source": [
    "!python -m pytest -s mutagenesis_visualization/tests/scripts/test_pymol.py"
   ]
  },
  {
   "cell_type": "markdown",
   "metadata": {},
   "source": [
    "## test_scatter"
   ]
  },
  {
   "cell_type": "code",
   "execution_count": 15,
   "metadata": {
    "execution": {
     "iopub.execute_input": "2021-01-20T02:49:55.511058Z",
     "iopub.status.busy": "2021-01-20T02:49:55.510264Z",
     "iopub.status.idle": "2021-01-20T02:49:59.969023Z",
     "shell.execute_reply": "2021-01-20T02:49:59.967493Z",
     "shell.execute_reply.started": "2021-01-20T02:49:55.510963Z"
    }
   },
   "outputs": [
    {
     "name": "stdout",
     "output_type": "stream",
     "text": [
      "\u001b[1m============================= test session starts ==============================\u001b[0m\n",
      "platform darwin -- Python 3.8.3, pytest-5.4.3, py-1.9.0, pluggy-0.13.1\n",
      "rootdir: /Users/fx/Dropbox/AKuriyanLab/Code/Python/Python_Scripts/mv_repo\n",
      "plugins: dash-1.17.0\n",
      "collected 1 item                                                               \u001b[0m\u001b[1m\n",
      "\n",
      "mutagenesis_visualization/tests/scripts/test_scatter.py \u001b[32m.\u001b[0m\n",
      "\n",
      "\u001b[33m=============================== warnings summary ===============================\u001b[0m\n",
      "/Users/fx/opt/anaconda3/lib/python3.8/site-packages/Bio/Alphabet/__init__.py:22\n",
      "  /Users/fx/opt/anaconda3/lib/python3.8/site-packages/Bio/Alphabet/__init__.py:22: PendingDeprecationWarning: We intend to remove or replace Bio.Alphabet in 2020, ideally avoid using it explicitly in your code. Please get in touch if you will be adversely affected by this. https://github.com/biopython/biopython/issues/2046\n",
      "    warnings.warn(\n",
      "\n",
      "-- Docs: https://docs.pytest.org/en/latest/warnings.html\n",
      "\u001b[33m========================= \u001b[32m1 passed\u001b[0m, \u001b[33m\u001b[1m1 warning\u001b[0m\u001b[33m in 3.39s\u001b[0m\u001b[33m =========================\u001b[0m\n"
     ]
    }
   ],
   "source": [
    "!python -m pytest -s mutagenesis_visualization/tests/scripts/test_scatter.py"
   ]
  },
  {
   "cell_type": "markdown",
   "metadata": {},
   "source": [
    "## test_synthesis"
   ]
  },
  {
   "cell_type": "code",
   "execution_count": 16,
   "metadata": {
    "execution": {
     "iopub.execute_input": "2021-01-20T02:49:59.973849Z",
     "iopub.status.busy": "2021-01-20T02:49:59.972460Z",
     "iopub.status.idle": "2021-01-20T02:50:02.728004Z",
     "shell.execute_reply": "2021-01-20T02:50:02.726323Z",
     "shell.execute_reply.started": "2021-01-20T02:49:59.973759Z"
    }
   },
   "outputs": [
    {
     "name": "stdout",
     "output_type": "stream",
     "text": [
      "\u001b[1m============================= test session starts ==============================\u001b[0m\n",
      "platform darwin -- Python 3.8.3, pytest-5.4.3, py-1.9.0, pluggy-0.13.1\n",
      "rootdir: /Users/fx/Dropbox/AKuriyanLab/Code/Python/Python_Scripts/mv_repo\n",
      "plugins: dash-1.17.0\n",
      "collected 4 items                                                              \u001b[0m\u001b[1m\n",
      "\n",
      "mutagenesis_visualization/tests/scripts/test_synthesis.py \u001b[32m.\u001b[0m\u001b[32m.\u001b[0m\u001b[32m.\u001b[0m\u001b[32m.\u001b[0m\n",
      "\n",
      "\u001b[33m=============================== warnings summary ===============================\u001b[0m\n",
      "/Users/fx/opt/anaconda3/lib/python3.8/site-packages/Bio/Alphabet/__init__.py:22\n",
      "  /Users/fx/opt/anaconda3/lib/python3.8/site-packages/Bio/Alphabet/__init__.py:22: PendingDeprecationWarning: We intend to remove or replace Bio.Alphabet in 2020, ideally avoid using it explicitly in your code. Please get in touch if you will be adversely affected by this. https://github.com/biopython/biopython/issues/2046\n",
      "    warnings.warn(\n",
      "\n",
      "-- Docs: https://docs.pytest.org/en/latest/warnings.html\n",
      "\u001b[33m========================= \u001b[32m4 passed\u001b[0m, \u001b[33m\u001b[1m1 warning\u001b[0m\u001b[33m in 1.74s\u001b[0m\u001b[33m =========================\u001b[0m\n"
     ]
    }
   ],
   "source": [
    "!python -m pytest -s mutagenesis_visualization/tests/scripts/test_synthesis.py"
   ]
  },
  {
   "cell_type": "markdown",
   "metadata": {},
   "source": [
    "## test_utils"
   ]
  },
  {
   "cell_type": "code",
   "execution_count": 17,
   "metadata": {
    "execution": {
     "iopub.execute_input": "2021-01-20T02:50:02.730653Z",
     "iopub.status.busy": "2021-01-20T02:50:02.730284Z",
     "iopub.status.idle": "2021-01-20T02:50:05.650795Z",
     "shell.execute_reply": "2021-01-20T02:50:05.649503Z",
     "shell.execute_reply.started": "2021-01-20T02:50:02.730606Z"
    }
   },
   "outputs": [
    {
     "name": "stdout",
     "output_type": "stream",
     "text": [
      "\u001b[1m============================= test session starts ==============================\u001b[0m\n",
      "platform darwin -- Python 3.8.3, pytest-5.4.3, py-1.9.0, pluggy-0.13.1\n",
      "rootdir: /Users/fx/Dropbox/AKuriyanLab/Code/Python/Python_Scripts/mv_repo\n",
      "plugins: dash-1.17.0\n",
      "collected 8 items                                                              \u001b[0m\u001b[1m\n",
      "\n",
      "mutagenesis_visualization/tests/scripts/test_utils.py \u001b[32m.\u001b[0m\u001b[32m.\u001b[0m\u001b[32m.\u001b[0m\u001b[32m.\u001b[0m\u001b[32m.\u001b[0m\u001b[32m.\u001b[0m\u001b[32m.\u001b[0m\u001b[32m.\u001b[0m\u001b[33m           [100%]\u001b[0m\n",
      "\n",
      "\u001b[33m=============================== warnings summary ===============================\u001b[0m\n",
      "/Users/fx/opt/anaconda3/lib/python3.8/site-packages/Bio/Alphabet/__init__.py:22\n",
      "  /Users/fx/opt/anaconda3/lib/python3.8/site-packages/Bio/Alphabet/__init__.py:22: PendingDeprecationWarning: We intend to remove or replace Bio.Alphabet in 2020, ideally avoid using it explicitly in your code. Please get in touch if you will be adversely affected by this. https://github.com/biopython/biopython/issues/2046\n",
      "    warnings.warn(\n",
      "\n",
      "-- Docs: https://docs.pytest.org/en/latest/warnings.html\n",
      "\u001b[33m========================= \u001b[32m8 passed\u001b[0m, \u001b[33m\u001b[1m1 warning\u001b[0m\u001b[33m in 1.78s\u001b[0m\u001b[33m =========================\u001b[0m\n"
     ]
    }
   ],
   "source": [
    "!python -m pytest mutagenesis_visualization/tests/scripts/test_utils.py"
   ]
  },
  {
   "cell_type": "markdown",
   "metadata": {},
   "source": [
    "## Coverage"
   ]
  },
  {
   "cell_type": "code",
   "execution_count": 27,
   "metadata": {
    "execution": {
     "iopub.execute_input": "2021-01-20T03:21:11.288019Z",
     "iopub.status.busy": "2021-01-20T03:21:11.287796Z",
     "iopub.status.idle": "2021-01-20T03:22:43.327870Z",
     "shell.execute_reply": "2021-01-20T03:22:43.326818Z",
     "shell.execute_reply.started": "2021-01-20T03:21:11.287995Z"
    }
   },
   "outputs": [
    {
     "name": "stdout",
     "output_type": "stream",
     "text": [
      "\u001b[1m============================= test session starts ==============================\u001b[0m\n",
      "platform darwin -- Python 3.8.3, pytest-5.4.3, py-1.9.0, pluggy-0.13.1\n",
      "rootdir: /Users/fx/Dropbox/AKuriyanLab/Code/Python/Python_Scripts/mv_repo\n",
      "plugins: dash-1.17.0\n",
      "collected 50 items                                                             \u001b[0m\u001b[1m\u001b[1m\u001b[1m\n",
      "\n",
      "mutagenesis_visualization/tests/scripts/test_3D.py \u001b[32m.\u001b[0m\u001b[32m.\u001b[0m\u001b[33m                    [  4%]\u001b[0m\n",
      "mutagenesis_visualization/tests/scripts/test_PCA.py \u001b[32m.\u001b[0m\u001b[32m.\u001b[0m\u001b[32m.\u001b[0m\u001b[32m.\u001b[0m\u001b[33m                 [ 12%]\u001b[0m\n",
      "mutagenesis_visualization/tests/scripts/test_class.py \u001b[32m.\u001b[0m\u001b[32m.\u001b[0m\u001b[33m                 [ 16%]\u001b[0m\n",
      "mutagenesis_visualization/tests/scripts/test_create_objects.py \u001b[32m.\u001b[0m\u001b[33m         [ 18%]\u001b[0m\n",
      "mutagenesis_visualization/tests/scripts/test_demo.py \u001b[32m.\u001b[0m\u001b[32m.\u001b[0m\u001b[32m.\u001b[0m\u001b[32m.\u001b[0m\u001b[33m                [ 26%]\u001b[0m\n",
      "mutagenesis_visualization/tests/scripts/test_heatmaps.py \u001b[32m.\u001b[0m\u001b[32m.\u001b[0m\u001b[32m.\u001b[0m\u001b[32m.\u001b[0m\u001b[32m.\u001b[0m\u001b[32m.\u001b[0m\u001b[33m          [ 38%]\u001b[0m\n",
      "mutagenesis_visualization/tests/scripts/test_kernel.py \u001b[32m.\u001b[0m\u001b[32m.\u001b[0m\u001b[33m                [ 42%]\u001b[0m\n",
      "mutagenesis_visualization/tests/scripts/test_kwargs.py \u001b[32m.\u001b[0m\u001b[32m.\u001b[0m\u001b[33m                [ 46%]\u001b[0m\n",
      "mutagenesis_visualization/tests/scripts/test_other.py \u001b[32m.\u001b[0m\u001b[32m.\u001b[0m\u001b[32m.\u001b[0m\u001b[32m.\u001b[0m\u001b[32m.\u001b[0m\u001b[32m.\u001b[0m\u001b[33m             [ 58%]\u001b[0m\n",
      "mutagenesis_visualization/tests/scripts/test_plotly.py \u001b[32m.\u001b[0m\u001b[32m.\u001b[0m\u001b[32m.\u001b[0m\u001b[32m.\u001b[0m\u001b[32m.\u001b[0m\u001b[32m.\u001b[0m\u001b[33m            [ 70%]\u001b[0m\n",
      "mutagenesis_visualization/tests/scripts/test_process_data.py \u001b[32m.\u001b[0m\u001b[33m           [ 72%]\u001b[0m\n",
      "mutagenesis_visualization/tests/scripts/test_pymol.py \u001b[32m.\u001b[0m\u001b[33m                  [ 74%]\u001b[0m\n",
      "mutagenesis_visualization/tests/scripts/test_scatter.py \u001b[32m.\u001b[0m\u001b[33m                [ 76%]\u001b[0m\n",
      "mutagenesis_visualization/tests/scripts/test_synthesis.py \u001b[32m.\u001b[0m\u001b[32m.\u001b[0m\u001b[32m.\u001b[0m\u001b[32m.\u001b[0m\u001b[33m           [ 84%]\u001b[0m\n",
      "mutagenesis_visualization/tests/scripts/test_utils.py \u001b[32m.\u001b[0m\u001b[32m.\u001b[0m\u001b[32m.\u001b[0m\u001b[32m.\u001b[0m\u001b[32m.\u001b[0m\u001b[32m.\u001b[0m\u001b[32m.\u001b[0m\u001b[32m.\u001b[0m\u001b[33m           [100%]\u001b[0m\n",
      "\n",
      "\u001b[33m=============================== warnings summary ===============================\u001b[0m\n",
      "/Users/fx/opt/anaconda3/lib/python3.8/site-packages/Bio/Alphabet/__init__.py:22\n",
      "  /Users/fx/opt/anaconda3/lib/python3.8/site-packages/Bio/Alphabet/__init__.py:22: PendingDeprecationWarning: We intend to remove or replace Bio.Alphabet in 2020, ideally avoid using it explicitly in your code. Please get in touch if you will be adversely affected by this. https://github.com/biopython/biopython/issues/2046\n",
      "    warnings.warn(\n",
      "\n",
      "mutagenesis_visualization/tests/scripts/test_demo.py::test_demo\n",
      "  /Users/fx/Dropbox/AKuriyanLab/Code/Python/Python_Scripts/mv_repo/mutagenesis_visualization/main/scripts/code_heatmaps.py:133: RuntimeWarning: More than 20 figures have been opened. Figures created through the pyplot interface (`matplotlib.pyplot.figure`) are retained until explicitly closed and may consume too much memory. (To control this warning, see the rcParam `figure.max_open_warning`).\n",
      "    fig = plt.figure(figsize=(figwidth, figheight))\n",
      "\n",
      "mutagenesis_visualization/tests/scripts/test_kernel.py::test_plot_histogram\n",
      "  /Users/fx/opt/anaconda3/lib/python3.8/site-packages/numpy/lib/histograms.py:839: RuntimeWarning: invalid value encountered in greater_equal\n",
      "    keep = (tmp_a >= first_edge)\n",
      "\n",
      "mutagenesis_visualization/tests/scripts/test_kernel.py::test_plot_histogram\n",
      "  /Users/fx/opt/anaconda3/lib/python3.8/site-packages/numpy/lib/histograms.py:840: RuntimeWarning: invalid value encountered in less_equal\n",
      "    keep &= (tmp_a <= last_edge)\n",
      "\n",
      "mutagenesis_visualization/tests/scripts/test_plotly.py::test_plot_scatter_plotly\n",
      "  /Users/fx/opt/anaconda3/lib/python3.8/site-packages/patsy/constraint.py:13: DeprecationWarning:\n",
      "  \n",
      "  Using or importing the ABCs from 'collections' instead of from 'collections.abc' is deprecated since Python 3.3, and in 3.9 it will stop working\n",
      "\n",
      "mutagenesis_visualization/tests/scripts/test_plotly.py::test_plot_scatter_plotly\n",
      "  <frozen importlib._bootstrap>:219: RuntimeWarning:\n",
      "  \n",
      "  numpy.ufunc size changed, may indicate binary incompatibility. Expected 192 from C header, got 216 from PyObject\n",
      "\n",
      "-- Docs: https://docs.pytest.org/en/latest/warnings.html\n",
      "\u001b[33m================== \u001b[32m50 passed\u001b[0m, \u001b[33m\u001b[1m6 warnings\u001b[0m\u001b[33m in 88.98s (0:01:28)\u001b[0m\u001b[33m ===================\u001b[0m\n"
     ]
    }
   ],
   "source": [
    "!coverage run -m pytest mutagenesis_visualization"
   ]
  },
  {
   "cell_type": "markdown",
   "metadata": {},
   "source": [
    "# Doc formatter"
   ]
  },
  {
   "cell_type": "code",
   "execution_count": null,
   "metadata": {},
   "outputs": [],
   "source": [
    "!docformatter --in-place --pre-summary-newline --make-summary-multi-line --wrap-summaries 79 --wrap-descriptions 72 --blank mutagenesis_visualization/main/scripts/code_class.py"
   ]
  },
  {
   "cell_type": "code",
   "execution_count": null,
   "metadata": {},
   "outputs": [],
   "source": [
    "!docformatter --in-place --pre-summary-newline --blank mutagenesis_visualization/main/notebooks/code_other.ipynb"
   ]
  },
  {
   "cell_type": "code",
   "execution_count": null,
   "metadata": {},
   "outputs": [],
   "source": [
    "!docformatter --in-place --pre-summary-newline --make-summary-multi-line --wrap-summaries 79 --wrap-descriptions 72 --blank mutagenesis_visualization/main/notebooks/code_*"
   ]
  }
 ],
 "metadata": {
  "kernelspec": {
   "display_name": "Python 3",
   "language": "python",
   "name": "python3"
  },
  "language_info": {
   "codemirror_mode": {
    "name": "ipython",
    "version": 3
   },
   "file_extension": ".py",
   "mimetype": "text/x-python",
   "name": "python",
   "nbconvert_exporter": "python",
   "pygments_lexer": "ipython3",
   "version": "3.8.3"
  }
 },
 "nbformat": 4,
 "nbformat_minor": 4
}
