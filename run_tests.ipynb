{
 "cells": [
  {
   "cell_type": "markdown",
   "metadata": {},
   "source": [
    "# Convert the ipynb to py files"
   ]
  },
  {
   "cell_type": "markdown",
   "metadata": {},
   "source": [
    "Convert main scripts"
   ]
  },
  {
   "cell_type": "code",
   "execution_count": null,
   "metadata": {},
   "outputs": [],
   "source": [
    "%%capture\n",
    "!jupyter nbconvert - -output-dir = 'mutagenesis_visualization/main/scripts' - -to script mutagenesis_visualization/main/notebooks/code_*.ipynb"
   ]
  },
  {
   "cell_type": "markdown",
   "metadata": {},
   "source": [
    "Convert tests"
   ]
  },
  {
   "cell_type": "code",
   "execution_count": 5,
   "metadata": {
    "execution": {
     "iopub.execute_input": "2020-11-21T06:05:54.720416Z",
     "iopub.status.busy": "2020-11-21T06:05:54.720113Z",
     "iopub.status.idle": "2020-11-21T06:05:57.668909Z",
     "shell.execute_reply": "2020-11-21T06:05:57.667930Z",
     "shell.execute_reply.started": "2020-11-21T06:05:54.720383Z"
    }
   },
   "outputs": [],
   "source": [
    "%%capture\n",
    "!jupyter nbconvert - -output-dir = 'mutagenesis_visualization/tests/scripts' - -to script mutagenesis_visualization/tests/notebooks/test_*.ipynb"
   ]
  },
  {
   "cell_type": "markdown",
   "metadata": {},
   "source": [
    "# Convert the doc ipynb to rst files (and clean output)"
   ]
  },
  {
   "cell_type": "markdown",
   "metadata": {},
   "source": [
    "Clean output"
   ]
  },
  {
   "cell_type": "code",
   "execution_count": 16,
   "metadata": {
    "execution": {
     "iopub.execute_input": "2020-11-21T20:18:13.684838Z",
     "iopub.status.busy": "2020-11-21T20:18:13.684515Z",
     "iopub.status.idle": "2020-11-21T20:18:15.133561Z",
     "shell.execute_reply": "2020-11-21T20:18:15.132344Z",
     "shell.execute_reply.started": "2020-11-21T20:18:13.684802Z"
    }
   },
   "outputs": [],
   "source": [
    "%%capture\n",
    "!jupyter nbconvert --ClearOutputPreprocessor.enabled=True --clear-output --inplace mutagenesis_visualization/main/notebooks/doc_*.ipynb"
   ]
  },
  {
   "cell_type": "markdown",
   "metadata": {},
   "source": [
    "Convert to rst"
   ]
  },
  {
   "cell_type": "code",
   "execution_count": 17,
   "metadata": {
    "execution": {
     "iopub.execute_input": "2020-11-21T20:18:15.136756Z",
     "iopub.status.busy": "2020-11-21T20:18:15.136161Z",
     "iopub.status.idle": "2020-11-21T20:18:21.150401Z",
     "shell.execute_reply": "2020-11-21T20:18:21.148256Z",
     "shell.execute_reply.started": "2020-11-21T20:18:15.136721Z"
    }
   },
   "outputs": [],
   "source": [
    "%%capture\n",
    "!jupyter nbconvert --output-dir='docs/' --to rst mutagenesis_visualization/main/notebooks/doc_*.ipynb"
   ]
  },
  {
   "cell_type": "markdown",
   "metadata": {},
   "source": [
    "# Build documentation with Sphinx"
   ]
  },
  {
   "cell_type": "code",
   "execution_count": 8,
   "metadata": {
    "execution": {
     "iopub.execute_input": "2020-11-21T19:37:48.039648Z",
     "iopub.status.busy": "2020-11-21T19:37:48.039325Z",
     "iopub.status.idle": "2020-11-21T19:37:51.545373Z",
     "shell.execute_reply": "2020-11-21T19:37:51.543601Z",
     "shell.execute_reply.started": "2020-11-21T19:37:48.039585Z"
    }
   },
   "outputs": [
    {
     "name": "stdout",
     "output_type": "stream",
     "text": [
      "\u001b[01mRunning Sphinx v3.1.2\u001b[39;49;00m\n",
      "/Users/fx/Dropbox/AKuriyanLab/Code/Python/Python_Scripts/mv_repo/docs\n",
      "\u001b[01mloading pickled environment... \u001b[39;49;00mdone\n",
      "\u001b[01mbuilding [mo]: \u001b[39;49;00mtargets for 0 po files that are out of date\n",
      "\u001b[01mbuilding [html]: \u001b[39;49;00mtargets for 1 source files that are out of date\n",
      "\u001b[01mupdating environment: \u001b[39;49;00m0 added, 2 changed, 0 removed\n",
      "\u001b[01mreading sources... \u001b[39;49;00m[100%] \u001b[35mindex\u001b[39;49;00m                                                 \n",
      "\u001b[91m/Users/fx/Dropbox/AKuriyanLab/Code/Python/Python_Scripts/mv_repo/mutagenesis_visualization/mutagenesis_visualization.py:docstring of mutagenesis_visualization.Screen.rst:57: WARNING: autosummary: stub file not found 'mutagenesis_visualization.Screen.correlation'. Check your autosummary_generate setting.\u001b[39;49;00m\n",
      "\u001b[91m/Users/fx/Dropbox/AKuriyanLab/Code/Python/Python_Scripts/mv_repo/mutagenesis_visualization/mutagenesis_visualization.py:docstring of mutagenesis_visualization.Screen.rst:57: WARNING: autosummary: stub file not found 'mutagenesis_visualization.Screen.cumulative'. Check your autosummary_generate setting.\u001b[39;49;00m\n",
      "\u001b[91m/Users/fx/Dropbox/AKuriyanLab/Code/Python/Python_Scripts/mv_repo/mutagenesis_visualization/mutagenesis_visualization.py:docstring of mutagenesis_visualization.Screen.rst:57: WARNING: autosummary: stub file not found 'mutagenesis_visualization.Screen.differential'. Check your autosummary_generate setting.\u001b[39;49;00m\n",
      "\u001b[91m/Users/fx/Dropbox/AKuriyanLab/Code/Python/Python_Scripts/mv_repo/mutagenesis_visualization/mutagenesis_visualization.py:docstring of mutagenesis_visualization.Screen.rst:57: WARNING: autosummary: stub file not found 'mutagenesis_visualization.Screen.group_correlation'. Check your autosummary_generate setting.\u001b[39;49;00m\n",
      "\u001b[91m/Users/fx/Dropbox/AKuriyanLab/Code/Python/Python_Scripts/mv_repo/mutagenesis_visualization/mutagenesis_visualization.py:docstring of mutagenesis_visualization.Screen.rst:57: WARNING: autosummary: stub file not found 'mutagenesis_visualization.Screen.heatmap'. Check your autosummary_generate setting.\u001b[39;49;00m\n",
      "\u001b[91m/Users/fx/Dropbox/AKuriyanLab/Code/Python/Python_Scripts/mv_repo/mutagenesis_visualization/mutagenesis_visualization.py:docstring of mutagenesis_visualization.Screen.rst:57: WARNING: autosummary: stub file not found 'mutagenesis_visualization.Screen.heatmap_columns'. Check your autosummary_generate setting.\u001b[39;49;00m\n",
      "\u001b[91m/Users/fx/Dropbox/AKuriyanLab/Code/Python/Python_Scripts/mv_repo/mutagenesis_visualization/mutagenesis_visualization.py:docstring of mutagenesis_visualization.Screen.rst:57: WARNING: autosummary: stub file not found 'mutagenesis_visualization.Screen.heatmap_rows'. Check your autosummary_generate setting.\u001b[39;49;00m\n",
      "\u001b[91m/Users/fx/Dropbox/AKuriyanLab/Code/Python/Python_Scripts/mv_repo/mutagenesis_visualization/mutagenesis_visualization.py:docstring of mutagenesis_visualization.Screen.rst:57: WARNING: autosummary: stub file not found 'mutagenesis_visualization.Screen.histogram'. Check your autosummary_generate setting.\u001b[39;49;00m\n",
      "\u001b[91m/Users/fx/Dropbox/AKuriyanLab/Code/Python/Python_Scripts/mv_repo/mutagenesis_visualization/mutagenesis_visualization.py:docstring of mutagenesis_visualization.Screen.rst:57: WARNING: autosummary: stub file not found 'mutagenesis_visualization.Screen.individual_correlation'. Check your autosummary_generate setting.\u001b[39;49;00m\n",
      "\u001b[91m/Users/fx/Dropbox/AKuriyanLab/Code/Python/Python_Scripts/mv_repo/mutagenesis_visualization/mutagenesis_visualization.py:docstring of mutagenesis_visualization.Screen.rst:57: WARNING: autosummary: stub file not found 'mutagenesis_visualization.Screen.kernel'. Check your autosummary_generate setting.\u001b[39;49;00m\n",
      "\u001b[91m/Users/fx/Dropbox/AKuriyanLab/Code/Python/Python_Scripts/mv_repo/mutagenesis_visualization/mutagenesis_visualization.py:docstring of mutagenesis_visualization.Screen.rst:57: WARNING: autosummary: stub file not found 'mutagenesis_visualization.Screen.mean'. Check your autosummary_generate setting.\u001b[39;49;00m\n",
      "\u001b[91m/Users/fx/Dropbox/AKuriyanLab/Code/Python/Python_Scripts/mv_repo/mutagenesis_visualization/mutagenesis_visualization.py:docstring of mutagenesis_visualization.Screen.rst:57: WARNING: autosummary: stub file not found 'mutagenesis_visualization.Screen.meancounts'. Check your autosummary_generate setting.\u001b[39;49;00m\n",
      "\u001b[91m/Users/fx/Dropbox/AKuriyanLab/Code/Python/Python_Scripts/mv_repo/mutagenesis_visualization/mutagenesis_visualization.py:docstring of mutagenesis_visualization.Screen.rst:57: WARNING: autosummary: stub file not found 'mutagenesis_visualization.Screen.miniheatmap'. Check your autosummary_generate setting.\u001b[39;49;00m\n",
      "\u001b[91m/Users/fx/Dropbox/AKuriyanLab/Code/Python/Python_Scripts/mv_repo/mutagenesis_visualization/mutagenesis_visualization.py:docstring of mutagenesis_visualization.Screen.rst:57: WARNING: autosummary: stub file not found 'mutagenesis_visualization.Screen.neighboreffect'. Check your autosummary_generate setting.\u001b[39;49;00m\n",
      "\u001b[91m/Users/fx/Dropbox/AKuriyanLab/Code/Python/Python_Scripts/mv_repo/mutagenesis_visualization/mutagenesis_visualization.py:docstring of mutagenesis_visualization.Screen.rst:57: WARNING: autosummary: stub file not found 'mutagenesis_visualization.Screen.pca'. Check your autosummary_generate setting.\u001b[39;49;00m\n",
      "\u001b[91m/Users/fx/Dropbox/AKuriyanLab/Code/Python/Python_Scripts/mv_repo/mutagenesis_visualization/mutagenesis_visualization.py:docstring of mutagenesis_visualization.Screen.rst:57: WARNING: autosummary: stub file not found 'mutagenesis_visualization.Screen.position'. Check your autosummary_generate setting.\u001b[39;49;00m\n",
      "\u001b[91m/Users/fx/Dropbox/AKuriyanLab/Code/Python/Python_Scripts/mv_repo/mutagenesis_visualization/mutagenesis_visualization.py:docstring of mutagenesis_visualization.Screen.rst:57: WARNING: autosummary: stub file not found 'mutagenesis_visualization.Screen.pymol'. Check your autosummary_generate setting.\u001b[39;49;00m\n",
      "\u001b[91m/Users/fx/Dropbox/AKuriyanLab/Code/Python/Python_Scripts/mv_repo/mutagenesis_visualization/mutagenesis_visualization.py:docstring of mutagenesis_visualization.Screen.rst:57: WARNING: autosummary: stub file not found 'mutagenesis_visualization.Screen.rank'. Check your autosummary_generate setting.\u001b[39;49;00m\n",
      "\u001b[91m/Users/fx/Dropbox/AKuriyanLab/Code/Python/Python_Scripts/mv_repo/mutagenesis_visualization/mutagenesis_visualization.py:docstring of mutagenesis_visualization.Screen.rst:57: WARNING: autosummary: stub file not found 'mutagenesis_visualization.Screen.roc'. Check your autosummary_generate setting.\u001b[39;49;00m\n",
      "\u001b[91m/Users/fx/Dropbox/AKuriyanLab/Code/Python/Python_Scripts/mv_repo/mutagenesis_visualization/mutagenesis_visualization.py:docstring of mutagenesis_visualization.Screen.rst:57: WARNING: autosummary: stub file not found 'mutagenesis_visualization.Screen.scatter'. Check your autosummary_generate setting.\u001b[39;49;00m\n",
      "\u001b[91m/Users/fx/Dropbox/AKuriyanLab/Code/Python/Python_Scripts/mv_repo/mutagenesis_visualization/mutagenesis_visualization.py:docstring of mutagenesis_visualization.Screen.rst:57: WARNING: autosummary: stub file not found 'mutagenesis_visualization.Screen.scatter_3D'. Check your autosummary_generate setting.\u001b[39;49;00m\n",
      "\u001b[91m/Users/fx/Dropbox/AKuriyanLab/Code/Python/Python_Scripts/mv_repo/mutagenesis_visualization/mutagenesis_visualization.py:docstring of mutagenesis_visualization.Screen.rst:57: WARNING: autosummary: stub file not found 'mutagenesis_visualization.Screen.scatter_3D_pdbprop'. Check your autosummary_generate setting.\u001b[39;49;00m\n",
      "\u001b[91m/Users/fx/Dropbox/AKuriyanLab/Code/Python/Python_Scripts/mv_repo/mutagenesis_visualization/mutagenesis_visualization.py:docstring of mutagenesis_visualization.Screen.rst:57: WARNING: autosummary: stub file not found 'mutagenesis_visualization.Screen.secondary_mean'. Check your autosummary_generate setting.\u001b[39;49;00m\n",
      "\u001b[91m/Users/fx/Dropbox/AKuriyanLab/Code/Python/Python_Scripts/mv_repo/mutagenesis_visualization/mutagenesis_visualization.py:docstring of mutagenesis_visualization.Screen.scatter_3D:6: WARNING: Inline strong start-string without end-string.\u001b[39;49;00m\n",
      "\u001b[91m/Users/fx/Dropbox/AKuriyanLab/Code/Python/Python_Scripts/mv_repo/mutagenesis_visualization/mutagenesis_visualization.py:docstring of mutagenesis_visualization.Screen.scatter_3D_pdbprop:6: WARNING: Inline strong start-string without end-string.\u001b[39;49;00m\n",
      "\u001b[91mWARNING: autodoc: failed to import function 'count_fastq' from module 'mutagenesis_visualization'; the following exception was raised:\n",
      "Traceback (most recent call last):\n",
      "  File \"/Users/fx/opt/anaconda3/lib/python3.8/site-packages/sphinx/util/inspect.py\", line 324, in safe_getattr\n",
      "    return getattr(obj, name, *defargs)\n",
      "AttributeError: module 'mutagenesis_visualization' has no attribute 'count_fastq'\n",
      "\n",
      "During handling of the above exception, another exception occurred:\n",
      "\n",
      "Traceback (most recent call last):\n",
      "  File \"/Users/fx/opt/anaconda3/lib/python3.8/site-packages/sphinx/ext/autodoc/importer.py\", line 71, in import_object\n",
      "    obj = attrgetter(obj, attrname)\n",
      "  File \"/Users/fx/opt/anaconda3/lib/python3.8/site-packages/sphinx/ext/autodoc/__init__.py\", line 245, in get_attr\n",
      "    return autodoc_attrgetter(self.env.app, obj, name, *defargs)\n",
      "  File \"/Users/fx/opt/anaconda3/lib/python3.8/site-packages/sphinx/ext/autodoc/__init__.py\", line 2063, in autodoc_attrgetter\n",
      "    return safe_getattr(obj, name, *defargs)\n",
      "  File \"/Users/fx/opt/anaconda3/lib/python3.8/site-packages/sphinx/util/inspect.py\", line 340, in safe_getattr\n",
      "    raise AttributeError(name)\n",
      "AttributeError: count_fastq\n",
      "\u001b[39;49;00m\n",
      "\u001b[91m/Users/fx/Dropbox/AKuriyanLab/Code/Python/Python_Scripts/mv_repo/mutagenesis_visualization/mutagenesis_visualization.py:docstring of mutagenesis_visualization.plot_multiplekernel:24: WARNING: Inline strong start-string without end-string.\u001b[39;49;00m\n",
      "\u001b[01mlooking for now-outdated files... \u001b[39;49;00mnone found\n",
      "\u001b[01mpickling environment... \u001b[39;49;00mdone\n",
      "\u001b[01mchecking consistency... \u001b[39;49;00m\u001b[91m/Users/fx/Dropbox/AKuriyanLab/Code/Python/Python_Scripts/mv_repo/docs/doc_plotly.rst: WARNING: document isn't included in any toctree\u001b[39;49;00m\n",
      "done\n",
      "\u001b[01mpreparing documents... \u001b[39;49;00mdone\n",
      "\u001b[01mwriting output... \u001b[39;49;00m[100%] \u001b[32mindex\u001b[39;49;00m                                                  \n",
      "\u001b[91m/Users/fx/Dropbox/AKuriyanLab/Code/Python/Python_Scripts/mv_repo/docs/index.rst:68: WARNING: undefined label: designing the dna libraries (if the link has no caption the label must precede a section header)\u001b[39;49;00m\n",
      "\u001b[01mgenerating indices... \u001b[39;49;00m genindexdone\n",
      "\u001b[01mwriting additional pages... \u001b[39;49;00m searchdone\n",
      "\u001b[01mcopying images... \u001b[39;49;00m[100%] \u001b[33mimages/exported_images/user_experience_v2.png\u001b[39;49;00m          \n",
      "\u001b[01mcopying static files... ... \u001b[39;49;00mdone\n",
      "\u001b[01mcopying extra files... \u001b[39;49;00mdone\n",
      "\u001b[01mdumping search index in English (code: en)... \u001b[39;49;00mdone\n",
      "\u001b[01mdumping object inventory... \u001b[39;49;00mdone\n",
      "\u001b[01mbuild succeeded, 29 warnings.\u001b[39;49;00m\n",
      "\n",
      "The HTML pages are in build.\n"
     ]
    }
   ],
   "source": [
    "! python3 - m sphinx docs build"
   ]
  },
  {
   "cell_type": "markdown",
   "metadata": {},
   "source": [
    "# Run all tests"
   ]
  },
  {
   "cell_type": "code",
   "execution_count": null,
   "metadata": {},
   "outputs": [],
   "source": [
    "!python - m pytest mutagenesis_visualization/"
   ]
  },
  {
   "cell_type": "markdown",
   "metadata": {},
   "source": [
    "# Run Test by test"
   ]
  },
  {
   "cell_type": "markdown",
   "metadata": {},
   "source": [
    "## test_3D"
   ]
  },
  {
   "cell_type": "code",
   "execution_count": 4,
   "metadata": {
    "execution": {
     "iopub.execute_input": "2020-11-21T06:05:37.407490Z",
     "iopub.status.busy": "2020-11-21T06:05:37.407187Z",
     "iopub.status.idle": "2020-11-21T06:05:43.961793Z",
     "shell.execute_reply": "2020-11-21T06:05:43.961056Z",
     "shell.execute_reply.started": "2020-11-21T06:05:37.407459Z"
    }
   },
   "outputs": [
    {
     "name": "stdout",
     "output_type": "stream",
     "text": [
      "\u001b[1m============================= test session starts ==============================\u001b[0m\n",
      "platform darwin -- Python 3.8.3, pytest-5.4.3, py-1.9.0, pluggy-0.13.1\n",
      "rootdir: /Users/fx/Dropbox/AKuriyanLab/Code/Python/Python_Scripts/mv_repo\n",
      "plugins: dash-1.16.3\n",
      "\u001b[1mcollecting ... \u001b[0mxml-rpc server could not be started\n",
      "collected 3 items                                                              \u001b[0m\u001b[1m\n",
      "\n",
      "mutagenesis_visualization/tests/scripts/test_3D.py \u001b[32m.\u001b[0m\u001b[32m.\u001b[0m\u001b[32m.\u001b[0m\n",
      "\n",
      "\u001b[33m=============================== warnings summary ===============================\u001b[0m\n",
      "/Users/fx/opt/anaconda3/lib/python3.8/site-packages/Bio/Alphabet/__init__.py:22\n",
      "  /Users/fx/opt/anaconda3/lib/python3.8/site-packages/Bio/Alphabet/__init__.py:22: PendingDeprecationWarning: We intend to remove or replace Bio.Alphabet in 2020, ideally avoid using it explicitly in your code. Please get in touch if you will be adversely affected by this. https://github.com/biopython/biopython/issues/2046\n",
      "    warnings.warn(\n",
      "\n",
      "-- Docs: https://docs.pytest.org/en/latest/warnings.html\n",
      "\u001b[33m========================= \u001b[32m3 passed\u001b[0m, \u001b[33m\u001b[1m1 warning\u001b[0m\u001b[33m in 4.13s\u001b[0m\u001b[33m =========================\u001b[0m\n"
     ]
    }
   ],
   "source": [
    "!python - m pytest - s mutagenesis_visualization/tests/scripts/test_3D.py"
   ]
  },
  {
   "cell_type": "markdown",
   "metadata": {},
   "source": [
    "## test_demo"
   ]
  },
  {
   "cell_type": "code",
   "execution_count": 2,
   "metadata": {
    "execution": {
     "iopub.execute_input": "2020-11-21T05:59:47.304887Z",
     "iopub.status.busy": "2020-11-21T05:59:47.304496Z",
     "iopub.status.idle": "2020-11-21T06:00:17.736092Z",
     "shell.execute_reply": "2020-11-21T06:00:17.735287Z",
     "shell.execute_reply.started": "2020-11-21T05:59:47.304850Z"
    }
   },
   "outputs": [
    {
     "name": "stdout",
     "output_type": "stream",
     "text": [
      "\u001b[1m============================= test session starts ==============================\u001b[0m\n",
      "platform darwin -- Python 3.8.3, pytest-5.4.3, py-1.9.0, pluggy-0.13.1\n",
      "rootdir: /Users/fx/Dropbox/AKuriyanLab/Code/Python/Python_Scripts/mv_repo\n",
      "plugins: dash-1.16.3\n",
      "\u001b[1mcollecting ... \u001b[0mxml-rpc server could not be started\n",
      "collected 4 items                                                              \u001b[0m\u001b[1m\n",
      "\n",
      "mutagenesis_visualization/tests/scripts/test_demo.py \u001b[32m.\u001b[0m\u001b[32m.\u001b[0m\u001b[32m.\u001b[0m/Users/fx/Dropbox/AKuriyanLab/Code/Python/Python_Scripts/mv_repo/mutagenesis_visualization/main/scripts\n",
      "\u001b[32m.\u001b[0m\n",
      "\n",
      "\u001b[33m=============================== warnings summary ===============================\u001b[0m\n",
      "mutagenesis_visualization/main/scripts/code_utils.py:229\n",
      "  mutagenesis_visualization/main/scripts/code_utils.py:229: DeprecationWarning: invalid escape sequence \\d\n",
      "    df['Position'] = df[col_variant].str.extract('(\\d+)').astype(int)\n",
      "\n",
      "/Users/fx/opt/anaconda3/lib/python3.8/site-packages/Bio/Alphabet/__init__.py:22\n",
      "  /Users/fx/opt/anaconda3/lib/python3.8/site-packages/Bio/Alphabet/__init__.py:22: PendingDeprecationWarning: We intend to remove or replace Bio.Alphabet in 2020, ideally avoid using it explicitly in your code. Please get in touch if you will be adversely affected by this. https://github.com/biopython/biopython/issues/2046\n",
      "    warnings.warn(\n",
      "\n",
      "-- Docs: https://docs.pytest.org/en/latest/warnings.html\n",
      "\u001b[33m======================== \u001b[32m4 passed\u001b[0m, \u001b[33m\u001b[1m2 warnings\u001b[0m\u001b[33m in 27.93s\u001b[0m\u001b[33m ========================\u001b[0m\n"
     ]
    }
   ],
   "source": [
    "!python - m pytest - s mutagenesis_visualization/tests/scripts/test_demo.py"
   ]
  },
  {
   "cell_type": "markdown",
   "metadata": {},
   "source": [
    "## test_kwargs"
   ]
  },
  {
   "cell_type": "code",
   "execution_count": null,
   "metadata": {},
   "outputs": [],
   "source": [
    "!python - m pytest mutagenesis_visualization/tests/scripts/test_kwargs.py"
   ]
  },
  {
   "cell_type": "markdown",
   "metadata": {},
   "source": [
    "## test_heatmaps"
   ]
  },
  {
   "cell_type": "code",
   "execution_count": null,
   "metadata": {},
   "outputs": [],
   "source": [
    "!python - m pytest mutagenesis_visualization/tests/scripts/test_heatmaps.py"
   ]
  },
  {
   "cell_type": "markdown",
   "metadata": {},
   "source": [
    "## test_process_data"
   ]
  },
  {
   "cell_type": "code",
   "execution_count": null,
   "metadata": {},
   "outputs": [],
   "source": [
    "!python - m pytest mutagenesis_visualization/tests/scripts/test_process_data.py"
   ]
  },
  {
   "cell_type": "markdown",
   "metadata": {},
   "source": [
    "## test_synthesis"
   ]
  },
  {
   "cell_type": "code",
   "execution_count": null,
   "metadata": {},
   "outputs": [],
   "source": [
    "!python - m pytest mutagenesis_visualization/tests/scripts/test_synthesis.py"
   ]
  },
  {
   "cell_type": "markdown",
   "metadata": {},
   "source": [
    "## test_utils"
   ]
  },
  {
   "cell_type": "code",
   "execution_count": null,
   "metadata": {},
   "outputs": [],
   "source": [
    "!python - m pytest mutagenesis_visualization/tests/scripts/test_utils.py"
   ]
  },
  {
   "cell_type": "markdown",
   "metadata": {},
   "source": [
    "## test_"
   ]
  },
  {
   "cell_type": "code",
   "execution_count": null,
   "metadata": {},
   "outputs": [],
   "source": []
  }
 ],
 "metadata": {
  "kernelspec": {
   "display_name": "Python 3",
   "language": "python",
   "name": "python3"
  },
  "language_info": {
   "codemirror_mode": {
    "name": "ipython",
    "version": 3
   },
   "file_extension": ".py",
   "mimetype": "text/x-python",
   "name": "python",
   "nbconvert_exporter": "python",
   "pygments_lexer": "ipython3",
   "version": "3.8.3"
  }
 },
 "nbformat": 4,
 "nbformat_minor": 4
}
