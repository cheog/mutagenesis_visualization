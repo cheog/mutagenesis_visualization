{
 "cells": [
  {
   "cell_type": "markdown",
   "metadata": {},
   "source": [
    "# Convert the ipynb to py files"
   ]
  },
  {
   "cell_type": "markdown",
   "metadata": {},
   "source": [
    "Convert main scripts"
   ]
  },
  {
   "cell_type": "code",
   "execution_count": 11,
   "metadata": {
    "execution": {
     "iopub.execute_input": "2020-11-27T04:04:23.442226Z",
     "iopub.status.busy": "2020-11-27T04:04:23.437921Z",
     "iopub.status.idle": "2020-11-27T04:04:26.177313Z",
     "shell.execute_reply": "2020-11-27T04:04:26.174607Z",
     "shell.execute_reply.started": "2020-11-27T04:04:23.442169Z"
    }
   },
   "outputs": [],
   "source": [
    "%%capture\n",
    "!jupyter nbconvert --output-dir='mutagenesis_visualization/main/scripts' --to script mutagenesis_visualization/main/notebooks/code_*.ipynb"
   ]
  },
  {
   "cell_type": "markdown",
   "metadata": {},
   "source": [
    "Convert tests"
   ]
  },
  {
   "cell_type": "code",
   "execution_count": 2,
   "metadata": {
    "execution": {
     "iopub.execute_input": "2020-11-27T01:45:19.718428Z",
     "iopub.status.busy": "2020-11-27T01:45:19.718011Z",
     "iopub.status.idle": "2020-11-27T01:45:21.297710Z",
     "shell.execute_reply": "2020-11-27T01:45:21.295773Z",
     "shell.execute_reply.started": "2020-11-27T01:45:19.718397Z"
    }
   },
   "outputs": [],
   "source": [
    "%%capture\n",
    "!jupyter nbconvert --output-dir='mutagenesis_visualization/tests/scripts' --to script mutagenesis_visualization/tests/notebooks/test_*"
   ]
  },
  {
   "cell_type": "markdown",
   "metadata": {},
   "source": [
    "# Convert the doc ipynb to rst files (and clean output)"
   ]
  },
  {
   "cell_type": "markdown",
   "metadata": {},
   "source": [
    "Clean output"
   ]
  },
  {
   "cell_type": "code",
   "execution_count": 2,
   "metadata": {
    "execution": {
     "iopub.execute_input": "2020-11-27T02:46:40.466399Z",
     "iopub.status.busy": "2020-11-27T02:46:40.466141Z",
     "iopub.status.idle": "2020-11-27T02:46:42.119561Z",
     "shell.execute_reply": "2020-11-27T02:46:42.118477Z",
     "shell.execute_reply.started": "2020-11-27T02:46:40.466373Z"
    }
   },
   "outputs": [],
   "source": [
    "%%capture\n",
    "!jupyter nbconvert --ClearOutputPreprocessor.enabled=True --clear-output --inplace mutagenesis_visualization/tutorial/doc*.ipynb"
   ]
  },
  {
   "cell_type": "markdown",
   "metadata": {},
   "source": [
    "Convert to rst"
   ]
  },
  {
   "cell_type": "code",
   "execution_count": 3,
   "metadata": {
    "execution": {
     "iopub.execute_input": "2020-11-27T02:46:42.121590Z",
     "iopub.status.busy": "2020-11-27T02:46:42.121222Z",
     "iopub.status.idle": "2020-11-27T02:46:48.646652Z",
     "shell.execute_reply": "2020-11-27T02:46:48.645999Z",
     "shell.execute_reply.started": "2020-11-27T02:46:42.121554Z"
    }
   },
   "outputs": [],
   "source": [
    "%%capture\n",
    "!jupyter nbconvert --output-dir='docs/' --to rst mutagenesis_visualization/tutorial/doc*.ipynb\n",
    "\n",
    "# edit image loading from doc0_intro.rst\n",
    "with open(\"docs/doc0_intro.rst\", \"r\") as f:\n",
    "    lines = f.readlines()\n",
    "with open(\"docs/doc0_intro.rst\", \"w\") as f:\n",
    "    for line in lines:\n",
    "        if line.strip(\"\\n\") == \".. |image1| image:: ../../docs/_static/workflow_v3.png\":\n",
    "            f.write(\".. |image1| image:: _static/workflow_v3.png\\n\")\n",
    "        else:\n",
    "            f.write(line)"
   ]
  },
  {
   "cell_type": "markdown",
   "metadata": {},
   "source": [
    "# Build documentation with Sphinx"
   ]
  },
  {
   "cell_type": "code",
   "execution_count": 4,
   "metadata": {
    "execution": {
     "iopub.execute_input": "2020-11-27T02:46:48.648931Z",
     "iopub.status.busy": "2020-11-27T02:46:48.648255Z",
     "iopub.status.idle": "2020-11-27T02:46:58.694361Z",
     "shell.execute_reply": "2020-11-27T02:46:58.693566Z",
     "shell.execute_reply.started": "2020-11-27T02:46:48.648897Z"
    }
   },
   "outputs": [
    {
     "name": "stdout",
     "output_type": "stream",
     "text": [
      "\u001b[01mRunning Sphinx v3.1.2\u001b[39;49;00m\n",
      "\u001b[01mloading pickled environment... \u001b[39;49;00mdone\n",
      "\u001b[01mbuilding [mo]: \u001b[39;49;00mtargets for 0 po files that are out of date\n",
      "\u001b[01mbuilding [html]: \u001b[39;49;00mtargets for 7 source files that are out of date\n",
      "\u001b[01mupdating environment: \u001b[39;49;00m2 added, 8 changed, 1 removed\n",
      "\u001b[01mreading sources... \u001b[39;49;00m[100%] \u001b[35mindex\u001b[39;49;00m                                                 \n",
      "\u001b[91m/Users/fx/Dropbox/AKuriyanLab/Code/Python/Python_Scripts/mv_repo/mutagenesis_visualization/main/scripts/code_class.py:docstring of mutagenesis_visualization.Counts.rst:31: WARNING: autosummary: stub file not found 'mutagenesis_visualization.Counts.library_representation'. Check your autosummary_generate setting.\u001b[39;49;00m\n",
      "\u001b[91m/Users/fx/Dropbox/AKuriyanLab/Code/Python/Python_Scripts/mv_repo/mutagenesis_visualization/main/scripts/code_class.py:docstring of mutagenesis_visualization.Counts.rst:31: WARNING: autosummary: stub file not found 'mutagenesis_visualization.Counts.mean_counts'. Check your autosummary_generate setting.\u001b[39;49;00m\n",
      "\u001b[91m/Users/fx/Dropbox/AKuriyanLab/Code/Python/Python_Scripts/mv_repo/mutagenesis_visualization/main/scripts/code_class.py:docstring of mutagenesis_visualization.Screen.rst:57: WARNING: autosummary: stub file not found 'mutagenesis_visualization.Screen.correlation'. Check your autosummary_generate setting.\u001b[39;49;00m\n",
      "\u001b[91m/Users/fx/Dropbox/AKuriyanLab/Code/Python/Python_Scripts/mv_repo/mutagenesis_visualization/main/scripts/code_class.py:docstring of mutagenesis_visualization.Screen.rst:57: WARNING: autosummary: stub file not found 'mutagenesis_visualization.Screen.cumulative'. Check your autosummary_generate setting.\u001b[39;49;00m\n",
      "\u001b[91m/Users/fx/Dropbox/AKuriyanLab/Code/Python/Python_Scripts/mv_repo/mutagenesis_visualization/main/scripts/code_class.py:docstring of mutagenesis_visualization.Screen.rst:57: WARNING: autosummary: stub file not found 'mutagenesis_visualization.Screen.differential'. Check your autosummary_generate setting.\u001b[39;49;00m\n",
      "\u001b[91m/Users/fx/Dropbox/AKuriyanLab/Code/Python/Python_Scripts/mv_repo/mutagenesis_visualization/main/scripts/code_class.py:docstring of mutagenesis_visualization.Screen.rst:57: WARNING: autosummary: stub file not found 'mutagenesis_visualization.Screen.group_correlation'. Check your autosummary_generate setting.\u001b[39;49;00m\n",
      "\u001b[91m/Users/fx/Dropbox/AKuriyanLab/Code/Python/Python_Scripts/mv_repo/mutagenesis_visualization/main/scripts/code_class.py:docstring of mutagenesis_visualization.Screen.rst:57: WARNING: autosummary: stub file not found 'mutagenesis_visualization.Screen.heatmap'. Check your autosummary_generate setting.\u001b[39;49;00m\n",
      "\u001b[91m/Users/fx/Dropbox/AKuriyanLab/Code/Python/Python_Scripts/mv_repo/mutagenesis_visualization/main/scripts/code_class.py:docstring of mutagenesis_visualization.Screen.rst:57: WARNING: autosummary: stub file not found 'mutagenesis_visualization.Screen.heatmap_columns'. Check your autosummary_generate setting.\u001b[39;49;00m\n",
      "\u001b[91m/Users/fx/Dropbox/AKuriyanLab/Code/Python/Python_Scripts/mv_repo/mutagenesis_visualization/main/scripts/code_class.py:docstring of mutagenesis_visualization.Screen.rst:57: WARNING: autosummary: stub file not found 'mutagenesis_visualization.Screen.heatmap_rows'. Check your autosummary_generate setting.\u001b[39;49;00m\n",
      "\u001b[91m/Users/fx/Dropbox/AKuriyanLab/Code/Python/Python_Scripts/mv_repo/mutagenesis_visualization/main/scripts/code_class.py:docstring of mutagenesis_visualization.Screen.rst:57: WARNING: autosummary: stub file not found 'mutagenesis_visualization.Screen.histogram'. Check your autosummary_generate setting.\u001b[39;49;00m\n",
      "\u001b[91m/Users/fx/Dropbox/AKuriyanLab/Code/Python/Python_Scripts/mv_repo/mutagenesis_visualization/main/scripts/code_class.py:docstring of mutagenesis_visualization.Screen.rst:57: WARNING: autosummary: stub file not found 'mutagenesis_visualization.Screen.individual_correlation'. Check your autosummary_generate setting.\u001b[39;49;00m\n",
      "\u001b[91m/Users/fx/Dropbox/AKuriyanLab/Code/Python/Python_Scripts/mv_repo/mutagenesis_visualization/main/scripts/code_class.py:docstring of mutagenesis_visualization.Screen.rst:57: WARNING: autosummary: stub file not found 'mutagenesis_visualization.Screen.kernel'. Check your autosummary_generate setting.\u001b[39;49;00m\n",
      "\u001b[91m/Users/fx/Dropbox/AKuriyanLab/Code/Python/Python_Scripts/mv_repo/mutagenesis_visualization/main/scripts/code_class.py:docstring of mutagenesis_visualization.Screen.rst:57: WARNING: autosummary: stub file not found 'mutagenesis_visualization.Screen.mean'. Check your autosummary_generate setting.\u001b[39;49;00m\n",
      "\u001b[91m/Users/fx/Dropbox/AKuriyanLab/Code/Python/Python_Scripts/mv_repo/mutagenesis_visualization/main/scripts/code_class.py:docstring of mutagenesis_visualization.Screen.rst:57: WARNING: autosummary: stub file not found 'mutagenesis_visualization.Screen.miniheatmap'. Check your autosummary_generate setting.\u001b[39;49;00m\n",
      "\u001b[91m/Users/fx/Dropbox/AKuriyanLab/Code/Python/Python_Scripts/mv_repo/mutagenesis_visualization/main/scripts/code_class.py:docstring of mutagenesis_visualization.Screen.rst:57: WARNING: autosummary: stub file not found 'mutagenesis_visualization.Screen.neighboreffect'. Check your autosummary_generate setting.\u001b[39;49;00m\n",
      "\u001b[91m/Users/fx/Dropbox/AKuriyanLab/Code/Python/Python_Scripts/mv_repo/mutagenesis_visualization/main/scripts/code_class.py:docstring of mutagenesis_visualization.Screen.rst:57: WARNING: autosummary: stub file not found 'mutagenesis_visualization.Screen.pca'. Check your autosummary_generate setting.\u001b[39;49;00m\n",
      "\u001b[91m/Users/fx/Dropbox/AKuriyanLab/Code/Python/Python_Scripts/mv_repo/mutagenesis_visualization/main/scripts/code_class.py:docstring of mutagenesis_visualization.Screen.rst:57: WARNING: autosummary: stub file not found 'mutagenesis_visualization.Screen.position'. Check your autosummary_generate setting.\u001b[39;49;00m\n",
      "\u001b[91m/Users/fx/Dropbox/AKuriyanLab/Code/Python/Python_Scripts/mv_repo/mutagenesis_visualization/main/scripts/code_class.py:docstring of mutagenesis_visualization.Screen.rst:57: WARNING: autosummary: stub file not found 'mutagenesis_visualization.Screen.pymol'. Check your autosummary_generate setting.\u001b[39;49;00m\n",
      "\u001b[91m/Users/fx/Dropbox/AKuriyanLab/Code/Python/Python_Scripts/mv_repo/mutagenesis_visualization/main/scripts/code_class.py:docstring of mutagenesis_visualization.Screen.rst:57: WARNING: autosummary: stub file not found 'mutagenesis_visualization.Screen.rank'. Check your autosummary_generate setting.\u001b[39;49;00m\n",
      "\u001b[91m/Users/fx/Dropbox/AKuriyanLab/Code/Python/Python_Scripts/mv_repo/mutagenesis_visualization/main/scripts/code_class.py:docstring of mutagenesis_visualization.Screen.rst:57: WARNING: autosummary: stub file not found 'mutagenesis_visualization.Screen.rank_plotly'. Check your autosummary_generate setting.\u001b[39;49;00m\n",
      "\u001b[91m/Users/fx/Dropbox/AKuriyanLab/Code/Python/Python_Scripts/mv_repo/mutagenesis_visualization/main/scripts/code_class.py:docstring of mutagenesis_visualization.Screen.rst:57: WARNING: autosummary: stub file not found 'mutagenesis_visualization.Screen.roc'. Check your autosummary_generate setting.\u001b[39;49;00m\n",
      "\u001b[91m/Users/fx/Dropbox/AKuriyanLab/Code/Python/Python_Scripts/mv_repo/mutagenesis_visualization/main/scripts/code_class.py:docstring of mutagenesis_visualization.Screen.rst:57: WARNING: autosummary: stub file not found 'mutagenesis_visualization.Screen.scatter'. Check your autosummary_generate setting.\u001b[39;49;00m\n",
      "\u001b[91m/Users/fx/Dropbox/AKuriyanLab/Code/Python/Python_Scripts/mv_repo/mutagenesis_visualization/main/scripts/code_class.py:docstring of mutagenesis_visualization.Screen.rst:57: WARNING: autosummary: stub file not found 'mutagenesis_visualization.Screen.scatter_3D_pdbprop_plotly'. Check your autosummary_generate setting.\u001b[39;49;00m\n",
      "\u001b[91m/Users/fx/Dropbox/AKuriyanLab/Code/Python/Python_Scripts/mv_repo/mutagenesis_visualization/main/scripts/code_class.py:docstring of mutagenesis_visualization.Screen.rst:57: WARNING: autosummary: stub file not found 'mutagenesis_visualization.Screen.scatter_3D_plotly'. Check your autosummary_generate setting.\u001b[39;49;00m\n",
      "\u001b[91m/Users/fx/Dropbox/AKuriyanLab/Code/Python/Python_Scripts/mv_repo/mutagenesis_visualization/main/scripts/code_class.py:docstring of mutagenesis_visualization.Screen.rst:57: WARNING: autosummary: stub file not found 'mutagenesis_visualization.Screen.scatter_plotly'. Check your autosummary_generate setting.\u001b[39;49;00m\n",
      "\u001b[91m/Users/fx/Dropbox/AKuriyanLab/Code/Python/Python_Scripts/mv_repo/mutagenesis_visualization/main/scripts/code_class.py:docstring of mutagenesis_visualization.Screen.rst:57: WARNING: autosummary: stub file not found 'mutagenesis_visualization.Screen.secondary_mean'. Check your autosummary_generate setting.\u001b[39;49;00m\n",
      "\u001b[91m/Users/fx/Dropbox/AKuriyanLab/Code/Python/Python_Scripts/mv_repo/mutagenesis_visualization/main/scripts/code_class.py:docstring of mutagenesis_visualization.Screen.rank_plotly:5: WARNING: Inline emphasis start-string without end-string.\u001b[39;49;00m\n",
      "\u001b[91m/Users/fx/Dropbox/AKuriyanLab/Code/Python/Python_Scripts/mv_repo/mutagenesis_visualization/main/scripts/code_class.py:docstring of mutagenesis_visualization.Screen.scatter_3D_pdbprop_plotly:6: WARNING: Inline strong start-string without end-string.\u001b[39;49;00m\n",
      "\u001b[91m/Users/fx/Dropbox/AKuriyanLab/Code/Python/Python_Scripts/mv_repo/mutagenesis_visualization/main/scripts/code_class.py:docstring of mutagenesis_visualization.Screen.scatter_3D_plotly:6: WARNING: Inline strong start-string without end-string.\u001b[39;49;00m\n",
      "\u001b[91m/Users/fx/Dropbox/AKuriyanLab/Code/Python/Python_Scripts/mv_repo/mutagenesis_visualization/main/scripts/code_kernel.py:docstring of mutagenesis_visualization.plot_multiplekernel:24: WARNING: Inline strong start-string without end-string.\u001b[39;49;00m\n",
      "\u001b[91m/Users/fx/Dropbox/AKuriyanLab/Code/Python/Python_Scripts/mv_repo/docs/doc4a_plotting_heatmaps.rst:94: WARNING: duplicate label heatmaps, other instance in /Users/fx/Dropbox/AKuriyanLab/Code/Python/Python_Scripts/mv_repo/docs/doc3_normalizing.rst\u001b[39;49;00m\n",
      "\u001b[91m/Users/fx/Dropbox/AKuriyanLab/Code/Python/Python_Scripts/mv_repo/docs/doc4b_plotting_stats.rst:7: WARNING: duplicate label import modules, other instance in /Users/fx/Dropbox/AKuriyanLab/Code/Python/Python_Scripts/mv_repo/docs/doc4a_plotting_heatmaps.rst\u001b[39;49;00m\n",
      "\u001b[91m/Users/fx/Dropbox/AKuriyanLab/Code/Python/Python_Scripts/mv_repo/docs/doc4b_plotting_stats.rst:25: WARNING: duplicate label create object of class screen, other instance in /Users/fx/Dropbox/AKuriyanLab/Code/Python/Python_Scripts/mv_repo/docs/doc4a_plotting_heatmaps.rst\u001b[39;49;00m\n",
      "\u001b[91m/Users/fx/Dropbox/AKuriyanLab/Code/Python/Python_Scripts/mv_repo/docs/doc4b_plotting_stats.rst:523: WARNING: duplicate label reference, other instance in /Users/fx/Dropbox/AKuriyanLab/Code/Python/Python_Scripts/mv_repo/docs/doc4a_plotting_heatmaps.rst\u001b[39;49;00m\n",
      "\u001b[91m/Users/fx/Dropbox/AKuriyanLab/Code/Python/Python_Scripts/mv_repo/docs/doc6_other_datasets.rst:315: WARNING: duplicate label load data, other instance in /Users/fx/Dropbox/AKuriyanLab/Code/Python/Python_Scripts/mv_repo/docs/doc6_other_datasets.rst\u001b[39;49;00m\n",
      "\u001b[91m/Users/fx/Dropbox/AKuriyanLab/Code/Python/Python_Scripts/mv_repo/docs/doc6_other_datasets.rst:338: WARNING: duplicate label create object, other instance in /Users/fx/Dropbox/AKuriyanLab/Code/Python/Python_Scripts/mv_repo/docs/doc6_other_datasets.rst\u001b[39;49;00m\n",
      "\u001b[91m/Users/fx/Dropbox/AKuriyanLab/Code/Python/Python_Scripts/mv_repo/docs/doc6_other_datasets.rst:365: WARNING: duplicate label 2d plots, other instance in /Users/fx/Dropbox/AKuriyanLab/Code/Python/Python_Scripts/mv_repo/docs/doc6_other_datasets.rst\u001b[39;49;00m\n",
      "\u001b[91m/Users/fx/Dropbox/AKuriyanLab/Code/Python/Python_Scripts/mv_repo/docs/doc6_other_datasets.rst:491: WARNING: duplicate label load data, other instance in /Users/fx/Dropbox/AKuriyanLab/Code/Python/Python_Scripts/mv_repo/docs/doc6_other_datasets.rst\u001b[39;49;00m\n",
      "\u001b[91m/Users/fx/Dropbox/AKuriyanLab/Code/Python/Python_Scripts/mv_repo/docs/doc6_other_datasets.rst:513: WARNING: duplicate label create object, other instance in /Users/fx/Dropbox/AKuriyanLab/Code/Python/Python_Scripts/mv_repo/docs/doc6_other_datasets.rst\u001b[39;49;00m\n",
      "\u001b[91m/Users/fx/Dropbox/AKuriyanLab/Code/Python/Python_Scripts/mv_repo/docs/doc6_other_datasets.rst:538: WARNING: duplicate label 2d plots, other instance in /Users/fx/Dropbox/AKuriyanLab/Code/Python/Python_Scripts/mv_repo/docs/doc6_other_datasets.rst\u001b[39;49;00m\n",
      "\u001b[91m/Users/fx/Dropbox/AKuriyanLab/Code/Python/Python_Scripts/mv_repo/docs/doc6_other_datasets.rst:628: WARNING: duplicate label load data, other instance in /Users/fx/Dropbox/AKuriyanLab/Code/Python/Python_Scripts/mv_repo/docs/doc6_other_datasets.rst\u001b[39;49;00m\n",
      "\u001b[91m/Users/fx/Dropbox/AKuriyanLab/Code/Python/Python_Scripts/mv_repo/docs/doc6_other_datasets.rst:651: WARNING: duplicate label create object, other instance in /Users/fx/Dropbox/AKuriyanLab/Code/Python/Python_Scripts/mv_repo/docs/doc6_other_datasets.rst\u001b[39;49;00m\n",
      "\u001b[91m/Users/fx/Dropbox/AKuriyanLab/Code/Python/Python_Scripts/mv_repo/docs/doc6_other_datasets.rst:681: WARNING: duplicate label 2d plots, other instance in /Users/fx/Dropbox/AKuriyanLab/Code/Python/Python_Scripts/mv_repo/docs/doc6_other_datasets.rst\u001b[39;49;00m\n",
      "\u001b[91m/Users/fx/Dropbox/AKuriyanLab/Code/Python/Python_Scripts/mv_repo/docs/doc6_other_datasets.rst:800: WARNING: duplicate label load data, other instance in /Users/fx/Dropbox/AKuriyanLab/Code/Python/Python_Scripts/mv_repo/docs/doc6_other_datasets.rst\u001b[39;49;00m\n",
      "\u001b[91m/Users/fx/Dropbox/AKuriyanLab/Code/Python/Python_Scripts/mv_repo/docs/doc6_other_datasets.rst:819: WARNING: duplicate label create object, other instance in /Users/fx/Dropbox/AKuriyanLab/Code/Python/Python_Scripts/mv_repo/docs/doc6_other_datasets.rst\u001b[39;49;00m\n",
      "\u001b[91m/Users/fx/Dropbox/AKuriyanLab/Code/Python/Python_Scripts/mv_repo/docs/doc6_other_datasets.rst:843: WARNING: duplicate label 2d plots, other instance in /Users/fx/Dropbox/AKuriyanLab/Code/Python/Python_Scripts/mv_repo/docs/doc6_other_datasets.rst\u001b[39;49;00m\n",
      "\u001b[91m/Users/fx/Dropbox/AKuriyanLab/Code/Python/Python_Scripts/mv_repo/docs/doc6_other_datasets.rst:932: WARNING: duplicate label load data, other instance in /Users/fx/Dropbox/AKuriyanLab/Code/Python/Python_Scripts/mv_repo/docs/doc6_other_datasets.rst\u001b[39;49;00m\n",
      "\u001b[91m/Users/fx/Dropbox/AKuriyanLab/Code/Python/Python_Scripts/mv_repo/docs/doc6_other_datasets.rst:952: WARNING: duplicate label create object, other instance in /Users/fx/Dropbox/AKuriyanLab/Code/Python/Python_Scripts/mv_repo/docs/doc6_other_datasets.rst\u001b[39;49;00m\n",
      "\u001b[91m/Users/fx/Dropbox/AKuriyanLab/Code/Python/Python_Scripts/mv_repo/docs/doc6_other_datasets.rst:984: WARNING: duplicate label 2d plots, other instance in /Users/fx/Dropbox/AKuriyanLab/Code/Python/Python_Scripts/mv_repo/docs/doc6_other_datasets.rst\u001b[39;49;00m\n",
      "\u001b[91m/Users/fx/Dropbox/AKuriyanLab/Code/Python/Python_Scripts/mv_repo/docs/doc6_other_datasets.rst:1073: WARNING: duplicate label load data, other instance in /Users/fx/Dropbox/AKuriyanLab/Code/Python/Python_Scripts/mv_repo/docs/doc6_other_datasets.rst\u001b[39;49;00m\n",
      "\u001b[91m/Users/fx/Dropbox/AKuriyanLab/Code/Python/Python_Scripts/mv_repo/docs/doc6_other_datasets.rst:1091: WARNING: duplicate label create object, other instance in /Users/fx/Dropbox/AKuriyanLab/Code/Python/Python_Scripts/mv_repo/docs/doc6_other_datasets.rst\u001b[39;49;00m\n",
      "\u001b[91m/Users/fx/Dropbox/AKuriyanLab/Code/Python/Python_Scripts/mv_repo/docs/doc6_other_datasets.rst:1117: WARNING: duplicate label 2d plots, other instance in /Users/fx/Dropbox/AKuriyanLab/Code/Python/Python_Scripts/mv_repo/docs/doc6_other_datasets.rst\u001b[39;49;00m\n",
      "\u001b[91m/Users/fx/Dropbox/AKuriyanLab/Code/Python/Python_Scripts/mv_repo/docs/doc6_other_datasets.rst:1208: WARNING: duplicate label load data, other instance in /Users/fx/Dropbox/AKuriyanLab/Code/Python/Python_Scripts/mv_repo/docs/doc6_other_datasets.rst\u001b[39;49;00m\n",
      "\u001b[91m/Users/fx/Dropbox/AKuriyanLab/Code/Python/Python_Scripts/mv_repo/docs/doc6_other_datasets.rst:1227: WARNING: duplicate label create object, other instance in /Users/fx/Dropbox/AKuriyanLab/Code/Python/Python_Scripts/mv_repo/docs/doc6_other_datasets.rst\u001b[39;49;00m\n",
      "\u001b[91m/Users/fx/Dropbox/AKuriyanLab/Code/Python/Python_Scripts/mv_repo/docs/doc6_other_datasets.rst:1267: WARNING: duplicate label 2d plots, other instance in /Users/fx/Dropbox/AKuriyanLab/Code/Python/Python_Scripts/mv_repo/docs/doc6_other_datasets.rst\u001b[39;49;00m\n",
      "\u001b[91m/Users/fx/Dropbox/AKuriyanLab/Code/Python/Python_Scripts/mv_repo/docs/doc6_other_datasets.rst:1380: WARNING: duplicate label 3d plots, other instance in /Users/fx/Dropbox/AKuriyanLab/Code/Python/Python_Scripts/mv_repo/docs/doc6_other_datasets.rst\u001b[39;49;00m\n",
      "\u001b[91m/Users/fx/Dropbox/AKuriyanLab/Code/Python/Python_Scripts/mv_repo/docs/doc6_other_datasets.rst:1437: WARNING: duplicate label load data, other instance in /Users/fx/Dropbox/AKuriyanLab/Code/Python/Python_Scripts/mv_repo/docs/doc6_other_datasets.rst\u001b[39;49;00m\n",
      "\u001b[91m/Users/fx/Dropbox/AKuriyanLab/Code/Python/Python_Scripts/mv_repo/docs/doc6_other_datasets.rst:1460: WARNING: duplicate label create object, other instance in /Users/fx/Dropbox/AKuriyanLab/Code/Python/Python_Scripts/mv_repo/docs/doc6_other_datasets.rst\u001b[39;49;00m\n",
      "\u001b[91m/Users/fx/Dropbox/AKuriyanLab/Code/Python/Python_Scripts/mv_repo/docs/doc6_other_datasets.rst:1480: WARNING: duplicate label 2d plots, other instance in /Users/fx/Dropbox/AKuriyanLab/Code/Python/Python_Scripts/mv_repo/docs/doc6_other_datasets.rst\u001b[39;49;00m\n",
      "\u001b[01mlooking for now-outdated files... \u001b[39;49;00mnone found\n",
      "\u001b[01mpickling environment... \u001b[39;49;00mdone\n",
      "\u001b[01mchecking consistency... \u001b[39;49;00mdone\n",
      "\u001b[01mpreparing documents... \u001b[39;49;00mdone\n",
      "\u001b[01mwriting output... \u001b[39;49;00m[100%] \u001b[32mindex\u001b[39;49;00m                                                  \n",
      "\u001b[91m/Users/fx/Dropbox/AKuriyanLab/Code/Python/Python_Scripts/mv_repo/docs/index.rst:68: WARNING: undefined label: more datasets (if the link has no caption the label must precede a section header)\u001b[39;49;00m\n",
      "\u001b[01mgenerating indices... \u001b[39;49;00m genindexdone\n",
      "\u001b[01mwriting additional pages... \u001b[39;49;00m searchdone\n",
      "\u001b[01mcopying images... \u001b[39;49;00m[100%] \u001b[33mimages/exported_images/user_experience_v2.png\u001b[39;49;00m          m;49;00m\n",
      "\u001b[01mcopying static files... ... \u001b[39;49;00mdone\n",
      "\u001b[01mcopying extra files... \u001b[39;49;00mdone\n",
      "\u001b[01mdumping search index in English (code: en)... \u001b[39;49;00mdone\n",
      "\u001b[01mdumping object inventory... \u001b[39;49;00mdone\n",
      "\u001b[01mbuild succeeded, 60 warnings.\u001b[39;49;00m\n",
      "\n",
      "The HTML pages are in build.\n"
     ]
    }
   ],
   "source": [
    "! python3 -m sphinx docs build"
   ]
  },
  {
   "cell_type": "markdown",
   "metadata": {},
   "source": [
    "# Run all tests"
   ]
  },
  {
   "cell_type": "code",
   "execution_count": null,
   "metadata": {},
   "outputs": [],
   "source": [
    "!python -m pytest mutagenesis_visualization/"
   ]
  },
  {
   "cell_type": "markdown",
   "metadata": {},
   "source": [
    "# Run Test by test"
   ]
  },
  {
   "cell_type": "markdown",
   "metadata": {},
   "source": [
    "## test_3D"
   ]
  },
  {
   "cell_type": "code",
   "execution_count": 2,
   "metadata": {
    "execution": {
     "iopub.execute_input": "2020-11-27T04:02:56.328936Z",
     "iopub.status.busy": "2020-11-27T04:02:56.327198Z",
     "iopub.status.idle": "2020-11-27T04:03:00.892740Z",
     "shell.execute_reply": "2020-11-27T04:03:00.891669Z",
     "shell.execute_reply.started": "2020-11-27T04:02:56.328891Z"
    }
   },
   "outputs": [
    {
     "name": "stdout",
     "output_type": "stream",
     "text": [
      "\u001b[1m============================= test session starts ==============================\u001b[0m\n",
      "platform darwin -- Python 3.8.3, pytest-5.4.3, py-1.9.0, pluggy-0.13.1\n",
      "rootdir: /Users/fx/Dropbox/AKuriyanLab/Code/Python/Python_Scripts/mv_repo\n",
      "plugins: dash-1.16.3\n",
      "collected 2 items                                                              \u001b[0m\u001b[1m\n",
      "\n",
      "mutagenesis_visualization/tests/scripts/test_3D.py \u001b[32m.\u001b[0m\u001b[32m.\u001b[0m\n",
      "\n",
      "\u001b[33m=============================== warnings summary ===============================\u001b[0m\n",
      "mutagenesis_visualization/main/scripts/code_utils.py:252\n",
      "  /Users/fx/Dropbox/AKuriyanLab/Code/Python/Python_Scripts/mv_repo/mutagenesis_visualization/main/scripts/code_utils.py:252: DeprecationWarning: invalid escape sequence \\d\n",
      "    df['Position'] = df[col_variant].str.extract('(\\d+)').astype(int)\n",
      "\n",
      "/Users/fx/opt/anaconda3/lib/python3.8/site-packages/Bio/Alphabet/__init__.py:22\n",
      "  /Users/fx/opt/anaconda3/lib/python3.8/site-packages/Bio/Alphabet/__init__.py:22: PendingDeprecationWarning: We intend to remove or replace Bio.Alphabet in 2020, ideally avoid using it explicitly in your code. Please get in touch if you will be adversely affected by this. https://github.com/biopython/biopython/issues/2046\n",
      "    warnings.warn(\n",
      "\n",
      "-- Docs: https://docs.pytest.org/en/latest/warnings.html\n",
      "\u001b[33m======================== \u001b[32m2 passed\u001b[0m, \u001b[33m\u001b[1m2 warnings\u001b[0m\u001b[33m in 2.87s\u001b[0m\u001b[33m =========================\u001b[0m\n"
     ]
    }
   ],
   "source": [
    "!python -m pytest -s mutagenesis_visualization/tests/scripts/test_3D.py"
   ]
  },
  {
   "cell_type": "markdown",
   "metadata": {},
   "source": [
    "## test_pymol"
   ]
  },
  {
   "cell_type": "code",
   "execution_count": 3,
   "metadata": {
    "execution": {
     "iopub.execute_input": "2020-11-27T04:03:01.580551Z",
     "iopub.status.busy": "2020-11-27T04:03:01.579083Z",
     "iopub.status.idle": "2020-11-27T04:03:06.146222Z",
     "shell.execute_reply": "2020-11-27T04:03:06.144998Z",
     "shell.execute_reply.started": "2020-11-27T04:03:01.580505Z"
    }
   },
   "outputs": [
    {
     "name": "stdout",
     "output_type": "stream",
     "text": [
      "\u001b[1m============================= test session starts ==============================\u001b[0m\n",
      "platform darwin -- Python 3.8.3, pytest-5.4.3, py-1.9.0, pluggy-0.13.1\n",
      "rootdir: /Users/fx/Dropbox/AKuriyanLab/Code/Python/Python_Scripts/mv_repo\n",
      "plugins: dash-1.16.3\n",
      "\u001b[1mcollecting ... \u001b[0mxml-rpc server running on host localhost, port 9123\n",
      "collected 1 item                                                               \u001b[0m\u001b[1m\n",
      "\n",
      "mutagenesis_visualization/tests/scripts/test_pymol.py \u001b[32m.\u001b[0m\n",
      "\n",
      "\u001b[33m=============================== warnings summary ===============================\u001b[0m\n",
      "/Users/fx/opt/anaconda3/lib/python3.8/site-packages/Bio/Alphabet/__init__.py:22\n",
      "  /Users/fx/opt/anaconda3/lib/python3.8/site-packages/Bio/Alphabet/__init__.py:22: PendingDeprecationWarning: We intend to remove or replace Bio.Alphabet in 2020, ideally avoid using it explicitly in your code. Please get in touch if you will be adversely affected by this. https://github.com/biopython/biopython/issues/2046\n",
      "    warnings.warn(\n",
      "\n",
      "-- Docs: https://docs.pytest.org/en/latest/warnings.html\n",
      "\u001b[33m========================= \u001b[32m1 passed\u001b[0m, \u001b[33m\u001b[1m1 warning\u001b[0m\u001b[33m in 2.82s\u001b[0m\u001b[33m =========================\u001b[0m\n"
     ]
    }
   ],
   "source": [
    "!python -m pytest -s mutagenesis_visualization/tests/scripts/test_pymol.py"
   ]
  },
  {
   "cell_type": "markdown",
   "metadata": {},
   "source": [
    "## test_demo"
   ]
  },
  {
   "cell_type": "code",
   "execution_count": 4,
   "metadata": {
    "execution": {
     "iopub.execute_input": "2020-11-27T04:03:06.155700Z",
     "iopub.status.busy": "2020-11-27T04:03:06.153763Z",
     "iopub.status.idle": "2020-11-27T04:03:15.889967Z",
     "shell.execute_reply": "2020-11-27T04:03:15.889156Z",
     "shell.execute_reply.started": "2020-11-27T04:03:06.155627Z"
    }
   },
   "outputs": [
    {
     "name": "stdout",
     "output_type": "stream",
     "text": [
      "\u001b[1m============================= test session starts ==============================\u001b[0m\n",
      "platform darwin -- Python 3.8.3, pytest-5.4.3, py-1.9.0, pluggy-0.13.1\n",
      "rootdir: /Users/fx/Dropbox/AKuriyanLab/Code/Python/Python_Scripts/mv_repo\n",
      "plugins: dash-1.16.3\n",
      "collected 4 items                                                              \u001b[0m\u001b[1m\n",
      "\n",
      "mutagenesis_visualization/tests/scripts/test_demo.py \u001b[32m.\u001b[0m\u001b[32m.\u001b[0m\u001b[32m.\u001b[0m/Users/fx/Dropbox/AKuriyanLab/Code/Python/Python_Scripts/mv_repo/mutagenesis_visualization/main/scripts\n",
      "\u001b[32m.\u001b[0m\n",
      "\n",
      "\u001b[33m=============================== warnings summary ===============================\u001b[0m\n",
      "/Users/fx/opt/anaconda3/lib/python3.8/site-packages/Bio/Alphabet/__init__.py:22\n",
      "  /Users/fx/opt/anaconda3/lib/python3.8/site-packages/Bio/Alphabet/__init__.py:22: PendingDeprecationWarning: We intend to remove or replace Bio.Alphabet in 2020, ideally avoid using it explicitly in your code. Please get in touch if you will be adversely affected by this. https://github.com/biopython/biopython/issues/2046\n",
      "    warnings.warn(\n",
      "\n",
      "-- Docs: https://docs.pytest.org/en/latest/warnings.html\n",
      "\u001b[33m========================= \u001b[32m4 passed\u001b[0m, \u001b[33m\u001b[1m1 warning\u001b[0m\u001b[33m in 8.38s\u001b[0m\u001b[33m =========================\u001b[0m\n"
     ]
    }
   ],
   "source": [
    "!python -m pytest -s mutagenesis_visualization/tests/scripts/test_demo.py"
   ]
  },
  {
   "cell_type": "markdown",
   "metadata": {},
   "source": [
    "## test_kwargs"
   ]
  },
  {
   "cell_type": "code",
   "execution_count": 5,
   "metadata": {
    "execution": {
     "iopub.execute_input": "2020-11-27T04:03:15.894664Z",
     "iopub.status.busy": "2020-11-27T04:03:15.894245Z",
     "iopub.status.idle": "2020-11-27T04:03:19.303805Z",
     "shell.execute_reply": "2020-11-27T04:03:19.302593Z",
     "shell.execute_reply.started": "2020-11-27T04:03:15.894623Z"
    }
   },
   "outputs": [
    {
     "name": "stdout",
     "output_type": "stream",
     "text": [
      "\u001b[1m============================= test session starts ==============================\u001b[0m\n",
      "platform darwin -- Python 3.8.3, pytest-5.4.3, py-1.9.0, pluggy-0.13.1\n",
      "rootdir: /Users/fx/Dropbox/AKuriyanLab/Code/Python/Python_Scripts/mv_repo\n",
      "plugins: dash-1.16.3\n",
      "collected 2 items                                                              \u001b[0m\u001b[1m\n",
      "\n",
      "mutagenesis_visualization/tests/scripts/test_kwargs.py \u001b[32m.\u001b[0m\u001b[32m.\u001b[0m\u001b[33m                [100%]\u001b[0m\n",
      "\n",
      "\u001b[33m=============================== warnings summary ===============================\u001b[0m\n",
      "/Users/fx/opt/anaconda3/lib/python3.8/site-packages/Bio/Alphabet/__init__.py:22\n",
      "  /Users/fx/opt/anaconda3/lib/python3.8/site-packages/Bio/Alphabet/__init__.py:22: PendingDeprecationWarning: We intend to remove or replace Bio.Alphabet in 2020, ideally avoid using it explicitly in your code. Please get in touch if you will be adversely affected by this. https://github.com/biopython/biopython/issues/2046\n",
      "    warnings.warn(\n",
      "\n",
      "-- Docs: https://docs.pytest.org/en/latest/warnings.html\n",
      "\u001b[33m========================= \u001b[32m2 passed\u001b[0m, \u001b[33m\u001b[1m1 warning\u001b[0m\u001b[33m in 2.05s\u001b[0m\u001b[33m =========================\u001b[0m\n"
     ]
    }
   ],
   "source": [
    "!python -m pytest mutagenesis_visualization/tests/scripts/test_kwargs.py"
   ]
  },
  {
   "cell_type": "markdown",
   "metadata": {},
   "source": [
    "## test_heatmaps"
   ]
  },
  {
   "cell_type": "code",
   "execution_count": 6,
   "metadata": {
    "execution": {
     "iopub.execute_input": "2020-11-27T04:03:19.306811Z",
     "iopub.status.busy": "2020-11-27T04:03:19.306366Z",
     "iopub.status.idle": "2020-11-27T04:03:34.394435Z",
     "shell.execute_reply": "2020-11-27T04:03:34.393764Z",
     "shell.execute_reply.started": "2020-11-27T04:03:19.306766Z"
    }
   },
   "outputs": [
    {
     "name": "stdout",
     "output_type": "stream",
     "text": [
      "\u001b[1m============================= test session starts ==============================\u001b[0m\n",
      "platform darwin -- Python 3.8.3, pytest-5.4.3, py-1.9.0, pluggy-0.13.1\n",
      "rootdir: /Users/fx/Dropbox/AKuriyanLab/Code/Python/Python_Scripts/mv_repo\n",
      "plugins: dash-1.16.3\n",
      "collected 6 items                                                              \u001b[0m\u001b[1m\n",
      "\n",
      "mutagenesis_visualization/tests/scripts/test_heatmaps.py \u001b[32m.\u001b[0m\u001b[32m.\u001b[0m\u001b[32m.\u001b[0m\u001b[32m.\u001b[0m\u001b[32m.\u001b[0m\u001b[32m.\u001b[0m\u001b[33m          [100%]\u001b[0m\n",
      "\n",
      "\u001b[33m=============================== warnings summary ===============================\u001b[0m\n",
      "/Users/fx/opt/anaconda3/lib/python3.8/site-packages/Bio/Alphabet/__init__.py:22\n",
      "  /Users/fx/opt/anaconda3/lib/python3.8/site-packages/Bio/Alphabet/__init__.py:22: PendingDeprecationWarning: We intend to remove or replace Bio.Alphabet in 2020, ideally avoid using it explicitly in your code. Please get in touch if you will be adversely affected by this. https://github.com/biopython/biopython/issues/2046\n",
      "    warnings.warn(\n",
      "\n",
      "-- Docs: https://docs.pytest.org/en/latest/warnings.html\n",
      "\u001b[33m======================== \u001b[32m6 passed\u001b[0m, \u001b[33m\u001b[1m1 warning\u001b[0m\u001b[33m in 13.33s\u001b[0m\u001b[33m =========================\u001b[0m\n"
     ]
    }
   ],
   "source": [
    "!python -m pytest mutagenesis_visualization/tests/scripts/test_heatmaps.py"
   ]
  },
  {
   "cell_type": "markdown",
   "metadata": {},
   "source": [
    "## test_process_data"
   ]
  },
  {
   "cell_type": "code",
   "execution_count": 7,
   "metadata": {
    "execution": {
     "iopub.execute_input": "2020-11-27T04:03:34.396019Z",
     "iopub.status.busy": "2020-11-27T04:03:34.395653Z",
     "iopub.status.idle": "2020-11-27T04:03:38.382414Z",
     "shell.execute_reply": "2020-11-27T04:03:38.380662Z",
     "shell.execute_reply.started": "2020-11-27T04:03:34.395965Z"
    }
   },
   "outputs": [
    {
     "name": "stdout",
     "output_type": "stream",
     "text": [
      "\u001b[1m============================= test session starts ==============================\u001b[0m\n",
      "platform darwin -- Python 3.8.3, pytest-5.4.3, py-1.9.0, pluggy-0.13.1\n",
      "rootdir: /Users/fx/Dropbox/AKuriyanLab/Code/Python/Python_Scripts/mv_repo\n",
      "plugins: dash-1.16.3\n",
      "collected 1 item                                                               \u001b[0m\u001b[1m\n",
      "\n",
      "mutagenesis_visualization/tests/scripts/test_process_data.py \u001b[32m.\u001b[0m\u001b[33m           [100%]\u001b[0m\n",
      "\n",
      "\u001b[33m=============================== warnings summary ===============================\u001b[0m\n",
      "/Users/fx/opt/anaconda3/lib/python3.8/site-packages/Bio/Alphabet/__init__.py:22\n",
      "  /Users/fx/opt/anaconda3/lib/python3.8/site-packages/Bio/Alphabet/__init__.py:22: PendingDeprecationWarning: We intend to remove or replace Bio.Alphabet in 2020, ideally avoid using it explicitly in your code. Please get in touch if you will be adversely affected by this. https://github.com/biopython/biopython/issues/2046\n",
      "    warnings.warn(\n",
      "\n",
      "-- Docs: https://docs.pytest.org/en/latest/warnings.html\n",
      "\u001b[33m========================= \u001b[32m1 passed\u001b[0m, \u001b[33m\u001b[1m1 warning\u001b[0m\u001b[33m in 2.51s\u001b[0m\u001b[33m =========================\u001b[0m\n"
     ]
    }
   ],
   "source": [
    "!python -m pytest mutagenesis_visualization/tests/scripts/test_process_data.py"
   ]
  },
  {
   "cell_type": "markdown",
   "metadata": {},
   "source": [
    "## test_synthesis"
   ]
  },
  {
   "cell_type": "code",
   "execution_count": 8,
   "metadata": {
    "execution": {
     "iopub.execute_input": "2020-11-27T04:03:38.384163Z",
     "iopub.status.busy": "2020-11-27T04:03:38.383874Z",
     "iopub.status.idle": "2020-11-27T04:03:41.834687Z",
     "shell.execute_reply": "2020-11-27T04:03:41.833349Z",
     "shell.execute_reply.started": "2020-11-27T04:03:38.384129Z"
    }
   },
   "outputs": [
    {
     "name": "stdout",
     "output_type": "stream",
     "text": [
      "\u001b[1m============================= test session starts ==============================\u001b[0m\n",
      "platform darwin -- Python 3.8.3, pytest-5.4.3, py-1.9.0, pluggy-0.13.1\n",
      "rootdir: /Users/fx/Dropbox/AKuriyanLab/Code/Python/Python_Scripts/mv_repo\n",
      "plugins: dash-1.16.3\n",
      "collected 4 items                                                              \u001b[0m\u001b[1m\n",
      "\n",
      "mutagenesis_visualization/tests/scripts/test_synthesis.py \u001b[32m.\u001b[0m\u001b[32m.\u001b[0m\u001b[32m.\u001b[0m\u001b[32m.\u001b[0m\u001b[33m           [100%]\u001b[0m\n",
      "\n",
      "\u001b[33m=============================== warnings summary ===============================\u001b[0m\n",
      "/Users/fx/opt/anaconda3/lib/python3.8/site-packages/Bio/Alphabet/__init__.py:22\n",
      "  /Users/fx/opt/anaconda3/lib/python3.8/site-packages/Bio/Alphabet/__init__.py:22: PendingDeprecationWarning: We intend to remove or replace Bio.Alphabet in 2020, ideally avoid using it explicitly in your code. Please get in touch if you will be adversely affected by this. https://github.com/biopython/biopython/issues/2046\n",
      "    warnings.warn(\n",
      "\n",
      "-- Docs: https://docs.pytest.org/en/latest/warnings.html\n",
      "\u001b[33m========================= \u001b[32m4 passed\u001b[0m, \u001b[33m\u001b[1m1 warning\u001b[0m\u001b[33m in 2.10s\u001b[0m\u001b[33m =========================\u001b[0m\n"
     ]
    }
   ],
   "source": [
    "!python -m pytest mutagenesis_visualization/tests/scripts/test_synthesis.py"
   ]
  },
  {
   "cell_type": "markdown",
   "metadata": {},
   "source": [
    "## test_utils"
   ]
  },
  {
   "cell_type": "code",
   "execution_count": 9,
   "metadata": {
    "execution": {
     "iopub.execute_input": "2020-11-27T04:03:41.837886Z",
     "iopub.status.busy": "2020-11-27T04:03:41.837217Z",
     "iopub.status.idle": "2020-11-27T04:03:45.234246Z",
     "shell.execute_reply": "2020-11-27T04:03:45.232839Z",
     "shell.execute_reply.started": "2020-11-27T04:03:41.837816Z"
    }
   },
   "outputs": [
    {
     "name": "stdout",
     "output_type": "stream",
     "text": [
      "\u001b[1m============================= test session starts ==============================\u001b[0m\n",
      "platform darwin -- Python 3.8.3, pytest-5.4.3, py-1.9.0, pluggy-0.13.1\n",
      "rootdir: /Users/fx/Dropbox/AKuriyanLab/Code/Python/Python_Scripts/mv_repo\n",
      "plugins: dash-1.16.3\n",
      "collected 8 items                                                              \u001b[0m\u001b[1m\n",
      "\n",
      "mutagenesis_visualization/tests/scripts/test_utils.py \u001b[32m.\u001b[0m\u001b[32m.\u001b[0m\u001b[32m.\u001b[0m\u001b[32m.\u001b[0m\u001b[32m.\u001b[0m\u001b[32m.\u001b[0m\u001b[32m.\u001b[0m\u001b[32m.\u001b[0m\u001b[33m           [100%]\u001b[0m\n",
      "\n",
      "\u001b[33m=============================== warnings summary ===============================\u001b[0m\n",
      "/Users/fx/opt/anaconda3/lib/python3.8/site-packages/Bio/Alphabet/__init__.py:22\n",
      "  /Users/fx/opt/anaconda3/lib/python3.8/site-packages/Bio/Alphabet/__init__.py:22: PendingDeprecationWarning: We intend to remove or replace Bio.Alphabet in 2020, ideally avoid using it explicitly in your code. Please get in touch if you will be adversely affected by this. https://github.com/biopython/biopython/issues/2046\n",
      "    warnings.warn(\n",
      "\n",
      "-- Docs: https://docs.pytest.org/en/latest/warnings.html\n",
      "\u001b[33m========================= \u001b[32m8 passed\u001b[0m, \u001b[33m\u001b[1m1 warning\u001b[0m\u001b[33m in 2.01s\u001b[0m\u001b[33m =========================\u001b[0m\n"
     ]
    }
   ],
   "source": [
    "!python -m pytest mutagenesis_visualization/tests/scripts/test_utils.py"
   ]
  },
  {
   "cell_type": "markdown",
   "metadata": {},
   "source": [
    "## test_"
   ]
  },
  {
   "cell_type": "code",
   "execution_count": null,
   "metadata": {},
   "outputs": [],
   "source": [
    "import mutagenesis_visualization.__init__ as mt"
   ]
  },
  {
   "cell_type": "code",
   "execution_count": null,
   "metadata": {},
   "outputs": [],
   "source": [
    "mt.demo('mean')"
   ]
  },
  {
   "cell_type": "code",
   "execution_count": null,
   "metadata": {},
   "outputs": [],
   "source": [
    "mt.demo_datasets()"
   ]
  },
  {
   "cell_type": "code",
   "execution_count": null,
   "metadata": {},
   "outputs": [],
   "source": [
    "# #pip install git+https://github.com/fhidalgor/mutagenesis_visualization --use-feature=2020-resolver"
   ]
  },
  {
   "cell_type": "code",
   "execution_count": null,
   "metadata": {},
   "outputs": [],
   "source": [
    "pip install coverage"
   ]
  },
  {
   "cell_type": "code",
   "execution_count": null,
   "metadata": {},
   "outputs": [],
   "source": [
    "!coverage run -m pytest mutagenesis_visualization"
   ]
  },
  {
   "cell_type": "markdown",
   "metadata": {},
   "source": [
    "# Doc formatter"
   ]
  },
  {
   "cell_type": "code",
   "execution_count": 13,
   "metadata": {
    "execution": {
     "iopub.execute_input": "2020-11-27T03:21:32.247404Z",
     "iopub.status.busy": "2020-11-27T03:21:32.246939Z",
     "iopub.status.idle": "2020-11-27T03:21:32.457351Z",
     "shell.execute_reply": "2020-11-27T03:21:32.456312Z",
     "shell.execute_reply.started": "2020-11-27T03:21:32.247362Z"
    }
   },
   "outputs": [],
   "source": [
    "!docformatter --in-place --pre-summary-newline --make-summary-multi-line --wrap-summaries 79 --wrap-descriptions 72 --blank mutagenesis_visualization/main/scripts/code_class.py"
   ]
  },
  {
   "cell_type": "code",
   "execution_count": 8,
   "metadata": {
    "execution": {
     "iopub.execute_input": "2020-11-27T03:08:10.572147Z",
     "iopub.status.busy": "2020-11-27T03:08:10.571812Z",
     "iopub.status.idle": "2020-11-27T03:08:10.797697Z",
     "shell.execute_reply": "2020-11-27T03:08:10.795683Z",
     "shell.execute_reply.started": "2020-11-27T03:08:10.572112Z"
    }
   },
   "outputs": [],
   "source": [
    "!docformatter --in-place --pre-summary-newline --blank mutagenesis_visualization/main/notebooks/code_other.ipynb"
   ]
  },
  {
   "cell_type": "code",
   "execution_count": 11,
   "metadata": {
    "execution": {
     "iopub.execute_input": "2020-11-27T03:20:25.996852Z",
     "iopub.status.busy": "2020-11-27T03:20:25.996459Z",
     "iopub.status.idle": "2020-11-27T03:20:26.535777Z",
     "shell.execute_reply": "2020-11-27T03:20:26.532417Z",
     "shell.execute_reply.started": "2020-11-27T03:20:25.996818Z"
    }
   },
   "outputs": [],
   "source": [
    "!docformatter --in-place --pre-summary-newline --make-summary-multi-line --wrap-summaries 79 --wrap-descriptions 72 --blank mutagenesis_visualization/main/notebooks/code_*"
   ]
  },
  {
   "cell_type": "code",
   "execution_count": null,
   "metadata": {},
   "outputs": [],
   "source": []
  }
 ],
 "metadata": {
  "kernelspec": {
   "display_name": "Python 3",
   "language": "python",
   "name": "python3"
  },
  "language_info": {
   "codemirror_mode": {
    "name": "ipython",
    "version": 3
   },
   "file_extension": ".py",
   "mimetype": "text/x-python",
   "name": "python",
   "nbconvert_exporter": "python",
   "pygments_lexer": "ipython3",
   "version": "3.8.3"
  }
 },
 "nbformat": 4,
 "nbformat_minor": 4
}
