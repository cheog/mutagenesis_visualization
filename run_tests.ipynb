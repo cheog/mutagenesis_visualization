{
 "cells": [
  {
   "cell_type": "markdown",
   "metadata": {},
   "source": [
    "# Convert the ipynb to py files"
   ]
  },
  {
   "cell_type": "markdown",
   "metadata": {},
   "source": [
    "Convert main scripts"
   ]
  },
  {
   "cell_type": "code",
   "execution_count": 21,
   "metadata": {
    "execution": {
     "iopub.execute_input": "2021-01-20T02:56:48.871102Z",
     "iopub.status.busy": "2021-01-20T02:56:48.870573Z",
     "iopub.status.idle": "2021-01-20T02:56:52.700762Z",
     "shell.execute_reply": "2021-01-20T02:56:52.699854Z",
     "shell.execute_reply.started": "2021-01-20T02:56:48.871067Z"
    }
   },
   "outputs": [],
   "source": [
    "%%capture\n",
    "!jupyter nbconvert --output-dir='mutagenesis_visualization/main/scripts' --to script mutagenesis_visualization/main/notebooks/code_*.ipynb"
   ]
  },
  {
   "cell_type": "markdown",
   "metadata": {},
   "source": [
    "Dashboard"
   ]
  },
  {
   "cell_type": "code",
   "execution_count": null,
   "metadata": {},
   "outputs": [],
   "source": [
    "!jupyter nbconvert --output-dir='../mv_dashboard/' --to script mutagenesis_visualization/main/notebooks/mv_dashboard.ipynb\n"
   ]
  },
  {
   "cell_type": "markdown",
   "metadata": {},
   "source": [
    "Convert tests"
   ]
  },
  {
   "cell_type": "code",
   "execution_count": 24,
   "metadata": {
    "execution": {
     "iopub.execute_input": "2021-01-20T03:01:07.799907Z",
     "iopub.status.busy": "2021-01-20T03:01:07.799543Z",
     "iopub.status.idle": "2021-01-20T03:01:09.944807Z",
     "shell.execute_reply": "2021-01-20T03:01:09.942699Z",
     "shell.execute_reply.started": "2021-01-20T03:01:07.799867Z"
    }
   },
   "outputs": [],
   "source": [
    "%%capture\n",
    "!jupyter nbconvert --output-dir='mutagenesis_visualization/tests/scripts' --to script mutagenesis_visualization/tests/notebooks/test_*"
   ]
  },
  {
   "cell_type": "markdown",
   "metadata": {
    "jupyter": {
     "source_hidden": true
    }
   },
   "source": [
    "# Convert the doc ipynb to rst files (and clean output)"
   ]
  },
  {
   "cell_type": "markdown",
   "metadata": {},
   "source": [
    "Clean output"
   ]
  },
  {
   "cell_type": "code",
   "execution_count": null,
   "metadata": {},
   "outputs": [],
   "source": [
    "%%capture\n",
    "!jupyter nbconvert --ClearOutputPreprocessor.enabled=True --clear-output --inplace mutagenesis_visualization/tutorial/doc*.ipynb"
   ]
  },
  {
   "cell_type": "markdown",
   "metadata": {},
   "source": [
    "Convert to rst"
   ]
  },
  {
   "cell_type": "code",
   "execution_count": null,
   "metadata": {},
   "outputs": [],
   "source": [
    "%%capture\n",
    "!jupyter nbconvert --output-dir='docs/' --to rst mutagenesis_visualization/tutorial/doc*.ipynb\n",
    "\n",
    "# edit image loading from doc0_intro.rst\n",
    "with open(\"docs/doc0_intro.rst\", \"r\") as f:\n",
    "    lines = f.readlines()\n",
    "with open(\"docs/doc0_intro.rst\", \"w\") as f:\n",
    "    for line in lines:\n",
    "        if line.strip(\"\\n\") == \".. |image1| image:: ../../docs/_static/workflow_v3.png\":\n",
    "            f.write(\".. |image1| image:: _static/workflow_v3.png\\n\")\n",
    "        else:\n",
    "            f.write(line)"
   ]
  },
  {
   "cell_type": "markdown",
   "metadata": {},
   "source": [
    "# Build documentation with Sphinx"
   ]
  },
  {
   "cell_type": "code",
   "execution_count": null,
   "metadata": {},
   "outputs": [],
   "source": [
    "%%capture\n",
    "! python3 -m sphinx docs build"
   ]
  },
  {
   "cell_type": "markdown",
   "metadata": {},
   "source": [
    "# Run all tests"
   ]
  },
  {
   "cell_type": "code",
   "execution_count": null,
   "metadata": {},
   "outputs": [],
   "source": [
    "!python -m pytest mutagenesis_visualization/"
   ]
  },
  {
   "cell_type": "markdown",
   "metadata": {},
   "source": [
    "# Run Test by test"
   ]
  },
  {
   "cell_type": "markdown",
   "metadata": {},
   "source": [
    "## test_3D"
   ]
  },
  {
   "cell_type": "code",
   "execution_count": 4,
   "metadata": {
    "execution": {
     "iopub.execute_input": "2021-01-20T02:48:36.671256Z",
     "iopub.status.busy": "2021-01-20T02:48:36.671026Z",
     "iopub.status.idle": "2021-01-20T02:48:39.888226Z",
     "shell.execute_reply": "2021-01-20T02:48:39.886856Z",
     "shell.execute_reply.started": "2021-01-20T02:48:36.671232Z"
    }
   },
   "outputs": [
    {
     "name": "stdout",
     "output_type": "stream",
     "text": [
      "\u001b[1m============================= test session starts ==============================\u001b[0m\n",
      "platform darwin -- Python 3.8.3, pytest-5.4.3, py-1.9.0, pluggy-0.13.1\n",
      "rootdir: /Users/fx/Dropbox/AKuriyanLab/Code/Python/Python_Scripts/mv_repo\n",
      "plugins: dash-1.17.0\n",
      "collected 2 items                                                              \u001b[0m\u001b[1m\n",
      "\n",
      "mutagenesis_visualization/tests/scripts/test_3D.py \u001b[32m.\u001b[0m\u001b[32m.\u001b[0m\n",
      "\n",
      "\u001b[33m=============================== warnings summary ===============================\u001b[0m\n",
      "/Users/fx/opt/anaconda3/lib/python3.8/site-packages/Bio/Alphabet/__init__.py:22\n",
      "  /Users/fx/opt/anaconda3/lib/python3.8/site-packages/Bio/Alphabet/__init__.py:22: PendingDeprecationWarning: We intend to remove or replace Bio.Alphabet in 2020, ideally avoid using it explicitly in your code. Please get in touch if you will be adversely affected by this. https://github.com/biopython/biopython/issues/2046\n",
      "    warnings.warn(\n",
      "\n",
      "-- Docs: https://docs.pytest.org/en/latest/warnings.html\n",
      "\u001b[33m========================= \u001b[32m2 passed\u001b[0m, \u001b[33m\u001b[1m1 warning\u001b[0m\u001b[33m in 2.02s\u001b[0m\u001b[33m =========================\u001b[0m\n"
     ]
    }
   ],
   "source": [
    "!python -m pytest -s mutagenesis_visualization/tests/scripts/test_3D.py"
   ]
  },
  {
   "cell_type": "markdown",
   "metadata": {},
   "source": [
    "## test_class"
   ]
  },
  {
   "cell_type": "code",
   "execution_count": 5,
   "metadata": {
    "execution": {
     "iopub.execute_input": "2021-01-20T02:48:39.893104Z",
     "iopub.status.busy": "2021-01-20T02:48:39.892461Z",
     "iopub.status.idle": "2021-01-20T02:48:43.274677Z",
     "shell.execute_reply": "2021-01-20T02:48:43.273405Z",
     "shell.execute_reply.started": "2021-01-20T02:48:39.892858Z"
    }
   },
   "outputs": [
    {
     "name": "stdout",
     "output_type": "stream",
     "text": [
      "\u001b[1m============================= test session starts ==============================\u001b[0m\n",
      "platform darwin -- Python 3.8.3, pytest-5.4.3, py-1.9.0, pluggy-0.13.1\n",
      "rootdir: /Users/fx/Dropbox/AKuriyanLab/Code/Python/Python_Scripts/mv_repo\n",
      "plugins: dash-1.17.0\n",
      "collected 2 items                                                              \u001b[0m\u001b[1m\n",
      "\n",
      "mutagenesis_visualization/tests/scripts/test_class.py \u001b[32m.\u001b[0m\u001b[32m.\u001b[0m\n",
      "\n",
      "\u001b[33m=============================== warnings summary ===============================\u001b[0m\n",
      "/Users/fx/opt/anaconda3/lib/python3.8/site-packages/Bio/Alphabet/__init__.py:22\n",
      "  /Users/fx/opt/anaconda3/lib/python3.8/site-packages/Bio/Alphabet/__init__.py:22: PendingDeprecationWarning: We intend to remove or replace Bio.Alphabet in 2020, ideally avoid using it explicitly in your code. Please get in touch if you will be adversely affected by this. https://github.com/biopython/biopython/issues/2046\n",
      "    warnings.warn(\n",
      "\n",
      "-- Docs: https://docs.pytest.org/en/latest/warnings.html\n",
      "\u001b[33m========================= \u001b[32m2 passed\u001b[0m, \u001b[33m\u001b[1m1 warning\u001b[0m\u001b[33m in 2.09s\u001b[0m\u001b[33m =========================\u001b[0m\n"
     ]
    }
   ],
   "source": [
    "!python -m pytest -s mutagenesis_visualization/tests/scripts/test_class.py"
   ]
  },
  {
   "cell_type": "markdown",
   "metadata": {},
   "source": [
    "## test_create_objects"
   ]
  },
  {
   "cell_type": "code",
   "execution_count": 6,
   "metadata": {
    "execution": {
     "iopub.execute_input": "2021-01-20T02:48:43.278251Z",
     "iopub.status.busy": "2021-01-20T02:48:43.277561Z",
     "iopub.status.idle": "2021-01-20T02:48:49.550384Z",
     "shell.execute_reply": "2021-01-20T02:48:49.548929Z",
     "shell.execute_reply.started": "2021-01-20T02:48:43.278183Z"
    }
   },
   "outputs": [
    {
     "name": "stdout",
     "output_type": "stream",
     "text": [
      "\u001b[1m============================= test session starts ==============================\u001b[0m\n",
      "platform darwin -- Python 3.8.3, pytest-5.4.3, py-1.9.0, pluggy-0.13.1\n",
      "rootdir: /Users/fx/Dropbox/AKuriyanLab/Code/Python/Python_Scripts/mv_repo\n",
      "plugins: dash-1.17.0\n",
      "collected 1 item                                                               \u001b[0m\u001b[1m\n",
      "\n",
      "mutagenesis_visualization/tests/scripts/test_create_objects.py \u001b[32m.\u001b[0m\n",
      "\n",
      "\u001b[33m=============================== warnings summary ===============================\u001b[0m\n",
      "/Users/fx/opt/anaconda3/lib/python3.8/site-packages/Bio/Alphabet/__init__.py:22\n",
      "  /Users/fx/opt/anaconda3/lib/python3.8/site-packages/Bio/Alphabet/__init__.py:22: PendingDeprecationWarning: We intend to remove or replace Bio.Alphabet in 2020, ideally avoid using it explicitly in your code. Please get in touch if you will be adversely affected by this. https://github.com/biopython/biopython/issues/2046\n",
      "    warnings.warn(\n",
      "\n",
      "-- Docs: https://docs.pytest.org/en/latest/warnings.html\n",
      "\u001b[33m========================= \u001b[32m1 passed\u001b[0m, \u001b[33m\u001b[1m1 warning\u001b[0m\u001b[33m in 5.06s\u001b[0m\u001b[33m =========================\u001b[0m\n"
     ]
    }
   ],
   "source": [
    "!python -m pytest -s mutagenesis_visualization/tests/scripts/test_create_objects.py"
   ]
  },
  {
   "cell_type": "markdown",
   "metadata": {},
   "source": [
    "## test_demo"
   ]
  },
  {
   "cell_type": "code",
   "execution_count": 7,
   "metadata": {
    "execution": {
     "iopub.execute_input": "2021-01-20T02:48:53.264464Z",
     "iopub.status.busy": "2021-01-20T02:48:53.264206Z",
     "iopub.status.idle": "2021-01-20T02:49:00.681659Z",
     "shell.execute_reply": "2021-01-20T02:49:00.679399Z",
     "shell.execute_reply.started": "2021-01-20T02:48:53.264437Z"
    }
   },
   "outputs": [
    {
     "name": "stdout",
     "output_type": "stream",
     "text": [
      "\u001b[1m============================= test session starts ==============================\u001b[0m\n",
      "platform darwin -- Python 3.8.3, pytest-5.4.3, py-1.9.0, pluggy-0.13.1\n",
      "rootdir: /Users/fx/Dropbox/AKuriyanLab/Code/Python/Python_Scripts/mv_repo\n",
      "plugins: dash-1.17.0\n",
      "collected 4 items                                                              \u001b[0m\u001b[1m\n",
      "\n",
      "mutagenesis_visualization/tests/scripts/test_demo.py \u001b[32m.\u001b[0m\u001b[32m.\u001b[0m\u001b[32m.\u001b[0m/Users/fx/Dropbox/AKuriyanLab/Code/Python/Python_Scripts/mv_repo/mutagenesis_visualization/main/scripts\n",
      "\u001b[32m.\u001b[0m\n",
      "\n",
      "\u001b[33m=============================== warnings summary ===============================\u001b[0m\n",
      "/Users/fx/opt/anaconda3/lib/python3.8/site-packages/Bio/Alphabet/__init__.py:22\n",
      "  /Users/fx/opt/anaconda3/lib/python3.8/site-packages/Bio/Alphabet/__init__.py:22: PendingDeprecationWarning: We intend to remove or replace Bio.Alphabet in 2020, ideally avoid using it explicitly in your code. Please get in touch if you will be adversely affected by this. https://github.com/biopython/biopython/issues/2046\n",
      "    warnings.warn(\n",
      "\n",
      "-- Docs: https://docs.pytest.org/en/latest/warnings.html\n",
      "\u001b[33m========================= \u001b[32m4 passed\u001b[0m, \u001b[33m\u001b[1m1 warning\u001b[0m\u001b[33m in 6.29s\u001b[0m\u001b[33m =========================\u001b[0m\n"
     ]
    }
   ],
   "source": [
    "!python -m pytest -s mutagenesis_visualization/tests/scripts/test_demo.py"
   ]
  },
  {
   "cell_type": "markdown",
   "metadata": {},
   "source": [
    "## test_heatmaps"
   ]
  },
  {
   "cell_type": "code",
   "execution_count": 8,
   "metadata": {
    "execution": {
     "iopub.execute_input": "2021-01-20T02:49:04.281829Z",
     "iopub.status.busy": "2021-01-20T02:49:04.281557Z",
     "iopub.status.idle": "2021-01-20T02:49:16.813479Z",
     "shell.execute_reply": "2021-01-20T02:49:16.811934Z",
     "shell.execute_reply.started": "2021-01-20T02:49:04.281800Z"
    }
   },
   "outputs": [
    {
     "name": "stdout",
     "output_type": "stream",
     "text": [
      "\u001b[1m============================= test session starts ==============================\u001b[0m\n",
      "platform darwin -- Python 3.8.3, pytest-5.4.3, py-1.9.0, pluggy-0.13.1\n",
      "rootdir: /Users/fx/Dropbox/AKuriyanLab/Code/Python/Python_Scripts/mv_repo\n",
      "plugins: dash-1.17.0\n",
      "collected 6 items                                                              \u001b[0m\u001b[1m\n",
      "\n",
      "mutagenesis_visualization/tests/scripts/test_heatmaps.py \u001b[32m.\u001b[0m\u001b[32m.\u001b[0m\u001b[32m.\u001b[0m\u001b[32m.\u001b[0m\u001b[32m.\u001b[0m\u001b[32m.\u001b[0m\u001b[33m          [100%]\u001b[0m\n",
      "\n",
      "\u001b[33m=============================== warnings summary ===============================\u001b[0m\n",
      "/Users/fx/opt/anaconda3/lib/python3.8/site-packages/Bio/Alphabet/__init__.py:22\n",
      "  /Users/fx/opt/anaconda3/lib/python3.8/site-packages/Bio/Alphabet/__init__.py:22: PendingDeprecationWarning: We intend to remove or replace Bio.Alphabet in 2020, ideally avoid using it explicitly in your code. Please get in touch if you will be adversely affected by this. https://github.com/biopython/biopython/issues/2046\n",
      "    warnings.warn(\n",
      "\n",
      "-- Docs: https://docs.pytest.org/en/latest/warnings.html\n",
      "\u001b[33m======================== \u001b[32m6 passed\u001b[0m, \u001b[33m\u001b[1m1 warning\u001b[0m\u001b[33m in 11.18s\u001b[0m\u001b[33m =========================\u001b[0m\n"
     ]
    }
   ],
   "source": [
    "!python -m pytest mutagenesis_visualization/tests/scripts/test_heatmaps.py"
   ]
  },
  {
   "cell_type": "markdown",
   "metadata": {
    "execution": {
     "iopub.execute_input": "2021-01-20T00:27:30.604570Z",
     "iopub.status.busy": "2021-01-20T00:27:30.604026Z",
     "iopub.status.idle": "2021-01-20T00:27:30.609076Z",
     "shell.execute_reply": "2021-01-20T00:27:30.607775Z",
     "shell.execute_reply.started": "2021-01-20T00:27:30.604531Z"
    }
   },
   "source": [
    "## test_kernel"
   ]
  },
  {
   "cell_type": "code",
   "execution_count": 9,
   "metadata": {
    "execution": {
     "iopub.execute_input": "2021-01-20T02:49:16.817336Z",
     "iopub.status.busy": "2021-01-20T02:49:16.816560Z",
     "iopub.status.idle": "2021-01-20T02:49:20.186559Z",
     "shell.execute_reply": "2021-01-20T02:49:20.185469Z",
     "shell.execute_reply.started": "2021-01-20T02:49:16.817254Z"
    }
   },
   "outputs": [
    {
     "name": "stdout",
     "output_type": "stream",
     "text": [
      "\u001b[1m============================= test session starts ==============================\u001b[0m\n",
      "platform darwin -- Python 3.8.3, pytest-5.4.3, py-1.9.0, pluggy-0.13.1\n",
      "rootdir: /Users/fx/Dropbox/AKuriyanLab/Code/Python/Python_Scripts/mv_repo\n",
      "plugins: dash-1.17.0\n",
      "collected 2 items                                                              \u001b[0m\u001b[1m\n",
      "\n",
      "mutagenesis_visualization/tests/scripts/test_kernel.py \u001b[32m.\u001b[0m\u001b[32m.\u001b[0m\u001b[33m                [100%]\u001b[0m\n",
      "\n",
      "\u001b[33m=============================== warnings summary ===============================\u001b[0m\n",
      "/Users/fx/opt/anaconda3/lib/python3.8/site-packages/Bio/Alphabet/__init__.py:22\n",
      "  /Users/fx/opt/anaconda3/lib/python3.8/site-packages/Bio/Alphabet/__init__.py:22: PendingDeprecationWarning: We intend to remove or replace Bio.Alphabet in 2020, ideally avoid using it explicitly in your code. Please get in touch if you will be adversely affected by this. https://github.com/biopython/biopython/issues/2046\n",
      "    warnings.warn(\n",
      "\n",
      "mutagenesis_visualization/tests/scripts/test_kernel.py::test_plot_histogram\n",
      "  /Users/fx/opt/anaconda3/lib/python3.8/site-packages/numpy/lib/histograms.py:839: RuntimeWarning: invalid value encountered in greater_equal\n",
      "    keep = (tmp_a >= first_edge)\n",
      "\n",
      "mutagenesis_visualization/tests/scripts/test_kernel.py::test_plot_histogram\n",
      "  /Users/fx/opt/anaconda3/lib/python3.8/site-packages/numpy/lib/histograms.py:840: RuntimeWarning: invalid value encountered in less_equal\n",
      "    keep &= (tmp_a <= last_edge)\n",
      "\n",
      "-- Docs: https://docs.pytest.org/en/latest/warnings.html\n",
      "\u001b[33m======================== \u001b[32m2 passed\u001b[0m, \u001b[33m\u001b[1m3 warnings\u001b[0m\u001b[33m in 2.30s\u001b[0m\u001b[33m =========================\u001b[0m\n"
     ]
    }
   ],
   "source": [
    "!python -m pytest mutagenesis_visualization/tests/scripts/test_kernel.py"
   ]
  },
  {
   "cell_type": "markdown",
   "metadata": {},
   "source": [
    "## test_kwargs"
   ]
  },
  {
   "cell_type": "code",
   "execution_count": 10,
   "metadata": {
    "execution": {
     "iopub.execute_input": "2021-01-20T02:49:20.189790Z",
     "iopub.status.busy": "2021-01-20T02:49:20.188933Z",
     "iopub.status.idle": "2021-01-20T02:49:22.998046Z",
     "shell.execute_reply": "2021-01-20T02:49:22.996485Z",
     "shell.execute_reply.started": "2021-01-20T02:49:20.189746Z"
    }
   },
   "outputs": [
    {
     "name": "stdout",
     "output_type": "stream",
     "text": [
      "\u001b[1m============================= test session starts ==============================\u001b[0m\n",
      "platform darwin -- Python 3.8.3, pytest-5.4.3, py-1.9.0, pluggy-0.13.1\n",
      "rootdir: /Users/fx/Dropbox/AKuriyanLab/Code/Python/Python_Scripts/mv_repo\n",
      "plugins: dash-1.17.0\n",
      "collected 2 items                                                              \u001b[0m\u001b[1m\n",
      "\n",
      "mutagenesis_visualization/tests/scripts/test_kwargs.py \u001b[32m.\u001b[0m\u001b[32m.\u001b[0m\u001b[33m                [100%]\u001b[0m\n",
      "\n",
      "\u001b[33m=============================== warnings summary ===============================\u001b[0m\n",
      "/Users/fx/opt/anaconda3/lib/python3.8/site-packages/Bio/Alphabet/__init__.py:22\n",
      "  /Users/fx/opt/anaconda3/lib/python3.8/site-packages/Bio/Alphabet/__init__.py:22: PendingDeprecationWarning: We intend to remove or replace Bio.Alphabet in 2020, ideally avoid using it explicitly in your code. Please get in touch if you will be adversely affected by this. https://github.com/biopython/biopython/issues/2046\n",
      "    warnings.warn(\n",
      "\n",
      "-- Docs: https://docs.pytest.org/en/latest/warnings.html\n",
      "\u001b[33m========================= \u001b[32m2 passed\u001b[0m, \u001b[33m\u001b[1m1 warning\u001b[0m\u001b[33m in 1.74s\u001b[0m\u001b[33m =========================\u001b[0m\n"
     ]
    }
   ],
   "source": [
    "!python -m pytest mutagenesis_visualization/tests/scripts/test_kwargs.py"
   ]
  },
  {
   "cell_type": "markdown",
   "metadata": {},
   "source": [
    "## test_other"
   ]
  },
  {
   "cell_type": "code",
   "execution_count": 3,
   "metadata": {
    "execution": {
     "iopub.execute_input": "2021-01-20T02:47:55.665765Z",
     "iopub.status.busy": "2021-01-20T02:47:55.665458Z",
     "iopub.status.idle": "2021-01-20T02:48:05.710317Z",
     "shell.execute_reply": "2021-01-20T02:48:05.709599Z",
     "shell.execute_reply.started": "2021-01-20T02:47:55.665731Z"
    }
   },
   "outputs": [
    {
     "name": "stdout",
     "output_type": "stream",
     "text": [
      "\u001b[1m============================= test session starts ==============================\u001b[0m\n",
      "platform darwin -- Python 3.8.3, pytest-5.4.3, py-1.9.0, pluggy-0.13.1\n",
      "rootdir: /Users/fx/Dropbox/AKuriyanLab/Code/Python/Python_Scripts/mv_repo\n",
      "plugins: dash-1.17.0\n",
      "collected 6 items                                                              \u001b[0m\u001b[1m\n",
      "\n",
      "mutagenesis_visualization/tests/scripts/test_other.py \u001b[32m.\u001b[0m\u001b[32m.\u001b[0m\u001b[32m.\u001b[0m\u001b[32m.\u001b[0m\u001b[32m.\u001b[0m\u001b[32m.\u001b[0m\u001b[33m             [100%]\u001b[0m\n",
      "\n",
      "\u001b[33m=============================== warnings summary ===============================\u001b[0m\n",
      "/Users/fx/opt/anaconda3/lib/python3.8/site-packages/Bio/Alphabet/__init__.py:22\n",
      "  /Users/fx/opt/anaconda3/lib/python3.8/site-packages/Bio/Alphabet/__init__.py:22: PendingDeprecationWarning: We intend to remove or replace Bio.Alphabet in 2020, ideally avoid using it explicitly in your code. Please get in touch if you will be adversely affected by this. https://github.com/biopython/biopython/issues/2046\n",
      "    warnings.warn(\n",
      "\n",
      "-- Docs: https://docs.pytest.org/en/latest/warnings.html\n",
      "\u001b[33m========================= \u001b[32m6 passed\u001b[0m, \u001b[33m\u001b[1m1 warning\u001b[0m\u001b[33m in 8.64s\u001b[0m\u001b[33m =========================\u001b[0m\n"
     ]
    }
   ],
   "source": [
    "!python -m pytest mutagenesis_visualization/tests/scripts/test_other.py"
   ]
  },
  {
   "cell_type": "markdown",
   "metadata": {},
   "source": [
    "## test_PCA"
   ]
  },
  {
   "cell_type": "code",
   "execution_count": 11,
   "metadata": {
    "execution": {
     "iopub.execute_input": "2021-01-20T02:49:27.834372Z",
     "iopub.status.busy": "2021-01-20T02:49:27.833997Z",
     "iopub.status.idle": "2021-01-20T02:49:42.996529Z",
     "shell.execute_reply": "2021-01-20T02:49:42.994927Z",
     "shell.execute_reply.started": "2021-01-20T02:49:27.834337Z"
    }
   },
   "outputs": [
    {
     "name": "stdout",
     "output_type": "stream",
     "text": [
      "\u001b[1m============================= test session starts ==============================\u001b[0m\n",
      "platform darwin -- Python 3.8.3, pytest-5.4.3, py-1.9.0, pluggy-0.13.1\n",
      "rootdir: /Users/fx/Dropbox/AKuriyanLab/Code/Python/Python_Scripts/mv_repo\n",
      "plugins: dash-1.17.0\n",
      "collected 4 items                                                              \u001b[0m\u001b[1m\n",
      "\n",
      "mutagenesis_visualization/tests/scripts/test_PCA.py \u001b[32m.\u001b[0m\u001b[32m.\u001b[0m\u001b[32m.\u001b[0m\u001b[32m.\u001b[0m\u001b[33m                 [100%]\u001b[0m\n",
      "\n",
      "\u001b[33m=============================== warnings summary ===============================\u001b[0m\n",
      "/Users/fx/opt/anaconda3/lib/python3.8/site-packages/Bio/Alphabet/__init__.py:22\n",
      "  /Users/fx/opt/anaconda3/lib/python3.8/site-packages/Bio/Alphabet/__init__.py:22: PendingDeprecationWarning: We intend to remove or replace Bio.Alphabet in 2020, ideally avoid using it explicitly in your code. Please get in touch if you will be adversely affected by this. https://github.com/biopython/biopython/issues/2046\n",
      "    warnings.warn(\n",
      "\n",
      "-- Docs: https://docs.pytest.org/en/latest/warnings.html\n",
      "\u001b[33m======================== \u001b[32m4 passed\u001b[0m, \u001b[33m\u001b[1m1 warning\u001b[0m\u001b[33m in 13.96s\u001b[0m\u001b[33m =========================\u001b[0m\n"
     ]
    }
   ],
   "source": [
    "!python -m pytest mutagenesis_visualization/tests/scripts/test_PCA.py"
   ]
  },
  {
   "cell_type": "markdown",
   "metadata": {},
   "source": [
    "## test_plotly"
   ]
  },
  {
   "cell_type": "code",
   "execution_count": 25,
   "metadata": {
    "execution": {
     "iopub.execute_input": "2021-01-20T03:01:15.541451Z",
     "iopub.status.busy": "2021-01-20T03:01:15.541202Z",
     "iopub.status.idle": "2021-01-20T03:01:23.971903Z",
     "shell.execute_reply": "2021-01-20T03:01:23.970451Z",
     "shell.execute_reply.started": "2021-01-20T03:01:15.541423Z"
    }
   },
   "outputs": [
    {
     "name": "stdout",
     "output_type": "stream",
     "text": [
      "\u001b[1m============================= test session starts ==============================\u001b[0m\n",
      "platform darwin -- Python 3.8.3, pytest-5.4.3, py-1.9.0, pluggy-0.13.1\n",
      "rootdir: /Users/fx/Dropbox/AKuriyanLab/Code/Python/Python_Scripts/mv_repo\n",
      "plugins: dash-1.17.0\n",
      "collected 6 items                                                              \u001b[0m\u001b[1m\n",
      "\n",
      "mutagenesis_visualization/tests/scripts/test_plotly.py \u001b[32m.\u001b[0m\u001b[32m.\u001b[0m\u001b[32m.\u001b[0m\u001b[32m.\u001b[0m\u001b[32m.\u001b[0m\u001b[32m.\u001b[0m\u001b[33m            [100%]\u001b[0m\n",
      "\n",
      "\u001b[33m=============================== warnings summary ===============================\u001b[0m\n",
      "/Users/fx/opt/anaconda3/lib/python3.8/site-packages/Bio/Alphabet/__init__.py:22\n",
      "  /Users/fx/opt/anaconda3/lib/python3.8/site-packages/Bio/Alphabet/__init__.py:22: PendingDeprecationWarning: We intend to remove or replace Bio.Alphabet in 2020, ideally avoid using it explicitly in your code. Please get in touch if you will be adversely affected by this. https://github.com/biopython/biopython/issues/2046\n",
      "    warnings.warn(\n",
      "\n",
      "mutagenesis_visualization/tests/scripts/test_plotly.py::test_plot_scatter_plotly\n",
      "  /Users/fx/opt/anaconda3/lib/python3.8/site-packages/patsy/constraint.py:13: DeprecationWarning:\n",
      "  \n",
      "  Using or importing the ABCs from 'collections' instead of from 'collections.abc' is deprecated since Python 3.3, and in 3.9 it will stop working\n",
      "\n",
      "mutagenesis_visualization/tests/scripts/test_plotly.py::test_plot_scatter_plotly\n",
      "  <frozen importlib._bootstrap>:219: RuntimeWarning:\n",
      "  \n",
      "  numpy.ufunc size changed, may indicate binary incompatibility. Expected 192 from C header, got 216 from PyObject\n",
      "\n",
      "-- Docs: https://docs.pytest.org/en/latest/warnings.html\n",
      "\u001b[33m======================== \u001b[32m6 passed\u001b[0m, \u001b[33m\u001b[1m3 warnings\u001b[0m\u001b[33m in 6.91s\u001b[0m\u001b[33m =========================\u001b[0m\n"
     ]
    }
   ],
   "source": [
    "!python -m pytest mutagenesis_visualization/tests/scripts/test_plotly.py"
   ]
  },
  {
   "cell_type": "markdown",
   "metadata": {},
   "source": [
    "## test_process_data"
   ]
  },
  {
   "cell_type": "code",
   "execution_count": 13,
   "metadata": {
    "execution": {
     "iopub.execute_input": "2021-01-20T02:49:48.852049Z",
     "iopub.status.busy": "2021-01-20T02:49:48.851782Z",
     "iopub.status.idle": "2021-01-20T02:49:51.828301Z",
     "shell.execute_reply": "2021-01-20T02:49:51.826541Z",
     "shell.execute_reply.started": "2021-01-20T02:49:48.852015Z"
    }
   },
   "outputs": [
    {
     "name": "stdout",
     "output_type": "stream",
     "text": [
      "\u001b[1m============================= test session starts ==============================\u001b[0m\n",
      "platform darwin -- Python 3.8.3, pytest-5.4.3, py-1.9.0, pluggy-0.13.1\n",
      "rootdir: /Users/fx/Dropbox/AKuriyanLab/Code/Python/Python_Scripts/mv_repo\n",
      "plugins: dash-1.17.0\n",
      "collected 1 item                                                               \u001b[0m\u001b[1m\n",
      "\n",
      "mutagenesis_visualization/tests/scripts/test_process_data.py \u001b[32m.\u001b[0m\u001b[33m           [100%]\u001b[0m\n",
      "\n",
      "\u001b[33m=============================== warnings summary ===============================\u001b[0m\n",
      "/Users/fx/opt/anaconda3/lib/python3.8/site-packages/Bio/Alphabet/__init__.py:22\n",
      "  /Users/fx/opt/anaconda3/lib/python3.8/site-packages/Bio/Alphabet/__init__.py:22: PendingDeprecationWarning: We intend to remove or replace Bio.Alphabet in 2020, ideally avoid using it explicitly in your code. Please get in touch if you will be adversely affected by this. https://github.com/biopython/biopython/issues/2046\n",
      "    warnings.warn(\n",
      "\n",
      "-- Docs: https://docs.pytest.org/en/latest/warnings.html\n",
      "\u001b[33m========================= \u001b[32m1 passed\u001b[0m, \u001b[33m\u001b[1m1 warning\u001b[0m\u001b[33m in 1.87s\u001b[0m\u001b[33m =========================\u001b[0m\n"
     ]
    }
   ],
   "source": [
    "!python -m pytest mutagenesis_visualization/tests/scripts/test_process_data.py"
   ]
  },
  {
   "cell_type": "markdown",
   "metadata": {},
   "source": [
    "## test_pymol"
   ]
  },
  {
   "cell_type": "code",
   "execution_count": 14,
   "metadata": {
    "execution": {
     "iopub.execute_input": "2021-01-20T02:49:51.831789Z",
     "iopub.status.busy": "2021-01-20T02:49:51.831109Z",
     "iopub.status.idle": "2021-01-20T02:49:55.507124Z",
     "shell.execute_reply": "2021-01-20T02:49:55.505973Z",
     "shell.execute_reply.started": "2021-01-20T02:49:51.831712Z"
    }
   },
   "outputs": [
    {
     "name": "stdout",
     "output_type": "stream",
     "text": [
      "\u001b[1m============================= test session starts ==============================\u001b[0m\n",
      "platform darwin -- Python 3.8.3, pytest-5.4.3, py-1.9.0, pluggy-0.13.1\n",
      "rootdir: /Users/fx/Dropbox/AKuriyanLab/Code/Python/Python_Scripts/mv_repo\n",
      "plugins: dash-1.17.0\n",
      "\u001b[1mcollecting ... \u001b[0mxml-rpc server running on host localhost, port 9123\n",
      "collected 1 item                                                               \u001b[0m\u001b[1m\n",
      "\n",
      "mutagenesis_visualization/tests/scripts/test_pymol.py \u001b[32m.\u001b[0m\n",
      "\n",
      "\u001b[33m=============================== warnings summary ===============================\u001b[0m\n",
      "/Users/fx/opt/anaconda3/lib/python3.8/site-packages/Bio/Alphabet/__init__.py:22\n",
      "  /Users/fx/opt/anaconda3/lib/python3.8/site-packages/Bio/Alphabet/__init__.py:22: PendingDeprecationWarning: We intend to remove or replace Bio.Alphabet in 2020, ideally avoid using it explicitly in your code. Please get in touch if you will be adversely affected by this. https://github.com/biopython/biopython/issues/2046\n",
      "    warnings.warn(\n",
      "\n",
      "-- Docs: https://docs.pytest.org/en/latest/warnings.html\n",
      "\u001b[33m========================= \u001b[32m1 passed\u001b[0m, \u001b[33m\u001b[1m1 warning\u001b[0m\u001b[33m in 2.31s\u001b[0m\u001b[33m =========================\u001b[0m\n"
     ]
    }
   ],
   "source": [
    "!python -m pytest -s mutagenesis_visualization/tests/scripts/test_pymol.py"
   ]
  },
  {
   "cell_type": "markdown",
   "metadata": {},
   "source": [
    "## test_scatter"
   ]
  },
  {
   "cell_type": "code",
   "execution_count": 15,
   "metadata": {
    "execution": {
     "iopub.execute_input": "2021-01-20T02:49:55.511058Z",
     "iopub.status.busy": "2021-01-20T02:49:55.510264Z",
     "iopub.status.idle": "2021-01-20T02:49:59.969023Z",
     "shell.execute_reply": "2021-01-20T02:49:59.967493Z",
     "shell.execute_reply.started": "2021-01-20T02:49:55.510963Z"
    }
   },
   "outputs": [
    {
     "name": "stdout",
     "output_type": "stream",
     "text": [
      "\u001b[1m============================= test session starts ==============================\u001b[0m\n",
      "platform darwin -- Python 3.8.3, pytest-5.4.3, py-1.9.0, pluggy-0.13.1\n",
      "rootdir: /Users/fx/Dropbox/AKuriyanLab/Code/Python/Python_Scripts/mv_repo\n",
      "plugins: dash-1.17.0\n",
      "collected 1 item                                                               \u001b[0m\u001b[1m\n",
      "\n",
      "mutagenesis_visualization/tests/scripts/test_scatter.py \u001b[32m.\u001b[0m\n",
      "\n",
      "\u001b[33m=============================== warnings summary ===============================\u001b[0m\n",
      "/Users/fx/opt/anaconda3/lib/python3.8/site-packages/Bio/Alphabet/__init__.py:22\n",
      "  /Users/fx/opt/anaconda3/lib/python3.8/site-packages/Bio/Alphabet/__init__.py:22: PendingDeprecationWarning: We intend to remove or replace Bio.Alphabet in 2020, ideally avoid using it explicitly in your code. Please get in touch if you will be adversely affected by this. https://github.com/biopython/biopython/issues/2046\n",
      "    warnings.warn(\n",
      "\n",
      "-- Docs: https://docs.pytest.org/en/latest/warnings.html\n",
      "\u001b[33m========================= \u001b[32m1 passed\u001b[0m, \u001b[33m\u001b[1m1 warning\u001b[0m\u001b[33m in 3.39s\u001b[0m\u001b[33m =========================\u001b[0m\n"
     ]
    }
   ],
   "source": [
    "!python -m pytest -s mutagenesis_visualization/tests/scripts/test_scatter.py"
   ]
  },
  {
   "cell_type": "markdown",
   "metadata": {},
   "source": [
    "## test_synthesis"
   ]
  },
  {
   "cell_type": "code",
   "execution_count": 16,
   "metadata": {
    "execution": {
     "iopub.execute_input": "2021-01-20T02:49:59.973849Z",
     "iopub.status.busy": "2021-01-20T02:49:59.972460Z",
     "iopub.status.idle": "2021-01-20T02:50:02.728004Z",
     "shell.execute_reply": "2021-01-20T02:50:02.726323Z",
     "shell.execute_reply.started": "2021-01-20T02:49:59.973759Z"
    }
   },
   "outputs": [
    {
     "name": "stdout",
     "output_type": "stream",
     "text": [
      "\u001b[1m============================= test session starts ==============================\u001b[0m\n",
      "platform darwin -- Python 3.8.3, pytest-5.4.3, py-1.9.0, pluggy-0.13.1\n",
      "rootdir: /Users/fx/Dropbox/AKuriyanLab/Code/Python/Python_Scripts/mv_repo\n",
      "plugins: dash-1.17.0\n",
      "collected 4 items                                                              \u001b[0m\u001b[1m\n",
      "\n",
      "mutagenesis_visualization/tests/scripts/test_synthesis.py \u001b[32m.\u001b[0m\u001b[32m.\u001b[0m\u001b[32m.\u001b[0m\u001b[32m.\u001b[0m\n",
      "\n",
      "\u001b[33m=============================== warnings summary ===============================\u001b[0m\n",
      "/Users/fx/opt/anaconda3/lib/python3.8/site-packages/Bio/Alphabet/__init__.py:22\n",
      "  /Users/fx/opt/anaconda3/lib/python3.8/site-packages/Bio/Alphabet/__init__.py:22: PendingDeprecationWarning: We intend to remove or replace Bio.Alphabet in 2020, ideally avoid using it explicitly in your code. Please get in touch if you will be adversely affected by this. https://github.com/biopython/biopython/issues/2046\n",
      "    warnings.warn(\n",
      "\n",
      "-- Docs: https://docs.pytest.org/en/latest/warnings.html\n",
      "\u001b[33m========================= \u001b[32m4 passed\u001b[0m, \u001b[33m\u001b[1m1 warning\u001b[0m\u001b[33m in 1.74s\u001b[0m\u001b[33m =========================\u001b[0m\n"
     ]
    }
   ],
   "source": [
    "!python -m pytest -s mutagenesis_visualization/tests/scripts/test_synthesis.py"
   ]
  },
  {
   "cell_type": "markdown",
   "metadata": {},
   "source": [
    "## test_utils"
   ]
  },
  {
   "cell_type": "code",
   "execution_count": 17,
   "metadata": {
    "execution": {
     "iopub.execute_input": "2021-01-20T02:50:02.730653Z",
     "iopub.status.busy": "2021-01-20T02:50:02.730284Z",
     "iopub.status.idle": "2021-01-20T02:50:05.650795Z",
     "shell.execute_reply": "2021-01-20T02:50:05.649503Z",
     "shell.execute_reply.started": "2021-01-20T02:50:02.730606Z"
    }
   },
   "outputs": [
    {
     "name": "stdout",
     "output_type": "stream",
     "text": [
      "\u001b[1m============================= test session starts ==============================\u001b[0m\n",
      "platform darwin -- Python 3.8.3, pytest-5.4.3, py-1.9.0, pluggy-0.13.1\n",
      "rootdir: /Users/fx/Dropbox/AKuriyanLab/Code/Python/Python_Scripts/mv_repo\n",
      "plugins: dash-1.17.0\n",
      "collected 8 items                                                              \u001b[0m\u001b[1m\n",
      "\n",
      "mutagenesis_visualization/tests/scripts/test_utils.py \u001b[32m.\u001b[0m\u001b[32m.\u001b[0m\u001b[32m.\u001b[0m\u001b[32m.\u001b[0m\u001b[32m.\u001b[0m\u001b[32m.\u001b[0m\u001b[32m.\u001b[0m\u001b[32m.\u001b[0m\u001b[33m           [100%]\u001b[0m\n",
      "\n",
      "\u001b[33m=============================== warnings summary ===============================\u001b[0m\n",
      "/Users/fx/opt/anaconda3/lib/python3.8/site-packages/Bio/Alphabet/__init__.py:22\n",
      "  /Users/fx/opt/anaconda3/lib/python3.8/site-packages/Bio/Alphabet/__init__.py:22: PendingDeprecationWarning: We intend to remove or replace Bio.Alphabet in 2020, ideally avoid using it explicitly in your code. Please get in touch if you will be adversely affected by this. https://github.com/biopython/biopython/issues/2046\n",
      "    warnings.warn(\n",
      "\n",
      "-- Docs: https://docs.pytest.org/en/latest/warnings.html\n",
      "\u001b[33m========================= \u001b[32m8 passed\u001b[0m, \u001b[33m\u001b[1m1 warning\u001b[0m\u001b[33m in 1.78s\u001b[0m\u001b[33m =========================\u001b[0m\n"
     ]
    }
   ],
   "source": [
    "!python -m pytest mutagenesis_visualization/tests/scripts/test_utils.py"
   ]
  },
  {
   "cell_type": "markdown",
   "metadata": {},
   "source": [
    "## Coverage"
   ]
  },
  {
   "cell_type": "code",
   "execution_count": 18,
   "metadata": {
    "execution": {
     "iopub.execute_input": "2021-01-20T02:50:05.653677Z",
     "iopub.status.busy": "2021-01-20T02:50:05.653393Z",
     "iopub.status.idle": "2021-01-20T02:50:34.149994Z",
     "shell.execute_reply": "2021-01-20T02:50:34.149053Z",
     "shell.execute_reply.started": "2021-01-20T02:50:05.653643Z"
    }
   },
   "outputs": [
    {
     "name": "stdout",
     "output_type": "stream",
     "text": [
      "\u001b[1m============================= test session starts ==============================\u001b[0m\n",
      "platform darwin -- Python 3.8.3, pytest-5.4.3, py-1.9.0, pluggy-0.13.1\n",
      "rootdir: /Users/fx/Dropbox/AKuriyanLab/Code/Python/Python_Scripts/mv_repo\n",
      "plugins: dash-1.17.0\n",
      "collected 44 items / 2 errors / 42 selected                                    \u001b[0m\u001b[1m\u001b[1m\u001b[1m\u001b[1m\n",
      "\n",
      "==================================== ERRORS ====================================\n",
      "\u001b[31m\u001b[1m_____ ERROR collecting mutagenesis_visualization/tests/scripts/test_bar.py _____\u001b[0m\n",
      "\u001b[1m\u001b[31mmutagenesis_visualization/tests/scripts/test_bar.py\u001b[0m:211: in <module>\n",
      "    test_plot_meancounts()\n",
      "\u001b[1m\u001b[31mmutagenesis_visualization/tests/scripts/test_bar.py\u001b[0m:199: in test_plot_meancounts\n",
      "    \u001b[94massert\u001b[39;49;00m _test_plot_meancounts_output( \u001b[90m# Assert that that set of parameters works on that object\u001b[39;49;00m\n",
      "\u001b[1m\u001b[31mE   AssertionError: plot_meancounts failed with obj_test_1 object and {'show': False} parameters\u001b[0m\n",
      "\u001b[1m\u001b[31mE   assert True == False\u001b[0m\n",
      "\u001b[1m\u001b[31mE    +  where True = <function test_plot_meancounts.<locals>._test_plot_meancounts_output at 0x7f8c2a7b6c10>(<mutagenesis_visualization.main.scripts.code_class.Screen object at 0x7f8c2b4c4340>, {'show': False})\u001b[0m\n",
      "------------------------------- Captured stdout --------------------------------\n",
      "Figure(300x250)\n",
      "Figure(300x250)\n",
      "Figure(300x250)\n",
      "Figure(300x250)\n",
      "Figure(300x250)\n",
      "Help on method plot_mean in module mutagenesis_visualization.main.scripts.code_bar:\n",
      "\n",
      "plot_mean(mode='mean', show_cartoon=False, output_file: Union[NoneType, str, pathlib.Path] = None, **kwargs) method of mutagenesis_visualization.main.scripts.code_class.Screen instance\n",
      "    Plot in a bargraph the mean enrichment for each residue of the protein. \n",
      "    Red for gain of function, blue for loss of function\n",
      "    \n",
      "    Parameters\n",
      "    ----------\n",
      "    self : object from class *Screen*\n",
      "    \n",
      "    mode : str, default 'mean'\n",
      "        Specify what enrichment scores to show. If mode = 'mean', it will show the mean of \n",
      "        each position. If mode = 'A', it will show the alanine substitution profile. Can be \n",
      "        used for each amino acid. Use the one-letter code and upper case.\n",
      "    \n",
      "    show_cartoon : boolean, default False\n",
      "        If true, the plot will display a cartoon with the secondary structure. \n",
      "        The user must have added the secondary structure to the object. \n",
      "    \n",
      "    output_file : str, default None\n",
      "        If you want to export the generated graph, add the path and name of the file.\n",
      "        Example: 'path/filename.png' or 'path/filename.svg'. \n",
      "    \n",
      "    **kwargs : other keyword arguments\n",
      "        return_plot_object : boolean, default False\n",
      "            If true, will return plotting objects (ie. fig, ax).\n",
      "        \n",
      "        color_gof : str, default 'red'\n",
      "            Choose color to color positions with an enrichment score > 0.\n",
      "    \n",
      "        color_lof : str, default 'blue'\n",
      "            Choose color to color positions with an enrichment score < 0.\n",
      "    \n",
      "    Returns\n",
      "    ----------\n",
      "    fig, ax : matplotlib figure and subplots\n",
      "        Needs to have return_plot_object==True. By default they do\n",
      "        not get returned.\n",
      "\n",
      "'Screen' object has no attribute 'positions'\n",
      "Traceback (most recent call last):\n",
      "  File \"/Users/fx/Dropbox/AKuriyanLab/Code/Python/Python_Scripts/mv_repo/mutagenesis_visualization/tests/scripts/test_bar.py\", line 173, in _test_plot_meancounts_output\n",
      "    obj_test.meancounts(\n",
      "  File \"/Users/fx/Dropbox/AKuriyanLab/Code/Python/Python_Scripts/mv_repo/mutagenesis_visualization/main/scripts/code_bar.py\", line 373, in plot_meancounts\n",
      "    ax.set_xticklabels(self.positions)\n",
      "AttributeError: 'Screen' object has no attribute 'positions'\n",
      "\n",
      "\u001b[31m\u001b[1m___ ERROR collecting mutagenesis_visualization/tests/scripts/test_plotly.py ____\u001b[0m\n",
      "\u001b[1m\u001b[31mmutagenesis_visualization/tests/scripts/test_plotly.py\u001b[0m:308: in <module>\n",
      "    test_plot_scatter_3D_plotly()\n",
      "\u001b[1m\u001b[31mmutagenesis_visualization/tests/scripts/test_plotly.py\u001b[0m:298: in test_plot_scatter_3D_plotly\n",
      "    \u001b[94massert\u001b[39;49;00m _test_plot_scatter_3D_plotly_output(\n",
      "\u001b[1m\u001b[31mE   AssertionError: scatter_3D_plotly failed with {'mode': 'mean', 'pdb_path': '../../data/5p21.pdb', 'title': 'Scatter 3D', 'squared': False, 'x_label': 'x', 'y_label': 'y', 'z_label': 'z', 'show': False} parameters\u001b[0m\n",
      "\u001b[1m\u001b[31mE   assert True == False\u001b[0m\n",
      "\u001b[1m\u001b[31mE    +  where True = <function test_plot_scatter_3D_plotly.<locals>._test_plot_scatter_3D_plotly_output at 0x7f8c2e443f70>({'mode': 'mean', 'pdb_path': '../../data/5p21.pdb', 'show': False, 'squared': False, ...})\u001b[0m\n",
      "\u001b[33m=============================== warnings summary ===============================\u001b[0m\n",
      "/Users/fx/opt/anaconda3/lib/python3.8/site-packages/Bio/Alphabet/__init__.py:22\n",
      "  /Users/fx/opt/anaconda3/lib/python3.8/site-packages/Bio/Alphabet/__init__.py:22: PendingDeprecationWarning:\n",
      "  \n",
      "  We intend to remove or replace Bio.Alphabet in 2020, ideally avoid using it explicitly in your code. Please get in touch if you will be adversely affected by this. https://github.com/biopython/biopython/issues/2046\n",
      "\n",
      "-- Docs: https://docs.pytest.org/en/latest/warnings.html\n",
      "=========================== short test summary info ============================\n",
      "ERROR mutagenesis_visualization/tests/scripts/test_bar.py - AssertionError: p...\n",
      "ERROR mutagenesis_visualization/tests/scripts/test_plotly.py - AssertionError...\n",
      "!!!!!!!!!!!!!!!!!!! Interrupted: 2 errors during collection !!!!!!!!!!!!!!!!!!!!\n",
      "\u001b[31m======================== \u001b[33m1 warning\u001b[0m, \u001b[31m\u001b[1m2 errors\u001b[0m\u001b[31m in 26.51s\u001b[0m\u001b[31m =========================\u001b[0m\n"
     ]
    }
   ],
   "source": [
    "!coverage run -m pytest mutagenesis_visualization"
   ]
  },
  {
   "cell_type": "markdown",
   "metadata": {},
   "source": [
    "# Doc formatter"
   ]
  },
  {
   "cell_type": "code",
   "execution_count": null,
   "metadata": {},
   "outputs": [],
   "source": [
    "!docformatter --in-place --pre-summary-newline --make-summary-multi-line --wrap-summaries 79 --wrap-descriptions 72 --blank mutagenesis_visualization/main/scripts/code_class.py"
   ]
  },
  {
   "cell_type": "code",
   "execution_count": null,
   "metadata": {},
   "outputs": [],
   "source": [
    "!docformatter --in-place --pre-summary-newline --blank mutagenesis_visualization/main/notebooks/code_other.ipynb"
   ]
  },
  {
   "cell_type": "code",
   "execution_count": null,
   "metadata": {},
   "outputs": [],
   "source": [
    "!docformatter --in-place --pre-summary-newline --make-summary-multi-line --wrap-summaries 79 --wrap-descriptions 72 --blank mutagenesis_visualization/main/notebooks/code_*"
   ]
  }
 ],
 "metadata": {
  "kernelspec": {
   "display_name": "Python 3",
   "language": "python",
   "name": "python3"
  },
  "language_info": {
   "codemirror_mode": {
    "name": "ipython",
    "version": 3
   },
   "file_extension": ".py",
   "mimetype": "text/x-python",
   "name": "python",
   "nbconvert_exporter": "python",
   "pygments_lexer": "ipython3",
   "version": "3.8.3"
  }
 },
 "nbformat": 4,
 "nbformat_minor": 4
}
