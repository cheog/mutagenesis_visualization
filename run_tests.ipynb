{
 "cells": [
  {
   "cell_type": "markdown",
   "metadata": {},
   "source": [
    "# Convert the ipynb to py files"
   ]
  },
  {
   "cell_type": "markdown",
   "metadata": {},
   "source": [
    "Convert main scripts"
   ]
  },
  {
   "cell_type": "code",
   "execution_count": 2,
   "metadata": {
    "execution": {
     "iopub.execute_input": "2020-11-23T02:12:33.109438Z",
     "iopub.status.busy": "2020-11-23T02:12:33.109192Z",
     "iopub.status.idle": "2020-11-23T02:12:36.393466Z",
     "shell.execute_reply": "2020-11-23T02:12:36.392612Z",
     "shell.execute_reply.started": "2020-11-23T02:12:33.109412Z"
    }
   },
   "outputs": [
    {
     "name": "stdout",
     "output_type": "stream",
     "text": [
      "[NbConvertApp] Converting notebook mutagenesis_visualization/main/notebooks/code_3D.ipynb to script\n",
      "[NbConvertApp] Writing 13247 bytes to mutagenesis_visualization/main/scripts/code_3D.py\n",
      "[NbConvertApp] Converting notebook mutagenesis_visualization/main/notebooks/code_PCA.ipynb to script\n",
      "[NbConvertApp] Writing 16472 bytes to mutagenesis_visualization/main/scripts/code_PCA.py\n",
      "[NbConvertApp] Converting notebook mutagenesis_visualization/main/notebooks/code_bar.ipynb to script\n",
      "[NbConvertApp] Writing 13793 bytes to mutagenesis_visualization/main/scripts/code_bar.py\n",
      "[NbConvertApp] Converting notebook mutagenesis_visualization/main/notebooks/code_class.ipynb to script\n",
      "[NbConvertApp] Writing 7515 bytes to mutagenesis_visualization/main/scripts/code_class.py\n",
      "[NbConvertApp] Converting notebook mutagenesis_visualization/main/notebooks/code_createobjects.ipynb to script\n",
      "[NbConvertApp] Writing 16150 bytes to mutagenesis_visualization/main/scripts/code_createobjects.py\n",
      "[NbConvertApp] Converting notebook mutagenesis_visualization/main/notebooks/code_demo.ipynb to script\n",
      "[NbConvertApp] Writing 8591 bytes to mutagenesis_visualization/main/scripts/code_demo.py\n",
      "[NbConvertApp] Converting notebook mutagenesis_visualization/main/notebooks/code_heatmaps.ipynb to script\n",
      "[NbConvertApp] Writing 23246 bytes to mutagenesis_visualization/main/scripts/code_heatmaps.py\n",
      "[NbConvertApp] Converting notebook mutagenesis_visualization/main/notebooks/code_kernel.ipynb to script\n",
      "[NbConvertApp] Writing 8920 bytes to mutagenesis_visualization/main/scripts/code_kernel.py\n",
      "[NbConvertApp] Converting notebook mutagenesis_visualization/main/notebooks/code_kwargs.ipynb to script\n",
      "[NbConvertApp] Writing 5004 bytes to mutagenesis_visualization/main/scripts/code_kwargs.py\n",
      "[NbConvertApp] Converting notebook mutagenesis_visualization/main/notebooks/code_other.ipynb to script\n",
      "[NbConvertApp] Writing 22851 bytes to mutagenesis_visualization/main/scripts/code_other.py\n",
      "[NbConvertApp] Converting notebook mutagenesis_visualization/main/notebooks/code_plotly.ipynb to script\n",
      "[NbConvertApp] Writing 5777 bytes to mutagenesis_visualization/main/scripts/code_plotly.py\n",
      "[NbConvertApp] Converting notebook mutagenesis_visualization/main/notebooks/code_process_data.ipynb to script\n",
      "[NbConvertApp] Writing 33908 bytes to mutagenesis_visualization/main/scripts/code_process_data.py\n",
      "[NbConvertApp] Converting notebook mutagenesis_visualization/main/notebooks/code_pymol.ipynb to script\n",
      "[NbConvertApp] Writing 6927 bytes to mutagenesis_visualization/main/scripts/code_pymol.py\n",
      "[NbConvertApp] Converting notebook mutagenesis_visualization/main/notebooks/code_scatter.ipynb to script\n",
      "[NbConvertApp] Writing 3488 bytes to mutagenesis_visualization/main/scripts/code_scatter.py\n",
      "[NbConvertApp] Converting notebook mutagenesis_visualization/main/notebooks/code_synthesis.ipynb to script\n",
      "[NbConvertApp] Writing 10140 bytes to mutagenesis_visualization/main/scripts/code_synthesis.py\n",
      "[NbConvertApp] Converting notebook mutagenesis_visualization/main/notebooks/code_utils.ipynb to script\n",
      "[NbConvertApp] Writing 15466 bytes to mutagenesis_visualization/main/scripts/code_utils.py\n"
     ]
    }
   ],
   "source": [
    "#%%capture\n",
    "!jupyter nbconvert --output-dir='mutagenesis_visualization/main/scripts' --to script mutagenesis_visualization/main/notebooks/code_*.ipynb"
   ]
  },
  {
   "cell_type": "markdown",
   "metadata": {},
   "source": [
    "Convert tests"
   ]
  },
  {
   "cell_type": "code",
   "execution_count": 3,
   "metadata": {
    "execution": {
     "iopub.execute_input": "2020-11-23T02:12:39.358335Z",
     "iopub.status.busy": "2020-11-23T02:12:39.357726Z",
     "iopub.status.idle": "2020-11-23T02:12:40.797171Z",
     "shell.execute_reply": "2020-11-23T02:12:40.795601Z",
     "shell.execute_reply.started": "2020-11-23T02:12:39.358298Z"
    }
   },
   "outputs": [
    {
     "name": "stdout",
     "output_type": "stream",
     "text": [
      "[NbConvertApp] Converting notebook mutagenesis_visualization/tests/notebooks/test_3D.ipynb to script\n",
      "[NbConvertApp] Writing 1413 bytes to mutagenesis_visualization/tests/scripts/test_3D.py\n",
      "[NbConvertApp] Converting notebook mutagenesis_visualization/tests/notebooks/test_demo.ipynb to script\n",
      "[NbConvertApp] Writing 2421 bytes to mutagenesis_visualization/tests/scripts/test_demo.py\n",
      "[NbConvertApp] Converting notebook mutagenesis_visualization/tests/notebooks/test_heatmaps.ipynb to script\n",
      "[NbConvertApp] Writing 1767 bytes to mutagenesis_visualization/tests/scripts/test_heatmaps.py\n",
      "[NbConvertApp] Converting notebook mutagenesis_visualization/tests/notebooks/test_kwargs.ipynb to script\n",
      "[NbConvertApp] Writing 1176 bytes to mutagenesis_visualization/tests/scripts/test_kwargs.py\n",
      "[NbConvertApp] Converting notebook mutagenesis_visualization/tests/notebooks/test_process_data.ipynb to script\n",
      "[NbConvertApp] Writing 4192 bytes to mutagenesis_visualization/tests/scripts/test_process_data.py\n",
      "[NbConvertApp] Converting notebook mutagenesis_visualization/tests/notebooks/test_pymol.ipynb to script\n",
      "[NbConvertApp] Writing 1284 bytes to mutagenesis_visualization/tests/scripts/test_pymol.py\n",
      "[NbConvertApp] Converting notebook mutagenesis_visualization/tests/notebooks/test_synthesis.ipynb to script\n",
      "[NbConvertApp] Writing 4471 bytes to mutagenesis_visualization/tests/scripts/test_synthesis.py\n",
      "[NbConvertApp] Converting notebook mutagenesis_visualization/tests/notebooks/test_utils.ipynb to script\n",
      "[NbConvertApp] Writing 6400 bytes to mutagenesis_visualization/tests/scripts/test_utils.py\n"
     ]
    }
   ],
   "source": [
    "#%%capture\n",
    "!jupyter nbconvert --output-dir='mutagenesis_visualization/tests/scripts' --to script mutagenesis_visualization/tests/notebooks/test_*.ipynb"
   ]
  },
  {
   "cell_type": "markdown",
   "metadata": {},
   "source": [
    "# Convert the doc ipynb to rst files (and clean output)"
   ]
  },
  {
   "cell_type": "markdown",
   "metadata": {},
   "source": [
    "Clean output"
   ]
  },
  {
   "cell_type": "code",
   "execution_count": null,
   "metadata": {},
   "outputs": [],
   "source": [
    "%%capture\n",
    "!jupyter nbconvert --ClearOutputPreprocessor.enabled=True --clear-output --inplace mutagenesis_visualization/main/notebooks/doc_*.ipynb"
   ]
  },
  {
   "cell_type": "markdown",
   "metadata": {},
   "source": [
    "Convert to rst"
   ]
  },
  {
   "cell_type": "code",
   "execution_count": null,
   "metadata": {},
   "outputs": [],
   "source": [
    "%%capture\n",
    "!jupyter nbconvert --output-dir='docs/' --to rst mutagenesis_visualization/main/notebooks/doc_*.ipynb"
   ]
  },
  {
   "cell_type": "markdown",
   "metadata": {},
   "source": [
    "# Build documentation with Sphinx"
   ]
  },
  {
   "cell_type": "code",
   "execution_count": null,
   "metadata": {},
   "outputs": [],
   "source": [
    "! python3 -m sphinx docs build"
   ]
  },
  {
   "cell_type": "markdown",
   "metadata": {},
   "source": [
    "# Run all tests"
   ]
  },
  {
   "cell_type": "code",
   "execution_count": null,
   "metadata": {},
   "outputs": [],
   "source": [
    "!python -m pytest mutagenesis_visualization/"
   ]
  },
  {
   "cell_type": "markdown",
   "metadata": {},
   "source": [
    "# Run Test by test"
   ]
  },
  {
   "cell_type": "markdown",
   "metadata": {},
   "source": [
    "## test_3D"
   ]
  },
  {
   "cell_type": "code",
   "execution_count": null,
   "metadata": {},
   "outputs": [],
   "source": [
    "!python -m pytest -s mutagenesis_visualization/tests/scripts/test_3D.py"
   ]
  },
  {
   "cell_type": "markdown",
   "metadata": {},
   "source": [
    "## test_pymol"
   ]
  },
  {
   "cell_type": "code",
   "execution_count": 4,
   "metadata": {
    "execution": {
     "iopub.execute_input": "2020-11-23T02:12:48.837723Z",
     "iopub.status.busy": "2020-11-23T02:12:48.837314Z",
     "iopub.status.idle": "2020-11-23T02:12:52.306451Z",
     "shell.execute_reply": "2020-11-23T02:12:52.305454Z",
     "shell.execute_reply.started": "2020-11-23T02:12:48.837686Z"
    }
   },
   "outputs": [
    {
     "name": "stdout",
     "output_type": "stream",
     "text": [
      "\u001b[1m============================= test session starts ==============================\u001b[0m\n",
      "platform darwin -- Python 3.8.3, pytest-5.4.3, py-1.9.0, pluggy-0.13.1\n",
      "rootdir: /Users/fx/Dropbox/AKuriyanLab/Code/Python/Python_Scripts/mv_repo\n",
      "plugins: dash-1.16.3\n",
      "\u001b[1mcollecting ... \u001b[0mxml-rpc server running on host localhost, port 9123\n",
      "collected 1 item                                                               \u001b[0m\u001b[1m\n",
      "\n",
      "mutagenesis_visualization/tests/scripts/test_pymol.py \u001b[32m.\u001b[0m\n",
      "\n",
      "\u001b[33m=============================== warnings summary ===============================\u001b[0m\n",
      "mutagenesis_visualization/main/scripts/code_utils.py:252\n",
      "  mutagenesis_visualization/main/scripts/code_utils.py:252: DeprecationWarning: invalid escape sequence \\d\n",
      "    df['Position'] = df[col_variant].str.extract('(\\d+)').astype(int)\n",
      "\n",
      "/Users/fx/opt/anaconda3/lib/python3.8/site-packages/Bio/Alphabet/__init__.py:22\n",
      "  /Users/fx/opt/anaconda3/lib/python3.8/site-packages/Bio/Alphabet/__init__.py:22: PendingDeprecationWarning: We intend to remove or replace Bio.Alphabet in 2020, ideally avoid using it explicitly in your code. Please get in touch if you will be adversely affected by this. https://github.com/biopython/biopython/issues/2046\n",
      "    warnings.warn(\n",
      "\n",
      "-- Docs: https://docs.pytest.org/en/latest/warnings.html\n",
      "\u001b[33m======================== \u001b[32m1 passed\u001b[0m, \u001b[33m\u001b[1m2 warnings\u001b[0m\u001b[33m in 2.35s\u001b[0m\u001b[33m =========================\u001b[0m\n"
     ]
    }
   ],
   "source": [
    "!python -m pytest -s mutagenesis_visualization/tests/scripts/test_pymol.py"
   ]
  },
  {
   "cell_type": "markdown",
   "metadata": {},
   "source": [
    "## test_demo"
   ]
  },
  {
   "cell_type": "code",
   "execution_count": null,
   "metadata": {},
   "outputs": [],
   "source": [
    "!python -m pytest -s mutagenesis_visualization/tests/scripts/test_demo.py"
   ]
  },
  {
   "cell_type": "markdown",
   "metadata": {},
   "source": [
    "## test_kwargs"
   ]
  },
  {
   "cell_type": "code",
   "execution_count": null,
   "metadata": {},
   "outputs": [],
   "source": [
    "!python -m pytest mutagenesis_visualization/tests/scripts/test_kwargs.py"
   ]
  },
  {
   "cell_type": "markdown",
   "metadata": {},
   "source": [
    "## test_heatmaps"
   ]
  },
  {
   "cell_type": "code",
   "execution_count": null,
   "metadata": {},
   "outputs": [],
   "source": [
    "!python -m pytest mutagenesis_visualization/tests/scripts/test_heatmaps.py"
   ]
  },
  {
   "cell_type": "markdown",
   "metadata": {},
   "source": [
    "## test_process_data"
   ]
  },
  {
   "cell_type": "code",
   "execution_count": null,
   "metadata": {},
   "outputs": [],
   "source": [
    "!python -m pytest mutagenesis_visualization/tests/scripts/test_process_data.py"
   ]
  },
  {
   "cell_type": "markdown",
   "metadata": {},
   "source": [
    "## test_synthesis"
   ]
  },
  {
   "cell_type": "code",
   "execution_count": null,
   "metadata": {},
   "outputs": [],
   "source": [
    "!python -m pytest mutagenesis_visualization/tests/scripts/test_synthesis.py"
   ]
  },
  {
   "cell_type": "markdown",
   "metadata": {},
   "source": [
    "## test_utils"
   ]
  },
  {
   "cell_type": "code",
   "execution_count": null,
   "metadata": {},
   "outputs": [],
   "source": [
    "!python -m pytest mutagenesis_visualization/tests/scripts/test_utils.py"
   ]
  },
  {
   "cell_type": "markdown",
   "metadata": {},
   "source": [
    "## test_"
   ]
  },
  {
   "cell_type": "code",
   "execution_count": null,
   "metadata": {},
   "outputs": [],
   "source": []
  }
 ],
 "metadata": {
  "kernelspec": {
   "display_name": "Python 3",
   "language": "python",
   "name": "python3"
  },
  "language_info": {
   "codemirror_mode": {
    "name": "ipython",
    "version": 3
   },
   "file_extension": ".py",
   "mimetype": "text/x-python",
   "name": "python",
   "nbconvert_exporter": "python",
   "pygments_lexer": "ipython3",
   "version": "3.8.3"
  }
 },
 "nbformat": 4,
 "nbformat_minor": 4
}
