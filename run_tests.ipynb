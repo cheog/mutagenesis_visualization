{
 "cells": [
  {
   "cell_type": "markdown",
   "metadata": {},
   "source": [
    "# Convert the ipynb to py files"
   ]
  },
  {
   "cell_type": "markdown",
   "metadata": {},
   "source": [
    "Convert main scripts"
   ]
  },
  {
   "cell_type": "code",
   "execution_count": 5,
   "metadata": {
    "execution": {
     "iopub.execute_input": "2020-11-25T02:31:35.013817Z",
     "iopub.status.busy": "2020-11-25T02:31:35.013526Z",
     "iopub.status.idle": "2020-11-25T02:31:38.085147Z",
     "shell.execute_reply": "2020-11-25T02:31:38.083763Z",
     "shell.execute_reply.started": "2020-11-25T02:31:35.013787Z"
    }
   },
   "outputs": [],
   "source": [
    "%%capture\n",
    "!jupyter nbconvert --output-dir='mutagenesis_visualization/main/scripts' --to script mutagenesis_visualization/main/notebooks/code_*.ipynb"
   ]
  },
  {
   "cell_type": "markdown",
   "metadata": {},
   "source": [
    "Convert tests"
   ]
  },
  {
   "cell_type": "code",
   "execution_count": 2,
   "metadata": {
    "execution": {
     "iopub.execute_input": "2020-11-25T02:29:42.561192Z",
     "iopub.status.busy": "2020-11-25T02:29:42.560863Z",
     "iopub.status.idle": "2020-11-25T02:29:44.075150Z",
     "shell.execute_reply": "2020-11-25T02:29:44.073352Z",
     "shell.execute_reply.started": "2020-11-25T02:29:42.561161Z"
    }
   },
   "outputs": [],
   "source": [
    "%%capture\n",
    "!jupyter nbconvert --output-dir='mutagenesis_visualization/tests/scripts' --to script mutagenesis_visualization/tests/notebooks/test_*.ipynb"
   ]
  },
  {
   "cell_type": "markdown",
   "metadata": {},
   "source": [
    "# Convert the doc ipynb to rst files (and clean output)"
   ]
  },
  {
   "cell_type": "markdown",
   "metadata": {},
   "source": [
    "Clean output"
   ]
  },
  {
   "cell_type": "code",
   "execution_count": 10,
   "metadata": {
    "execution": {
     "iopub.execute_input": "2020-11-25T03:24:34.537624Z",
     "iopub.status.busy": "2020-11-25T03:24:34.537294Z",
     "iopub.status.idle": "2020-11-25T03:24:36.383663Z",
     "shell.execute_reply": "2020-11-25T03:24:36.382279Z",
     "shell.execute_reply.started": "2020-11-25T03:24:34.537589Z"
    }
   },
   "outputs": [],
   "source": [
    "%%capture\n",
    "!jupyter nbconvert --ClearOutputPreprocessor.enabled=True --clear-output --inplace mutagenesis_visualization/tutorial/doc*.ipynb"
   ]
  },
  {
   "cell_type": "markdown",
   "metadata": {},
   "source": [
    "Convert to rst"
   ]
  },
  {
   "cell_type": "code",
   "execution_count": 11,
   "metadata": {
    "execution": {
     "iopub.execute_input": "2020-11-25T03:24:42.239451Z",
     "iopub.status.busy": "2020-11-25T03:24:42.239211Z",
     "iopub.status.idle": "2020-11-25T03:24:50.128596Z",
     "shell.execute_reply": "2020-11-25T03:24:50.126711Z",
     "shell.execute_reply.started": "2020-11-25T03:24:42.239427Z"
    }
   },
   "outputs": [],
   "source": [
    "%%capture\n",
    "!jupyter nbconvert --output-dir='docs/' --to rst mutagenesis_visualization/tutorial/doc*.ipynb\n"
   ]
  },
  {
   "cell_type": "markdown",
   "metadata": {},
   "source": [
    "# Build documentation with Sphinx"
   ]
  },
  {
   "cell_type": "code",
   "execution_count": 1,
   "metadata": {
    "execution": {
     "iopub.execute_input": "2020-11-25T03:25:52.014424Z",
     "iopub.status.busy": "2020-11-25T03:25:52.013029Z",
     "iopub.status.idle": "2020-11-25T03:25:58.771804Z",
     "shell.execute_reply": "2020-11-25T03:25:58.770978Z",
     "shell.execute_reply.started": "2020-11-25T03:25:52.014375Z"
    }
   },
   "outputs": [
    {
     "name": "stdout",
     "output_type": "stream",
     "text": [
      "\u001b[01mRunning Sphinx v3.1.2\u001b[39;49;00m\n",
      "/Users/fx/Dropbox/AKuriyanLab/Code/Python/Python_Scripts/mv_repo/docs\n",
      "\u001b[01mmaking output directory... \u001b[39;49;00mdone\n",
      "\u001b[01mbuilding [mo]: \u001b[39;49;00mtargets for 0 po files that are out of date\n",
      "\u001b[01mbuilding [html]: \u001b[39;49;00mtargets for 11 source files that are out of date\n",
      "\u001b[01mupdating environment: \u001b[39;49;00m[new config] 11 added, 0 changed, 0 removed\n",
      "\u001b[01mreading sources... \u001b[39;49;00m[100%] \u001b[35moverview\u001b[39;49;00m                                              \n",
      "\u001b[91m/Users/fx/Dropbox/AKuriyanLab/Code/Python/Python_Scripts/mv_repo/mutagenesis_visualization/mutagenesis_visualization.py:docstring of mutagenesis_visualization.Screen.rst:57: WARNING: autosummary: stub file not found 'mutagenesis_visualization.Screen.correlation'. Check your autosummary_generate setting.\u001b[39;49;00m\n",
      "\u001b[91m/Users/fx/Dropbox/AKuriyanLab/Code/Python/Python_Scripts/mv_repo/mutagenesis_visualization/mutagenesis_visualization.py:docstring of mutagenesis_visualization.Screen.rst:57: WARNING: autosummary: stub file not found 'mutagenesis_visualization.Screen.cumulative'. Check your autosummary_generate setting.\u001b[39;49;00m\n",
      "\u001b[91m/Users/fx/Dropbox/AKuriyanLab/Code/Python/Python_Scripts/mv_repo/mutagenesis_visualization/mutagenesis_visualization.py:docstring of mutagenesis_visualization.Screen.rst:57: WARNING: autosummary: stub file not found 'mutagenesis_visualization.Screen.differential'. Check your autosummary_generate setting.\u001b[39;49;00m\n",
      "\u001b[91m/Users/fx/Dropbox/AKuriyanLab/Code/Python/Python_Scripts/mv_repo/mutagenesis_visualization/mutagenesis_visualization.py:docstring of mutagenesis_visualization.Screen.rst:57: WARNING: autosummary: stub file not found 'mutagenesis_visualization.Screen.group_correlation'. Check your autosummary_generate setting.\u001b[39;49;00m\n",
      "\u001b[91m/Users/fx/Dropbox/AKuriyanLab/Code/Python/Python_Scripts/mv_repo/mutagenesis_visualization/mutagenesis_visualization.py:docstring of mutagenesis_visualization.Screen.rst:57: WARNING: autosummary: stub file not found 'mutagenesis_visualization.Screen.heatmap'. Check your autosummary_generate setting.\u001b[39;49;00m\n",
      "\u001b[91m/Users/fx/Dropbox/AKuriyanLab/Code/Python/Python_Scripts/mv_repo/mutagenesis_visualization/mutagenesis_visualization.py:docstring of mutagenesis_visualization.Screen.rst:57: WARNING: autosummary: stub file not found 'mutagenesis_visualization.Screen.heatmap_columns'. Check your autosummary_generate setting.\u001b[39;49;00m\n",
      "\u001b[91m/Users/fx/Dropbox/AKuriyanLab/Code/Python/Python_Scripts/mv_repo/mutagenesis_visualization/mutagenesis_visualization.py:docstring of mutagenesis_visualization.Screen.rst:57: WARNING: autosummary: stub file not found 'mutagenesis_visualization.Screen.heatmap_rows'. Check your autosummary_generate setting.\u001b[39;49;00m\n",
      "\u001b[91m/Users/fx/Dropbox/AKuriyanLab/Code/Python/Python_Scripts/mv_repo/mutagenesis_visualization/mutagenesis_visualization.py:docstring of mutagenesis_visualization.Screen.rst:57: WARNING: autosummary: stub file not found 'mutagenesis_visualization.Screen.histogram'. Check your autosummary_generate setting.\u001b[39;49;00m\n",
      "\u001b[91m/Users/fx/Dropbox/AKuriyanLab/Code/Python/Python_Scripts/mv_repo/mutagenesis_visualization/mutagenesis_visualization.py:docstring of mutagenesis_visualization.Screen.rst:57: WARNING: autosummary: stub file not found 'mutagenesis_visualization.Screen.individual_correlation'. Check your autosummary_generate setting.\u001b[39;49;00m\n",
      "\u001b[91m/Users/fx/Dropbox/AKuriyanLab/Code/Python/Python_Scripts/mv_repo/mutagenesis_visualization/mutagenesis_visualization.py:docstring of mutagenesis_visualization.Screen.rst:57: WARNING: autosummary: stub file not found 'mutagenesis_visualization.Screen.kernel'. Check your autosummary_generate setting.\u001b[39;49;00m\n",
      "\u001b[91m/Users/fx/Dropbox/AKuriyanLab/Code/Python/Python_Scripts/mv_repo/mutagenesis_visualization/mutagenesis_visualization.py:docstring of mutagenesis_visualization.Screen.rst:57: WARNING: autosummary: stub file not found 'mutagenesis_visualization.Screen.mean'. Check your autosummary_generate setting.\u001b[39;49;00m\n",
      "\u001b[91m/Users/fx/Dropbox/AKuriyanLab/Code/Python/Python_Scripts/mv_repo/mutagenesis_visualization/mutagenesis_visualization.py:docstring of mutagenesis_visualization.Screen.rst:57: WARNING: autosummary: stub file not found 'mutagenesis_visualization.Screen.meancounts'. Check your autosummary_generate setting.\u001b[39;49;00m\n",
      "\u001b[91m/Users/fx/Dropbox/AKuriyanLab/Code/Python/Python_Scripts/mv_repo/mutagenesis_visualization/mutagenesis_visualization.py:docstring of mutagenesis_visualization.Screen.rst:57: WARNING: autosummary: stub file not found 'mutagenesis_visualization.Screen.miniheatmap'. Check your autosummary_generate setting.\u001b[39;49;00m\n",
      "\u001b[91m/Users/fx/Dropbox/AKuriyanLab/Code/Python/Python_Scripts/mv_repo/mutagenesis_visualization/mutagenesis_visualization.py:docstring of mutagenesis_visualization.Screen.rst:57: WARNING: autosummary: stub file not found 'mutagenesis_visualization.Screen.neighboreffect'. Check your autosummary_generate setting.\u001b[39;49;00m\n",
      "\u001b[91m/Users/fx/Dropbox/AKuriyanLab/Code/Python/Python_Scripts/mv_repo/mutagenesis_visualization/mutagenesis_visualization.py:docstring of mutagenesis_visualization.Screen.rst:57: WARNING: autosummary: stub file not found 'mutagenesis_visualization.Screen.pca'. Check your autosummary_generate setting.\u001b[39;49;00m\n",
      "\u001b[91m/Users/fx/Dropbox/AKuriyanLab/Code/Python/Python_Scripts/mv_repo/mutagenesis_visualization/mutagenesis_visualization.py:docstring of mutagenesis_visualization.Screen.rst:57: WARNING: autosummary: stub file not found 'mutagenesis_visualization.Screen.position'. Check your autosummary_generate setting.\u001b[39;49;00m\n",
      "\u001b[91m/Users/fx/Dropbox/AKuriyanLab/Code/Python/Python_Scripts/mv_repo/mutagenesis_visualization/mutagenesis_visualization.py:docstring of mutagenesis_visualization.Screen.rst:57: WARNING: autosummary: stub file not found 'mutagenesis_visualization.Screen.pymol'. Check your autosummary_generate setting.\u001b[39;49;00m\n",
      "\u001b[91m/Users/fx/Dropbox/AKuriyanLab/Code/Python/Python_Scripts/mv_repo/mutagenesis_visualization/mutagenesis_visualization.py:docstring of mutagenesis_visualization.Screen.rst:57: WARNING: autosummary: stub file not found 'mutagenesis_visualization.Screen.rank'. Check your autosummary_generate setting.\u001b[39;49;00m\n",
      "\u001b[91m/Users/fx/Dropbox/AKuriyanLab/Code/Python/Python_Scripts/mv_repo/mutagenesis_visualization/mutagenesis_visualization.py:docstring of mutagenesis_visualization.Screen.rst:57: WARNING: autosummary: stub file not found 'mutagenesis_visualization.Screen.roc'. Check your autosummary_generate setting.\u001b[39;49;00m\n",
      "\u001b[91m/Users/fx/Dropbox/AKuriyanLab/Code/Python/Python_Scripts/mv_repo/mutagenesis_visualization/mutagenesis_visualization.py:docstring of mutagenesis_visualization.Screen.rst:57: WARNING: autosummary: stub file not found 'mutagenesis_visualization.Screen.scatter'. Check your autosummary_generate setting.\u001b[39;49;00m\n",
      "\u001b[91m/Users/fx/Dropbox/AKuriyanLab/Code/Python/Python_Scripts/mv_repo/mutagenesis_visualization/mutagenesis_visualization.py:docstring of mutagenesis_visualization.Screen.rst:57: WARNING: autosummary: stub file not found 'mutagenesis_visualization.Screen.scatter_3D'. Check your autosummary_generate setting.\u001b[39;49;00m\n",
      "\u001b[91m/Users/fx/Dropbox/AKuriyanLab/Code/Python/Python_Scripts/mv_repo/mutagenesis_visualization/mutagenesis_visualization.py:docstring of mutagenesis_visualization.Screen.rst:57: WARNING: autosummary: stub file not found 'mutagenesis_visualization.Screen.scatter_3D_pdbprop'. Check your autosummary_generate setting.\u001b[39;49;00m\n",
      "\u001b[91m/Users/fx/Dropbox/AKuriyanLab/Code/Python/Python_Scripts/mv_repo/mutagenesis_visualization/mutagenesis_visualization.py:docstring of mutagenesis_visualization.Screen.rst:57: WARNING: autosummary: stub file not found 'mutagenesis_visualization.Screen.secondary_mean'. Check your autosummary_generate setting.\u001b[39;49;00m\n",
      "\u001b[91m/Users/fx/Dropbox/AKuriyanLab/Code/Python/Python_Scripts/mv_repo/mutagenesis_visualization/mutagenesis_visualization.py:docstring of mutagenesis_visualization.Screen.scatter_3D:6: WARNING: Inline strong start-string without end-string.\u001b[39;49;00m\n",
      "\u001b[91m/Users/fx/Dropbox/AKuriyanLab/Code/Python/Python_Scripts/mv_repo/mutagenesis_visualization/mutagenesis_visualization.py:docstring of mutagenesis_visualization.Screen.scatter_3D_pdbprop:6: WARNING: Inline strong start-string without end-string.\u001b[39;49;00m\n",
      "\u001b[91mWARNING: autodoc: failed to import function 'count_fastq' from module 'mutagenesis_visualization'; the following exception was raised:\n",
      "Traceback (most recent call last):\n",
      "  File \"/Users/fx/opt/anaconda3/lib/python3.8/site-packages/sphinx/util/inspect.py\", line 324, in safe_getattr\n",
      "    return getattr(obj, name, *defargs)\n",
      "AttributeError: module 'mutagenesis_visualization' has no attribute 'count_fastq'\n",
      "\n",
      "During handling of the above exception, another exception occurred:\n",
      "\n",
      "Traceback (most recent call last):\n",
      "  File \"/Users/fx/opt/anaconda3/lib/python3.8/site-packages/sphinx/ext/autodoc/importer.py\", line 71, in import_object\n",
      "    obj = attrgetter(obj, attrname)\n",
      "  File \"/Users/fx/opt/anaconda3/lib/python3.8/site-packages/sphinx/ext/autodoc/__init__.py\", line 245, in get_attr\n",
      "    return autodoc_attrgetter(self.env.app, obj, name, *defargs)\n",
      "  File \"/Users/fx/opt/anaconda3/lib/python3.8/site-packages/sphinx/ext/autodoc/__init__.py\", line 2063, in autodoc_attrgetter\n",
      "    return safe_getattr(obj, name, *defargs)\n",
      "  File \"/Users/fx/opt/anaconda3/lib/python3.8/site-packages/sphinx/util/inspect.py\", line 340, in safe_getattr\n",
      "    raise AttributeError(name)\n",
      "AttributeError: count_fastq\n",
      "\u001b[39;49;00m\n",
      "\u001b[91m/Users/fx/Dropbox/AKuriyanLab/Code/Python/Python_Scripts/mv_repo/mutagenesis_visualization/mutagenesis_visualization.py:docstring of mutagenesis_visualization.plot_multiplekernel:24: WARNING: Inline strong start-string without end-string.\u001b[39;49;00m\n",
      "\u001b[91m/Users/fx/Dropbox/AKuriyanLab/Code/Python/Python_Scripts/mv_repo/docs/doc4_plotting.rst:91: WARNING: duplicate label heatmaps, other instance in /Users/fx/Dropbox/AKuriyanLab/Code/Python/Python_Scripts/mv_repo/docs/doc3_normalizing.rst\u001b[39;49;00m\n",
      "\u001b[91m/Users/fx/Dropbox/AKuriyanLab/Code/Python/Python_Scripts/mv_repo/docs/doc6_other_datasets.rst:294: WARNING: duplicate label load data, other instance in /Users/fx/Dropbox/AKuriyanLab/Code/Python/Python_Scripts/mv_repo/docs/doc6_other_datasets.rst\u001b[39;49;00m\n",
      "\u001b[91m/Users/fx/Dropbox/AKuriyanLab/Code/Python/Python_Scripts/mv_repo/docs/doc6_other_datasets.rst:315: WARNING: duplicate label create object, other instance in /Users/fx/Dropbox/AKuriyanLab/Code/Python/Python_Scripts/mv_repo/docs/doc6_other_datasets.rst\u001b[39;49;00m\n",
      "\u001b[91m/Users/fx/Dropbox/AKuriyanLab/Code/Python/Python_Scripts/mv_repo/docs/doc6_other_datasets.rst:342: WARNING: duplicate label 2d plots, other instance in /Users/fx/Dropbox/AKuriyanLab/Code/Python/Python_Scripts/mv_repo/docs/doc6_other_datasets.rst\u001b[39;49;00m\n",
      "\u001b[91m/Users/fx/Dropbox/AKuriyanLab/Code/Python/Python_Scripts/mv_repo/docs/doc6_other_datasets.rst:470: WARNING: duplicate label load data, other instance in /Users/fx/Dropbox/AKuriyanLab/Code/Python/Python_Scripts/mv_repo/docs/doc6_other_datasets.rst\u001b[39;49;00m\n",
      "\u001b[91m/Users/fx/Dropbox/AKuriyanLab/Code/Python/Python_Scripts/mv_repo/docs/doc6_other_datasets.rst:493: WARNING: duplicate label create object, other instance in /Users/fx/Dropbox/AKuriyanLab/Code/Python/Python_Scripts/mv_repo/docs/doc6_other_datasets.rst\u001b[39;49;00m\n",
      "\u001b[91m/Users/fx/Dropbox/AKuriyanLab/Code/Python/Python_Scripts/mv_repo/docs/doc6_other_datasets.rst:518: WARNING: duplicate label 2d plots, other instance in /Users/fx/Dropbox/AKuriyanLab/Code/Python/Python_Scripts/mv_repo/docs/doc6_other_datasets.rst\u001b[39;49;00m\n",
      "\u001b[91m/Users/fx/Dropbox/AKuriyanLab/Code/Python/Python_Scripts/mv_repo/docs/doc6_other_datasets.rst:610: WARNING: duplicate label load data, other instance in /Users/fx/Dropbox/AKuriyanLab/Code/Python/Python_Scripts/mv_repo/docs/doc6_other_datasets.rst\u001b[39;49;00m\n",
      "\u001b[91m/Users/fx/Dropbox/AKuriyanLab/Code/Python/Python_Scripts/mv_repo/docs/doc6_other_datasets.rst:634: WARNING: duplicate label create object, other instance in /Users/fx/Dropbox/AKuriyanLab/Code/Python/Python_Scripts/mv_repo/docs/doc6_other_datasets.rst\u001b[39;49;00m\n",
      "\u001b[91m/Users/fx/Dropbox/AKuriyanLab/Code/Python/Python_Scripts/mv_repo/docs/doc6_other_datasets.rst:664: WARNING: duplicate label 2d plots, other instance in /Users/fx/Dropbox/AKuriyanLab/Code/Python/Python_Scripts/mv_repo/docs/doc6_other_datasets.rst\u001b[39;49;00m\n",
      "\u001b[91m/Users/fx/Dropbox/AKuriyanLab/Code/Python/Python_Scripts/mv_repo/docs/doc6_other_datasets.rst:784: WARNING: duplicate label load data, other instance in /Users/fx/Dropbox/AKuriyanLab/Code/Python/Python_Scripts/mv_repo/docs/doc6_other_datasets.rst\u001b[39;49;00m\n",
      "\u001b[91m/Users/fx/Dropbox/AKuriyanLab/Code/Python/Python_Scripts/mv_repo/docs/doc6_other_datasets.rst:801: WARNING: duplicate label create object, other instance in /Users/fx/Dropbox/AKuriyanLab/Code/Python/Python_Scripts/mv_repo/docs/doc6_other_datasets.rst\u001b[39;49;00m\n",
      "\u001b[91m/Users/fx/Dropbox/AKuriyanLab/Code/Python/Python_Scripts/mv_repo/docs/doc6_other_datasets.rst:825: WARNING: duplicate label 2d plots, other instance in /Users/fx/Dropbox/AKuriyanLab/Code/Python/Python_Scripts/mv_repo/docs/doc6_other_datasets.rst\u001b[39;49;00m\n",
      "\u001b[91m/Users/fx/Dropbox/AKuriyanLab/Code/Python/Python_Scripts/mv_repo/docs/doc6_other_datasets.rst:916: WARNING: duplicate label load data, other instance in /Users/fx/Dropbox/AKuriyanLab/Code/Python/Python_Scripts/mv_repo/docs/doc6_other_datasets.rst\u001b[39;49;00m\n",
      "\u001b[91m/Users/fx/Dropbox/AKuriyanLab/Code/Python/Python_Scripts/mv_repo/docs/doc6_other_datasets.rst:934: WARNING: duplicate label create object, other instance in /Users/fx/Dropbox/AKuriyanLab/Code/Python/Python_Scripts/mv_repo/docs/doc6_other_datasets.rst\u001b[39;49;00m\n",
      "\u001b[91m/Users/fx/Dropbox/AKuriyanLab/Code/Python/Python_Scripts/mv_repo/docs/doc6_other_datasets.rst:966: WARNING: duplicate label 2d plots, other instance in /Users/fx/Dropbox/AKuriyanLab/Code/Python/Python_Scripts/mv_repo/docs/doc6_other_datasets.rst\u001b[39;49;00m\n",
      "\u001b[91m/Users/fx/Dropbox/AKuriyanLab/Code/Python/Python_Scripts/mv_repo/docs/doc6_other_datasets.rst:1057: WARNING: duplicate label load data, other instance in /Users/fx/Dropbox/AKuriyanLab/Code/Python/Python_Scripts/mv_repo/docs/doc6_other_datasets.rst\u001b[39;49;00m\n",
      "\u001b[91m/Users/fx/Dropbox/AKuriyanLab/Code/Python/Python_Scripts/mv_repo/docs/doc6_other_datasets.rst:1073: WARNING: duplicate label create object, other instance in /Users/fx/Dropbox/AKuriyanLab/Code/Python/Python_Scripts/mv_repo/docs/doc6_other_datasets.rst\u001b[39;49;00m\n",
      "\u001b[91m/Users/fx/Dropbox/AKuriyanLab/Code/Python/Python_Scripts/mv_repo/docs/doc6_other_datasets.rst:1099: WARNING: duplicate label 2d plots, other instance in /Users/fx/Dropbox/AKuriyanLab/Code/Python/Python_Scripts/mv_repo/docs/doc6_other_datasets.rst\u001b[39;49;00m\n",
      "\u001b[91m/Users/fx/Dropbox/AKuriyanLab/Code/Python/Python_Scripts/mv_repo/docs/doc6_other_datasets.rst:1192: WARNING: duplicate label load data, other instance in /Users/fx/Dropbox/AKuriyanLab/Code/Python/Python_Scripts/mv_repo/docs/doc6_other_datasets.rst\u001b[39;49;00m\n",
      "\u001b[91m/Users/fx/Dropbox/AKuriyanLab/Code/Python/Python_Scripts/mv_repo/docs/doc6_other_datasets.rst:1209: WARNING: duplicate label create object, other instance in /Users/fx/Dropbox/AKuriyanLab/Code/Python/Python_Scripts/mv_repo/docs/doc6_other_datasets.rst\u001b[39;49;00m\n",
      "\u001b[91m/Users/fx/Dropbox/AKuriyanLab/Code/Python/Python_Scripts/mv_repo/docs/doc6_other_datasets.rst:1249: WARNING: duplicate label 2d plots, other instance in /Users/fx/Dropbox/AKuriyanLab/Code/Python/Python_Scripts/mv_repo/docs/doc6_other_datasets.rst\u001b[39;49;00m\n",
      "\u001b[91m/Users/fx/Dropbox/AKuriyanLab/Code/Python/Python_Scripts/mv_repo/docs/doc6_other_datasets.rst:1405: WARNING: duplicate label load data, other instance in /Users/fx/Dropbox/AKuriyanLab/Code/Python/Python_Scripts/mv_repo/docs/doc6_other_datasets.rst\u001b[39;49;00m\n",
      "\u001b[91m/Users/fx/Dropbox/AKuriyanLab/Code/Python/Python_Scripts/mv_repo/docs/doc6_other_datasets.rst:1429: WARNING: duplicate label create object, other instance in /Users/fx/Dropbox/AKuriyanLab/Code/Python/Python_Scripts/mv_repo/docs/doc6_other_datasets.rst\u001b[39;49;00m\n",
      "\u001b[91m/Users/fx/Dropbox/AKuriyanLab/Code/Python/Python_Scripts/mv_repo/docs/doc6_other_datasets.rst:1449: WARNING: duplicate label 2d plots, other instance in /Users/fx/Dropbox/AKuriyanLab/Code/Python/Python_Scripts/mv_repo/docs/doc6_other_datasets.rst\u001b[39;49;00m\n",
      "\u001b[91m/Users/fx/Dropbox/AKuriyanLab/Code/Python/Python_Scripts/mv_repo/docs/overview.rst:2: WARNING: duplicate label description, other instance in /Users/fx/Dropbox/AKuriyanLab/Code/Python/Python_Scripts/mv_repo/docs/index.rst\u001b[39;49;00m\n",
      "\u001b[91m/Users/fx/Dropbox/AKuriyanLab/Code/Python/Python_Scripts/mv_repo/docs/overview.rst:19: WARNING: duplicate label key features, other instance in /Users/fx/Dropbox/AKuriyanLab/Code/Python/Python_Scripts/mv_repo/docs/index.rst\u001b[39;49;00m\n",
      "\u001b[01mlooking for now-outdated files... \u001b[39;49;00mnone found\n",
      "\u001b[01mpickling environment... \u001b[39;49;00mdone\n",
      "\u001b[01mchecking consistency... \u001b[39;49;00mdone\n",
      "\u001b[01mpreparing documents... \u001b[39;49;00mdone\n",
      "\u001b[01mwriting output... \u001b[39;49;00m[100%] \u001b[32moverview\u001b[39;49;00m                                               \n",
      "\u001b[91m/Users/fx/Dropbox/AKuriyanLab/Code/Python/Python_Scripts/mv_repo/docs/index.rst:68: WARNING: undefined label: processing dna reads (if the link has no caption the label must precede a section header)\u001b[39;49;00m\n",
      "\u001b[01mgenerating indices... \u001b[39;49;00m genindexdone\n",
      "\u001b[01mwriting additional pages... \u001b[39;49;00m searchdone\n",
      "\u001b[01mcopying images... \u001b[39;49;00m[100%] \u001b[33m_static/workflow_v3.png\u001b[39;49;00m                                m\n",
      "\u001b[01mcopying static files... ... \u001b[39;49;00mdone\n",
      "\u001b[01mcopying extra files... \u001b[39;49;00mdone\n",
      "\u001b[01mdumping search index in English (code: en)... \u001b[39;49;00mdone\n",
      "\u001b[01mdumping object inventory... \u001b[39;49;00mdone\n",
      "\u001b[01mbuild succeeded, 55 warnings.\u001b[39;49;00m\n",
      "\n",
      "The HTML pages are in build.\n"
     ]
    }
   ],
   "source": [
    "! python3 -m sphinx docs build"
   ]
  },
  {
   "cell_type": "markdown",
   "metadata": {},
   "source": [
    "# Run all tests"
   ]
  },
  {
   "cell_type": "code",
   "execution_count": null,
   "metadata": {},
   "outputs": [],
   "source": [
    "!python -m pytest mutagenesis_visualization/"
   ]
  },
  {
   "cell_type": "markdown",
   "metadata": {},
   "source": [
    "# Run Test by test"
   ]
  },
  {
   "cell_type": "markdown",
   "metadata": {},
   "source": [
    "## test_3D"
   ]
  },
  {
   "cell_type": "code",
   "execution_count": null,
   "metadata": {},
   "outputs": [],
   "source": [
    "!python -m pytest -s mutagenesis_visualization/tests/scripts/test_3D.py"
   ]
  },
  {
   "cell_type": "markdown",
   "metadata": {},
   "source": [
    "## test_pymol"
   ]
  },
  {
   "cell_type": "code",
   "execution_count": null,
   "metadata": {},
   "outputs": [],
   "source": [
    "!python -m pytest -s mutagenesis_visualization/tests/scripts/test_pymol.py"
   ]
  },
  {
   "cell_type": "markdown",
   "metadata": {},
   "source": [
    "## test_demo"
   ]
  },
  {
   "cell_type": "code",
   "execution_count": null,
   "metadata": {},
   "outputs": [],
   "source": [
    "!python -m pytest -s mutagenesis_visualization/tests/scripts/test_demo.py"
   ]
  },
  {
   "cell_type": "markdown",
   "metadata": {},
   "source": [
    "## test_kwargs"
   ]
  },
  {
   "cell_type": "code",
   "execution_count": null,
   "metadata": {},
   "outputs": [],
   "source": [
    "!python -m pytest mutagenesis_visualization/tests/scripts/test_kwargs.py"
   ]
  },
  {
   "cell_type": "markdown",
   "metadata": {},
   "source": [
    "## test_heatmaps"
   ]
  },
  {
   "cell_type": "code",
   "execution_count": null,
   "metadata": {},
   "outputs": [],
   "source": [
    "!python -m pytest mutagenesis_visualization/tests/scripts/test_heatmaps.py"
   ]
  },
  {
   "cell_type": "markdown",
   "metadata": {},
   "source": [
    "## test_process_data"
   ]
  },
  {
   "cell_type": "code",
   "execution_count": null,
   "metadata": {},
   "outputs": [],
   "source": [
    "!python -m pytest mutagenesis_visualization/tests/scripts/test_process_data.py"
   ]
  },
  {
   "cell_type": "markdown",
   "metadata": {},
   "source": [
    "## test_synthesis"
   ]
  },
  {
   "cell_type": "code",
   "execution_count": null,
   "metadata": {},
   "outputs": [],
   "source": [
    "!python -m pytest mutagenesis_visualization/tests/scripts/test_synthesis.py"
   ]
  },
  {
   "cell_type": "markdown",
   "metadata": {},
   "source": [
    "## test_utils"
   ]
  },
  {
   "cell_type": "code",
   "execution_count": null,
   "metadata": {},
   "outputs": [],
   "source": [
    "!python -m pytest mutagenesis_visualization/tests/scripts/test_utils.py"
   ]
  },
  {
   "cell_type": "markdown",
   "metadata": {},
   "source": [
    "## test_"
   ]
  },
  {
   "cell_type": "code",
   "execution_count": null,
   "metadata": {},
   "outputs": [],
   "source": [
    "import mutagenesis_visualization.__init__ as mt"
   ]
  },
  {
   "cell_type": "code",
   "execution_count": null,
   "metadata": {},
   "outputs": [],
   "source": [
    "mt.demo('mean')"
   ]
  },
  {
   "cell_type": "code",
   "execution_count": null,
   "metadata": {},
   "outputs": [],
   "source": [
    "mt.demo_datasets()"
   ]
  },
  {
   "cell_type": "code",
   "execution_count": null,
   "metadata": {},
   "outputs": [],
   "source": [
    "# #pip install git+https://github.com/fhidalgor/mutagenesis_visualization --use-feature=2020-resolver"
   ]
  },
  {
   "cell_type": "code",
   "execution_count": null,
   "metadata": {},
   "outputs": [],
   "source": [
    "pip install coverage"
   ]
  },
  {
   "cell_type": "code",
   "execution_count": 1,
   "metadata": {
    "execution": {
     "iopub.execute_input": "2020-11-24T02:21:54.384237Z",
     "iopub.status.busy": "2020-11-24T02:21:54.383896Z",
     "iopub.status.idle": "2020-11-24T02:22:13.887532Z",
     "shell.execute_reply": "2020-11-24T02:22:13.886600Z",
     "shell.execute_reply.started": "2020-11-24T02:21:54.384200Z"
    }
   },
   "outputs": [
    {
     "name": "stdout",
     "output_type": "stream",
     "text": [
      "\u001b[1m============================= test session starts ==============================\u001b[0m\n",
      "platform darwin -- Python 3.8.3, pytest-5.4.3, py-1.9.0, pluggy-0.13.1\n",
      "rootdir: /Users/fx/Dropbox/AKuriyanLab/Code/Python/Python_Scripts/mv_repo\n",
      "plugins: dash-1.16.3\n",
      "collected 27 items                                                             \u001b[0m\u001b[1m\u001b[1m\n",
      "\n",
      "mutagenesis_visualization/tests/scripts/test_3D.py \u001b[32m.\u001b[0m\u001b[32m.\u001b[0m\u001b[33m                    [  7%]\u001b[0m\n",
      "mutagenesis_visualization/tests/scripts/test_demo.py \u001b[32m.\u001b[0m\u001b[32m.\u001b[0m\u001b[32m.\u001b[0m\u001b[32m.\u001b[0m\u001b[33m                [ 22%]\u001b[0m\n",
      "mutagenesis_visualization/tests/scripts/test_heatmaps.py \u001b[32m.\u001b[0m\u001b[32m.\u001b[0m\u001b[32m.\u001b[0m\u001b[32m.\u001b[0m\u001b[32m.\u001b[0m\u001b[33m           [ 40%]\u001b[0m\n",
      "mutagenesis_visualization/tests/scripts/test_kwargs.py \u001b[32m.\u001b[0m\u001b[32m.\u001b[0m\u001b[33m                [ 48%]\u001b[0m\n",
      "mutagenesis_visualization/tests/scripts/test_process_data.py \u001b[32m.\u001b[0m\u001b[33m           [ 51%]\u001b[0m\n",
      "mutagenesis_visualization/tests/scripts/test_pymol.py \u001b[32m.\u001b[0m\u001b[33m                  [ 55%]\u001b[0m\n",
      "mutagenesis_visualization/tests/scripts/test_synthesis.py \u001b[32m.\u001b[0m\u001b[32m.\u001b[0m\u001b[32m.\u001b[0m\u001b[32m.\u001b[0m\u001b[33m           [ 70%]\u001b[0m\n",
      "mutagenesis_visualization/tests/scripts/test_utils.py \u001b[32m.\u001b[0m\u001b[32m.\u001b[0m\u001b[32m.\u001b[0m\u001b[32m.\u001b[0m\u001b[32m.\u001b[0m\u001b[32m.\u001b[0m\u001b[32m.\u001b[0m\u001b[32m.\u001b[0m\u001b[33m           [100%]\u001b[0m\n",
      "\n",
      "\u001b[33m=============================== warnings summary ===============================\u001b[0m\n",
      "/Users/fx/opt/anaconda3/lib/python3.8/site-packages/Bio/Alphabet/__init__.py:22\n",
      "  /Users/fx/opt/anaconda3/lib/python3.8/site-packages/Bio/Alphabet/__init__.py:22: PendingDeprecationWarning: We intend to remove or replace Bio.Alphabet in 2020, ideally avoid using it explicitly in your code. Please get in touch if you will be adversely affected by this. https://github.com/biopython/biopython/issues/2046\n",
      "    warnings.warn(\n",
      "\n",
      "-- Docs: https://docs.pytest.org/en/latest/warnings.html\n",
      "\u001b[33m======================== \u001b[32m27 passed\u001b[0m, \u001b[33m\u001b[1m1 warning\u001b[0m\u001b[33m in 17.53s\u001b[0m\u001b[33m ========================\u001b[0m\n"
     ]
    }
   ],
   "source": [
    "!coverage run -m pytest mutagenesis_visualization"
   ]
  },
  {
   "cell_type": "code",
   "execution_count": null,
   "metadata": {},
   "outputs": [],
   "source": []
  }
 ],
 "metadata": {
  "kernelspec": {
   "display_name": "Python 3",
   "language": "python",
   "name": "python3"
  },
  "language_info": {
   "codemirror_mode": {
    "name": "ipython",
    "version": 3
   },
   "file_extension": ".py",
   "mimetype": "text/x-python",
   "name": "python",
   "nbconvert_exporter": "python",
   "pygments_lexer": "ipython3",
   "version": "3.8.3"
  }
 },
 "nbformat": 4,
 "nbformat_minor": 4
}
