{
 "cells": [
  {
   "cell_type": "markdown",
   "metadata": {},
   "source": [
    "# Convert the ipynb to py files"
   ]
  },
  {
   "cell_type": "markdown",
   "metadata": {},
   "source": [
    "Convert main scripts"
   ]
  },
  {
   "cell_type": "code",
   "execution_count": 6,
   "metadata": {
    "execution": {
     "iopub.execute_input": "2020-11-26T20:26:30.452292Z",
     "iopub.status.busy": "2020-11-26T20:26:30.452068Z",
     "iopub.status.idle": "2020-11-26T20:26:32.771918Z",
     "shell.execute_reply": "2020-11-26T20:26:32.771139Z",
     "shell.execute_reply.started": "2020-11-26T20:26:30.452268Z"
    }
   },
   "outputs": [],
   "source": [
    "%%capture\n",
    "!jupyter nbconvert --output-dir='mutagenesis_visualization/main/scripts' --to script mutagenesis_visualization/main/notebooks/code_*.ipynb"
   ]
  },
  {
   "cell_type": "markdown",
   "metadata": {},
   "source": [
    "Convert tests"
   ]
  },
  {
   "cell_type": "code",
   "execution_count": 7,
   "metadata": {
    "execution": {
     "iopub.execute_input": "2020-11-26T20:26:32.774805Z",
     "iopub.status.busy": "2020-11-26T20:26:32.773881Z",
     "iopub.status.idle": "2020-11-26T20:26:34.300474Z",
     "shell.execute_reply": "2020-11-26T20:26:34.298817Z",
     "shell.execute_reply.started": "2020-11-26T20:26:32.774761Z"
    }
   },
   "outputs": [],
   "source": [
    "%%capture\n",
    "!jupyter nbconvert --output-dir='mutagenesis_visualization/tests/scripts' --to script mutagenesis_visualization/tests/notebooks/test_*"
   ]
  },
  {
   "cell_type": "markdown",
   "metadata": {},
   "source": [
    "# Convert the doc ipynb to rst files (and clean output)"
   ]
  },
  {
   "cell_type": "markdown",
   "metadata": {},
   "source": [
    "Clean output"
   ]
  },
  {
   "cell_type": "code",
   "execution_count": 8,
   "metadata": {
    "execution": {
     "iopub.execute_input": "2020-11-26T20:26:34.304138Z",
     "iopub.status.busy": "2020-11-26T20:26:34.303710Z",
     "iopub.status.idle": "2020-11-26T20:26:35.934077Z",
     "shell.execute_reply": "2020-11-26T20:26:35.933113Z",
     "shell.execute_reply.started": "2020-11-26T20:26:34.304082Z"
    }
   },
   "outputs": [],
   "source": [
    "%%capture\n",
    "!jupyter nbconvert --ClearOutputPreprocessor.enabled=True --clear-output --inplace mutagenesis_visualization/tutorial/doc*.ipynb"
   ]
  },
  {
   "cell_type": "markdown",
   "metadata": {},
   "source": [
    "Convert to rst"
   ]
  },
  {
   "cell_type": "code",
   "execution_count": 9,
   "metadata": {
    "execution": {
     "iopub.execute_input": "2020-11-26T20:26:35.935695Z",
     "iopub.status.busy": "2020-11-26T20:26:35.935398Z",
     "iopub.status.idle": "2020-11-26T20:26:43.532071Z",
     "shell.execute_reply": "2020-11-26T20:26:43.530444Z",
     "shell.execute_reply.started": "2020-11-26T20:26:35.935661Z"
    }
   },
   "outputs": [],
   "source": [
    "%%capture\n",
    "!jupyter nbconvert --output-dir='docs/' --to rst mutagenesis_visualization/tutorial/doc*.ipynb\n",
    "\n",
    "# edit image loading from doc0_intro.rst\n",
    "with open(\"docs/doc0_intro.rst\", \"r\") as f:\n",
    "    lines = f.readlines()\n",
    "with open(\"docs/doc0_intro.rst\", \"w\") as f:\n",
    "    for line in lines:\n",
    "        if line.strip(\"\\n\") == \".. |image1| image:: ../../docs/_static/workflow_v3.png\":\n",
    "            f.write(\".. |image1| image:: _static/workflow_v3.png\\n\")\n",
    "        else:\n",
    "            f.write(line)"
   ]
  },
  {
   "cell_type": "markdown",
   "metadata": {},
   "source": [
    "# Build documentation with Sphinx"
   ]
  },
  {
   "cell_type": "code",
   "execution_count": 10,
   "metadata": {
    "execution": {
     "iopub.execute_input": "2020-11-26T20:26:43.536063Z",
     "iopub.status.busy": "2020-11-26T20:26:43.535252Z",
     "iopub.status.idle": "2020-11-26T20:26:52.217037Z",
     "shell.execute_reply": "2020-11-26T20:26:52.215524Z",
     "shell.execute_reply.started": "2020-11-26T20:26:43.535911Z"
    }
   },
   "outputs": [
    {
     "name": "stdout",
     "output_type": "stream",
     "text": [
      "\u001b[01mRunning Sphinx v3.1.2\u001b[39;49;00m\n",
      "\u001b[01mloading pickled environment... \u001b[39;49;00mdone\n",
      "\u001b[01mbuilding [mo]: \u001b[39;49;00mtargets for 0 po files that are out of date\n",
      "\u001b[01mbuilding [html]: \u001b[39;49;00mtargets for 7 source files that are out of date\n",
      "\u001b[01mupdating environment: \u001b[39;49;00m0 added, 8 changed, 0 removed\n",
      "\u001b[01mreading sources... \u001b[39;49;00m[100%] \u001b[35mdoc6_other_datasets\u001b[39;49;00m                                   \n",
      "\u001b[91m/Users/fx/Dropbox/AKuriyanLab/Code/Python/Python_Scripts/mv_repo/mutagenesis_visualization/main/scripts/code_class.py:docstring of mutagenesis_visualization.Counts.rst:31: WARNING: autosummary: stub file not found 'mutagenesis_visualization.Counts.library_representation'. Check your autosummary_generate setting.\u001b[39;49;00m\n",
      "\u001b[91m/Users/fx/Dropbox/AKuriyanLab/Code/Python/Python_Scripts/mv_repo/mutagenesis_visualization/main/scripts/code_class.py:docstring of mutagenesis_visualization.Counts.rst:31: WARNING: autosummary: stub file not found 'mutagenesis_visualization.Counts.mean_counts'. Check your autosummary_generate setting.\u001b[39;49;00m\n",
      "\u001b[91m/Users/fx/Dropbox/AKuriyanLab/Code/Python/Python_Scripts/mv_repo/mutagenesis_visualization/main/scripts/code_class.py:docstring of mutagenesis_visualization.Screen.rst:57: WARNING: autosummary: stub file not found 'mutagenesis_visualization.Screen.correlation'. Check your autosummary_generate setting.\u001b[39;49;00m\n",
      "\u001b[91m/Users/fx/Dropbox/AKuriyanLab/Code/Python/Python_Scripts/mv_repo/mutagenesis_visualization/main/scripts/code_class.py:docstring of mutagenesis_visualization.Screen.rst:57: WARNING: autosummary: stub file not found 'mutagenesis_visualization.Screen.cumulative'. Check your autosummary_generate setting.\u001b[39;49;00m\n",
      "\u001b[91m/Users/fx/Dropbox/AKuriyanLab/Code/Python/Python_Scripts/mv_repo/mutagenesis_visualization/main/scripts/code_class.py:docstring of mutagenesis_visualization.Screen.rst:57: WARNING: autosummary: stub file not found 'mutagenesis_visualization.Screen.differential'. Check your autosummary_generate setting.\u001b[39;49;00m\n",
      "\u001b[91m/Users/fx/Dropbox/AKuriyanLab/Code/Python/Python_Scripts/mv_repo/mutagenesis_visualization/main/scripts/code_class.py:docstring of mutagenesis_visualization.Screen.rst:57: WARNING: autosummary: stub file not found 'mutagenesis_visualization.Screen.group_correlation'. Check your autosummary_generate setting.\u001b[39;49;00m\n",
      "\u001b[91m/Users/fx/Dropbox/AKuriyanLab/Code/Python/Python_Scripts/mv_repo/mutagenesis_visualization/main/scripts/code_class.py:docstring of mutagenesis_visualization.Screen.rst:57: WARNING: autosummary: stub file not found 'mutagenesis_visualization.Screen.heatmap'. Check your autosummary_generate setting.\u001b[39;49;00m\n",
      "\u001b[91m/Users/fx/Dropbox/AKuriyanLab/Code/Python/Python_Scripts/mv_repo/mutagenesis_visualization/main/scripts/code_class.py:docstring of mutagenesis_visualization.Screen.rst:57: WARNING: autosummary: stub file not found 'mutagenesis_visualization.Screen.heatmap_columns'. Check your autosummary_generate setting.\u001b[39;49;00m\n",
      "\u001b[91m/Users/fx/Dropbox/AKuriyanLab/Code/Python/Python_Scripts/mv_repo/mutagenesis_visualization/main/scripts/code_class.py:docstring of mutagenesis_visualization.Screen.rst:57: WARNING: autosummary: stub file not found 'mutagenesis_visualization.Screen.heatmap_rows'. Check your autosummary_generate setting.\u001b[39;49;00m\n",
      "\u001b[91m/Users/fx/Dropbox/AKuriyanLab/Code/Python/Python_Scripts/mv_repo/mutagenesis_visualization/main/scripts/code_class.py:docstring of mutagenesis_visualization.Screen.rst:57: WARNING: autosummary: stub file not found 'mutagenesis_visualization.Screen.histogram'. Check your autosummary_generate setting.\u001b[39;49;00m\n",
      "\u001b[91m/Users/fx/Dropbox/AKuriyanLab/Code/Python/Python_Scripts/mv_repo/mutagenesis_visualization/main/scripts/code_class.py:docstring of mutagenesis_visualization.Screen.rst:57: WARNING: autosummary: stub file not found 'mutagenesis_visualization.Screen.individual_correlation'. Check your autosummary_generate setting.\u001b[39;49;00m\n",
      "\u001b[91m/Users/fx/Dropbox/AKuriyanLab/Code/Python/Python_Scripts/mv_repo/mutagenesis_visualization/main/scripts/code_class.py:docstring of mutagenesis_visualization.Screen.rst:57: WARNING: autosummary: stub file not found 'mutagenesis_visualization.Screen.kernel'. Check your autosummary_generate setting.\u001b[39;49;00m\n",
      "\u001b[91m/Users/fx/Dropbox/AKuriyanLab/Code/Python/Python_Scripts/mv_repo/mutagenesis_visualization/main/scripts/code_class.py:docstring of mutagenesis_visualization.Screen.rst:57: WARNING: autosummary: stub file not found 'mutagenesis_visualization.Screen.mean'. Check your autosummary_generate setting.\u001b[39;49;00m\n",
      "\u001b[91m/Users/fx/Dropbox/AKuriyanLab/Code/Python/Python_Scripts/mv_repo/mutagenesis_visualization/main/scripts/code_class.py:docstring of mutagenesis_visualization.Screen.rst:57: WARNING: autosummary: stub file not found 'mutagenesis_visualization.Screen.miniheatmap'. Check your autosummary_generate setting.\u001b[39;49;00m\n",
      "\u001b[91m/Users/fx/Dropbox/AKuriyanLab/Code/Python/Python_Scripts/mv_repo/mutagenesis_visualization/main/scripts/code_class.py:docstring of mutagenesis_visualization.Screen.rst:57: WARNING: autosummary: stub file not found 'mutagenesis_visualization.Screen.neighboreffect'. Check your autosummary_generate setting.\u001b[39;49;00m\n",
      "\u001b[91m/Users/fx/Dropbox/AKuriyanLab/Code/Python/Python_Scripts/mv_repo/mutagenesis_visualization/main/scripts/code_class.py:docstring of mutagenesis_visualization.Screen.rst:57: WARNING: autosummary: stub file not found 'mutagenesis_visualization.Screen.pca'. Check your autosummary_generate setting.\u001b[39;49;00m\n",
      "\u001b[91m/Users/fx/Dropbox/AKuriyanLab/Code/Python/Python_Scripts/mv_repo/mutagenesis_visualization/main/scripts/code_class.py:docstring of mutagenesis_visualization.Screen.rst:57: WARNING: autosummary: stub file not found 'mutagenesis_visualization.Screen.position'. Check your autosummary_generate setting.\u001b[39;49;00m\n",
      "\u001b[91m/Users/fx/Dropbox/AKuriyanLab/Code/Python/Python_Scripts/mv_repo/mutagenesis_visualization/main/scripts/code_class.py:docstring of mutagenesis_visualization.Screen.rst:57: WARNING: autosummary: stub file not found 'mutagenesis_visualization.Screen.pymol'. Check your autosummary_generate setting.\u001b[39;49;00m\n",
      "\u001b[91m/Users/fx/Dropbox/AKuriyanLab/Code/Python/Python_Scripts/mv_repo/mutagenesis_visualization/main/scripts/code_class.py:docstring of mutagenesis_visualization.Screen.rst:57: WARNING: autosummary: stub file not found 'mutagenesis_visualization.Screen.rank'. Check your autosummary_generate setting.\u001b[39;49;00m\n",
      "\u001b[91m/Users/fx/Dropbox/AKuriyanLab/Code/Python/Python_Scripts/mv_repo/mutagenesis_visualization/main/scripts/code_class.py:docstring of mutagenesis_visualization.Screen.rst:57: WARNING: autosummary: stub file not found 'mutagenesis_visualization.Screen.rank_plotly'. Check your autosummary_generate setting.\u001b[39;49;00m\n",
      "\u001b[91m/Users/fx/Dropbox/AKuriyanLab/Code/Python/Python_Scripts/mv_repo/mutagenesis_visualization/main/scripts/code_class.py:docstring of mutagenesis_visualization.Screen.rst:57: WARNING: autosummary: stub file not found 'mutagenesis_visualization.Screen.roc'. Check your autosummary_generate setting.\u001b[39;49;00m\n",
      "\u001b[91m/Users/fx/Dropbox/AKuriyanLab/Code/Python/Python_Scripts/mv_repo/mutagenesis_visualization/main/scripts/code_class.py:docstring of mutagenesis_visualization.Screen.rst:57: WARNING: autosummary: stub file not found 'mutagenesis_visualization.Screen.scatter'. Check your autosummary_generate setting.\u001b[39;49;00m\n",
      "\u001b[91m/Users/fx/Dropbox/AKuriyanLab/Code/Python/Python_Scripts/mv_repo/mutagenesis_visualization/main/scripts/code_class.py:docstring of mutagenesis_visualization.Screen.rst:57: WARNING: autosummary: stub file not found 'mutagenesis_visualization.Screen.scatter_3D_pdbprop_plotly'. Check your autosummary_generate setting.\u001b[39;49;00m\n",
      "\u001b[91m/Users/fx/Dropbox/AKuriyanLab/Code/Python/Python_Scripts/mv_repo/mutagenesis_visualization/main/scripts/code_class.py:docstring of mutagenesis_visualization.Screen.rst:57: WARNING: autosummary: stub file not found 'mutagenesis_visualization.Screen.scatter_3D_plotly'. Check your autosummary_generate setting.\u001b[39;49;00m\n",
      "\u001b[91m/Users/fx/Dropbox/AKuriyanLab/Code/Python/Python_Scripts/mv_repo/mutagenesis_visualization/main/scripts/code_class.py:docstring of mutagenesis_visualization.Screen.rst:57: WARNING: autosummary: stub file not found 'mutagenesis_visualization.Screen.scatter_plotly'. Check your autosummary_generate setting.\u001b[39;49;00m\n",
      "\u001b[91m/Users/fx/Dropbox/AKuriyanLab/Code/Python/Python_Scripts/mv_repo/mutagenesis_visualization/main/scripts/code_class.py:docstring of mutagenesis_visualization.Screen.rst:57: WARNING: autosummary: stub file not found 'mutagenesis_visualization.Screen.secondary_mean'. Check your autosummary_generate setting.\u001b[39;49;00m\n",
      "\u001b[91m/Users/fx/Dropbox/AKuriyanLab/Code/Python/Python_Scripts/mv_repo/mutagenesis_visualization/main/scripts/code_class.py:docstring of mutagenesis_visualization.Screen.rank_plotly:5: WARNING: Inline emphasis start-string without end-string.\u001b[39;49;00m\n",
      "\u001b[91m/Users/fx/Dropbox/AKuriyanLab/Code/Python/Python_Scripts/mv_repo/mutagenesis_visualization/main/scripts/code_class.py:docstring of mutagenesis_visualization.Screen.scatter_3D_pdbprop_plotly:6: WARNING: Inline strong start-string without end-string.\u001b[39;49;00m\n",
      "\u001b[91m/Users/fx/Dropbox/AKuriyanLab/Code/Python/Python_Scripts/mv_repo/mutagenesis_visualization/main/scripts/code_class.py:docstring of mutagenesis_visualization.Screen.scatter_3D_plotly:6: WARNING: Inline strong start-string without end-string.\u001b[39;49;00m\n",
      "\u001b[91m/Users/fx/Dropbox/AKuriyanLab/Code/Python/Python_Scripts/mv_repo/mutagenesis_visualization/main/scripts/code_kernel.py:docstring of mutagenesis_visualization.plot_multiplekernel:24: WARNING: Inline strong start-string without end-string.\u001b[39;49;00m\n",
      "\u001b[91m/Users/fx/Dropbox/AKuriyanLab/Code/Python/Python_Scripts/mv_repo/docs/doc3_normalizing.rst:446: WARNING: duplicate label heatmaps, other instance in /Users/fx/Dropbox/AKuriyanLab/Code/Python/Python_Scripts/mv_repo/docs/doc4_plotting.rst\u001b[39;49;00m\n",
      "\u001b[91m/Users/fx/Dropbox/AKuriyanLab/Code/Python/Python_Scripts/mv_repo/docs/doc4_plotting.rst:94: WARNING: duplicate label heatmaps, other instance in /Users/fx/Dropbox/AKuriyanLab/Code/Python/Python_Scripts/mv_repo/docs/doc3_normalizing.rst\u001b[39;49;00m\n",
      "\u001b[91m/Users/fx/Dropbox/AKuriyanLab/Code/Python/Python_Scripts/mv_repo/docs/doc6_other_datasets.rst:319: WARNING: duplicate label load data, other instance in /Users/fx/Dropbox/AKuriyanLab/Code/Python/Python_Scripts/mv_repo/docs/doc6_other_datasets.rst\u001b[39;49;00m\n",
      "\u001b[91m/Users/fx/Dropbox/AKuriyanLab/Code/Python/Python_Scripts/mv_repo/docs/doc6_other_datasets.rst:342: WARNING: duplicate label create object, other instance in /Users/fx/Dropbox/AKuriyanLab/Code/Python/Python_Scripts/mv_repo/docs/doc6_other_datasets.rst\u001b[39;49;00m\n",
      "\u001b[91m/Users/fx/Dropbox/AKuriyanLab/Code/Python/Python_Scripts/mv_repo/docs/doc6_other_datasets.rst:369: WARNING: duplicate label 2d plots, other instance in /Users/fx/Dropbox/AKuriyanLab/Code/Python/Python_Scripts/mv_repo/docs/doc6_other_datasets.rst\u001b[39;49;00m\n",
      "\u001b[91m/Users/fx/Dropbox/AKuriyanLab/Code/Python/Python_Scripts/mv_repo/docs/doc6_other_datasets.rst:497: WARNING: duplicate label load data, other instance in /Users/fx/Dropbox/AKuriyanLab/Code/Python/Python_Scripts/mv_repo/docs/doc6_other_datasets.rst\u001b[39;49;00m\n",
      "\u001b[91m/Users/fx/Dropbox/AKuriyanLab/Code/Python/Python_Scripts/mv_repo/docs/doc6_other_datasets.rst:519: WARNING: duplicate label create object, other instance in /Users/fx/Dropbox/AKuriyanLab/Code/Python/Python_Scripts/mv_repo/docs/doc6_other_datasets.rst\u001b[39;49;00m\n",
      "\u001b[91m/Users/fx/Dropbox/AKuriyanLab/Code/Python/Python_Scripts/mv_repo/docs/doc6_other_datasets.rst:544: WARNING: duplicate label 2d plots, other instance in /Users/fx/Dropbox/AKuriyanLab/Code/Python/Python_Scripts/mv_repo/docs/doc6_other_datasets.rst\u001b[39;49;00m\n",
      "\u001b[91m/Users/fx/Dropbox/AKuriyanLab/Code/Python/Python_Scripts/mv_repo/docs/doc6_other_datasets.rst:636: WARNING: duplicate label load data, other instance in /Users/fx/Dropbox/AKuriyanLab/Code/Python/Python_Scripts/mv_repo/docs/doc6_other_datasets.rst\u001b[39;49;00m\n",
      "\u001b[91m/Users/fx/Dropbox/AKuriyanLab/Code/Python/Python_Scripts/mv_repo/docs/doc6_other_datasets.rst:659: WARNING: duplicate label create object, other instance in /Users/fx/Dropbox/AKuriyanLab/Code/Python/Python_Scripts/mv_repo/docs/doc6_other_datasets.rst\u001b[39;49;00m\n",
      "\u001b[91m/Users/fx/Dropbox/AKuriyanLab/Code/Python/Python_Scripts/mv_repo/docs/doc6_other_datasets.rst:689: WARNING: duplicate label 2d plots, other instance in /Users/fx/Dropbox/AKuriyanLab/Code/Python/Python_Scripts/mv_repo/docs/doc6_other_datasets.rst\u001b[39;49;00m\n",
      "\u001b[91m/Users/fx/Dropbox/AKuriyanLab/Code/Python/Python_Scripts/mv_repo/docs/doc6_other_datasets.rst:809: WARNING: duplicate label load data, other instance in /Users/fx/Dropbox/AKuriyanLab/Code/Python/Python_Scripts/mv_repo/docs/doc6_other_datasets.rst\u001b[39;49;00m\n",
      "\u001b[91m/Users/fx/Dropbox/AKuriyanLab/Code/Python/Python_Scripts/mv_repo/docs/doc6_other_datasets.rst:828: WARNING: duplicate label create object, other instance in /Users/fx/Dropbox/AKuriyanLab/Code/Python/Python_Scripts/mv_repo/docs/doc6_other_datasets.rst\u001b[39;49;00m\n",
      "\u001b[91m/Users/fx/Dropbox/AKuriyanLab/Code/Python/Python_Scripts/mv_repo/docs/doc6_other_datasets.rst:852: WARNING: duplicate label 2d plots, other instance in /Users/fx/Dropbox/AKuriyanLab/Code/Python/Python_Scripts/mv_repo/docs/doc6_other_datasets.rst\u001b[39;49;00m\n",
      "\u001b[91m/Users/fx/Dropbox/AKuriyanLab/Code/Python/Python_Scripts/mv_repo/docs/doc6_other_datasets.rst:943: WARNING: duplicate label load data, other instance in /Users/fx/Dropbox/AKuriyanLab/Code/Python/Python_Scripts/mv_repo/docs/doc6_other_datasets.rst\u001b[39;49;00m\n",
      "\u001b[91m/Users/fx/Dropbox/AKuriyanLab/Code/Python/Python_Scripts/mv_repo/docs/doc6_other_datasets.rst:963: WARNING: duplicate label create object, other instance in /Users/fx/Dropbox/AKuriyanLab/Code/Python/Python_Scripts/mv_repo/docs/doc6_other_datasets.rst\u001b[39;49;00m\n",
      "\u001b[91m/Users/fx/Dropbox/AKuriyanLab/Code/Python/Python_Scripts/mv_repo/docs/doc6_other_datasets.rst:995: WARNING: duplicate label 2d plots, other instance in /Users/fx/Dropbox/AKuriyanLab/Code/Python/Python_Scripts/mv_repo/docs/doc6_other_datasets.rst\u001b[39;49;00m\n",
      "\u001b[91m/Users/fx/Dropbox/AKuriyanLab/Code/Python/Python_Scripts/mv_repo/docs/doc6_other_datasets.rst:1086: WARNING: duplicate label load data, other instance in /Users/fx/Dropbox/AKuriyanLab/Code/Python/Python_Scripts/mv_repo/docs/doc6_other_datasets.rst\u001b[39;49;00m\n",
      "\u001b[91m/Users/fx/Dropbox/AKuriyanLab/Code/Python/Python_Scripts/mv_repo/docs/doc6_other_datasets.rst:1104: WARNING: duplicate label create object, other instance in /Users/fx/Dropbox/AKuriyanLab/Code/Python/Python_Scripts/mv_repo/docs/doc6_other_datasets.rst\u001b[39;49;00m\n",
      "\u001b[91m/Users/fx/Dropbox/AKuriyanLab/Code/Python/Python_Scripts/mv_repo/docs/doc6_other_datasets.rst:1130: WARNING: duplicate label 2d plots, other instance in /Users/fx/Dropbox/AKuriyanLab/Code/Python/Python_Scripts/mv_repo/docs/doc6_other_datasets.rst\u001b[39;49;00m\n",
      "\u001b[91m/Users/fx/Dropbox/AKuriyanLab/Code/Python/Python_Scripts/mv_repo/docs/doc6_other_datasets.rst:1223: WARNING: duplicate label load data, other instance in /Users/fx/Dropbox/AKuriyanLab/Code/Python/Python_Scripts/mv_repo/docs/doc6_other_datasets.rst\u001b[39;49;00m\n",
      "\u001b[91m/Users/fx/Dropbox/AKuriyanLab/Code/Python/Python_Scripts/mv_repo/docs/doc6_other_datasets.rst:1242: WARNING: duplicate label create object, other instance in /Users/fx/Dropbox/AKuriyanLab/Code/Python/Python_Scripts/mv_repo/docs/doc6_other_datasets.rst\u001b[39;49;00m\n",
      "\u001b[91m/Users/fx/Dropbox/AKuriyanLab/Code/Python/Python_Scripts/mv_repo/docs/doc6_other_datasets.rst:1282: WARNING: duplicate label 2d plots, other instance in /Users/fx/Dropbox/AKuriyanLab/Code/Python/Python_Scripts/mv_repo/docs/doc6_other_datasets.rst\u001b[39;49;00m\n",
      "\u001b[91m/Users/fx/Dropbox/AKuriyanLab/Code/Python/Python_Scripts/mv_repo/docs/doc6_other_datasets.rst:1438: WARNING: duplicate label load data, other instance in /Users/fx/Dropbox/AKuriyanLab/Code/Python/Python_Scripts/mv_repo/docs/doc6_other_datasets.rst\u001b[39;49;00m\n",
      "\u001b[91m/Users/fx/Dropbox/AKuriyanLab/Code/Python/Python_Scripts/mv_repo/docs/doc6_other_datasets.rst:1461: WARNING: duplicate label create object, other instance in /Users/fx/Dropbox/AKuriyanLab/Code/Python/Python_Scripts/mv_repo/docs/doc6_other_datasets.rst\u001b[39;49;00m\n",
      "\u001b[91m/Users/fx/Dropbox/AKuriyanLab/Code/Python/Python_Scripts/mv_repo/docs/doc6_other_datasets.rst:1481: WARNING: duplicate label 2d plots, other instance in /Users/fx/Dropbox/AKuriyanLab/Code/Python/Python_Scripts/mv_repo/docs/doc6_other_datasets.rst\u001b[39;49;00m\n",
      "\u001b[01mlooking for now-outdated files... \u001b[39;49;00mnone found\n",
      "\u001b[01mpickling environment... \u001b[39;49;00mdone\n",
      "\u001b[01mchecking consistency... \u001b[39;49;00mdone\n",
      "\u001b[01mpreparing documents... \u001b[39;49;00mdone\n",
      "\u001b[01mwriting output... \u001b[39;49;00m[100%] \u001b[32mindex\u001b[39;49;00m                                                  \n",
      "\u001b[01mgenerating indices... \u001b[39;49;00m genindexdone\n",
      "\u001b[01mwriting additional pages... \u001b[39;49;00m searchdone\n",
      "\u001b[01mcopying images... \u001b[39;49;00m[100%] \u001b[33mimages/exported_images/user_experience_v2.png\u001b[39;49;00m          m\n",
      "\u001b[01mcopying static files... ... \u001b[39;49;00mdone\n",
      "\u001b[01mcopying extra files... \u001b[39;49;00mdone\n",
      "\u001b[01mdumping search index in English (code: en)... \u001b[39;49;00mdone\n",
      "\u001b[01mdumping object inventory... \u001b[39;49;00mdone\n",
      "\u001b[01mbuild succeeded, 56 warnings.\u001b[39;49;00m\n",
      "\n",
      "The HTML pages are in build.\n"
     ]
    }
   ],
   "source": [
    "! python3 -m sphinx docs build"
   ]
  },
  {
   "cell_type": "markdown",
   "metadata": {},
   "source": [
    "# Run all tests"
   ]
  },
  {
   "cell_type": "code",
   "execution_count": null,
   "metadata": {},
   "outputs": [],
   "source": [
    "!python -m pytest mutagenesis_visualization/"
   ]
  },
  {
   "cell_type": "markdown",
   "metadata": {},
   "source": [
    "# Run Test by test"
   ]
  },
  {
   "cell_type": "markdown",
   "metadata": {},
   "source": [
    "## test_3D"
   ]
  },
  {
   "cell_type": "code",
   "execution_count": null,
   "metadata": {},
   "outputs": [],
   "source": [
    "!python -m pytest -s mutagenesis_visualization/tests/scripts/test_3D.py"
   ]
  },
  {
   "cell_type": "markdown",
   "metadata": {},
   "source": [
    "## test_pymol"
   ]
  },
  {
   "cell_type": "code",
   "execution_count": null,
   "metadata": {},
   "outputs": [],
   "source": [
    "!python -m pytest -s mutagenesis_visualization/tests/scripts/test_pymol.py"
   ]
  },
  {
   "cell_type": "markdown",
   "metadata": {},
   "source": [
    "## test_demo"
   ]
  },
  {
   "cell_type": "code",
   "execution_count": null,
   "metadata": {},
   "outputs": [],
   "source": [
    "!python -m pytest -s mutagenesis_visualization/tests/scripts/test_demo.py"
   ]
  },
  {
   "cell_type": "markdown",
   "metadata": {},
   "source": [
    "## test_kwargs"
   ]
  },
  {
   "cell_type": "code",
   "execution_count": null,
   "metadata": {},
   "outputs": [],
   "source": [
    "!python -m pytest mutagenesis_visualization/tests/scripts/test_kwargs.py"
   ]
  },
  {
   "cell_type": "markdown",
   "metadata": {},
   "source": [
    "## test_heatmaps"
   ]
  },
  {
   "cell_type": "code",
   "execution_count": null,
   "metadata": {},
   "outputs": [],
   "source": [
    "!python -m pytest mutagenesis_visualization/tests/scripts/test_heatmaps.py"
   ]
  },
  {
   "cell_type": "markdown",
   "metadata": {},
   "source": [
    "## test_process_data"
   ]
  },
  {
   "cell_type": "code",
   "execution_count": null,
   "metadata": {},
   "outputs": [],
   "source": [
    "!python -m pytest mutagenesis_visualization/tests/scripts/test_process_data.py"
   ]
  },
  {
   "cell_type": "markdown",
   "metadata": {},
   "source": [
    "## test_synthesis"
   ]
  },
  {
   "cell_type": "code",
   "execution_count": null,
   "metadata": {},
   "outputs": [],
   "source": [
    "!python -m pytest mutagenesis_visualization/tests/scripts/test_synthesis.py"
   ]
  },
  {
   "cell_type": "markdown",
   "metadata": {},
   "source": [
    "## test_utils"
   ]
  },
  {
   "cell_type": "code",
   "execution_count": null,
   "metadata": {},
   "outputs": [],
   "source": [
    "!python -m pytest mutagenesis_visualization/tests/scripts/test_utils.py"
   ]
  },
  {
   "cell_type": "markdown",
   "metadata": {},
   "source": [
    "## test_"
   ]
  },
  {
   "cell_type": "code",
   "execution_count": null,
   "metadata": {},
   "outputs": [],
   "source": [
    "import mutagenesis_visualization.__init__ as mt"
   ]
  },
  {
   "cell_type": "code",
   "execution_count": null,
   "metadata": {},
   "outputs": [],
   "source": [
    "mt.demo('mean')"
   ]
  },
  {
   "cell_type": "code",
   "execution_count": null,
   "metadata": {},
   "outputs": [],
   "source": [
    "mt.demo_datasets()"
   ]
  },
  {
   "cell_type": "code",
   "execution_count": null,
   "metadata": {},
   "outputs": [],
   "source": [
    "# #pip install git+https://github.com/fhidalgor/mutagenesis_visualization --use-feature=2020-resolver"
   ]
  },
  {
   "cell_type": "code",
   "execution_count": null,
   "metadata": {},
   "outputs": [],
   "source": [
    "pip install coverage"
   ]
  },
  {
   "cell_type": "code",
   "execution_count": null,
   "metadata": {},
   "outputs": [],
   "source": [
    "!coverage run -m pytest mutagenesis_visualization"
   ]
  },
  {
   "cell_type": "code",
   "execution_count": null,
   "metadata": {},
   "outputs": [],
   "source": []
  }
 ],
 "metadata": {
  "kernelspec": {
   "display_name": "Python 3",
   "language": "python",
   "name": "python3"
  },
  "language_info": {
   "codemirror_mode": {
    "name": "ipython",
    "version": 3
   },
   "file_extension": ".py",
   "mimetype": "text/x-python",
   "name": "python",
   "nbconvert_exporter": "python",
   "pygments_lexer": "ipython3",
   "version": "3.8.3"
  }
 },
 "nbformat": 4,
 "nbformat_minor": 4
}
