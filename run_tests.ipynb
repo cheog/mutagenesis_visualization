{
 "cells": [
  {
   "cell_type": "markdown",
   "metadata": {},
   "source": [
    "# Convert the ipynb to py files"
   ]
  },
  {
   "cell_type": "markdown",
   "metadata": {},
   "source": [
    "Convert main scripts"
   ]
  },
  {
   "cell_type": "code",
   "execution_count": 1,
   "metadata": {
    "execution": {
     "iopub.execute_input": "2021-01-20T02:28:30.936738Z",
     "iopub.status.busy": "2021-01-20T02:28:30.935925Z",
     "iopub.status.idle": "2021-01-20T02:28:33.926492Z",
     "shell.execute_reply": "2021-01-20T02:28:33.924716Z",
     "shell.execute_reply.started": "2021-01-20T02:28:30.936697Z"
    }
   },
   "outputs": [],
   "source": [
    "%%capture\n",
    "!jupyter nbconvert --output-dir='mutagenesis_visualization/main/scripts' --to script mutagenesis_visualization/main/notebooks/code_*.ipynb"
   ]
  },
  {
   "cell_type": "markdown",
   "metadata": {},
   "source": [
    "Dashboard"
   ]
  },
  {
   "cell_type": "code",
   "execution_count": null,
   "metadata": {},
   "outputs": [],
   "source": [
    "!jupyter nbconvert --output-dir='../mv_dashboard/' --to script mutagenesis_visualization/main/notebooks/mv_dashboard.ipynb\n"
   ]
  },
  {
   "cell_type": "markdown",
   "metadata": {},
   "source": [
    "Convert tests"
   ]
  },
  {
   "cell_type": "code",
   "execution_count": null,
   "metadata": {},
   "outputs": [],
   "source": [
    "%%capture\n",
    "!jupyter nbconvert --output-dir='mutagenesis_visualization/tests/scripts' --to script mutagenesis_visualization/tests/notebooks/test_*"
   ]
  },
  {
   "cell_type": "markdown",
   "metadata": {
    "jupyter": {
     "source_hidden": true
    }
   },
   "source": [
    "# Convert the doc ipynb to rst files (and clean output)"
   ]
  },
  {
   "cell_type": "markdown",
   "metadata": {},
   "source": [
    "Clean output"
   ]
  },
  {
   "cell_type": "code",
   "execution_count": null,
   "metadata": {},
   "outputs": [],
   "source": [
    "%%capture\n",
    "!jupyter nbconvert --ClearOutputPreprocessor.enabled=True --clear-output --inplace mutagenesis_visualization/tutorial/doc*.ipynb"
   ]
  },
  {
   "cell_type": "markdown",
   "metadata": {},
   "source": [
    "Convert to rst"
   ]
  },
  {
   "cell_type": "code",
   "execution_count": null,
   "metadata": {},
   "outputs": [],
   "source": [
    "%%capture\n",
    "!jupyter nbconvert --output-dir='docs/' --to rst mutagenesis_visualization/tutorial/doc*.ipynb\n",
    "\n",
    "# edit image loading from doc0_intro.rst\n",
    "with open(\"docs/doc0_intro.rst\", \"r\") as f:\n",
    "    lines = f.readlines()\n",
    "with open(\"docs/doc0_intro.rst\", \"w\") as f:\n",
    "    for line in lines:\n",
    "        if line.strip(\"\\n\") == \".. |image1| image:: ../../docs/_static/workflow_v3.png\":\n",
    "            f.write(\".. |image1| image:: _static/workflow_v3.png\\n\")\n",
    "        else:\n",
    "            f.write(line)"
   ]
  },
  {
   "cell_type": "markdown",
   "metadata": {},
   "source": [
    "# Build documentation with Sphinx"
   ]
  },
  {
   "cell_type": "code",
   "execution_count": null,
   "metadata": {},
   "outputs": [],
   "source": [
    "%%capture\n",
    "! python3 -m sphinx docs build"
   ]
  },
  {
   "cell_type": "markdown",
   "metadata": {},
   "source": [
    "# Run all tests"
   ]
  },
  {
   "cell_type": "code",
   "execution_count": null,
   "metadata": {},
   "outputs": [],
   "source": [
    "!python -m pytest mutagenesis_visualization/"
   ]
  },
  {
   "cell_type": "markdown",
   "metadata": {},
   "source": [
    "# Run Test by test"
   ]
  },
  {
   "cell_type": "markdown",
   "metadata": {},
   "source": [
    "## test_3D"
   ]
  },
  {
   "cell_type": "code",
   "execution_count": null,
   "metadata": {},
   "outputs": [],
   "source": [
    "!python -m pytest -s mutagenesis_visualization/tests/scripts/test_3D.py"
   ]
  },
  {
   "cell_type": "markdown",
   "metadata": {},
   "source": [
    "## test_class"
   ]
  },
  {
   "cell_type": "code",
   "execution_count": null,
   "metadata": {},
   "outputs": [],
   "source": [
    "!python -m pytest -s mutagenesis_visualization/tests/scripts/test_class.py"
   ]
  },
  {
   "cell_type": "markdown",
   "metadata": {},
   "source": [
    "## test_create_objects"
   ]
  },
  {
   "cell_type": "code",
   "execution_count": null,
   "metadata": {},
   "outputs": [],
   "source": [
    "!python -m pytest -s mutagenesis_visualization/tests/scripts/test_create_objects.py"
   ]
  },
  {
   "cell_type": "markdown",
   "metadata": {},
   "source": [
    "## test_demo"
   ]
  },
  {
   "cell_type": "code",
   "execution_count": null,
   "metadata": {},
   "outputs": [],
   "source": [
    "!python -m pytest -s mutagenesis_visualization/tests/scripts/test_demo.py"
   ]
  },
  {
   "cell_type": "markdown",
   "metadata": {},
   "source": [
    "## test_heatmaps"
   ]
  },
  {
   "cell_type": "code",
   "execution_count": null,
   "metadata": {},
   "outputs": [],
   "source": [
    "!python -m pytest mutagenesis_visualization/tests/scripts/test_heatmaps.py"
   ]
  },
  {
   "cell_type": "markdown",
   "metadata": {
    "execution": {
     "iopub.execute_input": "2021-01-20T00:27:30.604570Z",
     "iopub.status.busy": "2021-01-20T00:27:30.604026Z",
     "iopub.status.idle": "2021-01-20T00:27:30.609076Z",
     "shell.execute_reply": "2021-01-20T00:27:30.607775Z",
     "shell.execute_reply.started": "2021-01-20T00:27:30.604531Z"
    }
   },
   "source": [
    "## test_kernel"
   ]
  },
  {
   "cell_type": "code",
   "execution_count": null,
   "metadata": {},
   "outputs": [],
   "source": [
    "!python -m pytest mutagenesis_visualization/tests/scripts/test_kernel.py"
   ]
  },
  {
   "cell_type": "markdown",
   "metadata": {},
   "source": [
    "## test_kwargs"
   ]
  },
  {
   "cell_type": "code",
   "execution_count": null,
   "metadata": {},
   "outputs": [],
   "source": [
    "!python -m pytest mutagenesis_visualization/tests/scripts/test_kwargs.py"
   ]
  },
  {
   "cell_type": "markdown",
   "metadata": {},
   "source": [
    "## test_other"
   ]
  },
  {
   "cell_type": "code",
   "execution_count": 2,
   "metadata": {
    "execution": {
     "iopub.execute_input": "2021-01-20T00:31:38.192886Z",
     "iopub.status.busy": "2021-01-20T00:31:38.192603Z",
     "iopub.status.idle": "2021-01-20T00:31:39.331142Z",
     "shell.execute_reply": "2021-01-20T00:31:39.330146Z",
     "shell.execute_reply.started": "2021-01-20T00:31:38.192857Z"
    }
   },
   "outputs": [
    {
     "name": "stdout",
     "output_type": "stream",
     "text": [
      "\u001b[1m============================= test session starts ==============================\u001b[0m\n",
      "platform darwin -- Python 3.8.3, pytest-5.4.3, py-1.9.0, pluggy-0.13.1\n",
      "rootdir: /Users/fx/Dropbox/AKuriyanLab/Code/Python/Python_Scripts/mv_repo\n",
      "plugins: dash-1.17.0\n",
      "collected 0 items / 1 error                                                    \u001b[0m\n",
      "\n",
      "==================================== ERRORS ====================================\n",
      "\u001b[31m\u001b[1m____ ERROR collecting mutagenesis_visualization/tests/scripts/test_other.py ____\u001b[0m\n",
      "\u001b[31m/Users/fx/opt/anaconda3/lib/python3.8/site-packages/_pytest/python.py:511: in _importtestmodule\n",
      "    mod = self.fspath.pyimport(ensuresyspath=importmode)\n",
      "/Users/fx/opt/anaconda3/lib/python3.8/site-packages/py/_path/local.py:704: in pyimport\n",
      "    __import__(modname)\n",
      "<frozen importlib._bootstrap>:991: in _find_and_load\n",
      "    ???\n",
      "<frozen importlib._bootstrap>:975: in _find_and_load_unlocked\n",
      "    ???\n",
      "<frozen importlib._bootstrap>:671: in _load_unlocked\n",
      "    ???\n",
      "/Users/fx/opt/anaconda3/lib/python3.8/site-packages/_pytest/assertion/rewrite.py:143: in exec_module\n",
      "    source_stat, co = _rewrite_test(fn, self.config)\n",
      "/Users/fx/opt/anaconda3/lib/python3.8/site-packages/_pytest/assertion/rewrite.py:328: in _rewrite_test\n",
      "    tree = ast.parse(source, filename=fn)\n",
      "/Users/fx/opt/anaconda3/lib/python3.8/ast.py:47: in parse\n",
      "    return compile(source, filename, mode, flags,\n",
      "E     File \"/Users/fx/Dropbox/AKuriyanLab/Code/Python/Python_Scripts/mv_repo/mutagenesis_visualization/tests/scripts/test_other.py\", line 277\n",
      "E       df_freq=\n",
      "E              ^\n",
      "E   SyntaxError: invalid syntax\u001b[0m\n",
      "=========================== short test summary info ============================\n",
      "ERROR mutagenesis_visualization/tests/scripts/test_other.py\n",
      "!!!!!!!!!!!!!!!!!!!! Interrupted: 1 error during collection !!!!!!!!!!!!!!!!!!!!\n",
      "\u001b[31m=============================== \u001b[31m\u001b[1m1 error\u001b[0m\u001b[31m in 0.20s\u001b[0m\u001b[31m ===============================\u001b[0m\n"
     ]
    }
   ],
   "source": [
    "!python -m pytest mutagenesis_visualization/tests/scripts/test_other.py"
   ]
  },
  {
   "cell_type": "markdown",
   "metadata": {},
   "source": [
    "## test_PCA"
   ]
  },
  {
   "cell_type": "code",
   "execution_count": null,
   "metadata": {},
   "outputs": [],
   "source": [
    "!python -m pytest mutagenesis_visualization/tests/scripts/test_PCA.py"
   ]
  },
  {
   "cell_type": "markdown",
   "metadata": {},
   "source": [
    "## test_plotly"
   ]
  },
  {
   "cell_type": "code",
   "execution_count": null,
   "metadata": {},
   "outputs": [],
   "source": [
    "!python -m pytest mutagenesis_visualization/tests/scripts/test_plotly.py"
   ]
  },
  {
   "cell_type": "markdown",
   "metadata": {},
   "source": [
    "## test_process_data"
   ]
  },
  {
   "cell_type": "code",
   "execution_count": null,
   "metadata": {},
   "outputs": [],
   "source": [
    "!python -m pytest mutagenesis_visualization/tests/scripts/test_process_data.py"
   ]
  },
  {
   "cell_type": "markdown",
   "metadata": {},
   "source": [
    "## test_pymol"
   ]
  },
  {
   "cell_type": "code",
   "execution_count": null,
   "metadata": {},
   "outputs": [],
   "source": [
    "!python -m pytest -s mutagenesis_visualization/tests/scripts/test_pymol.py"
   ]
  },
  {
   "cell_type": "markdown",
   "metadata": {},
   "source": [
    "## test_scatter"
   ]
  },
  {
   "cell_type": "code",
   "execution_count": null,
   "metadata": {},
   "outputs": [],
   "source": [
    "!python -m pytest -s mutagenesis_visualization/tests/scripts/test_scatter.py"
   ]
  },
  {
   "cell_type": "markdown",
   "metadata": {},
   "source": [
    "## test_synthesis"
   ]
  },
  {
   "cell_type": "code",
   "execution_count": null,
   "metadata": {},
   "outputs": [],
   "source": [
    "!python -m pytest -s mutagenesis_visualization/tests/scripts/test_synthesis.py"
   ]
  },
  {
   "cell_type": "markdown",
   "metadata": {},
   "source": [
    "## test_utils"
   ]
  },
  {
   "cell_type": "code",
   "execution_count": null,
   "metadata": {},
   "outputs": [],
   "source": [
    "!python -m pytest mutagenesis_visualization/tests/scripts/test_utils.py"
   ]
  },
  {
   "cell_type": "markdown",
   "metadata": {},
   "source": [
    "## Coverage"
   ]
  },
  {
   "cell_type": "code",
   "execution_count": null,
   "metadata": {},
   "outputs": [],
   "source": [
    "!coverage run -m pytest mutagenesis_visualization"
   ]
  },
  {
   "cell_type": "markdown",
   "metadata": {},
   "source": [
    "# Doc formatter"
   ]
  },
  {
   "cell_type": "code",
   "execution_count": null,
   "metadata": {},
   "outputs": [],
   "source": [
    "!docformatter --in-place --pre-summary-newline --make-summary-multi-line --wrap-summaries 79 --wrap-descriptions 72 --blank mutagenesis_visualization/main/scripts/code_class.py"
   ]
  },
  {
   "cell_type": "code",
   "execution_count": null,
   "metadata": {},
   "outputs": [],
   "source": [
    "!docformatter --in-place --pre-summary-newline --blank mutagenesis_visualization/main/notebooks/code_other.ipynb"
   ]
  },
  {
   "cell_type": "code",
   "execution_count": null,
   "metadata": {},
   "outputs": [],
   "source": [
    "!docformatter --in-place --pre-summary-newline --make-summary-multi-line --wrap-summaries 79 --wrap-descriptions 72 --blank mutagenesis_visualization/main/notebooks/code_*"
   ]
  }
 ],
 "metadata": {
  "kernelspec": {
   "display_name": "Python 3",
   "language": "python",
   "name": "python3"
  },
  "language_info": {
   "codemirror_mode": {
    "name": "ipython",
    "version": 3
   },
   "file_extension": ".py",
   "mimetype": "text/x-python",
   "name": "python",
   "nbconvert_exporter": "python",
   "pygments_lexer": "ipython3",
   "version": "3.8.3"
  }
 },
 "nbformat": 4,
 "nbformat_minor": 4
}
