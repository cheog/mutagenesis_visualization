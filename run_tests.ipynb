{
 "cells": [
  {
   "cell_type": "markdown",
   "metadata": {},
   "source": [
    "# Convert the ipynb to py files"
   ]
  },
  {
   "cell_type": "markdown",
   "metadata": {},
   "source": [
    "Convert main scripts"
   ]
  },
  {
   "cell_type": "code",
   "execution_count": 2,
   "metadata": {
    "execution": {
     "iopub.execute_input": "2020-12-07T06:04:17.342123Z",
     "iopub.status.busy": "2020-12-07T06:04:17.341835Z",
     "iopub.status.idle": "2020-12-07T06:04:21.090551Z",
     "shell.execute_reply": "2020-12-07T06:04:21.089911Z",
     "shell.execute_reply.started": "2020-12-07T06:04:17.342091Z"
    }
   },
   "outputs": [
    {
     "name": "stdout",
     "output_type": "stream",
     "text": [
      "[NbConvertApp] Converting notebook mutagenesis_visualization/main/notebooks/code_3D.ipynb to script\n",
      "[NbConvertApp] Writing 13960 bytes to mutagenesis_visualization/main/scripts/code_3D.py\n",
      "[NbConvertApp] Converting notebook mutagenesis_visualization/main/notebooks/code_PCA.ipynb to script\n",
      "[NbConvertApp] Writing 17881 bytes to mutagenesis_visualization/main/scripts/code_PCA.py\n",
      "[NbConvertApp] Converting notebook mutagenesis_visualization/main/notebooks/code_bar.ipynb to script\n",
      "[NbConvertApp] Writing 15752 bytes to mutagenesis_visualization/main/scripts/code_bar.py\n",
      "[NbConvertApp] Converting notebook mutagenesis_visualization/main/notebooks/code_class.ipynb to script\n",
      "[NbConvertApp] Writing 9688 bytes to mutagenesis_visualization/main/scripts/code_class.py\n",
      "[NbConvertApp] Converting notebook mutagenesis_visualization/main/notebooks/code_create_objects.ipynb to script\n",
      "[NbConvertApp] Writing 16813 bytes to mutagenesis_visualization/main/scripts/code_create_objects.py\n",
      "[NbConvertApp] Converting notebook mutagenesis_visualization/main/notebooks/code_demo.ipynb to script\n",
      "[NbConvertApp] Writing 8681 bytes to mutagenesis_visualization/main/scripts/code_demo.py\n",
      "[NbConvertApp] Converting notebook mutagenesis_visualization/main/notebooks/code_heatmaps.ipynb to script\n",
      "[NbConvertApp] Writing 24410 bytes to mutagenesis_visualization/main/scripts/code_heatmaps.py\n",
      "[NbConvertApp] Converting notebook mutagenesis_visualization/main/notebooks/code_kernel.ipynb to script\n",
      "[NbConvertApp] Writing 8880 bytes to mutagenesis_visualization/main/scripts/code_kernel.py\n",
      "[NbConvertApp] Converting notebook mutagenesis_visualization/main/notebooks/code_kwargs.ipynb to script\n",
      "[NbConvertApp] Writing 5001 bytes to mutagenesis_visualization/main/scripts/code_kwargs.py\n",
      "[NbConvertApp] Converting notebook mutagenesis_visualization/main/notebooks/code_other.ipynb to script\n",
      "[NbConvertApp] Writing 26744 bytes to mutagenesis_visualization/main/scripts/code_other.py\n",
      "[NbConvertApp] Converting notebook mutagenesis_visualization/main/notebooks/code_plotly.ipynb to script\n",
      "[NbConvertApp] Writing 33250 bytes to mutagenesis_visualization/main/scripts/code_plotly.py\n",
      "[NbConvertApp] Converting notebook mutagenesis_visualization/main/notebooks/code_process_data.ipynb to script\n",
      "[NbConvertApp] Writing 34363 bytes to mutagenesis_visualization/main/scripts/code_process_data.py\n",
      "[NbConvertApp] Converting notebook mutagenesis_visualization/main/notebooks/code_pymol.ipynb to script\n",
      "[NbConvertApp] Writing 6962 bytes to mutagenesis_visualization/main/scripts/code_pymol.py\n",
      "[NbConvertApp] Converting notebook mutagenesis_visualization/main/notebooks/code_scatter.ipynb to script\n",
      "[NbConvertApp] Writing 3969 bytes to mutagenesis_visualization/main/scripts/code_scatter.py\n",
      "[NbConvertApp] Converting notebook mutagenesis_visualization/main/notebooks/code_synthesis.ipynb to script\n",
      "[NbConvertApp] Writing 8611 bytes to mutagenesis_visualization/main/scripts/code_synthesis.py\n",
      "[NbConvertApp] Converting notebook mutagenesis_visualization/main/notebooks/code_utils.ipynb to script\n",
      "[NbConvertApp] Writing 18523 bytes to mutagenesis_visualization/main/scripts/code_utils.py\n"
     ]
    }
   ],
   "source": [
    "#%%capture\n",
    "!jupyter nbconvert --output-dir='mutagenesis_visualization/main/scripts' --to script mutagenesis_visualization/main/notebooks/code_*.ipynb"
   ]
  },
  {
   "cell_type": "markdown",
   "metadata": {},
   "source": [
    "Convert tests"
   ]
  },
  {
   "cell_type": "code",
   "execution_count": 7,
   "metadata": {
    "execution": {
     "iopub.execute_input": "2020-12-05T20:09:57.094662Z",
     "iopub.status.busy": "2020-12-05T20:09:57.094436Z",
     "iopub.status.idle": "2020-12-05T20:09:59.065447Z",
     "shell.execute_reply": "2020-12-05T20:09:59.064336Z",
     "shell.execute_reply.started": "2020-12-05T20:09:57.094640Z"
    }
   },
   "outputs": [
    {
     "name": "stdout",
     "output_type": "stream",
     "text": [
      "[NbConvertApp] Converting notebook mutagenesis_visualization/tests/notebooks/test_3D.ipynb to script\n",
      "[NbConvertApp] Writing 1413 bytes to mutagenesis_visualization/tests/scripts/test_3D.py\n",
      "[NbConvertApp] Converting notebook mutagenesis_visualization/tests/notebooks/test_demo.ipynb to script\n",
      "[NbConvertApp] Writing 2097 bytes to mutagenesis_visualization/tests/scripts/test_demo.py\n",
      "[NbConvertApp] Converting notebook mutagenesis_visualization/tests/notebooks/test_heatmaps.ipynb to script\n",
      "[NbConvertApp] Writing 2869 bytes to mutagenesis_visualization/tests/scripts/test_heatmaps.py\n",
      "[NbConvertApp] Converting notebook mutagenesis_visualization/tests/notebooks/test_kwargs.ipynb to script\n",
      "[NbConvertApp] Writing 1106 bytes to mutagenesis_visualization/tests/scripts/test_kwargs.py\n",
      "[NbConvertApp] Converting notebook mutagenesis_visualization/tests/notebooks/test_plotly.ipynb to script\n",
      "[NbConvertApp] Writing 2610 bytes to mutagenesis_visualization/tests/scripts/test_plotly.py\n",
      "[NbConvertApp] Converting notebook mutagenesis_visualization/tests/notebooks/test_process_data.ipynb to script\n",
      "[NbConvertApp] Writing 4198 bytes to mutagenesis_visualization/tests/scripts/test_process_data.py\n",
      "[NbConvertApp] Converting notebook mutagenesis_visualization/tests/notebooks/test_pymol.ipynb to script\n",
      "[NbConvertApp] Writing 1284 bytes to mutagenesis_visualization/tests/scripts/test_pymol.py\n",
      "[NbConvertApp] Converting notebook mutagenesis_visualization/tests/notebooks/test_synthesis.ipynb to script\n",
      "[NbConvertApp] Writing 4319 bytes to mutagenesis_visualization/tests/scripts/test_synthesis.py\n",
      "[NbConvertApp] Converting notebook mutagenesis_visualization/tests/notebooks/test_utils.ipynb to script\n",
      "[NbConvertApp] Writing 6400 bytes to mutagenesis_visualization/tests/scripts/test_utils.py\n"
     ]
    }
   ],
   "source": [
    "#%%capture\n",
    "!jupyter nbconvert --output-dir='mutagenesis_visualization/tests/scripts' --to script mutagenesis_visualization/tests/notebooks/test_*"
   ]
  },
  {
   "cell_type": "markdown",
   "metadata": {
    "jupyter": {
     "source_hidden": true
    }
   },
   "source": [
    "# Convert the doc ipynb to rst files (and clean output)"
   ]
  },
  {
   "cell_type": "markdown",
   "metadata": {},
   "source": [
    "Clean output"
   ]
  },
  {
   "cell_type": "code",
   "execution_count": null,
   "metadata": {},
   "outputs": [],
   "source": [
    "%%capture\n",
    "!jupyter nbconvert --ClearOutputPreprocessor.enabled=True --clear-output --inplace mutagenesis_visualization/tutorial/doc*.ipynb"
   ]
  },
  {
   "cell_type": "markdown",
   "metadata": {},
   "source": [
    "Convert to rst"
   ]
  },
  {
   "cell_type": "code",
   "execution_count": null,
   "metadata": {},
   "outputs": [],
   "source": [
    "%%capture\n",
    "!jupyter nbconvert --output-dir='docs/' --to rst mutagenesis_visualization/tutorial/doc*.ipynb\n",
    "\n",
    "# edit image loading from doc0_intro.rst\n",
    "with open(\"docs/doc0_intro.rst\", \"r\") as f:\n",
    "    lines = f.readlines()\n",
    "with open(\"docs/doc0_intro.rst\", \"w\") as f:\n",
    "    for line in lines:\n",
    "        if line.strip(\"\\n\") == \".. |image1| image:: ../../docs/_static/workflow_v3.png\":\n",
    "            f.write(\".. |image1| image:: _static/workflow_v3.png\\n\")\n",
    "        else:\n",
    "            f.write(line)"
   ]
  },
  {
   "cell_type": "markdown",
   "metadata": {},
   "source": [
    "# Build documentation with Sphinx"
   ]
  },
  {
   "cell_type": "code",
   "execution_count": null,
   "metadata": {},
   "outputs": [],
   "source": [
    "%%capture\n",
    "! python3 -m sphinx docs build"
   ]
  },
  {
   "cell_type": "markdown",
   "metadata": {},
   "source": [
    "# Run all tests"
   ]
  },
  {
   "cell_type": "code",
   "execution_count": 5,
   "metadata": {
    "execution": {
     "iopub.execute_input": "2020-11-29T04:18:27.667656Z",
     "iopub.status.busy": "2020-11-29T04:18:27.667215Z",
     "iopub.status.idle": "2020-11-29T04:18:48.955843Z",
     "shell.execute_reply": "2020-11-29T04:18:48.954803Z",
     "shell.execute_reply.started": "2020-11-29T04:18:27.667615Z"
    }
   },
   "outputs": [
    {
     "name": "stdout",
     "output_type": "stream",
     "text": [
      "\u001b[1m============================= test session starts ==============================\u001b[0m\n",
      "platform darwin -- Python 3.8.3, pytest-5.4.3, py-1.9.0, pluggy-0.13.1\n",
      "rootdir: /Users/fx/Dropbox/AKuriyanLab/Code/Python/Python_Scripts/mv_repo\n",
      "plugins: dash-1.16.3\n",
      "collected 28 items                                                             \u001b[0m\u001b[1m\u001b[1m\n",
      "\n",
      "mutagenesis_visualization/tests/scripts/test_3D.py \u001b[32m.\u001b[0m\u001b[32m.\u001b[0m\u001b[33m                    [  7%]\u001b[0m\n",
      "mutagenesis_visualization/tests/scripts/test_demo.py \u001b[32m.\u001b[0m\u001b[32m.\u001b[0m\u001b[32m.\u001b[0m\u001b[32m.\u001b[0m\u001b[33m                [ 21%]\u001b[0m\n",
      "mutagenesis_visualization/tests/scripts/test_heatmaps.py \u001b[32m.\u001b[0m\u001b[32m.\u001b[0m\u001b[32m.\u001b[0m\u001b[32m.\u001b[0m\u001b[32m.\u001b[0m\u001b[32m.\u001b[0m\u001b[33m          [ 42%]\u001b[0m\n",
      "mutagenesis_visualization/tests/scripts/test_kwargs.py \u001b[32m.\u001b[0m\u001b[32m.\u001b[0m\u001b[33m                [ 50%]\u001b[0m\n",
      "mutagenesis_visualization/tests/scripts/test_process_data.py \u001b[32m.\u001b[0m\u001b[33m           [ 53%]\u001b[0m\n",
      "mutagenesis_visualization/tests/scripts/test_pymol.py \u001b[32m.\u001b[0m\u001b[33m                  [ 57%]\u001b[0m\n",
      "mutagenesis_visualization/tests/scripts/test_synthesis.py \u001b[32m.\u001b[0m\u001b[32m.\u001b[0m\u001b[32m.\u001b[0m\u001b[32m.\u001b[0m\u001b[33m           [ 71%]\u001b[0m\n",
      "mutagenesis_visualization/tests/scripts/test_utils.py \u001b[32m.\u001b[0m\u001b[32m.\u001b[0m\u001b[32m.\u001b[0m\u001b[32m.\u001b[0m\u001b[32m.\u001b[0m\u001b[32m.\u001b[0m\u001b[32m.\u001b[0m\u001b[32m.\u001b[0m\u001b[33m           [100%]\u001b[0m\n",
      "\n",
      "\u001b[33m=============================== warnings summary ===============================\u001b[0m\n",
      "/Users/fx/opt/anaconda3/lib/python3.8/site-packages/Bio/Alphabet/__init__.py:22\n",
      "  /Users/fx/opt/anaconda3/lib/python3.8/site-packages/Bio/Alphabet/__init__.py:22: PendingDeprecationWarning: We intend to remove or replace Bio.Alphabet in 2020, ideally avoid using it explicitly in your code. Please get in touch if you will be adversely affected by this. https://github.com/biopython/biopython/issues/2046\n",
      "    warnings.warn(\n",
      "\n",
      "-- Docs: https://docs.pytest.org/en/latest/warnings.html\n",
      "\u001b[33m======================== \u001b[32m28 passed\u001b[0m, \u001b[33m\u001b[1m1 warning\u001b[0m\u001b[33m in 19.04s\u001b[0m\u001b[33m ========================\u001b[0m\n"
     ]
    }
   ],
   "source": [
    "!python -m pytest mutagenesis_visualization/"
   ]
  },
  {
   "cell_type": "markdown",
   "metadata": {},
   "source": [
    "# Run Test by test"
   ]
  },
  {
   "cell_type": "markdown",
   "metadata": {},
   "source": [
    "## test_3D"
   ]
  },
  {
   "cell_type": "code",
   "execution_count": 2,
   "metadata": {
    "execution": {
     "iopub.execute_input": "2020-12-05T20:05:41.571005Z",
     "iopub.status.busy": "2020-12-05T20:05:41.570665Z",
     "iopub.status.idle": "2020-12-05T20:05:49.722161Z",
     "shell.execute_reply": "2020-12-05T20:05:49.721254Z",
     "shell.execute_reply.started": "2020-12-05T20:05:41.570972Z"
    }
   },
   "outputs": [
    {
     "name": "stdout",
     "output_type": "stream",
     "text": [
      "\u001b[1m============================= test session starts ==============================\u001b[0m\n",
      "platform darwin -- Python 3.8.3, pytest-5.4.3, py-1.9.0, pluggy-0.13.1\n",
      "rootdir: /Users/fx/Dropbox/AKuriyanLab/Code/Python/Python_Scripts/mv_repo\n",
      "plugins: dash-1.17.0\n",
      "collected 2 items                                                              \u001b[0m\u001b[1m\n",
      "\n",
      "mutagenesis_visualization/tests/scripts/test_3D.py \u001b[32m.\u001b[0m\u001b[32m.\u001b[0m\n",
      "\n",
      "\u001b[33m=============================== warnings summary ===============================\u001b[0m\n",
      "/Users/fx/opt/anaconda3/lib/python3.8/site-packages/Bio/Alphabet/__init__.py:22\n",
      "  /Users/fx/opt/anaconda3/lib/python3.8/site-packages/Bio/Alphabet/__init__.py:22: PendingDeprecationWarning: We intend to remove or replace Bio.Alphabet in 2020, ideally avoid using it explicitly in your code. Please get in touch if you will be adversely affected by this. https://github.com/biopython/biopython/issues/2046\n",
      "    warnings.warn(\n",
      "\n",
      "-- Docs: https://docs.pytest.org/en/latest/warnings.html\n",
      "\u001b[33m========================= \u001b[32m2 passed\u001b[0m, \u001b[33m\u001b[1m1 warning\u001b[0m\u001b[33m in 5.73s\u001b[0m\u001b[33m =========================\u001b[0m\n"
     ]
    }
   ],
   "source": [
    "!python -m pytest -s mutagenesis_visualization/tests/scripts/test_3D.py"
   ]
  },
  {
   "cell_type": "markdown",
   "metadata": {},
   "source": [
    "## test_pymol"
   ]
  },
  {
   "cell_type": "code",
   "execution_count": null,
   "metadata": {},
   "outputs": [],
   "source": [
    "!python -m pytest -s mutagenesis_visualization/tests/scripts/test_pymol.py"
   ]
  },
  {
   "cell_type": "markdown",
   "metadata": {},
   "source": [
    "## test_demo"
   ]
  },
  {
   "cell_type": "code",
   "execution_count": null,
   "metadata": {},
   "outputs": [],
   "source": [
    "!python -m pytest -s mutagenesis_visualization/tests/scripts/test_demo.py"
   ]
  },
  {
   "cell_type": "markdown",
   "metadata": {},
   "source": [
    "## test_kwargs"
   ]
  },
  {
   "cell_type": "code",
   "execution_count": null,
   "metadata": {},
   "outputs": [],
   "source": [
    "!python -m pytest mutagenesis_visualization/tests/scripts/test_kwargs.py"
   ]
  },
  {
   "cell_type": "markdown",
   "metadata": {},
   "source": [
    "## test_heatmaps"
   ]
  },
  {
   "cell_type": "code",
   "execution_count": null,
   "metadata": {},
   "outputs": [],
   "source": [
    "!python -m pytest mutagenesis_visualization/tests/scripts/test_heatmaps.py"
   ]
  },
  {
   "cell_type": "markdown",
   "metadata": {},
   "source": [
    "## test_process_data"
   ]
  },
  {
   "cell_type": "code",
   "execution_count": null,
   "metadata": {},
   "outputs": [],
   "source": [
    "!python -m pytest mutagenesis_visualization/tests/scripts/test_process_data.py"
   ]
  },
  {
   "cell_type": "markdown",
   "metadata": {},
   "source": [
    "## test_synthesis"
   ]
  },
  {
   "cell_type": "code",
   "execution_count": null,
   "metadata": {},
   "outputs": [],
   "source": [
    "!python -m pytest mutagenesis_visualization/tests/scripts/test_synthesis.py"
   ]
  },
  {
   "cell_type": "markdown",
   "metadata": {},
   "source": [
    "## test_utils"
   ]
  },
  {
   "cell_type": "code",
   "execution_count": null,
   "metadata": {},
   "outputs": [],
   "source": [
    "!python -m pytest mutagenesis_visualization/tests/scripts/test_utils.py"
   ]
  },
  {
   "cell_type": "markdown",
   "metadata": {},
   "source": [
    "## test_plotly"
   ]
  },
  {
   "cell_type": "code",
   "execution_count": 8,
   "metadata": {
    "execution": {
     "iopub.execute_input": "2020-12-05T20:10:11.774158Z",
     "iopub.status.busy": "2020-12-05T20:10:11.773823Z",
     "iopub.status.idle": "2020-12-05T20:10:17.605765Z",
     "shell.execute_reply": "2020-12-05T20:10:17.604867Z",
     "shell.execute_reply.started": "2020-12-05T20:10:11.774135Z"
    }
   },
   "outputs": [
    {
     "name": "stdout",
     "output_type": "stream",
     "text": [
      "\u001b[1m============================= test session starts ==============================\u001b[0m\n",
      "platform darwin -- Python 3.8.3, pytest-5.4.3, py-1.9.0, pluggy-0.13.1\n",
      "rootdir: /Users/fx/Dropbox/AKuriyanLab/Code/Python/Python_Scripts/mv_repo\n",
      "plugins: dash-1.17.0\n",
      "collected 1 item                                                               \u001b[0m\u001b[1m\n",
      "\n",
      "mutagenesis_visualization/tests/scripts/test_plotly.py \u001b[32m.\u001b[0m\u001b[33m                 [100%]\u001b[0m\n",
      "\n",
      "\u001b[33m=============================== warnings summary ===============================\u001b[0m\n",
      "/Users/fx/opt/anaconda3/lib/python3.8/site-packages/Bio/Alphabet/__init__.py:22\n",
      "  /Users/fx/opt/anaconda3/lib/python3.8/site-packages/Bio/Alphabet/__init__.py:22: PendingDeprecationWarning: We intend to remove or replace Bio.Alphabet in 2020, ideally avoid using it explicitly in your code. Please get in touch if you will be adversely affected by this. https://github.com/biopython/biopython/issues/2046\n",
      "    warnings.warn(\n",
      "\n",
      "-- Docs: https://docs.pytest.org/en/latest/warnings.html\n",
      "\u001b[33m========================= \u001b[32m1 passed\u001b[0m, \u001b[33m\u001b[1m1 warning\u001b[0m\u001b[33m in 4.07s\u001b[0m\u001b[33m =========================\u001b[0m\n"
     ]
    }
   ],
   "source": [
    "!python -m pytest mutagenesis_visualization/tests/scripts/test_plotly.py"
   ]
  },
  {
   "cell_type": "code",
   "execution_count": null,
   "metadata": {},
   "outputs": [],
   "source": []
  },
  {
   "cell_type": "code",
   "execution_count": null,
   "metadata": {},
   "outputs": [],
   "source": []
  },
  {
   "cell_type": "code",
   "execution_count": null,
   "metadata": {},
   "outputs": [],
   "source": [
    "import mutagenesis_visualization.__init__ as mt"
   ]
  },
  {
   "cell_type": "code",
   "execution_count": null,
   "metadata": {},
   "outputs": [],
   "source": [
    "mt.demo('mean')"
   ]
  },
  {
   "cell_type": "code",
   "execution_count": null,
   "metadata": {},
   "outputs": [],
   "source": [
    "mt.demo_datasets()"
   ]
  },
  {
   "cell_type": "code",
   "execution_count": null,
   "metadata": {},
   "outputs": [],
   "source": [
    "# #pip install git+https://github.com/fhidalgor/mutagenesis_visualization --use-feature=2020-resolver"
   ]
  },
  {
   "cell_type": "code",
   "execution_count": null,
   "metadata": {},
   "outputs": [],
   "source": [
    "pip install coverage"
   ]
  },
  {
   "cell_type": "code",
   "execution_count": null,
   "metadata": {},
   "outputs": [],
   "source": [
    "!coverage run -m pytest mutagenesis_visualization"
   ]
  },
  {
   "cell_type": "markdown",
   "metadata": {},
   "source": [
    "# Doc formatter"
   ]
  },
  {
   "cell_type": "code",
   "execution_count": null,
   "metadata": {},
   "outputs": [],
   "source": [
    "!docformatter --in-place --pre-summary-newline --make-summary-multi-line --wrap-summaries 79 --wrap-descriptions 72 --blank mutagenesis_visualization/main/scripts/code_class.py"
   ]
  },
  {
   "cell_type": "code",
   "execution_count": null,
   "metadata": {},
   "outputs": [],
   "source": [
    "!docformatter --in-place --pre-summary-newline --blank mutagenesis_visualization/main/notebooks/code_other.ipynb"
   ]
  },
  {
   "cell_type": "code",
   "execution_count": null,
   "metadata": {},
   "outputs": [],
   "source": [
    "!docformatter --in-place --pre-summary-newline --make-summary-multi-line --wrap-summaries 79 --wrap-descriptions 72 --blank mutagenesis_visualization/main/notebooks/code_*"
   ]
  },
  {
   "cell_type": "code",
   "execution_count": 1,
   "metadata": {
    "execution": {
     "iopub.execute_input": "2020-11-29T23:00:47.119428Z",
     "iopub.status.busy": "2020-11-29T23:00:47.118679Z",
     "iopub.status.idle": "2020-11-29T23:00:47.626464Z",
     "shell.execute_reply": "2020-11-29T23:00:47.625041Z",
     "shell.execute_reply.started": "2020-11-29T23:00:47.119375Z"
    }
   },
   "outputs": [
    {
     "ename": "ImportError",
     "evalue": "cannot import name 'dash_bio' from 'dash' (/Users/fx/opt/anaconda3/lib/python3.8/site-packages/dash/__init__.py)",
     "output_type": "error",
     "traceback": [
      "\u001b[0;31m---------------------------------------------------------------------------\u001b[0m",
      "\u001b[0;31mImportError\u001b[0m                               Traceback (most recent call last)",
      "\u001b[0;32m<ipython-input-1-10891f31d1c2>\u001b[0m in \u001b[0;36m<module>\u001b[0;34m\u001b[0m\n\u001b[0;32m----> 1\u001b[0;31m \u001b[0;32mfrom\u001b[0m \u001b[0mdash\u001b[0m \u001b[0;32mimport\u001b[0m \u001b[0mdash_bio\u001b[0m\u001b[0;34m\u001b[0m\u001b[0;34m\u001b[0m\u001b[0m\n\u001b[0m",
      "\u001b[0;31mImportError\u001b[0m: cannot import name 'dash_bio' from 'dash' (/Users/fx/opt/anaconda3/lib/python3.8/site-packages/dash/__init__.py)"
     ]
    }
   ],
   "source": [
    "from dash import dash_bio"
   ]
  },
  {
   "cell_type": "code",
   "execution_count": 2,
   "metadata": {
    "execution": {
     "iopub.execute_input": "2020-11-29T23:01:44.335508Z",
     "iopub.status.busy": "2020-11-29T23:01:44.335013Z",
     "iopub.status.idle": "2020-11-29T23:01:50.488082Z",
     "shell.execute_reply": "2020-11-29T23:01:50.487091Z",
     "shell.execute_reply.started": "2020-11-29T23:01:44.335465Z"
    }
   },
   "outputs": [
    {
     "name": "stdout",
     "output_type": "stream",
     "text": [
      "Collecting dash_bio\n",
      "  Downloading dash_bio-0.5.0.tar.gz (2.0 MB)\n",
      "\u001b[K     |████████████████████████████████| 2.0 MB 3.3 MB/s eta 0:00:01\n",
      "\u001b[?25hRequirement already satisfied: dash>=1.6.1 in /Users/fx/opt/anaconda3/lib/python3.8/site-packages (from dash_bio) (1.16.3)\n",
      "Requirement already satisfied: pandas in /Users/fx/opt/anaconda3/lib/python3.8/site-packages (from dash_bio) (1.0.5)\n",
      "Requirement already satisfied: scipy in /Users/fx/opt/anaconda3/lib/python3.8/site-packages (from dash_bio) (1.5.0)\n",
      "Requirement already satisfied: scikit-learn>=0.20.1 in /Users/fx/opt/anaconda3/lib/python3.8/site-packages (from dash_bio) (0.23.1)\n",
      "Requirement already satisfied: plotly in /Users/fx/opt/anaconda3/lib/python3.8/site-packages (from dash>=1.6.1->dash_bio) (4.11.0)\n",
      "Requirement already satisfied: flask-compress in /Users/fx/opt/anaconda3/lib/python3.8/site-packages (from dash>=1.6.1->dash_bio) (1.6.0)\n",
      "Requirement already satisfied: dash-table==4.10.1 in /Users/fx/opt/anaconda3/lib/python3.8/site-packages (from dash>=1.6.1->dash_bio) (4.10.1)\n",
      "Requirement already satisfied: dash-core-components==1.12.1 in /Users/fx/opt/anaconda3/lib/python3.8/site-packages (from dash>=1.6.1->dash_bio) (1.12.1)\n",
      "Requirement already satisfied: dash-html-components==1.1.1 in /Users/fx/opt/anaconda3/lib/python3.8/site-packages (from dash>=1.6.1->dash_bio) (1.1.1)\n",
      "Requirement already satisfied: future in /Users/fx/opt/anaconda3/lib/python3.8/site-packages (from dash>=1.6.1->dash_bio) (0.18.2)\n",
      "Requirement already satisfied: Flask>=1.0.2 in /Users/fx/opt/anaconda3/lib/python3.8/site-packages (from dash>=1.6.1->dash_bio) (1.1.2)\n",
      "Requirement already satisfied: dash-renderer==1.8.2 in /Users/fx/opt/anaconda3/lib/python3.8/site-packages (from dash>=1.6.1->dash_bio) (1.8.2)\n",
      "Requirement already satisfied: numpy>=1.13.3 in /Users/fx/opt/anaconda3/lib/python3.8/site-packages (from pandas->dash_bio) (1.18.5)\n",
      "Requirement already satisfied: pytz>=2017.2 in /Users/fx/opt/anaconda3/lib/python3.8/site-packages (from pandas->dash_bio) (2020.1)\n",
      "Requirement already satisfied: python-dateutil>=2.6.1 in /Users/fx/opt/anaconda3/lib/python3.8/site-packages (from pandas->dash_bio) (2.8.1)\n",
      "Requirement already satisfied: threadpoolctl>=2.0.0 in /Users/fx/opt/anaconda3/lib/python3.8/site-packages (from scikit-learn>=0.20.1->dash_bio) (2.1.0)\n",
      "Requirement already satisfied: joblib>=0.11 in /Users/fx/opt/anaconda3/lib/python3.8/site-packages (from scikit-learn>=0.20.1->dash_bio) (0.16.0)\n",
      "Requirement already satisfied: retrying>=1.3.3 in /Users/fx/opt/anaconda3/lib/python3.8/site-packages (from plotly->dash>=1.6.1->dash_bio) (1.3.3)\n",
      "Requirement already satisfied: six in /Users/fx/opt/anaconda3/lib/python3.8/site-packages (from plotly->dash>=1.6.1->dash_bio) (1.15.0)\n",
      "Requirement already satisfied: brotli in /Users/fx/opt/anaconda3/lib/python3.8/site-packages (from flask-compress->dash>=1.6.1->dash_bio) (1.0.9)\n",
      "Requirement already satisfied: itsdangerous>=0.24 in /Users/fx/opt/anaconda3/lib/python3.8/site-packages (from Flask>=1.0.2->dash>=1.6.1->dash_bio) (1.1.0)\n",
      "Requirement already satisfied: Werkzeug>=0.15 in /Users/fx/opt/anaconda3/lib/python3.8/site-packages (from Flask>=1.0.2->dash>=1.6.1->dash_bio) (1.0.1)\n",
      "Requirement already satisfied: click>=5.1 in /Users/fx/opt/anaconda3/lib/python3.8/site-packages (from Flask>=1.0.2->dash>=1.6.1->dash_bio) (7.1.2)\n",
      "Requirement already satisfied: Jinja2>=2.10.1 in /Users/fx/opt/anaconda3/lib/python3.8/site-packages (from Flask>=1.0.2->dash>=1.6.1->dash_bio) (2.11.2)\n",
      "Requirement already satisfied: MarkupSafe>=0.23 in /Users/fx/opt/anaconda3/lib/python3.8/site-packages (from Jinja2>=2.10.1->Flask>=1.0.2->dash>=1.6.1->dash_bio) (1.1.1)\n",
      "Building wheels for collected packages: dash-bio\n",
      "  Building wheel for dash-bio (setup.py) ... \u001b[?25ldone\n",
      "\u001b[?25h  Created wheel for dash-bio: filename=dash_bio-0.5.0-py3-none-any.whl size=1982969 sha256=0ee06900640c6e083a039cedb05511d005515101e0f657f4c6074efd294d1eff\n",
      "  Stored in directory: /Users/fx/Library/Caches/pip/wheels/d0/d0/6c/9f1516fca37e4009706e088779b2a1f11da9b98c9c944056e9\n",
      "Successfully built dash-bio\n",
      "Installing collected packages: dash-bio\n",
      "Successfully installed dash-bio-0.5.0\n",
      "Note: you may need to restart the kernel to use updated packages.\n"
     ]
    }
   ],
   "source": [
    "pip install dash_bio\n"
   ]
  },
  {
   "cell_type": "code",
   "execution_count": 4,
   "metadata": {
    "execution": {
     "iopub.execute_input": "2020-11-29T23:02:50.905256Z",
     "iopub.status.busy": "2020-11-29T23:02:50.904822Z",
     "iopub.status.idle": "2020-11-29T23:02:50.938110Z",
     "shell.execute_reply": "2020-11-29T23:02:50.933534Z",
     "shell.execute_reply.started": "2020-11-29T23:02:50.905217Z"
    }
   },
   "outputs": [
    {
     "data": {
      "text/plain": [
       "Molecule3dViewer(id='mol-3d', selectionType='atom', backgroundOpacity='0', atomLabelsShown=False, selectedAtomIds=[])"
      ]
     },
     "execution_count": 4,
     "metadata": {},
     "output_type": "execute_result"
    }
   ],
   "source": [
    "import dash_bio\n",
    "\n",
    "dash_bio.Molecule3dViewer(\n",
    "            id='mol-3d',\n",
    "            selectionType='atom',\n",
    "            selectedAtomIds=[],\n",
    "            backgroundOpacity='0',\n",
    "            atomLabelsShown=False,\n",
    "        )"
   ]
  },
  {
   "cell_type": "code",
   "execution_count": 5,
   "metadata": {
    "execution": {
     "iopub.execute_input": "2020-11-29T23:04:00.335818Z",
     "iopub.status.busy": "2020-11-29T23:04:00.335455Z",
     "iopub.status.idle": "2020-11-29T23:04:00.365095Z",
     "shell.execute_reply": "2020-11-29T23:04:00.363984Z",
     "shell.execute_reply.started": "2020-11-29T23:04:00.335781Z"
    }
   },
   "outputs": [
    {
     "name": "stdout",
     "output_type": "stream",
     "text": [
      "Help on class Molecule3dViewer in module builtins:\n",
      "\n",
      "class Molecule3dViewer(dash.development.base_component.Component)\n",
      " |  Molecule3dViewer(id=undefined, selectionType=undefined, backgroundColor=undefined, backgroundOpacity=undefined, styles=undefined, modelData=undefined, atomLabelsShown=undefined, selectedAtomIds=undefined, labels=undefined, onRenderNewData=undefined, onChangeSelection=undefined, **kwargs)\n",
      " |  \n",
      " |  A Molecule3dViewer component.\n",
      " |  The Molecule3dViewer component is used to render schematic diagrams\n",
      " |  of biomolecules. It can display ribbon-structure diagrams, or\n",
      " |  render atoms in the molecule as sticks or spheres.\n",
      " |  Read more about the component here:\n",
      " |  https://github.com/Autodesk/molecule-3d-for-react\n",
      " |  \n",
      " |  Keyword arguments:\n",
      " |  - id (string; optional): The ID used to identify this component in callbacks\n",
      " |  - selectionType (a value equal to: 'atom', 'residue', 'chain'; default 'atom'): The selection type - may be atom, residue or chain\n",
      " |  - backgroundColor (string; default '#FFFFFF'): Property to change the background color of the molecule viewer\n",
      " |  - backgroundOpacity (number; default 0): Property to change the background opacity - ranges from 0 to 1\n",
      " |  - styles (dict; optional): Property that can be used to change the representation of\n",
      " |  the molecule. Options include sticks, cartoon and sphere. styles has the following type: list of dicts containing keys 'color', 'visualization_type'.\n",
      " |  Those keys have the following types:\n",
      " |    - color (string; optional)\n",
      " |    - visualization_type (a value equal to: 'cartoon', 'sphere', 'stick'; optional)\n",
      " |  - modelData (dict; optional): The data that will be used to display the molecule in 3D\n",
      " |  The data will be in JSON format\n",
      " |  and should have two main dictionaries - atoms, bonds. modelData has the following type: dict containing keys 'atoms', 'bonds'.\n",
      " |  Those keys have the following types:\n",
      " |    - atoms (list; optional)\n",
      " |    - bonds (list; optional)\n",
      " |  - atomLabelsShown (boolean; optional): Property to either show or hide labels\n",
      " |  - selectedAtomIds (list; optional): Property that stores a list of all selected atoms\n",
      " |  - labels (list; optional): labels corresponding to the atoms of the molecule\n",
      " |  \n",
      " |  Method resolution order:\n",
      " |      Molecule3dViewer\n",
      " |      dash.development.base_component.Component\n",
      " |      object\n",
      " |  \n",
      " |  Methods defined here:\n",
      " |  \n",
      " |  __init__ = wrapper(self, id=undefined, selectionType=undefined, backgroundColor=undefined, backgroundOpacity=undefined, styles=undefined, modelData=undefined, atomLabelsShown=undefined, selectedAtomIds=undefined, labels=undefined, onRenderNewData=undefined, onChangeSelection=undefined, **kwargs)\n",
      " |  \n",
      " |  ----------------------------------------------------------------------\n",
      " |  Data and other attributes defined here:\n",
      " |  \n",
      " |  __abstractmethods__ = frozenset()\n",
      " |  \n",
      " |  ----------------------------------------------------------------------\n",
      " |  Methods inherited from dash.development.base_component.Component:\n",
      " |  \n",
      " |  __delitem__(self, id)\n",
      " |      Delete items by ID in the tree of children.\n",
      " |  \n",
      " |  __getitem__(self, id)\n",
      " |      Recursively find the element with the given ID through the tree of\n",
      " |      children.\n",
      " |  \n",
      " |  __iter__(self)\n",
      " |      Yield IDs in the tree of children.\n",
      " |  \n",
      " |  __len__(self)\n",
      " |      Return the number of items in the tree.\n",
      " |  \n",
      " |  __repr__(self)\n",
      " |      Return repr(self).\n",
      " |  \n",
      " |  __setitem__(self, id, item)\n",
      " |      Set an element by its ID.\n",
      " |  \n",
      " |  to_plotly_json(self)\n",
      " |  \n",
      " |  ----------------------------------------------------------------------\n",
      " |  Data descriptors inherited from dash.development.base_component.Component:\n",
      " |  \n",
      " |  __dict__\n",
      " |      dictionary for instance variables (if defined)\n",
      " |  \n",
      " |  __weakref__\n",
      " |      list of weak references to the object (if defined)\n",
      " |  \n",
      " |  ----------------------------------------------------------------------\n",
      " |  Data and other attributes inherited from dash.development.base_component.Component:\n",
      " |  \n",
      " |  REQUIRED = required\n",
      " |  \n",
      " |  UNDEFINED = undefined\n",
      "\n"
     ]
    }
   ],
   "source": [
    "help (dash_bio.Molecule3dViewer)"
   ]
  },
  {
   "cell_type": "code",
   "execution_count": null,
   "metadata": {},
   "outputs": [],
   "source": []
  }
 ],
 "metadata": {
  "kernelspec": {
   "display_name": "Python 3",
   "language": "python",
   "name": "python3"
  },
  "language_info": {
   "codemirror_mode": {
    "name": "ipython",
    "version": 3
   },
   "file_extension": ".py",
   "mimetype": "text/x-python",
   "name": "python",
   "nbconvert_exporter": "python",
   "pygments_lexer": "ipython3",
   "version": "3.8.3"
  }
 },
 "nbformat": 4,
 "nbformat_minor": 4
}
