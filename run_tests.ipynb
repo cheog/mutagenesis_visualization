{
 "cells": [
  {
   "cell_type": "markdown",
   "metadata": {},
   "source": [
    "# Convert the ipynb to py files"
   ]
  },
  {
   "cell_type": "markdown",
   "metadata": {},
   "source": [
    "Convert main scripts"
   ]
  },
  {
   "cell_type": "code",
   "execution_count": 25,
   "metadata": {
    "execution": {
     "iopub.execute_input": "2020-11-25T20:00:04.057888Z",
     "iopub.status.busy": "2020-11-25T20:00:04.056990Z",
     "iopub.status.idle": "2020-11-25T20:00:07.344665Z",
     "shell.execute_reply": "2020-11-25T20:00:07.342365Z",
     "shell.execute_reply.started": "2020-11-25T20:00:04.057750Z"
    }
   },
   "outputs": [],
   "source": [
    "%%capture\n",
    "!jupyter nbconvert --output-dir='mutagenesis_visualization/main/scripts' --to script mutagenesis_visualization/main/notebooks/code_*"
   ]
  },
  {
   "cell_type": "markdown",
   "metadata": {},
   "source": [
    "Convert tests"
   ]
  },
  {
   "cell_type": "code",
   "execution_count": null,
   "metadata": {},
   "outputs": [],
   "source": [
    "%%capture\n",
    "!jupyter nbconvert --output-dir='mutagenesis_visualization/tests/scripts' --to script mutagenesis_visualization/tests/notebooks/test_*"
   ]
  },
  {
   "cell_type": "markdown",
   "metadata": {},
   "source": [
    "# Convert the doc ipynb to rst files (and clean output)"
   ]
  },
  {
   "cell_type": "markdown",
   "metadata": {},
   "source": [
    "Clean output"
   ]
  },
  {
   "cell_type": "code",
   "execution_count": 1,
   "metadata": {
    "execution": {
     "iopub.execute_input": "2020-11-25T05:34:56.412707Z",
     "iopub.status.busy": "2020-11-25T05:34:56.412439Z",
     "iopub.status.idle": "2020-11-25T05:34:58.010819Z",
     "shell.execute_reply": "2020-11-25T05:34:58.010137Z",
     "shell.execute_reply.started": "2020-11-25T05:34:56.412678Z"
    }
   },
   "outputs": [],
   "source": [
    "%%capture\n",
    "!jupyter nbconvert --ClearOutputPreprocessor.enabled=True --clear-output --inplace mutagenesis_visualization/tutorial/doc*.ipynb"
   ]
  },
  {
   "cell_type": "markdown",
   "metadata": {},
   "source": [
    "Convert to rst"
   ]
  },
  {
   "cell_type": "code",
   "execution_count": 2,
   "metadata": {
    "execution": {
     "iopub.execute_input": "2020-11-25T05:34:58.048244Z",
     "iopub.status.busy": "2020-11-25T05:34:58.047886Z",
     "iopub.status.idle": "2020-11-25T05:35:04.253044Z",
     "shell.execute_reply": "2020-11-25T05:35:04.252073Z",
     "shell.execute_reply.started": "2020-11-25T05:34:58.048207Z"
    }
   },
   "outputs": [],
   "source": [
    "%%capture\n",
    "!jupyter nbconvert --output-dir='docs/' --to rst mutagenesis_visualization/tutorial/doc*.ipynb\n",
    "\n",
    "# edit image loading from doc0_intro.rst\n",
    "with open(\"docs/doc0_intro.rst\", \"r\") as f:\n",
    "    lines = f.readlines()\n",
    "with open(\"docs/doc0_intro.rst\", \"w\") as f:\n",
    "    for line in lines:\n",
    "        if line.strip(\"\\n\") == \".. |image1| image:: ../../docs/_static/workflow_v3.png\":\n",
    "            f.write(\".. |image1| image:: _static/workflow_v3.png\\n\")\n",
    "        else:\n",
    "            f.write(line)"
   ]
  },
  {
   "cell_type": "markdown",
   "metadata": {},
   "source": [
    "# Build documentation with Sphinx"
   ]
  },
  {
   "cell_type": "code",
   "execution_count": 28,
   "metadata": {
    "execution": {
     "iopub.execute_input": "2020-11-25T20:04:46.008619Z",
     "iopub.status.busy": "2020-11-25T20:04:46.008376Z",
     "iopub.status.idle": "2020-11-25T20:04:47.846737Z",
     "shell.execute_reply": "2020-11-25T20:04:47.845357Z",
     "shell.execute_reply.started": "2020-11-25T20:04:46.008592Z"
    }
   },
   "outputs": [
    {
     "name": "stdout",
     "output_type": "stream",
     "text": [
      "\u001b[01mRunning Sphinx v3.1.2\u001b[39;49;00m\n",
      "\u001b[01mloading pickled environment... \u001b[39;49;00mdone\n",
      "\u001b[01mbuilding [mo]: \u001b[39;49;00mtargets for 0 po files that are out of date\n",
      "\u001b[01mbuilding [html]: \u001b[39;49;00mtargets for 1 source files that are out of date\n",
      "\u001b[01mupdating environment: \u001b[39;49;00m0 added, 1 changed, 0 removed\n",
      "\u001b[01mreading sources... \u001b[39;49;00m[100%] \u001b[35mindex\u001b[39;49;00m                                                 \n",
      "\u001b[91m/Users/fx/Dropbox/AKuriyanLab/Code/Python/Python_Scripts/mv_repo/docs/index.rst:16: WARNING: duplicate label description, other instance in /Users/fx/Dropbox/AKuriyanLab/Code/Python/Python_Scripts/mv_repo/docs/overview.rst\u001b[39;49;00m\n",
      "\u001b[91m/Users/fx/Dropbox/AKuriyanLab/Code/Python/Python_Scripts/mv_repo/docs/index.rst:33: WARNING: duplicate label key features, other instance in /Users/fx/Dropbox/AKuriyanLab/Code/Python/Python_Scripts/mv_repo/docs/overview.rst\u001b[39;49;00m\n",
      "\u001b[01mlooking for now-outdated files... \u001b[39;49;00mnone found\n",
      "\u001b[01mpickling environment... \u001b[39;49;00mdone\n",
      "\u001b[01mchecking consistency... \u001b[39;49;00mdone\n",
      "\u001b[01mpreparing documents... \u001b[39;49;00mdone\n",
      "\u001b[01mwriting output... \u001b[39;49;00m[100%] \u001b[32mindex\u001b[39;49;00m                                                  \n",
      "\u001b[01mgenerating indices... \u001b[39;49;00m genindexdone\n",
      "\u001b[01mwriting additional pages... \u001b[39;49;00m searchdone\n",
      "\u001b[01mcopying images... \u001b[39;49;00m[100%] \u001b[33mimages/exported_images/user_experience_v2.png\u001b[39;49;00m          \n",
      "\u001b[01mcopying static files... ... \u001b[39;49;00mdone\n",
      "\u001b[01mcopying extra files... \u001b[39;49;00mdone\n",
      "\u001b[01mdumping search index in English (code: en)... \u001b[39;49;00mdone\n",
      "\u001b[01mdumping object inventory... \u001b[39;49;00mdone\n",
      "\u001b[01mbuild succeeded, 2 warnings.\u001b[39;49;00m\n",
      "\n",
      "The HTML pages are in build.\n"
     ]
    }
   ],
   "source": [
    "! python3 -m sphinx docs build"
   ]
  },
  {
   "cell_type": "markdown",
   "metadata": {},
   "source": [
    "# Run all tests"
   ]
  },
  {
   "cell_type": "code",
   "execution_count": null,
   "metadata": {},
   "outputs": [],
   "source": [
    "!python -m pytest mutagenesis_visualization/"
   ]
  },
  {
   "cell_type": "markdown",
   "metadata": {},
   "source": [
    "# Run Test by test"
   ]
  },
  {
   "cell_type": "markdown",
   "metadata": {},
   "source": [
    "## test_3D"
   ]
  },
  {
   "cell_type": "code",
   "execution_count": null,
   "metadata": {},
   "outputs": [],
   "source": [
    "!python -m pytest -s mutagenesis_visualization/tests/scripts/test_3D.py"
   ]
  },
  {
   "cell_type": "markdown",
   "metadata": {},
   "source": [
    "## test_pymol"
   ]
  },
  {
   "cell_type": "code",
   "execution_count": null,
   "metadata": {},
   "outputs": [],
   "source": [
    "!python -m pytest -s mutagenesis_visualization/tests/scripts/test_pymol.py"
   ]
  },
  {
   "cell_type": "markdown",
   "metadata": {},
   "source": [
    "## test_demo"
   ]
  },
  {
   "cell_type": "code",
   "execution_count": null,
   "metadata": {},
   "outputs": [],
   "source": [
    "!python -m pytest -s mutagenesis_visualization/tests/scripts/test_demo.py"
   ]
  },
  {
   "cell_type": "markdown",
   "metadata": {},
   "source": [
    "## test_kwargs"
   ]
  },
  {
   "cell_type": "code",
   "execution_count": null,
   "metadata": {},
   "outputs": [],
   "source": [
    "!python -m pytest mutagenesis_visualization/tests/scripts/test_kwargs.py"
   ]
  },
  {
   "cell_type": "markdown",
   "metadata": {},
   "source": [
    "## test_heatmaps"
   ]
  },
  {
   "cell_type": "code",
   "execution_count": null,
   "metadata": {},
   "outputs": [],
   "source": [
    "!python -m pytest mutagenesis_visualization/tests/scripts/test_heatmaps.py"
   ]
  },
  {
   "cell_type": "markdown",
   "metadata": {},
   "source": [
    "## test_process_data"
   ]
  },
  {
   "cell_type": "code",
   "execution_count": null,
   "metadata": {},
   "outputs": [],
   "source": [
    "!python -m pytest mutagenesis_visualization/tests/scripts/test_process_data.py"
   ]
  },
  {
   "cell_type": "markdown",
   "metadata": {},
   "source": [
    "## test_synthesis"
   ]
  },
  {
   "cell_type": "code",
   "execution_count": null,
   "metadata": {},
   "outputs": [],
   "source": [
    "!python -m pytest mutagenesis_visualization/tests/scripts/test_synthesis.py"
   ]
  },
  {
   "cell_type": "markdown",
   "metadata": {},
   "source": [
    "## test_utils"
   ]
  },
  {
   "cell_type": "code",
   "execution_count": null,
   "metadata": {},
   "outputs": [],
   "source": [
    "!python -m pytest mutagenesis_visualization/tests/scripts/test_utils.py"
   ]
  },
  {
   "cell_type": "markdown",
   "metadata": {},
   "source": [
    "## test_"
   ]
  },
  {
   "cell_type": "code",
   "execution_count": null,
   "metadata": {},
   "outputs": [],
   "source": [
    "import mutagenesis_visualization.__init__ as mt"
   ]
  },
  {
   "cell_type": "code",
   "execution_count": null,
   "metadata": {},
   "outputs": [],
   "source": [
    "mt.demo('mean')"
   ]
  },
  {
   "cell_type": "code",
   "execution_count": null,
   "metadata": {},
   "outputs": [],
   "source": [
    "mt.demo_datasets()"
   ]
  },
  {
   "cell_type": "code",
   "execution_count": null,
   "metadata": {},
   "outputs": [],
   "source": [
    "# #pip install git+https://github.com/fhidalgor/mutagenesis_visualization --use-feature=2020-resolver"
   ]
  },
  {
   "cell_type": "code",
   "execution_count": null,
   "metadata": {},
   "outputs": [],
   "source": [
    "pip install coverage"
   ]
  },
  {
   "cell_type": "code",
   "execution_count": null,
   "metadata": {},
   "outputs": [],
   "source": [
    "!coverage run -m pytest mutagenesis_visualization"
   ]
  },
  {
   "cell_type": "code",
   "execution_count": null,
   "metadata": {},
   "outputs": [],
   "source": []
  }
 ],
 "metadata": {
  "kernelspec": {
   "display_name": "Python 3",
   "language": "python",
   "name": "python3"
  },
  "language_info": {
   "codemirror_mode": {
    "name": "ipython",
    "version": 3
   },
   "file_extension": ".py",
   "mimetype": "text/x-python",
   "name": "python",
   "nbconvert_exporter": "python",
   "pygments_lexer": "ipython3",
   "version": "3.8.3"
  }
 },
 "nbformat": 4,
 "nbformat_minor": 4
}
